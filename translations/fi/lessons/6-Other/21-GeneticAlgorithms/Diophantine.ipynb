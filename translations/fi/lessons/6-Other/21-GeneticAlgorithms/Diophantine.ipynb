{
 "cells": [
  {
   "cell_type": "markdown",
   "metadata": {},
   "source": [
    "## Tehtävä: Diofanttiset yhtälöt\n",
    "\n",
    "> Tämä tehtävä on osa [AI for Beginners Curriculum](http://github.com/microsoft/ai-for-beginners) -ohjelmaa ja se on saanut inspiraationsa [tästä artikkelista](https://habr.com/post/128704/).\n",
    "\n",
    "Tavoitteenasi on ratkaista niin sanottu **Diofanttinen yhtälö** - yhtälö, jossa on kokonaislukuratkaisuja ja kokonaislukukertoimia. Esimerkiksi tarkastellaan seuraavaa yhtälöä:\n",
    "\n",
    "$$a+2b+3c+4d=30$$\n",
    "\n",
    "Sinun tulee löytää kokonaislukuratkaisut $a$,$b$,$c$,$d\\in\\mathbb{N}$, jotka täyttävät tämän yhtälön.\n",
    "\n",
    "Vinkkejä:\n",
    "1. Voit harkita ratkaisujen olevan välillä [0;30]\n",
    "1. Geeninä voit käyttää juurten arvojen listaa\n"
   ]
  },
  {
   "cell_type": "markdown",
   "metadata": {},
   "source": []
  },
  {
   "cell_type": "markdown",
   "metadata": {},
   "source": [
    "\n---\n\n**Vastuuvapauslauseke**:  \nTämä asiakirja on käännetty käyttämällä tekoälypohjaista käännöspalvelua [Co-op Translator](https://github.com/Azure/co-op-translator). Vaikka pyrimme tarkkuuteen, huomioithan, että automaattiset käännökset voivat sisältää virheitä tai epätarkkuuksia. Alkuperäinen asiakirja sen alkuperäisellä kielellä tulisi pitää ensisijaisena lähteenä. Kriittisen tiedon osalta suositellaan ammattimaista ihmiskäännöstä. Emme ole vastuussa väärinkäsityksistä tai virhetulkinnoista, jotka johtuvat tämän käännöksen käytöstä.\n"
   ]
  }
 ],
 "metadata": {
  "language_info": {
   "name": "python"
  },
  "orig_nbformat": 4,
  "coopTranslator": {
   "original_hash": "a967e1fa1e11ab2b6467b19349a4a9aa",
   "translation_date": "2025-08-28T20:14:34+00:00",
   "source_file": "lessons/6-Other/21-GeneticAlgorithms/Diophantine.ipynb",
   "language_code": "fi"
  }
 },
 "nbformat": 4,
 "nbformat_minor": 2
}