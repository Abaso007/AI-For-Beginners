{
 "cells": [
  {
   "cell_type": "markdown",
   "metadata": {},
   "source": [
    "# Trenowanie RL do balansowania na Cartpole\n",
    "\n",
    "Ten notatnik jest częścią [Kursu AI dla Początkujących](http://aka.ms/ai-beginners). Został zainspirowany przez [oficjalny samouczek PyTorch](https://pytorch.org/tutorials/intermediate/reinforcement_q_learning.html) oraz [tę implementację Cartpole w PyTorch](https://github.com/yc930401/Actor-Critic-pytorch).\n",
    "\n",
    "W tym przykładzie użyjemy RL, aby wytrenować model do balansowania drążka na wózku, który może poruszać się w lewo i w prawo po poziomej skali. Wykorzystamy środowisko [OpenAI Gym](https://www.gymlibrary.ml/) do symulacji drążka.\n",
    "\n",
    "> **Note**: Możesz uruchomić kod z tej lekcji lokalnie (np. w Visual Studio Code), w takim przypadku symulacja otworzy się w nowym oknie. Jeśli uruchamiasz kod online, może być konieczne wprowadzenie pewnych zmian w kodzie, jak opisano [tutaj](https://towardsdatascience.com/rendering-openai-gym-envs-on-binder-and-google-colab-536f99391cc7).\n",
    "\n",
    "Zaczniemy od upewnienia się, że Gym jest zainstalowany:\n"
   ]
  },
  {
   "cell_type": "code",
   "execution_count": null,
   "metadata": {},
   "outputs": [],
   "source": [
    "import sys\n",
    "!{sys.executable} -m pip install gym"
   ]
  },
  {
   "cell_type": "markdown",
   "metadata": {},
   "source": [
    "Teraz stwórzmy środowisko CartPole i zobaczmy, jak na nim operować. Środowisko ma następujące właściwości:\n",
    "\n",
    "* **Action space** to zbiór możliwych akcji, które możemy wykonać na każdym kroku symulacji  \n",
    "* **Observation space** to przestrzeń obserwacji, które możemy dokonać  \n"
   ]
  },
  {
   "cell_type": "code",
   "execution_count": null,
   "metadata": {},
   "outputs": [],
   "source": [
    "import gym\n",
    "\n",
    "env = gym.make(\"CartPole-v1\")\n",
    "\n",
    "print(f\"Action space: {env.action_space}\")\n",
    "print(f\"Observation space: {env.observation_space}\")"
   ]
  },
  {
   "cell_type": "markdown",
   "metadata": {},
   "source": [
    "Zobaczmy, jak działa symulacja. Poniższa pętla uruchamia symulację, dopóki `env.step` nie zwróci flagi zakończenia `done`. Będziemy losowo wybierać akcje za pomocą `env.action_space.sample()`, co oznacza, że eksperyment prawdopodobnie zakończy się bardzo szybko niepowodzeniem (środowisko CartPole kończy się, gdy prędkość CartPole, jego pozycja lub kąt wykraczają poza określone limity).\n",
    "\n",
    "> Symulacja otworzy się w nowym oknie. Możesz uruchomić kod kilka razy i zobaczyć, jak się zachowuje.\n"
   ]
  },
  {
   "cell_type": "code",
   "execution_count": null,
   "metadata": {},
   "outputs": [],
   "source": [
    "env.reset()\n",
    "\n",
    "done = False\n",
    "total_reward = 0\n",
    "while not done:\n",
    "   env.render()\n",
    "   obs, rew, done, info = env.step(env.action_space.sample())\n",
    "   total_reward += rew\n",
    "   print(f\"{obs} -> {rew}\")\n",
    "print(f\"Total reward: {total_reward}\")"
   ]
  },
  {
   "cell_type": "markdown",
   "metadata": {},
   "source": [
    "Możesz zauważyć, że obserwacje zawierają 4 liczby. Są to:\n",
    "- Pozycja wózka\n",
    "- Prędkość wózka\n",
    "- Kąt drążka\n",
    "- Szybkość obrotu drążka\n",
    "\n",
    "`rew` to nagroda, którą otrzymujemy na każdym kroku. W środowisku CartPole otrzymujesz 1 punkt za każdy krok symulacji, a celem jest maksymalizacja całkowitej nagrody, czyli czasu, przez który CartPole potrafi utrzymać równowagę bez przewrócenia się.\n",
    "\n",
    "Podczas uczenia ze wzmocnieniem naszym celem jest wytrenowanie **polityki** $\\pi$, która dla każdego stanu $s$ powie nam, jaką akcję $a$ należy podjąć, czyli zasadniczo $a = \\pi(s)$.\n",
    "\n",
    "Jeśli chcesz podejścia probabilistycznego, możesz traktować politykę jako zwracającą zestaw prawdopodobieństw dla każdej akcji, czyli $\\pi(a|s)$ oznaczałoby prawdopodobieństwo, że powinniśmy podjąć akcję $a$ w stanie $s$.\n",
    "\n",
    "## Metoda Gradientu Polityki\n",
    "\n",
    "W najprostszym algorytmie RL, zwanym **Gradientem Polityki**, będziemy trenować sieć neuronową do przewidywania kolejnej akcji.\n"
   ]
  },
  {
   "cell_type": "code",
   "execution_count": null,
   "metadata": {},
   "outputs": [],
   "source": [
    "import numpy as np\n",
    "import matplotlib.pyplot as plt\n",
    "import torch\n",
    "\n",
    "num_inputs = 4\n",
    "num_actions = 2\n",
    "\n",
    "model = torch.nn.Sequential(\n",
    "    torch.nn.Linear(num_inputs, 128, bias=False, dtype=torch.float32),\n",
    "    torch.nn.ReLU(),\n",
    "    torch.nn.Linear(128, num_actions, bias = False, dtype=torch.float32),\n",
    "    torch.nn.Softmax(dim=1)\n",
    ")"
   ]
  },
  {
   "cell_type": "markdown",
   "metadata": {},
   "source": [
    "Będziemy trenować sieć, przeprowadzając wiele eksperymentów i aktualizując naszą sieć po każdym uruchomieniu. Zdefiniujmy funkcję, która przeprowadzi eksperyment i zwróci wyniki (tzw. **ślad**) - wszystkie stany, akcje (i ich zalecane prawdopodobieństwa) oraz nagrody:\n"
   ]
  },
  {
   "cell_type": "code",
   "execution_count": null,
   "metadata": {},
   "outputs": [],
   "source": [
    "def run_episode(max_steps_per_episode = 10000,render=False):    \n",
    "    states, actions, probs, rewards = [],[],[],[]\n",
    "    state = env.reset()\n",
    "    for _ in range(max_steps_per_episode):\n",
    "        if render:\n",
    "            env.render()\n",
    "        action_probs = model(torch.from_numpy(np.expand_dims(state,0)))[0]\n",
    "        action = np.random.choice(num_actions, p=np.squeeze(action_probs.detach().numpy()))\n",
    "        nstate, reward, done, info = env.step(action)\n",
    "        if done:\n",
    "            break\n",
    "        states.append(state)\n",
    "        actions.append(action)\n",
    "        probs.append(action_probs.detach().numpy())\n",
    "        rewards.append(reward)\n",
    "        state = nstate\n",
    "    return np.vstack(states), np.vstack(actions), np.vstack(probs), np.vstack(rewards)"
   ]
  },
  {
   "cell_type": "markdown",
   "metadata": {},
   "source": [
    "Możesz uruchomić jeden epizod z nieprzeszkoloną siecią i zaobserwować, że całkowita nagroda (czyli długość epizodu) jest bardzo niska:\n"
   ]
  },
  {
   "cell_type": "code",
   "execution_count": null,
   "metadata": {},
   "outputs": [],
   "source": [
    "s, a, p, r = run_episode()\n",
    "print(f\"Total reward: {np.sum(r)}\")"
   ]
  },
  {
   "cell_type": "markdown",
   "metadata": {},
   "source": [
    "Jednym z trudnych aspektów algorytmu gradientu polityki jest użycie **zdyskontowanych nagród**. Pomysł polega na obliczeniu wektora całkowitych nagród na każdym kroku gry, a podczas tego procesu dyskontujemy wcześniejsze nagrody za pomocą współczynnika $gamma$. Normalizujemy również wynikowy wektor, ponieważ będziemy go używać jako wagi wpływającej na nasze szkolenie:\n"
   ]
  },
  {
   "cell_type": "code",
   "execution_count": null,
   "metadata": {},
   "outputs": [],
   "source": [
    "eps = 0.0001\n",
    "\n",
    "def discounted_rewards(rewards,gamma=0.99,normalize=True):\n",
    "    ret = []\n",
    "    s = 0\n",
    "    for r in rewards[::-1]:\n",
    "        s = r + gamma * s\n",
    "        ret.insert(0, s)\n",
    "    if normalize:\n",
    "        ret = (ret-np.mean(ret))/(np.std(ret)+eps)\n",
    "    return ret"
   ]
  },
  {
   "cell_type": "markdown",
   "metadata": {},
   "source": [
    "Teraz przejdźmy do właściwego treningu! Przeprowadzimy 300 epizodów, a w każdym z nich wykonamy następujące kroki:\n",
    "\n",
    "1. Uruchom eksperyment i zbierz ślad.\n",
    "2. Oblicz różnicę (`gradients`) między podjętymi działaniami a przewidywanymi prawdopodobieństwami. Im mniejsza różnica, tym bardziej jesteśmy pewni, że podjęliśmy właściwe działanie.\n",
    "3. Oblicz zdyskontowane nagrody i pomnóż gradienty przez zdyskontowane nagrody - to zapewni, że kroki z wyższymi nagrodami będą miały większy wpływ na ostateczny wynik niż te z niższymi nagrodami.\n",
    "4. Oczekiwane docelowe działania dla naszej sieci neuronowej będą częściowo pochodzić z przewidywanych prawdopodobieństw podczas eksperymentu, a częściowo z obliczonych gradientów. Użyjemy parametru `alpha`, aby określić, w jakim stopniu gradienty i nagrody są brane pod uwagę - nazywa się to *współczynnikiem uczenia* algorytmu wzmacniającego.\n",
    "5. Na koniec trenujemy naszą sieć na stanach i oczekiwanych działaniach, a następnie powtarzamy proces.\n"
   ]
  },
  {
   "cell_type": "code",
   "execution_count": null,
   "metadata": {},
   "outputs": [],
   "source": [
    "optimizer = torch.optim.Adam(model.parameters(), lr=0.01)\n",
    "\n",
    "def train_on_batch(x, y):\n",
    "    x = torch.from_numpy(x)\n",
    "    y = torch.from_numpy(y)\n",
    "    optimizer.zero_grad()\n",
    "    predictions = model(x)\n",
    "    loss = -torch.mean(torch.log(predictions) * y)\n",
    "    loss.backward()\n",
    "    optimizer.step()\n",
    "    return loss"
   ]
  },
  {
   "cell_type": "code",
   "execution_count": null,
   "metadata": {},
   "outputs": [],
   "source": [
    "alpha = 1e-4\n",
    "\n",
    "history = []\n",
    "for epoch in range(300):\n",
    "    states, actions, probs, rewards = run_episode()\n",
    "    one_hot_actions = np.eye(2)[actions.T][0]\n",
    "    gradients = one_hot_actions-probs\n",
    "    dr = discounted_rewards(rewards)\n",
    "    gradients *= dr\n",
    "    target = alpha*np.vstack([gradients])+probs\n",
    "    train_on_batch(states,target)\n",
    "    history.append(np.sum(rewards))\n",
    "    if epoch%100==0:\n",
    "        print(f\"{epoch} -> {np.sum(rewards)}\")\n",
    "\n",
    "plt.plot(history)"
   ]
  },
  {
   "cell_type": "markdown",
   "metadata": {},
   "source": [
    "Teraz uruchommy odcinek z renderowaniem, aby zobaczyć wynik:\n"
   ]
  },
  {
   "cell_type": "code",
   "execution_count": null,
   "metadata": {},
   "outputs": [],
   "source": [
    "_ = run_episode(render=True)"
   ]
  },
  {
   "cell_type": "markdown",
   "metadata": {},
   "source": [
    "Mam nadzieję, że teraz widać, że drążek potrafi całkiem dobrze utrzymać równowagę!\n",
    "\n",
    "## Model Aktor-Krytyk\n",
    "\n",
    "Model Aktor-Krytyk to rozwinięcie metod gradientów polityki, w którym budujemy sieć neuronową, aby nauczyć się zarówno polityki, jak i szacowanych nagród. Sieć będzie miała dwa wyjścia (lub można ją traktować jako dwie oddzielne sieci):\n",
    "* **Aktor** będzie rekomendował akcję do podjęcia, dostarczając nam rozkład prawdopodobieństwa stanów, podobnie jak w modelu gradientów polityki.\n",
    "* **Krytyk** oszacuje, jakie nagrody można uzyskać z tych akcji. Zwraca całkowite szacowane nagrody w przyszłości dla danego stanu.\n",
    "\n",
    "Zdefiniujmy taki model:\n"
   ]
  },
  {
   "cell_type": "code",
   "execution_count": null,
   "metadata": {},
   "outputs": [],
   "source": [
    "from itertools import count\n",
    "import torch.nn.functional as F"
   ]
  },
  {
   "cell_type": "code",
   "execution_count": null,
   "metadata": {},
   "outputs": [],
   "source": [
    "device = torch.device(\"cuda\" if torch.cuda.is_available() else \"cpu\")\n",
    "env = gym.make(\"CartPole-v1\")\n",
    "\n",
    "state_size = env.observation_space.shape[0]\n",
    "action_size = env.action_space.n\n",
    "lr = 0.0001\n",
    "\n",
    "class Actor(torch.nn.Module):\n",
    "    def __init__(self, state_size, action_size):\n",
    "        super(Actor, self).__init__()\n",
    "        self.state_size = state_size\n",
    "        self.action_size = action_size\n",
    "        self.linear1 = torch.nn.Linear(self.state_size, 128)\n",
    "        self.linear2 = torch.nn.Linear(128, 256)\n",
    "        self.linear3 = torch.nn.Linear(256, self.action_size)\n",
    "\n",
    "    def forward(self, state):\n",
    "        output = F.relu(self.linear1(state))\n",
    "        output = F.relu(self.linear2(output))\n",
    "        output = self.linear3(output)\n",
    "        distribution = torch.distributions.Categorical(F.softmax(output, dim=-1))\n",
    "        return distribution\n",
    "\n",
    "\n",
    "class Critic(torch.nn.Module):\n",
    "    def __init__(self, state_size, action_size):\n",
    "        super(Critic, self).__init__()\n",
    "        self.state_size = state_size\n",
    "        self.action_size = action_size\n",
    "        self.linear1 = torch.nn.Linear(self.state_size, 128)\n",
    "        self.linear2 = torch.nn.Linear(128, 256)\n",
    "        self.linear3 = torch.nn.Linear(256, 1)\n",
    "\n",
    "    def forward(self, state):\n",
    "        output = F.relu(self.linear1(state))\n",
    "        output = F.relu(self.linear2(output))\n",
    "        value = self.linear3(output)\n",
    "        return value"
   ]
  },
  {
   "cell_type": "markdown",
   "metadata": {},
   "source": [
    "Musielibyśmy nieco zmodyfikować nasze funkcje `discounted_rewards` i `run_episode`:\n"
   ]
  },
  {
   "cell_type": "code",
   "execution_count": null,
   "metadata": {},
   "outputs": [],
   "source": [
    "def discounted_rewards(next_value, rewards, masks, gamma=0.99):\n",
    "    R = next_value\n",
    "    returns = []\n",
    "    for step in reversed(range(len(rewards))):\n",
    "        R = rewards[step] + gamma * R * masks[step]\n",
    "        returns.insert(0, R)\n",
    "    return returns\n",
    "\n",
    "def run_episode(actor, critic, n_iters):\n",
    "    optimizerA = torch.optim.Adam(actor.parameters())\n",
    "    optimizerC = torch.optim.Adam(critic.parameters())\n",
    "    for iter in range(n_iters):\n",
    "        state = env.reset()\n",
    "        log_probs = []\n",
    "        values = []\n",
    "        rewards = []\n",
    "        masks = []\n",
    "        entropy = 0\n",
    "        env.reset()\n",
    "\n",
    "        for i in count():\n",
    "            env.render()\n",
    "            state = torch.FloatTensor(state).to(device)\n",
    "            dist, value = actor(state), critic(state)\n",
    "\n",
    "            action = dist.sample()\n",
    "            next_state, reward, done, _ = env.step(action.cpu().numpy())\n",
    "\n",
    "            log_prob = dist.log_prob(action).unsqueeze(0)\n",
    "            entropy += dist.entropy().mean()\n",
    "\n",
    "            log_probs.append(log_prob)\n",
    "            values.append(value)\n",
    "            rewards.append(torch.tensor([reward], dtype=torch.float, device=device))\n",
    "            masks.append(torch.tensor([1-done], dtype=torch.float, device=device))\n",
    "\n",
    "            state = next_state\n",
    "\n",
    "            if done:\n",
    "                print('Iteration: {}, Score: {}'.format(iter, i))\n",
    "                break\n",
    "\n",
    "\n",
    "        next_state = torch.FloatTensor(next_state).to(device)\n",
    "        next_value = critic(next_state)\n",
    "        returns = discounted_rewards(next_value, rewards, masks)\n",
    "\n",
    "        log_probs = torch.cat(log_probs)\n",
    "        returns = torch.cat(returns).detach()\n",
    "        values = torch.cat(values)\n",
    "\n",
    "        advantage = returns - values\n",
    "\n",
    "        actor_loss = -(log_probs * advantage.detach()).mean()\n",
    "        critic_loss = advantage.pow(2).mean()\n",
    "\n",
    "        optimizerA.zero_grad()\n",
    "        optimizerC.zero_grad()\n",
    "        actor_loss.backward()\n",
    "        critic_loss.backward()\n",
    "        optimizerA.step()\n",
    "        optimizerC.step()\n"
   ]
  },
  {
   "cell_type": "markdown",
   "metadata": {},
   "source": [
    "Teraz uruchomimy główną pętlę treningową. Użyjemy ręcznego procesu treningu sieci, obliczając odpowiednie funkcje strat i aktualizując parametry sieci:\n"
   ]
  },
  {
   "cell_type": "code",
   "execution_count": null,
   "metadata": {},
   "outputs": [],
   "source": [
    "\n",
    "actor = Actor(state_size, action_size).to(device)\n",
    "critic = Critic(state_size, action_size).to(device)\n",
    "run_episode(actor, critic, n_iters=100)"
   ]
  },
  {
   "cell_type": "markdown",
   "metadata": {},
   "source": []
  },
  {
   "cell_type": "code",
   "execution_count": null,
   "metadata": {},
   "outputs": [],
   "source": [
    "env.close()"
   ]
  },
  {
   "cell_type": "markdown",
   "metadata": {},
   "source": [
    "## Kluczowe informacje\n",
    "\n",
    "W tym demo zapoznaliśmy się z dwoma algorytmami uczenia ze wzmocnieniem: prostym gradientem polityki oraz bardziej zaawansowanym aktor-krytyk. Możesz zauważyć, że te algorytmy operują na abstrakcyjnych pojęciach stanu, akcji i nagrody – dzięki temu mogą być stosowane w bardzo różnych środowiskach.\n",
    "\n",
    "Uczenie ze wzmocnieniem pozwala nam znaleźć najlepszą strategię rozwiązania problemu, analizując jedynie końcową nagrodę. Fakt, że nie potrzebujemy oznakowanych zbiorów danych, umożliwia wielokrotne powtarzanie symulacji w celu optymalizacji naszych modeli. Niemniej jednak, wciąż istnieje wiele wyzwań w obszarze RL, o których możesz się dowiedzieć, jeśli zdecydujesz się bardziej zgłębić tę fascynującą dziedzinę sztucznej inteligencji.\n"
   ]
  },
  {
   "cell_type": "markdown",
   "metadata": {},
   "source": [
    "\n---\n\n**Zastrzeżenie**:  \nTen dokument został przetłumaczony za pomocą usługi tłumaczenia AI [Co-op Translator](https://github.com/Azure/co-op-translator). Chociaż dokładamy wszelkich starań, aby tłumaczenie było precyzyjne, prosimy pamiętać, że automatyczne tłumaczenia mogą zawierać błędy lub nieścisłości. Oryginalny dokument w jego rodzimym języku powinien być uznawany za wiarygodne źródło. W przypadku informacji o kluczowym znaczeniu zaleca się skorzystanie z profesjonalnego tłumaczenia przez człowieka. Nie ponosimy odpowiedzialności za jakiekolwiek nieporozumienia lub błędne interpretacje wynikające z użycia tego tłumaczenia.\n"
   ]
  }
 ],
 "metadata": {
  "kernelspec": {
   "display_name": "Python 3.10.4 64-bit",
   "language": "python",
   "name": "python3"
  },
  "language_info": {
   "codemirror_mode": {
    "name": "ipython",
    "version": 3
   },
   "file_extension": ".py",
   "mimetype": "text/x-python",
   "name": "python",
   "nbconvert_exporter": "python",
   "pygments_lexer": "ipython3",
   "version": "3.10.4"
  },
  "orig_nbformat": 4,
  "vscode": {
   "interpreter": {
    "hash": "916dbcbb3f70747c44a77c7bcd40155683ae19c65e1c03b4aa3499c5328201f1"
   }
  },
  "coopTranslator": {
   "original_hash": "04f8d9978cd11281d81dd037cbf6ce20",
   "translation_date": "2025-08-31T12:31:40+00:00",
   "source_file": "lessons/6-Other/22-DeepRL/CartPole-RL-PyTorch.ipynb",
   "language_code": "pl"
  }
 },
 "nbformat": 4,
 "nbformat_minor": 2
}