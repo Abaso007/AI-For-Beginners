{
 "cells": [
  {
   "cell_type": "markdown",
   "metadata": {},
   "source": [
    "## Zadanie: Równania Diofantyczne\n",
    "\n",
    "> To zadanie jest częścią [Kursu AI dla Początkujących](http://github.com/microsoft/ai-for-beginners) i zostało zainspirowane [tym artykułem](https://habr.com/post/128704/).\n",
    "\n",
    "Twoim celem jest rozwiązanie tzw. **równania Diofantycznego** - równania z całkowitymi pierwiastkami i całkowitymi współczynnikami. Na przykład, rozważ następujące równanie:\n",
    "\n",
    "$$a+2b+3c+4d=30$$\n",
    "\n",
    "Musisz znaleźć całkowite pierwiastki $a$,$b$,$c$,$d\\in\\mathbb{N}$, które spełniają to równanie.\n",
    "\n",
    "Wskazówki:\n",
    "1. Możesz rozważyć pierwiastki w przedziale [0;30]\n",
    "1. Jako gen, rozważ użycie listy wartości pierwiastków\n"
   ]
  },
  {
   "cell_type": "markdown",
   "metadata": {},
   "source": []
  },
  {
   "cell_type": "markdown",
   "metadata": {},
   "source": [
    "\n---\n\n**Zastrzeżenie**:  \nTen dokument został przetłumaczony za pomocą usługi tłumaczenia AI [Co-op Translator](https://github.com/Azure/co-op-translator). Chociaż dokładamy wszelkich starań, aby tłumaczenie było precyzyjne, prosimy pamiętać, że automatyczne tłumaczenia mogą zawierać błędy lub nieścisłości. Oryginalny dokument w jego rodzimym języku powinien być uznawany za wiarygodne źródło. W przypadku informacji o kluczowym znaczeniu zaleca się skorzystanie z profesjonalnego tłumaczenia przez człowieka. Nie ponosimy odpowiedzialności za jakiekolwiek nieporozumienia lub błędne interpretacje wynikające z użycia tego tłumaczenia.\n"
   ]
  }
 ],
 "metadata": {
  "language_info": {
   "name": "python"
  },
  "orig_nbformat": 4,
  "coopTranslator": {
   "original_hash": "a967e1fa1e11ab2b6467b19349a4a9aa",
   "translation_date": "2025-08-31T12:25:50+00:00",
   "source_file": "lessons/6-Other/21-GeneticAlgorithms/Diophantine.ipynb",
   "language_code": "pl"
  }
 },
 "nbformat": 4,
 "nbformat_minor": 2
}