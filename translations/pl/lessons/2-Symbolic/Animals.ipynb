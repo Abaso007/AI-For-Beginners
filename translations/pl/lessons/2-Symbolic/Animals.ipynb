{
 "cells": [
  {
   "cell_type": "markdown",
   "metadata": {
    "collapsed": true
   },
   "source": [
    "# Implementacja Eksperckiego Systemu dla Zwierząt\n",
    "\n",
    "Przykład z [AI for Beginners Curriculum](http://github.com/microsoft/ai-for-beginners).\n",
    "\n",
    "W tym przykładzie zaimplementujemy prosty system oparty na wiedzy, który pozwala określić zwierzę na podstawie jego cech fizycznych. System można przedstawić za pomocą następującego drzewa AND-OR (to tylko część całego drzewa, łatwo możemy dodać więcej reguł):\n",
    "\n",
    "![](../../../../lessons/2-Symbolic/images/AND-OR-Tree.png)\n"
   ]
  },
  {
   "cell_type": "markdown",
   "metadata": {},
   "source": [
    "## Nasza własna powłoka systemów eksperckich z wnioskowaniem wstecznym\n",
    "\n",
    "Spróbujmy zdefiniować prosty język do reprezentacji wiedzy oparty na regułach produkcji. Użyjemy klas Pythona jako słów kluczowych do definiowania reguł. Będą zasadniczo 3 typy klas:\n",
    "* `Ask` reprezentuje pytanie, które należy zadać użytkownikowi. Zawiera zestaw możliwych odpowiedzi.\n",
    "* `If` reprezentuje regułę i jest jedynie syntaktycznym ułatwieniem do przechowywania treści reguły.\n",
    "* `AND`/`OR` to klasy reprezentujące gałęzie AND/OR drzewa. Przechowują jedynie listę argumentów w środku. Aby uprościć kod, cała funkcjonalność jest zdefiniowana w klasie nadrzędnej `Content`.\n"
   ]
  },
  {
   "cell_type": "code",
   "execution_count": 1,
   "metadata": {
    "trusted": true
   },
   "outputs": [],
   "source": [
    "class Ask():\n",
    "    def __init__(self,choices=['y','n']):\n",
    "        self.choices = choices\n",
    "    def ask(self):\n",
    "        if max([len(x) for x in self.choices])>1:\n",
    "            for i,x in enumerate(self.choices):\n",
    "                print(\"{0}. {1}\".format(i,x),flush=True)\n",
    "            x = int(input())\n",
    "            return self.choices[x]\n",
    "        else:\n",
    "            print(\"/\".join(self.choices),flush=True)\n",
    "            return input()\n",
    "\n",
    "class Content():\n",
    "    def __init__(self,x):\n",
    "        self.x=x\n",
    "        \n",
    "class If(Content):\n",
    "    pass\n",
    "\n",
    "class AND(Content):\n",
    "    pass\n",
    "\n",
    "class OR(Content):\n",
    "    pass"
   ]
  },
  {
   "cell_type": "markdown",
   "metadata": {},
   "source": [
    "W naszym systemie pamięć robocza zawierałaby listę **faktów** jako **pary atrybut-wartość**. Bazę wiedzy można zdefiniować jako jeden duży słownik, który mapuje działania (nowe fakty, które powinny zostać wprowadzone do pamięci roboczej) na warunki, wyrażone jako wyrażenia AND-OR. Ponadto niektóre fakty mogą być `Zapytane`.\n"
   ]
  },
  {
   "cell_type": "code",
   "execution_count": 2,
   "metadata": {
    "trusted": true
   },
   "outputs": [],
   "source": [
    "rules = {\n",
    "    'default': Ask(['y','n']),\n",
    "    'color' : Ask(['red-brown','black and white','other']),\n",
    "    'pattern' : Ask(['dark stripes','dark spots']),\n",
    "    'mammal': If(OR(['hair','gives milk'])),\n",
    "    'carnivor': If(OR([AND(['sharp teeth','claws','forward-looking eyes']),'eats meat'])),\n",
    "    'ungulate': If(['mammal',OR(['has hooves','chews cud'])]),\n",
    "    'bird': If(OR(['feathers',AND(['flies','lies eggs'])])),\n",
    "    'animal:monkey' : If(['mammal','carnivor','color:red-brown','pattern:dark spots']),\n",
    "    'animal:tiger' : If(['mammal','carnivor','color:red-brown','pattern:dark stripes']),\n",
    "    'animal:giraffe' : If(['ungulate','long neck','long legs','pattern:dark spots']),\n",
    "    'animal:zebra' : If(['ungulate','pattern:dark stripes']),\n",
    "    'animal:ostrich' : If(['bird','long nech','color:black and white','cannot fly']),\n",
    "    'animal:pinguin' : If(['bird','swims','color:black and white','cannot fly']),\n",
    "    'animal:albatross' : If(['bird','flies well'])\n",
    "}"
   ]
  },
  {
   "cell_type": "markdown",
   "metadata": {},
   "source": [
    "Aby przeprowadzić wnioskowanie wsteczne, zdefiniujemy klasę `Knowledgebase`. Będzie ona zawierać:\n",
    "* `Pamięć roboczą` - słownik, który mapuje atrybuty na wartości\n",
    "* `Zasady bazy wiedzy` w formacie zdefiniowanym powyżej\n",
    "\n",
    "Dwa główne metody to:\n",
    "* `get`, aby uzyskać wartość atrybutu, wykonując w razie potrzeby wnioskowanie. Na przykład, `get('color')` pobierze wartość dla slotu koloru (jeśli zajdzie potrzeba, zapyta o wartość i zapisze ją do późniejszego użycia w pamięci roboczej). Jeśli zapytamy `get('color:blue')`, zapyta o kolor, a następnie zwróci wartość `y`/`n` w zależności od koloru.\n",
    "* `eval` wykonuje rzeczywiste wnioskowanie, czyli przechodzi przez drzewo AND/OR, ocenia podcele, itd.\n"
   ]
  },
  {
   "cell_type": "code",
   "execution_count": 3,
   "metadata": {
    "trusted": true
   },
   "outputs": [],
   "source": [
    "class KnowledgeBase():\n",
    "    def __init__(self,rules):\n",
    "        self.rules = rules\n",
    "        self.memory = {}\n",
    "        \n",
    "    def get(self,name):\n",
    "        if ':' in name:\n",
    "            k,v = name.split(':')\n",
    "            vv = self.get(k)\n",
    "            return 'y' if v==vv else 'n'\n",
    "        if name in self.memory.keys():\n",
    "            return self.memory[name]\n",
    "        for fld in self.rules.keys():\n",
    "            if fld==name or fld.startswith(name+\":\"):\n",
    "                # print(\" + proving {}\".format(fld))\n",
    "                value = 'y' if fld==name else fld.split(':')[1]\n",
    "                res = self.eval(self.rules[fld],field=name)\n",
    "                if res!='y' and res!='n' and value=='y':\n",
    "                    self.memory[name] = res\n",
    "                    return res\n",
    "                if res=='y':\n",
    "                    self.memory[name] = value\n",
    "                    return value\n",
    "        # field is not found, using default\n",
    "        res = self.eval(self.rules['default'],field=name)\n",
    "        self.memory[name]=res\n",
    "        return res\n",
    "                \n",
    "    def eval(self,expr,field=None):\n",
    "        # print(\" + eval {}\".format(expr))\n",
    "        if isinstance(expr,Ask):\n",
    "            print(field)\n",
    "            return expr.ask()\n",
    "        elif isinstance(expr,If):\n",
    "            return self.eval(expr.x)\n",
    "        elif isinstance(expr,AND) or isinstance(expr,list):\n",
    "            expr = expr.x if isinstance(expr,AND) else expr\n",
    "            for x in expr:\n",
    "                if self.eval(x)=='n':\n",
    "                    return 'n'\n",
    "            return 'y'\n",
    "        elif isinstance(expr,OR):\n",
    "            for x in expr.x:\n",
    "                if self.eval(x)=='y':\n",
    "                    return 'y'\n",
    "            return 'n'\n",
    "        elif isinstance(expr,str):\n",
    "            return self.get(expr)\n",
    "        else:\n",
    "            print(\"Unknown expr: {}\".format(expr))"
   ]
  },
  {
   "cell_type": "markdown",
   "metadata": {},
   "source": [
    "Teraz zdefiniujmy naszą bazę wiedzy o zwierzętach i przeprowadźmy konsultację. Zauważ, że to wywołanie będzie zadawać Ci pytania. Możesz odpowiadać, wpisując `y`/`n` na pytania tak/nie lub podając liczbę (0..N) na pytania z dłuższymi odpowiedziami wielokrotnego wyboru.\n"
   ]
  },
  {
   "cell_type": "code",
   "execution_count": 4,
   "metadata": {
    "trusted": true
   },
   "outputs": [
    {
     "name": "stdout",
     "output_type": "stream",
     "text": [
      "hair\n",
      "y/n\n",
      "sharp teeth\n",
      "y/n\n",
      "claws\n",
      "y/n\n",
      "forward-looking eyes\n",
      "y/n\n",
      "color\n",
      "0. red-brown\n",
      "1. black and white\n",
      "2. other\n",
      "has hooves\n",
      "y/n\n",
      "long neck\n",
      "y/n\n",
      "long legs\n",
      "y/n\n",
      "pattern\n",
      "0. dark stripes\n",
      "1. dark spots\n"
     ]
    },
    {
     "data": {
      "text/plain": [
       "'giraffe'"
      ]
     },
     "execution_count": 4,
     "metadata": {},
     "output_type": "execute_result"
    }
   ],
   "source": [
    "kb = KnowledgeBase(rules)\n",
    "kb.get('animal')"
   ]
  },
  {
   "cell_type": "markdown",
   "metadata": {},
   "source": [
    "## Korzystanie z PyKnow do wnioskowania w przód\n",
    "\n",
    "W poniższym przykładzie spróbujemy zaimplementować wnioskowanie w przód, korzystając z jednej z bibliotek do reprezentacji wiedzy, [PyKnow](https://github.com/buguroo/pyknow/). **PyKnow** to biblioteka do tworzenia systemów wnioskowania w przód w Pythonie, zaprojektowana w sposób przypominający klasyczny, starszy system [CLIPS](http://www.clipsrules.net/index.html).\n",
    "\n",
    "Moglibyśmy również zaimplementować wnioskowanie w przód samodzielnie bez większych trudności, ale naiwne implementacje zazwyczaj nie są zbyt wydajne. Do bardziej efektywnego dopasowywania reguł używa się specjalnego algorytmu [Rete](https://en.wikipedia.org/wiki/Rete_algorithm).\n"
   ]
  },
  {
   "cell_type": "code",
   "execution_count": 5,
   "metadata": {
    "trusted": true
   },
   "outputs": [
    {
     "name": "stdout",
     "output_type": "stream",
     "text": [
      "Collecting git+https://github.com/buguroo/pyknow/\n",
      "  Cloning https://github.com/buguroo/pyknow/ to /tmp/pip-req-build-3cqeulyl\n",
      "  Running command git clone --filter=blob:none --quiet https://github.com/buguroo/pyknow/ /tmp/pip-req-build-3cqeulyl\n",
      "  Resolved https://github.com/buguroo/pyknow/ to commit 48818336f2e9a126f1964f2d8dc22d37ff800fe8\n",
      "  Preparing metadata (setup.py) ... \u001b[?25ldone\n",
      "\u001b[?25hCollecting frozendict==1.2\n",
      "  Using cached frozendict-1.2.tar.gz (2.6 kB)\n",
      "  Preparing metadata (setup.py) ... \u001b[?25ldone\n",
      "\u001b[?25hCollecting schema==0.6.7\n",
      "  Using cached schema-0.6.7-py2.py3-none-any.whl (14 kB)\n",
      "Building wheels for collected packages: pyknow, frozendict\n",
      "  Building wheel for pyknow (setup.py) ... \u001b[?25ldone\n",
      "\u001b[?25h  Created wheel for pyknow: filename=pyknow-1.7.0-py3-none-any.whl size=34228 sha256=b7de5b09292c4007667c72f69b98d5a1b5f7324ff15f9dd8e077c3d5f7aade42\n",
      "  Stored in directory: /tmp/pip-ephem-wheel-cache-k7jpave7/wheels/81/1a/d3/f6c15dbe1955598a37755215f2a10449e7418500d7bd4b9508\n",
      "  Building wheel for frozendict (setup.py) ... \u001b[?25ldone\n",
      "\u001b[?25h  Created wheel for frozendict: filename=frozendict-1.2-py3-none-any.whl size=3148 sha256=2863d55c240d2409cddf05ccfe600591f8478681549fc97555c47c90dc6bb160\n",
      "  Stored in directory: /home/rg/.cache/pip/wheels/49/ac/f8/cb8120244e710bdb479c86198b03c7b08c3c2d3d2bf448fd6e\n",
      "Successfully built pyknow frozendict\n",
      "Installing collected packages: schema, frozendict, pyknow\n",
      "Successfully installed frozendict-1.2 pyknow-1.7.0 schema-0.6.7\n"
     ]
    }
   ],
   "source": [
    "import sys\n",
    "!{sys.executable} -m pip install git+https://github.com/buguroo/pyknow/"
   ]
  },
  {
   "cell_type": "code",
   "execution_count": 13,
   "metadata": {
    "trusted": true
   },
   "outputs": [],
   "source": [
    "from pyknow import *\n",
    "#import pyknow"
   ]
  },
  {
   "cell_type": "markdown",
   "metadata": {},
   "source": [
    "Zdefiniujemy nasz system jako klasę, która dziedziczy po `KnowledgeEngine`. Każda reguła jest definiowana przez osobną funkcję z adnotacją `@Rule`, która określa, kiedy reguła powinna zostać uruchomiona. Wewnątrz reguły możemy dodawać nowe fakty za pomocą funkcji `declare`, a dodanie tych faktów spowoduje wywołanie kolejnych reguł przez silnik wnioskowania w przód.\n"
   ]
  },
  {
   "cell_type": "code",
   "execution_count": 14,
   "metadata": {
    "trusted": true
   },
   "outputs": [],
   "source": [
    "class Animals(KnowledgeEngine):\n",
    "    @Rule(OR(\n",
    "           AND(Fact('sharp teeth'),Fact('claws'),Fact('forward looking eyes')),\n",
    "           Fact('eats meat')))\n",
    "    def cornivor(self):\n",
    "        self.declare(Fact('carnivor'))\n",
    "        \n",
    "    @Rule(OR(Fact('hair'),Fact('gives milk')))\n",
    "    def mammal(self):\n",
    "        self.declare(Fact('mammal'))\n",
    "\n",
    "    @Rule(Fact('mammal'),\n",
    "          OR(Fact('has hooves'),Fact('chews cud')))\n",
    "    def hooves(self):\n",
    "        self.declare('ungulate')\n",
    "        \n",
    "    @Rule(OR(Fact('feathers'),AND(Fact('flies'),Fact('lays eggs'))))\n",
    "    def bird(self):\n",
    "        self.declare('bird')\n",
    "        \n",
    "    @Rule(Fact('mammal'),Fact('carnivor'),\n",
    "          Fact(color='red-brown'),\n",
    "          Fact(pattern='dark spots'))\n",
    "    def monkey(self):\n",
    "        self.declare(Fact(animal='monkey'))\n",
    "\n",
    "    @Rule(Fact('mammal'),Fact('carnivor'),\n",
    "          Fact(color='red-brown'),\n",
    "          Fact(pattern='dark stripes'))\n",
    "    def tiger(self):\n",
    "        self.declare(Fact(animal='tiger'))\n",
    "\n",
    "    @Rule(Fact('ungulate'),\n",
    "          Fact('long neck'),\n",
    "          Fact('long legs'),\n",
    "          Fact(pattern='dark spots'))\n",
    "    def giraffe(self):\n",
    "        self.declare(Fact(animal='giraffe'))\n",
    "\n",
    "    @Rule(Fact('ungulate'),\n",
    "          Fact(pattern='dark stripes'))\n",
    "    def zebra(self):\n",
    "        self.declare(Fact(animal='zebra'))\n",
    "\n",
    "    @Rule(Fact('bird'),\n",
    "          Fact('long neck'),\n",
    "          Fact('cannot fly'),\n",
    "          Fact(color='black and white'))\n",
    "    def straus(self):\n",
    "        self.declare(Fact(animal='ostrich'))\n",
    "\n",
    "    @Rule(Fact('bird'),\n",
    "          Fact('swims'),\n",
    "          Fact('cannot fly'),\n",
    "          Fact(color='black and white'))\n",
    "    def pinguin(self):\n",
    "        self.declare(Fact(animal='pinguin'))\n",
    "\n",
    "    @Rule(Fact('bird'),\n",
    "          Fact('flies well'))\n",
    "    def albatros(self):\n",
    "        self.declare(Fact(animal='albatross'))\n",
    "        \n",
    "    @Rule(Fact(animal=MATCH.a))\n",
    "    def print_result(self,a):\n",
    "          print('Animal is {}'.format(a))\n",
    "                    \n",
    "    def factz(self,l):\n",
    "        for x in l:\n",
    "            self.declare(x)"
   ]
  },
  {
   "cell_type": "markdown",
   "metadata": {},
   "source": [
    "Gdy zdefiniujemy bazę wiedzy, wypełniamy naszą pamięć roboczą początkowymi faktami, a następnie wywołujemy metodę `run()`, aby przeprowadzić wnioskowanie. W rezultacie można zauważyć, że nowe wywnioskowane fakty są dodawane do pamięci roboczej, w tym ostateczny fakt dotyczący zwierzęcia (jeśli poprawnie ustawimy wszystkie początkowe fakty).\n"
   ]
  },
  {
   "cell_type": "code",
   "execution_count": 15,
   "metadata": {
    "trusted": true
   },
   "outputs": [
    {
     "name": "stdout",
     "output_type": "stream",
     "text": [
      "Animal is tiger\n"
     ]
    },
    {
     "data": {
      "text/plain": [
       "FactList([(0, InitialFact()),\n",
       "          (1, Fact(color='red-brown')),\n",
       "          (2, Fact(pattern='dark stripes')),\n",
       "          (3, Fact('sharp teeth')),\n",
       "          (4, Fact('claws')),\n",
       "          (5, Fact('forward looking eyes')),\n",
       "          (6, Fact('gives milk')),\n",
       "          (7, Fact('mammal')),\n",
       "          (8, Fact('carnivor')),\n",
       "          (9, Fact(animal='tiger'))])"
      ]
     },
     "execution_count": 15,
     "metadata": {},
     "output_type": "execute_result"
    }
   ],
   "source": [
    "ex1 = Animals()\n",
    "ex1.reset()\n",
    "ex1.factz([\n",
    "    Fact(color='red-brown'),\n",
    "    Fact(pattern='dark stripes'),\n",
    "    Fact('sharp teeth'),\n",
    "    Fact('claws'),\n",
    "    Fact('forward looking eyes'),\n",
    "    Fact('gives milk')])\n",
    "ex1.run()\n",
    "ex1.facts"
   ]
  },
  {
   "cell_type": "code",
   "execution_count": null,
   "metadata": {},
   "outputs": [],
   "source": []
  },
  {
   "cell_type": "markdown",
   "metadata": {},
   "source": [
    "\n---\n\n**Zastrzeżenie**:  \nTen dokument został przetłumaczony za pomocą usługi tłumaczenia AI [Co-op Translator](https://github.com/Azure/co-op-translator). Chociaż dokładamy wszelkich starań, aby zapewnić poprawność tłumaczenia, prosimy pamiętać, że automatyczne tłumaczenia mogą zawierać błędy lub nieścisłości. Oryginalny dokument w jego rodzimym języku powinien być uznawany za wiarygodne źródło. W przypadku informacji o kluczowym znaczeniu zaleca się skorzystanie z profesjonalnego tłumaczenia przez człowieka. Nie ponosimy odpowiedzialności za jakiekolwiek nieporozumienia lub błędne interpretacje wynikające z użycia tego tłumaczenia.\n"
   ]
  }
 ],
 "metadata": {
  "kernelspec": {
   "display_name": "Python 3.7.4 64-bit (conda)",
   "metadata": {
    "interpreter": {
     "hash": "86193a1ab0ba47eac1c69c1756090baa3b420b3eea7d4aafab8b85f8b312f0c5"
    }
   },
   "name": "python3"
  },
  "language_info": {
   "codemirror_mode": {
    "name": "ipython",
    "version": 3
   },
   "file_extension": ".py",
   "mimetype": "text/x-python",
   "name": "python",
   "nbconvert_exporter": "python",
   "pygments_lexer": "ipython3",
   "version": "3.11.2"
  },
  "coopTranslator": {
   "original_hash": "ab2bd97b0453415b89a469284609a8ce",
   "translation_date": "2025-08-31T13:16:30+00:00",
   "source_file": "lessons/2-Symbolic/Animals.ipynb",
   "language_code": "pl"
  }
 },
 "nbformat": 4,
 "nbformat_minor": 2
}