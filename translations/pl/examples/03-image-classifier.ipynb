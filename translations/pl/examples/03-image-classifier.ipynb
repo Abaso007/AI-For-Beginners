{
 "cells": [
  {
   "cell_type": "markdown",
   "metadata": {},
   "source": [
    "# Prosty Klasyfikator Obrazów\n",
    "\n",
    "Ten notebook pokazuje, jak klasyfikować obrazy za pomocą wstępnie wytrenowanej sieci neuronowej.\n",
    "\n",
    "**Czego się nauczysz:**\n",
    "- Jak załadować i używać wstępnie wytrenowanego modelu\n",
    "- Przetwarzanie obrazów\n",
    "- Dokonywanie predykcji na obrazach\n",
    "- Zrozumienie wyników pewności\n",
    "\n",
    "**Przypadek użycia:** Identyfikacja obiektów na obrazach (np. \"kot\", \"pies\", \"samochód\" itd.)\n",
    "\n",
    "---\n"
   ]
  },
  {
   "cell_type": "markdown",
   "metadata": {},
   "source": [
    "## Krok 1: Importowanie wymaganych bibliotek\n",
    "\n",
    "Zaimportujmy potrzebne narzędzia. Nie martw się, jeśli jeszcze nie rozumiesz wszystkich!\n"
   ]
  },
  {
   "cell_type": "code",
   "execution_count": null,
   "metadata": {},
   "outputs": [],
   "source": [
    "# Core libraries\n",
    "import numpy as np\n",
    "from PIL import Image\n",
    "import requests\n",
    "from io import BytesIO\n",
    "\n",
    "# TensorFlow for deep learning\n",
    "try:\n",
    "    import tensorflow as tf\n",
    "    from tensorflow.keras.applications import MobileNetV2\n",
    "    from tensorflow.keras.applications.mobilenet_v2 import preprocess_input, decode_predictions\n",
    "    print(\"✅ TensorFlow loaded successfully!\")\n",
    "    print(f\"   Version: {tf.__version__}\")\n",
    "except ImportError:\n",
    "    print(\"❌ Please install TensorFlow: pip install tensorflow\")"
   ]
  },
  {
   "cell_type": "markdown",
   "metadata": {},
   "source": [
    "## Krok 2: Załaduj wstępnie wytrenowany model\n",
    "\n",
    "Użyjemy **MobileNetV2**, sieci neuronowej już wytrenowanej na milionach obrazów.\n",
    "\n",
    "To nazywa się **Transfer Learning** - korzystanie z modelu wytrenowanego przez kogoś innego!\n"
   ]
  },
  {
   "cell_type": "code",
   "execution_count": null,
   "metadata": {},
   "outputs": [],
   "source": [
    "print(\"📦 Loading pre-trained MobileNetV2 model...\")\n",
    "print(\"   This may take a minute on first run (downloading weights)...\")\n",
    "\n",
    "# Load the model\n",
    "# include_top=True means we use the classification layer\n",
    "# weights='imagenet' means it was trained on ImageNet dataset\n",
    "model = MobileNetV2(weights='imagenet', include_top=True)\n",
    "\n",
    "print(\"✅ Model loaded!\")\n",
    "print(f\"   The model can recognize 1000 different object categories\")"
   ]
  },
  {
   "cell_type": "markdown",
   "metadata": {},
   "source": [
    "## Krok 3: Funkcje pomocnicze\n",
    "\n",
    "Stwórzmy funkcje do ładowania i przygotowywania obrazów dla naszego modelu.\n"
   ]
  },
  {
   "cell_type": "code",
   "execution_count": null,
   "metadata": {},
   "outputs": [],
   "source": [
    "def load_image_from_url(url):\n",
    "    \"\"\"\n",
    "    Load an image from a URL.\n",
    "    \n",
    "    Args:\n",
    "        url: Web address of the image\n",
    "        \n",
    "    Returns:\n",
    "        PIL Image object\n",
    "    \"\"\"\n",
    "    response = requests.get(url)\n",
    "    img = Image.open(BytesIO(response.content))\n",
    "    return img\n",
    "\n",
    "\n",
    "def prepare_image(img):\n",
    "    \"\"\"\n",
    "    Prepare an image for the model.\n",
    "    \n",
    "    Steps:\n",
    "    1. Resize to 224x224 (model's expected size)\n",
    "    2. Convert to array\n",
    "    3. Add batch dimension\n",
    "    4. Preprocess for MobileNetV2\n",
    "    \n",
    "    Args:\n",
    "        img: PIL Image\n",
    "        \n",
    "    Returns:\n",
    "        Preprocessed image array\n",
    "    \"\"\"\n",
    "    # Resize to 224x224 pixels\n",
    "    img = img.resize((224, 224))\n",
    "    \n",
    "    # Convert to numpy array\n",
    "    img_array = np.array(img)\n",
    "    \n",
    "    # Add batch dimension (model expects multiple images)\n",
    "    img_array = np.expand_dims(img_array, axis=0)\n",
    "    \n",
    "    # Preprocess for MobileNetV2\n",
    "    img_array = preprocess_input(img_array)\n",
    "    \n",
    "    return img_array\n",
    "\n",
    "\n",
    "def classify_image(img):\n",
    "    \"\"\"\n",
    "    Classify an image and return top predictions.\n",
    "    \n",
    "    Args:\n",
    "        img: PIL Image\n",
    "        \n",
    "    Returns:\n",
    "        List of (class_name, confidence) tuples\n",
    "    \"\"\"\n",
    "    # Prepare the image\n",
    "    img_array = prepare_image(img)\n",
    "    \n",
    "    # Make prediction\n",
    "    predictions = model.predict(img_array, verbose=0)\n",
    "    \n",
    "    # Decode predictions to human-readable labels\n",
    "    # top=5 means we get the top 5 most likely classes\n",
    "    decoded = decode_predictions(predictions, top=5)[0]\n",
    "    \n",
    "    # Convert to simpler format\n",
    "    results = [(label, float(confidence)) for (_, label, confidence) in decoded]\n",
    "    \n",
    "    return results\n",
    "\n",
    "\n",
    "print(\"✅ Helper functions ready!\")"
   ]
  },
  {
   "cell_type": "markdown",
   "metadata": {},
   "source": [
    "## Krok 4: Testowanie na przykładowych obrazach\n",
    "\n",
    "Spróbujmy sklasyfikować kilka obrazów z internetu!\n"
   ]
  },
  {
   "cell_type": "code",
   "execution_count": null,
   "metadata": {},
   "outputs": [],
   "source": [
    "# Sample images to classify\n",
    "# These are from Unsplash (free stock photos)\n",
    "test_images = [\n",
    "    {\n",
    "        \"url\": \"https://images.unsplash.com/photo-1514888286974-6c03e2ca1dba?w=400\",\n",
    "        \"description\": \"A cat\"\n",
    "    },\n",
    "    {\n",
    "        \"url\": \"https://images.unsplash.com/photo-1552053831-71594a27632d?w=400\",\n",
    "        \"description\": \"A dog\"\n",
    "    },\n",
    "    {\n",
    "        \"url\": \"https://images.unsplash.com/photo-1511919884226-fd3cad34687c?w=400\",\n",
    "        \"description\": \"A car\"\n",
    "    },\n",
    "]\n",
    "\n",
    "print(f\"🧪 Testing on {len(test_images)} images...\")\n",
    "print(\"=\" * 70)"
   ]
  },
  {
   "cell_type": "markdown",
   "metadata": {},
   "source": [
    "### Klasyfikuj Każdy Obraz\n"
   ]
  },
  {
   "cell_type": "code",
   "execution_count": null,
   "metadata": {},
   "outputs": [],
   "source": [
    "for i, img_data in enumerate(test_images, 1):\n",
    "    print(f\"\\n📸 Image {i}: {img_data['description']}\")\n",
    "    print(\"-\" * 70)\n",
    "    \n",
    "    try:\n",
    "        # Load image\n",
    "        img = load_image_from_url(img_data['url'])\n",
    "        \n",
    "        # Display image\n",
    "        display(img.resize((200, 200)))  # Show smaller version\n",
    "        \n",
    "        # Classify\n",
    "        results = classify_image(img)\n",
    "        \n",
    "        # Show predictions\n",
    "        print(\"\\n🎯 Top 5 Predictions:\")\n",
    "        for rank, (label, confidence) in enumerate(results, 1):\n",
    "            # Create a visual bar\n",
    "            bar_length = int(confidence * 50)\n",
    "            bar = \"█\" * bar_length\n",
    "            \n",
    "            print(f\"  {rank}. {label:20s} {confidence*100:5.2f}% {bar}\")\n",
    "        \n",
    "    except Exception as e:\n",
    "        print(f\"❌ Error: {e}\")\n",
    "\n",
    "print(\"\\n\" + \"=\" * 70)"
   ]
  },
  {
   "cell_type": "markdown",
   "metadata": {},
   "source": [
    "## Krok 5: Wypróbuj własne obrazy!\n",
    "\n",
    "Zamień poniższy URL na dowolny URL obrazu, który chcesz sklasyfikować.\n"
   ]
  },
  {
   "cell_type": "code",
   "execution_count": null,
   "metadata": {},
   "outputs": [],
   "source": [
    "# Try your own image!\n",
    "# Replace this URL with any image URL\n",
    "custom_image_url = \"https://images.unsplash.com/photo-1472491235688-bdc81a63246e?w=400\"  # A flower\n",
    "\n",
    "print(\"🖼️  Classifying your custom image...\")\n",
    "print(\"=\" * 70)\n",
    "\n",
    "try:\n",
    "    # Load and show image\n",
    "    img = load_image_from_url(custom_image_url)\n",
    "    display(img.resize((300, 300)))\n",
    "    \n",
    "    # Classify\n",
    "    results = classify_image(img)\n",
    "    \n",
    "    # Show results\n",
    "    print(\"\\n🎯 Top 5 Predictions:\")\n",
    "    print(\"-\" * 70)\n",
    "    for rank, (label, confidence) in enumerate(results, 1):\n",
    "        bar_length = int(confidence * 50)\n",
    "        bar = \"█\" * bar_length\n",
    "        print(f\"  {rank}. {label:20s} {confidence*100:5.2f}% {bar}\")\n",
    "    \n",
    "    # Highlight top prediction\n",
    "    top_label, top_confidence = results[0]\n",
    "    print(\"\\n\" + \"=\" * 70)\n",
    "    print(f\"\\n🏆 Best guess: {top_label} ({top_confidence*100:.2f}% confident)\")\n",
    "    \n",
    "except Exception as e:\n",
    "    print(f\"❌ Error: {e}\")\n",
    "    print(\"   Make sure the URL points to a valid image!\")"
   ]
  },
  {
   "cell_type": "markdown",
   "metadata": {},
   "source": [
    "## 💡 Co się właśnie wydarzyło?\n",
    "\n",
    "1. **Załadowaliśmy wstępnie wytrenowany model** - MobileNetV2 został wytrenowany na milionach obrazów\n",
    "2. **Przetworzyliśmy obrazy** - Zmieniliśmy ich rozmiar i sformatowaliśmy je dla modelu\n",
    "3. **Model dokonał predykcji** - Wyprowadził prawdopodobieństwa dla 1000 klas obiektów\n",
    "4. **Zdekodowaliśmy wyniki** - Przekształciliśmy liczby na czytelne dla człowieka etykiety\n",
    "\n",
    "### Zrozumienie wyników pewności\n",
    "\n",
    "- **90-100%**: Bardzo pewny (niemal na pewno poprawny)\n",
    "- **70-90%**: Pewny (prawdopodobnie poprawny)\n",
    "- **50-70%**: Średnio pewny (może być poprawny)\n",
    "- **Poniżej 50%**: Mało pewny (niepewny)\n",
    "\n",
    "### Dlaczego predykcje mogą być błędne?\n",
    "\n",
    "- **Nietypowy kąt lub oświetlenie** - Model był trenowany na typowych zdjęciach\n",
    "- **Wiele obiektów** - Model oczekuje jednego głównego obiektu\n",
    "- **Rzadkie obiekty** - Model zna tylko 1000 kategorii\n",
    "- **Niska jakość obrazu** - Rozmazane lub pikselowe obrazy są trudniejsze do analizy\n",
    "\n",
    "---\n"
   ]
  },
  {
   "cell_type": "markdown",
   "metadata": {},
   "source": [
    "## 🚀 Kolejne kroki\n",
    "\n",
    "1. **Wypróbuj różne obrazy:**\n",
    "   - Znajdź obrazy na [Unsplash](https://unsplash.com)\n",
    "   - Kliknij prawym przyciskiem myszy → „Kopiuj adres obrazu”, aby uzyskać URL\n",
    "\n",
    "2. **Eksperymentuj:**\n",
    "   - Co się dzieje z abstrakcyjną sztuką?\n",
    "   - Czy potrafi rozpoznać obiekty z różnych perspektyw?\n",
    "   - Jak radzi sobie z wieloma obiektami?\n",
    "\n",
    "3. **Dowiedz się więcej:**\n",
    "   - Odkryj [lekcje o widzeniu komputerowym](../lessons/4-ComputerVision/README.md)\n",
    "   - Naucz się trenować własny klasyfikator obrazów\n",
    "   - Zrozum, jak działają CNN (Konwolucyjne Sieci Neuronowe)\n",
    "\n",
    "---\n",
    "\n",
    "## 🎉 Gratulacje!\n",
    "\n",
    "Właśnie stworzyłeś klasyfikator obrazów, wykorzystując najnowocześniejszą sieć neuronową!\n",
    "\n",
    "Ta sama technika jest wykorzystywana w:\n",
    "- Google Photos (organizacja zdjęć)\n",
    "- Samochodach autonomicznych (rozpoznawanie obiektów)\n",
    "- Diagnostyce medycznej (analiza zdjęć rentgenowskich)\n",
    "- Kontroli jakości (wykrywanie wad)\n",
    "\n",
    "Kontynuuj eksplorację i naukę! 🚀\n"
   ]
  },
  {
   "cell_type": "markdown",
   "metadata": {},
   "source": [
    "\n---\n\n**Zastrzeżenie**:  \nTen dokument został przetłumaczony za pomocą usługi tłumaczeniowej AI [Co-op Translator](https://github.com/Azure/co-op-translator). Chociaż dokładamy wszelkich starań, aby tłumaczenie było precyzyjne, prosimy pamiętać, że automatyczne tłumaczenia mogą zawierać błędy lub nieścisłości. Oryginalny dokument w jego rodzimym języku powinien być uznawany za wiarygodne źródło. W przypadku informacji krytycznych zaleca się skorzystanie z profesjonalnego tłumaczenia wykonanego przez człowieka. Nie ponosimy odpowiedzialności za jakiekolwiek nieporozumienia lub błędne interpretacje wynikające z korzystania z tego tłumaczenia.\n"
   ]
  }
 ],
 "metadata": {
  "kernelspec": {
   "display_name": "Python 3",
   "language": "python",
   "name": "python3"
  },
  "language_info": {
   "codemirror_mode": {
    "name": "ipython",
    "version": 3
   },
   "file_extension": ".py",
   "mimetype": "text/x-python",
   "name": "python",
   "nbconvert_exporter": "python",
   "pygments_lexer": "ipython3",
   "version": "3.8.0"
  },
  "coopTranslator": {
   "original_hash": "1d472141d9df46b751542b3c29f88677",
   "translation_date": "2025-10-03T11:45:13+00:00",
   "source_file": "examples/03-image-classifier.ipynb",
   "language_code": "pl"
  }
 },
 "nbformat": 4,
 "nbformat_minor": 4
}