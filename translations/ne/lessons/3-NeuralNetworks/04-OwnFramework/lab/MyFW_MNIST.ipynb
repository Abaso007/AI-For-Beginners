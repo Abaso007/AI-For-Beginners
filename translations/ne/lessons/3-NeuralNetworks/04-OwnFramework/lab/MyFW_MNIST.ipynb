{
 "cells": [
  {
   "cell_type": "markdown",
   "metadata": {},
   "source": [
    "# हाम्रो आफ्नै फ्रेमवर्क प्रयोग गरेर MNIST अंक वर्गीकरण\n",
    "\n",
    "[AI for Beginners Curriculum](https://github.com/microsoft/ai-for-beginners) बाट ल्याब असाइनमेन्ट।\n",
    "\n",
    "### डेटासेट पढ्ने\n",
    "\n",
    "यो कोडले इन्टरनेटमा रहेको रिपोजिटरीबाट डेटासेट डाउनलोड गर्छ। तपाईंले AI Curriculum रिपोको `/data` डाइरेक्टरीबाट डेटासेटलाई म्यानुअली पनि कपी गर्न सक्नुहुन्छ।\n"
   ]
  },
  {
   "cell_type": "code",
   "execution_count": 4,
   "metadata": {
    "tags": []
   },
   "outputs": [
    {
     "name": "stderr",
     "output_type": "stream",
     "text": [
      "  % Total    % Received % Xferd  Average Speed   Time    Time     Time  Current\n",
      "                                 Dload  Upload   Total   Spent    Left  Speed\n",
      "\n",
      "  0     0    0     0    0     0      0      0 --:--:-- --:--:-- --:--:--     0\n",
      "100  9.9M  100  9.9M    0     0   9.9M      0  0:00:01 --:--:--  0:00:01 15.8M\n"
     ]
    }
   ],
   "source": [
    "!rm *.pkl\n",
    "!wget https://raw.githubusercontent.com/microsoft/AI-For-Beginners/main/data/mnist.pkl.gz\n",
    "!gzip -d mnist.pkl.gz"
   ]
  },
  {
   "cell_type": "code",
   "execution_count": 3,
   "metadata": {},
   "outputs": [],
   "source": [
    "import pickle\n",
    "with open('mnist.pkl','rb') as f:\n",
    "    MNIST = pickle.load(f)"
   ]
  },
  {
   "cell_type": "code",
   "execution_count": 4,
   "metadata": {},
   "outputs": [],
   "source": [
    "labels = MNIST['Train']['Labels']\n",
    "data = MNIST['Train']['Features']"
   ]
  },
  {
   "cell_type": "markdown",
   "metadata": {},
   "source": [
    "हेरौं, हाम्रोसँग रहेको डाटाको आकार कस्तो छ:\n"
   ]
  },
  {
   "cell_type": "code",
   "execution_count": 5,
   "metadata": {},
   "outputs": [
    {
     "data": {
      "text/plain": [
       "(42000, 784)"
      ]
     },
     "execution_count": 5,
     "metadata": {},
     "output_type": "execute_result"
    }
   ],
   "source": [
    "data.shape"
   ]
  },
  {
   "cell_type": "markdown",
   "metadata": {},
   "source": [
    "### डेटा विभाजन\n",
    "\n",
    "हामी Scikit Learn प्रयोग गरेर डेटा प्रशिक्षण र परीक्षण डेटासेटमा विभाजन गर्नेछौं:\n"
   ]
  },
  {
   "cell_type": "code",
   "execution_count": 6,
   "metadata": {},
   "outputs": [
    {
     "name": "stdout",
     "output_type": "stream",
     "text": [
      "Train samples: 33600, test samples: 8400\n"
     ]
    }
   ],
   "source": [
    "from sklearn.model_selection import train_test_split\n",
    "\n",
    "features_train, features_test, labels_train, labels_test = train_test_split(data,labels,test_size=0.2)\n",
    "\n",
    "print(f\"Train samples: {len(features_train)}, test samples: {len(features_test)}\")"
   ]
  },
  {
   "cell_type": "markdown",
   "metadata": {},
   "source": [
    "### निर्देशनहरू\n",
    "\n",
    "1. पाठबाट फ्रेमवर्क कोड लिनुहोस् र यसलाई यो नोटबुकमा टाँस्नुहोस्, वा (अझ राम्रो) छुट्टै Python मोड्युलमा टाँस्नुहोस्।\n",
    "1. एक-स्तरीय परसेप्ट्रोन परिभाषित गर्नुहोस् र प्रशिक्षण गर्नुहोस्, प्रशिक्षण र मान्यताको शुद्धता प्रशिक्षणको क्रममा अवलोकन गर्नुहोस्।\n",
    "1. बुझ्ने प्रयास गर्नुहोस् कि ओभरफिटिंग भयो कि भएन, र लेयरका प्यारामिटरहरू समायोजन गरेर शुद्धता सुधार गर्नुहोस्।\n",
    "1. 2-स्तरीय र 3-स्तरीय परसेप्ट्रोनहरूको लागि अघिल्लो चरणहरू दोहोर्याउनुहोस्। लेयरहरू बीच विभिन्न सक्रियता कार्यहरू प्रयोग गरेर प्रयोग गर्ने प्रयास गर्नुहोस्।\n",
    "1. निम्न प्रश्नहरूको उत्तर दिने प्रयास गर्नुहोस्:\n",
    "    - के इन्टर-लेयर सक्रियता कार्यले नेटवर्कको प्रदर्शनलाई असर गर्छ?\n",
    "    - के यो कार्यको लागि 2-स्तरीय वा 3-स्तरीय नेटवर्क आवश्यक छ?\n",
    "    - नेटवर्क प्रशिक्षण गर्दा कुनै समस्या अनुभव गर्नुभयो? विशेष गरी जब लेयरहरूको संख्या बढ्यो।\n",
    "    - प्रशिक्षणको क्रममा नेटवर्कका वजनहरू कसरी व्यवहार गर्छन्? वजनहरूको अधिकतम परिमाणात्मक मान बनाम इपोकको सम्बन्ध बुझ्नको लागि यसलाई प्लट गर्न सक्नुहुन्छ।\n"
   ]
  },
  {
   "cell_type": "code",
   "execution_count": null,
   "metadata": {},
   "outputs": [],
   "source": []
  },
  {
   "cell_type": "markdown",
   "metadata": {},
   "source": [
    "\n---\n\n**अस्वीकरण**:  \nयो दस्तावेज़ AI अनुवाद सेवा [Co-op Translator](https://github.com/Azure/co-op-translator) प्रयोग गरी अनुवाद गरिएको हो। हामी यथासम्भव शुद्धता सुनिश्चित गर्न प्रयास गर्छौं, तर कृपया ध्यान दिनुहोस् कि स्वचालित अनुवादमा त्रुटिहरू वा अशुद्धताहरू हुन सक्छन्। यसको मूल भाषामा रहेको मूल दस्तावेज़लाई आधिकारिक स्रोत मानिनुपर्छ। महत्वपूर्ण जानकारीका लागि, व्यावसायिक मानव अनुवाद सिफारिस गरिन्छ। यस अनुवादको प्रयोगबाट उत्पन्न हुने कुनै पनि गलतफहमी वा गलत व्याख्याका लागि हामी जिम्मेवार हुने छैनौं।\n"
   ]
  }
 ],
 "metadata": {
  "kernelspec": {
   "display_name": "Python 3.7.4 64-bit (conda)",
   "metadata": {
    "interpreter": {
     "hash": "86193a1ab0ba47eac1c69c1756090baa3b420b3eea7d4aafab8b85f8b312f0c5"
    }
   },
   "name": "python3"
  },
  "language_info": {
   "codemirror_mode": {
    "name": "ipython",
    "version": 3
   },
   "file_extension": ".py",
   "mimetype": "text/x-python",
   "name": "python",
   "nbconvert_exporter": "python",
   "pygments_lexer": "ipython3",
   "version": "3.9.5"
  },
  "orig_nbformat": 2,
  "coopTranslator": {
   "original_hash": "6fa055f484eb5d6bdf41166a356d3abf",
   "translation_date": "2025-08-28T08:43:55+00:00",
   "source_file": "lessons/3-NeuralNetworks/04-OwnFramework/lab/MyFW_MNIST.ipynb",
   "language_code": "ne"
  }
 },
 "nbformat": 4,
 "nbformat_minor": 2
}