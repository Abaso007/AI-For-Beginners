{
 "cells": [
  {
   "cell_type": "markdown",
   "metadata": {
    "collapsed": true
   },
   "source": [
    "# जेनेटिक एल्गोरिथमहरू\n",
    "\n",
    "यो नोटबुक [AI for Beginners Curriculum](http://github.com/microsoft/ai-for-beginners) को भाग हो।\n"
   ]
  },
  {
   "cell_type": "code",
   "execution_count": 2,
   "metadata": {
    "trusted": true
   },
   "outputs": [],
   "source": [
    "import random\n",
    "import matplotlib.pyplot as plt\n",
    "import numpy as np\n",
    "import math\n",
    "import time"
   ]
  },
  {
   "cell_type": "markdown",
   "metadata": {},
   "source": [
    "## केही सिद्धान्त\n",
    "\n",
    "**जेनेटिक एल्गोरिदमहरू** (GA) कृत्रिम बुद्धिमत्ताको **विकासवादी दृष्टिकोण**मा आधारित छन्, जसमा जनसंख्याको विकासको विधिहरू प्रयोग गरेर कुनै समस्या समाधानको लागि उत्तम समाधान प्राप्त गरिन्छ। यी एल्गोरिदमहरू 1975 मा [जोन हेनरी हल्याण्ड](https://en.wikipedia.org/wiki/John_Henry_Holland) द्वारा प्रस्तावित गरिएका थिए।\n",
    "\n",
    "जेनेटिक एल्गोरिदमहरू निम्न विचारहरूमा आधारित छन्:\n",
    "* समस्याका वैध समाधानहरूलाई **जीनहरू**को रूपमा प्रतिनिधित्व गर्न सकिन्छ।\n",
    "* **क्रसओभर**ले दुई समाधानलाई संयोजन गरेर नयाँ वैध समाधान प्राप्त गर्न मद्दत गर्दछ।\n",
    "* **चयन**ले केही **फिटनेस फङ्सन** प्रयोग गरेर थप उपयुक्त समाधानहरू चयन गर्न प्रयोग गरिन्छ।\n",
    "* **म्युटेसनहरू**लाई अनुकूलनलाई अस्थिर बनाउन र स्थानीय न्यूनतमबाट बाहिर निकाल्न परिचय गराइन्छ।\n",
    "\n",
    "यदि तपाईंले जेनेटिक एल्गोरिदम कार्यान्वयन गर्न चाहनुहुन्छ भने, तपाईंलाई निम्न कुराहरू आवश्यक पर्छ:\n",
    "\n",
    " * हाम्रो समस्याका समाधानहरूलाई **जीनहरू** $g\\in\\Gamma$ प्रयोग गरेर कोड गर्ने विधि पत्ता लगाउनुहोस्।\n",
    " * जीनहरूको सेट $\\Gamma$ मा **फिटनेस फङ्सन** $\\mathrm{fit}: \\Gamma\\to\\mathbb{R}$ परिभाषित गर्नुहोस्। साना फङ्सन मानहरूले राम्रो समाधानहरूलाई जनाउँछन्।\n",
    " * दुई जीनहरूलाई संयोजन गरेर नयाँ वैध समाधान प्राप्त गर्न **क्रसओभर** मेकानिज्म परिभाषित गर्नुहोस् $\\mathrm{crossover}: \\Gamma^2\\to\\Gamma$।\n",
    " * **म्युटेसन** मेकानिज्म परिभाषित गर्नुहोस् $\\mathrm{mutate}: \\Gamma\\to\\Gamma$।\n",
    "धेरै अवस्थामा, क्रसओभर र म्युटेसन जीनहरूलाई संख्यात्मक अनुक्रम वा बिट भेक्टरको रूपमा हेरफेर गर्न सरल एल्गोरिदमहरू हुन्।\n",
    "\n",
    "जेनेटिक एल्गोरिदमको विशिष्ट कार्यान्वयन केस अनुसार फरक हुन सक्छ, तर समग्र संरचना निम्नानुसार हुन्छ:\n",
    "\n",
    "1. प्रारम्भिक जनसंख्या चयन गर्नुहोस् $G\\subset\\Gamma$\n",
    "2. यस चरणमा प्रदर्शन गरिने अपरेसन (क्रसओभर वा म्युटेसन) मध्ये एकलाई अनियमित रूपमा चयन गर्नुहोस्।\n",
    "3. **क्रसओभर**:\n",
    "  * अनियमित रूपमा दुई जीनहरू चयन गर्नुहोस् $g_1, g_2 \\in G$\n",
    "  * क्रसओभर गणना गर्नुहोस् $g=\\mathrm{crossover}(g_1,g_2)$\n",
    "  * यदि $\\mathrm{fit}(g)<\\mathrm{fit}(g_1)$ वा $\\mathrm{fit}(g)<\\mathrm{fit}(g_2)$ भने - जनसंख्यामा सम्बन्धित जीनलाई $g$ द्वारा प्रतिस्थापन गर्नुहोस्।\n",
    "4. **म्युटेसन** - अनियमित रूपमा जीन $g\\in G$ चयन गर्नुहोस् र यसलाई $\\mathrm{mutate}(g)$ द्वारा प्रतिस्थापन गर्नुहोस्।\n",
    "5. चरण 2 बाट दोहोर्याउनुहोस्, जबसम्म हामी $\\mathrm{fit}$ को पर्याप्त सानो मान प्राप्त गर्दैनौं, वा चरणहरूको सीमामा पुग्दैनौं।\n",
    "\n",
    "GA द्वारा सामान्यतया समाधान गरिने कार्यहरू:\n",
    "1. तालिका अनुकूलन\n",
    "1. उत्तम प्याकिङ\n",
    "1. उत्तम काट्ने तरिका\n",
    "1. थकाउने खोजलाई तीव्र बनाउने\n"
   ]
  },
  {
   "cell_type": "markdown",
   "metadata": {},
   "source": [
    "## समस्या १: निष्पक्ष खजाना बाँडफाँड\n",
    "\n",
    "**कार्य**:  \n",
    "दुई व्यक्तिले विभिन्न आकार (र, तदनुसार, फरक मूल्य) भएका हिराहरू भएको खजाना फेला पारेका छन्। उनीहरूले खजानालाई दुई भागमा यसरी बाँड्नुपर्छ कि मूल्यको भिन्नता ० (वा न्यूनतम) होस्।\n",
    "\n",
    "**औपचारिक परिभाषा**:  \n",
    "हामीसँग संख्याहरूको एउटा सेट $S$ छ। यसलाई दुई उपसेट $S_1$ र $S_2$ मा यसरी बाँड्नुपर्छ कि  \n",
    "$$\\left|\\sum_{i\\in S_1}i - \\sum_{j\\in S_2}j\\right|\\to\\min$$  \n",
    "र $S_1\\cup S_2=S$, $S_1\\cap S_2=\\emptyset$।\n",
    "\n",
    "सबभन्दा पहिले, सेट $S$ परिभाषित गरौं:\n"
   ]
  },
  {
   "cell_type": "code",
   "execution_count": 3,
   "metadata": {
    "trusted": true
   },
   "outputs": [
    {
     "name": "stdout",
     "output_type": "stream",
     "text": [
      "[8344 2197 9335 3131 5863 9429 3818 9791   15 5455 1396 9538 4872 6549\n",
      " 8587 5986 6021 9764 8102 5083 5739 7684 8498 3007 6599  820 7490 2372\n",
      " 9370 5235 3525 3154  859 1906 8159 3950 2173 2988 2050  349 8713 2284\n",
      " 4177 6033 1651 9176 5049 8201  171 5081 1216 3756 4711 2757 7738 1272\n",
      " 5650 6584 5395 9004 7797  969 8104 1283 1392 4001 5768  445  274  256\n",
      " 8239 8015 4381 9021 1189 8879 1411 3539 6526 8011  136 7230 2332  451\n",
      " 5702 2989 4320 2446 9578 8486 4027 2410 9588 8981 2177 1493 3232 9151\n",
      " 4835 5594 6859 8394  369 3200  126 4259 2283 7755 2014 2458 8327 8082\n",
      " 7413 7622 1206 5533 8751 3495 5868 8472 6850 3958 3149 4672 4810 6274\n",
      " 4700 6134 4627 4616 6656 9949  884 2256 7419 1926 7973 5319 5967 9158\n",
      " 3823 7697 9466 5675 5412 9784 5426 8209 3421 1136 6047 4429 8001 4417\n",
      " 1381  722 7350 6018 6235 7860 5853 7660 5937 6242    1 9552 3971 8302\n",
      " 2633 9227 7283  154 8599 4269 9392 8539 1630  368 2409 9351 3838 9814\n",
      " 6186 5743 5083 1325 1610  779 3643 3262 5768 8725  961 4611 6310 4788\n",
      " 1648 5951 8118 7779]\n"
     ]
    }
   ],
   "source": [
    "N = 200\n",
    "S = np.array([random.randint(1,10000) for _ in range(N)])\n",
    "print(S)"
   ]
  },
  {
   "cell_type": "markdown",
   "metadata": {},
   "source": [
    "समस्याको प्रत्येक सम्भावित समाधानलाई द्विआधारी भेक्टर $B\\in\\{0,1\\}^N$ द्वारा एन्कोड गरौं, जहाँ $i$-औं स्थानमा रहेको संख्या मूल सेट $S$ मा रहेको $i$-औं संख्या कुन सेट ($S_1$ वा $S_2$) मा पर्छ भन्ने देखाउँछ। `generate` फङ्सनले ती र्यान्डम द्विआधारी भेक्टरहरू उत्पन्न गर्नेछ।\n"
   ]
  },
  {
   "cell_type": "code",
   "execution_count": 5,
   "metadata": {
    "trusted": true
   },
   "outputs": [
    {
     "name": "stdout",
     "output_type": "stream",
     "text": [
      "[1 0 0 1 1 1 1 1 0 1 1 1 0 0 1 0 1 1 1 0 0 1 1 0 1 1 0 0 1 0 1 0 1 0 1 1 1\n",
      " 0 1 1 1 0 1 0 0 1 0 0 1 1 0 1 0 1 1 0 0 1 0 0 0 1 1 0 1 1 0 0 0 0 1 0 1 0\n",
      " 1 0 0 0 0 0 1 1 0 1 0 0 1 0 1 0 0 1 1 0 0 1 1 1 0 0 1 1 0 1 1 0 0 0 0 1 1\n",
      " 1 0 1 0 0 1 1 1 1 1 1 1 1 0 1 0 1 1 1 1 1 1 0 1 0 1 0 1 0 0 1 1 1 0 0 1 1\n",
      " 0 1 1 0 1 1 0 0 0 1 1 0 0 0 0 0 0 0 0 1 1 0 1 1 1 0 0 1 1 0 1 1 0 0 1 1 0\n",
      " 0 0 0 1 0 1 1 0 1 1 0 1 0 0 0]\n"
     ]
    }
   ],
   "source": [
    "def generate(S):\n",
    "    return np.array([random.randint(0,1) for _ in S])\n",
    "\n",
    "b = generate(S)\n",
    "print(b)"
   ]
  },
  {
   "cell_type": "markdown",
   "metadata": {},
   "source": [
    "अब `fit` फङ्सनलाई परिभाषित गरौं जसले समाधानको \"खर्च\" गणना गर्दछ। यो दुई सेटहरू, $S_1$ र $S_2$ को योगको बीचको अन्तर हुनेछ:\n"
   ]
  },
  {
   "cell_type": "code",
   "execution_count": 6,
   "metadata": {
    "trusted": true
   },
   "outputs": [
    {
     "data": {
      "text/plain": [
       "133784"
      ]
     },
     "execution_count": 6,
     "metadata": {},
     "output_type": "execute_result"
    }
   ],
   "source": [
    "def fit(B,S=S):\n",
    "    c1 = (B*S).sum()\n",
    "    c2 = ((1-B)*S).sum()\n",
    "    return abs(c1-c2)\n",
    "\n",
    "fit(b)"
   ]
  },
  {
   "cell_type": "markdown",
   "metadata": {},
   "source": [
    "अब हामीले म्युटेसन र क्रसओभरका लागि फङ्सनहरू परिभाषित गर्नुपर्छ:\n",
    "* म्युटेसनका लागि, हामी एउटा र्यान्डम बिट चयन गर्नेछौं र त्यसलाई उल्ट्याउनेछौं (० लाई १ मा परिवर्तन गर्ने र १ लाई ० मा परिवर्तन गर्ने)  \n",
    "* क्रसओभरका लागि, हामी केही बिटहरू एउटा भेक्टरबाट लिनेछौं, र केही बिटहरू अर्को भेक्टरबाट लिनेछौं। हामी `generate` फङ्सनलाई प्रयोग गर्नेछौं, जसले र्यान्डम रूपमा निर्णय गर्नेछ कि कुन इनपुट मास्कबाट कुन बिटहरू लिने।  \n"
   ]
  },
  {
   "cell_type": "code",
   "execution_count": 7,
   "metadata": {
    "trusted": true
   },
   "outputs": [],
   "source": [
    "def mutate(b):\n",
    "    x = b.copy()\n",
    "    i = random.randint(0,len(b)-1)\n",
    "    x[i] = 1-x[i]\n",
    "    return x\n",
    "\n",
    "def xover(b1,b2):\n",
    "    x = generate(b1)\n",
    "    return b1*x+b2*(1-x)"
   ]
  },
  {
   "cell_type": "markdown",
   "metadata": {},
   "source": []
  },
  {
   "cell_type": "code",
   "execution_count": 8,
   "metadata": {
    "trusted": true
   },
   "outputs": [],
   "source": [
    "pop_size = 30\n",
    "P = [generate(S) for _ in range(pop_size)]"
   ]
  },
  {
   "cell_type": "markdown",
   "metadata": {},
   "source": [
    "अब, मुख्य कार्यले विकास प्रक्रिया सञ्चालन गर्दछ। `n` भनेको विकासको चरणहरूको संख्या हो। प्रत्येक चरणमा:\n",
    "* ३०% सम्भावनाको साथ, हामी एक म्युटेशन गर्छौं, र सबैभन्दा खराब `fit` फङ्सन भएको तत्वलाई म्युटेट गरिएको तत्वले प्रतिस्थापन गर्छौं।\n",
    "* ७०% सम्भावनाको साथ, हामी क्रसओभर गर्छौं।\n",
    "\n",
    "यो कार्यले सबैभन्दा राम्रो समाधान (सबैभन्दा राम्रो समाधानसँग सम्बन्धित जीन) र प्रत्येक पुनरावृत्तिमा जनसंख्याको न्यूनतम फिट फङ्सनको इतिहास फर्काउँछ।\n"
   ]
  },
  {
   "cell_type": "code",
   "execution_count": 9,
   "metadata": {
    "trusted": true
   },
   "outputs": [
    {
     "name": "stdout",
     "output_type": "stream",
     "text": [
      "[0 0 0 1 1 0 0 0 0 1 1 1 0 1 0 0 0 1 0 1 0 1 0 1 0 1 1 0 0 0 0 0 1 0 1 1 0\n",
      " 0 0 0 1 1 0 0 1 0 0 0 0 0 1 0 0 1 1 1 1 1 1 1 0 1 1 0 1 1 1 1 1 0 1 0 0 0\n",
      " 0 1 1 1 0 1 0 1 1 1 1 1 0 0 0 1 1 0 1 0 0 1 0 0 1 1 1 1 1 1 1 1 0 1 0 1 1\n",
      " 0 1 1 0 0 0 0 1 1 1 1 0 1 0 0 1 0 1 1 1 0 1 0 0 0 0 0 0 1 1 0 0 0 1 1 0 0\n",
      " 1 0 1 1 1 1 1 0 1 0 1 0 1 1 1 0 0 0 1 1 0 0 0 0 0 0 1 1 1 0 1 0 0 0 1 0 1\n",
      " 0 1 0 1 0 0 1 1 1 0 1 1 0 0 1] 4\n"
     ]
    }
   ],
   "source": [
    "def evolve(P,S=S,n=2000):\n",
    "    res = []\n",
    "    for _ in range(n):\n",
    "        f = min([fit(b) for b in P])\n",
    "        res.append(f)\n",
    "        if f==0:\n",
    "            break\n",
    "        if random.randint(1,10)<3:\n",
    "            i = random.randint(0,len(P)-1)\n",
    "            b = mutate(P[i])\n",
    "            i = np.argmax([fit(z) for z in P])\n",
    "            P[i] = b\n",
    "        else:\n",
    "            i = random.randint(0,len(P)-1)\n",
    "            j = random.randint(0,len(P)-1)\n",
    "            b = xover(P[i],P[j])\n",
    "            if fit(b)<fit(P[i]):\n",
    "                P[i]=b\n",
    "            elif fit(b)<fit(P[j]):\n",
    "                P[j]=b\n",
    "            else:\n",
    "                pass\n",
    "    i = np.argmin([fit(b) for b in P])\n",
    "    return (P[i],res)\n",
    "\n",
    "(s,hist) = evolve(P)\n",
    "print(s,fit(s))"
   ]
  },
  {
   "cell_type": "markdown",
   "metadata": {},
   "source": []
  },
  {
   "cell_type": "code",
   "execution_count": 10,
   "metadata": {
    "trusted": true
   },
   "outputs": [
    {
     "data": {
      "image/png": "[encoded data removed]",
      "text/plain": [
       "<Figure size 432x288 with 1 Axes>"
      ]
     },
     "metadata": {
      "needs_background": "light"
     },
     "output_type": "display_data"
    }
   ],
   "source": [
    "plt.plot(hist)\n",
    "plt.show()"
   ]
  },
  {
   "cell_type": "markdown",
   "metadata": {},
   "source": [
    "## समस्या २: एन क्विन्स समस्या\n",
    "\n",
    "**कार्य**:  \n",
    "तपाईंले $N$ क्विन्सलाई $N\\times N$ आकारको चेस बोर्डमा यसरी राख्नुपर्छ कि तिनीहरूले एक-अर्कालाई आक्रमण नगर्न सकून्।\n",
    "\n",
    "सबभन्दा पहिले, यो समस्या जेनेटिक एल्गोरिदम बिना, पूर्ण खोज प्रयोग गरेर समाधान गरौं। हामी बोर्डको अवस्थालाई सूची $L$ द्वारा प्रतिनिधित्व गर्न सक्छौं, जहाँ सूचीको $i$-औं संख्या $i$-औं पङ्क्तिमा क्विनको तेर्सो स्थान हो। यो स्पष्ट छ कि प्रत्येक समाधानमा प्रत्येक पङ्क्तिमा केवल एक क्विन हुनेछ, र प्रत्येक पङ्क्तिमा एक क्विन हुनेछ।\n",
    "\n",
    "हाम्रो लक्ष्य भनेको समस्याको पहिलो समाधान फेला पार्नु हो, त्यसपछि खोजी रोक्नेछौं। तपाईं सजिलै यो कार्यलाई सबै सम्भावित क्विनहरूको स्थानहरू उत्पन्न गर्न विस्तार गर्न सक्नुहुन्छ।\n"
   ]
  },
  {
   "cell_type": "code",
   "execution_count": 11,
   "metadata": {
    "trusted": true
   },
   "outputs": [
    {
     "name": "stdout",
     "output_type": "stream",
     "text": [
      "[1, 5, 8, 6, 3, 7, 2, 4]\n"
     ]
    },
    {
     "data": {
      "text/plain": [
       "True"
      ]
     },
     "execution_count": 11,
     "metadata": {},
     "output_type": "execute_result"
    }
   ],
   "source": [
    "N = 8\n",
    "\n",
    "def checkbeats(i_new,j_new,l):\n",
    "    for i,j in enumerate(l,start=1):\n",
    "        if j==j_new:\n",
    "            return False\n",
    "        else:\n",
    "            if abs(j-j_new) == i_new-i:\n",
    "                return False\n",
    "    return True\n",
    "\n",
    "def nqueens(l,N=8,disp=True):\n",
    "    if len(l)==N:\n",
    "        if disp: print(l)\n",
    "        return True\n",
    "    else:\n",
    "        for j in range(1,N+1):\n",
    "            if checkbeats(len(l)+1,j,l):\n",
    "                l.append(j)\n",
    "                if nqueens(l,N,disp): return True\n",
    "                else: l.pop()\n",
    "        return False\n",
    "            \n",
    "nqueens([],8)\n"
   ]
  },
  {
   "cell_type": "markdown",
   "metadata": {},
   "source": [
    "अब २०-रानी समस्याको समाधान पाउन कति समय लाग्छ भनेर मापन गरौं:\n"
   ]
  },
  {
   "cell_type": "code",
   "execution_count": 12,
   "metadata": {
    "trusted": true
   },
   "outputs": [
    {
     "name": "stdout",
     "output_type": "stream",
     "text": [
      "10.6 s ± 2.17 s per loop (mean ± std. dev. of 7 runs, 1 loop each)\n"
     ]
    }
   ],
   "source": [
    "%timeit nqueens([],20,False)"
   ]
  },
  {
   "cell_type": "markdown",
   "metadata": {},
   "source": [
    "अब हामी यो समस्या समाधान गर्नको लागि जेनेटिक एल्गोरिदम प्रयोग गर्नेछौं। यो समाधान [यो ब्लग पोस्ट](https://kushalvyas.github.io/gen_8Q.html) बाट प्रेरित छ।\n",
    "\n",
    "हामी प्रत्येक समाधानलाई $N$ लम्बाइको एउटै सूचीद्वारा प्रतिनिधित्व गर्नेछौं, र `fit` फंक्शनको रूपमा हामी ती रानीहरूको संख्या लिनेछौं जसले एकअर्कालाई आक्रमण गर्छन्:\n"
   ]
  },
  {
   "cell_type": "code",
   "execution_count": 13,
   "metadata": {
    "trusted": true
   },
   "outputs": [],
   "source": [
    "def fit(L):\n",
    "    x=0\n",
    "    for i1,j1 in enumerate(L,1):\n",
    "        for i2,j2 in enumerate(L,1):\n",
    "            if i2>i1:\n",
    "                if j2==j1 or (abs(j2-j1)==i2-i1): x+=1\n",
    "    return x"
   ]
  },
  {
   "cell_type": "markdown",
   "metadata": {},
   "source": []
  },
  {
   "cell_type": "code",
   "execution_count": 14,
   "metadata": {
    "trusted": true
   },
   "outputs": [
    {
     "data": {
      "text/plain": [
       "[(array([2, 3, 8, 7, 5, 4, 1, 6]), 4),\n",
       " (array([3, 4, 5, 1, 2, 8, 6, 7]), 8),\n",
       " (array([1, 3, 7, 4, 5, 8, 6, 2]), 6),\n",
       " (array([1, 5, 4, 6, 8, 3, 7, 2]), 4),\n",
       " (array([3, 5, 7, 1, 8, 6, 4, 2]), 3)]"
      ]
     },
     "execution_count": 14,
     "metadata": {},
     "output_type": "execute_result"
    }
   ],
   "source": [
    "def generate_one(N):\n",
    "    x = np.arange(1,N+1)\n",
    "    np.random.shuffle(x)\n",
    "    return (x,fit(x))\n",
    "\n",
    "def generate(N,NP):\n",
    "    return [generate_one(N) for _ in range(NP)]\n",
    "\n",
    "generate(8,5)"
   ]
  },
  {
   "cell_type": "markdown",
   "metadata": {},
   "source": []
  },
  {
   "cell_type": "code",
   "execution_count": 15,
   "metadata": {
    "trusted": true
   },
   "outputs": [
    {
     "data": {
      "text/plain": [
       "array([1, 2, 7, 8])"
      ]
     },
     "execution_count": 15,
     "metadata": {},
     "output_type": "execute_result"
    }
   ],
   "source": [
    "def mutate(G):\n",
    "    x=random.randint(0,len(G)-1)\n",
    "    G[x]=random.randint(1,len(G))\n",
    "    return G\n",
    "    \n",
    "def xover(G1,G2):\n",
    "    x=random.randint(0,len(G1))\n",
    "    return np.concatenate((G1[:x],G2[x:]))\n",
    "\n",
    "xover([1,2,3,4],[5,6,7,8])"
   ]
  },
  {
   "cell_type": "markdown",
   "metadata": {},
   "source": []
  },
  {
   "cell_type": "code",
   "execution_count": 17,
   "metadata": {
    "trusted": true
   },
   "outputs": [],
   "source": [
    "def choose_rand(P):\n",
    "    N=len(P[0][0])\n",
    "    mf = N*(N-1)//2 # max fitness fn\n",
    "    z = [mf-x[1] for x in P]\n",
    "    tf = sum(z) # total fitness\n",
    "    w = [x/tf for x in z]\n",
    "    p = np.random.choice(len(P),2,False,p=w)\n",
    "    return p[0],p[1]\n",
    "\n",
    "def choose(P):\n",
    "    def ch(w):\n",
    "        p=[]\n",
    "        while p==[]:\n",
    "            r = random.random()\n",
    "            p = [i for i,x in enumerate(P) if x[1]>=r]\n",
    "        return random.choice(p)\n",
    "    N=len(P[0][0])\n",
    "    mf = N*(N-1)//2 # max fitness fn\n",
    "    z = [mf-x[1] for x in P]\n",
    "    tf = sum(z) # total fitness\n",
    "    w = [x/tf for x in z]\n",
    "    p1=p2=0\n",
    "    while p1==p2:\n",
    "        p1 = ch(w)\n",
    "        p2 = ch(w)\n",
    "    return p1,p2"
   ]
  },
  {
   "cell_type": "markdown",
   "metadata": {},
   "source": [
    "अब मुख्य विकासात्मक लूप परिभाषित गरौं। हामी यस पटकको उदाहरणभन्दा फरक तरिकाले तर्कलाई अलि फरक बनाउनेछौं, ताकि कसरी सिर्जनात्मक हुन सकिन्छ भन्ने देखाउन सकियोस्। हामी लूपलाई तबसम्म चलाउनेछौं जबसम्म हामीले उत्तम समाधान (fitness function=0) प्राप्त गर्दैनौं, र प्रत्येक चरणमा हामी हालको पुस्तालाई लिनेछौं र उस्तै आकारको नयाँ पुस्ता उत्पादन गर्नेछौं। यो `nxgeneration` function प्रयोग गरेर गरिन्छ, निम्न चरणहरूको माध्यमबाट:\n",
    "\n",
    "1. सबैभन्दा अनुपयुक्त समाधानहरू हटाउनुहोस् - यसका लागि `discard_unfit` function प्रयोग गरिन्छ\n",
    "1. पुस्तामा केही थप अनियमित समाधानहरू थप्नुहोस्\n",
    "1. `gen_size` को आकारको नयाँ पुस्ता निम्न चरणहरूको माध्यमबाट प्रत्येक नयाँ जीनको लागि तयार गर्नुहोस्:\n",
    "    - दुई अनियमित जीनहरू चयन गर्नुहोस्, जसको सम्भावना fitness function को अनुपातमा हुन्छ\n",
    "    - एक crossover गणना गर्नुहोस्\n",
    "    - `mutation_prob` को सम्भावनासँग mutation लागू गर्नुहोस्\n"
   ]
  },
  {
   "cell_type": "code",
   "execution_count": 20,
   "metadata": {
    "trusted": true
   },
   "outputs": [
    {
     "data": {
      "text/plain": [
       "(array([4, 7, 5, 3, 1, 6, 8, 2]), 0)"
      ]
     },
     "execution_count": 20,
     "metadata": {},
     "output_type": "execute_result"
    }
   ],
   "source": [
    "mutation_prob = 0.1\n",
    "\n",
    "def discard_unfit(P):\n",
    "    P.sort(key=lambda x:x[1])\n",
    "    return P[:len(P)//3]\n",
    "\n",
    "def nxgeneration(P):\n",
    "    gen_size=len(P)\n",
    "    P = discard_unfit(P)\n",
    "    P.extend(generate(len(P[0][0]),3))\n",
    "    new_gen = []\n",
    "    for _ in range(gen_size):\n",
    "        p1,p2 = choose_rand(P)\n",
    "        n = xover(P[p1][0],P[p2][0])\n",
    "        if random.random()<mutation_prob:\n",
    "            n=mutate(n)\n",
    "        nf = fit(n)\n",
    "        new_gen.append((n,nf))\n",
    "        '''\n",
    "        if (nf<=P[p1][1]) or (nf<=P[p2][1]):\n",
    "            new_gen.append((n,nf))\n",
    "        elif (P[p1][1]<P[p2][1]):\n",
    "            new_gen.append(P[p1])\n",
    "        else:\n",
    "            new_gen.append(P[p2])\n",
    "        '''\n",
    "    return new_gen\n",
    "    \n",
    "def genetic(N,pop_size=100):\n",
    "    P = generate(N,pop_size)\n",
    "    mf = min([x[1] for x in P])\n",
    "    n=0\n",
    "    while mf>0:\n",
    "        #print(\"Generation {0}, fit={1}\".format(n,mf))\n",
    "        n+=1\n",
    "        mf = min([x[1] for x in P])\n",
    "        P = nxgeneration(P)\n",
    "    mi = np.argmin([x[1] for x in P])\n",
    "    return P[mi]\n",
    "\n",
    "genetic(8)"
   ]
  },
  {
   "cell_type": "markdown",
   "metadata": {},
   "source": []
  },
  {
   "cell_type": "code",
   "execution_count": 19,
   "metadata": {
    "trusted": true
   },
   "outputs": [
    {
     "name": "stdout",
     "output_type": "stream",
     "text": [
      "The slowest run took 18.71 times longer than the fastest. This could mean that an intermediate result is being cached.\n",
      "26.4 s ± 28.7 s per loop (mean ± std. dev. of 7 runs, 1 loop each)\n"
     ]
    }
   ],
   "source": [
    "%timeit genetic(10)"
   ]
  },
  {
   "cell_type": "markdown",
   "metadata": {},
   "source": [
    "\n---\n\n**अस्वीकरण**:  \nयो दस्तावेज़ AI अनुवाद सेवा [Co-op Translator](https://github.com/Azure/co-op-translator) प्रयोग गरेर अनुवाद गरिएको छ। हामी यथार्थताको लागि प्रयास गर्छौं, तर कृपया ध्यान दिनुहोस् कि स्वचालित अनुवादमा त्रुटिहरू वा अशुद्धताहरू हुन सक्छ। यसको मूल भाषामा रहेको मूल दस्तावेज़लाई आधिकारिक स्रोत मानिनुपर्छ। महत्वपूर्ण जानकारीको लागि, व्यावसायिक मानव अनुवाद सिफारिस गरिन्छ। यस अनुवादको प्रयोगबाट उत्पन्न हुने कुनै पनि गलतफहमी वा गलत व्याख्याको लागि हामी जिम्मेवार हुने छैनौं।\n"
   ]
  }
 ],
 "metadata": {
  "interpreter": {
   "hash": "86193a1ab0ba47eac1c69c1756090baa3b420b3eea7d4aafab8b85f8b312f0c5"
  },
  "kernelspec": {
   "display_name": "Python 3.6",
   "language": "python",
   "name": "python3"
  },
  "language_info": {
   "codemirror_mode": {
    "name": "ipython",
    "version": 3
   },
   "file_extension": ".py",
   "mimetype": "text/x-python",
   "name": "python",
   "nbconvert_exporter": "python",
   "pygments_lexer": "ipython3",
   "version": "3.9.5"
  },
  "coopTranslator": {
   "original_hash": "1012c117808753433f6e2696e775ff4b",
   "translation_date": "2025-08-28T07:28:38+00:00",
   "source_file": "lessons/6-Other/21-GeneticAlgorithms/Genetic.ipynb",
   "language_code": "ne"
  }
 },
 "nbformat": 4,
 "nbformat_minor": 2
}