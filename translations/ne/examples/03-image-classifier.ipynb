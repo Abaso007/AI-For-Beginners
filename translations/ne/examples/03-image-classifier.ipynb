{
 "cells": [
  {
   "cell_type": "markdown",
   "metadata": {},
   "source": [
    "# साधारण छवि वर्गीकरणकर्ता\n",
    "\n",
    "यो नोटबुकले तपाईंलाई पूर्व-प्रशिक्षित न्यूरल नेटवर्क प्रयोग गरेर छविहरू वर्गीकृत गर्ने तरिका देखाउँछ।\n",
    "\n",
    "**तपाईंले के सिक्नुहुनेछ:**\n",
    "- पूर्व-प्रशिक्षित मोडेल कसरी लोड गर्ने र प्रयोग गर्ने\n",
    "- छवि पूर्व-प्रक्रिया\n",
    "- छविहरूमा भविष्यवाणी गर्ने तरिका\n",
    "- आत्मविश्वास स्कोर बुझ्ने\n",
    "\n",
    "**प्रयोगको मामला:** छविहरूमा वस्तुहरू पहिचान गर्नुहोस् (जस्तै \"बिरालो\", \"कुकुर\", \"कार\", आदि) \n",
    "\n",
    "---\n"
   ]
  },
  {
   "cell_type": "markdown",
   "metadata": {},
   "source": [
    "## चरण १: आवश्यक लाइब्रेरीहरू आयात गर्नुहोस्\n",
    "\n",
    "हामीलाई चाहिने उपकरणहरू आयात गरौं। यदि तपाईंलाई यी सबै बुझ्न गाह्रो भयो भने चिन्ता नगर्नुहोस्!\n"
   ]
  },
  {
   "cell_type": "code",
   "execution_count": null,
   "metadata": {},
   "outputs": [],
   "source": [
    "# Core libraries\n",
    "import numpy as np\n",
    "from PIL import Image\n",
    "import requests\n",
    "from io import BytesIO\n",
    "\n",
    "# TensorFlow for deep learning\n",
    "try:\n",
    "    import tensorflow as tf\n",
    "    from tensorflow.keras.applications import MobileNetV2\n",
    "    from tensorflow.keras.applications.mobilenet_v2 import preprocess_input, decode_predictions\n",
    "    print(\"✅ TensorFlow loaded successfully!\")\n",
    "    print(f\"   Version: {tf.__version__}\")\n",
    "except ImportError:\n",
    "    print(\"❌ Please install TensorFlow: pip install tensorflow\")"
   ]
  },
  {
   "cell_type": "markdown",
   "metadata": {},
   "source": [
    "## चरण २: प्रि-ट्रेन गरिएको मोडेल लोड गर्नुहोस्\n",
    "\n",
    "हामी **MobileNetV2** प्रयोग गर्नेछौं, जुन लाखौं तस्बिरहरूमा पहिले नै प्रशिक्षित गरिएको न्युरल नेटवर्क हो।\n",
    "\n",
    "यसलाई **ट्रान्सफर लर्निङ** भनिन्छ - अरूले प्रशिक्षित गरेको मोडेल प्रयोग गर्नु!\n"
   ]
  },
  {
   "cell_type": "code",
   "execution_count": null,
   "metadata": {},
   "outputs": [],
   "source": [
    "print(\"📦 Loading pre-trained MobileNetV2 model...\")\n",
    "print(\"   This may take a minute on first run (downloading weights)...\")\n",
    "\n",
    "# Load the model\n",
    "# include_top=True means we use the classification layer\n",
    "# weights='imagenet' means it was trained on ImageNet dataset\n",
    "model = MobileNetV2(weights='imagenet', include_top=True)\n",
    "\n",
    "print(\"✅ Model loaded!\")\n",
    "print(f\"   The model can recognize 1000 different object categories\")"
   ]
  },
  {
   "cell_type": "markdown",
   "metadata": {},
   "source": [
    "## चरण ३: सहायक फङ्सनहरू\n",
    "\n",
    "हामी हाम्रो मोडेलका लागि छविहरू लोड गर्न र तयार गर्न फङ्सनहरू बनाउँछौं।\n"
   ]
  },
  {
   "cell_type": "code",
   "execution_count": null,
   "metadata": {},
   "outputs": [],
   "source": [
    "def load_image_from_url(url):\n",
    "    \"\"\"\n",
    "    Load an image from a URL.\n",
    "    \n",
    "    Args:\n",
    "        url: Web address of the image\n",
    "        \n",
    "    Returns:\n",
    "        PIL Image object\n",
    "    \"\"\"\n",
    "    response = requests.get(url)\n",
    "    img = Image.open(BytesIO(response.content))\n",
    "    return img\n",
    "\n",
    "\n",
    "def prepare_image(img):\n",
    "    \"\"\"\n",
    "    Prepare an image for the model.\n",
    "    \n",
    "    Steps:\n",
    "    1. Resize to 224x224 (model's expected size)\n",
    "    2. Convert to array\n",
    "    3. Add batch dimension\n",
    "    4. Preprocess for MobileNetV2\n",
    "    \n",
    "    Args:\n",
    "        img: PIL Image\n",
    "        \n",
    "    Returns:\n",
    "        Preprocessed image array\n",
    "    \"\"\"\n",
    "    # Resize to 224x224 pixels\n",
    "    img = img.resize((224, 224))\n",
    "    \n",
    "    # Convert to numpy array\n",
    "    img_array = np.array(img)\n",
    "    \n",
    "    # Add batch dimension (model expects multiple images)\n",
    "    img_array = np.expand_dims(img_array, axis=0)\n",
    "    \n",
    "    # Preprocess for MobileNetV2\n",
    "    img_array = preprocess_input(img_array)\n",
    "    \n",
    "    return img_array\n",
    "\n",
    "\n",
    "def classify_image(img):\n",
    "    \"\"\"\n",
    "    Classify an image and return top predictions.\n",
    "    \n",
    "    Args:\n",
    "        img: PIL Image\n",
    "        \n",
    "    Returns:\n",
    "        List of (class_name, confidence) tuples\n",
    "    \"\"\"\n",
    "    # Prepare the image\n",
    "    img_array = prepare_image(img)\n",
    "    \n",
    "    # Make prediction\n",
    "    predictions = model.predict(img_array, verbose=0)\n",
    "    \n",
    "    # Decode predictions to human-readable labels\n",
    "    # top=5 means we get the top 5 most likely classes\n",
    "    decoded = decode_predictions(predictions, top=5)[0]\n",
    "    \n",
    "    # Convert to simpler format\n",
    "    results = [(label, float(confidence)) for (_, label, confidence) in decoded]\n",
    "    \n",
    "    return results\n",
    "\n",
    "\n",
    "print(\"✅ Helper functions ready!\")"
   ]
  },
  {
   "cell_type": "markdown",
   "metadata": {},
   "source": [
    "## चरण ४: नमूना छविहरूमा परीक्षण गर्नुहोस्\n",
    "\n",
    "इन्टरनेटबाट केही छविहरू वर्गीकरण गर्ने प्रयास गरौं!\n"
   ]
  },
  {
   "cell_type": "code",
   "execution_count": null,
   "metadata": {},
   "outputs": [],
   "source": [
    "# Sample images to classify\n",
    "# These are from Unsplash (free stock photos)\n",
    "test_images = [\n",
    "    {\n",
    "        \"url\": \"https://images.unsplash.com/photo-1514888286974-6c03e2ca1dba?w=400\",\n",
    "        \"description\": \"A cat\"\n",
    "    },\n",
    "    {\n",
    "        \"url\": \"https://images.unsplash.com/photo-1552053831-71594a27632d?w=400\",\n",
    "        \"description\": \"A dog\"\n",
    "    },\n",
    "    {\n",
    "        \"url\": \"https://images.unsplash.com/photo-1511919884226-fd3cad34687c?w=400\",\n",
    "        \"description\": \"A car\"\n",
    "    },\n",
    "]\n",
    "\n",
    "print(f\"🧪 Testing on {len(test_images)} images...\")\n",
    "print(\"=\" * 70)"
   ]
  },
  {
   "cell_type": "markdown",
   "metadata": {},
   "source": [
    "### प्रत्येक छविको वर्गीकरण गर्नुहोस्\n"
   ]
  },
  {
   "cell_type": "code",
   "execution_count": null,
   "metadata": {},
   "outputs": [],
   "source": [
    "for i, img_data in enumerate(test_images, 1):\n",
    "    print(f\"\\n📸 Image {i}: {img_data['description']}\")\n",
    "    print(\"-\" * 70)\n",
    "    \n",
    "    try:\n",
    "        # Load image\n",
    "        img = load_image_from_url(img_data['url'])\n",
    "        \n",
    "        # Display image\n",
    "        display(img.resize((200, 200)))  # Show smaller version\n",
    "        \n",
    "        # Classify\n",
    "        results = classify_image(img)\n",
    "        \n",
    "        # Show predictions\n",
    "        print(\"\\n🎯 Top 5 Predictions:\")\n",
    "        for rank, (label, confidence) in enumerate(results, 1):\n",
    "            # Create a visual bar\n",
    "            bar_length = int(confidence * 50)\n",
    "            bar = \"█\" * bar_length\n",
    "            \n",
    "            print(f\"  {rank}. {label:20s} {confidence*100:5.2f}% {bar}\")\n",
    "        \n",
    "    except Exception as e:\n",
    "        print(f\"❌ Error: {e}\")\n",
    "\n",
    "print(\"\\n\" + \"=\" * 70)"
   ]
  },
  {
   "cell_type": "markdown",
   "metadata": {},
   "source": [
    "## चरण ५: आफ्नै तस्वीरहरू प्रयास गर्नुहोस्!\n",
    "\n",
    "तलको URL लाई तपाईं वर्गीकरण गर्न चाहनुभएको कुनै पनि तस्वीरको URL सँग बदल्नुहोस्।\n"
   ]
  },
  {
   "cell_type": "code",
   "execution_count": null,
   "metadata": {},
   "outputs": [],
   "source": [
    "# Try your own image!\n",
    "# Replace this URL with any image URL\n",
    "custom_image_url = \"https://images.unsplash.com/photo-1472491235688-bdc81a63246e?w=400\"  # A flower\n",
    "\n",
    "print(\"🖼️  Classifying your custom image...\")\n",
    "print(\"=\" * 70)\n",
    "\n",
    "try:\n",
    "    # Load and show image\n",
    "    img = load_image_from_url(custom_image_url)\n",
    "    display(img.resize((300, 300)))\n",
    "    \n",
    "    # Classify\n",
    "    results = classify_image(img)\n",
    "    \n",
    "    # Show results\n",
    "    print(\"\\n🎯 Top 5 Predictions:\")\n",
    "    print(\"-\" * 70)\n",
    "    for rank, (label, confidence) in enumerate(results, 1):\n",
    "        bar_length = int(confidence * 50)\n",
    "        bar = \"█\" * bar_length\n",
    "        print(f\"  {rank}. {label:20s} {confidence*100:5.2f}% {bar}\")\n",
    "    \n",
    "    # Highlight top prediction\n",
    "    top_label, top_confidence = results[0]\n",
    "    print(\"\\n\" + \"=\" * 70)\n",
    "    print(f\"\\n🏆 Best guess: {top_label} ({top_confidence*100:.2f}% confident)\")\n",
    "    \n",
    "except Exception as e:\n",
    "    print(f\"❌ Error: {e}\")\n",
    "    print(\"   Make sure the URL points to a valid image!\")"
   ]
  },
  {
   "cell_type": "markdown",
   "metadata": {},
   "source": [
    "## 💡 के भयो?\n",
    "\n",
    "1. **हामीले प्रि-ट्रेन गरिएको मोडेल लोड गर्यौं** - MobileNetV2 लाखौं तस्बिरहरूमा प्रशिक्षित गरिएको थियो  \n",
    "2. **हामीले तस्बिरहरू प्रि-प्रोसेस गर्यौं** - मोडेलका लागि आकार परिवर्तन गरियो र फर्म्याट गरियो  \n",
    "3. **मोडेलले भविष्यवाणी गर्यो** - यसले 1000 वस्तु वर्गहरूको लागि सम्भावनाहरू उत्पादन गर्यो  \n",
    "4. **हामीले नतिजा डिकोड गर्यौं** - संख्याहरूलाई मानवले बुझ्न सकिने लेबलमा परिवर्तन गरियो  \n",
    "\n",
    "### विश्वास स्कोर बुझ्दै\n",
    "\n",
    "- **९०-१००%**: धेरै विश्वस्त (लगभग पक्का सही)  \n",
    "- **७०-९०%**: विश्वस्त (सायद सही)  \n",
    "- **५०-७०%**: केही हदसम्म विश्वस्त (सही हुन सक्छ)  \n",
    "- **५०% भन्दा कम**: धेरै विश्वस्त छैन (अनिश्चित)  \n",
    "\n",
    "### किन भविष्यवाणीहरू गलत हुन सक्छन्?\n",
    "\n",
    "- **असामान्य कोण वा प्रकाश** - मोडेल सामान्य तस्बिरहरूमा प्रशिक्षित गरिएको थियो  \n",
    "- **धेरै वस्तुहरू** - मोडेलले एक मुख्य वस्तु अपेक्षा गर्छ  \n",
    "- **दुर्लभ वस्तुहरू** - मोडेलले केवल 1000 वर्गहरू मात्र चिन्छ  \n",
    "- **कम गुणस्तरको तस्बिर** - धमिलो वा पिक्सेलेटेड तस्बिरहरू कठिन हुन्छन्  \n",
    "\n",
    "---  \n"
   ]
  },
  {
   "cell_type": "markdown",
   "metadata": {},
   "source": [
    "## 🚀 आगामी कदमहरू\n",
    "\n",
    "1. **विभिन्न तस्बिरहरू प्रयास गर्नुहोस्:**\n",
    "   - [Unsplash](https://unsplash.com) मा तस्बिरहरू खोज्नुहोस्\n",
    "   - दायाँ-क्लिक गर्नुहोस् → \"Copy image address\" गरेर URL प्राप्त गर्नुहोस्\n",
    "\n",
    "2. **परीक्षण गर्नुहोस्:**\n",
    "   - अमूर्त कलासँग के हुन्छ?\n",
    "   - के यसले विभिन्न कोणबाट वस्तुहरू चिन्न सक्छ?\n",
    "   - यसले धेरै वस्तुहरूलाई कसरी व्यवस्थापन गर्छ?\n",
    "\n",
    "3. **थप जान्नुहोस्:**\n",
    "   - [Computer Vision पाठहरू](../lessons/4-ComputerVision/README.md) अन्वेषण गर्नुहोस्\n",
    "   - आफ्नो तस्बिर वर्गीकरणकर्ता प्रशिक्षण गर्न सिक्नुहोस्\n",
    "   - CNNs (Convolutional Neural Networks) कसरी काम गर्छन् बुझ्नुहोस्\n",
    "\n",
    "---\n",
    "\n",
    "## 🎉 बधाई छ!\n",
    "\n",
    "तपाईंले अत्याधुनिक न्यूरल नेटवर्क प्रयोग गरेर तस्बिर वर्गीकरणकर्ता निर्माण गर्नुभयो!\n",
    "\n",
    "यही प्रविधिले निम्नलाई शक्ति दिन्छ:\n",
    "- Google Photos (तपाईंका तस्बिरहरू व्यवस्थित गर्दै)\n",
    "- स्वचालित कारहरू (वस्तुहरू चिन्दै)\n",
    "- चिकित्सा निदान (X-rays विश्लेषण गर्दै)\n",
    "- गुणस्तर नियन्त्रण (त्रुटिहरू पत्ता लगाउँदै)\n",
    "\n",
    "अन्वेषण र सिकाइ जारी राख्नुहोस्! 🚀\n"
   ]
  },
  {
   "cell_type": "markdown",
   "metadata": {},
   "source": [
    "\n---\n\n**अस्वीकरण**:  \nयो दस्तावेज़ AI अनुवाद सेवा [Co-op Translator](https://github.com/Azure/co-op-translator) प्रयोग गरी अनुवाद गरिएको हो। हामी यथासम्भव सटीकता सुनिश्चित गर्न प्रयास गर्छौं, तर कृपया ध्यान दिनुहोस् कि स्वचालित अनुवादहरूमा त्रुटिहरू वा अशुद्धताहरू हुन सक्छन्। यसको मूल भाषामा रहेको मूल दस्तावेज़लाई आधिकारिक स्रोत मानिनुपर्छ। महत्वपूर्ण जानकारीका लागि, व्यावसायिक मानव अनुवाद सिफारिस गरिन्छ। यस अनुवादको प्रयोगबाट उत्पन्न कुनै पनि गलतफहमी वा गलत व्याख्याको लागि हामी जिम्मेवार हुने छैनौं।\n"
   ]
  }
 ],
 "metadata": {
  "kernelspec": {
   "display_name": "Python 3",
   "language": "python",
   "name": "python3"
  },
  "language_info": {
   "codemirror_mode": {
    "name": "ipython",
    "version": 3
   },
   "file_extension": ".py",
   "mimetype": "text/x-python",
   "name": "python",
   "nbconvert_exporter": "python",
   "pygments_lexer": "ipython3",
   "version": "3.8.0"
  },
  "coopTranslator": {
   "original_hash": "1d472141d9df46b751542b3c29f88677",
   "translation_date": "2025-10-03T11:43:07+00:00",
   "source_file": "examples/03-image-classifier.ipynb",
   "language_code": "ne"
  }
 },
 "nbformat": 4,
 "nbformat_minor": 4
}