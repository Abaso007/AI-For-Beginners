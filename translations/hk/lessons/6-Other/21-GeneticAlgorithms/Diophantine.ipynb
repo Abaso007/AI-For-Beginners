{
 "cells": [
  {
   "cell_type": "markdown",
   "metadata": {},
   "source": [
    "## 作業：丟番圖方程\n",
    "\n",
    "> 此作業是 [AI for Beginners Curriculum](http://github.com/microsoft/ai-for-beginners) 的一部分，靈感來自 [這篇文章](https://habr.com/post/128704/)。\n",
    "\n",
    "你的目標是解決所謂的 **丟番圖方程**——一種具有整數根和整數係數的方程。例如，考慮以下方程：\n",
    "\n",
    "$$a+2b+3c+4d=30$$\n",
    "\n",
    "你需要找到整數根 $a$,$b$,$c$,$d\\in\\mathbb{N}$，使其滿足這個方程。\n",
    "\n",
    "提示：\n",
    "1. 你可以考慮根值在區間 [0;30] 之內\n",
    "1. 作為基因，可以考慮使用根值的列表\n"
   ]
  },
  {
   "cell_type": "markdown",
   "metadata": {},
   "source": []
  },
  {
   "cell_type": "markdown",
   "metadata": {},
   "source": [
    "\n---\n\n**免責聲明**：  \n本文件已使用人工智能翻譯服務 [Co-op Translator](https://github.com/Azure/co-op-translator) 進行翻譯。儘管我們致力於提供準確的翻譯，但請注意，自動翻譯可能包含錯誤或不準確之處。原始文件的母語版本應被視為權威來源。對於重要信息，建議使用專業人工翻譯。我們對因使用此翻譯而引起的任何誤解或錯誤解釋不承擔責任。\n"
   ]
  }
 ],
 "metadata": {
  "language_info": {
   "name": "python"
  },
  "orig_nbformat": 4,
  "coopTranslator": {
   "original_hash": "a967e1fa1e11ab2b6467b19349a4a9aa",
   "translation_date": "2025-08-31T09:21:19+00:00",
   "source_file": "lessons/6-Other/21-GeneticAlgorithms/Diophantine.ipynb",
   "language_code": "hk"
  }
 },
 "nbformat": 4,
 "nbformat_minor": 2
}