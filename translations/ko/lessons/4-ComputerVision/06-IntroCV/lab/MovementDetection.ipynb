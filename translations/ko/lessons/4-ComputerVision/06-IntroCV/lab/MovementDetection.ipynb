{
 "cells": [
  {
   "cell_type": "markdown",
   "metadata": {},
   "source": [
    "**목표**는 Optical Flow를 사용하여 비디오의 어느 부분에서 위/아래/왼쪽/오른쪽 움직임이 발생했는지 확인하는 것입니다.\n",
    "\n",
    "강의에서 설명한 대로 비디오 프레임을 가져오는 것부터 시작하세요:\n"
   ]
  },
  {
   "cell_type": "code",
   "execution_count": null,
   "metadata": {},
   "outputs": [],
   "source": [
    "# Code here"
   ]
  },
  {
   "cell_type": "markdown",
   "metadata": {},
   "source": [
    "이제 강의에서 설명한 대로 밀집 광학 흐름 프레임을 계산하고 밀집 광학 흐름을 극좌표로 변환하십시오.\n"
   ]
  },
  {
   "cell_type": "code",
   "execution_count": null,
   "metadata": {},
   "outputs": [],
   "source": [
    "# Code here"
   ]
  },
  {
   "cell_type": "markdown",
   "metadata": {},
   "source": [
    "각 광학 흐름 프레임에 대해 방향 히스토그램을 생성합니다. 히스토그램은 특정 구간에 속하는 벡터의 개수를 보여주며, 프레임에서 서로 다른 움직임 방향을 구분할 수 있도록 해야 합니다.\n",
    "\n",
    "> 또한, 크기가 특정 임계값보다 작은 모든 벡터를 0으로 설정하는 것도 고려해볼 수 있습니다. 이렇게 하면 눈이나 머리와 같은 비디오의 작은 추가 움직임을 제거할 수 있습니다.\n",
    "\n",
    "일부 프레임에 대한 히스토그램을 그려보세요.\n"
   ]
  },
  {
   "cell_type": "code",
   "execution_count": null,
   "metadata": {},
   "outputs": [],
   "source": [
    "# Code here"
   ]
  },
  {
   "cell_type": "markdown",
   "metadata": {},
   "source": [
    "히스토그램을 보면 이동 방향을 결정하는 방법이 비교적 간단해야 합니다. 특정 임계값을 초과하는 위/아래/왼쪽/오른쪽 방향에 해당하는 빈을 선택해야 합니다.\n"
   ]
  },
  {
   "cell_type": "code",
   "execution_count": null,
   "metadata": {},
   "outputs": [],
   "source": [
    "# Code here"
   ]
  },
  {
   "cell_type": "markdown",
   "metadata": {},
   "source": [
    "축하합니다! 위의 모든 단계를 완료했다면, 실습을 완료한 것입니다!\n"
   ]
  },
  {
   "cell_type": "markdown",
   "metadata": {},
   "source": [
    "\n---\n\n**면책 조항**:  \n이 문서는 AI 번역 서비스 [Co-op Translator](https://github.com/Azure/co-op-translator)를 사용하여 번역되었습니다. 정확성을 위해 최선을 다하고 있지만, 자동 번역에는 오류나 부정확성이 포함될 수 있습니다. 원본 문서를 해당 언어로 작성된 상태에서 권위 있는 자료로 간주해야 합니다. 중요한 정보의 경우, 전문적인 인간 번역을 권장합니다. 이 번역 사용으로 인해 발생하는 오해나 잘못된 해석에 대해 당사는 책임을 지지 않습니다.\n"
   ]
  }
 ],
 "metadata": {
  "language_info": {
   "name": "python"
  },
  "orig_nbformat": 4,
  "coopTranslator": {
   "original_hash": "153d9e417e079bf62f8f693002d0deaf",
   "translation_date": "2025-08-31T12:56:58+00:00",
   "source_file": "lessons/4-ComputerVision/06-IntroCV/lab/MovementDetection.ipynb",
   "language_code": "ko"
  }
 },
 "nbformat": 4,
 "nbformat_minor": 2
}