{
 "cells": [
  {
   "cell_type": "markdown",
   "metadata": {},
   "source": [
    "## 과제: 디오판토스 방정식\n",
    "\n",
    "> 이 과제는 [AI for Beginners Curriculum](http://github.com/microsoft/ai-for-beginners)의 일부이며, [이 게시물](https://habr.com/post/128704/)에서 영감을 받았습니다.\n",
    "\n",
    "여러분의 목표는 **디오판토스 방정식**이라고 불리는 방정식을 푸는 것입니다. 이 방정식은 정수 해와 정수 계수를 가지는 방정식입니다. 예를 들어, 다음과 같은 방정식을 생각해봅시다:\n",
    "\n",
    "$$a+2b+3c+4d=30$$\n",
    "\n",
    "이 방정식을 만족하는 정수 해 $a$,$b$,$c$,$d\\in\\mathbb{N}$를 찾아야 합니다.\n",
    "\n",
    "힌트:\n",
    "1. 해를 [0;30] 구간 내에서 고려할 수 있습니다.\n",
    "1. 유전자(gene)로 해 값들의 리스트를 사용하는 것을 고려해보세요.\n"
   ]
  },
  {
   "cell_type": "markdown",
   "metadata": {},
   "source": []
  },
  {
   "cell_type": "markdown",
   "metadata": {},
   "source": [
    "\n---\n\n**면책 조항**:  \n이 문서는 AI 번역 서비스 [Co-op Translator](https://github.com/Azure/co-op-translator)를 사용하여 번역되었습니다. 정확성을 위해 최선을 다하고 있지만, 자동 번역에는 오류나 부정확성이 포함될 수 있습니다. 원본 문서의 원어 버전이 권위 있는 출처로 간주되어야 합니다. 중요한 정보의 경우, 전문적인 인간 번역을 권장합니다. 이 번역 사용으로 인해 발생하는 오해나 잘못된 해석에 대해 책임을 지지 않습니다.\n"
   ]
  }
 ],
 "metadata": {
  "language_info": {
   "name": "python"
  },
  "orig_nbformat": 4,
  "coopTranslator": {
   "original_hash": "a967e1fa1e11ab2b6467b19349a4a9aa",
   "translation_date": "2025-08-31T12:25:38+00:00",
   "source_file": "lessons/6-Other/21-GeneticAlgorithms/Diophantine.ipynb",
   "language_code": "ko"
  }
 },
 "nbformat": 4,
 "nbformat_minor": 2
}