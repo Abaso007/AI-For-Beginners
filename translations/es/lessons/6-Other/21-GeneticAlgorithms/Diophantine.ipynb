{
 "cells": [
  {
   "cell_type": "markdown",
   "metadata": {},
   "source": [
    "## Asignación: Ecuaciones Diofánticas\n",
    "\n",
    "> Esta asignación forma parte del [Currículo de IA para Principiantes](http://github.com/microsoft/ai-for-beginners) y está inspirada en [este artículo](https://habr.com/post/128704/).\n",
    "\n",
    "Tu objetivo es resolver la llamada **ecuación diofántica**, una ecuación con raíces enteras y coeficientes enteros. Por ejemplo, considera la siguiente ecuación:\n",
    "\n",
    "$$a+2b+3c+4d=30$$\n",
    "\n",
    "Necesitas encontrar raíces enteras $a$, $b$, $c$, $d\\in\\mathbb{N}$ que satisfagan esta ecuación.\n",
    "\n",
    "Pistas:\n",
    "1. Puedes considerar que las raíces están en el intervalo [0;30].\n",
    "1. Como un gen, considera usar la lista de valores de las raíces.\n"
   ]
  },
  {
   "cell_type": "markdown",
   "metadata": {},
   "source": []
  },
  {
   "cell_type": "markdown",
   "metadata": {},
   "source": [
    "\n---\n\n**Descargo de responsabilidad**:  \nEste documento ha sido traducido utilizando el servicio de traducción automática [Co-op Translator](https://github.com/Azure/co-op-translator). Aunque nos esforzamos por garantizar la precisión, tenga en cuenta que las traducciones automatizadas pueden contener errores o imprecisiones. El documento original en su idioma nativo debe considerarse como la fuente autorizada. Para información crítica, se recomienda una traducción profesional realizada por humanos. No nos hacemos responsables de malentendidos o interpretaciones erróneas que puedan surgir del uso de esta traducción.\n"
   ]
  }
 ],
 "metadata": {
  "language_info": {
   "name": "python"
  },
  "orig_nbformat": 4,
  "coopTranslator": {
   "original_hash": "a967e1fa1e11ab2b6467b19349a4a9aa",
   "translation_date": "2025-08-31T15:40:29+00:00",
   "source_file": "lessons/6-Other/21-GeneticAlgorithms/Diophantine.ipynb",
   "language_code": "es"
  }
 },
 "nbformat": 4,
 "nbformat_minor": 2
}