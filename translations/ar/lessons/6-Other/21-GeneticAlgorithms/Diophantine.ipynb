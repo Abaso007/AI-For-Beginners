{
 "cells": [
  {
   "cell_type": "markdown",
   "metadata": {},
   "source": [
    "## المهمة: معادلات ديوفانتين\n",
    "\n",
    "> هذه المهمة جزء من [منهج الذكاء الاصطناعي للمبتدئين](http://github.com/microsoft/ai-for-beginners) ومستوحاة من [هذا المنشور](https://habr.com/post/128704/).\n",
    "\n",
    "هدفك هو حل ما يُعرف بـ **معادلة ديوفانتين** - وهي معادلة ذات جذور صحيحة ومعاملات صحيحة. على سبيل المثال، انظر إلى المعادلة التالية:\n",
    "\n",
    "$$a+2b+3c+4d=30$$\n",
    "\n",
    "تحتاج إلى إيجاد جذور صحيحة $a$,$b$,$c$,$d\\in\\mathbb{N}$ تحقق هذه المعادلة.\n",
    "\n",
    "تلميحات:\n",
    "1. يمكنك اعتبار الجذور ضمن النطاق [0;30]\n",
    "1. كجين، يمكنك التفكير في استخدام قائمة قيم الجذور\n"
   ]
  },
  {
   "cell_type": "markdown",
   "metadata": {},
   "source": []
  },
  {
   "cell_type": "markdown",
   "metadata": {},
   "source": [
    "\n---\n\n**إخلاء المسؤولية**:  \nتم ترجمة هذا المستند باستخدام خدمة الترجمة بالذكاء الاصطناعي [Co-op Translator](https://github.com/Azure/co-op-translator). بينما نسعى لتحقيق الدقة، يرجى العلم أن الترجمات الآلية قد تحتوي على أخطاء أو معلومات غير دقيقة. يجب اعتبار المستند الأصلي بلغته الأصلية المصدر الموثوق. للحصول على معلومات حاسمة، يُوصى بالاستعانة بترجمة بشرية احترافية. نحن غير مسؤولين عن أي سوء فهم أو تفسيرات خاطئة تنشأ عن استخدام هذه الترجمة.\n"
   ]
  }
 ],
 "metadata": {
  "language_info": {
   "name": "python"
  },
  "orig_nbformat": 4,
  "coopTranslator": {
   "original_hash": "a967e1fa1e11ab2b6467b19349a4a9aa",
   "translation_date": "2025-08-28T02:47:24+00:00",
   "source_file": "lessons/6-Other/21-GeneticAlgorithms/Diophantine.ipynb",
   "language_code": "ar"
  }
 },
 "nbformat": 4,
 "nbformat_minor": 2
}