{
 "cells": [
  {
   "cell_type": "markdown",
   "metadata": {},
   "source": [
    "# طبقه‌بندی ارقام MNIST با چارچوب خودمان\n",
    "\n",
    "تکلیف آزمایشگاهی از [برنامه درسی هوش مصنوعی برای مبتدیان](https://github.com/microsoft/ai-for-beginners).\n",
    "\n",
    "### خواندن مجموعه داده\n",
    "\n",
    "این کد مجموعه داده را از مخزن موجود در اینترنت دانلود می‌کند. همچنین می‌توانید مجموعه داده را به صورت دستی از پوشه `/data` در مخزن برنامه درسی هوش مصنوعی کپی کنید.\n"
   ]
  },
  {
   "cell_type": "code",
   "execution_count": 4,
   "metadata": {
    "tags": []
   },
   "outputs": [
    {
     "name": "stderr",
     "output_type": "stream",
     "text": [
      "  % Total    % Received % Xferd  Average Speed   Time    Time     Time  Current\n",
      "                                 Dload  Upload   Total   Spent    Left  Speed\n",
      "\n",
      "  0     0    0     0    0     0      0      0 --:--:-- --:--:-- --:--:--     0\n",
      "100  9.9M  100  9.9M    0     0   9.9M      0  0:00:01 --:--:--  0:00:01 15.8M\n"
     ]
    }
   ],
   "source": [
    "!rm *.pkl\n",
    "!wget https://raw.githubusercontent.com/microsoft/AI-For-Beginners/main/data/mnist.pkl.gz\n",
    "!gzip -d mnist.pkl.gz"
   ]
  },
  {
   "cell_type": "code",
   "execution_count": 3,
   "metadata": {},
   "outputs": [],
   "source": [
    "import pickle\n",
    "with open('mnist.pkl','rb') as f:\n",
    "    MNIST = pickle.load(f)"
   ]
  },
  {
   "cell_type": "code",
   "execution_count": 4,
   "metadata": {},
   "outputs": [],
   "source": [
    "labels = MNIST['Train']['Labels']\n",
    "data = MNIST['Train']['Features']"
   ]
  },
  {
   "cell_type": "markdown",
   "metadata": {},
   "source": [
    "بیایید ببینیم شکل داده‌ای که داریم چیست:\n"
   ]
  },
  {
   "cell_type": "code",
   "execution_count": 5,
   "metadata": {},
   "outputs": [
    {
     "data": {
      "text/plain": [
       "(42000, 784)"
      ]
     },
     "execution_count": 5,
     "metadata": {},
     "output_type": "execute_result"
    }
   ],
   "source": [
    "data.shape"
   ]
  },
  {
   "cell_type": "markdown",
   "metadata": {},
   "source": [
    "### تقسیم داده‌ها\n",
    "\n",
    "ما از Scikit Learn برای تقسیم داده‌ها بین مجموعه داده‌های آموزشی و آزمایشی استفاده خواهیم کرد:\n"
   ]
  },
  {
   "cell_type": "code",
   "execution_count": 6,
   "metadata": {},
   "outputs": [
    {
     "name": "stdout",
     "output_type": "stream",
     "text": [
      "Train samples: 33600, test samples: 8400\n"
     ]
    }
   ],
   "source": [
    "from sklearn.model_selection import train_test_split\n",
    "\n",
    "features_train, features_test, labels_train, labels_test = train_test_split(data,labels,test_size=0.2)\n",
    "\n",
    "print(f\"Train samples: {len(features_train)}, test samples: {len(features_test)}\")"
   ]
  },
  {
   "cell_type": "markdown",
   "metadata": {},
   "source": [
    "### دستورالعمل‌ها\n",
    "\n",
    "1. کد چارچوب را از درس گرفته و آن را در این نوت‌بوک قرار دهید، یا (حتی بهتر) در یک ماژول پایتون جداگانه قرار دهید.\n",
    "1. یک پرسپترون تک‌لایه تعریف و آموزش دهید و دقت آموزش و اعتبارسنجی را در طول آموزش مشاهده کنید.\n",
    "1. سعی کنید بفهمید آیا بیش‌برازش رخ داده است یا خیر، و پارامترهای لایه را برای بهبود دقت تنظیم کنید.\n",
    "1. مراحل قبلی را برای پرسپترون‌های ۲ و ۳ لایه تکرار کنید. سعی کنید با توابع فعال‌سازی مختلف بین لایه‌ها آزمایش کنید.\n",
    "1. سعی کنید به سوالات زیر پاسخ دهید:\n",
    "    - آیا تابع فعال‌سازی بین لایه‌ها بر عملکرد شبکه تأثیر می‌گذارد؟\n",
    "    - آیا برای این وظیفه به شبکه ۲ یا ۳ لایه نیاز داریم؟\n",
    "    - آیا هنگام آموزش شبکه با مشکلی مواجه شدید؟ به‌ویژه زمانی که تعداد لایه‌ها افزایش یافت.\n",
    "    - وزن‌های شبکه در طول آموزش چگونه رفتار می‌کنند؟ می‌توانید مقدار بیشینه مطلق وزن‌ها را در مقابل اپوک رسم کنید تا رابطه را درک کنید.\n"
   ]
  },
  {
   "cell_type": "code",
   "execution_count": null,
   "metadata": {},
   "outputs": [],
   "source": []
  },
  {
   "cell_type": "markdown",
   "metadata": {},
   "source": [
    "\n---\n\n**سلب مسئولیت**:  \nاین سند با استفاده از سرویس ترجمه هوش مصنوعی [Co-op Translator](https://github.com/Azure/co-op-translator) ترجمه شده است. در حالی که ما برای دقت تلاش می‌کنیم، لطفاً توجه داشته باشید که ترجمه‌های خودکار ممکن است شامل خطاها یا نادقتی‌ها باشند. سند اصلی به زبان اصلی آن باید به عنوان منبع معتبر در نظر گرفته شود. برای اطلاعات حساس، ترجمه حرفه‌ای انسانی توصیه می‌شود. ما هیچ مسئولیتی در قبال سوءتفاهم‌ها یا تفسیرهای نادرست ناشی از استفاده از این ترجمه نداریم.\n"
   ]
  }
 ],
 "metadata": {
  "kernelspec": {
   "display_name": "Python 3.7.4 64-bit (conda)",
   "metadata": {
    "interpreter": {
     "hash": "86193a1ab0ba47eac1c69c1756090baa3b420b3eea7d4aafab8b85f8b312f0c5"
    }
   },
   "name": "python3"
  },
  "language_info": {
   "codemirror_mode": {
    "name": "ipython",
    "version": 3
   },
   "file_extension": ".py",
   "mimetype": "text/x-python",
   "name": "python",
   "nbconvert_exporter": "python",
   "pygments_lexer": "ipython3",
   "version": "3.9.5"
  },
  "orig_nbformat": 2,
  "coopTranslator": {
   "original_hash": "6fa055f484eb5d6bdf41166a356d3abf",
   "translation_date": "2025-08-31T16:32:31+00:00",
   "source_file": "lessons/3-NeuralNetworks/04-OwnFramework/lab/MyFW_MNIST.ipynb",
   "language_code": "fa"
  }
 },
 "nbformat": 4,
 "nbformat_minor": 2
}