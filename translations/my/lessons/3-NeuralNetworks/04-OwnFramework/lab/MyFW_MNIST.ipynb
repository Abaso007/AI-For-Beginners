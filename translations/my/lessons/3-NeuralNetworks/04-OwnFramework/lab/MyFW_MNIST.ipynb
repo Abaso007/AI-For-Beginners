{
 "cells": [
  {
   "cell_type": "markdown",
   "metadata": {},
   "source": [
    "# MNIST Digit Classification ကို ကျွန်ုပ်တို့ရဲ့ Framework နဲ့ လုပ်ဆောင်ခြင်း\n",
    "\n",
    "[AI for Beginners Curriculum](https://github.com/microsoft/ai-for-beginners) မှ Lab Assignment ဖြစ်သည်။\n",
    "\n",
    "### Dataset ကို ဖတ်ရှုခြင်း\n",
    "\n",
    "ဒီ code က အင်တာနက်ပေါ်မှာရှိတဲ့ repository ကနေ dataset ကို ဒေါင်းလုပ်လုပ်ဆောင်ပါမယ်။ သင်လည်း AI Curriculum repo ရဲ့ `/data` directory ထဲကနေ dataset ကို လက်ဖြင့် ကူးယူနိုင်ပါတယ်။\n"
   ]
  },
  {
   "cell_type": "code",
   "execution_count": 4,
   "metadata": {
    "tags": []
   },
   "outputs": [
    {
     "name": "stderr",
     "output_type": "stream",
     "text": [
      "  % Total    % Received % Xferd  Average Speed   Time    Time     Time  Current\n",
      "                                 Dload  Upload   Total   Spent    Left  Speed\n",
      "\n",
      "  0     0    0     0    0     0      0      0 --:--:-- --:--:-- --:--:--     0\n",
      "100  9.9M  100  9.9M    0     0   9.9M      0  0:00:01 --:--:--  0:00:01 15.8M\n"
     ]
    }
   ],
   "source": [
    "!rm *.pkl\n",
    "!wget https://raw.githubusercontent.com/microsoft/AI-For-Beginners/main/data/mnist.pkl.gz\n",
    "!gzip -d mnist.pkl.gz"
   ]
  },
  {
   "cell_type": "code",
   "execution_count": 3,
   "metadata": {},
   "outputs": [],
   "source": [
    "import pickle\n",
    "with open('mnist.pkl','rb') as f:\n",
    "    MNIST = pickle.load(f)"
   ]
  },
  {
   "cell_type": "code",
   "execution_count": 4,
   "metadata": {},
   "outputs": [],
   "source": [
    "labels = MNIST['Train']['Labels']\n",
    "data = MNIST['Train']['Features']"
   ]
  },
  {
   "cell_type": "markdown",
   "metadata": {},
   "source": [
    "အနေနဲ့ ကျွန်တော်တို့မှာရှိတဲ့ ဒေတာရဲ့ ပုံစံကို ကြည့်ကြမယ်:\n"
   ]
  },
  {
   "cell_type": "code",
   "execution_count": 5,
   "metadata": {},
   "outputs": [
    {
     "data": {
      "text/plain": [
       "(42000, 784)"
      ]
     },
     "execution_count": 5,
     "metadata": {},
     "output_type": "execute_result"
    }
   ],
   "source": [
    "data.shape"
   ]
  },
  {
   "cell_type": "markdown",
   "metadata": {},
   "source": [
    "### ဒေတာကို ခွဲခြားခြင်း\n",
    "\n",
    "ကျွန်တော်တို့ Scikit Learn ကို အသုံးပြုပြီး သင်ကြားမှုနှင့် စမ်းသပ်မှု ဒေတာစုများအကြား ခွဲခြားပါမည်။\n"
   ]
  },
  {
   "cell_type": "code",
   "execution_count": 6,
   "metadata": {},
   "outputs": [
    {
     "name": "stdout",
     "output_type": "stream",
     "text": [
      "Train samples: 33600, test samples: 8400\n"
     ]
    }
   ],
   "source": [
    "from sklearn.model_selection import train_test_split\n",
    "\n",
    "features_train, features_test, labels_train, labels_test = train_test_split(data,labels,test_size=0.2)\n",
    "\n",
    "print(f\"Train samples: {len(features_train)}, test samples: {len(features_test)}\")"
   ]
  },
  {
   "cell_type": "markdown",
   "metadata": {},
   "source": [
    "### လမ်းညွှန်ချက်များ\n",
    "\n",
    "1. သင်ခန်းစာမှ framework code ကို ယူပြီး ဒီ notebook ထဲသို့ (သို့မဟုတ် ပိုကောင်းတာကတော့ သီးခြား Python module တစ်ခုထဲသို့) ကူးထည့်ပါ။\n",
    "1. တစ်လွှာတည်းပါဝင်သော perceptron ကို သတ်မှတ်ပြီး သင်ကြားပါ၊ သင်ကြားမှုနှင့် အတည်ပြုမှု တို့၏ တိုးတက်မှုတန်ဖိုးများကို သင်ကြားမှုအတွင်း စောင့်ကြည့်ပါ။\n",
    "1. Overfitting ဖြစ်ပေါ်ခဲ့သည်ဟုတ်/မဟုတ်ကို နားလည်ရန် ကြိုးစားပြီး layer parameters များကို ပြင်ဆင်ကာ တိုးတက်မှုတန်ဖိုးများကို မြှင့်တင်ပါ။\n",
    "1. ယခင်အဆင့်များကို 2-layered နှင့် 3-layered perceptrons များအတွက် ထပ်မံလုပ်ဆောင်ပါ။ Layer များအကြား activation functions များကို မတူညီစွာ စမ်းသပ်ကြည့်ပါ။\n",
    "1. အောက်ပါမေးခွန်းများကို ဖြေရှင်းကြည့်ပါ-\n",
    "    - Layer များအကြားရှိ activation function သည် network ၏ performance ကို သက်ရောက်စေပါသလား?\n",
    "    - ဒီ task အတွက် 2-layered network သို့မဟုတ် 3-layered network တစ်ခုလိုအပ်ပါသလား?\n",
    "    - Layer အရေအတွက်များလာသည်နှင့်အမျှ network ကို သင်ကြားရာတွင် ပြဿနာများ ကြုံတွေ့ခဲ့ပါသလား?\n",
    "    - သင်ကြားမှုအတွင်း network ၏ weight များသည် ဘယ်လိုပြုမူနေပါသလဲ? Epoch နှင့်အတူ weight များ၏ အများဆုံး absolute တန်ဖိုးကို plot ဆွဲကာ ဆက်စပ်မှုကို နားလည်နိုင်ပါသည်။\n"
   ]
  },
  {
   "cell_type": "code",
   "execution_count": null,
   "metadata": {},
   "outputs": [],
   "source": []
  },
  {
   "cell_type": "markdown",
   "metadata": {},
   "source": [
    "\n---\n\n**အကြောင်းကြားချက်**:  \nဤစာရွက်စာတမ်းကို AI ဘာသာပြန်ဝန်ဆောင်မှု [Co-op Translator](https://github.com/Azure/co-op-translator) ကို အသုံးပြု၍ ဘာသာပြန်ထားပါသည်။ ကျွန်ုပ်တို့သည် တိကျမှုအတွက် ကြိုးစားနေသော်လည်း၊ အလိုအလျောက် ဘာသာပြန်ခြင်းတွင် အမှားများ သို့မဟုတ် မတိကျမှုများ ပါရှိနိုင်သည်ကို သတိပြုပါ။ မူရင်းဘာသာစကားဖြင့် ရေးသားထားသော စာရွက်စာတမ်းကို အာဏာတရ အရင်းအမြစ်အဖြစ် သတ်မှတ်သင့်ပါသည်။ အရေးကြီးသော အချက်အလက်များအတွက် လူက ဘာသာပြန်ခြင်းကို အကြံပြုပါသည်။ ဤဘာသာပြန်ကို အသုံးပြုခြင်းမှ ဖြစ်ပေါ်လာသော အလွဲအလွဲအချော်များ သို့မဟုတ် အနားလွဲမှုများအတွက် ကျွန်ုပ်တို့သည် တာဝန်မယူပါ။\n"
   ]
  }
 ],
 "metadata": {
  "kernelspec": {
   "display_name": "Python 3.7.4 64-bit (conda)",
   "metadata": {
    "interpreter": {
     "hash": "86193a1ab0ba47eac1c69c1756090baa3b420b3eea7d4aafab8b85f8b312f0c5"
    }
   },
   "name": "python3"
  },
  "language_info": {
   "codemirror_mode": {
    "name": "ipython",
    "version": 3
   },
   "file_extension": ".py",
   "mimetype": "text/x-python",
   "name": "python",
   "nbconvert_exporter": "python",
   "pygments_lexer": "ipython3",
   "version": "3.9.5"
  },
  "orig_nbformat": 2,
  "coopTranslator": {
   "original_hash": "6fa055f484eb5d6bdf41166a356d3abf",
   "translation_date": "2025-08-30T09:48:33+00:00",
   "source_file": "lessons/3-NeuralNetworks/04-OwnFramework/lab/MyFW_MNIST.ipynb",
   "language_code": "my"
  }
 },
 "nbformat": 4,
 "nbformat_minor": 2
}