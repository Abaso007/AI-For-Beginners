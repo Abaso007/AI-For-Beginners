{
 "cells": [
  {
   "cell_type": "markdown",
   "metadata": {},
   "source": [
    "## အလုပ်ပေးချက်: Diophantine Equations\n",
    "\n",
    "> ဒီအလုပ်ပေးချက်ဟာ [AI for Beginners Curriculum](http://github.com/microsoft/ai-for-beginners) ရဲ့ အစိတ်အပိုင်းတစ်ခုဖြစ်ပြီး [ဒီပို့စ်](https://habr.com/post/128704/) မှာ အခြေခံထားပါတယ်။\n",
    "\n",
    "သင့်ရဲ့ရည်မှန်းချက်က **Diophantine equation** ဆိုတဲ့ အချို့သောအချိုးအစားကို ဖြေရှင်းရမှာဖြစ်ပါတယ် - အကြောင်းအရာတွေဟာ integer roots နဲ့ integer coefficients တွေပါဝင်ပါတယ်။ ဥပမာ၊ အောက်ပါအချိုးအစားကို စဉ်းစားကြည့်ပါ။\n",
    "\n",
    "$$a+2b+3c+4d=30$$\n",
    "\n",
    "ဒီအချိုးအစားကို ဖြေရှင်းဖို့အတွက် integer roots $a$,$b$,$c$,$d\\in\\mathbb{N}$ တွေကို ရှာဖွေဖို့လိုအပ်ပါတယ်။\n",
    "\n",
    "အကြံပြုချက်များ:\n",
    "1. Roots တွေကို [0;30] အတွင်းမှာ စဉ်းစားနိုင်ပါတယ်။\n",
    "1. Gene အနေနဲ့ root values တွေကို စာရင်းအဖြစ် အသုံးပြုနိုင်ပါတယ်။\n"
   ]
  },
  {
   "cell_type": "markdown",
   "metadata": {},
   "source": []
  },
  {
   "cell_type": "markdown",
   "metadata": {},
   "source": [
    "\n---\n\n**အကြောင်းကြားချက်**:  \nဤစာရွက်စာတမ်းကို AI ဘာသာပြန်ဝန်ဆောင်မှု [Co-op Translator](https://github.com/Azure/co-op-translator) ကို အသုံးပြု၍ ဘာသာပြန်ထားပါသည်။ ကျွန်ုပ်တို့သည် တိကျမှုအတွက် ကြိုးစားနေသော်လည်း၊ အလိုအလျောက် ဘာသာပြန်မှုများတွင် အမှားများ သို့မဟုတ် မတိကျမှုများ ပါဝင်နိုင်သည်ကို သတိပြုပါ။ မူရင်းဘာသာစကားဖြင့် ရေးသားထားသော စာရွက်စာတမ်းကို အာဏာတရ အရင်းအမြစ်အဖြစ် သတ်မှတ်သင့်ပါသည်။ အရေးကြီးသော အချက်အလက်များအတွက် လူက ဘာသာပြန်မှုကို အသုံးပြုရန် အကြံပြုပါသည်။ ဤဘာသာပြန်မှုကို အသုံးပြုခြင်းမှ ဖြစ်ပေါ်လာသော အလွဲအလွတ်များ သို့မဟုတ် အနားယူမှားမှုများအတွက် ကျွန်ုပ်တို့သည် တာဝန်မယူပါ။\n"
   ]
  }
 ],
 "metadata": {
  "language_info": {
   "name": "python"
  },
  "orig_nbformat": 4,
  "coopTranslator": {
   "original_hash": "a967e1fa1e11ab2b6467b19349a4a9aa",
   "translation_date": "2025-08-30T08:47:22+00:00",
   "source_file": "lessons/6-Other/21-GeneticAlgorithms/Diophantine.ipynb",
   "language_code": "my"
  }
 },
 "nbformat": 4,
 "nbformat_minor": 2
}