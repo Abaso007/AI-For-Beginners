{
 "cells": [
  {
   "cell_type": "markdown",
   "metadata": {
    "collapsed": true
   },
   "source": [
    "# တိရစ္ဆာန် အတတ်ပညာ စနစ် တည်ဆောက်ခြင်း\n",
    "\n",
    "[AI for Beginners Curriculum](http://github.com/microsoft/ai-for-beginners) မှ နမူနာတစ်ခု။\n",
    "\n",
    "ဒီနမူနာမှာတော့ ရုပ်ပိုင်းဆိုင်ရာ အင်္ဂါရပ်အချို့အပေါ် မူတည်ပြီး တိရစ္ဆာန်ကို သတ်မှတ်နိုင်ရန် ရိုးရှင်းတဲ့ အသိပညာအခြေပြု စနစ်တစ်ခုကို တည်ဆောက်သွားမှာ ဖြစ်ပါတယ်။ ဒီစနစ်ကို အောက်ပါ AND-OR သစ်ပင်ဖြင့် ကိုယ်စားပြုနိုင်ပါတယ် (ဒီဟာက သစ်ပင်တစ်ခုလုံးရဲ့ အစိတ်အပိုင်းတစ်ခုသာဖြစ်ပြီး နောက်ထပ် စည်းမျဉ်းများကို လွယ်ကူစွာ ထပ်ထည့်နိုင်ပါတယ်)။\n",
    "\n",
    "![](../../../../translated_images/AND-OR-Tree.5592d2c70187f283703c8e9c0d69d6a786eb370f4ace67f9a7aae5ada3d260b0.my.png)\n"
   ]
  },
  {
   "cell_type": "markdown",
   "metadata": {},
   "source": [
    "## ကျွန်ုပ်တို့၏ အတတ်ပညာစနစ် shell ကို နောက်ပြန်သုံးသပ်မှုဖြင့်\n",
    "\n",
    "ပုံစံစည်းမျဉ်းများအပေါ် အခြေခံပြီး အသိပညာကို ကိုယ်စားပြုရန်အတွက် ရိုးရှင်းသော ဘာသာစကားတစ်ခုကို သတ်မှတ်ကြည့်ရအောင်။ ကျွန်ုပ်တို့သည် စည်းမျဉ်းများကို သတ်မှတ်ရန်အတွက် Python class များကို keyword အဖြစ် အသုံးပြုမည်။ အဓိကအားဖြင့် အတန်း (classes) ၃ မျိုးရှိမည်ဖြစ်သည်။\n",
    "* `Ask` သည် အသုံးပြုသူကို မေးရမည့် မေးခွန်းကို ကိုယ်စားပြုသည်။ ၎င်းတွင် အဖြေများ၏ အစုအဖွဲ့ကို ပါဝင်သည်။\n",
    "* `If` သည် စည်းမျဉ်းကို ကိုယ်စားပြုသည်၊ ၎င်းသည် စည်းမျဉ်း၏ အကြောင်းအရာကို သိမ်းဆည်းရန် syntactic sugar ဖြစ်သည်။\n",
    "* `AND`/`OR` သည် အပင်၏ AND/OR ချိတ်ဆက်မှုများကို ကိုယ်စားပြုရန်အတွက် classes ဖြစ်သည်။ ၎င်းတို့သည် အတွင်းရှိ arguments များ၏ စာရင်းကိုသာ သိမ်းဆည်းသည်။ ကုဒ်ကို ရိုးရှင်းစေရန် အလုပ်ဆောင်မှုအားလုံးကို မိဘ class `Content` တွင် သတ်မှတ်ထားသည်။\n"
   ]
  },
  {
   "cell_type": "code",
   "execution_count": 1,
   "metadata": {
    "trusted": true
   },
   "outputs": [],
   "source": [
    "class Ask():\n",
    "    def __init__(self,choices=['y','n']):\n",
    "        self.choices = choices\n",
    "    def ask(self):\n",
    "        if max([len(x) for x in self.choices])>1:\n",
    "            for i,x in enumerate(self.choices):\n",
    "                print(\"{0}. {1}\".format(i,x),flush=True)\n",
    "            x = int(input())\n",
    "            return self.choices[x]\n",
    "        else:\n",
    "            print(\"/\".join(self.choices),flush=True)\n",
    "            return input()\n",
    "\n",
    "class Content():\n",
    "    def __init__(self,x):\n",
    "        self.x=x\n",
    "        \n",
    "class If(Content):\n",
    "    pass\n",
    "\n",
    "class AND(Content):\n",
    "    pass\n",
    "\n",
    "class OR(Content):\n",
    "    pass"
   ]
  },
  {
   "cell_type": "markdown",
   "metadata": {},
   "source": [
    "ကျွန်ုပ်တို့၏စနစ်တွင်၊ အလုပ်လုပ်နေသောမှတ်ဉာဏ်သည် **attribute-value pairs** အဖြစ် **အချက်အလက်များ** စာရင်းကို ပါဝင်မည်ဖြစ်သည်။ အသိပညာအခြေခံကို AND-OR အထူးပြုချက်များအဖြစ် ဖော်ပြထားသော အခြေအနေများသို့ လုပ်ဆောင်မှုများ (အလုပ်လုပ်နေသောမှတ်ဉာဏ်ထဲသို့ ထည့်သွင်းသင့်သော အချက်အလက်အသစ်များ) ကို မြေပုံဆွဲပေးသည့် dictionary တစ်ခုအဖြစ် သတ်မှတ်နိုင်သည်။ ထို့အပြင်၊ အချက်အလက်အချို့ကို `Ask`-ed ပြုလုပ်နိုင်သည်။\n"
   ]
  },
  {
   "cell_type": "code",
   "execution_count": 2,
   "metadata": {
    "trusted": true
   },
   "outputs": [],
   "source": [
    "rules = {\n",
    "    'default': Ask(['y','n']),\n",
    "    'color' : Ask(['red-brown','black and white','other']),\n",
    "    'pattern' : Ask(['dark stripes','dark spots']),\n",
    "    'mammal': If(OR(['hair','gives milk'])),\n",
    "    'carnivor': If(OR([AND(['sharp teeth','claws','forward-looking eyes']),'eats meat'])),\n",
    "    'ungulate': If(['mammal',OR(['has hooves','chews cud'])]),\n",
    "    'bird': If(OR(['feathers',AND(['flies','lies eggs'])])),\n",
    "    'animal:monkey' : If(['mammal','carnivor','color:red-brown','pattern:dark spots']),\n",
    "    'animal:tiger' : If(['mammal','carnivor','color:red-brown','pattern:dark stripes']),\n",
    "    'animal:giraffe' : If(['ungulate','long neck','long legs','pattern:dark spots']),\n",
    "    'animal:zebra' : If(['ungulate','pattern:dark stripes']),\n",
    "    'animal:ostrich' : If(['bird','long nech','color:black and white','cannot fly']),\n",
    "    'animal:pinguin' : If(['bird','swims','color:black and white','cannot fly']),\n",
    "    'animal:albatross' : If(['bird','flies well'])\n",
    "}"
   ]
  },
  {
   "cell_type": "markdown",
   "metadata": {},
   "source": [
    "နောက်ပြန်သုံးသပ်မှုလုပ်ဆောင်ရန် `Knowledgebase` class ကိုသတ်မှတ်မည်။ ၎င်းတွင်ပါဝင်မည်မှာ:\n",
    "\n",
    "* `memory` - attribute များနှင့် value များကို mapping လုပ်ထားသော dictionary\n",
    "* Knowledgebase `rules` - အထက်တွင်ဖော်ပြထားသည့်ပုံစံအတိုင်း\n",
    "\n",
    "အဓိက method နှစ်ခုမှာ:\n",
    "\n",
    "* `get` - attribute တစ်ခု၏ value ကိုရယူရန်၊ လိုအပ်ပါက inference လုပ်ဆောင်မည်။ ဥပမာအားဖြင့် `get('color')` သည် color slot ၏ value ကိုရယူမည် (လိုအပ်ပါကမေးမြန်းပြီး၊ နောက်ပိုင်းအသုံးပြုရန် working memory တွင် value ကိုသိမ်းဆည်းမည်)။ `get('color:blue')` ကိုမေးမြန်းပါက color ကိုမေးမြန်းပြီး၊ color အပေါ်မူတည်၍ `y`/`n` value ကိုပြန်ပေးမည်။\n",
    "* `eval` - အမှန်တကယ်သော inference ကိုလုပ်ဆောင်မည်၊ AND/OR tree ကိုဖြတ်သန်းပြီး sub-goals များကိုအကဲဖြတ်မည်။\n"
   ]
  },
  {
   "cell_type": "code",
   "execution_count": 3,
   "metadata": {
    "trusted": true
   },
   "outputs": [],
   "source": [
    "class KnowledgeBase():\n",
    "    def __init__(self,rules):\n",
    "        self.rules = rules\n",
    "        self.memory = {}\n",
    "        \n",
    "    def get(self,name):\n",
    "        if ':' in name:\n",
    "            k,v = name.split(':')\n",
    "            vv = self.get(k)\n",
    "            return 'y' if v==vv else 'n'\n",
    "        if name in self.memory.keys():\n",
    "            return self.memory[name]\n",
    "        for fld in self.rules.keys():\n",
    "            if fld==name or fld.startswith(name+\":\"):\n",
    "                # print(\" + proving {}\".format(fld))\n",
    "                value = 'y' if fld==name else fld.split(':')[1]\n",
    "                res = self.eval(self.rules[fld],field=name)\n",
    "                if res!='y' and res!='n' and value=='y':\n",
    "                    self.memory[name] = res\n",
    "                    return res\n",
    "                if res=='y':\n",
    "                    self.memory[name] = value\n",
    "                    return value\n",
    "        # field is not found, using default\n",
    "        res = self.eval(self.rules['default'],field=name)\n",
    "        self.memory[name]=res\n",
    "        return res\n",
    "                \n",
    "    def eval(self,expr,field=None):\n",
    "        # print(\" + eval {}\".format(expr))\n",
    "        if isinstance(expr,Ask):\n",
    "            print(field)\n",
    "            return expr.ask()\n",
    "        elif isinstance(expr,If):\n",
    "            return self.eval(expr.x)\n",
    "        elif isinstance(expr,AND) or isinstance(expr,list):\n",
    "            expr = expr.x if isinstance(expr,AND) else expr\n",
    "            for x in expr:\n",
    "                if self.eval(x)=='n':\n",
    "                    return 'n'\n",
    "            return 'y'\n",
    "        elif isinstance(expr,OR):\n",
    "            for x in expr.x:\n",
    "                if self.eval(x)=='y':\n",
    "                    return 'y'\n",
    "            return 'n'\n",
    "        elif isinstance(expr,str):\n",
    "            return self.get(expr)\n",
    "        else:\n",
    "            print(\"Unknown expr: {}\".format(expr))"
   ]
  },
  {
   "cell_type": "markdown",
   "metadata": {},
   "source": [
    "အခုတော့ ကျွန်ုပ်တို့၏ တိရစ္ဆာန် အသိပညာအခြေခံကို သတ်မှတ်ပြီး အကြံပေးမှုကို ဆောင်ရွက်ကြမည်။ ဤခေါ်ဆိုမှုသည် သင့်ကို မေးခွန်းများ မေးမည်ဖြစ်သည်။ ဟုတ်/မဟုတ် မေးခွန်းများအတွက် `y`/`n` ကို ရိုက်ထည့်ခြင်းဖြင့် သင် ဖြေနိုင်ပြီး၊ ရွေးချယ်စရာများ မေးခွန်းများအတွက် (0..N) ကို သတ်မှတ်ခြင်းဖြင့် ဖြေနိုင်သည်။\n"
   ]
  },
  {
   "cell_type": "code",
   "execution_count": 4,
   "metadata": {
    "trusted": true
   },
   "outputs": [
    {
     "name": "stdout",
     "output_type": "stream",
     "text": [
      "hair\n",
      "y/n\n",
      "sharp teeth\n",
      "y/n\n",
      "claws\n",
      "y/n\n",
      "forward-looking eyes\n",
      "y/n\n",
      "color\n",
      "0. red-brown\n",
      "1. black and white\n",
      "2. other\n",
      "has hooves\n",
      "y/n\n",
      "long neck\n",
      "y/n\n",
      "long legs\n",
      "y/n\n",
      "pattern\n",
      "0. dark stripes\n",
      "1. dark spots\n"
     ]
    },
    {
     "data": {
      "text/plain": [
       "'giraffe'"
      ]
     },
     "execution_count": 4,
     "metadata": {},
     "output_type": "execute_result"
    }
   ],
   "source": [
    "kb = KnowledgeBase(rules)\n",
    "kb.get('animal')"
   ]
  },
  {
   "cell_type": "markdown",
   "metadata": {},
   "source": [
    "## PyKnow ကို အသုံးပြု၍ Forward Inference ပြုလုပ်ခြင်း\n",
    "\n",
    "နောက်ထပ် ဥပမာတွင် ကျွန်ုပ်တို့သည် သိမြင်မှုကို ကိုယ်စားပြုရန်အတွက် အသုံးပြုနိုင်သော စာကြောင်းများထဲမှ တစ်ခုဖြစ်သည့် [PyKnow](https://github.com/buguroo/pyknow/) ကို အသုံးပြု၍ forward inference ကို အကောင်အထည်ဖော်ကြည့်မည်ဖြစ်သည်။ **PyKnow** သည် Python တွင် forward inference system များ ဖန်တီးရန်အတွက် အသုံးပြုနိုင်သော စာကြောင်းတစ်ခုဖြစ်ပြီး၊ ရှေးဟောင်းစနစ် [CLIPS](http://www.clipsrules.net/index.html) နှင့် ဆင်တူစေရန် ဒီဇိုင်းထုတ်ထားသည်။\n",
    "\n",
    "ကျွန်ုပ်တို့သည် forward chaining ကို ကိုယ်တိုင်လည်း အလွယ်တကူ အကောင်အထည်ဖော်နိုင်မည်ဖြစ်သော်လည်း၊ ရိုးရိုးရှင်းရှင်း အကောင်အထည်ဖော်မှုများသည် အများအားဖြင့် ထိရောက်မှုမရှိလှပါ။ စည်းမျဉ်းများကို ထိရောက်စွာ ကိုက်ညီစေရန်အတွက် အထူး algorithm တစ်ခုဖြစ်သည့် [Rete](https://en.wikipedia.org/wiki/Rete_algorithm) ကို အသုံးပြုသည်။\n"
   ]
  },
  {
   "cell_type": "code",
   "execution_count": 5,
   "metadata": {
    "trusted": true
   },
   "outputs": [
    {
     "name": "stdout",
     "output_type": "stream",
     "text": [
      "Collecting git+https://github.com/buguroo/pyknow/\n",
      "  Cloning https://github.com/buguroo/pyknow/ to /tmp/pip-req-build-3cqeulyl\n",
      "  Running command git clone --filter=blob:none --quiet https://github.com/buguroo/pyknow/ /tmp/pip-req-build-3cqeulyl\n",
      "  Resolved https://github.com/buguroo/pyknow/ to commit 48818336f2e9a126f1964f2d8dc22d37ff800fe8\n",
      "  Preparing metadata (setup.py) ... \u001b[?25ldone\n",
      "\u001b[?25hCollecting frozendict==1.2\n",
      "  Using cached frozendict-1.2.tar.gz (2.6 kB)\n",
      "  Preparing metadata (setup.py) ... \u001b[?25ldone\n",
      "\u001b[?25hCollecting schema==0.6.7\n",
      "  Using cached schema-0.6.7-py2.py3-none-any.whl (14 kB)\n",
      "Building wheels for collected packages: pyknow, frozendict\n",
      "  Building wheel for pyknow (setup.py) ... \u001b[?25ldone\n",
      "\u001b[?25h  Created wheel for pyknow: filename=pyknow-1.7.0-py3-none-any.whl size=34228 sha256=b7de5b09292c4007667c72f69b98d5a1b5f7324ff15f9dd8e077c3d5f7aade42\n",
      "  Stored in directory: /tmp/pip-ephem-wheel-cache-k7jpave7/wheels/81/1a/d3/f6c15dbe1955598a37755215f2a10449e7418500d7bd4b9508\n",
      "  Building wheel for frozendict (setup.py) ... \u001b[?25ldone\n",
      "\u001b[?25h  Created wheel for frozendict: filename=frozendict-1.2-py3-none-any.whl size=3148 sha256=2863d55c240d2409cddf05ccfe600591f8478681549fc97555c47c90dc6bb160\n",
      "  Stored in directory: /home/rg/.cache/pip/wheels/49/ac/f8/cb8120244e710bdb479c86198b03c7b08c3c2d3d2bf448fd6e\n",
      "Successfully built pyknow frozendict\n",
      "Installing collected packages: schema, frozendict, pyknow\n",
      "Successfully installed frozendict-1.2 pyknow-1.7.0 schema-0.6.7\n"
     ]
    }
   ],
   "source": [
    "import sys\n",
    "!{sys.executable} -m pip install git+https://github.com/buguroo/pyknow/"
   ]
  },
  {
   "cell_type": "code",
   "execution_count": 13,
   "metadata": {
    "trusted": true
   },
   "outputs": [],
   "source": [
    "from pyknow import *\n",
    "#import pyknow"
   ]
  },
  {
   "cell_type": "markdown",
   "metadata": {},
   "source": [
    "ကျွန်ုပ်တို့၏စနစ်ကို `KnowledgeEngine` ကိုအခြေခံသော class အဖြစ်သတ်မှတ်ပါမည်။ Rule တစ်ခုစီကို `@Rule` အမှတ်အသားဖြင့်သတ်မှတ်ထားသော function တစ်ခုစီဖြင့်သတ်မှတ်ပါမည်၊ အဲဒီ Rule သည်မည်သည့်အချိန်တွင်အလုပ်လုပ်သင့်သည်ကိုသတ်မှတ်ပေးပါသည်။ Rule အတွင်းတွင် `declare` function ကိုအသုံးပြု၍ fact အသစ်များထည့်သွင်းနိုင်ပြီး၊ အဲဒီ fact များကိုထည့်သွင်းခြင်းဖြင့် forward inference engine မှတစ်ဆင့် Rule များအပိုဆောင်းခေါ်ယူခြင်းဖြစ်ပေါ်စေပါမည်။\n"
   ]
  },
  {
   "cell_type": "code",
   "execution_count": 14,
   "metadata": {
    "trusted": true
   },
   "outputs": [],
   "source": [
    "class Animals(KnowledgeEngine):\n",
    "    @Rule(OR(\n",
    "           AND(Fact('sharp teeth'),Fact('claws'),Fact('forward looking eyes')),\n",
    "           Fact('eats meat')))\n",
    "    def cornivor(self):\n",
    "        self.declare(Fact('carnivor'))\n",
    "        \n",
    "    @Rule(OR(Fact('hair'),Fact('gives milk')))\n",
    "    def mammal(self):\n",
    "        self.declare(Fact('mammal'))\n",
    "\n",
    "    @Rule(Fact('mammal'),\n",
    "          OR(Fact('has hooves'),Fact('chews cud')))\n",
    "    def hooves(self):\n",
    "        self.declare('ungulate')\n",
    "        \n",
    "    @Rule(OR(Fact('feathers'),AND(Fact('flies'),Fact('lays eggs'))))\n",
    "    def bird(self):\n",
    "        self.declare('bird')\n",
    "        \n",
    "    @Rule(Fact('mammal'),Fact('carnivor'),\n",
    "          Fact(color='red-brown'),\n",
    "          Fact(pattern='dark spots'))\n",
    "    def monkey(self):\n",
    "        self.declare(Fact(animal='monkey'))\n",
    "\n",
    "    @Rule(Fact('mammal'),Fact('carnivor'),\n",
    "          Fact(color='red-brown'),\n",
    "          Fact(pattern='dark stripes'))\n",
    "    def tiger(self):\n",
    "        self.declare(Fact(animal='tiger'))\n",
    "\n",
    "    @Rule(Fact('ungulate'),\n",
    "          Fact('long neck'),\n",
    "          Fact('long legs'),\n",
    "          Fact(pattern='dark spots'))\n",
    "    def giraffe(self):\n",
    "        self.declare(Fact(animal='giraffe'))\n",
    "\n",
    "    @Rule(Fact('ungulate'),\n",
    "          Fact(pattern='dark stripes'))\n",
    "    def zebra(self):\n",
    "        self.declare(Fact(animal='zebra'))\n",
    "\n",
    "    @Rule(Fact('bird'),\n",
    "          Fact('long neck'),\n",
    "          Fact('cannot fly'),\n",
    "          Fact(color='black and white'))\n",
    "    def straus(self):\n",
    "        self.declare(Fact(animal='ostrich'))\n",
    "\n",
    "    @Rule(Fact('bird'),\n",
    "          Fact('swims'),\n",
    "          Fact('cannot fly'),\n",
    "          Fact(color='black and white'))\n",
    "    def pinguin(self):\n",
    "        self.declare(Fact(animal='pinguin'))\n",
    "\n",
    "    @Rule(Fact('bird'),\n",
    "          Fact('flies well'))\n",
    "    def albatros(self):\n",
    "        self.declare(Fact(animal='albatross'))\n",
    "        \n",
    "    @Rule(Fact(animal=MATCH.a))\n",
    "    def print_result(self,a):\n",
    "          print('Animal is {}'.format(a))\n",
    "                    \n",
    "    def factz(self,l):\n",
    "        for x in l:\n",
    "            self.declare(x)"
   ]
  },
  {
   "cell_type": "markdown",
   "metadata": {},
   "source": [
    "ကျွန်ုပ်တို့သည် အသိပညာအခြေခံကို သတ်မှတ်ပြီးပါက အစောပိုင်းအချက်အလက်များဖြင့် အလုပ်လုပ်မိသားစုကို ဖြည့်ဆည်းပြီးနောက် `run()` နည်းလမ်းကို ခေါ်ဆို၍ သုံးသပ်မှုကို ဆောင်ရွက်ပါသည်။ အကျိုးအဖြစ် အသစ်ထွက်ရှိသော အချက်အလက်များကို အလုပ်လုပ်မိသားစုတွင် ထည့်သွင်းထားသည်ကို တွေ့နိုင်ပြီး (အစောပိုင်းအချက်အလက်များကို မှန်ကန်စွာ သတ်မှတ်ထားပါက) တိရစ္ဆာန်နှင့်ဆိုင်သော နောက်ဆုံးအချက်အလက်ကိုလည်း ပါဝင်သည်။\n"
   ]
  },
  {
   "cell_type": "code",
   "execution_count": 15,
   "metadata": {
    "trusted": true
   },
   "outputs": [
    {
     "name": "stdout",
     "output_type": "stream",
     "text": [
      "Animal is tiger\n"
     ]
    },
    {
     "data": {
      "text/plain": [
       "FactList([(0, InitialFact()),\n",
       "          (1, Fact(color='red-brown')),\n",
       "          (2, Fact(pattern='dark stripes')),\n",
       "          (3, Fact('sharp teeth')),\n",
       "          (4, Fact('claws')),\n",
       "          (5, Fact('forward looking eyes')),\n",
       "          (6, Fact('gives milk')),\n",
       "          (7, Fact('mammal')),\n",
       "          (8, Fact('carnivor')),\n",
       "          (9, Fact(animal='tiger'))])"
      ]
     },
     "execution_count": 15,
     "metadata": {},
     "output_type": "execute_result"
    }
   ],
   "source": [
    "ex1 = Animals()\n",
    "ex1.reset()\n",
    "ex1.factz([\n",
    "    Fact(color='red-brown'),\n",
    "    Fact(pattern='dark stripes'),\n",
    "    Fact('sharp teeth'),\n",
    "    Fact('claws'),\n",
    "    Fact('forward looking eyes'),\n",
    "    Fact('gives milk')])\n",
    "ex1.run()\n",
    "ex1.facts"
   ]
  },
  {
   "cell_type": "code",
   "execution_count": null,
   "metadata": {},
   "outputs": [],
   "source": []
  },
  {
   "cell_type": "markdown",
   "metadata": {},
   "source": [
    "\n---\n\n**အကြောင်းကြားချက်**:  \nဤစာရွက်စာတမ်းကို AI ဘာသာပြန်ဝန်ဆောင်မှု [Co-op Translator](https://github.com/Azure/co-op-translator) ကို အသုံးပြု၍ ဘာသာပြန်ထားပါသည်။ ကျွန်ုပ်တို့သည် တိကျမှုအတွက် ကြိုးစားနေသော်လည်း၊ အလိုအလျောက် ဘာသာပြန်မှုများတွင် အမှားများ သို့မဟုတ် မမှန်ကန်မှုများ ပါဝင်နိုင်သည်ကို သတိပြုပါ။ မူရင်းဘာသာစကားဖြင့် ရေးသားထားသော စာရွက်စာတမ်းကို အာဏာတရ အရင်းအမြစ်အဖြစ် ရှုလေ့လာသင့်ပါသည်။ အရေးကြီးသော အချက်အလက်များအတွက် လူက ဘာသာပြန်မှု ဝန်ဆောင်မှုကို အကြံပြုပါသည်။ ဤဘာသာပြန်မှုကို အသုံးပြုခြင်းမှ ဖြစ်ပေါ်လာသော အလွဲအလွတ်များ သို့မဟုတ် အနားလွဲမှုများအတွက် ကျွန်ုပ်တို့သည် တာဝန်မယူပါ။\n"
   ]
  }
 ],
 "metadata": {
  "kernelspec": {
   "display_name": "Python 3.7.4 64-bit (conda)",
   "metadata": {
    "interpreter": {
     "hash": "86193a1ab0ba47eac1c69c1756090baa3b420b3eea7d4aafab8b85f8b312f0c5"
    }
   },
   "name": "python3"
  },
  "language_info": {
   "codemirror_mode": {
    "name": "ipython",
    "version": 3
   },
   "file_extension": ".py",
   "mimetype": "text/x-python",
   "name": "python",
   "nbconvert_exporter": "python",
   "pygments_lexer": "ipython3",
   "version": "3.11.2"
  },
  "coopTranslator": {
   "original_hash": "ab2bd97b0453415b89a469284609a8ce",
   "translation_date": "2025-08-30T09:42:22+00:00",
   "source_file": "lessons/2-Symbolic/Animals.ipynb",
   "language_code": "my"
  }
 },
 "nbformat": 4,
 "nbformat_minor": 2
}