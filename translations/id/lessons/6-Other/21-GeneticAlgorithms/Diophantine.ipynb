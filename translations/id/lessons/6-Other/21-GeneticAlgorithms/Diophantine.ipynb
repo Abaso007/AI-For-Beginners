{
 "cells": [
  {
   "cell_type": "markdown",
   "metadata": {},
   "source": [
    "## Tugas: Persamaan Diophantine\n",
    "\n",
    "> Tugas ini adalah bagian dari [Kurikulum AI untuk Pemula](http://github.com/microsoft/ai-for-beginners) dan terinspirasi oleh [postingan ini](https://habr.com/post/128704/).\n",
    "\n",
    "Tujuan Anda adalah menyelesaikan yang disebut **persamaan Diophantine** - sebuah persamaan dengan akar bilangan bulat dan koefisien bilangan bulat. Sebagai contoh, perhatikan persamaan berikut:\n",
    "\n",
    "$$a+2b+3c+4d=30$$\n",
    "\n",
    "Anda perlu menemukan akar bilangan bulat $a$,$b$,$c$,$d\\in\\mathbb{N}$ yang memenuhi persamaan ini.\n",
    "\n",
    "Petunjuk:\n",
    "1. Anda dapat mempertimbangkan akar berada dalam interval [0;30]\n",
    "1. Sebagai gen, pertimbangkan untuk menggunakan daftar nilai akar\n"
   ]
  },
  {
   "cell_type": "markdown",
   "metadata": {},
   "source": []
  },
  {
   "cell_type": "markdown",
   "metadata": {},
   "source": [
    "\n---\n\n**Penafian**:  \nDokumen ini telah diterjemahkan menggunakan layanan penerjemahan AI [Co-op Translator](https://github.com/Azure/co-op-translator). Meskipun kami berupaya untuk memberikan hasil yang akurat, harap diperhatikan bahwa terjemahan otomatis mungkin mengandung kesalahan atau ketidakakuratan. Dokumen asli dalam bahasa aslinya harus dianggap sebagai sumber yang berwenang. Untuk informasi yang bersifat kritis, disarankan menggunakan jasa penerjemahan manusia profesional. Kami tidak bertanggung jawab atas kesalahpahaman atau penafsiran yang keliru yang timbul dari penggunaan terjemahan ini.\n"
   ]
  }
 ],
 "metadata": {
  "language_info": {
   "name": "python"
  },
  "orig_nbformat": 4,
  "coopTranslator": {
   "original_hash": "a967e1fa1e11ab2b6467b19349a4a9aa",
   "translation_date": "2025-08-29T12:53:15+00:00",
   "source_file": "lessons/6-Other/21-GeneticAlgorithms/Diophantine.ipynb",
   "language_code": "id"
  }
 },
 "nbformat": 4,
 "nbformat_minor": 2
}