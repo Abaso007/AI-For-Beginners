{
 "cells": [
  {
   "cell_type": "markdown",
   "metadata": {
    "collapsed": true
   },
   "source": [
    "# ஜெனடிக் ஆல்காரிதங்கள்\n",
    "\n",
    "இந்த நோட்புக் [AI for Beginners Curriculum](http://github.com/microsoft/ai-for-beginners) இன் ஒரு பகுதியாகும்.\n"
   ]
  },
  {
   "cell_type": "code",
   "execution_count": 2,
   "metadata": {
    "trusted": true
   },
   "outputs": [],
   "source": [
    "import random\n",
    "import matplotlib.pyplot as plt\n",
    "import numpy as np\n",
    "import math\n",
    "import time"
   ]
  },
  {
   "cell_type": "markdown",
   "metadata": {},
   "source": [
    "## சில கோட்பாடுகள்\n",
    "\n",
    "**ஜெனடிக் அல்காரிதங்கள்** (GA) என்பது **உயிரியல் முறையை** அடிப்படையாகக் கொண்ட AI அணுகுமுறையாகும், இதில் மக்கள் தொகையின் பரிணாம முறைகள் பயன்படுத்தப்பட்டு கொடுக்கப்பட்ட பிரச்சினைக்கு சிறந்த தீர்வை பெற முயற்சிக்கப்படுகிறது. இவை 1975 ஆம் ஆண்டில் [ஜான் ஹென்றி ஹாலண்ட்](https://en.wikipedia.org/wiki/John_Henry_Holland) மூலம் முன்மொழியப்பட்டன.\n",
    "\n",
    "ஜெனடிக் அல்காரிதங்கள் பின்வரும் கருத்துக்களை அடிப்படையாகக் கொண்டவை:\n",
    "* பிரச்சினைக்கு செல்லுபடியாகும் தீர்வுகளை **ஜீன்கள்** மூலம் பிரதிநிதித்துவப்படுத்தலாம்.\n",
    "* **கிராஸ் ஓவர்** மூலம் இரண்டு தீர்வுகளை இணைத்து புதிய செல்லுபடியாகும் தீர்வை பெறலாம்.\n",
    "* **தேர்வு** என்பது **தகுதி செயல்பாடு** மூலம் சிறந்த தீர்வுகளைத் தேர்ந்தெடுக்க உதவுகிறது.\n",
    "* **மாறுபாடுகள்** (Mutations) அறிமுகப்படுத்தப்பட்டு, உள்ளூர் குறைந்தபட்சத்தில் இருந்து வெளியேறி சிறந்த தீர்வை பெற உதவுகிறது.\n",
    "\n",
    "ஜெனடிக் அல்காரிதத்தை செயல்படுத்த விரும்பினால், உங்களுக்கு பின்வருவன தேவைப்படும்:\n",
    "\n",
    " * **ஜீன்கள்** $g\\in\\Gamma$ மூலம் பிரச்சினை தீர்வுகளை குறியாக்கும் ஒரு முறையை கண்டுபிடிக்க வேண்டும்.\n",
    " * ஜீன்களின் தொகுதியில் $\\Gamma$, **தகுதி செயல்பாடு** $\\mathrm{fit}: \\Gamma\\to\\mathbb{R}$ வரையறுக்க வேண்டும். குறைந்த செயல்பாட்டு மதிப்புகள் சிறந்த தீர்வுகளை குறிக்கும்.\n",
    " * இரண்டு ஜீன்களை இணைத்து புதிய செல்லுபடியாகும் தீர்வை பெற **கிராஸ் ஓவர்** முறைமை $\\mathrm{crossover}: \\Gamma^2\\to\\Gamma$ வரையறுக்க வேண்டும்.\n",
    " * **மாறுபாடு** முறைமை $\\mathrm{mutate}: \\Gamma\\to\\Gamma$ வரையறுக்க வேண்டும்.\n",
    "பல சந்தர்ப்பங்களில், கிராஸ் ஓவர் மற்றும் மாறுபாடு என்பது ஜீன்களை எண் வரிசைகள் அல்லது பிட் வெக்டர்களாக மாற்றுவதற்கான எளிய அல்காரிதமாக இருக்கும்.\n",
    "\n",
    "ஜெனடிக் அல்காரிதத்தின் குறிப்பிட்ட செயல்பாடுகள் வழக்குக்கு வழக்கு மாறுபடும், ஆனால் அதன் மொத்த அமைப்பு பின்வருமாறு இருக்கும்:\n",
    "\n",
    "1. ஆரம்ப மக்கள் தொகையைத் தேர்ந்தெடுக்கவும் $G\\subset\\Gamma$\n",
    "2. இந்த கட்டத்தில் செய்யப்படும் செயல்பாடுகளை (கிராஸ் ஓவர் அல்லது மாறுபாடு) சீரற்ற முறையில் தேர்ந்தெடுக்கவும்.\n",
    "3. **கிராஸ் ஓவர்**:\n",
    "  * சீரற்ற முறையில் இரண்டு ஜீன்களைத் தேர்ந்தெடுக்கவும் $g_1, g_2 \\in G$\n",
    "  * கிராஸ் ஓவர் கணக்கிடவும் $g=\\mathrm{crossover}(g_1,g_2)$\n",
    "  * $\\mathrm{fit}(g)<\\mathrm{fit}(g_1)$ அல்லது $\\mathrm{fit}(g)<\\mathrm{fit}(g_2)$ என்றால் - மக்கள் தொகையில் உள்ள தொடர்புடைய ஜீனை $g$ மூலம் மாற்றவும்.\n",
    "4. **மாறுபாடு** - சீரற்ற முறையில் ஒரு ஜீனைத் தேர்ந்தெடுக்கவும் $g\\in G$ மற்றும் அதை $\\mathrm{mutate}(g)$ மூலம் மாற்றவும்.\n",
    "5. $\\mathrm{fit}$ மதிப்பு போதுமான அளவு குறைவாக வரும் வரை அல்லது கட்டங்களின் எண்ணிக்கைக்கு வரையறுக்கப்பட்ட எல்லை அடையும் வரை, 2-வது கட்டத்திலிருந்து மீண்டும் தொடங்கவும்.\n",
    "\n",
    "GA மூலம் பொதுவாக தீர்க்கப்படும் பணிகள்:\n",
    "1. அட்டவணை மேம்பாடு\n",
    "1. சிறந்த பொருத்து\n",
    "1. சிறந்த வெட்டு\n",
    "1. முழுமையான தேடலை வேகமாக்குதல்\n"
   ]
  },
  {
   "cell_type": "markdown",
   "metadata": {},
   "source": [
    "## பிரச்சினை 1: நியாயமான பொக்கிஷப் பகிர்வு\n",
    "\n",
    "**பணி**:  \n",
    "இருவர் ஒரு பொக்கிஷத்தை கண்டுபிடித்தனர், அதில் வெவ்வேறு அளவிலான வைரங்கள் உள்ளன (அதனால், வெவ்வேறு விலையும்). அவர்கள் அந்த பொக்கிஷத்தை இரண்டு பகுதிகளாகப் பிரிக்க வேண்டும், அதில் விலை வேறுபாடு 0 (அல்லது குறைவாக) இருக்க வேண்டும்.\n",
    "\n",
    "**சரியான வரையறை**:  \n",
    "எங்களிடம் ஒரு எண்களின் தொகுப்பு $S$ உள்ளது. இதை இரண்டு துணைத்தொகுப்புகளாக $S_1$ மற்றும் $S_2$ பிரிக்க வேண்டும், அப்படி பிரிக்கும்போது $$\\left|\\sum_{i\\in S_1}i - \\sum_{j\\in S_2}j\\right|\\to\\min$$ மற்றும் $S_1\\cup S_2=S$, $S_1\\cap S_2=\\emptyset$.\n",
    "\n",
    "முதலில், தொகுப்பு $S$ ஐ வரையறுக்கலாம்:\n"
   ]
  },
  {
   "cell_type": "code",
   "execution_count": 3,
   "metadata": {
    "trusted": true
   },
   "outputs": [
    {
     "name": "stdout",
     "output_type": "stream",
     "text": [
      "[8344 2197 9335 3131 5863 9429 3818 9791   15 5455 1396 9538 4872 6549\n",
      " 8587 5986 6021 9764 8102 5083 5739 7684 8498 3007 6599  820 7490 2372\n",
      " 9370 5235 3525 3154  859 1906 8159 3950 2173 2988 2050  349 8713 2284\n",
      " 4177 6033 1651 9176 5049 8201  171 5081 1216 3756 4711 2757 7738 1272\n",
      " 5650 6584 5395 9004 7797  969 8104 1283 1392 4001 5768  445  274  256\n",
      " 8239 8015 4381 9021 1189 8879 1411 3539 6526 8011  136 7230 2332  451\n",
      " 5702 2989 4320 2446 9578 8486 4027 2410 9588 8981 2177 1493 3232 9151\n",
      " 4835 5594 6859 8394  369 3200  126 4259 2283 7755 2014 2458 8327 8082\n",
      " 7413 7622 1206 5533 8751 3495 5868 8472 6850 3958 3149 4672 4810 6274\n",
      " 4700 6134 4627 4616 6656 9949  884 2256 7419 1926 7973 5319 5967 9158\n",
      " 3823 7697 9466 5675 5412 9784 5426 8209 3421 1136 6047 4429 8001 4417\n",
      " 1381  722 7350 6018 6235 7860 5853 7660 5937 6242    1 9552 3971 8302\n",
      " 2633 9227 7283  154 8599 4269 9392 8539 1630  368 2409 9351 3838 9814\n",
      " 6186 5743 5083 1325 1610  779 3643 3262 5768 8725  961 4611 6310 4788\n",
      " 1648 5951 8118 7779]\n"
     ]
    }
   ],
   "source": [
    "N = 200\n",
    "S = np.array([random.randint(1,10000) for _ in range(N)])\n",
    "print(S)"
   ]
  },
  {
   "cell_type": "markdown",
   "metadata": {},
   "source": [
    "ஒவ்வொரு சாத்தியமான தீர்வையும் பைனரி வெக்டர் $B\\in\\{0,1\\}^N$ மூலம் குறியாக்கம் செய்யலாம், இதில் $i$-வது இடத்தில் உள்ள எண், அசல் தொகுதி $S$-இல் உள்ள $i$-வது எண் எந்த தொகுதிக்கு ($S_1$ அல்லது $S_2$) சேர்ந்தது என்பதை காட்டுகிறது. `generate` செயல்பாடு அந்த சீரற்ற பைனரி வெக்டர்களை உருவாக்கும்.\n"
   ]
  },
  {
   "cell_type": "code",
   "execution_count": 5,
   "metadata": {
    "trusted": true
   },
   "outputs": [
    {
     "name": "stdout",
     "output_type": "stream",
     "text": [
      "[1 0 0 1 1 1 1 1 0 1 1 1 0 0 1 0 1 1 1 0 0 1 1 0 1 1 0 0 1 0 1 0 1 0 1 1 1\n",
      " 0 1 1 1 0 1 0 0 1 0 0 1 1 0 1 0 1 1 0 0 1 0 0 0 1 1 0 1 1 0 0 0 0 1 0 1 0\n",
      " 1 0 0 0 0 0 1 1 0 1 0 0 1 0 1 0 0 1 1 0 0 1 1 1 0 0 1 1 0 1 1 0 0 0 0 1 1\n",
      " 1 0 1 0 0 1 1 1 1 1 1 1 1 0 1 0 1 1 1 1 1 1 0 1 0 1 0 1 0 0 1 1 1 0 0 1 1\n",
      " 0 1 1 0 1 1 0 0 0 1 1 0 0 0 0 0 0 0 0 1 1 0 1 1 1 0 0 1 1 0 1 1 0 0 1 1 0\n",
      " 0 0 0 1 0 1 1 0 1 1 0 1 0 0 0]\n"
     ]
    }
   ],
   "source": [
    "def generate(S):\n",
    "    return np.array([random.randint(0,1) for _ in S])\n",
    "\n",
    "b = generate(S)\n",
    "print(b)"
   ]
  },
  {
   "cell_type": "markdown",
   "metadata": {},
   "source": [
    "இப்போது `fit` செயல்பாட்டை வரையறுப்போம், இது தீர்வின் \"செலவை\" கணக்கிடும். இது இரண்டு தொகுதிகளின், $S_1$ மற்றும் $S_2$ இன் கூட்டத்தின் வித்தியாசமாக இருக்கும்:\n"
   ]
  },
  {
   "cell_type": "code",
   "execution_count": 6,
   "metadata": {
    "trusted": true
   },
   "outputs": [
    {
     "data": {
      "text/plain": [
       "133784"
      ]
     },
     "execution_count": 6,
     "metadata": {},
     "output_type": "execute_result"
    }
   ],
   "source": [
    "def fit(B,S=S):\n",
    "    c1 = (B*S).sum()\n",
    "    c2 = ((1-B)*S).sum()\n",
    "    return abs(c1-c2)\n",
    "\n",
    "fit(b)"
   ]
  },
  {
   "cell_type": "markdown",
   "metadata": {},
   "source": [
    "இப்போது மியூட்டேஷன் மற்றும் கிராஸ் ஓவர் செயல்பாடுகளை வரையறுக்க வேண்டும்:\n",
    "* மியூட்டேஷனுக்காக, ஒரு சீரற்ற பிட்டை தேர்ந்தெடுத்து அதை மாற்றுவோம் (0 இருந்து 1 ஆகவும், 1 இருந்து 0 ஆகவும் மாற்றம் செய்யவும்).\n",
    "* கிராஸ் ஓவருக்காக, ஒரு வெக்டரிலிருந்து சில பிட்டுகளை எடுத்து, மற்றொன்றிலிருந்து சில பிட்டுகளை எடுப்போம். எந்த உள்ளீட்டு மாஸ்குகளிலிருந்து எந்த பிட்டுகளை எடுக்க வேண்டும் என்பதை சீரற்றமாக தேர்ந்தெடுக்க, அதே `generate` செயல்பாட்டைப் பயன்படுத்துவோம்.\n"
   ]
  },
  {
   "cell_type": "code",
   "execution_count": 7,
   "metadata": {
    "trusted": true
   },
   "outputs": [],
   "source": [
    "def mutate(b):\n",
    "    x = b.copy()\n",
    "    i = random.randint(0,len(b)-1)\n",
    "    x[i] = 1-x[i]\n",
    "    return x\n",
    "\n",
    "def xover(b1,b2):\n",
    "    x = generate(b1)\n",
    "    return b1*x+b2*(1-x)"
   ]
  },
  {
   "cell_type": "markdown",
   "metadata": {},
   "source": [
    "ஆரம்ப மக்கள் தொகையான தீர்வுகள் $P$ ஐ `pop_size` அளவிற்கு உருவாக்குவோம்:\n"
   ]
  },
  {
   "cell_type": "code",
   "execution_count": 8,
   "metadata": {
    "trusted": true
   },
   "outputs": [],
   "source": [
    "pop_size = 30\n",
    "P = [generate(S) for _ in range(pop_size)]"
   ]
  },
  {
   "cell_type": "markdown",
   "metadata": {},
   "source": [
    "இப்போது, பரிணாமத்தை செயல்படுத்த முக்கிய செயல்பாடு. `n` என்பது பரிணாமத்தின் படிகளை குறிக்கிறது. ஒவ்வொரு படியிலும்:\n",
    "\n",
    "* 30% சாத்தியத்துடன், ஒரு மியூட்டேஷனைச் செய்கிறோம், மேலும் மிக மோசமான `fit` செயல்பாட்டுடன் உள்ள கூறை மியூட்டேட் செய்யப்பட்ட கூறால் மாற்றுகிறோம்.\n",
    "* 70% சாத்தியத்துடன், ஒரு கிராஸ்ஓவரைச் செய்கிறோம்.\n",
    "\n",
    "இந்த செயல்பாடு சிறந்த தீர்வை (சிறந்த தீர்வுக்கு இணையான ஜீனை) மற்றும் ஒவ்வொரு சுழற்சியிலும் மக்கள் தொகையில் குறைந்த `fit` செயல்பாட்டின் வரலாற்றை திருப்பித் தருகிறது.\n"
   ]
  },
  {
   "cell_type": "code",
   "execution_count": 9,
   "metadata": {
    "trusted": true
   },
   "outputs": [
    {
     "name": "stdout",
     "output_type": "stream",
     "text": [
      "[0 0 0 1 1 0 0 0 0 1 1 1 0 1 0 0 0 1 0 1 0 1 0 1 0 1 1 0 0 0 0 0 1 0 1 1 0\n",
      " 0 0 0 1 1 0 0 1 0 0 0 0 0 1 0 0 1 1 1 1 1 1 1 0 1 1 0 1 1 1 1 1 0 1 0 0 0\n",
      " 0 1 1 1 0 1 0 1 1 1 1 1 0 0 0 1 1 0 1 0 0 1 0 0 1 1 1 1 1 1 1 1 0 1 0 1 1\n",
      " 0 1 1 0 0 0 0 1 1 1 1 0 1 0 0 1 0 1 1 1 0 1 0 0 0 0 0 0 1 1 0 0 0 1 1 0 0\n",
      " 1 0 1 1 1 1 1 0 1 0 1 0 1 1 1 0 0 0 1 1 0 0 0 0 0 0 1 1 1 0 1 0 0 0 1 0 1\n",
      " 0 1 0 1 0 0 1 1 1 0 1 1 0 0 1] 4\n"
     ]
    }
   ],
   "source": [
    "def evolve(P,S=S,n=2000):\n",
    "    res = []\n",
    "    for _ in range(n):\n",
    "        f = min([fit(b) for b in P])\n",
    "        res.append(f)\n",
    "        if f==0:\n",
    "            break\n",
    "        if random.randint(1,10)<3:\n",
    "            i = random.randint(0,len(P)-1)\n",
    "            b = mutate(P[i])\n",
    "            i = np.argmax([fit(z) for z in P])\n",
    "            P[i] = b\n",
    "        else:\n",
    "            i = random.randint(0,len(P)-1)\n",
    "            j = random.randint(0,len(P)-1)\n",
    "            b = xover(P[i],P[j])\n",
    "            if fit(b)<fit(P[i]):\n",
    "                P[i]=b\n",
    "            elif fit(b)<fit(P[j]):\n",
    "                P[j]=b\n",
    "            else:\n",
    "                pass\n",
    "    i = np.argmin([fit(b) for b in P])\n",
    "    return (P[i],res)\n",
    "\n",
    "(s,hist) = evolve(P)\n",
    "print(s,fit(s))"
   ]
  },
  {
   "cell_type": "markdown",
   "metadata": {},
   "source": [
    "நீங்கள் காணலாம், நாங்கள் `fit` செயல்பாட்டை மிகவும் குறைக்க முடிந்துள்ளோம்! இங்கே முழு மக்கள்தொகைக்கு `fit` செயல்பாடு செயல்படும் விதத்தை காட்டும் வரைபடம் உள்ளது.\n"
   ]
  },
  {
   "cell_type": "code",
   "execution_count": 10,
   "metadata": {
    "trusted": true
   },
   "outputs": [
    {
     "data": {
      "image/png": "[encoded data removed]",
      "text/plain": [
       "<Figure size 432x288 with 1 Axes>"
      ]
     },
     "metadata": {
      "needs_background": "light"
     },
     "output_type": "display_data"
    }
   ],
   "source": [
    "plt.plot(hist)\n",
    "plt.show()"
   ]
  },
  {
   "cell_type": "markdown",
   "metadata": {},
   "source": [
    "## பிரச்சினை 2: N குயின்ஸ் பிரச்சினை\n",
    "\n",
    "**பணி**:\n",
    "நீங்கள் $N$ குயின்களை $N\\times N$ அளவுள்ள சதுரங்க பலகையில் ஒருவருக்கொருவர் தாக்காத வகையில் அமைக்க வேண்டும்.\n",
    "\n",
    "முதலில், ஜெனடிக் ஆல்காரிதம்களைப் பயன்படுத்தாமல், முழுமையான தேடலைப் பயன்படுத்தி பிரச்சினையை தீர்ப்போம். சதுரங்க பலகையின் நிலையை $L$ பட்டியலால் பிரதிநிதித்துவப்படுத்தலாம், இதில் $i$-வது எண்ணிக்கை $i$-வது வரிசையில் குயினின் கிடைமட்ட நிலையை குறிக்கிறது. ஒவ்வொரு தீர்விலும் ஒவ்வொரு வரிசையிலும் ஒரு குயின் மட்டுமே இருக்கும், மேலும் ஒவ்வொரு வரிசையிலும் ஒரு குயின் இருக்கும் என்பது தெளிவாக உள்ளது.\n",
    "\n",
    "நமது இலக்கு பிரச்சினைக்கு முதல் தீர்வை கண்டறிவதாக இருக்கும், அதன் பிறகு தேடலை நிறுத்துவோம். இந்த செயல்பாட்டை குயின்களின் அனைத்து சாத்தியமான நிலைகளை உருவாக்குவதற்காக எளிதாக விரிவாக்கலாம்.\n"
   ]
  },
  {
   "cell_type": "code",
   "execution_count": 11,
   "metadata": {
    "trusted": true
   },
   "outputs": [
    {
     "name": "stdout",
     "output_type": "stream",
     "text": [
      "[1, 5, 8, 6, 3, 7, 2, 4]\n"
     ]
    },
    {
     "data": {
      "text/plain": [
       "True"
      ]
     },
     "execution_count": 11,
     "metadata": {},
     "output_type": "execute_result"
    }
   ],
   "source": [
    "N = 8\n",
    "\n",
    "def checkbeats(i_new,j_new,l):\n",
    "    for i,j in enumerate(l,start=1):\n",
    "        if j==j_new:\n",
    "            return False\n",
    "        else:\n",
    "            if abs(j-j_new) == i_new-i:\n",
    "                return False\n",
    "    return True\n",
    "\n",
    "def nqueens(l,N=8,disp=True):\n",
    "    if len(l)==N:\n",
    "        if disp: print(l)\n",
    "        return True\n",
    "    else:\n",
    "        for j in range(1,N+1):\n",
    "            if checkbeats(len(l)+1,j,l):\n",
    "                l.append(j)\n",
    "                if nqueens(l,N,disp): return True\n",
    "                else: l.pop()\n",
    "        return False\n",
    "            \n",
    "nqueens([],8)\n"
   ]
  },
  {
   "cell_type": "markdown",
   "metadata": {},
   "source": []
  },
  {
   "cell_type": "code",
   "execution_count": 12,
   "metadata": {
    "trusted": true
   },
   "outputs": [
    {
     "name": "stdout",
     "output_type": "stream",
     "text": [
      "10.6 s ± 2.17 s per loop (mean ± std. dev. of 7 runs, 1 loop each)\n"
     ]
    }
   ],
   "source": [
    "%timeit nqueens([],20,False)"
   ]
  },
  {
   "cell_type": "markdown",
   "metadata": {},
   "source": [
    "இப்போது அதே பிரச்சினையை ஜெனடிக் ஆல்காரிதம் பயன்படுத்தி தீர்ப்போம். இந்த தீர்வு [இந்த வலைப்பதிவில்](https://kushalvyas.github.io/gen_8Q.html) இருந்து ஈர்க்கப்பட்டது.\n",
    "\n",
    "ஒவ்வொரு தீர்வையும் $N$ நீளமுள்ள அதே பட்டியலால் பிரதிநிதித்துவப்படுத்துவோம், மேலும் `fit` செயல்பாடாக, ஒருவருக்கொருவர் தாக்கும் ராணிகளின் எண்ணிக்கையை எடுத்துக்கொள்வோம்:\n"
   ]
  },
  {
   "cell_type": "code",
   "execution_count": 13,
   "metadata": {
    "trusted": true
   },
   "outputs": [],
   "source": [
    "def fit(L):\n",
    "    x=0\n",
    "    for i1,j1 in enumerate(L,1):\n",
    "        for i2,j2 in enumerate(L,1):\n",
    "            if i2>i1:\n",
    "                if j2==j1 or (abs(j2-j1)==i2-i1): x+=1\n",
    "    return x"
   ]
  },
  {
   "cell_type": "markdown",
   "metadata": {},
   "source": [
    "காரணமாக உடல் தகுதி செயல்பாட்டை கணக்கிடுவது நேரம் பிடிக்கும், ஒவ்வொரு தீர்வையும் உடல் தகுதி செயல்பாட்டின் மதிப்புடன் சேர்த்து மக்கள் தொகையில் சேமிப்போம். ஆரம்ப மக்கள் தொகையை உருவாக்குவோம்:\n"
   ]
  },
  {
   "cell_type": "code",
   "execution_count": 14,
   "metadata": {
    "trusted": true
   },
   "outputs": [
    {
     "data": {
      "text/plain": [
       "[(array([2, 3, 8, 7, 5, 4, 1, 6]), 4),\n",
       " (array([3, 4, 5, 1, 2, 8, 6, 7]), 8),\n",
       " (array([1, 3, 7, 4, 5, 8, 6, 2]), 6),\n",
       " (array([1, 5, 4, 6, 8, 3, 7, 2]), 4),\n",
       " (array([3, 5, 7, 1, 8, 6, 4, 2]), 3)]"
      ]
     },
     "execution_count": 14,
     "metadata": {},
     "output_type": "execute_result"
    }
   ],
   "source": [
    "def generate_one(N):\n",
    "    x = np.arange(1,N+1)\n",
    "    np.random.shuffle(x)\n",
    "    return (x,fit(x))\n",
    "\n",
    "def generate(N,NP):\n",
    "    return [generate_one(N) for _ in range(NP)]\n",
    "\n",
    "generate(8,5)"
   ]
  },
  {
   "cell_type": "markdown",
   "metadata": {},
   "source": [
    "இப்போது நாமும் மியூட்டேஷன் மற்றும் கிராஸ்ஓவர் செயல்பாடுகளை வரையறுக்க வேண்டும். கிராஸ்ஓவர் என்பது இரண்டு ஜீன்களை ஒன்றாக இணைப்பதற்காக அவற்றை ஒரு சீரற்ற இடத்தில் உடைத்து, வெவ்வேறு ஜீன்களில் இருந்து இரண்டு பகுதிகளை இணைப்பதன் மூலம் செயல்படும்.\n"
   ]
  },
  {
   "cell_type": "code",
   "execution_count": 15,
   "metadata": {
    "trusted": true
   },
   "outputs": [
    {
     "data": {
      "text/plain": [
       "array([1, 2, 7, 8])"
      ]
     },
     "execution_count": 15,
     "metadata": {},
     "output_type": "execute_result"
    }
   ],
   "source": [
    "def mutate(G):\n",
    "    x=random.randint(0,len(G)-1)\n",
    "    G[x]=random.randint(1,len(G))\n",
    "    return G\n",
    "    \n",
    "def xover(G1,G2):\n",
    "    x=random.randint(0,len(G1))\n",
    "    return np.concatenate((G1[:x],G2[x:]))\n",
    "\n",
    "xover([1,2,3,4],[5,6,7,8])"
   ]
  },
  {
   "cell_type": "markdown",
   "metadata": {},
   "source": [
    "நாங்கள் ஜீன் தேர்வு செயல்முறையை மேம்படுத்துவோம், மேலும் நல்ல உடல் அமைப்பு செயல்பாட்டுடன் ஜீன்களை தேர்வு செய்வதன் மூலம். ஜீன் தேர்வு செய்யப்படும் வாய்ப்பு உடல் அமைப்பு செயல்பாட்டின் மீது निर्भर करेगा:\n"
   ]
  },
  {
   "cell_type": "code",
   "execution_count": 17,
   "metadata": {
    "trusted": true
   },
   "outputs": [],
   "source": [
    "def choose_rand(P):\n",
    "    N=len(P[0][0])\n",
    "    mf = N*(N-1)//2 # max fitness fn\n",
    "    z = [mf-x[1] for x in P]\n",
    "    tf = sum(z) # total fitness\n",
    "    w = [x/tf for x in z]\n",
    "    p = np.random.choice(len(P),2,False,p=w)\n",
    "    return p[0],p[1]\n",
    "\n",
    "def choose(P):\n",
    "    def ch(w):\n",
    "        p=[]\n",
    "        while p==[]:\n",
    "            r = random.random()\n",
    "            p = [i for i,x in enumerate(P) if x[1]>=r]\n",
    "        return random.choice(p)\n",
    "    N=len(P[0][0])\n",
    "    mf = N*(N-1)//2 # max fitness fn\n",
    "    z = [mf-x[1] for x in P]\n",
    "    tf = sum(z) # total fitness\n",
    "    w = [x/tf for x in z]\n",
    "    p1=p2=0\n",
    "    while p1==p2:\n",
    "        p1 = ch(w)\n",
    "        p2 = ch(w)\n",
    "    return p1,p2"
   ]
  },
  {
   "cell_type": "markdown",
   "metadata": {},
   "source": [
    "இப்போது முக்கியமான பரிணாம சுழற்சியை வரையறுப்போம். முந்தைய உதாரணத்திலிருந்து லாஜிக்கை சற்று மாறுபடச் செய்வோம், ஒருவர் படைப்பாற்றலாக செயல்பட முடியும் என்பதை காட்ட. நாம் சரியான தீர்வை (fitness function=0) பெறும் வரை சுழற்சியை தொடர்வோம், மேலும் ஒவ்வொரு படியிலும் தற்போதைய தலைமுறையை எடுத்து, அதே அளவிலான புதிய தலைமுறையை உருவாக்குவோம். இது `nxgeneration` செயல்பாட்டைப் பயன்படுத்தி, கீழ்க்கண்ட படிகளின் மூலம் செய்யப்படுகிறது:\n",
    "\n",
    "1. மிகவும் தகுதியற்ற தீர்வுகளை நீக்குங்கள் - இதைச் செய்ய `discard_unfit` என்ற செயல்பாடு உள்ளது\n",
    "1. தலைமுறைக்கு மேலும் சில சீரற்ற தீர்வுகளைச் சேர்க்கவும்\n",
    "1. புதிய தலைமுறையை `gen_size` அளவுக்கு உருவாக்கவும், ஒவ்வொரு புதிய ஜீனுக்கும் கீழ்க்கண்ட படிகளைப் பின்பற்றவும்:\n",
    "    - இரண்டு சீரற்ற ஜீன்களை தேர்ந்தெடுக்கவும், fitness function-க்கு ஏற்ப சாத்தியமானProbability-ஐப் பயன்படுத்தி\n",
    "    - ஒரு crossover-ஐ கணக்கிடவும்\n",
    "    - `mutation_prob` சாத்தியத்துடன் ஒரு mutation-ஐப் பயன்படுத்தவும்\n"
   ]
  },
  {
   "cell_type": "code",
   "execution_count": 20,
   "metadata": {
    "trusted": true
   },
   "outputs": [
    {
     "data": {
      "text/plain": [
       "(array([4, 7, 5, 3, 1, 6, 8, 2]), 0)"
      ]
     },
     "execution_count": 20,
     "metadata": {},
     "output_type": "execute_result"
    }
   ],
   "source": [
    "mutation_prob = 0.1\n",
    "\n",
    "def discard_unfit(P):\n",
    "    P.sort(key=lambda x:x[1])\n",
    "    return P[:len(P)//3]\n",
    "\n",
    "def nxgeneration(P):\n",
    "    gen_size=len(P)\n",
    "    P = discard_unfit(P)\n",
    "    P.extend(generate(len(P[0][0]),3))\n",
    "    new_gen = []\n",
    "    for _ in range(gen_size):\n",
    "        p1,p2 = choose_rand(P)\n",
    "        n = xover(P[p1][0],P[p2][0])\n",
    "        if random.random()<mutation_prob:\n",
    "            n=mutate(n)\n",
    "        nf = fit(n)\n",
    "        new_gen.append((n,nf))\n",
    "        '''\n",
    "        if (nf<=P[p1][1]) or (nf<=P[p2][1]):\n",
    "            new_gen.append((n,nf))\n",
    "        elif (P[p1][1]<P[p2][1]):\n",
    "            new_gen.append(P[p1])\n",
    "        else:\n",
    "            new_gen.append(P[p2])\n",
    "        '''\n",
    "    return new_gen\n",
    "    \n",
    "def genetic(N,pop_size=100):\n",
    "    P = generate(N,pop_size)\n",
    "    mf = min([x[1] for x in P])\n",
    "    n=0\n",
    "    while mf>0:\n",
    "        #print(\"Generation {0}, fit={1}\".format(n,mf))\n",
    "        n+=1\n",
    "        mf = min([x[1] for x in P])\n",
    "        P = nxgeneration(P)\n",
    "    mi = np.argmin([x[1] for x in P])\n",
    "    return P[mi]\n",
    "\n",
    "genetic(8)"
   ]
  },
  {
   "cell_type": "markdown",
   "metadata": {},
   "source": [
    "அதிகাংশ நேரங்களில் நாம் ஒரு தீர்வை மிகவும் விரைவாக பெற முடிகிறது என்பது சுவாரஸ்யமாக உள்ளது, ஆனால் சில அரிதான சந்தர்ப்பங்களில் மேம்படுத்தல் உள்ளூர் குறைந்தபட்சத்தில் அடைந்து, செயல்முறை நீண்ட நேரம் சிக்கிக்கொள்கிறது. சராசரி நேரத்தை அளவிடும் போது இதை கருத்தில் கொள்ளுவது முக்கியம்: அதிகமான சந்தர்ப்பங்களில் ஜெனெடிக் ஆல்காரிதம் முழுமையான தேடலுக்கு விட வேகமாக இருக்கும், ஆனால் சில நேரங்களில் இது அதிக நேரம் எடுக்கலாம். இந்த பிரச்சினையை சமாளிக்க, பரிந்துரைக்கப்படும் தீர்வாக பரம்பரைகளின் எண்ணிக்கையை வரையறுக்குவது பொருத்தமாக இருக்கும், மேலும் தீர்வை கண்டுபிடிக்க முடியாவிட்டால் - நாம் முற்றிலுமாக புதியதாக தொடங்கலாம்.\n"
   ]
  },
  {
   "cell_type": "code",
   "execution_count": 19,
   "metadata": {
    "trusted": true
   },
   "outputs": [
    {
     "name": "stdout",
     "output_type": "stream",
     "text": [
      "The slowest run took 18.71 times longer than the fastest. This could mean that an intermediate result is being cached.\n",
      "26.4 s ± 28.7 s per loop (mean ± std. dev. of 7 runs, 1 loop each)\n"
     ]
    }
   ],
   "source": [
    "%timeit genetic(10)"
   ]
  },
  {
   "cell_type": "markdown",
   "metadata": {},
   "source": [
    "\n---\n\n**அறிவிப்பு**:  \nஇந்த ஆவணம் [Co-op Translator](https://github.com/Azure/co-op-translator) என்ற AI மொழிபெயர்ப்பு சேவையை பயன்படுத்தி மொழிபெயர்க்கப்பட்டுள்ளது. நாங்கள் துல்லியத்திற்காக முயற்சிக்கிறோம், ஆனால் தானியங்கி மொழிபெயர்ப்புகளில் பிழைகள் அல்லது தவறுகள் இருக்கக்கூடும் என்பதை கவனத்தில் கொள்ளவும். அதன் சொந்த மொழியில் உள்ள மூல ஆவணம் அதிகாரப்பூர்வ ஆதாரமாக கருதப்பட வேண்டும். முக்கியமான தகவல்களுக்கு, தொழில்முறை மனித மொழிபெயர்ப்பு பரிந்துரைக்கப்படுகிறது. இந்த மொழிபெயர்ப்பைப் பயன்படுத்துவதால் ஏற்படும் எந்த தவறான புரிதல்களுக்கும் அல்லது தவறான விளக்கங்களுக்கும் நாங்கள் பொறுப்பல்ல.\n"
   ]
  }
 ],
 "metadata": {
  "interpreter": {
   "hash": "86193a1ab0ba47eac1c69c1756090baa3b420b3eea7d4aafab8b85f8b312f0c5"
  },
  "kernelspec": {
   "display_name": "Python 3.6",
   "language": "python",
   "name": "python3"
  },
  "language_info": {
   "codemirror_mode": {
    "name": "ipython",
    "version": 3
   },
   "file_extension": ".py",
   "mimetype": "text/x-python",
   "name": "python",
   "nbconvert_exporter": "python",
   "pygments_lexer": "ipython3",
   "version": "3.9.5"
  },
  "coopTranslator": {
   "original_hash": "1012c117808753433f6e2696e775ff4b",
   "translation_date": "2025-10-11T13:02:10+00:00",
   "source_file": "lessons/6-Other/21-GeneticAlgorithms/Genetic.ipynb",
   "language_code": "ta"
  }
 },
 "nbformat": 4,
 "nbformat_minor": 2
}