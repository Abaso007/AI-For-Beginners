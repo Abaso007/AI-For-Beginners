{
 "cells": [
  {
   "cell_type": "markdown",
   "metadata": {},
   "source": [
    "# எங்கள் சொந்த கட்டமைப்புடன் MNIST இலக்க வகைப்பாடு\n",
    "\n",
    "[AI for Beginners Curriculum](https://github.com/microsoft/ai-for-beginners) இலிருந்து ஆய்வகப் பணிக்கான ஒதுக்கீடு.\n",
    "\n",
    "### தரவுத்தொகுப்பைப் படித்தல்\n",
    "\n",
    "இந்த குறியீடு இணையத்தில் உள்ள களஞ்சியத்திலிருந்து தரவுத்தொகுப்பைப் பதிவிறக்குகிறது. நீங்கள் AI Curriculum களஞ்சியத்தின் `/data` கோப்பகத்திலிருந்து தரவுத்தொகுப்பை கையால் நகலெடுக்கவும் முடியும்.\n"
   ]
  },
  {
   "cell_type": "code",
   "execution_count": 4,
   "metadata": {
    "tags": []
   },
   "outputs": [
    {
     "name": "stderr",
     "output_type": "stream",
     "text": [
      "  % Total    % Received % Xferd  Average Speed   Time    Time     Time  Current\n",
      "                                 Dload  Upload   Total   Spent    Left  Speed\n",
      "\n",
      "  0     0    0     0    0     0      0      0 --:--:-- --:--:-- --:--:--     0\n",
      "100  9.9M  100  9.9M    0     0   9.9M      0  0:00:01 --:--:--  0:00:01 15.8M\n"
     ]
    }
   ],
   "source": [
    "!rm *.pkl\n",
    "!wget https://raw.githubusercontent.com/microsoft/AI-For-Beginners/main/data/mnist.pkl.gz\n",
    "!gzip -d mnist.pkl.gz"
   ]
  },
  {
   "cell_type": "code",
   "execution_count": 3,
   "metadata": {},
   "outputs": [],
   "source": [
    "import pickle\n",
    "with open('mnist.pkl','rb') as f:\n",
    "    MNIST = pickle.load(f)"
   ]
  },
  {
   "cell_type": "code",
   "execution_count": 4,
   "metadata": {},
   "outputs": [],
   "source": [
    "labels = MNIST['Train']['Labels']\n",
    "data = MNIST['Train']['Features']"
   ]
  },
  {
   "cell_type": "markdown",
   "metadata": {},
   "source": [
    "நாம் கொண்டுள்ள தரவின் வடிவம் என்ன என்பதை பார்க்கலாம்:\n"
   ]
  },
  {
   "cell_type": "code",
   "execution_count": 5,
   "metadata": {},
   "outputs": [
    {
     "data": {
      "text/plain": [
       "(42000, 784)"
      ]
     },
     "execution_count": 5,
     "metadata": {},
     "output_type": "execute_result"
    }
   ],
   "source": [
    "data.shape"
   ]
  },
  {
   "cell_type": "markdown",
   "metadata": {},
   "source": [
    "### தரவுகளை பிரித்தல்\n",
    "\n",
    "தரவை பயிற்சி மற்றும் சோதனை தரவுத்தொகுப்பாகப் பிரிக்க Scikit Learn ஐ பயன்படுத்துவோம்:\n"
   ]
  },
  {
   "cell_type": "code",
   "execution_count": 6,
   "metadata": {},
   "outputs": [
    {
     "name": "stdout",
     "output_type": "stream",
     "text": [
      "Train samples: 33600, test samples: 8400\n"
     ]
    }
   ],
   "source": [
    "from sklearn.model_selection import train_test_split\n",
    "\n",
    "features_train, features_test, labels_train, labels_test = train_test_split(data,labels,test_size=0.2)\n",
    "\n",
    "print(f\"Train samples: {len(features_train)}, test samples: {len(features_test)}\")"
   ]
  },
  {
   "cell_type": "markdown",
   "metadata": {},
   "source": [
    "### வழிமுறைகள்\n",
    "\n",
    "1. பாடத்தில் கொடுக்கப்பட்ட framework code-ஐ இந்த notebook-ல் அல்லது (மிகவும் சிறந்தது) தனி Python module-ல் paste செய்யவும்\n",
    "1. ஒரு-அடுக்கு perceptron-ஐ வரையறுத்து பயிற்சி செய்யவும், பயிற்சி மற்றும் validation துல்லியத்தை (accuracy) பயிற்சியின் போது கவனிக்கவும்\n",
    "1. overfitting நடந்ததா என்பதை புரிந்து கொள்ள முயற்சிக்கவும், மற்றும் accuracy-ஐ மேம்படுத்த layer parameters-ஐ சரிசெய்யவும்\n",
    "1. 2- மற்றும் 3-அடுக்கு perceptrons-க்கு முந்தைய படிகளை மீண்டும் செய்யவும். அடுக்குகளுக்கு இடையில் activation functions-ஐ மாற்றி முயற்சிக்கவும்.\n",
    "1. கீழ்க்காணும் கேள்விகளுக்கு பதிலளிக்க முயற்சிக்கவும்:\n",
    "    - அடுக்குகளுக்கு இடையிலான activation function network செயல்திறனை பாதிக்கிறதா?\n",
    "    - இந்த task-க்கு 2- அல்லது 3-அடுக்கு network தேவைப்படுகிறதா?\n",
    "    - network-ஐ train செய்யும் போது எந்தவொரு பிரச்சனைகளையும் சந்தித்தீர்களா? குறிப்பாக அடுக்குகளின் எண்ணிக்கை அதிகரித்தபோது.\n",
    "    - பயிற்சியின் போது network-இன் weights எப்படி நடந்து கொள்கின்றன? epoch-க்கு எதிராக weights-இன் max abs value-ஐ plot செய்து தொடர்பை புரிந்து கொள்ளலாம்.\n"
   ]
  },
  {
   "cell_type": "code",
   "execution_count": null,
   "metadata": {},
   "outputs": [],
   "source": []
  },
  {
   "cell_type": "markdown",
   "metadata": {},
   "source": [
    "\n---\n\n**குறிப்பு**:  \nஇந்த ஆவணம் [Co-op Translator](https://github.com/Azure/co-op-translator) என்ற AI மொழிபெயர்ப்பு சேவையைப் பயன்படுத்தி மொழிபெயர்க்கப்பட்டுள்ளது. நாங்கள் துல்லியத்திற்காக முயற்சிக்கிறோம், ஆனால் தானியங்கி மொழிபெயர்ப்புகளில் பிழைகள் அல்லது தவறான தகவல்கள் இருக்கக்கூடும் என்பதை தயவுசெய்து கவனத்தில் கொள்ளவும். அதன் தாய்மொழியில் உள்ள மூல ஆவணம் அதிகாரப்பூர்வ ஆதாரமாக கருதப்பட வேண்டும். முக்கியமான தகவல்களுக்கு, தொழில்முறை மனித மொழிபெயர்ப்பு பரிந்துரைக்கப்படுகிறது. இந்த மொழிபெயர்ப்பைப் பயன்படுத்துவதால் ஏற்படும் எந்த தவறான புரிதல்கள் அல்லது தவறான விளக்கங்களுக்கு நாங்கள் பொறுப்பல்ல.\n"
   ]
  }
 ],
 "metadata": {
  "kernelspec": {
   "display_name": "Python 3.7.4 64-bit (conda)",
   "metadata": {
    "interpreter": {
     "hash": "86193a1ab0ba47eac1c69c1756090baa3b420b3eea7d4aafab8b85f8b312f0c5"
    }
   },
   "name": "python3"
  },
  "language_info": {
   "codemirror_mode": {
    "name": "ipython",
    "version": 3
   },
   "file_extension": ".py",
   "mimetype": "text/x-python",
   "name": "python",
   "nbconvert_exporter": "python",
   "pygments_lexer": "ipython3",
   "version": "3.9.5"
  },
  "orig_nbformat": 2,
  "coopTranslator": {
   "original_hash": "6fa055f484eb5d6bdf41166a356d3abf",
   "translation_date": "2025-10-11T12:20:33+00:00",
   "source_file": "lessons/3-NeuralNetworks/04-OwnFramework/lab/MyFW_MNIST.ipynb",
   "language_code": "ta"
  }
 },
 "nbformat": 4,
 "nbformat_minor": 2
}