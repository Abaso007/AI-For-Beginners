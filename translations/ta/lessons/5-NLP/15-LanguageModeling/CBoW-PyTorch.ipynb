{
 "cells": [
  {
   "cell_type": "markdown",
   "metadata": {
    "id": "NXTSugt6ieXh"
   },
   "source": [
    "## CBoW மாடலை பயிற்சி செய்வது\n",
    "\n",
    "இந்த நோட்புக் [AI for Beginners Curriculum](http://aka.ms/ai-beginners) இன் ஒரு பகுதியாகும்.\n",
    "\n",
    "இந்த உதாரணத்தில், நாங்கள் CBoW மொழி மாடலை பயிற்சி செய்து, எங்கள் சொந்த Word2Vec எம்பெடிங் இடத்தை பெறப் பார்க்கிறோம். AG News தரவுத்தொகுப்பை உரையின் மூலமாக பயன்படுத்துவோம்.\n"
   ]
  },
  {
   "cell_type": "code",
   "source": [
    "import torch\n",
    "import torchtext\n",
    "import os\n",
    "import collections\n",
    "import builtins\n",
    "import random\n",
    "import numpy as np"
   ],
   "metadata": {
    "id": "q-UiiJUKaxHj"
   },
   "execution_count": null,
   "outputs": []
  },
  {
   "cell_type": "code",
   "source": [
    "device = torch.device(\"cuda\" if torch.cuda.is_available() else \"cpu\")"
   ],
   "metadata": {
    "id": "TFbR8CZaTZ1q"
   },
   "execution_count": null,
   "outputs": []
  },
  {
   "cell_type": "markdown",
   "source": [
    "முதலில் நமது தரவுத்தொகுப்பை ஏற்றவும், டோக்கனைசர் மற்றும் சொற்களஞ்சியத்தை வரையறுக்கவும். கணக்கீடுகளை கொஞ்சம் வரையறுக்க `vocab_size`-ஐ 5000 ஆக அமைப்போம்.\n"
   ],
   "metadata": {
    "id": "HIwC7lI5T-ov"
   }
  },
  {
   "cell_type": "code",
   "source": [
    "def load_dataset(ngrams = 1, min_freq = 1, vocab_size = 5000 , lines_cnt = 500):\n",
    "    tokenizer = torchtext.data.utils.get_tokenizer('basic_english')\n",
    "    print(\"Loading dataset...\")\n",
    "    test_dataset, train_dataset  = torchtext.datasets.AG_NEWS(root='./data')\n",
    "    train_dataset = list(train_dataset)\n",
    "    test_dataset = list(test_dataset)\n",
    "    classes = ['World', 'Sports', 'Business', 'Sci/Tech']\n",
    "    print('Building vocab...')\n",
    "    counter = collections.Counter()\n",
    "    for i, (_, line) in enumerate(train_dataset):\n",
    "        counter.update(torchtext.data.utils.ngrams_iterator(tokenizer(line),ngrams=ngrams))\n",
    "        if i == lines_cnt:\n",
    "            break\n",
    "    vocab = torchtext.vocab.Vocab(collections.Counter(dict(counter.most_common(vocab_size))), min_freq=min_freq)\n",
    "    return train_dataset, test_dataset, classes, vocab, tokenizer"
   ],
   "metadata": {
    "id": "wdZuygtgiuLG"
   },
   "execution_count": null,
   "outputs": []
  },
  {
   "cell_type": "code",
   "source": [
    "train_dataset, test_dataset, _, vocab, tokenizer = load_dataset()"
   ],
   "metadata": {
    "colab": {
     "base_uri": "https://localhost:8080/"
    },
    "id": "4d1nU1gsivGu",
    "outputId": "949fe272-ae0e-49f5-c373-6703458b3a74"
   },
   "execution_count": null,
   "outputs": [
    {
     "output_type": "stream",
     "name": "stdout",
     "text": [
      "Loading dataset...\n",
      "Building vocab...\n"
     ]
    }
   ]
  },
  {
   "cell_type": "code",
   "source": [
    "def encode(x, vocabulary, tokenizer = tokenizer):\n",
    "    return [vocabulary[s] for s in tokenizer(x)]"
   ],
   "metadata": {
    "id": "1XDYNhG8ToFV"
   },
   "execution_count": null,
   "outputs": []
  },
  {
   "cell_type": "markdown",
   "metadata": {
    "id": "LIlQk6_PaHVY"
   },
   "source": [
    "## CBoW மாடல்\n",
    "\n",
    "CBoW $2N$ அண்டை வார்த்தைகளை அடிப்படையாகக் கொண்டு ஒரு வார்த்தையை கணிக்க கற்றுக்கொள்கிறது. உதாரணமாக, $N=1$ என்றால், *I like to train networks* என்ற வாக்கியத்திலிருந்து பின்வரும் ஜோடிகளை பெறுவோம்: (like,I), (I, like), (to, like), (like,to), (train,to), (to, train), (networks, train), (train,networks). இங்கு, முதல் வார்த்தை உள்ளீடாக பயன்படுத்தப்படும் அண்டை வார்த்தை, இரண்டாவது வார்த்தை நாம் கணிக்க முயற்சிக்கும் வார்த்தை.\n",
    "\n",
    "அடுத்த வார்த்தையை கணிக்க ஒரு நெட்வொர்க் உருவாக்க, அண்டை வார்த்தையை உள்ளீடாக வழங்க வேண்டும், மற்றும் வார்த்தை எண்ணை வெளியீடாக பெற வேண்டும். CBoW நெட்வொர்க் அமைப்பு பின்வருமாறு உள்ளது:\n",
    "\n",
    "* உள்ளீடு வார்த்தை எம்பெடிங் லேயர் வழியாக அனுப்பப்படும். இந்த எம்பெடிங் லேயர் தான் நமது Word2Vec எம்பெடிங் ஆக இருக்கும், எனவே இதை `embedder` மாறியாக தனியாக வரையறுக்கிறோம். இந்த எடுத்துக்காட்டில் எம்பெடிங் அளவு = 30 ஆக பயன்படுத்துவோம், ஆனால் நீங்கள் அதிக பரிமாணங்களுடன் (உண்மையான word2vec 300) பரிசோதிக்க விரும்பலாம்.\n",
    "* எம்பெடிங் வெக்டர் பின்னர் ஒரு லினியர் லேயருக்கு அனுப்பப்படும், இது வெளியீடு வார்த்தையை கணிக்கிறது. எனவே இதற்கு `vocab_size` நியூரான்கள் இருக்கும்.\n",
    "\n",
    "வெளியீட்டிற்காக, `CrossEntropyLoss` ஐ இழப்பீட்டு செயல்பாடாக பயன்படுத்தினால், எதிர்பார்க்கப்படும் முடிவுகளை ஒரே-ஹாட் என்கோடிங் இல்லாமல், வெறும் வார்த்தை எண்களாக வழங்க வேண்டும்.\n"
   ]
  },
  {
   "cell_type": "code",
   "source": [
    "vocab_size = len(vocab)\n",
    "\n",
    "embedder = torch.nn.Embedding(num_embeddings = vocab_size, embedding_dim = 30)\n",
    "model = torch.nn.Sequential(\n",
    "    embedder,\n",
    "    torch.nn.Linear(in_features = 30, out_features = vocab_size),\n",
    ")\n",
    "\n",
    "print(model)"
   ],
   "metadata": {
    "colab": {
     "base_uri": "https://localhost:8080/"
    },
    "id": "akKTcKQKkfl2",
    "outputId": "da687e3e-a8ec-4c1a-e456-ab8cd6ac7dad"
   },
   "execution_count": null,
   "outputs": [
    {
     "output_type": "stream",
     "name": "stdout",
     "text": [
      "Sequential(\n",
      "  (0): Embedding(5002, 30)\n",
      "  (1): Linear(in_features=30, out_features=5002, bias=True)\n",
      ")\n"
     ]
    }
   ]
  },
  {
   "cell_type": "markdown",
   "metadata": {
    "id": "Nud6jgGPaHVa"
   },
   "source": [
    "## பயிற்சி தரவுகளை தயாரித்தல்\n",
    "\n",
    "இப்போது, CBoW வார்த்தை ஜோடிகளை உரையிலிருந்து கணக்கிடும் முக்கிய செயல்பாட்டை நிரலிடுவோம். இந்த செயல்பாடு சாளர அளவை குறிப்பிட அனுமதிக்கும், மேலும் ஒரு ஜோடி தொகுப்பை - உள்ளீடு மற்றும் வெளியீடு வார்த்தையை - திருப்பி அனுப்பும். இந்த செயல்பாடு வார்த்தைகளில் மட்டுமல்லாமல், வெக்டர்கள்/டென்சர்களிலும் பயன்படுத்தப்படலாம் - இது உரையை குறியாக்க அனுமதிக்கும், அதை `to_cbow` செயல்பாட்டிற்கு அனுப்புவதற்கு முன்.\n"
   ]
  },
  {
   "cell_type": "code",
   "execution_count": null,
   "metadata": {
    "colab": {
     "base_uri": "https://localhost:8080/"
    },
    "id": "x-dsXygOieXn",
    "outputId": "c2218280-e540-40ba-9546-efe48d0d714f"
   },
   "outputs": [
    {
     "output_type": "stream",
     "name": "stdout",
     "text": [
      "[['like', 'I'], ['to', 'I'], ['I', 'like'], ['to', 'like'], ['train', 'like'], ['I', 'to'], ['like', 'to'], ['train', 'to'], ['networks', 'to'], ['like', 'train'], ['to', 'train'], ['networks', 'train'], ['to', 'networks'], ['train', 'networks']]\n",
      "[[232, 172], [5, 172], [172, 232], [5, 232], [0, 232], [172, 5], [232, 5], [0, 5], [1202, 5], [232, 0], [5, 0], [1202, 0], [5, 1202], [0, 1202]]\n"
     ]
    }
   ],
   "source": [
    "def to_cbow(sent,window_size=2):\n",
    "    res = []\n",
    "    for i,x in enumerate(sent):\n",
    "        for j in range(max(0,i-window_size),min(i+window_size+1,len(sent))):\n",
    "            if i!=j:\n",
    "                res.append([sent[j],x])\n",
    "    return res\n",
    "\n",
    "print(to_cbow(['I','like','to','train','networks']))\n",
    "print(to_cbow(encode('I like to train networks', vocab)))"
   ]
  },
  {
   "cell_type": "markdown",
   "metadata": {
    "id": "XVaaDLjaaHVb"
   },
   "source": [
    "பயிற்சி தரவுத்தொகுப்பை தயாரிப்போம். அனைத்து செய்திகளையும் ஆய்வு செய்து, `to_cbow` ஐ அழைத்து சொற்களின் ஜோடிகளின் பட்டியலை பெறுவோம், மற்றும் அந்த ஜோடிகளை `X` மற்றும் `Y` இல் சேர்ப்போம். நேரத்தை மிச்சப்படுத்துவதற்காக, முதல் 10k செய்தி உருப்படிகளை மட்டுமே கருதுவோம் - நீங்கள் அதிக நேரம் காத்திருக்க விரும்பினால், மற்றும் சிறந்த எம்பெடிங்குகளை பெற விரும்பினால், இந்த வரம்பை எளிதாக நீக்கலாம் :)\n"
   ]
  },
  {
   "cell_type": "code",
   "execution_count": null,
   "metadata": {
    "id": "54b-Gd9TieXo"
   },
   "outputs": [],
   "source": [
    "X = []\n",
    "Y = []\n",
    "for i, x in zip(range(10000), train_dataset):\n",
    "    for w1, w2 in to_cbow(encode(x[1], vocab), window_size = 5):\n",
    "        X.append(w1)\n",
    "        Y.append(w2)\n",
    "\n",
    "X = torch.tensor(X)\n",
    "Y = torch.tensor(Y)"
   ]
  },
  {
   "cell_type": "markdown",
   "source": [
    "நாங்கள் அந்த தரவையும் ஒரு தரவுத்தொகுப்பாக மாற்றி, டேட்டா லோடரை உருவாக்குவோம்:\n"
   ],
   "metadata": {
    "id": "cwWy0PzXWhN5"
   }
  },
  {
   "cell_type": "code",
   "source": [
    "class SimpleIterableDataset(torch.utils.data.IterableDataset):\n",
    "    def __init__(self, X, Y):\n",
    "        super(SimpleIterableDataset).__init__()\n",
    "        self.data = []\n",
    "        for i in range(len(X)):\n",
    "            self.data.append( (Y[i], X[i]) )\n",
    "        random.shuffle(self.data)\n",
    "\n",
    "    def __iter__(self):\n",
    "        return iter(self.data)"
   ],
   "metadata": {
    "id": "mfoAcGPFZU8p"
   },
   "execution_count": null,
   "outputs": []
  },
  {
   "cell_type": "markdown",
   "metadata": {
    "id": "e4NQ_-5waHVc"
   },
   "source": [
    "நாம் அந்த தரவையும் ஒரு தரவுத்தொகுப்பாக மாற்றி, தரவுதிரவியை உருவாக்குவோம்:\n"
   ]
  },
  {
   "cell_type": "code",
   "execution_count": null,
   "metadata": {
    "id": "AbLUcojlieXo"
   },
   "outputs": [],
   "source": [
    "ds = SimpleIterableDataset(X, Y)\n",
    "dl = torch.utils.data.DataLoader(ds, batch_size = 256)"
   ]
  },
  {
   "cell_type": "markdown",
   "metadata": {
    "id": "pKQr7sXeaHVc"
   },
   "source": [
    "இப்போது நிஜமான பயிற்சியை தொடங்குவோம். நாம் `SGD` ஆப்டிமைசரை மிகவும் அதிகமான கற்றல் விகிதத்துடன் பயன்படுத்துவோம். நீங்கள் `Adam` போன்ற பிற ஆப்டிமைசர்களுடன் முயற்சி செய்து பார்க்கலாம். ஆரம்பத்தில் 10 எபோக்களுக்காக பயிற்சி செய்வோம் - மேலும் குறைந்த இழப்பை விரும்பினால், இந்த செல்களை மீண்டும் இயக்கலாம்.\n"
   ]
  },
  {
   "cell_type": "code",
   "source": [
    "def train_epoch(net, dataloader, lr = 0.01, optimizer = None, loss_fn = torch.nn.CrossEntropyLoss(), epochs = None, report_freq = 1):\n",
    "    optimizer = optimizer or torch.optim.Adam(net.parameters(), lr = lr)\n",
    "    loss_fn = loss_fn.to(device)\n",
    "    net.train()\n",
    "\n",
    "    for i in range(epochs):\n",
    "        total_loss, j = 0, 0, \n",
    "        for labels, features in dataloader:\n",
    "            optimizer.zero_grad()\n",
    "            features, labels = features.to(device), labels.to(device)\n",
    "            out = net(features)\n",
    "            loss = loss_fn(out, labels)\n",
    "            loss.backward()\n",
    "            optimizer.step()\n",
    "            total_loss += loss\n",
    "            j += 1\n",
    "        if i % report_freq == 0:\n",
    "            print(f\"Epoch: {i+1}: loss={total_loss.item()/j}\")\n",
    "\n",
    "    return total_loss.item()/j"
   ],
   "metadata": {
    "id": "HeeCYKr_KF1w"
   },
   "execution_count": null,
   "outputs": []
  },
  {
   "cell_type": "code",
   "source": [
    "train_epoch(net = model, dataloader = dl, optimizer = torch.optim.SGD(model.parameters(), lr = 0.1), loss_fn = torch.nn.CrossEntropyLoss(), epochs = 10)"
   ],
   "metadata": {
    "colab": {
     "base_uri": "https://localhost:8080/"
    },
    "id": "KVgwGtDHgDlT",
    "outputId": "2447833f-f0e3-4566-c33d-addbfe2f451d"
   },
   "execution_count": null,
   "outputs": [
    {
     "output_type": "stream",
     "name": "stdout",
     "text": [
      "Epoch: 1: loss=5.664632366860172\n",
      "Epoch: 2: loss=5.632101973960962\n",
      "Epoch: 3: loss=5.610399051405015\n",
      "Epoch: 4: loss=5.594621561080262\n",
      "Epoch: 5: loss=5.582538017415446\n",
      "Epoch: 6: loss=5.572900234519603\n",
      "Epoch: 7: loss=5.564951676341915\n",
      "Epoch: 8: loss=5.558288112064614\n",
      "Epoch: 9: loss=5.552576955031129\n",
      "Epoch: 10: loss=5.547634165194347\n"
     ]
    },
    {
     "output_type": "execute_result",
     "data": {
      "text/plain": [
       "5.547634165194347"
      ]
     },
     "metadata": {},
     "execution_count": 16
    }
   ]
  },
  {
   "cell_type": "markdown",
   "metadata": {
    "id": "W8u2qXZmaHVd"
   },
   "source": [
    "## Word2Vec ஐ முயற்சிக்கிறோம்\n",
    "\n",
    "Word2Vec ஐ பயன்படுத்த, நமது சொற்களஞ்சியத்தில் உள்ள அனைத்து சொற்களுக்கும் தொடர்புடைய வெக்டர்களை எடுக்கலாம்:\n"
   ]
  },
  {
   "cell_type": "code",
   "execution_count": null,
   "metadata": {
    "id": "r8TatcXjkU_t"
   },
   "outputs": [],
   "source": [
    "vectors = torch.stack([embedder(torch.tensor(vocab[s])) for s in vocab.itos], 0)"
   ]
  },
  {
   "cell_type": "markdown",
   "metadata": {
    "id": "3OcX21UOaHVd"
   },
   "source": [
    "வாங்க, உதாரணமாக **பாரிஸ்** என்ற வார்த்தை ஒரு வெக்டராக குறியாக்கப்படுவது எப்படி என்பதை பார்க்கலாம்:\n"
   ]
  },
  {
   "cell_type": "code",
   "execution_count": null,
   "metadata": {
    "colab": {
     "base_uri": "https://localhost:8080/"
    },
    "id": "bz6tAeLzieXp",
    "outputId": "5b20850e-4342-45e9-f840-cfac2b4d61d8"
   },
   "outputs": [
    {
     "output_type": "stream",
     "name": "stdout",
     "text": [
      "tensor([-0.0915,  2.1224, -0.0281, -0.6819,  1.1219,  0.6458, -1.3704, -1.3314,\n",
      "        -1.1437,  0.4496,  0.2301, -0.3515, -0.8485,  1.0481,  0.4386, -0.8949,\n",
      "         0.5644,  1.0939, -2.5096,  3.2949, -0.2601, -0.8640,  0.1421, -0.0804,\n",
      "        -0.5083, -1.0560,  0.9753, -0.5949, -1.6046,  0.5774],\n",
      "       grad_fn=<EmbeddingBackward>)\n"
     ]
    }
   ],
   "source": [
    "paris_vec = embedder(torch.tensor(vocab['paris']))\n",
    "print(paris_vec)"
   ]
  },
  {
   "cell_type": "markdown",
   "metadata": {
    "id": "pHTJlaeYaHVd"
   },
   "source": [
    "Word2Vec-ஐ உபயோகித்து ஒத்த சொற்களை தேடுவது 흥미கரமாக உள்ளது. கீழே கொடுக்கப்பட்டுள்ள செயல்பாடு ஒரு குறிப்பிட்ட உள்ளீட்டு சொற்களுக்கு `n` மிக அருகிலுள்ள சொற்களை திருப்பும். அவற்றை கண்டுபிடிக்க, $|w_i - v|$-இன் நார்மை கணக்கிடுகிறோம், இங்கு $v$ என்பது நம் உள்ளீட்டு சொற்க்கு தொடர்பான வெக்டர், மற்றும் $w_i$ என்பது அகராதியில் உள்ள $i$-வது சொற்களின் குறியாக்கம். பின்னர், வரிசைப்படுத்தப்பட்ட வரிசையை `argsort` பயன்படுத்தி திருப்புகிறோம், மற்றும் அகராதியில் மிக அருகிலுள்ள சொற்களின் இடங்களை குறிக்கும் பட்டியலின் முதல் `n` உருப்படிகளை எடுக்கிறோம்.\n"
   ]
  },
  {
   "cell_type": "code",
   "execution_count": null,
   "metadata": {
    "colab": {
     "base_uri": "https://localhost:8080/"
    },
    "id": "NlZyi-_olFar",
    "outputId": "b5dbb163-88c4-4d5a-eaf2-6751f700e98c"
   },
   "outputs": [
    {
     "output_type": "execute_result",
     "data": {
      "text/plain": [
       "['microsoft', 'quoted', 'lp', 'rate', 'top']"
      ]
     },
     "metadata": {},
     "execution_count": 56
    }
   ],
   "source": [
    "def close_words(x, n = 5):\n",
    "  vec = embedder(torch.tensor(vocab[x]))\n",
    "  top5 = np.linalg.norm(vectors.detach().numpy() - vec.detach().numpy(), axis = 1).argsort()[:n]\n",
    "  return [ vocab.itos[x] for x in top5 ]\n",
    "\n",
    "close_words('microsoft')"
   ]
  },
  {
   "cell_type": "code",
   "execution_count": null,
   "metadata": {
    "colab": {
     "base_uri": "https://localhost:8080/"
    },
    "id": "-dQq7xeAln0U",
    "outputId": "66f768c3-c248-4bfd-ce4f-c8ffc6d0dd0d"
   },
   "outputs": [
    {
     "output_type": "execute_result",
     "data": {
      "text/plain": [
       "['basketball', 'lot', 'sinai', 'states', 'healthdaynews']"
      ]
     },
     "metadata": {},
     "execution_count": 51
    }
   ],
   "source": [
    "close_words('basketball')"
   ]
  },
  {
   "cell_type": "code",
   "execution_count": null,
   "metadata": {
    "colab": {
     "base_uri": "https://localhost:8080/"
    },
    "id": "fJXqK26b29sa",
    "outputId": "78f0baba-ffd0-485a-dd87-0a12bedfd7fa"
   },
   "outputs": [
    {
     "output_type": "execute_result",
     "data": {
      "text/plain": [
       "['funds', 'travel', 'sydney', 'japan', 'business']"
      ]
     },
     "metadata": {},
     "execution_count": 77
    }
   ],
   "source": [
    "close_words('funds')"
   ]
  },
  {
   "cell_type": "markdown",
   "metadata": {
    "id": "My0VeTDd3Ji8"
   },
   "source": [
    "## முக்கிய குறிப்புகள்\n",
    "\n",
    "CBoW போன்ற புத்திசாலி நுட்பங்களைப் பயன்படுத்தி, Word2Vec மாதிரியை பயிற்றுவிக்கலாம். மையச் சொற்களை வழங்கி அதற்குச் சுற்றியுள்ள சொற்களை கணிக்க பயிற்றுவிக்கப்படும் skip-gram மாதிரியை நீங்கள் முயற்சித்து, அது எவ்வளவு சிறப்பாக செயல்படுகிறது என்பதைப் பாருங்கள்.\n"
   ]
  },
  {
   "cell_type": "markdown",
   "metadata": {},
   "source": [
    "\n---\n\n**குறிப்பு**:  \nஇந்த ஆவணம் [Co-op Translator](https://github.com/Azure/co-op-translator) என்ற AI மொழிபெயர்ப்பு சேவையைப் பயன்படுத்தி மொழிபெயர்க்கப்பட்டுள்ளது. நாங்கள் துல்லியத்திற்காக முயற்சிக்கின்றோம், ஆனால் தானியங்கி மொழிபெயர்ப்புகளில் பிழைகள் அல்லது தவறான தகவல்கள் இருக்கக்கூடும் என்பதை தயவுசெய்து கவனத்தில் கொள்ளவும். அதன் தாய்மொழியில் உள்ள மூல ஆவணம் அதிகாரப்பூர்வ ஆதாரமாக கருதப்பட வேண்டும். முக்கியமான தகவல்களுக்கு, தொழில்முறை மனித மொழிபெயர்ப்பு பரிந்துரைக்கப்படுகிறது. இந்த மொழிபெயர்ப்பைப் பயன்படுத்துவதால் ஏற்படும் எந்த தவறான புரிதல்கள் அல்லது தவறான விளக்கங்களுக்கு நாங்கள் பொறுப்பல்ல.\n"
   ]
  }
 ],
 "metadata": {
  "colab": {
   "collapsed_sections": [],
   "name": "CBoW-PyTorch.ipynb",
   "provenance": []
  },
  "interpreter": {
   "hash": "16af2a8bbb083ea23e5e41c7f5787656b2ce26968575d8763f2c4b17f9cd711f"
  },
  "kernelspec": {
   "display_name": "Python 3.8.12 ('py38')",
   "language": "python",
   "name": "python3"
  },
  "language_info": {
   "codemirror_mode": {
    "name": "ipython",
    "version": 3
   },
   "file_extension": ".py",
   "mimetype": "text/x-python",
   "name": "python",
   "nbconvert_exporter": "python",
   "pygments_lexer": "ipython3",
   "version": "3.8.12"
  },
  "orig_nbformat": 4,
  "gpuClass": "standard",
  "coopTranslator": {
   "original_hash": "36df28efe3fe40b6fb0a7fa48fe3ea82",
   "translation_date": "2025-10-11T12:48:21+00:00",
   "source_file": "lessons/5-NLP/15-LanguageModeling/CBoW-PyTorch.ipynb",
   "language_code": "ta"
  }
 },
 "nbformat": 4,
 "nbformat_minor": 0
}