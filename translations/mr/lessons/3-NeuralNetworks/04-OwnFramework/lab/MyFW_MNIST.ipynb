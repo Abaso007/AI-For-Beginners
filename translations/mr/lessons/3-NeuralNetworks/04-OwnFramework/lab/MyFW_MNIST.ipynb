{
 "cells": [
  {
   "cell_type": "markdown",
   "metadata": {},
   "source": [
    "# एमएनिस्ट अंक वर्गीकरण आमच्या स्वतःच्या फ्रेमवर्कसह\n",
    "\n",
    "[एआय फॉर बिगिनर्स करिक्युलम](https://github.com/microsoft/ai-for-beginners) मधील प्रयोगशाळा असाइनमेंट.\n",
    "\n",
    "### डेटासेट वाचणे\n",
    "\n",
    "हा कोड इंटरनेटवरील रिपॉझिटरीमधून डेटासेट डाउनलोड करतो. तुम्ही एआय करिक्युलम रिपोच्या `/data` डिरेक्टरीमधून डेटासेट मॅन्युअली कॉपी देखील करू शकता.\n"
   ]
  },
  {
   "cell_type": "code",
   "execution_count": 4,
   "metadata": {
    "tags": []
   },
   "outputs": [
    {
     "name": "stderr",
     "output_type": "stream",
     "text": [
      "  % Total    % Received % Xferd  Average Speed   Time    Time     Time  Current\n",
      "                                 Dload  Upload   Total   Spent    Left  Speed\n",
      "\n",
      "  0     0    0     0    0     0      0      0 --:--:-- --:--:-- --:--:--     0\n",
      "100  9.9M  100  9.9M    0     0   9.9M      0  0:00:01 --:--:--  0:00:01 15.8M\n"
     ]
    }
   ],
   "source": [
    "!rm *.pkl\n",
    "!wget https://raw.githubusercontent.com/microsoft/AI-For-Beginners/main/data/mnist.pkl.gz\n",
    "!gzip -d mnist.pkl.gz"
   ]
  },
  {
   "cell_type": "code",
   "execution_count": 3,
   "metadata": {},
   "outputs": [],
   "source": [
    "import pickle\n",
    "with open('mnist.pkl','rb') as f:\n",
    "    MNIST = pickle.load(f)"
   ]
  },
  {
   "cell_type": "code",
   "execution_count": 4,
   "metadata": {},
   "outputs": [],
   "source": [
    "labels = MNIST['Train']['Labels']\n",
    "data = MNIST['Train']['Features']"
   ]
  },
  {
   "cell_type": "markdown",
   "metadata": {},
   "source": [
    "चला पाहूया आपल्याकडे असलेल्या डेटाचा आकार काय आहे:\n"
   ]
  },
  {
   "cell_type": "code",
   "execution_count": 5,
   "metadata": {},
   "outputs": [
    {
     "data": {
      "text/plain": [
       "(42000, 784)"
      ]
     },
     "execution_count": 5,
     "metadata": {},
     "output_type": "execute_result"
    }
   ],
   "source": [
    "data.shape"
   ]
  },
  {
   "cell_type": "markdown",
   "metadata": {},
   "source": [
    "### डेटाचे विभाजन\n",
    "\n",
    "आम्ही Scikit Learn चा वापर करून डेटाचे प्रशिक्षण आणि चाचणी डेटासेटमध्ये विभाजन करू:\n"
   ]
  },
  {
   "cell_type": "code",
   "execution_count": 6,
   "metadata": {},
   "outputs": [
    {
     "name": "stdout",
     "output_type": "stream",
     "text": [
      "Train samples: 33600, test samples: 8400\n"
     ]
    }
   ],
   "source": [
    "from sklearn.model_selection import train_test_split\n",
    "\n",
    "features_train, features_test, labels_train, labels_test = train_test_split(data,labels,test_size=0.2)\n",
    "\n",
    "print(f\"Train samples: {len(features_train)}, test samples: {len(features_test)}\")"
   ]
  },
  {
   "cell_type": "markdown",
   "metadata": {},
   "source": [
    "### सूचना\n",
    "\n",
    "1. धडा दिलेला फ्रेमवर्क कोड या नोटबुकमध्ये पेस्ट करा, किंवा (अधिक चांगले) वेगळ्या Python मॉड्यूलमध्ये पेस्ट करा.\n",
    "1. एक-स्तरीय परसेप्ट्रॉन परिभाषित करा आणि प्रशिक्षित करा, प्रशिक्षण आणि प्रमाणीकरण अचूकता प्रशिक्षणादरम्यान निरीक्षण करा.\n",
    "1. ओव्हरफिटिंग झाले आहे का हे समजून घेण्याचा प्रयत्न करा आणि अचूकता सुधारण्यासाठी स्तराचे पॅरामीटर्स समायोजित करा.\n",
    "1. 2- आणि 3-स्तरीय परसेप्ट्रॉनसाठी मागील चरणांची पुनरावृत्ती करा. स्तरांमधील वेगवेगळ्या सक्रियता फंक्शन्ससह प्रयोग करण्याचा प्रयत्न करा.\n",
    "1. खालील प्रश्नांची उत्तरे देण्याचा प्रयत्न करा:\n",
    "    - स्तरांमधील सक्रियता फंक्शन नेटवर्कच्या कार्यक्षमतेवर परिणाम करते का?\n",
    "    - या कार्यासाठी आपल्याला 2- किंवा 3-स्तरीय नेटवर्कची आवश्यकता आहे का?\n",
    "    - नेटवर्क प्रशिक्षित करताना तुम्हाला काही समस्या आल्या का? विशेषतः स्तरांची संख्या वाढल्यावर.\n",
    "    - प्रशिक्षणादरम्यान नेटवर्कचे वजन कसे वागतात? वजनाचा कमाल abs मूल्य vs. epoch प्लॉट करून संबंध समजून घेता येईल.\n"
   ]
  },
  {
   "cell_type": "code",
   "execution_count": null,
   "metadata": {},
   "outputs": [],
   "source": []
  },
  {
   "cell_type": "markdown",
   "metadata": {},
   "source": [
    "\n---\n\n**अस्वीकरण**:  \nहा दस्तऐवज AI भाषांतर सेवा [Co-op Translator](https://github.com/Azure/co-op-translator) वापरून भाषांतरित करण्यात आला आहे. आम्ही अचूकतेसाठी प्रयत्नशील असलो तरी कृपया लक्षात ठेवा की स्वयंचलित भाषांतरे त्रुटी किंवा अचूकतेच्या अभावाने युक्त असू शकतात. मूळ भाषेतील दस्तऐवज हा अधिकृत स्रोत मानला जावा. महत्त्वाच्या माहितीसाठी व्यावसायिक मानवी भाषांतराची शिफारस केली जाते. या भाषांतराचा वापर करून उद्भवलेल्या कोणत्याही गैरसमज किंवा चुकीच्या अर्थासाठी आम्ही जबाबदार राहणार नाही.\n"
   ]
  }
 ],
 "metadata": {
  "kernelspec": {
   "display_name": "Python 3.7.4 64-bit (conda)",
   "metadata": {
    "interpreter": {
     "hash": "86193a1ab0ba47eac1c69c1756090baa3b420b3eea7d4aafab8b85f8b312f0c5"
    }
   },
   "name": "python3"
  },
  "language_info": {
   "codemirror_mode": {
    "name": "ipython",
    "version": 3
   },
   "file_extension": ".py",
   "mimetype": "text/x-python",
   "name": "python",
   "nbconvert_exporter": "python",
   "pygments_lexer": "ipython3",
   "version": "3.9.5"
  },
  "orig_nbformat": 2,
  "coopTranslator": {
   "original_hash": "6fa055f484eb5d6bdf41166a356d3abf",
   "translation_date": "2025-08-28T08:43:39+00:00",
   "source_file": "lessons/3-NeuralNetworks/04-OwnFramework/lab/MyFW_MNIST.ipynb",
   "language_code": "mr"
  }
 },
 "nbformat": 4,
 "nbformat_minor": 2
}