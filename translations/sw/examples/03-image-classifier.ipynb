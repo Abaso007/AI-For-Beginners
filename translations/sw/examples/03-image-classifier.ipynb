{
 "cells": [
  {
   "cell_type": "markdown",
   "metadata": {},
   "source": [
    "# Kisawazishi Rahisi cha Picha\n",
    "\n",
    "Notebook hii inaonyesha jinsi ya kuainisha picha kwa kutumia mtandao wa neva uliokwisha kufundishwa.\n",
    "\n",
    "**Unachojifunza:**\n",
    "- Jinsi ya kupakia na kutumia modeli iliyokwisha kufundishwa\n",
    "- Usindikaji wa awali wa picha\n",
    "- Kufanya utabiri kwenye picha\n",
    "- Kuelewa alama za kujiamini\n",
    "\n",
    "**Matumizi:** Kutambua vitu kwenye picha (kama \"paka\", \"mbwa\", \"gari\", n.k.)\n",
    "\n",
    "---\n"
   ]
  },
  {
   "cell_type": "markdown",
   "metadata": {},
   "source": [
    "## Hatua ya 1: Ingiza Maktaba Zinazohitajika\n",
    "\n",
    "Hebu tuingize zana tunazohitaji. Usijali ikiwa bado hujaelewa zote!\n"
   ]
  },
  {
   "cell_type": "code",
   "execution_count": null,
   "metadata": {},
   "outputs": [],
   "source": [
    "# Core libraries\n",
    "import numpy as np\n",
    "from PIL import Image\n",
    "import requests\n",
    "from io import BytesIO\n",
    "\n",
    "# TensorFlow for deep learning\n",
    "try:\n",
    "    import tensorflow as tf\n",
    "    from tensorflow.keras.applications import MobileNetV2\n",
    "    from tensorflow.keras.applications.mobilenet_v2 import preprocess_input, decode_predictions\n",
    "    print(\"✅ TensorFlow loaded successfully!\")\n",
    "    print(f\"   Version: {tf.__version__}\")\n",
    "except ImportError:\n",
    "    print(\"❌ Please install TensorFlow: pip install tensorflow\")"
   ]
  },
  {
   "cell_type": "markdown",
   "metadata": {},
   "source": [
    "## Hatua ya 2: Pakia Modeli Iliyojifunza Awali\n",
    "\n",
    "Tutatumia **MobileNetV2**, mtandao wa neva ambao tayari umefunzwa kwa mamilioni ya picha.\n",
    "\n",
    "Hii inaitwa **Transfer Learning** - kutumia modeli ambayo mtu mwingine ameifunza!\n"
   ]
  },
  {
   "cell_type": "code",
   "execution_count": null,
   "metadata": {},
   "outputs": [],
   "source": [
    "print(\"📦 Loading pre-trained MobileNetV2 model...\")\n",
    "print(\"   This may take a minute on first run (downloading weights)...\")\n",
    "\n",
    "# Load the model\n",
    "# include_top=True means we use the classification layer\n",
    "# weights='imagenet' means it was trained on ImageNet dataset\n",
    "model = MobileNetV2(weights='imagenet', include_top=True)\n",
    "\n",
    "print(\"✅ Model loaded!\")\n",
    "print(f\"   The model can recognize 1000 different object categories\")"
   ]
  },
  {
   "cell_type": "markdown",
   "metadata": {},
   "source": [
    "## Hatua ya 3: Kazi za Msaidizi\n",
    "\n",
    "Tujenge kazi za kupakia na kuandaa picha kwa ajili ya modeli yetu.\n"
   ]
  },
  {
   "cell_type": "code",
   "execution_count": null,
   "metadata": {},
   "outputs": [],
   "source": [
    "def load_image_from_url(url):\n",
    "    \"\"\"\n",
    "    Load an image from a URL.\n",
    "    \n",
    "    Args:\n",
    "        url: Web address of the image\n",
    "        \n",
    "    Returns:\n",
    "        PIL Image object\n",
    "    \"\"\"\n",
    "    response = requests.get(url)\n",
    "    img = Image.open(BytesIO(response.content))\n",
    "    return img\n",
    "\n",
    "\n",
    "def prepare_image(img):\n",
    "    \"\"\"\n",
    "    Prepare an image for the model.\n",
    "    \n",
    "    Steps:\n",
    "    1. Resize to 224x224 (model's expected size)\n",
    "    2. Convert to array\n",
    "    3. Add batch dimension\n",
    "    4. Preprocess for MobileNetV2\n",
    "    \n",
    "    Args:\n",
    "        img: PIL Image\n",
    "        \n",
    "    Returns:\n",
    "        Preprocessed image array\n",
    "    \"\"\"\n",
    "    # Resize to 224x224 pixels\n",
    "    img = img.resize((224, 224))\n",
    "    \n",
    "    # Convert to numpy array\n",
    "    img_array = np.array(img)\n",
    "    \n",
    "    # Add batch dimension (model expects multiple images)\n",
    "    img_array = np.expand_dims(img_array, axis=0)\n",
    "    \n",
    "    # Preprocess for MobileNetV2\n",
    "    img_array = preprocess_input(img_array)\n",
    "    \n",
    "    return img_array\n",
    "\n",
    "\n",
    "def classify_image(img):\n",
    "    \"\"\"\n",
    "    Classify an image and return top predictions.\n",
    "    \n",
    "    Args:\n",
    "        img: PIL Image\n",
    "        \n",
    "    Returns:\n",
    "        List of (class_name, confidence) tuples\n",
    "    \"\"\"\n",
    "    # Prepare the image\n",
    "    img_array = prepare_image(img)\n",
    "    \n",
    "    # Make prediction\n",
    "    predictions = model.predict(img_array, verbose=0)\n",
    "    \n",
    "    # Decode predictions to human-readable labels\n",
    "    # top=5 means we get the top 5 most likely classes\n",
    "    decoded = decode_predictions(predictions, top=5)[0]\n",
    "    \n",
    "    # Convert to simpler format\n",
    "    results = [(label, float(confidence)) for (_, label, confidence) in decoded]\n",
    "    \n",
    "    return results\n",
    "\n",
    "\n",
    "print(\"✅ Helper functions ready!\")"
   ]
  },
  {
   "cell_type": "markdown",
   "metadata": {},
   "source": [
    "## Hatua ya 4: Jaribu kwenye Picha za Mfano\n",
    "\n",
    "Hebu tujaribu kuainisha baadhi ya picha kutoka mtandao!\n"
   ]
  },
  {
   "cell_type": "code",
   "execution_count": null,
   "metadata": {},
   "outputs": [],
   "source": [
    "# Sample images to classify\n",
    "# These are from Unsplash (free stock photos)\n",
    "test_images = [\n",
    "    {\n",
    "        \"url\": \"https://images.unsplash.com/photo-1514888286974-6c03e2ca1dba?w=400\",\n",
    "        \"description\": \"A cat\"\n",
    "    },\n",
    "    {\n",
    "        \"url\": \"https://images.unsplash.com/photo-1552053831-71594a27632d?w=400\",\n",
    "        \"description\": \"A dog\"\n",
    "    },\n",
    "    {\n",
    "        \"url\": \"https://images.unsplash.com/photo-1511919884226-fd3cad34687c?w=400\",\n",
    "        \"description\": \"A car\"\n",
    "    },\n",
    "]\n",
    "\n",
    "print(f\"🧪 Testing on {len(test_images)} images...\")\n",
    "print(\"=\" * 70)"
   ]
  },
  {
   "cell_type": "markdown",
   "metadata": {},
   "source": [
    "### Ainisha Kila Picha\n"
   ]
  },
  {
   "cell_type": "code",
   "execution_count": null,
   "metadata": {},
   "outputs": [],
   "source": [
    "for i, img_data in enumerate(test_images, 1):\n",
    "    print(f\"\\n📸 Image {i}: {img_data['description']}\")\n",
    "    print(\"-\" * 70)\n",
    "    \n",
    "    try:\n",
    "        # Load image\n",
    "        img = load_image_from_url(img_data['url'])\n",
    "        \n",
    "        # Display image\n",
    "        display(img.resize((200, 200)))  # Show smaller version\n",
    "        \n",
    "        # Classify\n",
    "        results = classify_image(img)\n",
    "        \n",
    "        # Show predictions\n",
    "        print(\"\\n🎯 Top 5 Predictions:\")\n",
    "        for rank, (label, confidence) in enumerate(results, 1):\n",
    "            # Create a visual bar\n",
    "            bar_length = int(confidence * 50)\n",
    "            bar = \"█\" * bar_length\n",
    "            \n",
    "            print(f\"  {rank}. {label:20s} {confidence*100:5.2f}% {bar}\")\n",
    "        \n",
    "    except Exception as e:\n",
    "        print(f\"❌ Error: {e}\")\n",
    "\n",
    "print(\"\\n\" + \"=\" * 70)"
   ]
  },
  {
   "cell_type": "markdown",
   "metadata": {},
   "source": [
    "## Hatua ya 5: Jaribu Picha Zako Mwenyewe!\n",
    "\n",
    "Badilisha URL hapa chini na URL ya picha yoyote unayotaka kuainisha.\n"
   ]
  },
  {
   "cell_type": "code",
   "execution_count": null,
   "metadata": {},
   "outputs": [],
   "source": [
    "# Try your own image!\n",
    "# Replace this URL with any image URL\n",
    "custom_image_url = \"https://images.unsplash.com/photo-1472491235688-bdc81a63246e?w=400\"  # A flower\n",
    "\n",
    "print(\"🖼️  Classifying your custom image...\")\n",
    "print(\"=\" * 70)\n",
    "\n",
    "try:\n",
    "    # Load and show image\n",
    "    img = load_image_from_url(custom_image_url)\n",
    "    display(img.resize((300, 300)))\n",
    "    \n",
    "    # Classify\n",
    "    results = classify_image(img)\n",
    "    \n",
    "    # Show results\n",
    "    print(\"\\n🎯 Top 5 Predictions:\")\n",
    "    print(\"-\" * 70)\n",
    "    for rank, (label, confidence) in enumerate(results, 1):\n",
    "        bar_length = int(confidence * 50)\n",
    "        bar = \"█\" * bar_length\n",
    "        print(f\"  {rank}. {label:20s} {confidence*100:5.2f}% {bar}\")\n",
    "    \n",
    "    # Highlight top prediction\n",
    "    top_label, top_confidence = results[0]\n",
    "    print(\"\\n\" + \"=\" * 70)\n",
    "    print(f\"\\n🏆 Best guess: {top_label} ({top_confidence*100:.2f}% confident)\")\n",
    "    \n",
    "except Exception as e:\n",
    "    print(f\"❌ Error: {e}\")\n",
    "    print(\"   Make sure the URL points to a valid image!\")"
   ]
  },
  {
   "cell_type": "markdown",
   "metadata": {},
   "source": [
    "## 💡 Nini Kimefanyika?\n",
    "\n",
    "1. **Tumepakia modeli iliyofunzwa awali** - MobileNetV2 ilifundishwa kwa mamilioni ya picha\n",
    "2. **Tumefanyia picha maandalizi** - Tumepunguza ukubwa na kuziandaa kwa ajili ya modeli\n",
    "3. **Modeli imetoa utabiri** - Imetoa uwezekano wa madarasa 1000 ya vitu\n",
    "4. **Tumetafsiri matokeo** - Tumebadilisha namba kuwa majina yanayoeleweka na binadamu\n",
    "\n",
    "### Kuelewa Alama za Uhakika\n",
    "\n",
    "- **90-100%**: Ina uhakika mkubwa (karibu sahihi kabisa)\n",
    "- **70-90%**: Ina uhakika (pengine sahihi)\n",
    "- **50-70%**: Ina uhakika kiasi (huenda sahihi)\n",
    "- **Chini ya 50%**: Haina uhakika sana (haijulikani)\n",
    "\n",
    "### Kwa nini utabiri unaweza kuwa si sahihi?\n",
    "\n",
    "- **Picha kwa pembe au mwanga usio wa kawaida** - Modeli ilifundishwa kwa picha za kawaida\n",
    "- **Vitu vingi kwenye picha** - Modeli inatarajia kitu kimoja kikuu\n",
    "- **Vitu nadra** - Modeli inajua tu madarasa 1000\n",
    "- **Picha zenye ubora wa chini** - Picha zisizo wazi au zenye pikseli nyingi ni ngumu zaidi\n"
   ]
  },
  {
   "cell_type": "markdown",
   "metadata": {},
   "source": [
    "## 🚀 Hatua Zifuatazo\n",
    "\n",
    "1. **Jaribu picha tofauti:**\n",
    "   - Tafuta picha kwenye [Unsplash](https://unsplash.com)\n",
    "   - Bonyeza kulia → \"Nakili anwani ya picha\" kupata URL\n",
    "\n",
    "2. **Jaribu mambo mapya:**\n",
    "   - Nini kinatokea na sanaa ya kufikirika?\n",
    "   - Je, inaweza kutambua vitu kutoka pembe tofauti?\n",
    "   - Inashughulikiaje vitu vingi kwa wakati mmoja?\n",
    "\n",
    "3. **Jifunze zaidi:**\n",
    "   - Chunguza [masomo ya Maono ya Kompyuta](../lessons/4-ComputerVision/README.md)\n",
    "   - Jifunze jinsi ya kufundisha kifaa chako cha kutambua picha\n",
    "   - Elewa jinsi CNNs (Mitandao ya Neva ya Mzunguko) inavyofanya kazi\n",
    "\n",
    "---\n",
    "\n",
    "## 🎉 Hongera!\n",
    "\n",
    "Umejenga kifaa cha kutambua picha kwa kutumia mtandao wa neva wa kisasa!\n",
    "\n",
    "Mbinu hii hiyo inatumika katika:\n",
    "- Google Photos (kuandaa picha zako)\n",
    "- Magari yanayojiendesha (kutambua vitu)\n",
    "- Uchunguzi wa matibabu (kuchambua X-rays)\n",
    "- Udhibiti wa ubora (kugundua kasoro)\n",
    "\n",
    "Endelea kuchunguza na kujifunza! 🚀\n"
   ]
  },
  {
   "cell_type": "markdown",
   "metadata": {},
   "source": [
    "\n---\n\n**Kanusho**:  \nHati hii imetafsiriwa kwa kutumia huduma ya tafsiri ya AI [Co-op Translator](https://github.com/Azure/co-op-translator). Ingawa tunajitahidi kuhakikisha usahihi, tafsiri za kiotomatiki zinaweza kuwa na makosa au kutokuwa sahihi. Hati ya asili katika lugha yake ya awali inapaswa kuchukuliwa kama chanzo cha mamlaka. Kwa taarifa muhimu, tafsiri ya kitaalamu ya binadamu inapendekezwa. Hatutawajibika kwa kutoelewana au tafsiri zisizo sahihi zinazotokana na matumizi ya tafsiri hii.\n"
   ]
  }
 ],
 "metadata": {
  "kernelspec": {
   "display_name": "Python 3",
   "language": "python",
   "name": "python3"
  },
  "language_info": {
   "codemirror_mode": {
    "name": "ipython",
    "version": 3
   },
   "file_extension": ".py",
   "mimetype": "text/x-python",
   "name": "python",
   "nbconvert_exporter": "python",
   "pygments_lexer": "ipython3",
   "version": "3.8.0"
  },
  "coopTranslator": {
   "original_hash": "1d472141d9df46b751542b3c29f88677",
   "translation_date": "2025-10-03T11:51:16+00:00",
   "source_file": "examples/03-image-classifier.ipynb",
   "language_code": "sw"
  }
 },
 "nbformat": 4,
 "nbformat_minor": 4
}