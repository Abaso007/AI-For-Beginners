{
 "cells": [
  {
   "cell_type": "markdown",
   "metadata": {},
   "source": [
    "## Kazi: Mifumo ya Diophantine\n",
    "\n",
    "> Kazi hii ni sehemu ya [Mtaala wa AI kwa Kompyuta](http://github.com/microsoft/ai-for-beginners) na imechochewa na [chapisho hili](https://habr.com/post/128704/).\n",
    "\n",
    "Lengo lako ni kutatua kile kinachoitwa **mifumo ya Diophantine** - mfumo wa hesabu wenye mizizi ya namba kamili na vigezo vya namba kamili. Kwa mfano, fikiria mfumo ufuatao:\n",
    "\n",
    "$$a+2b+3c+4d=30$$\n",
    "\n",
    "Unahitaji kupata mizizi ya namba kamili $a$,$b$,$c$,$d\\in\\mathbb{N}$ inayokidhi mfumo huu.\n",
    "\n",
    "Vidokezo:\n",
    "1. Unaweza kuzingatia mizizi kuwa katika kipengele [0;30]\n",
    "1. Kama jeni, fikiria kutumia orodha ya thamani za mizizi\n"
   ]
  },
  {
   "cell_type": "markdown",
   "metadata": {},
   "source": []
  },
  {
   "cell_type": "markdown",
   "metadata": {},
   "source": [
    "\n---\n\n**Kanusho**:  \nHati hii imetafsiriwa kwa kutumia huduma ya tafsiri ya AI [Co-op Translator](https://github.com/Azure/co-op-translator). Ingawa tunajitahidi kwa usahihi, tafadhali fahamu kuwa tafsiri za kiotomatiki zinaweza kuwa na makosa au kutokuwa sahihi. Hati ya asili katika lugha yake ya awali inapaswa kuzingatiwa kama chanzo cha mamlaka. Kwa taarifa muhimu, inashauriwa kutumia tafsiri ya kitaalamu ya binadamu. Hatutawajibika kwa maelewano mabaya au tafsiri zisizo sahihi zinazotokana na matumizi ya tafsiri hii.\n"
   ]
  }
 ],
 "metadata": {
  "language_info": {
   "name": "python"
  },
  "orig_nbformat": 4,
  "coopTranslator": {
   "original_hash": "a967e1fa1e11ab2b6467b19349a4a9aa",
   "translation_date": "2025-08-29T12:53:28+00:00",
   "source_file": "lessons/6-Other/21-GeneticAlgorithms/Diophantine.ipynb",
   "language_code": "sw"
  }
 },
 "nbformat": 4,
 "nbformat_minor": 2
}