{
 "cells": [
  {
   "cell_type": "markdown",
   "metadata": {},
   "source": [
    "## Kugundua Mwendo wa Kiganja kwa Kutumia Optical Flow\n",
    "\n",
    "Maabara hii ni sehemu ya [Mtaala wa AI kwa Kompyuta](http://aka.ms/ai-beginners).\n",
    "\n",
    "Fikiria [video hii](../../../../../../lessons/4-ComputerVision/06-IntroCV/lab/palm-movement.mp4), ambapo kiganja cha mtu kinatembea kushoto/kulia/juu/chini kwenye mandhari thabiti.\n",
    "\n",
    "**Lengo lako** litakuwa kutumia Optical Flow kubaini ni sehemu zipi za video zinazoonyesha mwendo wa juu/chini/kushoto/kulia.\n",
    "\n",
    "Anza kwa kupata fremu za video kama ilivyoelezwa kwenye somo:\n"
   ]
  },
  {
   "cell_type": "code",
   "execution_count": null,
   "metadata": {},
   "outputs": [],
   "source": [
    "# Code here"
   ]
  },
  {
   "cell_type": "markdown",
   "metadata": {},
   "source": [
    "Sasa, hesabu fremu za mtiririko wa macho mnene kama ilivyoelezwa katika somo, na ubadilishe mtiririko wa macho mnene kuwa kuratibu za polar:\n"
   ]
  },
  {
   "cell_type": "code",
   "execution_count": null,
   "metadata": {},
   "outputs": [],
   "source": [
    "# Code here"
   ]
  },
  {
   "cell_type": "markdown",
   "metadata": {},
   "source": [
    "Jenga histogramu ya mwelekeo kwa kila fremu ya mtiririko wa macho. Histogramu inaonyesha ni veki ngapi zinaangukia kwenye bin fulani, na inapaswa kutenganisha mwelekeo tofauti wa harakati kwenye fremu.\n",
    "\n",
    "> Unaweza pia kuondoa veki zote ambazo ukubwa wake uko chini ya kizingiti fulani. Hii itaondoa harakati ndogo zisizo za lazima kwenye video, kama vile macho na kichwa.\n",
    "\n",
    "Chora histogramu kwa baadhi ya fremu.\n"
   ]
  },
  {
   "cell_type": "code",
   "execution_count": null,
   "metadata": {},
   "outputs": [],
   "source": [
    "# Code here"
   ]
  },
  {
   "cell_type": "markdown",
   "metadata": {},
   "source": [
    "Kuangalia histograms, inapaswa kuwa rahisi kuelewa jinsi ya kuamua mwelekeo wa harakati. Unahitaji kuchagua zile bins zinazolingana na mwelekeo wa juu/chini/kushoto/kulia, na ambazo ziko juu ya kizingiti fulani.\n"
   ]
  },
  {
   "cell_type": "code",
   "execution_count": null,
   "metadata": {},
   "outputs": [],
   "source": [
    "# Code here"
   ]
  },
  {
   "cell_type": "markdown",
   "metadata": {},
   "source": [
    "Hongera! Ikiwa umefanya hatua zote hapo juu, umekamilisha maabara!\n"
   ]
  },
  {
   "cell_type": "markdown",
   "metadata": {},
   "source": [
    "\n---\n\n**Kanusho**:  \nHati hii imetafsiriwa kwa kutumia huduma ya tafsiri ya AI [Co-op Translator](https://github.com/Azure/co-op-translator). Ingawa tunajitahidi kuhakikisha usahihi, tafadhali fahamu kuwa tafsiri za kiotomatiki zinaweza kuwa na makosa au kutokuwa sahihi. Hati ya asili katika lugha yake ya awali inapaswa kuzingatiwa kama chanzo cha mamlaka. Kwa taarifa muhimu, tafsiri ya kitaalamu ya binadamu inapendekezwa. Hatutawajibika kwa kutoelewana au tafsiri zisizo sahihi zinazotokana na matumizi ya tafsiri hii.\n"
   ]
  }
 ],
 "metadata": {
  "language_info": {
   "name": "python"
  },
  "orig_nbformat": 4,
  "coopTranslator": {
   "original_hash": "153d9e417e079bf62f8f693002d0deaf",
   "translation_date": "2025-08-29T14:01:29+00:00",
   "source_file": "lessons/4-ComputerVision/06-IntroCV/lab/MovementDetection.ipynb",
   "language_code": "sw"
  }
 },
 "nbformat": 4,
 "nbformat_minor": 2
}