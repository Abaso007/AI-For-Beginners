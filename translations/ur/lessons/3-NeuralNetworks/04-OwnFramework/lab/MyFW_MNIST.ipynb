{
 "cells": [
  {
   "cell_type": "markdown",
   "metadata": {},
   "source": [
    "# MNIST ہندسوں کی درجہ بندی اپنے فریم ورک کے ساتھ\n",
    "\n",
    "[AI for Beginners Curriculum](https://github.com/microsoft/ai-for-beginners) سے لیب اسائنمنٹ۔\n",
    "\n",
    "### ڈیٹاسیٹ پڑھنا\n",
    "\n",
    "یہ کوڈ انٹرنیٹ پر موجود ریپوزٹری سے ڈیٹاسیٹ ڈاؤنلوڈ کرتا ہے۔ آپ دستی طور پر بھی AI Curriculum ریپو کی `/data` ڈائریکٹری سے ڈیٹاسیٹ کاپی کر سکتے ہیں۔\n"
   ]
  },
  {
   "cell_type": "code",
   "execution_count": 4,
   "metadata": {
    "tags": []
   },
   "outputs": [
    {
     "name": "stderr",
     "output_type": "stream",
     "text": [
      "  % Total    % Received % Xferd  Average Speed   Time    Time     Time  Current\n",
      "                                 Dload  Upload   Total   Spent    Left  Speed\n",
      "\n",
      "  0     0    0     0    0     0      0      0 --:--:-- --:--:-- --:--:--     0\n",
      "100  9.9M  100  9.9M    0     0   9.9M      0  0:00:01 --:--:--  0:00:01 15.8M\n"
     ]
    }
   ],
   "source": [
    "!rm *.pkl\n",
    "!wget https://raw.githubusercontent.com/microsoft/AI-For-Beginners/main/data/mnist.pkl.gz\n",
    "!gzip -d mnist.pkl.gz"
   ]
  },
  {
   "cell_type": "code",
   "execution_count": 3,
   "metadata": {},
   "outputs": [],
   "source": [
    "import pickle\n",
    "with open('mnist.pkl','rb') as f:\n",
    "    MNIST = pickle.load(f)"
   ]
  },
  {
   "cell_type": "code",
   "execution_count": 4,
   "metadata": {},
   "outputs": [],
   "source": [
    "labels = MNIST['Train']['Labels']\n",
    "data = MNIST['Train']['Features']"
   ]
  },
  {
   "cell_type": "markdown",
   "metadata": {},
   "source": [
    "آئیے دیکھتے ہیں کہ ہمارے پاس موجود ڈیٹا کی شکل کیا ہے:\n"
   ]
  },
  {
   "cell_type": "code",
   "execution_count": 5,
   "metadata": {},
   "outputs": [
    {
     "data": {
      "text/plain": [
       "(42000, 784)"
      ]
     },
     "execution_count": 5,
     "metadata": {},
     "output_type": "execute_result"
    }
   ],
   "source": [
    "data.shape"
   ]
  },
  {
   "cell_type": "markdown",
   "metadata": {},
   "source": [
    "### ڈیٹا کو تقسیم کرنا\n",
    "\n",
    "ہم Scikit Learn کا استعمال کریں گے تاکہ ڈیٹا کو تربیتی اور ٹیسٹ ڈیٹاسیٹ میں تقسیم کیا جا سکے:\n"
   ]
  },
  {
   "cell_type": "code",
   "execution_count": 6,
   "metadata": {},
   "outputs": [
    {
     "name": "stdout",
     "output_type": "stream",
     "text": [
      "Train samples: 33600, test samples: 8400\n"
     ]
    }
   ],
   "source": [
    "from sklearn.model_selection import train_test_split\n",
    "\n",
    "features_train, features_test, labels_train, labels_test = train_test_split(data,labels,test_size=0.2)\n",
    "\n",
    "print(f\"Train samples: {len(features_train)}, test samples: {len(features_test)}\")"
   ]
  },
  {
   "cell_type": "markdown",
   "metadata": {},
   "source": [
    "### ہدایات\n",
    "\n",
    "1. سبق سے فریم ورک کوڈ لیں اور اسے اس نوٹ بک میں پیسٹ کریں، یا (اور بہتر) اسے ایک الگ Python ماڈیول میں رکھیں۔\n",
    "1. ایک لیئر والے perceptron کو ڈیفائن کریں اور ٹرین کریں، ٹریننگ اور ویلیڈیشن کی درستگی کو ٹریننگ کے دوران دیکھیں۔\n",
    "1. سمجھنے کی کوشش کریں کہ آیا overfitting ہوا ہے، اور لیئر کے پیرامیٹرز کو درستگی بہتر کرنے کے لیے ایڈجسٹ کریں۔\n",
    "1. پچھلے مراحل کو 2- اور 3-لیئر والے perceptrons کے لیے دہرائیں۔ مختلف لیئرز کے درمیان activation functions کے ساتھ تجربہ کرنے کی کوشش کریں۔\n",
    "1. درج ذیل سوالات کے جواب دینے کی کوشش کریں:\n",
    "    - کیا inter-layer activation function نیٹ ورک کی کارکردگی پر اثر ڈالتی ہے؟\n",
    "    - کیا اس کام کے لیے ہمیں 2- یا 3-لیئر والے نیٹ ورک کی ضرورت ہے؟\n",
    "    - کیا آپ کو نیٹ ورک کو ٹرین کرنے میں کوئی مسئلہ پیش آیا؟ خاص طور پر جب لیئرز کی تعداد بڑھ گئی۔\n",
    "    - ٹریننگ کے دوران نیٹ ورک کے weights کیسے برتاؤ کرتے ہیں؟ آپ epoch کے مقابلے میں weights کی زیادہ سے زیادہ abs ویلیو کو پلاٹ کر کے تعلق کو سمجھ سکتے ہیں۔\n"
   ]
  },
  {
   "cell_type": "code",
   "execution_count": null,
   "metadata": {},
   "outputs": [],
   "source": []
  },
  {
   "cell_type": "markdown",
   "metadata": {},
   "source": [
    "\n---\n\n**ڈسکلیمر**:  \nیہ دستاویز AI ترجمہ سروس [Co-op Translator](https://github.com/Azure/co-op-translator) کا استعمال کرتے ہوئے ترجمہ کی گئی ہے۔ ہم درستگی کے لیے کوشش کرتے ہیں، لیکن براہ کرم آگاہ رہیں کہ خودکار ترجمے میں غلطیاں یا غیر درستیاں ہو سکتی ہیں۔ اصل دستاویز کو اس کی اصل زبان میں مستند ذریعہ سمجھا جانا چاہیے۔ اہم معلومات کے لیے، پیشہ ور انسانی ترجمہ کی سفارش کی جاتی ہے۔ ہم اس ترجمے کے استعمال سے پیدا ہونے والی کسی بھی غلط فہمی یا غلط تشریح کے ذمہ دار نہیں ہیں۔\n"
   ]
  }
 ],
 "metadata": {
  "kernelspec": {
   "display_name": "Python 3.7.4 64-bit (conda)",
   "metadata": {
    "interpreter": {
     "hash": "86193a1ab0ba47eac1c69c1756090baa3b420b3eea7d4aafab8b85f8b312f0c5"
    }
   },
   "name": "python3"
  },
  "language_info": {
   "codemirror_mode": {
    "name": "ipython",
    "version": 3
   },
   "file_extension": ".py",
   "mimetype": "text/x-python",
   "name": "python",
   "nbconvert_exporter": "python",
   "pygments_lexer": "ipython3",
   "version": "3.9.5"
  },
  "orig_nbformat": 2,
  "coopTranslator": {
   "original_hash": "6fa055f484eb5d6bdf41166a356d3abf",
   "translation_date": "2025-08-28T03:45:45+00:00",
   "source_file": "lessons/3-NeuralNetworks/04-OwnFramework/lab/MyFW_MNIST.ipynb",
   "language_code": "ur"
  }
 },
 "nbformat": 4,
 "nbformat_minor": 2
}