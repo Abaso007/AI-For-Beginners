{
 "cells": [
  {
   "cell_type": "markdown",
   "metadata": {
    "collapsed": true
   },
   "source": [
    "# جانوروں کے ماہر نظام کا نفاذ\n",
    "\n",
    "[AI for Beginners Curriculum](http://github.com/microsoft/ai-for-beginners) سے ایک مثال۔\n",
    "\n",
    "اس نمونے میں، ہم ایک سادہ علم پر مبنی نظام نافذ کریں گے جو کچھ جسمانی خصوصیات کی بنیاد پر جانور کا تعین کرے گا۔ اس نظام کو درج ذیل AND-OR درخت کے ذریعے ظاہر کیا جا سکتا ہے (یہ پورے درخت کا ایک حصہ ہے، ہم آسانی سے مزید قواعد شامل کر سکتے ہیں):\n",
    "\n",
    "![](../../../../translated_images/AND-OR-Tree.5592d2c70187f283703c8e9c0d69d6a786eb370f4ace67f9a7aae5ada3d260b0.ur.png)\n"
   ]
  },
  {
   "cell_type": "markdown",
   "metadata": {},
   "source": [
    "## ہمارا اپنا ماہر نظام شیل بیکورڈ انفرنس کے ساتھ\n",
    "\n",
    "آئیے پیداوار کے اصولوں پر مبنی علم کی نمائندگی کے لیے ایک سادہ زبان کی تعریف کرنے کی کوشش کریں۔ ہم قواعد کی تعریف کے لیے Python کلاسز کو بطور کلیدی الفاظ استعمال کریں گے۔ بنیادی طور پر تین قسم کی کلاسز ہوں گی:\n",
    "* `Ask` ایک سوال کی نمائندگی کرتا ہے جو صارف سے پوچھا جانا ضروری ہے۔ اس میں ممکنہ جوابات کا سیٹ شامل ہوتا ہے۔\n",
    "* `If` ایک اصول کی نمائندگی کرتا ہے، اور یہ صرف اصول کے مواد کو ذخیرہ کرنے کے لیے ایک نحوی سہولت ہے۔\n",
    "* `AND`/`OR` درخت کی AND/OR شاخوں کی نمائندگی کرنے کے لیے کلاسز ہیں۔ یہ صرف دلائل کی فہرست کو اندر ذخیرہ کرتے ہیں۔ کوڈ کو آسان بنانے کے لیے، تمام فعالیت والدین کلاس `Content` میں بیان کی گئی ہے۔\n"
   ]
  },
  {
   "cell_type": "code",
   "execution_count": 1,
   "metadata": {
    "trusted": true
   },
   "outputs": [],
   "source": [
    "class Ask():\n",
    "    def __init__(self,choices=['y','n']):\n",
    "        self.choices = choices\n",
    "    def ask(self):\n",
    "        if max([len(x) for x in self.choices])>1:\n",
    "            for i,x in enumerate(self.choices):\n",
    "                print(\"{0}. {1}\".format(i,x),flush=True)\n",
    "            x = int(input())\n",
    "            return self.choices[x]\n",
    "        else:\n",
    "            print(\"/\".join(self.choices),flush=True)\n",
    "            return input()\n",
    "\n",
    "class Content():\n",
    "    def __init__(self,x):\n",
    "        self.x=x\n",
    "        \n",
    "class If(Content):\n",
    "    pass\n",
    "\n",
    "class AND(Content):\n",
    "    pass\n",
    "\n",
    "class OR(Content):\n",
    "    pass"
   ]
  },
  {
   "cell_type": "markdown",
   "metadata": {},
   "source": [
    "ہمارے نظام میں، کام کرنے والی میموری میں **حقائق** کی فہرست **صفات-قدر جوڑوں** کے طور پر شامل ہوگی۔ علم کا ذخیرہ ایک بڑا لغت کے طور پر بیان کیا جا سکتا ہے جو اعمال (نئے حقائق جو کام کرنے والی میموری میں شامل کیے جانے چاہئیں) کو شرائط کے ساتھ نقشہ کرتا ہے، جو AND-OR اظہارات کے طور پر ظاہر کیے جاتے ہیں۔ نیز، کچھ حقائق کو `پوچھا` جا سکتا ہے۔\n"
   ]
  },
  {
   "cell_type": "code",
   "execution_count": 2,
   "metadata": {
    "trusted": true
   },
   "outputs": [],
   "source": [
    "rules = {\n",
    "    'default': Ask(['y','n']),\n",
    "    'color' : Ask(['red-brown','black and white','other']),\n",
    "    'pattern' : Ask(['dark stripes','dark spots']),\n",
    "    'mammal': If(OR(['hair','gives milk'])),\n",
    "    'carnivor': If(OR([AND(['sharp teeth','claws','forward-looking eyes']),'eats meat'])),\n",
    "    'ungulate': If(['mammal',OR(['has hooves','chews cud'])]),\n",
    "    'bird': If(OR(['feathers',AND(['flies','lies eggs'])])),\n",
    "    'animal:monkey' : If(['mammal','carnivor','color:red-brown','pattern:dark spots']),\n",
    "    'animal:tiger' : If(['mammal','carnivor','color:red-brown','pattern:dark stripes']),\n",
    "    'animal:giraffe' : If(['ungulate','long neck','long legs','pattern:dark spots']),\n",
    "    'animal:zebra' : If(['ungulate','pattern:dark stripes']),\n",
    "    'animal:ostrich' : If(['bird','long nech','color:black and white','cannot fly']),\n",
    "    'animal:pinguin' : If(['bird','swims','color:black and white','cannot fly']),\n",
    "    'animal:albatross' : If(['bird','flies well'])\n",
    "}"
   ]
  },
  {
   "cell_type": "markdown",
   "metadata": {},
   "source": [
    "پچھلی استدلالی عمل کو انجام دینے کے لیے، ہم `Knowledgebase` کلاس کو ڈیفائن کریں گے۔ یہ درج ذیل پر مشتمل ہوگی:\n",
    "* کام کرنے والی `memory` - ایک ڈکشنری جو خصوصیات کو ان کی قدروں کے ساتھ جوڑتی ہے\n",
    "* Knowledgebase کے `rules` - اوپر بیان کردہ فارمیٹ میں\n",
    "\n",
    "دو اہم طریقے یہ ہیں:\n",
    "* `get` کسی خصوصیت کی قدر حاصل کرنے کے لیے، اگر ضروری ہو تو استدلالی عمل انجام دے گا۔ مثال کے طور پر، `get('color')` رنگ کے سلاٹ کی قدر حاصل کرے گا (یہ اگر ضروری ہو تو پوچھے گا، اور بعد میں استعمال کے لیے کام کرنے والی میموری میں قدر محفوظ کرے گا)۔ اگر ہم `get('color:blue')` پوچھیں، تو یہ رنگ کے بارے میں پوچھے گا، اور پھر رنگ کے مطابق `y`/`n` قدر واپس کرے گا۔\n",
    "* `eval` اصل استدلالی عمل انجام دیتا ہے، یعنی AND/OR درخت کو عبور کرتا ہے، ذیلی مقاصد کا جائزہ لیتا ہے، وغیرہ۔\n"
   ]
  },
  {
   "cell_type": "code",
   "execution_count": 3,
   "metadata": {
    "trusted": true
   },
   "outputs": [],
   "source": [
    "class KnowledgeBase():\n",
    "    def __init__(self,rules):\n",
    "        self.rules = rules\n",
    "        self.memory = {}\n",
    "        \n",
    "    def get(self,name):\n",
    "        if ':' in name:\n",
    "            k,v = name.split(':')\n",
    "            vv = self.get(k)\n",
    "            return 'y' if v==vv else 'n'\n",
    "        if name in self.memory.keys():\n",
    "            return self.memory[name]\n",
    "        for fld in self.rules.keys():\n",
    "            if fld==name or fld.startswith(name+\":\"):\n",
    "                # print(\" + proving {}\".format(fld))\n",
    "                value = 'y' if fld==name else fld.split(':')[1]\n",
    "                res = self.eval(self.rules[fld],field=name)\n",
    "                if res!='y' and res!='n' and value=='y':\n",
    "                    self.memory[name] = res\n",
    "                    return res\n",
    "                if res=='y':\n",
    "                    self.memory[name] = value\n",
    "                    return value\n",
    "        # field is not found, using default\n",
    "        res = self.eval(self.rules['default'],field=name)\n",
    "        self.memory[name]=res\n",
    "        return res\n",
    "                \n",
    "    def eval(self,expr,field=None):\n",
    "        # print(\" + eval {}\".format(expr))\n",
    "        if isinstance(expr,Ask):\n",
    "            print(field)\n",
    "            return expr.ask()\n",
    "        elif isinstance(expr,If):\n",
    "            return self.eval(expr.x)\n",
    "        elif isinstance(expr,AND) or isinstance(expr,list):\n",
    "            expr = expr.x if isinstance(expr,AND) else expr\n",
    "            for x in expr:\n",
    "                if self.eval(x)=='n':\n",
    "                    return 'n'\n",
    "            return 'y'\n",
    "        elif isinstance(expr,OR):\n",
    "            for x in expr.x:\n",
    "                if self.eval(x)=='y':\n",
    "                    return 'y'\n",
    "            return 'n'\n",
    "        elif isinstance(expr,str):\n",
    "            return self.get(expr)\n",
    "        else:\n",
    "            print(\"Unknown expr: {}\".format(expr))"
   ]
  },
  {
   "cell_type": "markdown",
   "metadata": {},
   "source": [
    "اب آئیے ہم اپنے جانوروں کے علم کے ذخیرے کو متعین کریں اور مشاورت انجام دیں۔ نوٹ کریں کہ یہ کال آپ سے سوالات پوچھے گی۔ آپ `y`/`n` کے ذریعے ہاں-نہیں کے سوالات کے جواب دے سکتے ہیں، یا طویل متعدد انتخابی جوابات والے سوالات کے لیے نمبر (0..N) بتا سکتے ہیں۔\n"
   ]
  },
  {
   "cell_type": "code",
   "execution_count": 4,
   "metadata": {
    "trusted": true
   },
   "outputs": [
    {
     "name": "stdout",
     "output_type": "stream",
     "text": [
      "hair\n",
      "y/n\n",
      "sharp teeth\n",
      "y/n\n",
      "claws\n",
      "y/n\n",
      "forward-looking eyes\n",
      "y/n\n",
      "color\n",
      "0. red-brown\n",
      "1. black and white\n",
      "2. other\n",
      "has hooves\n",
      "y/n\n",
      "long neck\n",
      "y/n\n",
      "long legs\n",
      "y/n\n",
      "pattern\n",
      "0. dark stripes\n",
      "1. dark spots\n"
     ]
    },
    {
     "data": {
      "text/plain": [
       "'giraffe'"
      ]
     },
     "execution_count": 4,
     "metadata": {},
     "output_type": "execute_result"
    }
   ],
   "source": [
    "kb = KnowledgeBase(rules)\n",
    "kb.get('animal')"
   ]
  },
  {
   "cell_type": "markdown",
   "metadata": {},
   "source": [
    "## PyKnow کا استعمال کرتے ہوئے فارورڈ انفرنس\n",
    "\n",
    "اگلی مثال میں، ہم علم کی نمائندگی کے لیے ایک لائبریری [PyKnow](https://github.com/buguroo/pyknow/) کا استعمال کرتے ہوئے فارورڈ انفرنس کو نافذ کرنے کی کوشش کریں گے۔ **PyKnow** ایک لائبریری ہے جو Python میں فارورڈ انفرنس سسٹمز بنانے کے لیے استعمال ہوتی ہے، اور یہ کلاسیکی پرانے سسٹم [CLIPS](http://www.clipsrules.net/index.html) سے مشابہت رکھنے کے لیے ڈیزائن کی گئی ہے۔\n",
    "\n",
    "ہم خود بھی فارورڈ چیننگ کو بغیر کسی بڑی مشکل کے نافذ کر سکتے تھے، لیکن سادہ طریقے عام طور پر زیادہ مؤثر نہیں ہوتے۔ زیادہ مؤثر اصولوں کے ملاپ کے لیے ایک خاص الگورتھم [Rete](https://en.wikipedia.org/wiki/Rete_algorithm) استعمال کیا جاتا ہے۔\n"
   ]
  },
  {
   "cell_type": "code",
   "execution_count": 5,
   "metadata": {
    "trusted": true
   },
   "outputs": [
    {
     "name": "stdout",
     "output_type": "stream",
     "text": [
      "Collecting git+https://github.com/buguroo/pyknow/\n",
      "  Cloning https://github.com/buguroo/pyknow/ to /tmp/pip-req-build-3cqeulyl\n",
      "  Running command git clone --filter=blob:none --quiet https://github.com/buguroo/pyknow/ /tmp/pip-req-build-3cqeulyl\n",
      "  Resolved https://github.com/buguroo/pyknow/ to commit 48818336f2e9a126f1964f2d8dc22d37ff800fe8\n",
      "  Preparing metadata (setup.py) ... \u001b[?25ldone\n",
      "\u001b[?25hCollecting frozendict==1.2\n",
      "  Using cached frozendict-1.2.tar.gz (2.6 kB)\n",
      "  Preparing metadata (setup.py) ... \u001b[?25ldone\n",
      "\u001b[?25hCollecting schema==0.6.7\n",
      "  Using cached schema-0.6.7-py2.py3-none-any.whl (14 kB)\n",
      "Building wheels for collected packages: pyknow, frozendict\n",
      "  Building wheel for pyknow (setup.py) ... \u001b[?25ldone\n",
      "\u001b[?25h  Created wheel for pyknow: filename=pyknow-1.7.0-py3-none-any.whl size=34228 sha256=b7de5b09292c4007667c72f69b98d5a1b5f7324ff15f9dd8e077c3d5f7aade42\n",
      "  Stored in directory: /tmp/pip-ephem-wheel-cache-k7jpave7/wheels/81/1a/d3/f6c15dbe1955598a37755215f2a10449e7418500d7bd4b9508\n",
      "  Building wheel for frozendict (setup.py) ... \u001b[?25ldone\n",
      "\u001b[?25h  Created wheel for frozendict: filename=frozendict-1.2-py3-none-any.whl size=3148 sha256=2863d55c240d2409cddf05ccfe600591f8478681549fc97555c47c90dc6bb160\n",
      "  Stored in directory: /home/rg/.cache/pip/wheels/49/ac/f8/cb8120244e710bdb479c86198b03c7b08c3c2d3d2bf448fd6e\n",
      "Successfully built pyknow frozendict\n",
      "Installing collected packages: schema, frozendict, pyknow\n",
      "Successfully installed frozendict-1.2 pyknow-1.7.0 schema-0.6.7\n"
     ]
    }
   ],
   "source": [
    "import sys\n",
    "!{sys.executable} -m pip install git+https://github.com/buguroo/pyknow/"
   ]
  },
  {
   "cell_type": "code",
   "execution_count": 13,
   "metadata": {
    "trusted": true
   },
   "outputs": [],
   "source": [
    "from pyknow import *\n",
    "#import pyknow"
   ]
  },
  {
   "cell_type": "markdown",
   "metadata": {},
   "source": [
    "ہم اپنے نظام کو ایک کلاس کے طور پر تعریف کریں گے جو `KnowledgeEngine` کو سب کلاس کرے گی۔ ہر اصول کو ایک الگ فنکشن کے ذریعے تعریف کیا جاتا ہے جس میں `@Rule` تشریح ہوتی ہے، جو یہ بتاتی ہے کہ اصول کب فعال ہونا چاہیے۔ اصول کے اندر، ہم `declare` فنکشن کا استعمال کرتے ہوئے نئے حقائق شامل کر سکتے ہیں، اور ان حقائق کو شامل کرنے سے مزید اصولوں کو فارورڈ انفرنس انجن کے ذریعے فعال کیا جائے گا۔\n"
   ]
  },
  {
   "cell_type": "code",
   "execution_count": 14,
   "metadata": {
    "trusted": true
   },
   "outputs": [],
   "source": [
    "class Animals(KnowledgeEngine):\n",
    "    @Rule(OR(\n",
    "           AND(Fact('sharp teeth'),Fact('claws'),Fact('forward looking eyes')),\n",
    "           Fact('eats meat')))\n",
    "    def cornivor(self):\n",
    "        self.declare(Fact('carnivor'))\n",
    "        \n",
    "    @Rule(OR(Fact('hair'),Fact('gives milk')))\n",
    "    def mammal(self):\n",
    "        self.declare(Fact('mammal'))\n",
    "\n",
    "    @Rule(Fact('mammal'),\n",
    "          OR(Fact('has hooves'),Fact('chews cud')))\n",
    "    def hooves(self):\n",
    "        self.declare('ungulate')\n",
    "        \n",
    "    @Rule(OR(Fact('feathers'),AND(Fact('flies'),Fact('lays eggs'))))\n",
    "    def bird(self):\n",
    "        self.declare('bird')\n",
    "        \n",
    "    @Rule(Fact('mammal'),Fact('carnivor'),\n",
    "          Fact(color='red-brown'),\n",
    "          Fact(pattern='dark spots'))\n",
    "    def monkey(self):\n",
    "        self.declare(Fact(animal='monkey'))\n",
    "\n",
    "    @Rule(Fact('mammal'),Fact('carnivor'),\n",
    "          Fact(color='red-brown'),\n",
    "          Fact(pattern='dark stripes'))\n",
    "    def tiger(self):\n",
    "        self.declare(Fact(animal='tiger'))\n",
    "\n",
    "    @Rule(Fact('ungulate'),\n",
    "          Fact('long neck'),\n",
    "          Fact('long legs'),\n",
    "          Fact(pattern='dark spots'))\n",
    "    def giraffe(self):\n",
    "        self.declare(Fact(animal='giraffe'))\n",
    "\n",
    "    @Rule(Fact('ungulate'),\n",
    "          Fact(pattern='dark stripes'))\n",
    "    def zebra(self):\n",
    "        self.declare(Fact(animal='zebra'))\n",
    "\n",
    "    @Rule(Fact('bird'),\n",
    "          Fact('long neck'),\n",
    "          Fact('cannot fly'),\n",
    "          Fact(color='black and white'))\n",
    "    def straus(self):\n",
    "        self.declare(Fact(animal='ostrich'))\n",
    "\n",
    "    @Rule(Fact('bird'),\n",
    "          Fact('swims'),\n",
    "          Fact('cannot fly'),\n",
    "          Fact(color='black and white'))\n",
    "    def pinguin(self):\n",
    "        self.declare(Fact(animal='pinguin'))\n",
    "\n",
    "    @Rule(Fact('bird'),\n",
    "          Fact('flies well'))\n",
    "    def albatros(self):\n",
    "        self.declare(Fact(animal='albatross'))\n",
    "        \n",
    "    @Rule(Fact(animal=MATCH.a))\n",
    "    def print_result(self,a):\n",
    "          print('Animal is {}'.format(a))\n",
    "                    \n",
    "    def factz(self,l):\n",
    "        for x in l:\n",
    "            self.declare(x)"
   ]
  },
  {
   "cell_type": "markdown",
   "metadata": {},
   "source": [
    "ایک بار جب ہم نے نالج بیس کی تعریف کر لی، تو ہم اپنی ورکنگ میموری کو کچھ ابتدائی حقائق کے ساتھ بھر دیتے ہیں، اور پھر `run()` میتھڈ کو کال کرتے ہیں تاکہ استنتاج انجام دیا جا سکے۔ آپ نتیجے کے طور پر دیکھ سکتے ہیں کہ نئے استنتاج شدہ حقائق ورکنگ میموری میں شامل کیے جاتے ہیں، بشمول جانور کے بارے میں آخری حقیقت (اگر ہم نے تمام ابتدائی حقائق کو درست طریقے سے ترتیب دیا ہو)۔\n"
   ]
  },
  {
   "cell_type": "code",
   "execution_count": 15,
   "metadata": {
    "trusted": true
   },
   "outputs": [
    {
     "name": "stdout",
     "output_type": "stream",
     "text": [
      "Animal is tiger\n"
     ]
    },
    {
     "data": {
      "text/plain": [
       "FactList([(0, InitialFact()),\n",
       "          (1, Fact(color='red-brown')),\n",
       "          (2, Fact(pattern='dark stripes')),\n",
       "          (3, Fact('sharp teeth')),\n",
       "          (4, Fact('claws')),\n",
       "          (5, Fact('forward looking eyes')),\n",
       "          (6, Fact('gives milk')),\n",
       "          (7, Fact('mammal')),\n",
       "          (8, Fact('carnivor')),\n",
       "          (9, Fact(animal='tiger'))])"
      ]
     },
     "execution_count": 15,
     "metadata": {},
     "output_type": "execute_result"
    }
   ],
   "source": [
    "ex1 = Animals()\n",
    "ex1.reset()\n",
    "ex1.factz([\n",
    "    Fact(color='red-brown'),\n",
    "    Fact(pattern='dark stripes'),\n",
    "    Fact('sharp teeth'),\n",
    "    Fact('claws'),\n",
    "    Fact('forward looking eyes'),\n",
    "    Fact('gives milk')])\n",
    "ex1.run()\n",
    "ex1.facts"
   ]
  },
  {
   "cell_type": "code",
   "execution_count": null,
   "metadata": {},
   "outputs": [],
   "source": []
  },
  {
   "cell_type": "markdown",
   "metadata": {},
   "source": [
    "\n---\n\n**ڈسکلیمر**:  \nیہ دستاویز AI ترجمہ سروس [Co-op Translator](https://github.com/Azure/co-op-translator) کا استعمال کرتے ہوئے ترجمہ کی گئی ہے۔ ہم درستگی کے لیے کوشش کرتے ہیں، لیکن براہ کرم آگاہ رہیں کہ خودکار ترجمے میں غلطیاں یا غیر درستیاں ہو سکتی ہیں۔ اصل دستاویز کو اس کی اصل زبان میں مستند ذریعہ سمجھا جانا چاہیے۔ اہم معلومات کے لیے، پیشہ ور انسانی ترجمہ کی سفارش کی جاتی ہے۔ ہم اس ترجمے کے استعمال سے پیدا ہونے والی کسی بھی غلط فہمی یا غلط تشریح کے ذمہ دار نہیں ہیں۔\n"
   ]
  }
 ],
 "metadata": {
  "kernelspec": {
   "display_name": "Python 3.7.4 64-bit (conda)",
   "metadata": {
    "interpreter": {
     "hash": "86193a1ab0ba47eac1c69c1756090baa3b420b3eea7d4aafab8b85f8b312f0c5"
    }
   },
   "name": "python3"
  },
  "language_info": {
   "codemirror_mode": {
    "name": "ipython",
    "version": 3
   },
   "file_extension": ".py",
   "mimetype": "text/x-python",
   "name": "python",
   "nbconvert_exporter": "python",
   "pygments_lexer": "ipython3",
   "version": "3.11.2"
  },
  "coopTranslator": {
   "original_hash": "ab2bd97b0453415b89a469284609a8ce",
   "translation_date": "2025-08-28T03:39:57+00:00",
   "source_file": "lessons/2-Symbolic/Animals.ipynb",
   "language_code": "ur"
  }
 },
 "nbformat": 4,
 "nbformat_minor": 2
}