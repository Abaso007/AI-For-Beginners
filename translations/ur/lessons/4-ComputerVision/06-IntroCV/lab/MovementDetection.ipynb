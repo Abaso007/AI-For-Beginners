{
 "cells": [
  {
   "cell_type": "markdown",
   "metadata": {},
   "source": [
    "## آپٹیکل فلو کے ذریعے ہتھیلی کی حرکت کا پتہ لگانا\n",
    "\n",
    "یہ لیب [AI for Beginners Curriculum](http://aka.ms/ai-beginners) کا حصہ ہے۔\n",
    "\n",
    "[اس ویڈیو](../../../../../../lessons/4-ComputerVision/06-IntroCV/lab/palm-movement.mp4) پر غور کریں، جس میں ایک شخص کی ہتھیلی مستحکم پس منظر پر بائیں/دائیں/اوپر/نیچے حرکت کرتی ہے۔\n",
    "\n",
    "**آپ کا مقصد** آپٹیکل فلو کا استعمال کرتے ہوئے یہ معلوم کرنا ہوگا کہ ویڈیو کے کون سے حصے اوپر/نیچے/بائیں/دائیں حرکت پر مشتمل ہیں۔\n",
    "\n",
    "لیکچر میں بیان کردہ طریقے کے مطابق ویڈیو فریمز حاصل کرنے سے شروع کریں:\n"
   ]
  },
  {
   "cell_type": "code",
   "execution_count": null,
   "metadata": {},
   "outputs": [],
   "source": [
    "# Code here"
   ]
  },
  {
   "cell_type": "markdown",
   "metadata": {},
   "source": [
    "اب، لیکچر میں بیان کردہ طریقے کے مطابق گھنے آپٹیکل فلو فریمز کا حساب لگائیں، اور گھنے آپٹیکل فلو کو پولر کوآرڈینیٹس میں تبدیل کریں:\n"
   ]
  },
  {
   "cell_type": "code",
   "execution_count": null,
   "metadata": {},
   "outputs": [],
   "source": [
    "# Code here"
   ]
  },
  {
   "cell_type": "markdown",
   "metadata": {},
   "source": [
    "ہر آپٹیکل فلو فریم کے لیے سمتوں کا ہسٹوگرام بنائیں۔ ہسٹوگرام یہ ظاہر کرتا ہے کہ کتنے ویکٹرز مخصوص بن کے تحت آتے ہیں، اور یہ فریم پر مختلف حرکتوں کی سمتوں کو الگ کر دینا چاہیے۔\n",
    "\n",
    "> آپ ان تمام ویکٹرز کو بھی صفر کر سکتے ہیں جن کی شدت ایک مخصوص حد سے کم ہو۔ اس سے ویڈیو میں چھوٹی اضافی حرکتیں، جیسے آنکھوں اور سر کی حرکت، ختم ہو جائیں گی۔\n",
    "\n",
    "کچھ فریمز کے لیے ہسٹوگرامز بنائیں۔\n"
   ]
  },
  {
   "cell_type": "code",
   "execution_count": null,
   "metadata": {},
   "outputs": [],
   "source": [
    "# Code here"
   ]
  },
  {
   "cell_type": "markdown",
   "metadata": {},
   "source": [
    "ہسٹگرامز کو دیکھتے ہوئے، یہ کافی سیدھا ہونا چاہئے کہ حرکت کی سمت کا تعین کیسے کیا جائے۔ آپ کو ان بنز کو منتخب کرنا ہوگا جو اوپر/نیچے/بائیں/دائیں سمتوں سے مطابقت رکھتے ہیں، اور جو ایک خاص حد سے اوپر ہیں۔\n"
   ]
  },
  {
   "cell_type": "code",
   "execution_count": null,
   "metadata": {},
   "outputs": [],
   "source": [
    "# Code here"
   ]
  },
  {
   "cell_type": "markdown",
   "metadata": {},
   "source": [
    "مبارک ہو! اگر آپ نے اوپر دیے گئے تمام مراحل مکمل کر لیے ہیں، تو آپ نے لیب مکمل کر لی ہے!\n"
   ]
  },
  {
   "cell_type": "markdown",
   "metadata": {},
   "source": [
    "\n---\n\n**ڈسکلیمر**:  \nیہ دستاویز AI ترجمہ سروس [Co-op Translator](https://github.com/Azure/co-op-translator) کا استعمال کرتے ہوئے ترجمہ کی گئی ہے۔ ہم درستگی کے لیے کوشش کرتے ہیں، لیکن براہ کرم آگاہ رہیں کہ خودکار ترجمے میں غلطیاں یا غیر درستیاں ہو سکتی ہیں۔ اصل دستاویز کو اس کی اصل زبان میں مستند ذریعہ سمجھا جانا چاہیے۔ اہم معلومات کے لیے، پیشہ ور انسانی ترجمہ کی سفارش کی جاتی ہے۔ ہم اس ترجمے کے استعمال سے پیدا ہونے والی کسی بھی غلط فہمی یا غلط تشریح کے ذمہ دار نہیں ہیں۔\n"
   ]
  }
 ],
 "metadata": {
  "language_info": {
   "name": "python"
  },
  "orig_nbformat": 4,
  "coopTranslator": {
   "original_hash": "153d9e417e079bf62f8f693002d0deaf",
   "translation_date": "2025-08-28T03:20:20+00:00",
   "source_file": "lessons/4-ComputerVision/06-IntroCV/lab/MovementDetection.ipynb",
   "language_code": "ur"
  }
 },
 "nbformat": 4,
 "nbformat_minor": 2
}