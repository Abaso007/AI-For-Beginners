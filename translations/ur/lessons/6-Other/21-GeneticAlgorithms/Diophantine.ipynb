{
 "cells": [
  {
   "cell_type": "markdown",
   "metadata": {},
   "source": [
    "## ڈائیوفینٹائن مساوات: اسائنمنٹ\n",
    "\n",
    "> یہ اسائنمنٹ [AI for Beginners Curriculum](http://github.com/microsoft/ai-for-beginners) کا حصہ ہے اور [اس پوسٹ](https://habr.com/post/128704/) سے متاثر ہے۔\n",
    "\n",
    "آپ کا مقصد **ڈائیوفینٹائن مساوات** کو حل کرنا ہے - ایک ایسی مساوات جس کے جڑیں اور عددی اجزاء صحیح اعداد میں ہوں۔ مثال کے طور پر، درج ذیل مساوات پر غور کریں:\n",
    "\n",
    "$$a+2b+3c+4d=30$$\n",
    "\n",
    "آپ کو ایسی صحیح عددی جڑیں $a$,$b$,$c$,$d\\in\\mathbb{N}$ تلاش کرنی ہیں جو اس مساوات کو پورا کریں۔\n",
    "\n",
    "اشارے:\n",
    "1. آپ جڑوں کو [0;30] کے وقفے میں تصور کر سکتے ہیں۔\n",
    "1. جین کے طور پر، جڑوں کی قدروں کی فہرست استعمال کرنے پر غور کریں۔\n"
   ]
  },
  {
   "cell_type": "markdown",
   "metadata": {},
   "source": []
  },
  {
   "cell_type": "markdown",
   "metadata": {},
   "source": [
    "\n---\n\n**ڈسکلیمر**:  \nیہ دستاویز AI ترجمہ سروس [Co-op Translator](https://github.com/Azure/co-op-translator) کا استعمال کرتے ہوئے ترجمہ کی گئی ہے۔ ہم درستگی کے لیے کوشش کرتے ہیں، لیکن براہ کرم آگاہ رہیں کہ خودکار ترجمے میں غلطیاں یا غیر درستیاں ہو سکتی ہیں۔ اصل دستاویز کو اس کی اصل زبان میں مستند ذریعہ سمجھا جانا چاہیے۔ اہم معلومات کے لیے، پیشہ ور انسانی ترجمہ کی سفارش کی جاتی ہے۔ ہم اس ترجمے کے استعمال سے پیدا ہونے والی کسی بھی غلط فہمی یا غلط تشریح کے ذمہ دار نہیں ہیں۔\n"
   ]
  }
 ],
 "metadata": {
  "language_info": {
   "name": "python"
  },
  "orig_nbformat": 4,
  "coopTranslator": {
   "original_hash": "a967e1fa1e11ab2b6467b19349a4a9aa",
   "translation_date": "2025-08-28T02:47:31+00:00",
   "source_file": "lessons/6-Other/21-GeneticAlgorithms/Diophantine.ipynb",
   "language_code": "ur"
  }
 },
 "nbformat": 4,
 "nbformat_minor": 2
}