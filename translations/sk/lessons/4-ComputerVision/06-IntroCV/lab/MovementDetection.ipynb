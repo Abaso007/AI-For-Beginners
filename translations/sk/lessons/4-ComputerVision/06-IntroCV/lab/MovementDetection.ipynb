{
 "cells": [
  {
   "cell_type": "markdown",
   "metadata": {},
   "source": [
    "## Detekcia pohybu dlane pomocou optického toku\n",
    "\n",
    "Tento lab je súčasťou [kurikula AI pre začiatočníkov](http://aka.ms/ai-beginners).\n",
    "\n",
    "Pozrite si [toto video](../../../../../../lessons/4-ComputerVision/06-IntroCV/lab/palm-movement.mp4), v ktorom sa dlaň osoby pohybuje doľava/doprava/hore/dole na stabilnom pozadí.\n",
    "\n",
    "**Vaším cieľom** bude použiť optický tok na určenie, ktoré časti videa obsahujú pohyby hore/dole/doľava/doprava.\n",
    "\n",
    "Začnite získavaním snímok z videa, ako je popísané v prednáške:\n"
   ]
  },
  {
   "cell_type": "code",
   "execution_count": null,
   "metadata": {},
   "outputs": [],
   "source": [
    "# Code here"
   ]
  },
  {
   "cell_type": "markdown",
   "metadata": {},
   "source": [
    "Teraz vypočítajte husté optické prúdenie snímok, ako je opísané v prednáške, a preveďte husté optické prúdenie na polárne súradnice:\n"
   ]
  },
  {
   "cell_type": "code",
   "execution_count": null,
   "metadata": {},
   "outputs": [],
   "source": [
    "# Code here"
   ]
  },
  {
   "cell_type": "markdown",
   "metadata": {},
   "source": [
    "Vytvorte histogram smerov pre každý optický tokový rámec. Histogram ukazuje, koľko vektorov spadá do určitého intervalu, a mal by oddeliť rôzne smery pohybu na rámci.\n",
    "\n",
    "> Môžete tiež vynulovať všetky vektory, ktorých veľkosť je pod určitým prahom. Tým sa odstránia malé vedľajšie pohyby vo videu, ako sú pohyby očí a hlavy.\n",
    "\n",
    "Vykreslite histogramy pre niektoré z rámcov.\n"
   ]
  },
  {
   "cell_type": "code",
   "execution_count": null,
   "metadata": {},
   "outputs": [],
   "source": [
    "# Code here"
   ]
  },
  {
   "cell_type": "markdown",
   "metadata": {},
   "source": [
    "Pri pohľade na histogramy by malo byť pomerne jednoduché určiť smer pohybu. Musíte vybrať tie intervaly, ktoré zodpovedajú smerom hore/dole/vľavo/vpravo a ktoré sú nad určitým prahom.\n"
   ]
  },
  {
   "cell_type": "code",
   "execution_count": null,
   "metadata": {},
   "outputs": [],
   "source": [
    "# Code here"
   ]
  },
  {
   "cell_type": "markdown",
   "metadata": {},
   "source": [
    "Gratulujeme! Ak ste vykonali všetky vyššie uvedené kroky, dokončili ste laboratórium!\n"
   ]
  },
  {
   "cell_type": "markdown",
   "metadata": {},
   "source": [
    "\n---\n\n**Upozornenie**:  \nTento dokument bol preložený pomocou služby AI prekladu [Co-op Translator](https://github.com/Azure/co-op-translator). Hoci sa snažíme o presnosť, prosím, berte na vedomie, že automatizované preklady môžu obsahovať chyby alebo nepresnosti. Pôvodný dokument v jeho rodnom jazyku by mal byť považovaný za autoritatívny zdroj. Pre kritické informácie sa odporúča profesionálny ľudský preklad. Nenesieme zodpovednosť za akékoľvek nedorozumenia alebo nesprávne interpretácie vyplývajúce z použitia tohto prekladu.\n"
   ]
  }
 ],
 "metadata": {
  "language_info": {
   "name": "python"
  },
  "orig_nbformat": 4,
  "coopTranslator": {
   "original_hash": "153d9e417e079bf62f8f693002d0deaf",
   "translation_date": "2025-08-29T23:33:45+00:00",
   "source_file": "lessons/4-ComputerVision/06-IntroCV/lab/MovementDetection.ipynb",
   "language_code": "sk"
  }
 },
 "nbformat": 4,
 "nbformat_minor": 2
}