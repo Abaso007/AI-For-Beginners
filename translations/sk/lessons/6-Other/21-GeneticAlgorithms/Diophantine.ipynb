{
 "cells": [
  {
   "cell_type": "markdown",
   "metadata": {},
   "source": [
    "## Zadanie: Diofantické rovnice\n",
    "\n",
    "> Toto zadanie je súčasťou [AI pre začiatočníkov](http://github.com/microsoft/ai-for-beginners) a je inšpirované [týmto článkom](https://habr.com/post/128704/).\n",
    "\n",
    "Vašou úlohou je vyriešiť takzvanú **Diofantickú rovnicu** - rovnicu s celočíselnými koreňmi a celočíselnými koeficientmi. Napríklad, zvážte nasledujúcu rovnicu:\n",
    "\n",
    "$$a+2b+3c+4d=30$$\n",
    "\n",
    "Musíte nájsť celočíselné korene $a$,$b$,$c$,$d\\in\\mathbb{N}$, ktoré túto rovnicu spĺňajú.\n",
    "\n",
    "Tipy:\n",
    "1. Môžete uvažovať korene v intervale [0;30]\n",
    "1. Ako gén môžete zvážiť použitie zoznamu hodnôt koreňov\n"
   ]
  },
  {
   "cell_type": "markdown",
   "metadata": {},
   "source": []
  },
  {
   "cell_type": "markdown",
   "metadata": {},
   "source": [
    "\n---\n\n**Upozornenie**:  \nTento dokument bol preložený pomocou služby AI prekladu [Co-op Translator](https://github.com/Azure/co-op-translator). Hoci sa snažíme o presnosť, prosím, berte na vedomie, že automatizované preklady môžu obsahovať chyby alebo nepresnosti. Pôvodný dokument v jeho rodnom jazyku by mal byť považovaný za autoritatívny zdroj. Pre kritické informácie sa odporúča profesionálny ľudský preklad. Nie sme zodpovední za akékoľvek nedorozumenia alebo nesprávne interpretácie vyplývajúce z použitia tohto prekladu.\n"
   ]
  }
 ],
 "metadata": {
  "language_info": {
   "name": "python"
  },
  "orig_nbformat": 4,
  "coopTranslator": {
   "original_hash": "a967e1fa1e11ab2b6467b19349a4a9aa",
   "translation_date": "2025-08-29T22:52:09+00:00",
   "source_file": "lessons/6-Other/21-GeneticAlgorithms/Diophantine.ipynb",
   "language_code": "sk"
  }
 },
 "nbformat": 4,
 "nbformat_minor": 2
}