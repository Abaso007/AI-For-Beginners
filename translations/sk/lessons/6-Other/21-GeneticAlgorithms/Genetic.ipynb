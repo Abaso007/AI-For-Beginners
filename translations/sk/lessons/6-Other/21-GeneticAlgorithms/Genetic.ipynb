{
 "cells": [
  {
   "cell_type": "markdown",
   "metadata": {
    "collapsed": true
   },
   "source": [
    "# Genetické algoritmy\n",
    "\n",
    "Tento zápisník je súčasťou [AI for Beginners Curriculum](http://github.com/microsoft/ai-for-beginners).\n"
   ]
  },
  {
   "cell_type": "code",
   "execution_count": 2,
   "metadata": {
    "trusted": true
   },
   "outputs": [],
   "source": [
    "import random\n",
    "import matplotlib.pyplot as plt\n",
    "import numpy as np\n",
    "import math\n",
    "import time"
   ]
  },
  {
   "cell_type": "markdown",
   "metadata": {},
   "source": [
    "## Trocha teórie\n",
    "\n",
    "**Genetické algoritmy** (GA) sú založené na **evolučnom prístupe** k umelej inteligencii, pri ktorom sa využívajú metódy evolúcie populácie na získanie optimálneho riešenia pre daný problém. Boli navrhnuté v roku 1975 [Johnom Henrym Hollandom](https://en.wikipedia.org/wiki/John_Henry_Holland).\n",
    "\n",
    "Genetické algoritmy sú založené na nasledujúcich myšlienkach:\n",
    "* Platné riešenia problému môžu byť reprezentované ako **gény**\n",
    "* Pomocou **kríženia** môžeme spojiť dve riešenia a získať nové platné riešenie\n",
    "* **Selektovanie** sa používa na výber optimálnejších riešení pomocou nejakej **fitness funkcie**\n",
    "* **Mutácie** sa zavádzajú na destabilizáciu optimalizácie a na to, aby sme sa dostali z lokálneho minima\n",
    "\n",
    "Ak chcete implementovať genetický algoritmus, potrebujete nasledovné:\n",
    "\n",
    "* Nájsť spôsob kódovania riešení problému pomocou **génov** $g\\in\\Gamma$\n",
    "* Na množine génov $\\Gamma$ definovať **fitness funkciu** $\\mathrm{fit}: \\Gamma\\to\\mathbb{R}$. Menšie hodnoty funkcie budú zodpovedať lepším riešeniam.\n",
    "* Definovať mechanizmus **kríženia**, ktorý spojí dva gény a vytvorí nové platné riešenie $\\mathrm{crossover}: \\Gamma^2\\to\\Gamma$.\n",
    "* Definovať mechanizmus **mutácie** $\\mathrm{mutate}: \\Gamma\\to\\Gamma$.\n",
    "V mnohých prípadoch sú kríženie a mutácia pomerne jednoduché algoritmy na manipuláciu s génmi ako číselnými sekvenciami alebo bitovými vektormi.\n",
    "\n",
    "Konkrétna implementácia genetického algoritmu sa môže líšiť od prípadu k prípadu, ale celková štruktúra je nasledovná:\n",
    "\n",
    "1. Vyberte počiatočnú populáciu $G\\subset\\Gamma$\n",
    "2. Náhodne vyberte jednu z operácií, ktorá sa vykoná v tomto kroku: kríženie alebo mutácia\n",
    "3. **Kríženie**:\n",
    "   * Náhodne vyberte dva gény $g_1, g_2 \\in G$\n",
    "   * Vypočítajte kríženie $g=\\mathrm{crossover}(g_1,g_2)$\n",
    "   * Ak $\\mathrm{fit}(g)<\\mathrm{fit}(g_1)$ alebo $\\mathrm{fit}(g)<\\mathrm{fit}(g_2)$ - nahraďte príslušný gén v populácii génom $g$.\n",
    "4. **Mutácia** - vyberte náhodný gén $g\\in G$ a nahraďte ho $\\mathrm{mutate}(g)$\n",
    "5. Opakujte od kroku 2, kým nedosiahnete dostatočne malú hodnotu $\\mathrm{fit}$, alebo kým sa nedosiahne limit počtu krokov.\n",
    "\n",
    "Úlohy, ktoré sa zvyčajne riešia pomocou GA:\n",
    "1. Optimalizácia rozvrhov\n",
    "1. Optimálne balenie\n",
    "1. Optimálne rezanie\n",
    "1. Urýchlenie vyčerpávajúceho vyhľadávania\n"
   ]
  },
  {
   "cell_type": "markdown",
   "metadata": {},
   "source": [
    "## Problém 1: Spravodlivé rozdelenie pokladu\n",
    "\n",
    "**Úloha**:  \n",
    "Dvaja ľudia našli poklad, ktorý obsahuje diamanty rôznych veľkostí (a zodpovedajúcich cien). Potrebujú rozdeliť poklad na dve časti tak, aby rozdiel v cene bol 0 (alebo minimálny).\n",
    "\n",
    "**Formálna definícia**:  \n",
    "Máme množinu čísel $S$. Potrebujeme ju rozdeliť na dve podmnožiny $S_1$ a $S_2$, tak aby $$\\left|\\sum_{i\\in S_1}i - \\sum_{j\\in S_2}j\\right|\\to\\min$$ a $S_1\\cup S_2=S$, $S_1\\cap S_2=\\emptyset$.\n",
    "\n",
    "Najprv definujme množinu $S$:\n"
   ]
  },
  {
   "cell_type": "code",
   "execution_count": 3,
   "metadata": {
    "trusted": true
   },
   "outputs": [
    {
     "name": "stdout",
     "output_type": "stream",
     "text": [
      "[8344 2197 9335 3131 5863 9429 3818 9791   15 5455 1396 9538 4872 6549\n",
      " 8587 5986 6021 9764 8102 5083 5739 7684 8498 3007 6599  820 7490 2372\n",
      " 9370 5235 3525 3154  859 1906 8159 3950 2173 2988 2050  349 8713 2284\n",
      " 4177 6033 1651 9176 5049 8201  171 5081 1216 3756 4711 2757 7738 1272\n",
      " 5650 6584 5395 9004 7797  969 8104 1283 1392 4001 5768  445  274  256\n",
      " 8239 8015 4381 9021 1189 8879 1411 3539 6526 8011  136 7230 2332  451\n",
      " 5702 2989 4320 2446 9578 8486 4027 2410 9588 8981 2177 1493 3232 9151\n",
      " 4835 5594 6859 8394  369 3200  126 4259 2283 7755 2014 2458 8327 8082\n",
      " 7413 7622 1206 5533 8751 3495 5868 8472 6850 3958 3149 4672 4810 6274\n",
      " 4700 6134 4627 4616 6656 9949  884 2256 7419 1926 7973 5319 5967 9158\n",
      " 3823 7697 9466 5675 5412 9784 5426 8209 3421 1136 6047 4429 8001 4417\n",
      " 1381  722 7350 6018 6235 7860 5853 7660 5937 6242    1 9552 3971 8302\n",
      " 2633 9227 7283  154 8599 4269 9392 8539 1630  368 2409 9351 3838 9814\n",
      " 6186 5743 5083 1325 1610  779 3643 3262 5768 8725  961 4611 6310 4788\n",
      " 1648 5951 8118 7779]\n"
     ]
    }
   ],
   "source": [
    "N = 200\n",
    "S = np.array([random.randint(1,10000) for _ in range(N)])\n",
    "print(S)"
   ]
  },
  {
   "cell_type": "markdown",
   "metadata": {},
   "source": [
    "Poďme zakódovať každé možné riešenie problému pomocou binárneho vektora $B\\in\\{0,1\\}^N$, kde číslo na $i$-tej pozícii ukazuje, do ktorého zo súborov ($S_1$ alebo $S_2$) patrí $i$-té číslo v pôvodnom súbore $S$. Funkcia `generate` vygeneruje tieto náhodné binárne vektory.\n"
   ]
  },
  {
   "cell_type": "code",
   "execution_count": 5,
   "metadata": {
    "trusted": true
   },
   "outputs": [
    {
     "name": "stdout",
     "output_type": "stream",
     "text": [
      "[1 0 0 1 1 1 1 1 0 1 1 1 0 0 1 0 1 1 1 0 0 1 1 0 1 1 0 0 1 0 1 0 1 0 1 1 1\n",
      " 0 1 1 1 0 1 0 0 1 0 0 1 1 0 1 0 1 1 0 0 1 0 0 0 1 1 0 1 1 0 0 0 0 1 0 1 0\n",
      " 1 0 0 0 0 0 1 1 0 1 0 0 1 0 1 0 0 1 1 0 0 1 1 1 0 0 1 1 0 1 1 0 0 0 0 1 1\n",
      " 1 0 1 0 0 1 1 1 1 1 1 1 1 0 1 0 1 1 1 1 1 1 0 1 0 1 0 1 0 0 1 1 1 0 0 1 1\n",
      " 0 1 1 0 1 1 0 0 0 1 1 0 0 0 0 0 0 0 0 1 1 0 1 1 1 0 0 1 1 0 1 1 0 0 1 1 0\n",
      " 0 0 0 1 0 1 1 0 1 1 0 1 0 0 0]\n"
     ]
    }
   ],
   "source": [
    "def generate(S):\n",
    "    return np.array([random.randint(0,1) for _ in S])\n",
    "\n",
    "b = generate(S)\n",
    "print(b)"
   ]
  },
  {
   "cell_type": "markdown",
   "metadata": {},
   "source": [
    "Poďme teraz definovať funkciu `fit`, ktorá vypočíta „náklady“ riešenia. Bude to rozdiel medzi súčtom dvoch množín, $S_1$ a $S_2$:\n"
   ]
  },
  {
   "cell_type": "code",
   "execution_count": 6,
   "metadata": {
    "trusted": true
   },
   "outputs": [
    {
     "data": {
      "text/plain": [
       "133784"
      ]
     },
     "execution_count": 6,
     "metadata": {},
     "output_type": "execute_result"
    }
   ],
   "source": [
    "def fit(B,S=S):\n",
    "    c1 = (B*S).sum()\n",
    "    c2 = ((1-B)*S).sum()\n",
    "    return abs(c1-c2)\n",
    "\n",
    "fit(b)"
   ]
  },
  {
   "cell_type": "markdown",
   "metadata": {},
   "source": [
    "Teraz musíme definovať funkcie pre mutáciu a kríženie:\n",
    "* Pri mutácii vyberieme jeden náhodný bit a negujeme ho (zmeníme z 0 na 1 a naopak).\n",
    "* Pri krížení vezmeme niektoré bity z jedného vektora a niektoré bity z druhého. Použijeme rovnakú funkciu `generate` na náhodný výber, ktoré bity zobrať z ktorého vstupného maska.\n"
   ]
  },
  {
   "cell_type": "code",
   "execution_count": 7,
   "metadata": {
    "trusted": true
   },
   "outputs": [],
   "source": [
    "def mutate(b):\n",
    "    x = b.copy()\n",
    "    i = random.randint(0,len(b)-1)\n",
    "    x[i] = 1-x[i]\n",
    "    return x\n",
    "\n",
    "def xover(b1,b2):\n",
    "    x = generate(b1)\n",
    "    return b1*x+b2*(1-x)"
   ]
  },
  {
   "cell_type": "markdown",
   "metadata": {},
   "source": [
    "Poďme vytvoriť počiatočnú populáciu riešení $P$ veľkosti `pop_size`:\n"
   ]
  },
  {
   "cell_type": "code",
   "execution_count": 8,
   "metadata": {
    "trusted": true
   },
   "outputs": [],
   "source": [
    "pop_size = 30\n",
    "P = [generate(S) for _ in range(pop_size)]"
   ]
  },
  {
   "cell_type": "markdown",
   "metadata": {},
   "source": [
    "Teraz hlavná funkcia na vykonanie evolúcie. `n` je počet krokov evolúcie, ktoré sa majú vykonať. V každom kroku:\n",
    "* S pravdepodobnosťou 30 % vykonáme mutáciu a nahradíme prvok s najhoršou funkciou `fit` mutovaným prvkom\n",
    "* S pravdepodobnosťou 70 % vykonáme kríženie\n",
    "\n",
    "Funkcia vráti najlepšie riešenie (gén zodpovedajúci najlepšiemu riešeniu) a históriu minimálnej hodnoty funkcie fit v populácii pri každej iterácii.\n"
   ]
  },
  {
   "cell_type": "code",
   "execution_count": 9,
   "metadata": {
    "trusted": true
   },
   "outputs": [
    {
     "name": "stdout",
     "output_type": "stream",
     "text": [
      "[0 0 0 1 1 0 0 0 0 1 1 1 0 1 0 0 0 1 0 1 0 1 0 1 0 1 1 0 0 0 0 0 1 0 1 1 0\n",
      " 0 0 0 1 1 0 0 1 0 0 0 0 0 1 0 0 1 1 1 1 1 1 1 0 1 1 0 1 1 1 1 1 0 1 0 0 0\n",
      " 0 1 1 1 0 1 0 1 1 1 1 1 0 0 0 1 1 0 1 0 0 1 0 0 1 1 1 1 1 1 1 1 0 1 0 1 1\n",
      " 0 1 1 0 0 0 0 1 1 1 1 0 1 0 0 1 0 1 1 1 0 1 0 0 0 0 0 0 1 1 0 0 0 1 1 0 0\n",
      " 1 0 1 1 1 1 1 0 1 0 1 0 1 1 1 0 0 0 1 1 0 0 0 0 0 0 1 1 1 0 1 0 0 0 1 0 1\n",
      " 0 1 0 1 0 0 1 1 1 0 1 1 0 0 1] 4\n"
     ]
    }
   ],
   "source": [
    "def evolve(P,S=S,n=2000):\n",
    "    res = []\n",
    "    for _ in range(n):\n",
    "        f = min([fit(b) for b in P])\n",
    "        res.append(f)\n",
    "        if f==0:\n",
    "            break\n",
    "        if random.randint(1,10)<3:\n",
    "            i = random.randint(0,len(P)-1)\n",
    "            b = mutate(P[i])\n",
    "            i = np.argmax([fit(z) for z in P])\n",
    "            P[i] = b\n",
    "        else:\n",
    "            i = random.randint(0,len(P)-1)\n",
    "            j = random.randint(0,len(P)-1)\n",
    "            b = xover(P[i],P[j])\n",
    "            if fit(b)<fit(P[i]):\n",
    "                P[i]=b\n",
    "            elif fit(b)<fit(P[j]):\n",
    "                P[j]=b\n",
    "            else:\n",
    "                pass\n",
    "    i = np.argmin([fit(b) for b in P])\n",
    "    return (P[i],res)\n",
    "\n",
    "(s,hist) = evolve(P)\n",
    "print(s,fit(s))"
   ]
  },
  {
   "cell_type": "markdown",
   "metadata": {},
   "source": [
    "Môžete vidieť, že sa nám podarilo výrazne minimalizovať funkciu `fit`! Tu je graf, ktorý ukazuje, ako sa funkcia `fit` pre celú populáciu správa počas procesu.\n"
   ]
  },
  {
   "cell_type": "code",
   "execution_count": 10,
   "metadata": {
    "trusted": true
   },
   "outputs": [
    {
     "data": {
      "image/png": "[encoded data removed]",
      "text/plain": [
       "<Figure size 432x288 with 1 Axes>"
      ]
     },
     "metadata": {
      "needs_background": "light"
     },
     "output_type": "display_data"
    }
   ],
   "source": [
    "plt.plot(hist)\n",
    "plt.show()"
   ]
  },
  {
   "cell_type": "markdown",
   "metadata": {},
   "source": [
    "## Problém 2: Problém N kráľovien\n",
    "\n",
    "**Úloha**:  \n",
    "Musíte umiestniť $N$ kráľovien na šachovnicu veľkosti $N\\times N$ tak, aby sa navzájom neohrozovali.\n",
    "\n",
    "Najprv vyriešme tento problém bez použitia genetických algoritmov, pomocou úplného prehľadávania. Stav šachovnice môžeme reprezentovať zoznamom $L$, kde $i$-te číslo v zozname predstavuje horizontálnu pozíciu kráľovnej v $i$-tom riadku. Je celkom zrejmé, že každé riešenie bude mať iba jednu kráľovnú na riadok a každý riadok bude obsahovať jednu kráľovnú.\n",
    "\n",
    "Naším cieľom bude nájsť prvé riešenie problému, po ktorom zastavíme hľadanie. Túto funkciu môžete ľahko rozšíriť tak, aby generovala všetky možné pozície pre kráľovné.\n"
   ]
  },
  {
   "cell_type": "code",
   "execution_count": 11,
   "metadata": {
    "trusted": true
   },
   "outputs": [
    {
     "name": "stdout",
     "output_type": "stream",
     "text": [
      "[1, 5, 8, 6, 3, 7, 2, 4]\n"
     ]
    },
    {
     "data": {
      "text/plain": [
       "True"
      ]
     },
     "execution_count": 11,
     "metadata": {},
     "output_type": "execute_result"
    }
   ],
   "source": [
    "N = 8\n",
    "\n",
    "def checkbeats(i_new,j_new,l):\n",
    "    for i,j in enumerate(l,start=1):\n",
    "        if j==j_new:\n",
    "            return False\n",
    "        else:\n",
    "            if abs(j-j_new) == i_new-i:\n",
    "                return False\n",
    "    return True\n",
    "\n",
    "def nqueens(l,N=8,disp=True):\n",
    "    if len(l)==N:\n",
    "        if disp: print(l)\n",
    "        return True\n",
    "    else:\n",
    "        for j in range(1,N+1):\n",
    "            if checkbeats(len(l)+1,j,l):\n",
    "                l.append(j)\n",
    "                if nqueens(l,N,disp): return True\n",
    "                else: l.pop()\n",
    "        return False\n",
    "            \n",
    "nqueens([],8)\n"
   ]
  },
  {
   "cell_type": "markdown",
   "metadata": {},
   "source": [
    "Teraz zmerajme, ako dlho trvá nájsť riešenie problému 20 kráľovien:\n"
   ]
  },
  {
   "cell_type": "code",
   "execution_count": 12,
   "metadata": {
    "trusted": true
   },
   "outputs": [
    {
     "name": "stdout",
     "output_type": "stream",
     "text": [
      "10.6 s ± 2.17 s per loop (mean ± std. dev. of 7 runs, 1 loop each)\n"
     ]
    }
   ],
   "source": [
    "%timeit nqueens([],20,False)"
   ]
  },
  {
   "cell_type": "markdown",
   "metadata": {},
   "source": [
    "Teraz vyriešime ten istý problém pomocou genetického algoritmu. Toto riešenie je inšpirované [týmto blogovým príspevkom](https://kushalvyas.github.io/gen_8Q.html).\n",
    "\n",
    "Každé riešenie budeme reprezentovať rovnakým zoznamom dĺžky $N$, a ako funkciu `fit` použijeme počet kráľovien, ktoré sa navzájom ohrozujú:\n"
   ]
  },
  {
   "cell_type": "code",
   "execution_count": 13,
   "metadata": {
    "trusted": true
   },
   "outputs": [],
   "source": [
    "def fit(L):\n",
    "    x=0\n",
    "    for i1,j1 in enumerate(L,1):\n",
    "        for i2,j2 in enumerate(L,1):\n",
    "            if i2>i1:\n",
    "                if j2==j1 or (abs(j2-j1)==i2-i1): x+=1\n",
    "    return x"
   ]
  },
  {
   "cell_type": "markdown",
   "metadata": {},
   "source": [
    "Keďže výpočet fitness funkcie je časovo náročný, uložme každé riešenie v populácii spolu s hodnotou fitness funkcie. Vygenerujme počiatočnú populáciu:\n"
   ]
  },
  {
   "cell_type": "code",
   "execution_count": 14,
   "metadata": {
    "trusted": true
   },
   "outputs": [
    {
     "data": {
      "text/plain": [
       "[(array([2, 3, 8, 7, 5, 4, 1, 6]), 4),\n",
       " (array([3, 4, 5, 1, 2, 8, 6, 7]), 8),\n",
       " (array([1, 3, 7, 4, 5, 8, 6, 2]), 6),\n",
       " (array([1, 5, 4, 6, 8, 3, 7, 2]), 4),\n",
       " (array([3, 5, 7, 1, 8, 6, 4, 2]), 3)]"
      ]
     },
     "execution_count": 14,
     "metadata": {},
     "output_type": "execute_result"
    }
   ],
   "source": [
    "def generate_one(N):\n",
    "    x = np.arange(1,N+1)\n",
    "    np.random.shuffle(x)\n",
    "    return (x,fit(x))\n",
    "\n",
    "def generate(N,NP):\n",
    "    return [generate_one(N) for _ in range(NP)]\n",
    "\n",
    "generate(8,5)"
   ]
  },
  {
   "cell_type": "markdown",
   "metadata": {},
   "source": [
    "Teraz musíme definovať funkcie mutácie a kríženia. Kríženie by spojilo dva gény dohromady tak, že by ich rozdelilo na náhodnom mieste a zoskupilo dve časti z rôznych génov dokopy.\n"
   ]
  },
  {
   "cell_type": "code",
   "execution_count": 15,
   "metadata": {
    "trusted": true
   },
   "outputs": [
    {
     "data": {
      "text/plain": [
       "array([1, 2, 7, 8])"
      ]
     },
     "execution_count": 15,
     "metadata": {},
     "output_type": "execute_result"
    }
   ],
   "source": [
    "def mutate(G):\n",
    "    x=random.randint(0,len(G)-1)\n",
    "    G[x]=random.randint(1,len(G))\n",
    "    return G\n",
    "    \n",
    "def xover(G1,G2):\n",
    "    x=random.randint(0,len(G1))\n",
    "    return np.concatenate((G1[:x],G2[x:]))\n",
    "\n",
    "xover([1,2,3,4],[5,6,7,8])"
   ]
  },
  {
   "cell_type": "markdown",
   "metadata": {},
   "source": []
  },
  {
   "cell_type": "code",
   "execution_count": 17,
   "metadata": {
    "trusted": true
   },
   "outputs": [],
   "source": [
    "def choose_rand(P):\n",
    "    N=len(P[0][0])\n",
    "    mf = N*(N-1)//2 # max fitness fn\n",
    "    z = [mf-x[1] for x in P]\n",
    "    tf = sum(z) # total fitness\n",
    "    w = [x/tf for x in z]\n",
    "    p = np.random.choice(len(P),2,False,p=w)\n",
    "    return p[0],p[1]\n",
    "\n",
    "def choose(P):\n",
    "    def ch(w):\n",
    "        p=[]\n",
    "        while p==[]:\n",
    "            r = random.random()\n",
    "            p = [i for i,x in enumerate(P) if x[1]>=r]\n",
    "        return random.choice(p)\n",
    "    N=len(P[0][0])\n",
    "    mf = N*(N-1)//2 # max fitness fn\n",
    "    z = [mf-x[1] for x in P]\n",
    "    tf = sum(z) # total fitness\n",
    "    w = [x/tf for x in z]\n",
    "    p1=p2=0\n",
    "    while p1==p2:\n",
    "        p1 = ch(w)\n",
    "        p2 = ch(w)\n",
    "    return p1,p2"
   ]
  },
  {
   "cell_type": "markdown",
   "metadata": {},
   "source": [
    "Teraz definujme hlavný evolučný cyklus. Logiku urobíme trochu odlišnú od predchádzajúceho príkladu, aby sme ukázali, že je možné byť kreatívny. Budeme opakovať cyklus, kým nedosiahneme dokonalé riešenie (hodnota fitness funkcie = 0), a v každom kroku vezmeme aktuálnu generáciu a vytvoríme novú generáciu rovnakej veľkosti. Toto sa vykonáva pomocou funkcie `nxgeneration` podľa nasledujúcich krokov:\n",
    "\n",
    "1. Odstráňte najmenej vhodné riešenia - na to slúži funkcia `discard_unfit`\n",
    "1. Pridajte do generácie niekoľko náhodných riešení\n",
    "1. Vytvorte novú generáciu veľkosti `gen_size` pomocou nasledujúcich krokov pre každý nový gén:\n",
    "    - vyberte dva náhodné gény, s pravdepodobnosťou úmernou hodnote fitness funkcie\n",
    "    - vypočítajte kríženie\n",
    "    - aplikujte mutáciu s pravdepodobnosťou `mutation_prob`\n"
   ]
  },
  {
   "cell_type": "code",
   "execution_count": 20,
   "metadata": {
    "trusted": true
   },
   "outputs": [
    {
     "data": {
      "text/plain": [
       "(array([4, 7, 5, 3, 1, 6, 8, 2]), 0)"
      ]
     },
     "execution_count": 20,
     "metadata": {},
     "output_type": "execute_result"
    }
   ],
   "source": [
    "mutation_prob = 0.1\n",
    "\n",
    "def discard_unfit(P):\n",
    "    P.sort(key=lambda x:x[1])\n",
    "    return P[:len(P)//3]\n",
    "\n",
    "def nxgeneration(P):\n",
    "    gen_size=len(P)\n",
    "    P = discard_unfit(P)\n",
    "    P.extend(generate(len(P[0][0]),3))\n",
    "    new_gen = []\n",
    "    for _ in range(gen_size):\n",
    "        p1,p2 = choose_rand(P)\n",
    "        n = xover(P[p1][0],P[p2][0])\n",
    "        if random.random()<mutation_prob:\n",
    "            n=mutate(n)\n",
    "        nf = fit(n)\n",
    "        new_gen.append((n,nf))\n",
    "        '''\n",
    "        if (nf<=P[p1][1]) or (nf<=P[p2][1]):\n",
    "            new_gen.append((n,nf))\n",
    "        elif (P[p1][1]<P[p2][1]):\n",
    "            new_gen.append(P[p1])\n",
    "        else:\n",
    "            new_gen.append(P[p2])\n",
    "        '''\n",
    "    return new_gen\n",
    "    \n",
    "def genetic(N,pop_size=100):\n",
    "    P = generate(N,pop_size)\n",
    "    mf = min([x[1] for x in P])\n",
    "    n=0\n",
    "    while mf>0:\n",
    "        #print(\"Generation {0}, fit={1}\".format(n,mf))\n",
    "        n+=1\n",
    "        mf = min([x[1] for x in P])\n",
    "        P = nxgeneration(P)\n",
    "    mi = np.argmin([x[1] for x in P])\n",
    "    return P[mi]\n",
    "\n",
    "genetic(8)"
   ]
  },
  {
   "cell_type": "markdown",
   "metadata": {},
   "source": []
  },
  {
   "cell_type": "code",
   "execution_count": 19,
   "metadata": {
    "trusted": true
   },
   "outputs": [
    {
     "name": "stdout",
     "output_type": "stream",
     "text": [
      "The slowest run took 18.71 times longer than the fastest. This could mean that an intermediate result is being cached.\n",
      "26.4 s ± 28.7 s per loop (mean ± std. dev. of 7 runs, 1 loop each)\n"
     ]
    }
   ],
   "source": [
    "%timeit genetic(10)"
   ]
  },
  {
   "cell_type": "markdown",
   "metadata": {},
   "source": [
    "\n---\n\n**Upozornenie**:  \nTento dokument bol preložený pomocou služby AI prekladu [Co-op Translator](https://github.com/Azure/co-op-translator). Hoci sa snažíme o presnosť, prosím, berte na vedomie, že automatizované preklady môžu obsahovať chyby alebo nepresnosti. Pôvodný dokument v jeho pôvodnom jazyku by mal byť považovaný za autoritatívny zdroj. Pre kritické informácie sa odporúča profesionálny ľudský preklad. Nie sme zodpovední za akékoľvek nedorozumenia alebo nesprávne interpretácie vyplývajúce z použitia tohto prekladu.\n"
   ]
  }
 ],
 "metadata": {
  "interpreter": {
   "hash": "86193a1ab0ba47eac1c69c1756090baa3b420b3eea7d4aafab8b85f8b312f0c5"
  },
  "kernelspec": {
   "display_name": "Python 3.6",
   "language": "python",
   "name": "python3"
  },
  "language_info": {
   "codemirror_mode": {
    "name": "ipython",
    "version": 3
   },
   "file_extension": ".py",
   "mimetype": "text/x-python",
   "name": "python",
   "nbconvert_exporter": "python",
   "pygments_lexer": "ipython3",
   "version": "3.9.5"
  },
  "coopTranslator": {
   "original_hash": "1012c117808753433f6e2696e775ff4b",
   "translation_date": "2025-08-29T22:53:18+00:00",
   "source_file": "lessons/6-Other/21-GeneticAlgorithms/Genetic.ipynb",
   "language_code": "sk"
  }
 },
 "nbformat": 4,
 "nbformat_minor": 2
}