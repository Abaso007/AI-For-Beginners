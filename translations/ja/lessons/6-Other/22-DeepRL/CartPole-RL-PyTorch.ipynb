{
 "cells": [
  {
   "cell_type": "markdown",
   "metadata": {},
   "source": [
    "# カートポールのバランスを取るためのRLトレーニング\n",
    "\n",
    "このノートブックは[AI for Beginners Curriculum](http://aka.ms/ai-beginners)の一部です。[公式PyTorchチュートリアル](https://pytorch.org/tutorials/intermediate/reinforcement_q_learning.html)や[このCartpole PyTorch実装](https://github.com/yc930401/Actor-Critic-pytorch)に触発されています。\n",
    "\n",
    "この例では、強化学習（RL）を使用して、左右に動くカートの上でポールのバランスを取るモデルをトレーニングします。[OpenAI Gym](https://www.gymlibrary.ml/)環境を使用してポールのシミュレーションを行います。\n",
    "\n",
    "> **Note**: このレッスンのコードはローカル環境（例: Visual Studio Code）で実行することができます。この場合、シミュレーションは新しいウィンドウで開きます。オンラインでコードを実行する場合、[こちら](https://towardsdatascience.com/rendering-openai-gym-envs-on-binder-and-google-colab-536f99391cc7)に記載されているように、コードにいくつかの調整が必要になる場合があります。\n",
    "\n",
    "まず、Gymがインストールされていることを確認します:\n"
   ]
  },
  {
   "cell_type": "code",
   "execution_count": null,
   "metadata": {},
   "outputs": [],
   "source": [
    "import sys\n",
    "!{sys.executable} -m pip install gym"
   ]
  },
  {
   "cell_type": "markdown",
   "metadata": {},
   "source": [
    "では、CartPole環境を作成し、その操作方法を見てみましょう。環境には以下の特性があります：\n",
    "\n",
    "* **Action space** は、シミュレーションの各ステップで実行可能な行動の集合です  \n",
    "* **Observation space** は、観測可能な情報の空間です  \n"
   ]
  },
  {
   "cell_type": "code",
   "execution_count": null,
   "metadata": {},
   "outputs": [],
   "source": [
    "import gym\n",
    "\n",
    "env = gym.make(\"CartPole-v1\")\n",
    "\n",
    "print(f\"Action space: {env.action_space}\")\n",
    "print(f\"Observation space: {env.observation_space}\")"
   ]
  },
  {
   "cell_type": "markdown",
   "metadata": {},
   "source": [
    "シミュレーションがどのように動作するか見てみましょう。以下のループは、`env.step` が終了フラグ `done` を返すまでシミュレーションを実行します。ここでは、`env.action_space.sample()` を使ってランダムにアクションを選択します。つまり、この実験はおそらく非常に早く失敗するでしょう（CartPole 環境は、CartPole の速度、位置、または角度が特定の制限を超えた場合に終了します）。\n",
    "\n",
    "> シミュレーションは新しいウィンドウで開きます。このコードを何度か実行して、その挙動を確認してみてください。\n"
   ]
  },
  {
   "cell_type": "code",
   "execution_count": null,
   "metadata": {},
   "outputs": [],
   "source": [
    "env.reset()\n",
    "\n",
    "done = False\n",
    "total_reward = 0\n",
    "while not done:\n",
    "   env.render()\n",
    "   obs, rew, done, info = env.step(env.action_space.sample())\n",
    "   total_reward += rew\n",
    "   print(f\"{obs} -> {rew}\")\n",
    "print(f\"Total reward: {total_reward}\")"
   ]
  },
  {
   "cell_type": "markdown",
   "metadata": {},
   "source": [
    "観測には4つの数値が含まれていることに気づくでしょう。それらは以下の通りです：\n",
    "- カートの位置\n",
    "- カートの速度\n",
    "- ポールの角度\n",
    "- ポールの回転速度\n",
    "\n",
    "`rew`は各ステップで受け取る報酬です。CartPole環境では、シミュレーションの各ステップごとに1ポイントの報酬が与えられます。目標は総報酬を最大化すること、つまりCartPoleが倒れずにバランスを保つ時間を延ばすことです。\n",
    "\n",
    "強化学習では、私たちの目標は**ポリシー** $\\pi$ を訓練することです。このポリシーは各状態 $s$ に対してどのアクション $a$ を取るべきかを教えてくれます。つまり、基本的には $a = \\pi(s)$ となります。\n",
    "\n",
    "確率的な解法を求める場合、ポリシーは各アクションに対する確率の集合を返すものと考えることができます。例えば、$\\pi(a|s)$ は状態 $s$ においてアクション $a$ を取るべき確率を意味します。\n",
    "\n",
    "## ポリシー勾配法\n",
    "\n",
    "最も単純な強化学習アルゴリズムである**ポリシー勾配法**では、次のアクションを予測するためにニューラルネットワークを訓練します。\n"
   ]
  },
  {
   "cell_type": "code",
   "execution_count": null,
   "metadata": {},
   "outputs": [],
   "source": [
    "import numpy as np\n",
    "import matplotlib.pyplot as plt\n",
    "import torch\n",
    "\n",
    "num_inputs = 4\n",
    "num_actions = 2\n",
    "\n",
    "model = torch.nn.Sequential(\n",
    "    torch.nn.Linear(num_inputs, 128, bias=False, dtype=torch.float32),\n",
    "    torch.nn.ReLU(),\n",
    "    torch.nn.Linear(128, num_actions, bias = False, dtype=torch.float32),\n",
    "    torch.nn.Softmax(dim=1)\n",
    ")"
   ]
  },
  {
   "cell_type": "markdown",
   "metadata": {},
   "source": [
    "ネットワークを訓練するために、多くの実験を実行し、各実行後にネットワークを更新します。実験を実行し、結果（いわゆる**トレース**）を返す関数を定義しましょう - すべての状態、行動（およびその推奨確率）、報酬を含みます:\n"
   ]
  },
  {
   "cell_type": "code",
   "execution_count": null,
   "metadata": {},
   "outputs": [],
   "source": [
    "def run_episode(max_steps_per_episode = 10000,render=False):    \n",
    "    states, actions, probs, rewards = [],[],[],[]\n",
    "    state = env.reset()\n",
    "    for _ in range(max_steps_per_episode):\n",
    "        if render:\n",
    "            env.render()\n",
    "        action_probs = model(torch.from_numpy(np.expand_dims(state,0)))[0]\n",
    "        action = np.random.choice(num_actions, p=np.squeeze(action_probs.detach().numpy()))\n",
    "        nstate, reward, done, info = env.step(action)\n",
    "        if done:\n",
    "            break\n",
    "        states.append(state)\n",
    "        actions.append(action)\n",
    "        probs.append(action_probs.detach().numpy())\n",
    "        rewards.append(reward)\n",
    "        state = nstate\n",
    "    return np.vstack(states), np.vstack(actions), np.vstack(probs), np.vstack(rewards)"
   ]
  },
  {
   "cell_type": "markdown",
   "metadata": {},
   "source": [
    "未訓練のネットワークで1つのエピソードを実行し、総報酬（エピソードの長さ）が非常に低いことを確認できます。\n"
   ]
  },
  {
   "cell_type": "code",
   "execution_count": null,
   "metadata": {},
   "outputs": [],
   "source": [
    "s, a, p, r = run_episode()\n",
    "print(f\"Total reward: {np.sum(r)}\")"
   ]
  },
  {
   "cell_type": "markdown",
   "metadata": {},
   "source": [
    "ゲームの各ステップで総報酬のベクトルを計算し、その過程でいくつかの係数 $gamma$ を使用して初期の報酬を割引するというアイデアです。また、トレーニングに影響を与える重みとして使用するため、結果のベクトルを正規化します。\n"
   ]
  },
  {
   "cell_type": "code",
   "execution_count": null,
   "metadata": {},
   "outputs": [],
   "source": [
    "eps = 0.0001\n",
    "\n",
    "def discounted_rewards(rewards,gamma=0.99,normalize=True):\n",
    "    ret = []\n",
    "    s = 0\n",
    "    for r in rewards[::-1]:\n",
    "        s = r + gamma * s\n",
    "        ret.insert(0, s)\n",
    "    if normalize:\n",
    "        ret = (ret-np.mean(ret))/(np.std(ret)+eps)\n",
    "    return ret"
   ]
  },
  {
   "cell_type": "markdown",
   "metadata": {},
   "source": [
    "さあ、実際のトレーニングを始めましょう！300エピソードを実行し、各エピソードで以下の手順を行います：\n",
    "\n",
    "1. 実験を実行し、トレースを収集します。\n",
    "2. 実行したアクションと予測された確率の差（`gradients`）を計算します。この差が小さいほど、正しいアクションを選択した確信が高まります。\n",
    "3. 割引報酬を計算し、それを`gradients`に掛け合わせます。これにより、報酬が高いステップが最終結果に低い報酬のステップよりも大きな影響を与えるようになります。\n",
    "4. ニューラルネットワークの期待されるターゲットアクションは、実行中に予測された確率の一部と、計算された`gradients`の一部から取得されます。`alpha`パラメータを使用して、`gradients`と報酬がどの程度考慮されるかを決定します。これを強化学習アルゴリズムの*学習率*と呼びます。\n",
    "5. 最後に、状態と期待されるアクションを基にネットワークをトレーニングし、このプロセスを繰り返します。\n"
   ]
  },
  {
   "cell_type": "code",
   "execution_count": null,
   "metadata": {},
   "outputs": [],
   "source": [
    "optimizer = torch.optim.Adam(model.parameters(), lr=0.01)\n",
    "\n",
    "def train_on_batch(x, y):\n",
    "    x = torch.from_numpy(x)\n",
    "    y = torch.from_numpy(y)\n",
    "    optimizer.zero_grad()\n",
    "    predictions = model(x)\n",
    "    loss = -torch.mean(torch.log(predictions) * y)\n",
    "    loss.backward()\n",
    "    optimizer.step()\n",
    "    return loss"
   ]
  },
  {
   "cell_type": "code",
   "execution_count": null,
   "metadata": {},
   "outputs": [],
   "source": [
    "alpha = 1e-4\n",
    "\n",
    "history = []\n",
    "for epoch in range(300):\n",
    "    states, actions, probs, rewards = run_episode()\n",
    "    one_hot_actions = np.eye(2)[actions.T][0]\n",
    "    gradients = one_hot_actions-probs\n",
    "    dr = discounted_rewards(rewards)\n",
    "    gradients *= dr\n",
    "    target = alpha*np.vstack([gradients])+probs\n",
    "    train_on_batch(states,target)\n",
    "    history.append(np.sum(rewards))\n",
    "    if epoch%100==0:\n",
    "        print(f\"{epoch} -> {np.sum(rewards)}\")\n",
    "\n",
    "plt.plot(history)"
   ]
  },
  {
   "cell_type": "markdown",
   "metadata": {},
   "source": [
    "では、レンダリングを行いながらエピソードを実行して結果を確認しましょう。\n"
   ]
  },
  {
   "cell_type": "code",
   "execution_count": null,
   "metadata": {},
   "outputs": [],
   "source": [
    "_ = run_episode(render=True)"
   ]
  },
  {
   "cell_type": "markdown",
   "metadata": {},
   "source": [
    "うまくいけば、ポールがかなりうまくバランスを取れるようになったことがわかるでしょう！\n",
    "\n",
    "## アクター・クリティックモデル\n",
    "\n",
    "アクター・クリティックモデルは、ポリシーグラデーションのさらなる発展形であり、ポリシーと推定報酬の両方を学習するためのニューラルネットワークを構築します。このネットワークには2つの出力（または2つの別々のネットワークとして見ることもできます）があります：\n",
    "* **アクター**は、ポリシーグラデーションモデルのように、状態の確率分布を提供して次に取るべきアクションを推奨します。\n",
    "* **クリティック**は、それらのアクションから得られる報酬を推定します。与えられた状態で将来得られる総推定報酬を返します。\n",
    "\n",
    "このようなモデルを定義してみましょう：\n"
   ]
  },
  {
   "cell_type": "code",
   "execution_count": null,
   "metadata": {},
   "outputs": [],
   "source": [
    "from itertools import count\n",
    "import torch.nn.functional as F"
   ]
  },
  {
   "cell_type": "code",
   "execution_count": null,
   "metadata": {},
   "outputs": [],
   "source": [
    "device = torch.device(\"cuda\" if torch.cuda.is_available() else \"cpu\")\n",
    "env = gym.make(\"CartPole-v1\")\n",
    "\n",
    "state_size = env.observation_space.shape[0]\n",
    "action_size = env.action_space.n\n",
    "lr = 0.0001\n",
    "\n",
    "class Actor(torch.nn.Module):\n",
    "    def __init__(self, state_size, action_size):\n",
    "        super(Actor, self).__init__()\n",
    "        self.state_size = state_size\n",
    "        self.action_size = action_size\n",
    "        self.linear1 = torch.nn.Linear(self.state_size, 128)\n",
    "        self.linear2 = torch.nn.Linear(128, 256)\n",
    "        self.linear3 = torch.nn.Linear(256, self.action_size)\n",
    "\n",
    "    def forward(self, state):\n",
    "        output = F.relu(self.linear1(state))\n",
    "        output = F.relu(self.linear2(output))\n",
    "        output = self.linear3(output)\n",
    "        distribution = torch.distributions.Categorical(F.softmax(output, dim=-1))\n",
    "        return distribution\n",
    "\n",
    "\n",
    "class Critic(torch.nn.Module):\n",
    "    def __init__(self, state_size, action_size):\n",
    "        super(Critic, self).__init__()\n",
    "        self.state_size = state_size\n",
    "        self.action_size = action_size\n",
    "        self.linear1 = torch.nn.Linear(self.state_size, 128)\n",
    "        self.linear2 = torch.nn.Linear(128, 256)\n",
    "        self.linear3 = torch.nn.Linear(256, 1)\n",
    "\n",
    "    def forward(self, state):\n",
    "        output = F.relu(self.linear1(state))\n",
    "        output = F.relu(self.linear2(output))\n",
    "        value = self.linear3(output)\n",
    "        return value"
   ]
  },
  {
   "cell_type": "markdown",
   "metadata": {},
   "source": [
    "私たちは `discounted_rewards` と `run_episode` 関数を少し修正する必要があります。\n"
   ]
  },
  {
   "cell_type": "code",
   "execution_count": null,
   "metadata": {},
   "outputs": [],
   "source": [
    "def discounted_rewards(next_value, rewards, masks, gamma=0.99):\n",
    "    R = next_value\n",
    "    returns = []\n",
    "    for step in reversed(range(len(rewards))):\n",
    "        R = rewards[step] + gamma * R * masks[step]\n",
    "        returns.insert(0, R)\n",
    "    return returns\n",
    "\n",
    "def run_episode(actor, critic, n_iters):\n",
    "    optimizerA = torch.optim.Adam(actor.parameters())\n",
    "    optimizerC = torch.optim.Adam(critic.parameters())\n",
    "    for iter in range(n_iters):\n",
    "        state = env.reset()\n",
    "        log_probs = []\n",
    "        values = []\n",
    "        rewards = []\n",
    "        masks = []\n",
    "        entropy = 0\n",
    "        env.reset()\n",
    "\n",
    "        for i in count():\n",
    "            env.render()\n",
    "            state = torch.FloatTensor(state).to(device)\n",
    "            dist, value = actor(state), critic(state)\n",
    "\n",
    "            action = dist.sample()\n",
    "            next_state, reward, done, _ = env.step(action.cpu().numpy())\n",
    "\n",
    "            log_prob = dist.log_prob(action).unsqueeze(0)\n",
    "            entropy += dist.entropy().mean()\n",
    "\n",
    "            log_probs.append(log_prob)\n",
    "            values.append(value)\n",
    "            rewards.append(torch.tensor([reward], dtype=torch.float, device=device))\n",
    "            masks.append(torch.tensor([1-done], dtype=torch.float, device=device))\n",
    "\n",
    "            state = next_state\n",
    "\n",
    "            if done:\n",
    "                print('Iteration: {}, Score: {}'.format(iter, i))\n",
    "                break\n",
    "\n",
    "\n",
    "        next_state = torch.FloatTensor(next_state).to(device)\n",
    "        next_value = critic(next_state)\n",
    "        returns = discounted_rewards(next_value, rewards, masks)\n",
    "\n",
    "        log_probs = torch.cat(log_probs)\n",
    "        returns = torch.cat(returns).detach()\n",
    "        values = torch.cat(values)\n",
    "\n",
    "        advantage = returns - values\n",
    "\n",
    "        actor_loss = -(log_probs * advantage.detach()).mean()\n",
    "        critic_loss = advantage.pow(2).mean()\n",
    "\n",
    "        optimizerA.zero_grad()\n",
    "        optimizerC.zero_grad()\n",
    "        actor_loss.backward()\n",
    "        critic_loss.backward()\n",
    "        optimizerA.step()\n",
    "        optimizerC.step()\n"
   ]
  },
  {
   "cell_type": "markdown",
   "metadata": {},
   "source": [
    "これからメインのトレーニングループを実行します。適切な損失関数を計算し、ネットワークパラメータを更新することで、手動のネットワークトレーニングプロセスを使用します。\n"
   ]
  },
  {
   "cell_type": "code",
   "execution_count": null,
   "metadata": {},
   "outputs": [],
   "source": [
    "\n",
    "actor = Actor(state_size, action_size).to(device)\n",
    "critic = Critic(state_size, action_size).to(device)\n",
    "run_episode(actor, critic, n_iters=100)"
   ]
  },
  {
   "cell_type": "markdown",
   "metadata": {},
   "source": []
  },
  {
   "cell_type": "code",
   "execution_count": null,
   "metadata": {},
   "outputs": [],
   "source": [
    "env.close()"
   ]
  },
  {
   "cell_type": "markdown",
   "metadata": {},
   "source": [
    "## まとめ\n",
    "\n",
    "このデモでは、2つの強化学習アルゴリズムを紹介しました：シンプルなポリシー勾配と、より洗練されたアクタークリティックです。これらのアルゴリズムは、状態、行動、報酬といった抽象的な概念を扱うため、非常に異なる環境にも適用可能であることが分かります。\n",
    "\n",
    "強化学習では、最終的な報酬を観察するだけで問題を解決する最適な戦略を学ぶことができます。ラベル付きデータセットが不要であるため、シミュレーションを何度も繰り返してモデルを最適化することが可能です。しかし、強化学習にはまだ多くの課題が存在しており、この興味深いAI分野にさらに注力することで、それらについて学ぶことができるでしょう。\n"
   ]
  },
  {
   "cell_type": "markdown",
   "metadata": {},
   "source": [
    "\n---\n\n**免責事項**:  \nこの文書は、AI翻訳サービス [Co-op Translator](https://github.com/Azure/co-op-translator) を使用して翻訳されています。正確性を追求しておりますが、自動翻訳には誤りや不正確な部分が含まれる可能性があることをご承知ください。元の言語で記載された文書が正式な情報源とみなされるべきです。重要な情報については、専門の人間による翻訳を推奨します。この翻訳の使用に起因する誤解や誤解釈について、当方は責任を負いません。\n"
   ]
  }
 ],
 "metadata": {
  "kernelspec": {
   "display_name": "Python 3.10.4 64-bit",
   "language": "python",
   "name": "python3"
  },
  "language_info": {
   "codemirror_mode": {
    "name": "ipython",
    "version": 3
   },
   "file_extension": ".py",
   "mimetype": "text/x-python",
   "name": "python",
   "nbconvert_exporter": "python",
   "pygments_lexer": "ipython3",
   "version": "3.10.4"
  },
  "orig_nbformat": 4,
  "vscode": {
   "interpreter": {
    "hash": "916dbcbb3f70747c44a77c7bcd40155683ae19c65e1c03b4aa3499c5328201f1"
   }
  },
  "coopTranslator": {
   "original_hash": "04f8d9978cd11281d81dd037cbf6ce20",
   "translation_date": "2025-08-30T08:52:17+00:00",
   "source_file": "lessons/6-Other/22-DeepRL/CartPole-RL-PyTorch.ipynb",
   "language_code": "ja"
  }
 },
 "nbformat": 4,
 "nbformat_minor": 2
}