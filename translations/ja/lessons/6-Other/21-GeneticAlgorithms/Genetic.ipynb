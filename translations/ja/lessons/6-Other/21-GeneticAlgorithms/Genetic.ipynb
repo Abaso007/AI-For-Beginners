{
 "cells": [
  {
   "cell_type": "markdown",
   "metadata": {
    "collapsed": true
   },
   "source": [
    "# 遺伝的アルゴリズム\n",
    "\n",
    "このノートブックは[AI for Beginners Curriculum](http://github.com/microsoft/ai-for-beginners)の一部です。\n"
   ]
  },
  {
   "cell_type": "code",
   "execution_count": 2,
   "metadata": {
    "trusted": true
   },
   "outputs": [],
   "source": [
    "import random\n",
    "import matplotlib.pyplot as plt\n",
    "import numpy as np\n",
    "import math\n",
    "import time"
   ]
  },
  {
   "cell_type": "markdown",
   "metadata": {},
   "source": [
    "## 理論の概要\n",
    "\n",
    "**遺伝的アルゴリズム** (GA) は、AIにおける**進化的アプローチ**に基づいており、集団の進化の方法を用いて、与えられた問題の最適解を得る手法です。1975年に[ジョン・ヘンリー・ホランド](https://en.wikipedia.org/wiki/John_Henry_Holland)によって提案されました。\n",
    "\n",
    "遺伝的アルゴリズムは以下の考え方に基づいています：\n",
    "* 問題の有効な解は**遺伝子**として表現できる\n",
    "* **交叉**により、2つの解を組み合わせて新しい有効な解を得ることができる\n",
    "* **選択**は、ある**適応度関数**を用いて、より最適な解を選び出すために使用される\n",
    "* **突然変異**を導入することで、最適化を不安定化させ、局所的な最小値から抜け出すことができる\n",
    "\n",
    "遺伝的アルゴリズムを実装するには、以下が必要です：\n",
    "\n",
    " * 問題の解を**遺伝子** $g\\in\\Gamma$ を用いて符号化する方法を見つける\n",
    " * 遺伝子の集合 $\\Gamma$ 上で**適応度関数** $\\mathrm{fit}: \\Gamma\\to\\mathbb{R}$ を定義する。関数値が小さいほど、より良い解を意味する。\n",
    " * 2つの遺伝子を組み合わせて新しい有効な解を得るための**交叉**メカニズム $\\mathrm{crossover}: \\Gamma^2\\to\\Gamma$ を定義する。\n",
    " * **突然変異**メカニズム $\\mathrm{mutate}: \\Gamma\\to\\Gamma$ を定義する。\n",
    "多くの場合、交叉と突然変異は、遺伝子を数列やビットベクトルとして操作する単純なアルゴリズムです。\n",
    "\n",
    "遺伝的アルゴリズムの具体的な実装はケースごとに異なりますが、全体的な構造は以下の通りです：\n",
    "\n",
    "1. 初期集団 $G\\subset\\Gamma$ を選択する\n",
    "2. このステップで実行する操作（交叉または突然変異）をランダムに選択する\n",
    "3. **交叉**:\n",
    "  * ランダムに2つの遺伝子 $g_1, g_2 \\in G$ を選択する\n",
    "  * 交叉を計算する $g=\\mathrm{crossover}(g_1,g_2)$\n",
    "  * $\\mathrm{fit}(g)<\\mathrm{fit}(g_1)$ または $\\mathrm{fit}(g)<\\mathrm{fit}(g_2)$ の場合、対応する遺伝子を $g$ に置き換える\n",
    "4. **突然変異** - ランダムに遺伝子 $g\\in G$ を選択し、それを $\\mathrm{mutate}(g)$ に置き換える\n",
    "5. ステップ2に戻り、$\\mathrm{fit}$ の値が十分小さくなるか、ステップ数の制限に達するまで繰り返す\n",
    "\n",
    "遺伝的アルゴリズムで一般的に解決される課題：\n",
    "1. スケジュールの最適化\n",
    "1. 最適なパッキング\n",
    "1. 最適な切断\n",
    "1. 全探索の高速化\n"
   ]
  },
  {
   "cell_type": "markdown",
   "metadata": {},
   "source": [
    "## 問題 1: 公平な宝物の分配\n",
    "\n",
    "**課題**:  \n",
    "2人が宝物を見つけました。その宝物には異なるサイズ（それに応じて異なる価格）のダイヤモンドが含まれています。彼らは宝物を2つの部分に分け、価格の差が0（または最小）になるようにする必要があります。\n",
    "\n",
    "**正式な定義**:  \n",
    "数値の集合 $S$ が与えられています。この集合を2つの部分集合 $S_1$ と $S_2$ に分割し、以下を満たすようにします。  \n",
    "$$\\left|\\sum_{i\\in S_1}i - \\sum_{j\\in S_2}j\\right|\\to\\min$$  \n",
    "また、$S_1\\cup S_2=S$, $S_1\\cap S_2=\\emptyset$ であること。\n",
    "\n",
    "まず、集合 $S$ を定義しましょう:\n"
   ]
  },
  {
   "cell_type": "code",
   "execution_count": 3,
   "metadata": {
    "trusted": true
   },
   "outputs": [
    {
     "name": "stdout",
     "output_type": "stream",
     "text": [
      "[8344 2197 9335 3131 5863 9429 3818 9791   15 5455 1396 9538 4872 6549\n",
      " 8587 5986 6021 9764 8102 5083 5739 7684 8498 3007 6599  820 7490 2372\n",
      " 9370 5235 3525 3154  859 1906 8159 3950 2173 2988 2050  349 8713 2284\n",
      " 4177 6033 1651 9176 5049 8201  171 5081 1216 3756 4711 2757 7738 1272\n",
      " 5650 6584 5395 9004 7797  969 8104 1283 1392 4001 5768  445  274  256\n",
      " 8239 8015 4381 9021 1189 8879 1411 3539 6526 8011  136 7230 2332  451\n",
      " 5702 2989 4320 2446 9578 8486 4027 2410 9588 8981 2177 1493 3232 9151\n",
      " 4835 5594 6859 8394  369 3200  126 4259 2283 7755 2014 2458 8327 8082\n",
      " 7413 7622 1206 5533 8751 3495 5868 8472 6850 3958 3149 4672 4810 6274\n",
      " 4700 6134 4627 4616 6656 9949  884 2256 7419 1926 7973 5319 5967 9158\n",
      " 3823 7697 9466 5675 5412 9784 5426 8209 3421 1136 6047 4429 8001 4417\n",
      " 1381  722 7350 6018 6235 7860 5853 7660 5937 6242    1 9552 3971 8302\n",
      " 2633 9227 7283  154 8599 4269 9392 8539 1630  368 2409 9351 3838 9814\n",
      " 6186 5743 5083 1325 1610  779 3643 3262 5768 8725  961 4611 6310 4788\n",
      " 1648 5951 8118 7779]\n"
     ]
    }
   ],
   "source": [
    "N = 200\n",
    "S = np.array([random.randint(1,10000) for _ in range(N)])\n",
    "print(S)"
   ]
  },
  {
   "cell_type": "markdown",
   "metadata": {},
   "source": [
    "問題の各可能な解を、バイナリベクトル $B\\in\\{0,1\\}^N$ によって符号化しましょう。ここで、元の集合 $S$ の $i$ 番目の数値がどの集合 ($S_1$ または $S_2$) に属するかを、$i$ 番目の位置の数値が示します。`generate` 関数はこれらのランダムなバイナリベクトルを生成します。\n"
   ]
  },
  {
   "cell_type": "code",
   "execution_count": 5,
   "metadata": {
    "trusted": true
   },
   "outputs": [
    {
     "name": "stdout",
     "output_type": "stream",
     "text": [
      "[1 0 0 1 1 1 1 1 0 1 1 1 0 0 1 0 1 1 1 0 0 1 1 0 1 1 0 0 1 0 1 0 1 0 1 1 1\n",
      " 0 1 1 1 0 1 0 0 1 0 0 1 1 0 1 0 1 1 0 0 1 0 0 0 1 1 0 1 1 0 0 0 0 1 0 1 0\n",
      " 1 0 0 0 0 0 1 1 0 1 0 0 1 0 1 0 0 1 1 0 0 1 1 1 0 0 1 1 0 1 1 0 0 0 0 1 1\n",
      " 1 0 1 0 0 1 1 1 1 1 1 1 1 0 1 0 1 1 1 1 1 1 0 1 0 1 0 1 0 0 1 1 1 0 0 1 1\n",
      " 0 1 1 0 1 1 0 0 0 1 1 0 0 0 0 0 0 0 0 1 1 0 1 1 1 0 0 1 1 0 1 1 0 0 1 1 0\n",
      " 0 0 0 1 0 1 1 0 1 1 0 1 0 0 0]\n"
     ]
    }
   ],
   "source": [
    "def generate(S):\n",
    "    return np.array([random.randint(0,1) for _ in S])\n",
    "\n",
    "b = generate(S)\n",
    "print(b)"
   ]
  },
  {
   "cell_type": "markdown",
   "metadata": {},
   "source": [
    "では、解の「コスト」を計算する`fit`関数を定義しましょう。それは2つの集合、$S_1$と$S_2$の合計の差になります。\n"
   ]
  },
  {
   "cell_type": "code",
   "execution_count": 6,
   "metadata": {
    "trusted": true
   },
   "outputs": [
    {
     "data": {
      "text/plain": [
       "133784"
      ]
     },
     "execution_count": 6,
     "metadata": {},
     "output_type": "execute_result"
    }
   ],
   "source": [
    "def fit(B,S=S):\n",
    "    c1 = (B*S).sum()\n",
    "    c2 = ((1-B)*S).sum()\n",
    "    return abs(c1-c2)\n",
    "\n",
    "fit(b)"
   ]
  },
  {
   "cell_type": "markdown",
   "metadata": {},
   "source": [
    "突然変異と交叉のための関数を定義する必要があります：\n",
    "* 突然変異では、ランダムに1つのビットを選択し、それを反転させます（0を1に、またはその逆に変更します）。\n",
    "* 交叉では、1つのベクトルからいくつかのビットを取り、もう1つのベクトルから別のビットを取ります。どの入力マスクからどのビットを取るかをランダムに選択するために、同じ`generate`関数を使用します。\n"
   ]
  },
  {
   "cell_type": "code",
   "execution_count": 7,
   "metadata": {
    "trusted": true
   },
   "outputs": [],
   "source": [
    "def mutate(b):\n",
    "    x = b.copy()\n",
    "    i = random.randint(0,len(b)-1)\n",
    "    x[i] = 1-x[i]\n",
    "    return x\n",
    "\n",
    "def xover(b1,b2):\n",
    "    x = generate(b1)\n",
    "    return b1*x+b2*(1-x)"
   ]
  },
  {
   "cell_type": "markdown",
   "metadata": {},
   "source": [
    "解の初期集団 $P$ をサイズ `pop_size` で作成しましょう。\n"
   ]
  },
  {
   "cell_type": "code",
   "execution_count": 8,
   "metadata": {
    "trusted": true
   },
   "outputs": [],
   "source": [
    "pop_size = 30\n",
    "P = [generate(S) for _ in range(pop_size)]"
   ]
  },
  {
   "cell_type": "markdown",
   "metadata": {},
   "source": [
    "進化を実行する主な関数です。`n` は進化を行うステップ数を表します。各ステップで以下を行います：\n",
    "* 30%の確率で突然変異を実行し、最も悪い `fit` 関数を持つ要素を突然変異した要素で置き換えます\n",
    "* 70%の確率で交叉を実行します\n",
    "\n",
    "この関数は最良の解（最良の解に対応する遺伝子）と、各イテレーションで集団内の最小の `fit` 関数の履歴を返します。\n"
   ]
  },
  {
   "cell_type": "code",
   "execution_count": 9,
   "metadata": {
    "trusted": true
   },
   "outputs": [
    {
     "name": "stdout",
     "output_type": "stream",
     "text": [
      "[0 0 0 1 1 0 0 0 0 1 1 1 0 1 0 0 0 1 0 1 0 1 0 1 0 1 1 0 0 0 0 0 1 0 1 1 0\n",
      " 0 0 0 1 1 0 0 1 0 0 0 0 0 1 0 0 1 1 1 1 1 1 1 0 1 1 0 1 1 1 1 1 0 1 0 0 0\n",
      " 0 1 1 1 0 1 0 1 1 1 1 1 0 0 0 1 1 0 1 0 0 1 0 0 1 1 1 1 1 1 1 1 0 1 0 1 1\n",
      " 0 1 1 0 0 0 0 1 1 1 1 0 1 0 0 1 0 1 1 1 0 1 0 0 0 0 0 0 1 1 0 0 0 1 1 0 0\n",
      " 1 0 1 1 1 1 1 0 1 0 1 0 1 1 1 0 0 0 1 1 0 0 0 0 0 0 1 1 1 0 1 0 0 0 1 0 1\n",
      " 0 1 0 1 0 0 1 1 1 0 1 1 0 0 1] 4\n"
     ]
    }
   ],
   "source": [
    "def evolve(P,S=S,n=2000):\n",
    "    res = []\n",
    "    for _ in range(n):\n",
    "        f = min([fit(b) for b in P])\n",
    "        res.append(f)\n",
    "        if f==0:\n",
    "            break\n",
    "        if random.randint(1,10)<3:\n",
    "            i = random.randint(0,len(P)-1)\n",
    "            b = mutate(P[i])\n",
    "            i = np.argmax([fit(z) for z in P])\n",
    "            P[i] = b\n",
    "        else:\n",
    "            i = random.randint(0,len(P)-1)\n",
    "            j = random.randint(0,len(P)-1)\n",
    "            b = xover(P[i],P[j])\n",
    "            if fit(b)<fit(P[i]):\n",
    "                P[i]=b\n",
    "            elif fit(b)<fit(P[j]):\n",
    "                P[j]=b\n",
    "            else:\n",
    "                pass\n",
    "    i = np.argmin([fit(b) for b in P])\n",
    "    return (P[i],res)\n",
    "\n",
    "(s,hist) = evolve(P)\n",
    "print(s,fit(s))"
   ]
  },
  {
   "cell_type": "markdown",
   "metadata": {},
   "source": [
    "全体の人口に対する`fit`関数がプロセス中にどのように振る舞うかを示すグラフがこちらです！`fit`関数をかなり最小化することに成功したことがわかります。\n"
   ]
  },
  {
   "cell_type": "code",
   "execution_count": 10,
   "metadata": {
    "trusted": true
   },
   "outputs": [
    {
     "data": {
      "image/png": "[encoded data removed]",
      "text/plain": [
       "<Figure size 432x288 with 1 Axes>"
      ]
     },
     "metadata": {
      "needs_background": "light"
     },
     "output_type": "display_data"
    }
   ],
   "source": [
    "plt.plot(hist)\n",
    "plt.show()"
   ]
  },
  {
   "cell_type": "markdown",
   "metadata": {},
   "source": [
    "## 問題 2: N クイーン問題\n",
    "\n",
    "**課題**:  \n",
    "$N$×$N$ サイズのチェス盤に $N$ 個のクイーンを配置し、互いに攻撃し合わないようにする必要があります。\n",
    "\n",
    "まず、遺伝的アルゴリズムを使わずに、全探索を用いてこの問題を解いてみましょう。チェス盤の状態はリスト $L$ で表現できます。このリストの $i$ 番目の数値は、$i$ 行目におけるクイーンの水平位置を示します。明らかなこととして、各解では各行に1つのクイーンしか存在せず、各行には必ずクイーンが配置されます。\n",
    "\n",
    "私たちの目標は、この問題の最初の解を見つけることであり、その後探索を停止します。この関数を簡単に拡張することで、クイーンのすべての可能な配置を生成することもできます。\n"
   ]
  },
  {
   "cell_type": "code",
   "execution_count": 11,
   "metadata": {
    "trusted": true
   },
   "outputs": [
    {
     "name": "stdout",
     "output_type": "stream",
     "text": [
      "[1, 5, 8, 6, 3, 7, 2, 4]\n"
     ]
    },
    {
     "data": {
      "text/plain": [
       "True"
      ]
     },
     "execution_count": 11,
     "metadata": {},
     "output_type": "execute_result"
    }
   ],
   "source": [
    "N = 8\n",
    "\n",
    "def checkbeats(i_new,j_new,l):\n",
    "    for i,j in enumerate(l,start=1):\n",
    "        if j==j_new:\n",
    "            return False\n",
    "        else:\n",
    "            if abs(j-j_new) == i_new-i:\n",
    "                return False\n",
    "    return True\n",
    "\n",
    "def nqueens(l,N=8,disp=True):\n",
    "    if len(l)==N:\n",
    "        if disp: print(l)\n",
    "        return True\n",
    "    else:\n",
    "        for j in range(1,N+1):\n",
    "            if checkbeats(len(l)+1,j,l):\n",
    "                l.append(j)\n",
    "                if nqueens(l,N,disp): return True\n",
    "                else: l.pop()\n",
    "        return False\n",
    "            \n",
    "nqueens([],8)\n"
   ]
  },
  {
   "cell_type": "markdown",
   "metadata": {},
   "source": [
    "では、20クイーン問題の解決にどれくらい時間がかかるか測定してみましょう。\n"
   ]
  },
  {
   "cell_type": "code",
   "execution_count": 12,
   "metadata": {
    "trusted": true
   },
   "outputs": [
    {
     "name": "stdout",
     "output_type": "stream",
     "text": [
      "10.6 s ± 2.17 s per loop (mean ± std. dev. of 7 runs, 1 loop each)\n"
     ]
    }
   ],
   "source": [
    "%timeit nqueens([],20,False)"
   ]
  },
  {
   "cell_type": "markdown",
   "metadata": {},
   "source": [
    "では、同じ問題を遺伝的アルゴリズムを使って解いてみましょう。この解法は[このブログ記事](https://kushalvyas.github.io/gen_8Q.html)に触発されています。\n",
    "\n",
    "各解を長さ$N$の同じリストで表現し、`fit`関数としては互いに攻撃し合うクイーンの数を取ります：\n"
   ]
  },
  {
   "cell_type": "code",
   "execution_count": 13,
   "metadata": {
    "trusted": true
   },
   "outputs": [],
   "source": [
    "def fit(L):\n",
    "    x=0\n",
    "    for i1,j1 in enumerate(L,1):\n",
    "        for i2,j2 in enumerate(L,1):\n",
    "            if i2>i1:\n",
    "                if j2==j1 or (abs(j2-j1)==i2-i1): x+=1\n",
    "    return x"
   ]
  },
  {
   "cell_type": "markdown",
   "metadata": {},
   "source": [
    "フィットネス関数の計算には時間がかかるため、各解をフィットネス関数の値とともに集団に保存しましょう。初期集団を生成しましょう。\n"
   ]
  },
  {
   "cell_type": "code",
   "execution_count": 14,
   "metadata": {
    "trusted": true
   },
   "outputs": [
    {
     "data": {
      "text/plain": [
       "[(array([2, 3, 8, 7, 5, 4, 1, 6]), 4),\n",
       " (array([3, 4, 5, 1, 2, 8, 6, 7]), 8),\n",
       " (array([1, 3, 7, 4, 5, 8, 6, 2]), 6),\n",
       " (array([1, 5, 4, 6, 8, 3, 7, 2]), 4),\n",
       " (array([3, 5, 7, 1, 8, 6, 4, 2]), 3)]"
      ]
     },
     "execution_count": 14,
     "metadata": {},
     "output_type": "execute_result"
    }
   ],
   "source": [
    "def generate_one(N):\n",
    "    x = np.arange(1,N+1)\n",
    "    np.random.shuffle(x)\n",
    "    return (x,fit(x))\n",
    "\n",
    "def generate(N,NP):\n",
    "    return [generate_one(N) for _ in range(NP)]\n",
    "\n",
    "generate(8,5)"
   ]
  },
  {
   "cell_type": "markdown",
   "metadata": {},
   "source": [
    "突然変異と交叉の関数を定義する必要があります。交叉は、ランダムなポイントで2つの遺伝子を分割し、異なる遺伝子の2つの部分を結合することで2つの遺伝子を組み合わせます。\n"
   ]
  },
  {
   "cell_type": "code",
   "execution_count": 15,
   "metadata": {
    "trusted": true
   },
   "outputs": [
    {
     "data": {
      "text/plain": [
       "array([1, 2, 7, 8])"
      ]
     },
     "execution_count": 15,
     "metadata": {},
     "output_type": "execute_result"
    }
   ],
   "source": [
    "def mutate(G):\n",
    "    x=random.randint(0,len(G)-1)\n",
    "    G[x]=random.randint(1,len(G))\n",
    "    return G\n",
    "    \n",
    "def xover(G1,G2):\n",
    "    x=random.randint(0,len(G1))\n",
    "    return np.concatenate((G1[:x],G2[x:]))\n",
    "\n",
    "xover([1,2,3,4],[5,6,7,8])"
   ]
  },
  {
   "cell_type": "markdown",
   "metadata": {},
   "source": []
  },
  {
   "cell_type": "code",
   "execution_count": 17,
   "metadata": {
    "trusted": true
   },
   "outputs": [],
   "source": [
    "def choose_rand(P):\n",
    "    N=len(P[0][0])\n",
    "    mf = N*(N-1)//2 # max fitness fn\n",
    "    z = [mf-x[1] for x in P]\n",
    "    tf = sum(z) # total fitness\n",
    "    w = [x/tf for x in z]\n",
    "    p = np.random.choice(len(P),2,False,p=w)\n",
    "    return p[0],p[1]\n",
    "\n",
    "def choose(P):\n",
    "    def ch(w):\n",
    "        p=[]\n",
    "        while p==[]:\n",
    "            r = random.random()\n",
    "            p = [i for i,x in enumerate(P) if x[1]>=r]\n",
    "        return random.choice(p)\n",
    "    N=len(P[0][0])\n",
    "    mf = N*(N-1)//2 # max fitness fn\n",
    "    z = [mf-x[1] for x in P]\n",
    "    tf = sum(z) # total fitness\n",
    "    w = [x/tf for x in z]\n",
    "    p1=p2=0\n",
    "    while p1==p2:\n",
    "        p1 = ch(w)\n",
    "        p2 = ch(w)\n",
    "    return p1,p2"
   ]
  },
  {
   "cell_type": "markdown",
   "metadata": {},
   "source": [
    "進化のメインループを定義しましょう。今回は、前回の例とは少し異なるロジックを使い、創造的なアプローチが可能であることを示します。完璧な解決策（適応度関数=0）を得るまでループを続けます。各ステップでは現在の世代を取り、同じサイズの新しい世代を生成します。これは、以下の手順を用いて `nxgeneration` 関数で行います。\n",
    "\n",
    "1. 最も適応度の低い解決策を除外する - これを行う `discard_unfit` 関数があります\n",
    "1. 世代にいくつかのランダムな解決策を追加する\n",
    "1. 新しい世代を `gen_size` のサイズで生成する。各新しい遺伝子について以下の手順を実行します：\n",
    "    - 適応度関数に比例した確率で、ランダムに2つの遺伝子を選択する\n",
    "    - 交叉を計算する\n",
    "    - 確率 `mutation_prob` で突然変異を適用する\n"
   ]
  },
  {
   "cell_type": "code",
   "execution_count": 20,
   "metadata": {
    "trusted": true
   },
   "outputs": [
    {
     "data": {
      "text/plain": [
       "(array([4, 7, 5, 3, 1, 6, 8, 2]), 0)"
      ]
     },
     "execution_count": 20,
     "metadata": {},
     "output_type": "execute_result"
    }
   ],
   "source": [
    "mutation_prob = 0.1\n",
    "\n",
    "def discard_unfit(P):\n",
    "    P.sort(key=lambda x:x[1])\n",
    "    return P[:len(P)//3]\n",
    "\n",
    "def nxgeneration(P):\n",
    "    gen_size=len(P)\n",
    "    P = discard_unfit(P)\n",
    "    P.extend(generate(len(P[0][0]),3))\n",
    "    new_gen = []\n",
    "    for _ in range(gen_size):\n",
    "        p1,p2 = choose_rand(P)\n",
    "        n = xover(P[p1][0],P[p2][0])\n",
    "        if random.random()<mutation_prob:\n",
    "            n=mutate(n)\n",
    "        nf = fit(n)\n",
    "        new_gen.append((n,nf))\n",
    "        '''\n",
    "        if (nf<=P[p1][1]) or (nf<=P[p2][1]):\n",
    "            new_gen.append((n,nf))\n",
    "        elif (P[p1][1]<P[p2][1]):\n",
    "            new_gen.append(P[p1])\n",
    "        else:\n",
    "            new_gen.append(P[p2])\n",
    "        '''\n",
    "    return new_gen\n",
    "    \n",
    "def genetic(N,pop_size=100):\n",
    "    P = generate(N,pop_size)\n",
    "    mf = min([x[1] for x in P])\n",
    "    n=0\n",
    "    while mf>0:\n",
    "        #print(\"Generation {0}, fit={1}\".format(n,mf))\n",
    "        n+=1\n",
    "        mf = min([x[1] for x in P])\n",
    "        P = nxgeneration(P)\n",
    "    mi = np.argmin([x[1] for x in P])\n",
    "    return P[mi]\n",
    "\n",
    "genetic(8)"
   ]
  },
  {
   "cell_type": "markdown",
   "metadata": {},
   "source": [
    "ほとんどの場合、私たちは比較的迅速に解決策を見つけることができるのは興味深いことですが、まれなケースでは最適化が局所的な最小値に達し、プロセスが長時間停滞することがあります。平均時間を測定する際にはそれを考慮することが重要です。ほとんどの場合、遺伝的アルゴリズムは完全探索よりも速いですが、場合によっては時間がかかることがあります。この問題を克服するために、考慮する世代数を制限することが理にかなっている場合があり、解決策を見つけることができない場合は、最初からやり直すことができます。\n"
   ]
  },
  {
   "cell_type": "code",
   "execution_count": 19,
   "metadata": {
    "trusted": true
   },
   "outputs": [
    {
     "name": "stdout",
     "output_type": "stream",
     "text": [
      "The slowest run took 18.71 times longer than the fastest. This could mean that an intermediate result is being cached.\n",
      "26.4 s ± 28.7 s per loop (mean ± std. dev. of 7 runs, 1 loop each)\n"
     ]
    }
   ],
   "source": [
    "%timeit genetic(10)"
   ]
  },
  {
   "cell_type": "markdown",
   "metadata": {},
   "source": [
    "\n---\n\n**免責事項**:  \nこの文書は、AI翻訳サービス [Co-op Translator](https://github.com/Azure/co-op-translator) を使用して翻訳されています。正確性を追求しておりますが、自動翻訳には誤りや不正確な部分が含まれる可能性があります。元の言語で記載された文書を正式な情報源としてご参照ください。重要な情報については、専門の人間による翻訳を推奨します。この翻訳の使用に起因する誤解や誤解釈について、当方は責任を負いません。\n"
   ]
  }
 ],
 "metadata": {
  "interpreter": {
   "hash": "86193a1ab0ba47eac1c69c1756090baa3b420b3eea7d4aafab8b85f8b312f0c5"
  },
  "kernelspec": {
   "display_name": "Python 3.6",
   "language": "python",
   "name": "python3"
  },
  "language_info": {
   "codemirror_mode": {
    "name": "ipython",
    "version": 3
   },
   "file_extension": ".py",
   "mimetype": "text/x-python",
   "name": "python",
   "nbconvert_exporter": "python",
   "pygments_lexer": "ipython3",
   "version": "3.9.5"
  },
  "coopTranslator": {
   "original_hash": "1012c117808753433f6e2696e775ff4b",
   "translation_date": "2025-08-30T08:48:15+00:00",
   "source_file": "lessons/6-Other/21-GeneticAlgorithms/Genetic.ipynb",
   "language_code": "ja"
  }
 },
 "nbformat": 4,
 "nbformat_minor": 2
}