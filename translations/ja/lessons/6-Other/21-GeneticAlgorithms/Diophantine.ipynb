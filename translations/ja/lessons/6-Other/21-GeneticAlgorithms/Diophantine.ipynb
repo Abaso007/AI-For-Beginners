{
 "cells": [
  {
   "cell_type": "markdown",
   "metadata": {},
   "source": [
    "## 課題: ディオファントス方程式\n",
    "\n",
    "> この課題は[AI for Beginners Curriculum](http://github.com/microsoft/ai-for-beginners)の一部であり、[この投稿](https://habr.com/post/128704/)に触発されています。\n",
    "\n",
    "あなたの目標は、いわゆる**ディオファントス方程式**を解くことです。これは整数の解と整数の係数を持つ方程式です。例えば、次の方程式を考えてみてください:\n",
    "\n",
    "$$a+2b+3c+4d=30$$\n",
    "\n",
    "この方程式を満たす整数解 $a$,$b$,$c$,$d\\in\\mathbb{N}$ を見つける必要があります。\n",
    "\n",
    "ヒント:\n",
    "1. 解を区間 [0;30] の範囲で考えることができます。\n",
    "1. 遺伝子として、解の値のリストを使用することを検討してください。\n"
   ]
  },
  {
   "cell_type": "markdown",
   "metadata": {},
   "source": []
  },
  {
   "cell_type": "markdown",
   "metadata": {},
   "source": [
    "\n---\n\n**免責事項**:  \nこの文書は、AI翻訳サービス [Co-op Translator](https://github.com/Azure/co-op-translator) を使用して翻訳されています。正確性を期すよう努めておりますが、自動翻訳には誤りや不正確な表現が含まれる可能性があります。原文（元の言語で記載された文書）が公式な情報源と見なされるべきです。重要な情報については、専門の人間による翻訳を推奨します。この翻訳の利用に起因する誤解や誤認について、当方は一切の責任を負いません。\n"
   ]
  }
 ],
 "metadata": {
  "language_info": {
   "name": "python"
  },
  "orig_nbformat": 4,
  "coopTranslator": {
   "original_hash": "a967e1fa1e11ab2b6467b19349a4a9aa",
   "translation_date": "2025-08-30T08:47:08+00:00",
   "source_file": "lessons/6-Other/21-GeneticAlgorithms/Diophantine.ipynb",
   "language_code": "ja"
  }
 },
 "nbformat": 4,
 "nbformat_minor": 2
}