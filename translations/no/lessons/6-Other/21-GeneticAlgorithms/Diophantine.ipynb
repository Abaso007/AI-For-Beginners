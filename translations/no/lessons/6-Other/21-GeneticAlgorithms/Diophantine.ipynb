{
 "cells": [
  {
   "cell_type": "markdown",
   "metadata": {},
   "source": [
    "## Oppgave: Diofantiske ligninger\n",
    "\n",
    "> Denne oppgaven er en del av [AI for Beginners Curriculum](http://github.com/microsoft/ai-for-beginners) og er inspirert av [denne artikkelen](https://habr.com/post/128704/).\n",
    "\n",
    "Målet ditt er å løse den såkalte **Diofantiske ligningen** - en ligning med heltallsrøtter og heltallskoeffisienter. For eksempel, vurder følgende ligning:\n",
    "\n",
    "$$a+2b+3c+4d=30$$\n",
    "\n",
    "Du må finne heltallsrøtter $a$,$b$,$c$,$d\\in\\mathbb{N}$ som oppfyller denne ligningen.\n",
    "\n",
    "Tips:\n",
    "1. Du kan anta at røttene ligger i intervallet [0;30]\n",
    "1. Som et gen, vurder å bruke listen over rotverdier\n"
   ]
  },
  {
   "cell_type": "markdown",
   "metadata": {},
   "source": []
  },
  {
   "cell_type": "markdown",
   "metadata": {},
   "source": [
    "\n---\n\n**Ansvarsfraskrivelse**:  \nDette dokumentet er oversatt ved hjelp av AI-oversettelsestjenesten [Co-op Translator](https://github.com/Azure/co-op-translator). Selv om vi tilstreber nøyaktighet, vær oppmerksom på at automatiske oversettelser kan inneholde feil eller unøyaktigheter. Det originale dokumentet på sitt opprinnelige språk bør anses som den autoritative kilden. For kritisk informasjon anbefales profesjonell menneskelig oversettelse. Vi er ikke ansvarlige for misforståelser eller feiltolkninger som oppstår ved bruk av denne oversettelsen.\n"
   ]
  }
 ],
 "metadata": {
  "language_info": {
   "name": "python"
  },
  "orig_nbformat": 4,
  "coopTranslator": {
   "original_hash": "a967e1fa1e11ab2b6467b19349a4a9aa",
   "translation_date": "2025-08-28T16:08:32+00:00",
   "source_file": "lessons/6-Other/21-GeneticAlgorithms/Diophantine.ipynb",
   "language_code": "no"
  }
 },
 "nbformat": 4,
 "nbformat_minor": 2
}