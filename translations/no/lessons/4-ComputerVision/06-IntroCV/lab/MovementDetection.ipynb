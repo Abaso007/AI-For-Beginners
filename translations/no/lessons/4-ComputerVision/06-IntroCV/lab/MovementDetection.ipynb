{
 "cells": [
  {
   "cell_type": "markdown",
   "metadata": {},
   "source": [
    "## Påvisning av håndbevegelse ved bruk av optisk flyt\n",
    "\n",
    "Dette laboratoriet er en del av [AI for Beginners Curriculum](http://aka.ms/ai-beginners).\n",
    "\n",
    "Se på [denne videoen](../../../../../../lessons/4-ComputerVision/06-IntroCV/lab/palm-movement.mp4), der en persons håndflate beveger seg til venstre/høyre/opp/ned på en stabil bakgrunn.\n",
    "\n",
    "**Målet ditt** vil være å bruke optisk flyt for å avgjøre hvilke deler av videoen som inneholder opp/ned/venstre/høyre bevegelser.\n",
    "\n",
    "Start med å hente videorammer som beskrevet i forelesningen:\n"
   ]
  },
  {
   "cell_type": "code",
   "execution_count": null,
   "metadata": {},
   "outputs": [],
   "source": [
    "# Code here"
   ]
  },
  {
   "cell_type": "markdown",
   "metadata": {},
   "source": [
    "Nå, beregn tette optiske flytrammer som beskrevet i forelesningen, og konverter tett optisk flyt til polarkoordinater:\n"
   ]
  },
  {
   "cell_type": "code",
   "execution_count": null,
   "metadata": {},
   "outputs": [],
   "source": [
    "# Code here"
   ]
  },
  {
   "cell_type": "markdown",
   "metadata": {},
   "source": [
    "Bygg et histogram over retninger for hver optiske flytramme. Et histogram viser hvor mange vektorer som faller innenfor en bestemt kategori, og det bør skille ut ulike bevegelser på rammen.\n",
    "\n",
    "> Du kan også vurdere å nullstille alle vektorer med en størrelse under en viss terskel. Dette vil fjerne små ekstra bevegelser i videoen, som øyne og hode.\n",
    "\n",
    "Plott histogrammene for noen av rammene.\n"
   ]
  },
  {
   "cell_type": "code",
   "execution_count": null,
   "metadata": {},
   "outputs": [],
   "source": [
    "# Code here"
   ]
  },
  {
   "cell_type": "markdown",
   "metadata": {},
   "source": [
    "Når du ser på histogrammer, bør det være ganske enkelt å avgjøre bevegelsesretningen. Du må velge de boksene som tilsvarer opp/ned/venstre/høyre retninger, og som er over en viss terskel.\n"
   ]
  },
  {
   "cell_type": "code",
   "execution_count": null,
   "metadata": {},
   "outputs": [],
   "source": [
    "# Code here"
   ]
  },
  {
   "cell_type": "markdown",
   "metadata": {},
   "source": [
    "Gratulerer! Hvis du har utført alle trinnene ovenfor, har du fullført laben!\n"
   ]
  },
  {
   "cell_type": "markdown",
   "metadata": {},
   "source": [
    "\n---\n\n**Ansvarsfraskrivelse**:  \nDette dokumentet er oversatt ved hjelp av AI-oversettelsestjenesten [Co-op Translator](https://github.com/Azure/co-op-translator). Selv om vi tilstreber nøyaktighet, vennligst vær oppmerksom på at automatiserte oversettelser kan inneholde feil eller unøyaktigheter. Det originale dokumentet på sitt opprinnelige språk bør betraktes som den autoritative kilden. For kritisk informasjon anbefales profesjonell menneskelig oversettelse. Vi er ikke ansvarlige for eventuelle misforståelser eller feiltolkninger som oppstår ved bruk av denne oversettelsen.\n"
   ]
  }
 ],
 "metadata": {
  "language_info": {
   "name": "python"
  },
  "orig_nbformat": 4,
  "coopTranslator": {
   "original_hash": "153d9e417e079bf62f8f693002d0deaf",
   "translation_date": "2025-08-28T16:39:49+00:00",
   "source_file": "lessons/4-ComputerVision/06-IntroCV/lab/MovementDetection.ipynb",
   "language_code": "no"
  }
 },
 "nbformat": 4,
 "nbformat_minor": 2
}