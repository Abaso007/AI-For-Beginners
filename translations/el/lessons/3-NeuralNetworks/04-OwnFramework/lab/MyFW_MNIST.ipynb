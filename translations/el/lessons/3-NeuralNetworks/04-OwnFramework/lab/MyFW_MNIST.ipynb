{
 "cells": [
  {
   "cell_type": "markdown",
   "metadata": {},
   "source": [
    "# Ταξινόμηση Ψηφίων MNIST με το Δικό μας Πλαίσιο\n",
    "\n",
    "Εργαστηριακή Άσκηση από το [Πρόγραμμα Σπουδών AI για Αρχάριους](https://github.com/microsoft/ai-for-beginners).\n",
    "\n",
    "### Ανάγνωση του Συνόλου Δεδομένων\n",
    "\n",
    "Αυτός ο κώδικας κατεβάζει το σύνολο δεδομένων από το αποθετήριο στο διαδίκτυο. Μπορείτε επίσης να αντιγράψετε χειροκίνητα το σύνολο δεδομένων από τον κατάλογο `/data` του αποθετηρίου του Προγράμματος Σπουδών AI.\n"
   ]
  },
  {
   "cell_type": "code",
   "execution_count": 4,
   "metadata": {
    "tags": []
   },
   "outputs": [
    {
     "name": "stderr",
     "output_type": "stream",
     "text": [
      "  % Total    % Received % Xferd  Average Speed   Time    Time     Time  Current\n",
      "                                 Dload  Upload   Total   Spent    Left  Speed\n",
      "\n",
      "  0     0    0     0    0     0      0      0 --:--:-- --:--:-- --:--:--     0\n",
      "100  9.9M  100  9.9M    0     0   9.9M      0  0:00:01 --:--:--  0:00:01 15.8M\n"
     ]
    }
   ],
   "source": [
    "!rm *.pkl\n",
    "!wget https://raw.githubusercontent.com/microsoft/AI-For-Beginners/main/data/mnist.pkl.gz\n",
    "!gzip -d mnist.pkl.gz"
   ]
  },
  {
   "cell_type": "code",
   "execution_count": 3,
   "metadata": {},
   "outputs": [],
   "source": [
    "import pickle\n",
    "with open('mnist.pkl','rb') as f:\n",
    "    MNIST = pickle.load(f)"
   ]
  },
  {
   "cell_type": "code",
   "execution_count": 4,
   "metadata": {},
   "outputs": [],
   "source": [
    "labels = MNIST['Train']['Labels']\n",
    "data = MNIST['Train']['Features']"
   ]
  },
  {
   "cell_type": "markdown",
   "metadata": {},
   "source": [
    "Ας δούμε ποιο είναι το σχήμα των δεδομένων που έχουμε:\n"
   ]
  },
  {
   "cell_type": "code",
   "execution_count": 5,
   "metadata": {},
   "outputs": [
    {
     "data": {
      "text/plain": [
       "(42000, 784)"
      ]
     },
     "execution_count": 5,
     "metadata": {},
     "output_type": "execute_result"
    }
   ],
   "source": [
    "data.shape"
   ]
  },
  {
   "cell_type": "markdown",
   "metadata": {},
   "source": [
    "### Διαχωρισμός των Δεδομένων\n",
    "\n",
    "Θα χρησιμοποιήσουμε το Scikit Learn για να διαχωρίσουμε τα δεδομένα σε σύνολο εκπαίδευσης και σύνολο δοκιμής:\n"
   ]
  },
  {
   "cell_type": "code",
   "execution_count": 6,
   "metadata": {},
   "outputs": [
    {
     "name": "stdout",
     "output_type": "stream",
     "text": [
      "Train samples: 33600, test samples: 8400\n"
     ]
    }
   ],
   "source": [
    "from sklearn.model_selection import train_test_split\n",
    "\n",
    "features_train, features_test, labels_train, labels_test = train_test_split(data,labels,test_size=0.2)\n",
    "\n",
    "print(f\"Train samples: {len(features_train)}, test samples: {len(features_test)}\")"
   ]
  },
  {
   "cell_type": "markdown",
   "metadata": {},
   "source": [
    "### Οδηγίες\n",
    "\n",
    "1. Πάρτε τον κώδικα του πλαισίου από το μάθημα και επικολλήστε τον σε αυτό το σημειωματάριο ή (ακόμα καλύτερα) σε ένα ξεχωριστό Python module.\n",
    "1. Ορίστε και εκπαιδεύστε έναν μονοστρωματικό perceptron, παρατηρώντας την ακρίβεια εκπαίδευσης και επικύρωσης κατά τη διάρκεια της εκπαίδευσης.\n",
    "1. Προσπαθήστε να κατανοήσετε αν συνέβη υπερπροσαρμογή και προσαρμόστε τις παραμέτρους του στρώματος για να βελτιώσετε την ακρίβεια.\n",
    "1. Επαναλάβετε τα προηγούμενα βήματα για perceptrons με 2 και 3 στρώματα. Προσπαθήστε να πειραματιστείτε με διαφορετικές συναρτήσεις ενεργοποίησης μεταξύ των στρωμάτων.\n",
    "1. Προσπαθήστε να απαντήσετε στις παρακάτω ερωτήσεις:\n",
    "    - Επηρεάζει η συνάρτηση ενεργοποίησης μεταξύ των στρωμάτων την απόδοση του δικτύου;\n",
    "    - Χρειαζόμαστε δίκτυο με 2 ή 3 στρώματα για αυτή την εργασία;\n",
    "    - Αντιμετωπίσατε προβλήματα κατά την εκπαίδευση του δικτύου; Ειδικά καθώς αυξάνεται ο αριθμός των στρωμάτων.\n",
    "    - Πώς συμπεριφέρονται τα βάρη του δικτύου κατά τη διάρκεια της εκπαίδευσης; Μπορείτε να σχεδιάσετε τη μέγιστη απόλυτη τιμή των βαρών σε σχέση με τις εποχές για να κατανοήσετε τη σχέση.\n"
   ]
  },
  {
   "cell_type": "code",
   "execution_count": null,
   "metadata": {},
   "outputs": [],
   "source": []
  },
  {
   "cell_type": "markdown",
   "metadata": {},
   "source": [
    "\n---\n\n**Αποποίηση Ευθύνης**:  \nΑυτό το έγγραφο έχει μεταφραστεί χρησιμοποιώντας την υπηρεσία αυτόματης μετάφρασης AI [Co-op Translator](https://github.com/Azure/co-op-translator). Παρόλο που καταβάλλουμε προσπάθειες για ακρίβεια, παρακαλούμε να γνωρίζετε ότι οι αυτόματες μεταφράσεις ενδέχεται να περιέχουν σφάλματα ή ανακρίβειες. Το πρωτότυπο έγγραφο στη μητρική του γλώσσα θα πρέπει να θεωρείται η αυθεντική πηγή. Για κρίσιμες πληροφορίες, συνιστάται επαγγελματική ανθρώπινη μετάφραση. Δεν φέρουμε ευθύνη για τυχόν παρεξηγήσεις ή εσφαλμένες ερμηνείες που προκύπτουν από τη χρήση αυτής της μετάφρασης.\n"
   ]
  }
 ],
 "metadata": {
  "kernelspec": {
   "display_name": "Python 3.7.4 64-bit (conda)",
   "metadata": {
    "interpreter": {
     "hash": "86193a1ab0ba47eac1c69c1756090baa3b420b3eea7d4aafab8b85f8b312f0c5"
    }
   },
   "name": "python3"
  },
  "language_info": {
   "codemirror_mode": {
    "name": "ipython",
    "version": 3
   },
   "file_extension": ".py",
   "mimetype": "text/x-python",
   "name": "python",
   "nbconvert_exporter": "python",
   "pygments_lexer": "ipython3",
   "version": "3.9.5"
  },
  "orig_nbformat": 2,
  "coopTranslator": {
   "original_hash": "6fa055f484eb5d6bdf41166a356d3abf",
   "translation_date": "2025-08-29T10:20:56+00:00",
   "source_file": "lessons/3-NeuralNetworks/04-OwnFramework/lab/MyFW_MNIST.ipynb",
   "language_code": "el"
  }
 },
 "nbformat": 4,
 "nbformat_minor": 2
}