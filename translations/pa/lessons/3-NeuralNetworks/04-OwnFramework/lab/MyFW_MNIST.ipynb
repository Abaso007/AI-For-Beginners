{
 "cells": [
  {
   "cell_type": "markdown",
   "metadata": {},
   "source": [
    "# MNIST ਅੰਕ ਵਰਗੀਕਰਨ ਸਾਡੇ ਆਪਣੇ ਫਰੇਮਵਰਕ ਨਾਲ\n",
    "\n",
    "[AI for Beginners Curriculum](https://github.com/microsoft/ai-for-beginners) ਤੋਂ ਲੈਬ ਅਸਾਈਨਮੈਂਟ।\n",
    "\n",
    "### ਡੇਟਾਸੈੱਟ ਪੜ੍ਹਨਾ\n",
    "\n",
    "ਇਹ ਕੋਡ ਇੰਟਰਨੈਟ 'ਤੇ ਮੌਜੂਦ ਰਿਪੋਜ਼ਟਰੀ ਤੋਂ ਡੇਟਾਸੈੱਟ ਡਾਊਨਲੋਡ ਕਰਦਾ ਹੈ। ਤੁਸੀਂ ਡੇਟਾਸੈੱਟ ਨੂੰ AI Curriculum ਰਿਪੋ ਦੀ `/data` ਡਾਇਰੈਕਟਰੀ ਤੋਂ ਹੱਥੋਂ ਵੀ ਕਾਪੀ ਕਰ ਸਕਦੇ ਹੋ।\n"
   ]
  },
  {
   "cell_type": "code",
   "execution_count": 4,
   "metadata": {
    "tags": []
   },
   "outputs": [
    {
     "name": "stderr",
     "output_type": "stream",
     "text": [
      "  % Total    % Received % Xferd  Average Speed   Time    Time     Time  Current\n",
      "                                 Dload  Upload   Total   Spent    Left  Speed\n",
      "\n",
      "  0     0    0     0    0     0      0      0 --:--:-- --:--:-- --:--:--     0\n",
      "100  9.9M  100  9.9M    0     0   9.9M      0  0:00:01 --:--:--  0:00:01 15.8M\n"
     ]
    }
   ],
   "source": [
    "!rm *.pkl\n",
    "!wget https://raw.githubusercontent.com/microsoft/AI-For-Beginners/main/data/mnist.pkl.gz\n",
    "!gzip -d mnist.pkl.gz"
   ]
  },
  {
   "cell_type": "code",
   "execution_count": 3,
   "metadata": {},
   "outputs": [],
   "source": [
    "import pickle\n",
    "with open('mnist.pkl','rb') as f:\n",
    "    MNIST = pickle.load(f)"
   ]
  },
  {
   "cell_type": "code",
   "execution_count": 4,
   "metadata": {},
   "outputs": [],
   "source": [
    "labels = MNIST['Train']['Labels']\n",
    "data = MNIST['Train']['Features']"
   ]
  },
  {
   "cell_type": "markdown",
   "metadata": {},
   "source": [
    "ਆਓ ਵੇਖੀਏ ਸਾਡੇ ਕੋਲ ਡਾਟਾ ਦਾ ਆਕਾਰ ਕੀ ਹੈ:\n"
   ]
  },
  {
   "cell_type": "code",
   "execution_count": 5,
   "metadata": {},
   "outputs": [
    {
     "data": {
      "text/plain": [
       "(42000, 784)"
      ]
     },
     "execution_count": 5,
     "metadata": {},
     "output_type": "execute_result"
    }
   ],
   "source": [
    "data.shape"
   ]
  },
  {
   "cell_type": "markdown",
   "metadata": {},
   "source": [
    "### ਡਾਟਾ ਵੰਡਣਾ\n",
    "\n",
    "ਅਸੀਂ ਡਾਟਾ ਨੂੰ ਟ੍ਰੇਨਿੰਗ ਅਤੇ ਟੈਸਟ ਡਾਟਾਸੈੱਟ ਵਿੱਚ ਵੰਡਣ ਲਈ Scikit Learn ਦੀ ਵਰਤੋਂ ਕਰਾਂਗੇ:\n"
   ]
  },
  {
   "cell_type": "code",
   "execution_count": 6,
   "metadata": {},
   "outputs": [
    {
     "name": "stdout",
     "output_type": "stream",
     "text": [
      "Train samples: 33600, test samples: 8400\n"
     ]
    }
   ],
   "source": [
    "from sklearn.model_selection import train_test_split\n",
    "\n",
    "features_train, features_test, labels_train, labels_test = train_test_split(data,labels,test_size=0.2)\n",
    "\n",
    "print(f\"Train samples: {len(features_train)}, test samples: {len(features_test)}\")"
   ]
  },
  {
   "cell_type": "markdown",
   "metadata": {},
   "source": [
    "### ਹਦਾਇਤਾਂ\n",
    "\n",
    "1. ਪਾਠ ਵਿੱਚ ਦਿੱਤੇ ਗਏ ਫਰੇਮਵਰਕ ਕੋਡ ਨੂੰ ਇਸ ਨੋਟਬੁੱਕ ਵਿੱਚ ਪੇਸਟ ਕਰੋ, ਜਾਂ (ਹੋਰ ਵਧੀਆ) ਇਸਨੂੰ ਇੱਕ ਵੱਖਰੇ Python ਮੋਡੀਊਲ ਵਿੱਚ ਪੇਸਟ ਕਰੋ।\n",
    "1. ਇੱਕ-ਪਰਤ ਵਾਲੇ perceptron ਨੂੰ ਪਰਿਭਾਸ਼ਿਤ ਕਰੋ ਅਤੇ ਟ੍ਰੇਨ ਕਰੋ, ਟ੍ਰੇਨਿੰਗ ਅਤੇ ਵੈਲਿਡੇਸ਼ਨ ਐਕਯੂਰੇਸੀ ਨੂੰ ਟ੍ਰੇਨਿੰਗ ਦੌਰਾਨ ਦੇਖੋ।\n",
    "1. ਸਮਝਣ ਦੀ ਕੋਸ਼ਿਸ਼ ਕਰੋ ਕਿ ਕੀ overfitting ਹੋਇਆ ਹੈ, ਅਤੇ ਐਕਯੂਰੇਸੀ ਨੂੰ ਸੁਧਾਰਨ ਲਈ ਪਰਤਾਂ ਦੇ ਪੈਰਾਮੀਟਰਾਂ ਨੂੰ ਸਮਾਝੋ।\n",
    "1. ਪਿਛਲੇ ਕਦਮਾਂ ਨੂੰ 2- ਅਤੇ 3-ਪਰਤ ਵਾਲੇ perceptrons ਲਈ ਦੁਹਰਾਓ। ਪਰਤਾਂ ਦੇ ਵਿਚਕਾਰ ਵੱਖ-ਵੱਖ activation functions ਨਾਲ ਪ੍ਰਯੋਗ ਕਰਨ ਦੀ ਕੋਸ਼ਿਸ਼ ਕਰੋ।\n",
    "1. ਹੇਠਾਂ ਦਿੱਤੇ ਸਵਾਲਾਂ ਦੇ ਜਵਾਬ ਦੇਣ ਦੀ ਕੋਸ਼ਿਸ਼ ਕਰੋ:\n",
    "    - ਕੀ ਪਰਤਾਂ ਦੇ ਵਿਚਕਾਰ ਵਾਲਾ activation function ਨੈੱਟਵਰਕ ਦੀ ਕਾਰਗੁਜ਼ਾਰੀ 'ਤੇ ਅਸਰ ਪਾਉਂਦਾ ਹੈ?\n",
    "    - ਕੀ ਇਸ ਕੰਮ ਲਈ ਸਾਨੂੰ 2- ਜਾਂ 3-ਪਰਤਾਂ ਵਾਲੇ ਨੈੱਟਵਰਕ ਦੀ ਲੋੜ ਹੈ?\n",
    "    - ਕੀ ਤੁਹਾਨੂੰ ਨੈੱਟਵਰਕ ਨੂੰ ਟ੍ਰੇਨ ਕਰਨ ਵਿੱਚ ਕੋਈ ਸਮੱਸਿਆ ਆਈ? ਖਾਸ ਕਰਕੇ ਜਦੋਂ ਪਰਤਾਂ ਦੀ ਗਿਣਤੀ ਵਧੀ।\n",
    "    - ਟ੍ਰੇਨਿੰਗ ਦੌਰਾਨ ਨੈੱਟਵਰਕ ਦੇ weights ਕਿਵੇਂ ਵਰਤਾਅ ਕਰਦੇ ਹਨ? ਤੁਸੀਂ epoch ਦੇ ਮੁਕਾਬਲੇ weights ਦੇ max abs value ਨੂੰ ਪਲਾਟ ਕਰਕੇ ਇਸ ਸੰਬੰਧ ਨੂੰ ਸਮਝ ਸਕਦੇ ਹੋ।\n"
   ]
  },
  {
   "cell_type": "code",
   "execution_count": null,
   "metadata": {},
   "outputs": [],
   "source": []
  },
  {
   "cell_type": "markdown",
   "metadata": {},
   "source": [
    "\n---\n\n**ਅਸਵੀਕਰਤੀ**:  \nਇਹ ਦਸਤਾਵੇਜ਼ AI ਅਨੁਵਾਦ ਸੇਵਾ [Co-op Translator](https://github.com/Azure/co-op-translator) ਦੀ ਵਰਤੋਂ ਕਰਕੇ ਅਨੁਵਾਦ ਕੀਤਾ ਗਿਆ ਹੈ। ਜਦੋਂ ਕਿ ਅਸੀਂ ਸਹੀ ਹੋਣ ਦਾ ਯਤਨ ਕਰਦੇ ਹਾਂ, ਕਿਰਪਾ ਕਰਕੇ ਧਿਆਨ ਦਿਓ ਕਿ ਸਵੈਚਾਲਿਤ ਅਨੁਵਾਦਾਂ ਵਿੱਚ ਗਲਤੀਆਂ ਜਾਂ ਅਸੁਚਤਤਾਵਾਂ ਹੋ ਸਕਦੀਆਂ ਹਨ। ਮੂਲ ਦਸਤਾਵੇਜ਼, ਜੋ ਇਸਦੀ ਮੂਲ ਭਾਸ਼ਾ ਵਿੱਚ ਹੈ, ਨੂੰ ਅਧਿਕਾਰਤ ਸਰੋਤ ਮੰਨਿਆ ਜਾਣਾ ਚਾਹੀਦਾ ਹੈ। ਮਹੱਤਵਪੂਰਨ ਜਾਣਕਾਰੀ ਲਈ, ਪੇਸ਼ੇਵਰ ਮਨੁੱਖੀ ਅਨੁਵਾਦ ਦੀ ਸਿਫਾਰਸ਼ ਕੀਤੀ ਜਾਂਦੀ ਹੈ। ਇਸ ਅਨੁਵਾਦ ਦੀ ਵਰਤੋਂ ਤੋਂ ਪੈਦਾ ਹੋਣ ਵਾਲੇ ਕਿਸੇ ਵੀ ਗਲਤਫਹਿਮੀ ਜਾਂ ਗਲਤ ਵਿਆਖਿਆ ਲਈ ਅਸੀਂ ਜ਼ਿੰਮੇਵਾਰ ਨਹੀਂ ਹਾਂ।\n"
   ]
  }
 ],
 "metadata": {
  "kernelspec": {
   "display_name": "Python 3.7.4 64-bit (conda)",
   "metadata": {
    "interpreter": {
     "hash": "86193a1ab0ba47eac1c69c1756090baa3b420b3eea7d4aafab8b85f8b312f0c5"
    }
   },
   "name": "python3"
  },
  "language_info": {
   "codemirror_mode": {
    "name": "ipython",
    "version": 3
   },
   "file_extension": ".py",
   "mimetype": "text/x-python",
   "name": "python",
   "nbconvert_exporter": "python",
   "pygments_lexer": "ipython3",
   "version": "3.9.5"
  },
  "orig_nbformat": 2,
  "coopTranslator": {
   "original_hash": "6fa055f484eb5d6bdf41166a356d3abf",
   "translation_date": "2025-08-28T08:44:13+00:00",
   "source_file": "lessons/3-NeuralNetworks/04-OwnFramework/lab/MyFW_MNIST.ipynb",
   "language_code": "pa"
  }
 },
 "nbformat": 4,
 "nbformat_minor": 2
}