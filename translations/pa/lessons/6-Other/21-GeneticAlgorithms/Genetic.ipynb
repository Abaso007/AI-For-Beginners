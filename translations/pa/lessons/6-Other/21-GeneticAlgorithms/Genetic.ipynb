{
 "cells": [
  {
   "cell_type": "markdown",
   "metadata": {
    "collapsed": true
   },
   "source": [
    "# ਜੈਨੇਟਿਕ ਐਲਗੋਰਿਥਮ\n",
    "\n",
    "ਇਹ ਨੋਟਬੁੱਕ [AI for Beginners Curriculum](http://github.com/microsoft/ai-for-beginners) ਦਾ ਹਿੱਸਾ ਹੈ।\n"
   ]
  },
  {
   "cell_type": "code",
   "execution_count": 2,
   "metadata": {
    "trusted": true
   },
   "outputs": [],
   "source": [
    "import random\n",
    "import matplotlib.pyplot as plt\n",
    "import numpy as np\n",
    "import math\n",
    "import time"
   ]
  },
  {
   "cell_type": "markdown",
   "metadata": {},
   "source": [
    "## ਕੁਝ ਸਿਧਾਂਤ\n",
    "\n",
    "**ਜੈਨੇਟਿਕ ਐਲਗੋਰਿਥਮ** (GA) **ਵਿਕਾਸੀ ਦ੍ਰਿਸ਼ਟੀਕੋਣ** 'ਤੇ ਆਧਾਰਿਤ ਹਨ, ਜਿਸ ਵਿੱਚ ਆਬਾਦੀ ਦੇ ਵਿਕਾਸ ਦੇ ਤਰੀਕੇ ਦੀ ਵਰਤੋਂ ਕੀਤੀ ਜਾਂਦੀ ਹੈ ਤਾਂ ਜੋ ਦਿੱਤੇ ਗਏ ਸਮੱਸਿਆ ਲਈ ਇੱਕ ਵਧੀਆ ਹੱਲ ਪ੍ਰਾਪਤ ਕੀਤਾ ਜਾ ਸਕੇ। ਇਹ 1975 ਵਿੱਚ [ਜੌਨ ਹੈਨਰੀ ਹੌਲੈਂਡ](https://en.wikipedia.org/wiki/John_Henry_Holland) ਦੁਆਰਾ ਪ੍ਰਸਤਾਵਿਤ ਕੀਤੇ ਗਏ ਸਨ।\n",
    "\n",
    "ਜੈਨੇਟਿਕ ਐਲਗੋਰਿਥਮ ਹੇਠਾਂ ਦਿੱਤੀਆਂ ਵਿਚਾਰਧਾਰਾਵਾਂ 'ਤੇ ਆਧਾਰਿਤ ਹਨ:\n",
    "* ਸਮੱਸਿਆ ਦੇ ਵੈਧ ਹੱਲਾਂ ਨੂੰ **ਜੀਨ** ਵਜੋਂ ਦਰਸਾਇਆ ਜਾ ਸਕਦਾ ਹੈ\n",
    "* **ਕਰਾਸਓਵਰ** ਸਾਨੂੰ ਦੋ ਹੱਲਾਂ ਨੂੰ ਮਿਲਾ ਕੇ ਇੱਕ ਨਵਾਂ ਵੈਧ ਹੱਲ ਪ੍ਰਾਪਤ ਕਰਨ ਦੀ ਆਗਿਆ ਦਿੰਦਾ ਹੈ\n",
    "* **ਚੋਣ** ਨੂੰ ਕੁਝ **ਫਿਟਨਸ ਫੰਕਸ਼ਨ** ਦੀ ਵਰਤੋਂ ਕਰਕੇ ਵਧੀਆ ਹੱਲਾਂ ਦੀ ਚੋਣ ਕਰਨ ਲਈ ਵਰਤਿਆ ਜਾਂਦਾ ਹੈ\n",
    "* **ਮਿਊਟੇਸ਼ਨ** ਨੂੰ ਅਨੁਕੂਲਤਾ ਨੂੰ ਅਸਥਿਰ ਕਰਨ ਅਤੇ ਸਥਾਨਕ ਘੱਟੋ-ਘੱਟ ਤੋਂ ਬਾਹਰ ਨਿਕਲਣ ਲਈ ਪੇਸ਼ ਕੀਤਾ ਜਾਂਦਾ ਹੈ\n",
    "\n",
    "ਜੇ ਤੁਸੀਂ ਜੈਨੇਟਿਕ ਐਲਗੋਰਿਥਮ ਲਾਗੂ ਕਰਨਾ ਚਾਹੁੰਦੇ ਹੋ, ਤਾਂ ਤੁਹਾਨੂੰ ਹੇਠਾਂ ਦਿੱਤੀਆਂ ਚੀਜ਼ਾਂ ਦੀ ਲੋੜ ਹੋਵੇਗੀ:\n",
    "\n",
    "* **ਜੀਨ** $g\\in\\Gamma$ ਦੀ ਵਰਤੋਂ ਕਰਕੇ ਸਮੱਸਿਆ ਦੇ ਹੱਲਾਂ ਨੂੰ ਕੋਡ ਕਰਨ ਦਾ ਤਰੀਕਾ ਲੱਭੋ\n",
    "* ਜੀਨ ਦੇ ਸੈਟ $\\Gamma$ 'ਤੇ **ਫਿਟਨਸ ਫੰਕਸ਼ਨ** $\\mathrm{fit}: \\Gamma\\to\\mathbb{R}$ ਨੂੰ ਪਰਿਭਾਸ਼ਿਤ ਕਰੋ। ਛੋਟੇ ਫੰਕਸ਼ਨ ਮੁੱਲ ਵਧੀਆ ਹੱਲਾਂ ਨੂੰ ਦਰਸਾਉਣਗੇ।\n",
    "* ਦੋ ਜੀਨ ਨੂੰ ਮਿਲਾ ਕੇ ਇੱਕ ਨਵਾਂ ਵੈਧ ਹੱਲ ਪ੍ਰਾਪਤ ਕਰਨ ਲਈ **ਕਰਾਸਓਵਰ** ਮਕੈਨਿਜ਼ਮ $\\mathrm{crossover}: \\Gamma^2\\to\\Gamma$ ਨੂੰ ਪਰਿਭਾਸ਼ਿਤ ਕਰੋ।\n",
    "* **ਮਿਊਟੇਸ਼ਨ** ਮਕੈਨਿਜ਼ਮ $\\mathrm{mutate}: \\Gamma\\to\\Gamma$ ਨੂੰ ਪਰਿਭਾਸ਼ਿਤ ਕਰੋ।\n",
    "ਕਈ ਕੇਸਾਂ ਵਿੱਚ, ਕਰਾਸਓਵਰ ਅਤੇ ਮਿਊਟੇਸ਼ਨ ਸਧਾਰਨ ਐਲਗੋਰਿਥਮ ਹੁੰਦੇ ਹਨ ਜੋ ਜੀਨ ਨੂੰ ਸੰਖਿਆਤਮਕ ਕ੍ਰਮਾਂਕਾਂ ਜਾਂ ਬਿਟ ਵੇਕਟਰ ਵਜੋਂ ਮੈਨਿਪੁਲੇਟ ਕਰਦੇ ਹਨ।\n",
    "\n",
    "ਜੈਨੇਟਿਕ ਐਲਗੋਰਿਥਮ ਦੀ ਵਿਸ਼ੇਸ਼ ਲਾਗੂ ਕਰਨ ਦੀ ਪ੍ਰਕਿਰਿਆ ਕੇਸ ਤੋਂ ਕੇਸ ਵਿੱਚ ਵੱਖ-ਵੱਖ ਹੋ ਸਕਦੀ ਹੈ, ਪਰ ਕੁੱਲ ਸੰਰਚਨਾ ਹੇਠਾਂ ਦਿੱਤੀ ਗਈ ਹੈ:\n",
    "\n",
    "1. ਸ਼ੁਰੂਆਤੀ ਆਬਾਦੀ ਦੀ ਚੋਣ ਕਰੋ $G\\subset\\Gamma$\n",
    "2. ਬੇਤਰਤੀਬੀ ਨਾਲ ਇੱਕ ਕਾਰਵਾਈ ਦੀ ਚੋਣ ਕਰੋ ਜੋ ਇਸ ਕਦਮ 'ਤੇ ਕੀਤੀ ਜਾਵੇਗੀ: ਕਰਾਸਓਵਰ ਜਾਂ ਮਿਊਟੇਸ਼ਨ\n",
    "3. **ਕਰਾਸਓਵਰ**:\n",
    "   * ਬੇਤਰਤੀਬੀ ਨਾਲ ਦੋ ਜੀਨ $g_1, g_2 \\in G$ ਦੀ ਚੋਣ ਕਰੋ\n",
    "   * ਕਰਾਸਓਵਰ ਦੀ ਗਣਨਾ ਕਰੋ $g=\\mathrm{crossover}(g_1,g_2)$\n",
    "   * ਜੇ $\\mathrm{fit}(g)<\\mathrm{fit}(g_1)$ ਜਾਂ $\\mathrm{fit}(g)<\\mathrm{fit}(g_2)$ - ਆਬਾਦੀ ਵਿੱਚ ਸੰਬੰਧਿਤ ਜੀਨ ਨੂੰ $g$ ਨਾਲ ਬਦਲੋ।\n",
    "4. **ਮਿਊਟੇਸ਼ਨ** - ਬੇਤਰਤੀਬੀ ਨਾਲ ਇੱਕ ਜੀਨ $g\\in G$ ਦੀ ਚੋਣ ਕਰੋ ਅਤੇ ਇਸਨੂੰ $\\mathrm{mutate}(g)$ ਨਾਲ ਬਦਲੋ\n",
    "5. ਕਦਮ 2 ਤੋਂ ਦੁਬਾਰਾ ਸ਼ੁਰੂ ਕਰੋ, ਜਦੋਂ ਤੱਕ $\\mathrm{fit}$ ਦਾ ਮੁੱਲ ਕਾਫ਼ੀ ਛੋਟਾ ਨਾ ਹੋ ਜਾਵੇ, ਜਾਂ ਜਦੋਂ ਤੱਕ ਕਦਮਾਂ ਦੀ ਸੀਮਾ ਪੂਰੀ ਨਾ ਹੋ ਜਾਵੇ।\n",
    "\n",
    "ਜੈਨੇਟਿਕ ਐਲਗੋਰਿਥਮ ਦੁਆਰਾ ਆਮ ਤੌਰ 'ਤੇ ਹੱਲ ਕੀਤੇ ਜਾਣ ਵਾਲੇ ਕੰਮ:\n",
    "1. ਸ਼ਡਿਊਲ ਅਨੁਕੂਲਤਾ\n",
    "1. ਵਧੀਆ ਪੈਕਿੰਗ\n",
    "1. ਵਧੀਆ ਕਟਾਈ\n",
    "1. ਥਕਾਵਟ ਭਰਪੂਰ ਖੋਜ ਨੂੰ ਤੇਜ਼ ਕਰਨਾ\n"
   ]
  },
  {
   "cell_type": "markdown",
   "metadata": {},
   "source": [
    "## ਸਮੱਸਿਆ 1: ਨਿਆਂਦਾਰ ਖਜਾਨੇ ਦੀ ਵੰਡ\n",
    "\n",
    "**ਕਿਰਿਆ**:  \n",
    "ਦੋ ਲੋਕਾਂ ਨੂੰ ਇੱਕ ਖਜਾਨਾ ਮਿਲਿਆ ਹੈ ਜਿਸ ਵਿੱਚ ਵੱਖ-ਵੱਖ ਆਕਾਰ ਦੇ ਹੀਰੇ ਹਨ (ਅਤੇ ਇਸ ਦੇ ਨਾਲ, ਵੱਖ-ਵੱਖ ਕੀਮਤ). ਉਹਨਾਂ ਨੂੰ ਖਜਾਨੇ ਨੂੰ ਦੋ ਹਿੱਸਿਆਂ ਵਿੱਚ ਇਸ ਤਰ੍ਹਾਂ ਵੰਡਣਾ ਹੈ ਕਿ ਕੀਮਤ ਵਿੱਚ ਅੰਤਰ 0 (ਜਾਂ ਘੱਟ ਤੋਂ ਘੱਟ) ਹੋਵੇ।\n",
    "\n",
    "**ਆਧਿਕਾਰਿਕ ਪਰਿਭਾਸ਼ਾ**:  \n",
    "ਸਾਡੇ ਕੋਲ ਸੰਖਿਆਵਾਂ ਦਾ ਇੱਕ ਸੈੱਟ $S$ ਹੈ। ਸਾਨੂੰ ਇਸ ਨੂੰ ਦੋ ਉਪ-ਸੈੱਟ $S_1$ ਅਤੇ $S_2$ ਵਿੱਚ ਵੰਡਣਾ ਹੈ, ਇਸ ਤਰ੍ਹਾਂ ਕਿ $$\\left|\\sum_{i\\in S_1}i - \\sum_{j\\in S_2}j\\right|\\to\\min$$ ਅਤੇ $S_1\\cup S_2=S$, $S_1\\cap S_2=\\emptyset$।\n",
    "\n",
    "ਸਭ ਤੋਂ ਪਹਿਲਾਂ, ਆਓ ਸੈੱਟ $S$ ਨੂੰ ਪਰਿਭਾਸ਼ਿਤ ਕਰੀਏ:\n"
   ]
  },
  {
   "cell_type": "code",
   "execution_count": 3,
   "metadata": {
    "trusted": true
   },
   "outputs": [
    {
     "name": "stdout",
     "output_type": "stream",
     "text": [
      "[8344 2197 9335 3131 5863 9429 3818 9791   15 5455 1396 9538 4872 6549\n",
      " 8587 5986 6021 9764 8102 5083 5739 7684 8498 3007 6599  820 7490 2372\n",
      " 9370 5235 3525 3154  859 1906 8159 3950 2173 2988 2050  349 8713 2284\n",
      " 4177 6033 1651 9176 5049 8201  171 5081 1216 3756 4711 2757 7738 1272\n",
      " 5650 6584 5395 9004 7797  969 8104 1283 1392 4001 5768  445  274  256\n",
      " 8239 8015 4381 9021 1189 8879 1411 3539 6526 8011  136 7230 2332  451\n",
      " 5702 2989 4320 2446 9578 8486 4027 2410 9588 8981 2177 1493 3232 9151\n",
      " 4835 5594 6859 8394  369 3200  126 4259 2283 7755 2014 2458 8327 8082\n",
      " 7413 7622 1206 5533 8751 3495 5868 8472 6850 3958 3149 4672 4810 6274\n",
      " 4700 6134 4627 4616 6656 9949  884 2256 7419 1926 7973 5319 5967 9158\n",
      " 3823 7697 9466 5675 5412 9784 5426 8209 3421 1136 6047 4429 8001 4417\n",
      " 1381  722 7350 6018 6235 7860 5853 7660 5937 6242    1 9552 3971 8302\n",
      " 2633 9227 7283  154 8599 4269 9392 8539 1630  368 2409 9351 3838 9814\n",
      " 6186 5743 5083 1325 1610  779 3643 3262 5768 8725  961 4611 6310 4788\n",
      " 1648 5951 8118 7779]\n"
     ]
    }
   ],
   "source": [
    "N = 200\n",
    "S = np.array([random.randint(1,10000) for _ in range(N)])\n",
    "print(S)"
   ]
  },
  {
   "cell_type": "markdown",
   "metadata": {},
   "source": [
    "ਚਲੋ ਸਮੱਸਿਆ ਦੇ ਹਰ ਸੰਭਾਵਿਤ ਹੱਲ ਨੂੰ ਇੱਕ ਬਾਈਨਰੀ ਵੇਕਟਰ $B\\in\\{0,1\\}^N$ ਦੁਆਰਾ ਕੋਡ ਕਰੀਏ, ਜਿੱਥੇ $i$-ਵੇਂ ਸਥਾਨ ਉੱਤੇ ਨੰਬਰ ਦਿਖਾਉਂਦਾ ਹੈ ਕਿ ਮੂਲ ਸੈੱਟ $S$ ਵਿੱਚ $i$-ਵੇਂ ਨੰਬਰ ਕਿਹੜੇ ਸੈੱਟ ($S_1$ ਜਾਂ $S_2$) ਨਾਲ ਸਬੰਧਿਤ ਹੈ। `generate` ਫੰਕਸ਼ਨ ਉਹਨਾਂ ਰੈਂਡਮ ਬਾਈਨਰੀ ਵੇਕਟਰਾਂ ਨੂੰ ਜਨਰੇਟ ਕਰੇਗਾ।\n"
   ]
  },
  {
   "cell_type": "code",
   "execution_count": 5,
   "metadata": {
    "trusted": true
   },
   "outputs": [
    {
     "name": "stdout",
     "output_type": "stream",
     "text": [
      "[1 0 0 1 1 1 1 1 0 1 1 1 0 0 1 0 1 1 1 0 0 1 1 0 1 1 0 0 1 0 1 0 1 0 1 1 1\n",
      " 0 1 1 1 0 1 0 0 1 0 0 1 1 0 1 0 1 1 0 0 1 0 0 0 1 1 0 1 1 0 0 0 0 1 0 1 0\n",
      " 1 0 0 0 0 0 1 1 0 1 0 0 1 0 1 0 0 1 1 0 0 1 1 1 0 0 1 1 0 1 1 0 0 0 0 1 1\n",
      " 1 0 1 0 0 1 1 1 1 1 1 1 1 0 1 0 1 1 1 1 1 1 0 1 0 1 0 1 0 0 1 1 1 0 0 1 1\n",
      " 0 1 1 0 1 1 0 0 0 1 1 0 0 0 0 0 0 0 0 1 1 0 1 1 1 0 0 1 1 0 1 1 0 0 1 1 0\n",
      " 0 0 0 1 0 1 1 0 1 1 0 1 0 0 0]\n"
     ]
    }
   ],
   "source": [
    "def generate(S):\n",
    "    return np.array([random.randint(0,1) for _ in S])\n",
    "\n",
    "b = generate(S)\n",
    "print(b)"
   ]
  },
  {
   "cell_type": "markdown",
   "metadata": {},
   "source": [
    "ਚਲੋ ਹੁਣ `fit` ਫੰਕਸ਼ਨ ਨੂੰ ਪਰਿਭਾਸ਼ਿਤ ਕਰੀਏ ਜੋ ਹੱਲ ਦਾ \"ਖਰਚ\" ਗਣਨਾ ਕਰਦਾ ਹੈ। ਇਹ ਦੋ ਸੈੱਟਾਂ, $S_1$ ਅਤੇ $S_2$, ਦੇ ਜੋੜ ਦੇ ਵਿਚਕਾਰ ਅੰਤਰ ਹੋਵੇਗਾ:\n"
   ]
  },
  {
   "cell_type": "code",
   "execution_count": 6,
   "metadata": {
    "trusted": true
   },
   "outputs": [
    {
     "data": {
      "text/plain": [
       "133784"
      ]
     },
     "execution_count": 6,
     "metadata": {},
     "output_type": "execute_result"
    }
   ],
   "source": [
    "def fit(B,S=S):\n",
    "    c1 = (B*S).sum()\n",
    "    c2 = ((1-B)*S).sum()\n",
    "    return abs(c1-c2)\n",
    "\n",
    "fit(b)"
   ]
  },
  {
   "cell_type": "markdown",
   "metadata": {},
   "source": [
    "ਹੁਣ ਅਸੀਂ ਮਿਊਟੇਸ਼ਨ ਅਤੇ ਕ੍ਰਾਸਓਵਰ ਲਈ ਫੰਕਸ਼ਨ ਪਰਿਭਾਸ਼ਿਤ ਕਰਨੇ ਹਨ:  \n",
    "* ਮਿਊਟੇਸ਼ਨ ਲਈ, ਅਸੀਂ ਇੱਕ ਰੈਂਡਮ ਬਿਟ ਚੁਣਾਂਗੇ ਅਤੇ ਇਸਨੂੰ ਉਲਟ ਦੇਵਾਂਗੇ (0 ਤੋਂ 1 ਅਤੇ ਵਿਰੋਧੀ ਦਿਸ਼ਾ ਵਿੱਚ ਬਦਲਣਾ)  \n",
    "* ਕ੍ਰਾਸਓਵਰ ਲਈ, ਅਸੀਂ ਕੁਝ ਬਿਟ ਇੱਕ ਵੇਕਟਰ ਤੋਂ ਲਵਾਂਗੇ ਅਤੇ ਕੁਝ ਬਿਟ ਦੂਜੇ ਵੇਕਟਰ ਤੋਂ। ਅਸੀਂ ਉਹੀ `generate` ਫੰਕਸ਼ਨ ਵਰਤਾਂਗੇ ਤਾਂ ਜੋ ਰੈਂਡਮ ਤਰੀਕੇ ਨਾਲ ਚੁਣ ਸਕੀਏ ਕਿ ਕਿਹੜੇ ਬਿਟ ਕਿਸ ਇਨਪੁਟ ਮਾਸਕ ਤੋਂ ਲੈਣੇ ਹਨ।  \n"
   ]
  },
  {
   "cell_type": "code",
   "execution_count": 7,
   "metadata": {
    "trusted": true
   },
   "outputs": [],
   "source": [
    "def mutate(b):\n",
    "    x = b.copy()\n",
    "    i = random.randint(0,len(b)-1)\n",
    "    x[i] = 1-x[i]\n",
    "    return x\n",
    "\n",
    "def xover(b1,b2):\n",
    "    x = generate(b1)\n",
    "    return b1*x+b2*(1-x)"
   ]
  },
  {
   "cell_type": "markdown",
   "metadata": {},
   "source": [
    "ਚਲੋ ਹੱਲਾਂ ਦੀ ਸ਼ੁਰੂਆਤੀ ਆਬਾਦੀ $P$ ਨੂੰ `pop_size` ਆਕਾਰ ਦੇ ਬਣਾਈਏ:\n"
   ]
  },
  {
   "cell_type": "code",
   "execution_count": 8,
   "metadata": {
    "trusted": true
   },
   "outputs": [],
   "source": [
    "pop_size = 30\n",
    "P = [generate(S) for _ in range(pop_size)]"
   ]
  },
  {
   "cell_type": "markdown",
   "metadata": {},
   "source": [
    "ਹੁਣ, ਮੁੱਖ ਫੰਕਸ਼ਨ ਜੋ ਵਿਕਾਸ ਦੀ ਪ੍ਰਕਿਰਿਆ ਨੂੰ ਅੰਜਾਮ ਦਿੰਦਾ ਹੈ। `n` ਵਿਕਾਸ ਦੇ ਕਦਮਾਂ ਦੀ ਗਿਣਤੀ ਹੈ ਜੋ ਕਰਨੀ ਹੈ। ਹਰ ਕਦਮ 'ਤੇ:  \n",
    "* 30% ਸੰਭਾਵਨਾ ਨਾਲ ਅਸੀਂ ਇੱਕ ਮਿਊਟੇਸ਼ਨ ਕਰਦੇ ਹਾਂ, ਅਤੇ ਸਭ ਤੋਂ ਖਰਾਬ `fit` ਫੰਕਸ਼ਨ ਵਾਲੇ ਤੱਤ ਨੂੰ ਮਿਊਟੇਟ ਕੀਤੇ ਤੱਤ ਨਾਲ ਬਦਲ ਦਿੰਦੇ ਹਾਂ  \n",
    "* 70% ਸੰਭਾਵਨਾ ਨਾਲ ਅਸੀਂ ਕ੍ਰਾਸਓਵਰ ਕਰਦੇ ਹਾਂ  \n",
    "\n",
    "ਫੰਕਸ਼ਨ ਸਭ ਤੋਂ ਵਧੀਆ ਹੱਲ (ਸਭ ਤੋਂ ਵਧੀਆ ਹੱਲ ਨਾਲ ਸੰਬੰਧਿਤ gene) ਅਤੇ ਹਰ ਇਟਰੇਸ਼ਨ 'ਤੇ ਆਬਾਦੀ ਵਿੱਚ ਘੱਟੋ-ਘੱਟ fit ਫੰਕਸ਼ਨ ਦੇ ਇਤਿਹਾਸ ਨੂੰ ਵਾਪਸ ਕਰਦਾ ਹੈ।  \n"
   ]
  },
  {
   "cell_type": "code",
   "execution_count": 9,
   "metadata": {
    "trusted": true
   },
   "outputs": [
    {
     "name": "stdout",
     "output_type": "stream",
     "text": [
      "[0 0 0 1 1 0 0 0 0 1 1 1 0 1 0 0 0 1 0 1 0 1 0 1 0 1 1 0 0 0 0 0 1 0 1 1 0\n",
      " 0 0 0 1 1 0 0 1 0 0 0 0 0 1 0 0 1 1 1 1 1 1 1 0 1 1 0 1 1 1 1 1 0 1 0 0 0\n",
      " 0 1 1 1 0 1 0 1 1 1 1 1 0 0 0 1 1 0 1 0 0 1 0 0 1 1 1 1 1 1 1 1 0 1 0 1 1\n",
      " 0 1 1 0 0 0 0 1 1 1 1 0 1 0 0 1 0 1 1 1 0 1 0 0 0 0 0 0 1 1 0 0 0 1 1 0 0\n",
      " 1 0 1 1 1 1 1 0 1 0 1 0 1 1 1 0 0 0 1 1 0 0 0 0 0 0 1 1 1 0 1 0 0 0 1 0 1\n",
      " 0 1 0 1 0 0 1 1 1 0 1 1 0 0 1] 4\n"
     ]
    }
   ],
   "source": [
    "def evolve(P,S=S,n=2000):\n",
    "    res = []\n",
    "    for _ in range(n):\n",
    "        f = min([fit(b) for b in P])\n",
    "        res.append(f)\n",
    "        if f==0:\n",
    "            break\n",
    "        if random.randint(1,10)<3:\n",
    "            i = random.randint(0,len(P)-1)\n",
    "            b = mutate(P[i])\n",
    "            i = np.argmax([fit(z) for z in P])\n",
    "            P[i] = b\n",
    "        else:\n",
    "            i = random.randint(0,len(P)-1)\n",
    "            j = random.randint(0,len(P)-1)\n",
    "            b = xover(P[i],P[j])\n",
    "            if fit(b)<fit(P[i]):\n",
    "                P[i]=b\n",
    "            elif fit(b)<fit(P[j]):\n",
    "                P[j]=b\n",
    "            else:\n",
    "                pass\n",
    "    i = np.argmin([fit(b) for b in P])\n",
    "    return (P[i],res)\n",
    "\n",
    "(s,hist) = evolve(P)\n",
    "print(s,fit(s))"
   ]
  },
  {
   "cell_type": "markdown",
   "metadata": {},
   "source": [
    "ਤੁਸੀਂ ਦੇਖ ਸਕਦੇ ਹੋ ਕਿ ਅਸੀਂ `fit` ਫੰਕਸ਼ਨ ਨੂੰ ਕਾਫ਼ੀ ਘਟਾ ਦਿੱਤਾ ਹੈ! ਇੱਥੇ ਗ੍ਰਾਫ ਹੈ ਜੋ ਦਿਖਾਉਂਦਾ ਹੈ ਕਿ ਪੂਰੇ ਜਨਸੰਖਿਆ ਲਈ `fit` ਫੰਕਸ਼ਨ ਪ੍ਰਕਿਰਿਆ ਦੌਰਾਨ ਕਿਵੇਂ ਵਰਤਦਾ ਹੈ।\n"
   ]
  },
  {
   "cell_type": "code",
   "execution_count": 10,
   "metadata": {
    "trusted": true
   },
   "outputs": [
    {
     "data": {
      "image/png": "[encoded data removed]",
      "text/plain": [
       "<Figure size 432x288 with 1 Axes>"
      ]
     },
     "metadata": {
      "needs_background": "light"
     },
     "output_type": "display_data"
    }
   ],
   "source": [
    "plt.plot(hist)\n",
    "plt.show()"
   ]
  },
  {
   "cell_type": "markdown",
   "metadata": {},
   "source": [
    "## ਸਮੱਸਿਆ 2: ਐਨ ਕਵੀਨਜ਼ ਸਮੱਸਿਆ\n",
    "\n",
    "**ਕੰਮ**:  \n",
    "ਤੁਹਾਨੂੰ $N$ ਕਵੀਨਜ਼ ਨੂੰ $N\\times N$ ਦੇ ਆਕਾਰ ਵਾਲੇ ਚੈਸ ਬੋਰਡ 'ਤੇ ਇਸ ਤਰ੍ਹਾਂ ਰੱਖਣਾ ਹੈ ਕਿ ਉਹ ਇੱਕ ਦੂਜੇ 'ਤੇ ਹਮਲਾ ਨਾ ਕਰਨ।\n",
    "\n",
    "ਸਭ ਤੋਂ ਪਹਿਲਾਂ, ਆਓ ਇਸ ਸਮੱਸਿਆ ਨੂੰ ਜੈਨੇਟਿਕ ਐਲਗੋਰਿਥਮਾਂ ਦੇ ਬਗੈਰ, ਪੂਰੀ ਤਲਾਸ਼ ਦੀ ਵਰਤੋਂ ਕਰਕੇ ਹੱਲ ਕਰੀਏ। ਅਸੀਂ ਬੋਰਡ ਦੀ ਸਥਿਤੀ ਨੂੰ ਸੂਚੀ $L$ ਦੁਆਰਾ ਦਰਸਾ ਸਕਦੇ ਹਾਂ, ਜਿੱਥੇ ਸੂਚੀ ਵਿੱਚ $i$-ਵਾਂ ਨੰਬਰ $i$-ਵੀਂ ਕਤਾਰ ਵਿੱਚ ਰਾਣੀ ਦੀ ਆੜਵੀਂ ਸਥਿਤੀ ਨੂੰ ਦਰਸਾਉਂਦਾ ਹੈ। ਇਹ ਸਪੱਸ਼ਟ ਹੈ ਕਿ ਹਰ ਹੱਲ ਵਿੱਚ ਸਿਰਫ ਇੱਕ ਕਤਾਰ ਵਿੱਚ ਇੱਕ ਹੀ ਰਾਣੀ ਹੋਵੇਗੀ, ਅਤੇ ਹਰ ਕਤਾਰ ਵਿੱਚ ਇੱਕ ਰਾਣੀ ਹੋਵੇਗੀ।\n",
    "\n",
    "ਸਾਡਾ ਲਕਸ਼ ਇਹ ਹੋਵੇਗਾ ਕਿ ਸਮੱਸਿਆ ਦਾ ਪਹਿਲਾ ਹੱਲ ਲੱਭਣਾ, ਜਿਸ ਤੋਂ ਬਾਅਦ ਅਸੀਂ ਖੋਜ ਰੋਕ ਦੇਵਾਂਗੇ। ਤੁਸੀਂ ਇਸ ਫੰਕਸ਼ਨ ਨੂੰ ਸੌਖੇ ਤਰੀਕੇ ਨਾਲ ਵਧਾ ਕੇ ਰਾਣੀਆਂ ਲਈ ਸਾਰੀਆਂ ਸੰਭਾਵਿਤ ਸਥਿਤੀਆਂ ਤਿਆਰ ਕਰ ਸਕਦੇ ਹੋ।\n"
   ]
  },
  {
   "cell_type": "code",
   "execution_count": 11,
   "metadata": {
    "trusted": true
   },
   "outputs": [
    {
     "name": "stdout",
     "output_type": "stream",
     "text": [
      "[1, 5, 8, 6, 3, 7, 2, 4]\n"
     ]
    },
    {
     "data": {
      "text/plain": [
       "True"
      ]
     },
     "execution_count": 11,
     "metadata": {},
     "output_type": "execute_result"
    }
   ],
   "source": [
    "N = 8\n",
    "\n",
    "def checkbeats(i_new,j_new,l):\n",
    "    for i,j in enumerate(l,start=1):\n",
    "        if j==j_new:\n",
    "            return False\n",
    "        else:\n",
    "            if abs(j-j_new) == i_new-i:\n",
    "                return False\n",
    "    return True\n",
    "\n",
    "def nqueens(l,N=8,disp=True):\n",
    "    if len(l)==N:\n",
    "        if disp: print(l)\n",
    "        return True\n",
    "    else:\n",
    "        for j in range(1,N+1):\n",
    "            if checkbeats(len(l)+1,j,l):\n",
    "                l.append(j)\n",
    "                if nqueens(l,N,disp): return True\n",
    "                else: l.pop()\n",
    "        return False\n",
    "            \n",
    "nqueens([],8)\n"
   ]
  },
  {
   "cell_type": "markdown",
   "metadata": {},
   "source": [
    "ਚਲੋ ਹੁਣ ਮਾਪ ਕਰੀਏ ਕਿ 20-ਕਵੀਨ ਸਮੱਸਿਆ ਦਾ ਹੱਲ ਲੈਣ ਵਿੱਚ ਕਿੰਨਾ ਸਮਾਂ ਲੱਗਦਾ ਹੈ:\n"
   ]
  },
  {
   "cell_type": "code",
   "execution_count": 12,
   "metadata": {
    "trusted": true
   },
   "outputs": [
    {
     "name": "stdout",
     "output_type": "stream",
     "text": [
      "10.6 s ± 2.17 s per loop (mean ± std. dev. of 7 runs, 1 loop each)\n"
     ]
    }
   ],
   "source": [
    "%timeit nqueens([],20,False)"
   ]
  },
  {
   "cell_type": "markdown",
   "metadata": {},
   "source": [
    "ਹੁਣ ਅਸੀਂ ਇਸੇ ਸਮੱਸਿਆ ਨੂੰ ਜੈਨੇਟਿਕ ਐਲਗੋਰਿਥਮ ਦੀ ਵਰਤੋਂ ਕਰਕੇ ਹੱਲ ਕਰਦੇ ਹਾਂ। ਇਹ ਹੱਲ [ਇਸ ਬਲੌਗ ਪੋਸਟ](https://kushalvyas.github.io/gen_8Q.html) ਤੋਂ ਪ੍ਰੇਰਿਤ ਹੈ।\n",
    "\n",
    "ਅਸੀਂ ਹਰ ਹੱਲ ਨੂੰ $N$ ਦੀ ਲੰਬਾਈ ਵਾਲੀ ਇੱਕੋ ਜਿਹੀ ਸੂਚੀ ਨਾਲ ਦਰਸਾਵਾਂਗੇ, ਅਤੇ `fit` ਫੰਕਸ਼ਨ ਵਜੋਂ ਅਸੀਂ ਉਹ ਗਿਣਤੀ ਲਵਾਂਗੇ ਜਿੰਨੀਆਂ ਰਾਣੀਆਂ ਇੱਕ ਦੂਜੇ 'ਤੇ ਹਮਲਾ ਕਰਦੀਆਂ ਹਨ:\n"
   ]
  },
  {
   "cell_type": "code",
   "execution_count": 13,
   "metadata": {
    "trusted": true
   },
   "outputs": [],
   "source": [
    "def fit(L):\n",
    "    x=0\n",
    "    for i1,j1 in enumerate(L,1):\n",
    "        for i2,j2 in enumerate(L,1):\n",
    "            if i2>i1:\n",
    "                if j2==j1 or (abs(j2-j1)==i2-i1): x+=1\n",
    "    return x"
   ]
  },
  {
   "cell_type": "markdown",
   "metadata": {},
   "source": [
    "ਜਦੋਂ ਕਿ ਫਿਟਨਸ ਫੰਕਸ਼ਨ ਦੀ ਗਣਨਾ ਕਰਨ ਵਿੱਚ ਸਮਾਂ ਲੱਗਦਾ ਹੈ, ਆਓ ਹਰ ਹੱਲ ਨੂੰ ਫਿਟਨਸ ਫੰਕਸ਼ਨ ਦੇ ਮੁੱਲ ਦੇ ਨਾਲ ਆਬਾਦੀ ਵਿੱਚ ਸੰਗ੍ਰਹਿਤ ਕਰੀਏ। ਆਓ ਸ਼ੁਰੂਆਤੀ ਆਬਾਦੀ ਪੈਦਾ ਕਰੀਏ:\n"
   ]
  },
  {
   "cell_type": "code",
   "execution_count": 14,
   "metadata": {
    "trusted": true
   },
   "outputs": [
    {
     "data": {
      "text/plain": [
       "[(array([2, 3, 8, 7, 5, 4, 1, 6]), 4),\n",
       " (array([3, 4, 5, 1, 2, 8, 6, 7]), 8),\n",
       " (array([1, 3, 7, 4, 5, 8, 6, 2]), 6),\n",
       " (array([1, 5, 4, 6, 8, 3, 7, 2]), 4),\n",
       " (array([3, 5, 7, 1, 8, 6, 4, 2]), 3)]"
      ]
     },
     "execution_count": 14,
     "metadata": {},
     "output_type": "execute_result"
    }
   ],
   "source": [
    "def generate_one(N):\n",
    "    x = np.arange(1,N+1)\n",
    "    np.random.shuffle(x)\n",
    "    return (x,fit(x))\n",
    "\n",
    "def generate(N,NP):\n",
    "    return [generate_one(N) for _ in range(NP)]\n",
    "\n",
    "generate(8,5)"
   ]
  },
  {
   "cell_type": "markdown",
   "metadata": {},
   "source": []
  },
  {
   "cell_type": "code",
   "execution_count": 15,
   "metadata": {
    "trusted": true
   },
   "outputs": [
    {
     "data": {
      "text/plain": [
       "array([1, 2, 7, 8])"
      ]
     },
     "execution_count": 15,
     "metadata": {},
     "output_type": "execute_result"
    }
   ],
   "source": [
    "def mutate(G):\n",
    "    x=random.randint(0,len(G)-1)\n",
    "    G[x]=random.randint(1,len(G))\n",
    "    return G\n",
    "    \n",
    "def xover(G1,G2):\n",
    "    x=random.randint(0,len(G1))\n",
    "    return np.concatenate((G1[:x],G2[x:]))\n",
    "\n",
    "xover([1,2,3,4],[5,6,7,8])"
   ]
  },
  {
   "cell_type": "markdown",
   "metadata": {},
   "source": []
  },
  {
   "cell_type": "code",
   "execution_count": 17,
   "metadata": {
    "trusted": true
   },
   "outputs": [],
   "source": [
    "def choose_rand(P):\n",
    "    N=len(P[0][0])\n",
    "    mf = N*(N-1)//2 # max fitness fn\n",
    "    z = [mf-x[1] for x in P]\n",
    "    tf = sum(z) # total fitness\n",
    "    w = [x/tf for x in z]\n",
    "    p = np.random.choice(len(P),2,False,p=w)\n",
    "    return p[0],p[1]\n",
    "\n",
    "def choose(P):\n",
    "    def ch(w):\n",
    "        p=[]\n",
    "        while p==[]:\n",
    "            r = random.random()\n",
    "            p = [i for i,x in enumerate(P) if x[1]>=r]\n",
    "        return random.choice(p)\n",
    "    N=len(P[0][0])\n",
    "    mf = N*(N-1)//2 # max fitness fn\n",
    "    z = [mf-x[1] for x in P]\n",
    "    tf = sum(z) # total fitness\n",
    "    w = [x/tf for x in z]\n",
    "    p1=p2=0\n",
    "    while p1==p2:\n",
    "        p1 = ch(w)\n",
    "        p2 = ch(w)\n",
    "    return p1,p2"
   ]
  },
  {
   "cell_type": "markdown",
   "metadata": {},
   "source": [
    "ਹੁਣ ਆਓ ਮੁੱਖ ਵਿਕਾਸੀ ਲੂਪ ਨੂੰ ਪਰਿਭਾਸ਼ਿਤ ਕਰੀਏ। ਅਸੀਂ ਤਰਕ ਨੂੰ ਪਿਛਲੇ ਉਦਾਹਰਨ ਤੋਂ ਥੋੜ੍ਹਾ ਵੱਖਰਾ ਬਣਾਵਾਂਗੇ, ਤਾਂ ਜੋ ਦਿਖਾ ਸਕੀਏ ਕਿ ਕੋਈ ਨਵਾਚਾਰ ਕਰ ਸਕਦਾ ਹੈ। ਅਸੀਂ ਲੂਪ ਕਰਾਂਗੇ ਜਦ ਤੱਕ ਸਾਨੂੰ ਪੂਰਨ ਹੱਲ (fitness function=0) ਨਹੀਂ ਮਿਲ ਜਾਂਦਾ, ਅਤੇ ਹਰ ਕਦਮ 'ਤੇ ਅਸੀਂ ਮੌਜੂਦਾ ਪੀੜ੍ਹੀ ਲਵਾਂਗੇ ਅਤੇ ਉਸੇ ਆਕਾਰ ਦੀ ਨਵੀਂ ਪੀੜ੍ਹੀ ਤਿਆਰ ਕਰਾਂਗੇ। ਇਹ ਕੰਮ `nxgeneration` ਫੰਕਸ਼ਨ ਦੀ ਵਰਤੋਂ ਕਰਕੇ ਕੀਤਾ ਜਾਂਦਾ ਹੈ, ਹੇਠਾਂ ਦਿੱਤੇ ਕਦਮਾਂ ਰਾਹੀਂ:\n",
    "\n",
    "1. ਸਭ ਤੋਂ ਅਣਉਪਯੋਗ ਹੱਲਾਂ ਨੂੰ ਖਾਰਜ ਕਰੋ - ਇਸ ਲਈ ਇੱਕ `discard_unfit` ਫੰਕਸ਼ਨ ਹੈ ਜੋ ਇਹ ਕੰਮ ਕਰਦਾ ਹੈ।\n",
    "1. ਪੀੜ੍ਹੀ ਵਿੱਚ ਕੁਝ ਹੋਰ ਰੈਂਡਮ ਹੱਲ ਸ਼ਾਮਲ ਕਰੋ।\n",
    "1. ਨਵੀਂ ਪੀੜ੍ਹੀ ਨੂੰ ਆਕਾਰ `gen_size` ਦੇ ਨਾਲ ਭਰੋ, ਹਰੇਕ ਨਵੇਂ ਜੀਨ ਲਈ ਹੇਠਾਂ ਦਿੱਤੇ ਕਦਮਾਂ ਦੀ ਵਰਤੋਂ ਕਰਦੇ ਹੋਏ:\n",
    "    - ਦੋ ਰੈਂਡਮ ਜੀਨ ਚੁਣੋ, fitness function ਦੇ ਅਨੁਪਾਤਕ ਸੰਭਾਵਨਾ ਨਾਲ।\n",
    "    - ਇੱਕ crossover ਦੀ ਗਣਨਾ ਕਰੋ।\n",
    "    - ਸੰਭਾਵਨਾ `mutation_prob` ਨਾਲ ਇੱਕ mutation ਲਾਗੂ ਕਰੋ।\n"
   ]
  },
  {
   "cell_type": "code",
   "execution_count": 20,
   "metadata": {
    "trusted": true
   },
   "outputs": [
    {
     "data": {
      "text/plain": [
       "(array([4, 7, 5, 3, 1, 6, 8, 2]), 0)"
      ]
     },
     "execution_count": 20,
     "metadata": {},
     "output_type": "execute_result"
    }
   ],
   "source": [
    "mutation_prob = 0.1\n",
    "\n",
    "def discard_unfit(P):\n",
    "    P.sort(key=lambda x:x[1])\n",
    "    return P[:len(P)//3]\n",
    "\n",
    "def nxgeneration(P):\n",
    "    gen_size=len(P)\n",
    "    P = discard_unfit(P)\n",
    "    P.extend(generate(len(P[0][0]),3))\n",
    "    new_gen = []\n",
    "    for _ in range(gen_size):\n",
    "        p1,p2 = choose_rand(P)\n",
    "        n = xover(P[p1][0],P[p2][0])\n",
    "        if random.random()<mutation_prob:\n",
    "            n=mutate(n)\n",
    "        nf = fit(n)\n",
    "        new_gen.append((n,nf))\n",
    "        '''\n",
    "        if (nf<=P[p1][1]) or (nf<=P[p2][1]):\n",
    "            new_gen.append((n,nf))\n",
    "        elif (P[p1][1]<P[p2][1]):\n",
    "            new_gen.append(P[p1])\n",
    "        else:\n",
    "            new_gen.append(P[p2])\n",
    "        '''\n",
    "    return new_gen\n",
    "    \n",
    "def genetic(N,pop_size=100):\n",
    "    P = generate(N,pop_size)\n",
    "    mf = min([x[1] for x in P])\n",
    "    n=0\n",
    "    while mf>0:\n",
    "        #print(\"Generation {0}, fit={1}\".format(n,mf))\n",
    "        n+=1\n",
    "        mf = min([x[1] for x in P])\n",
    "        P = nxgeneration(P)\n",
    "    mi = np.argmin([x[1] for x in P])\n",
    "    return P[mi]\n",
    "\n",
    "genetic(8)"
   ]
  },
  {
   "cell_type": "markdown",
   "metadata": {},
   "source": []
  },
  {
   "cell_type": "code",
   "execution_count": 19,
   "metadata": {
    "trusted": true
   },
   "outputs": [
    {
     "name": "stdout",
     "output_type": "stream",
     "text": [
      "The slowest run took 18.71 times longer than the fastest. This could mean that an intermediate result is being cached.\n",
      "26.4 s ± 28.7 s per loop (mean ± std. dev. of 7 runs, 1 loop each)\n"
     ]
    }
   ],
   "source": [
    "%timeit genetic(10)"
   ]
  },
  {
   "cell_type": "markdown",
   "metadata": {},
   "source": [
    "\n---\n\n**ਅਸਵੀਕਾਰਨਾ**:  \nਇਹ ਦਸਤਾਵੇਜ਼ AI ਅਨੁਵਾਦ ਸੇਵਾ [Co-op Translator](https://github.com/Azure/co-op-translator) ਦੀ ਵਰਤੋਂ ਕਰਕੇ ਅਨੁਵਾਦ ਕੀਤਾ ਗਿਆ ਹੈ। ਜਦੋਂ ਕਿ ਅਸੀਂ ਸਹੀਤਾ ਲਈ ਯਤਨਸ਼ੀਲ ਹਾਂ, ਕਿਰਪਾ ਕਰਕੇ ਧਿਆਨ ਦਿਓ ਕਿ ਸਵੈਚਾਲਿਤ ਅਨੁਵਾਦਾਂ ਵਿੱਚ ਗਲਤੀਆਂ ਜਾਂ ਅਸੁਚੀਤਤਾਵਾਂ ਹੋ ਸਕਦੀਆਂ ਹਨ। ਇਸ ਦਸਤਾਵੇਜ਼ ਦੇ ਮੂਲ ਭਾਸ਼ਾ ਵਿੱਚ ਲਿਖੇ ਗ੍ਰੰਥ ਨੂੰ ਅਧਿਕਾਰਤ ਸਰੋਤ ਮੰਨਿਆ ਜਾਣਾ ਚਾਹੀਦਾ ਹੈ। ਮਹੱਤਵਪੂਰਨ ਜਾਣਕਾਰੀ ਲਈ, ਪੇਸ਼ੇਵਰ ਮਨੁੱਖੀ ਅਨੁਵਾਦ ਦੀ ਸਿਫਾਰਸ਼ ਕੀਤੀ ਜਾਂਦੀ ਹੈ। ਇਸ ਅਨੁਵਾਦ ਦੀ ਵਰਤੋਂ ਤੋਂ ਪੈਦਾ ਹੋਣ ਵਾਲੇ ਕਿਸੇ ਵੀ ਗਲਤ ਫਹਿਮੀ ਜਾਂ ਗਲਤ ਵਿਆਖਿਆ ਲਈ ਅਸੀਂ ਜ਼ਿੰਮੇਵਾਰ ਨਹੀਂ ਹਾਂ।\n"
   ]
  }
 ],
 "metadata": {
  "interpreter": {
   "hash": "86193a1ab0ba47eac1c69c1756090baa3b420b3eea7d4aafab8b85f8b312f0c5"
  },
  "kernelspec": {
   "display_name": "Python 3.6",
   "language": "python",
   "name": "python3"
  },
  "language_info": {
   "codemirror_mode": {
    "name": "ipython",
    "version": 3
   },
   "file_extension": ".py",
   "mimetype": "text/x-python",
   "name": "python",
   "nbconvert_exporter": "python",
   "pygments_lexer": "ipython3",
   "version": "3.9.5"
  },
  "coopTranslator": {
   "original_hash": "1012c117808753433f6e2696e775ff4b",
   "translation_date": "2025-08-28T07:29:49+00:00",
   "source_file": "lessons/6-Other/21-GeneticAlgorithms/Genetic.ipynb",
   "language_code": "pa"
  }
 },
 "nbformat": 4,
 "nbformat_minor": 2
}