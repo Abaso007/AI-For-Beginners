{
 "cells": [
  {
   "cell_type": "markdown",
   "metadata": {},
   "source": [
    "# ਸਧਾਰਨ ਚਿੱਤਰ ਵਰਗੀਕਰਨ\n",
    "\n",
    "ਇਹ ਨੋਟਬੁੱਕ ਤੁਹਾਨੂੰ ਇੱਕ ਪਹਿਲਾਂ ਤੋਂ ਸਿਖਲਾਈ ਗਈ ਨਿਊਰਲ ਨੈਟਵਰਕ ਦੀ ਵਰਤੋਂ ਕਰਕੇ ਚਿੱਤਰਾਂ ਨੂੰ ਵਰਗਬੱਧ ਕਰਨ ਦਾ ਤਰੀਕਾ ਦਿਖਾਉਂਦੀ ਹੈ।\n",
    "\n",
    "**ਤੁਹਾਨੂੰ ਕੀ ਸਿੱਖਣ ਨੂੰ ਮਿਲੇਗਾ:**\n",
    "- ਪਹਿਲਾਂ ਤੋਂ ਸਿਖਲਾਈ ਗਏ ਮਾਡਲ ਨੂੰ ਕਿਵੇਂ ਲੋਡ ਅਤੇ ਵਰਤਣਾ ਹੈ\n",
    "- ਚਿੱਤਰਾਂ ਦੀ ਪੂਰਵ-ਸੰਸਕਰਨ\n",
    "- ਚਿੱਤਰਾਂ 'ਤੇ ਅਨੁਮਾਨ ਲਗਾਉਣਾ\n",
    "- ਭਰੋਸੇਮੰਦ ਸਕੋਰਾਂ ਨੂੰ ਸਮਝਣਾ\n",
    "\n",
    "**ਵਰਤੋਂ ਦਾ ਕੇਸ:** ਚਿੱਤਰਾਂ ਵਿੱਚ ਵਸਤੂਆਂ ਦੀ ਪਛਾਣ ਕਰਨਾ (ਜਿਵੇਂ \"ਬਿੱਲੀ\", \"ਕੁੱਤਾ\", \"ਕਾਰ\" ਆਦਿ)\n"
   ]
  },
  {
   "cell_type": "markdown",
   "metadata": {},
   "source": [
    "## ਪਹਲਾ ਕਦਮ: ਲੋੜੀਂਦੇ ਲਾਇਬ੍ਰੇਰੀਆਂ ਇਮਪੋਰਟ ਕਰੋ\n",
    "\n",
    "ਆਓ ਉਹ ਸਾਧਨ ਇਮਪੋਰਟ ਕਰੀਏ ਜਿਨ੍ਹਾਂ ਦੀ ਸਾਨੂੰ ਲੋੜ ਹੈ। ਚਿੰਤਾ ਨਾ ਕਰੋ ਜੇ ਤੁਸੀਂ ਅਜੇ ਇਹਨਾਂ ਨੂੰ ਪੂਰੀ ਤਰ੍ਹਾਂ ਨਹੀਂ ਸਮਝਦੇ!\n"
   ]
  },
  {
   "cell_type": "code",
   "execution_count": null,
   "metadata": {},
   "outputs": [],
   "source": [
    "# Core libraries\n",
    "import numpy as np\n",
    "from PIL import Image\n",
    "import requests\n",
    "from io import BytesIO\n",
    "\n",
    "# TensorFlow for deep learning\n",
    "try:\n",
    "    import tensorflow as tf\n",
    "    from tensorflow.keras.applications import MobileNetV2\n",
    "    from tensorflow.keras.applications.mobilenet_v2 import preprocess_input, decode_predictions\n",
    "    print(\"✅ TensorFlow loaded successfully!\")\n",
    "    print(f\"   Version: {tf.__version__}\")\n",
    "except ImportError:\n",
    "    print(\"❌ Please install TensorFlow: pip install tensorflow\")"
   ]
  },
  {
   "cell_type": "markdown",
   "metadata": {},
   "source": [
    "## ਚਰਨ 2: ਪਹਿਲਾਂ ਤੋਂ ਸਿਖਲਾਈ ਗਈ ਮਾਡਲ ਲੋਡ ਕਰੋ\n",
    "\n",
    "ਅਸੀਂ **MobileNetV2** ਵਰਤਾਂਗੇ, ਜੋ ਪਹਿਲਾਂ ਹੀ ਲੱਖਾਂ ਤਸਵੀਰਾਂ 'ਤੇ ਸਿਖਲਾਈ ਗਈ ਹੈ।\n",
    "\n",
    "ਇਸਨੂੰ **ਟ੍ਰਾਂਸਫਰ ਲਰਨਿੰਗ** ਕਿਹਾ ਜਾਂਦਾ ਹੈ - ਕਿਸੇ ਹੋਰ ਦੁਆਰਾ ਸਿਖਲਾਈ ਗਈ ਮਾਡਲ ਦੀ ਵਰਤੋਂ!\n"
   ]
  },
  {
   "cell_type": "code",
   "execution_count": null,
   "metadata": {},
   "outputs": [],
   "source": [
    "print(\"📦 Loading pre-trained MobileNetV2 model...\")\n",
    "print(\"   This may take a minute on first run (downloading weights)...\")\n",
    "\n",
    "# Load the model\n",
    "# include_top=True means we use the classification layer\n",
    "# weights='imagenet' means it was trained on ImageNet dataset\n",
    "model = MobileNetV2(weights='imagenet', include_top=True)\n",
    "\n",
    "print(\"✅ Model loaded!\")\n",
    "print(f\"   The model can recognize 1000 different object categories\")"
   ]
  },
  {
   "cell_type": "markdown",
   "metadata": {},
   "source": [
    "## ਚਰਨ 3: ਸਹਾਇਕ ਫੰਕਸ਼ਨ\n",
    "\n",
    "ਆਓ ਆਪਣੇ ਮਾਡਲ ਲਈ ਚਿੱਤਰਾਂ ਨੂੰ ਲੋਡ ਅਤੇ ਤਿਆਰ ਕਰਨ ਲਈ ਫੰਕਸ਼ਨ ਬਣਾਈਏ।\n"
   ]
  },
  {
   "cell_type": "code",
   "execution_count": null,
   "metadata": {},
   "outputs": [],
   "source": [
    "def load_image_from_url(url):\n",
    "    \"\"\"\n",
    "    Load an image from a URL.\n",
    "    \n",
    "    Args:\n",
    "        url: Web address of the image\n",
    "        \n",
    "    Returns:\n",
    "        PIL Image object\n",
    "    \"\"\"\n",
    "    response = requests.get(url)\n",
    "    img = Image.open(BytesIO(response.content))\n",
    "    return img\n",
    "\n",
    "\n",
    "def prepare_image(img):\n",
    "    \"\"\"\n",
    "    Prepare an image for the model.\n",
    "    \n",
    "    Steps:\n",
    "    1. Resize to 224x224 (model's expected size)\n",
    "    2. Convert to array\n",
    "    3. Add batch dimension\n",
    "    4. Preprocess for MobileNetV2\n",
    "    \n",
    "    Args:\n",
    "        img: PIL Image\n",
    "        \n",
    "    Returns:\n",
    "        Preprocessed image array\n",
    "    \"\"\"\n",
    "    # Resize to 224x224 pixels\n",
    "    img = img.resize((224, 224))\n",
    "    \n",
    "    # Convert to numpy array\n",
    "    img_array = np.array(img)\n",
    "    \n",
    "    # Add batch dimension (model expects multiple images)\n",
    "    img_array = np.expand_dims(img_array, axis=0)\n",
    "    \n",
    "    # Preprocess for MobileNetV2\n",
    "    img_array = preprocess_input(img_array)\n",
    "    \n",
    "    return img_array\n",
    "\n",
    "\n",
    "def classify_image(img):\n",
    "    \"\"\"\n",
    "    Classify an image and return top predictions.\n",
    "    \n",
    "    Args:\n",
    "        img: PIL Image\n",
    "        \n",
    "    Returns:\n",
    "        List of (class_name, confidence) tuples\n",
    "    \"\"\"\n",
    "    # Prepare the image\n",
    "    img_array = prepare_image(img)\n",
    "    \n",
    "    # Make prediction\n",
    "    predictions = model.predict(img_array, verbose=0)\n",
    "    \n",
    "    # Decode predictions to human-readable labels\n",
    "    # top=5 means we get the top 5 most likely classes\n",
    "    decoded = decode_predictions(predictions, top=5)[0]\n",
    "    \n",
    "    # Convert to simpler format\n",
    "    results = [(label, float(confidence)) for (_, label, confidence) in decoded]\n",
    "    \n",
    "    return results\n",
    "\n",
    "\n",
    "print(\"✅ Helper functions ready!\")"
   ]
  },
  {
   "cell_type": "markdown",
   "metadata": {},
   "source": [
    "## ਚੌਥਾ ਕਦਮ: ਨਮੂਨਾ ਚਿੱਤਰਾਂ 'ਤੇ ਟੈਸਟ ਕਰੋ\n",
    "\n",
    "ਆਓ ਇੰਟਰਨੈਟ ਤੋਂ ਕੁਝ ਚਿੱਤਰਾਂ ਦੀ ਵਰਗੀਕਰਨ ਕਰਨ ਦੀ ਕੋਸ਼ਿਸ਼ ਕਰੀਏ!\n"
   ]
  },
  {
   "cell_type": "code",
   "execution_count": null,
   "metadata": {},
   "outputs": [],
   "source": [
    "# Sample images to classify\n",
    "# These are from Unsplash (free stock photos)\n",
    "test_images = [\n",
    "    {\n",
    "        \"url\": \"https://images.unsplash.com/photo-1514888286974-6c03e2ca1dba?w=400\",\n",
    "        \"description\": \"A cat\"\n",
    "    },\n",
    "    {\n",
    "        \"url\": \"https://images.unsplash.com/photo-1552053831-71594a27632d?w=400\",\n",
    "        \"description\": \"A dog\"\n",
    "    },\n",
    "    {\n",
    "        \"url\": \"https://images.unsplash.com/photo-1511919884226-fd3cad34687c?w=400\",\n",
    "        \"description\": \"A car\"\n",
    "    },\n",
    "]\n",
    "\n",
    "print(f\"🧪 Testing on {len(test_images)} images...\")\n",
    "print(\"=\" * 70)"
   ]
  },
  {
   "cell_type": "markdown",
   "metadata": {},
   "source": [
    "### ਹਰ ਚਿੱਤਰ ਨੂੰ ਵਰਗਬੱਧ ਕਰੋ\n"
   ]
  },
  {
   "cell_type": "code",
   "execution_count": null,
   "metadata": {},
   "outputs": [],
   "source": [
    "for i, img_data in enumerate(test_images, 1):\n",
    "    print(f\"\\n📸 Image {i}: {img_data['description']}\")\n",
    "    print(\"-\" * 70)\n",
    "    \n",
    "    try:\n",
    "        # Load image\n",
    "        img = load_image_from_url(img_data['url'])\n",
    "        \n",
    "        # Display image\n",
    "        display(img.resize((200, 200)))  # Show smaller version\n",
    "        \n",
    "        # Classify\n",
    "        results = classify_image(img)\n",
    "        \n",
    "        # Show predictions\n",
    "        print(\"\\n🎯 Top 5 Predictions:\")\n",
    "        for rank, (label, confidence) in enumerate(results, 1):\n",
    "            # Create a visual bar\n",
    "            bar_length = int(confidence * 50)\n",
    "            bar = \"█\" * bar_length\n",
    "            \n",
    "            print(f\"  {rank}. {label:20s} {confidence*100:5.2f}% {bar}\")\n",
    "        \n",
    "    except Exception as e:\n",
    "        print(f\"❌ Error: {e}\")\n",
    "\n",
    "print(\"\\n\" + \"=\" * 70)"
   ]
  },
  {
   "cell_type": "markdown",
   "metadata": {},
   "source": [
    "## ਚਰਣ 5: ਆਪਣੀਆਂ ਤਸਵੀਰਾਂ ਦੀ ਕੋਸ਼ਿਸ਼ ਕਰੋ!\n",
    "\n",
    "ਹੇਠਾਂ ਦਿੱਤੇ URL ਨੂੰ ਕਿਸੇ ਵੀ ਤਸਵੀਰ ਦੇ URL ਨਾਲ ਬਦਲੋ ਜਿਸਨੂੰ ਤੁਸੀਂ ਵਰਗਬੱਧ ਕਰਨਾ ਚਾਹੁੰਦੇ ਹੋ।\n"
   ]
  },
  {
   "cell_type": "code",
   "execution_count": null,
   "metadata": {},
   "outputs": [],
   "source": [
    "# Try your own image!\n",
    "# Replace this URL with any image URL\n",
    "custom_image_url = \"https://images.unsplash.com/photo-1472491235688-bdc81a63246e?w=400\"  # A flower\n",
    "\n",
    "print(\"🖼️  Classifying your custom image...\")\n",
    "print(\"=\" * 70)\n",
    "\n",
    "try:\n",
    "    # Load and show image\n",
    "    img = load_image_from_url(custom_image_url)\n",
    "    display(img.resize((300, 300)))\n",
    "    \n",
    "    # Classify\n",
    "    results = classify_image(img)\n",
    "    \n",
    "    # Show results\n",
    "    print(\"\\n🎯 Top 5 Predictions:\")\n",
    "    print(\"-\" * 70)\n",
    "    for rank, (label, confidence) in enumerate(results, 1):\n",
    "        bar_length = int(confidence * 50)\n",
    "        bar = \"█\" * bar_length\n",
    "        print(f\"  {rank}. {label:20s} {confidence*100:5.2f}% {bar}\")\n",
    "    \n",
    "    # Highlight top prediction\n",
    "    top_label, top_confidence = results[0]\n",
    "    print(\"\\n\" + \"=\" * 70)\n",
    "    print(f\"\\n🏆 Best guess: {top_label} ({top_confidence*100:.2f}% confident)\")\n",
    "    \n",
    "except Exception as e:\n",
    "    print(f\"❌ Error: {e}\")\n",
    "    print(\"   Make sure the URL points to a valid image!\")"
   ]
  },
  {
   "cell_type": "markdown",
   "metadata": {},
   "source": [
    "## 💡 ਕੀ ਹੋਇਆ?\n",
    "\n",
    "1. **ਅਸੀਂ ਇੱਕ ਪੂਰਵ-ਤਿਆਰ ਮਾਡਲ ਲੋਡ ਕੀਤਾ** - MobileNetV2 ਨੂੰ ਲੱਖਾਂ ਤਸਵੀਰਾਂ 'ਤੇ ਟ੍ਰੇਨ ਕੀਤਾ ਗਿਆ ਸੀ\n",
    "2. **ਅਸੀਂ ਤਸਵੀਰਾਂ ਨੂੰ ਪ੍ਰੀ-ਪ੍ਰੋਸੈਸ ਕੀਤਾ** - ਮਾਡਲ ਲਈ ਸਾਈਜ਼ ਅਤੇ ਫਾਰਮੈਟ ਕੀਤਾ\n",
    "3. **ਮਾਡਲ ਨੇ ਅਨੁਮਾਨ ਲਗਾਏ** - ਇਸ ਨੇ 1000 ਵਸਤੂ ਵਰਗਾਂ ਲਈ ਸੰਭਾਵਨਾਵਾਂ ਨਿਕਾਲੀਆਂ\n",
    "4. **ਅਸੀਂ ਨਤੀਜੇ ਡਿਕੋਡ ਕੀਤੇ** - ਗਿਣਤੀਆਂ ਨੂੰ ਮਨੁੱਖੀ-ਪੜ੍ਹਨਯੋਗ ਲੇਬਲਾਂ ਵਿੱਚ ਬਦਲਿਆ\n",
    "\n",
    "### ਭਰੋਸੇਮੰਦ ਸਕੋਰਾਂ ਨੂੰ ਸਮਝਣਾ\n",
    "\n",
    "- **90-100%**: ਬਹੁਤ ਭਰੋਸੇਮੰਦ (ਲਗਭਗ ਪੂਰੀ ਤਰ੍ਹਾਂ ਸਹੀ)\n",
    "- **70-90%**: ਭਰੋਸੇਮੰਦ (ਸ਼ਾਇਦ ਸਹੀ)\n",
    "- **50-70%**: ਕੁਝ ਹੱਦ ਤੱਕ ਭਰੋਸੇਮੰਦ (ਸਹੀ ਹੋ ਸਕਦਾ ਹੈ)\n",
    "- **50% ਤੋਂ ਘੱਟ**: ਘੱਟ ਭਰੋਸੇਮੰਦ (ਅਸਪਸ਼ਟ)\n",
    "\n",
    "### ਅਨੁਮਾਨ ਗਲਤ ਕਿਉਂ ਹੋ ਸਕਦੇ ਹਨ?\n",
    "\n",
    "- **ਅਜੀਬ ਕੋਣ ਜਾਂ ਰੋਸ਼ਨੀ** - ਮਾਡਲ ਨੂੰ ਆਮ ਤਸਵੀਰਾਂ 'ਤੇ ਟ੍ਰੇਨ ਕੀਤਾ ਗਿਆ ਸੀ\n",
    "- **ਕਈ ਵਸਤੂਆਂ** - ਮਾਡਲ ਇੱਕ ਮੁੱਖ ਵਸਤੂ ਦੀ ਉਮੀਦ ਕਰਦਾ ਹੈ\n",
    "- **ਅਲਭੁਤ ਵਸਤੂਆਂ** - ਮਾਡਲ ਸਿਰਫ 1000 ਸ਼੍ਰੇਣੀਆਂ ਨੂੰ ਜਾਣਦਾ ਹੈ\n",
    "- **ਘੱਟ ਗੁਣਵੱਤਾ ਵਾਲੀ ਤਸਵੀਰ** - ਧੁੰਦਲੀ ਜਾਂ ਪਿਕਸਲ ਵਾਲੀਆਂ ਤਸਵੀਰਾਂ ਨੂੰ ਸਮਝਣਾ ਮੁਸ਼ਕਲ ਹੁੰਦਾ ਹੈ\n",
    "\n",
    "---\n"
   ]
  },
  {
   "cell_type": "markdown",
   "metadata": {},
   "source": [
    "## 🚀 ਅਗਲੇ ਕਦਮ\n",
    "\n",
    "1. **ਵੱਖ-ਵੱਖ ਚਿੱਤਰਾਂ ਦੀ ਕੋਸ਼ਿਸ਼ ਕਰੋ:**\n",
    "   - [Unsplash](https://unsplash.com) 'ਤੇ ਚਿੱਤਰ ਲੱਭੋ\n",
    "   - ਸੱਜੇ ਕਲਿੱਕ ਕਰੋ → \"Copy image address\" ਨਾਲ URL ਪ੍ਰਾਪਤ ਕਰੋ\n",
    "\n",
    "2. **ਤਜਰਬਾ ਕਰੋ:**\n",
    "   - ਅਬਸਟਰੈਕਟ ਆਰਟ ਨਾਲ ਕੀ ਹੁੰਦਾ ਹੈ?\n",
    "   - ਕੀ ਇਹ ਵੱਖ-ਵੱਖ ਕੋਣਾਂ ਤੋਂ ਵਸਤੂਆਂ ਨੂੰ ਪਛਾਣ ਸਕਦਾ ਹੈ?\n",
    "   - ਇਹ ਕਈ ਵਸਤੂਆਂ ਨੂੰ ਕਿਵੇਂ ਸੰਭਾਲਦਾ ਹੈ?\n",
    "\n",
    "3. **ਹੋਰ ਸਿੱਖੋ:**\n",
    "   - [Computer Vision ਪਾਠ](../lessons/4-ComputerVision/README.md) ਦੀ ਖੋਜ ਕਰੋ\n",
    "   - ਆਪਣਾ ਚਿੱਤਰ ਵਰਗੀਕਰਕ ਤਿਆਰ ਕਰਨ ਦੀ ਸਿੱਖਿਆ ਲਵੋ\n",
    "   - CNNs (Convolutional Neural Networks) ਕਿਵੇਂ ਕੰਮ ਕਰਦੇ ਹਨ, ਇਹ ਸਮਝੋ\n",
    "\n",
    "---\n",
    "\n",
    "## 🎉 ਵਧਾਈਆਂ!\n",
    "\n",
    "ਤੁਸੀਂ ਇੱਕ ਅਧੁਨਿਕ ਨਿਊਰਲ ਨੈਟਵਰਕ ਦੀ ਵਰਤੋਂ ਕਰਕੇ ਇੱਕ ਚਿੱਤਰ ਵਰਗੀਕਰਕ ਤਿਆਰ ਕੀਤਾ ਹੈ!\n",
    "\n",
    "ਇਹੀ ਤਕਨੀਕ ਇਹਨਾਂ ਨੂੰ ਸ਼ਕਤੀ ਦਿੰਦੀ ਹੈ:\n",
    "- Google Photos (ਤੁਹਾਡੇ ਫੋਟੋਜ਼ ਨੂੰ ਸੰਗਠਿਤ ਕਰਨਾ)\n",
    "- ਸਵੈ-ਚਲਿਤ ਕਾਰਾਂ (ਵਸਤੂਆਂ ਦੀ ਪਛਾਣ ਕਰਨਾ)\n",
    "- ਮੈਡੀਕਲ ਨਿਰਣੇ (ਐਕਸ-ਰੇਜ਼ ਦਾ ਵਿਸ਼ਲੇਸ਼ਣ ਕਰਨਾ)\n",
    "- ਗੁਣਵੱਤਾ ਨਿਯੰਤਰਣ (ਖਾਮੀਆਂ ਦੀ ਪਛਾਣ ਕਰਨਾ)\n",
    "\n",
    "ਖੋਜ ਅਤੇ ਸਿੱਖਿਆ ਜਾਰੀ ਰੱਖੋ! 🚀\n"
   ]
  },
  {
   "cell_type": "markdown",
   "metadata": {},
   "source": [
    "\n---\n\n**ਅਸਵੀਕਰਤੀਕਰਨ**:  \nਇਹ ਦਸਤਾਵੇਜ਼ AI ਅਨੁਵਾਦ ਸੇਵਾ [Co-op Translator](https://github.com/Azure/co-op-translator) ਦੀ ਵਰਤੋਂ ਕਰਕੇ ਅਨੁਵਾਦ ਕੀਤਾ ਗਿਆ ਹੈ। ਜਦੋਂ ਕਿ ਅਸੀਂ ਸਹੀ ਹੋਣ ਦਾ ਯਤਨ ਕਰਦੇ ਹਾਂ, ਕਿਰਪਾ ਕਰਕੇ ਧਿਆਨ ਦਿਓ ਕਿ ਸਵੈਚਾਲਿਤ ਅਨੁਵਾਦਾਂ ਵਿੱਚ ਗਲਤੀਆਂ ਜਾਂ ਅਸੁਚੱਜੇਪਣ ਹੋ ਸਕਦੇ ਹਨ। ਇਸ ਦੀ ਮੂਲ ਭਾਸ਼ਾ ਵਿੱਚ ਮੌਜੂਦ ਮੂਲ ਦਸਤਾਵੇਜ਼ ਨੂੰ ਅਧਿਕਾਰਤ ਸਰੋਤ ਮੰਨਿਆ ਜਾਣਾ ਚਾਹੀਦਾ ਹੈ। ਮਹੱਤਵਪੂਰਨ ਜਾਣਕਾਰੀ ਲਈ, ਪੇਸ਼ੇਵਰ ਮਨੁੱਖੀ ਅਨੁਵਾਦ ਦੀ ਸਿਫਾਰਸ਼ ਕੀਤੀ ਜਾਂਦੀ ਹੈ। ਅਸੀਂ ਇਸ ਅਨੁਵਾਦ ਦੀ ਵਰਤੋਂ ਤੋਂ ਪੈਦਾ ਹੋਣ ਵਾਲੇ ਕਿਸੇ ਵੀ ਗਲਤਫਹਿਮੀ ਜਾਂ ਗਲਤ ਵਿਆਖਿਆ ਲਈ ਜ਼ਿੰਮੇਵਾਰ ਨਹੀਂ ਹਾਂ।\n"
   ]
  }
 ],
 "metadata": {
  "kernelspec": {
   "display_name": "Python 3",
   "language": "python",
   "name": "python3"
  },
  "language_info": {
   "codemirror_mode": {
    "name": "ipython",
    "version": 3
   },
   "file_extension": ".py",
   "mimetype": "text/x-python",
   "name": "python",
   "nbconvert_exporter": "python",
   "pygments_lexer": "ipython3",
   "version": "3.8.0"
  },
  "coopTranslator": {
   "original_hash": "1d472141d9df46b751542b3c29f88677",
   "translation_date": "2025-10-03T11:43:42+00:00",
   "source_file": "examples/03-image-classifier.ipynb",
   "language_code": "pa"
  }
 },
 "nbformat": 4,
 "nbformat_minor": 4
}