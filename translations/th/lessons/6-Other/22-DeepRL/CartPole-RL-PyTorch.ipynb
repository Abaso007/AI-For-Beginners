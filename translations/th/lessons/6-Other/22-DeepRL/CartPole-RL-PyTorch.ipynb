{
 "cells": [
  {
   "cell_type": "markdown",
   "metadata": {},
   "source": [
    "# การฝึก RL เพื่อควบคุมสมดุล Cartpole\n",
    "\n",
    "สมุดบันทึกนี้เป็นส่วนหนึ่งของ [หลักสูตร AI สำหรับผู้เริ่มต้น](http://aka.ms/ai-beginners) ซึ่งได้รับแรงบันดาลใจจาก [คู่มือ PyTorch อย่างเป็นทางการ](https://pytorch.org/tutorials/intermediate/reinforcement_q_learning.html) และ [การใช้งาน Cartpole ด้วย PyTorch นี้](https://github.com/yc930401/Actor-Critic-pytorch)\n",
    "\n",
    "ในตัวอย่างนี้ เราจะใช้ RL เพื่อฝึกโมเดลให้ควบคุมสมดุลของเสาที่ตั้งอยู่บนรถเข็น ซึ่งสามารถเคลื่อนที่ไปทางซ้ายและขวาบนแกนนอน เราจะใช้สภาพแวดล้อม [OpenAI Gym](https://www.gymlibrary.ml/) เพื่อจำลองเสาและรถเข็นนี้\n",
    "\n",
    "> **Note**: คุณสามารถรันโค้ดของบทเรียนนี้ในเครื่องของคุณเอง (เช่น จาก Visual Studio Code) ซึ่งในกรณีนี้ การจำลองจะเปิดในหน้าต่างใหม่ หากคุณรันโค้ดออนไลน์ คุณอาจต้องปรับแต่งโค้ดเล็กน้อยตามที่อธิบายไว้ [ที่นี่](https://towardsdatascience.com/rendering-openai-gym-envs-on-binder-and-google-colab-536f99391cc7)\n",
    "\n",
    "เราจะเริ่มต้นด้วยการตรวจสอบให้แน่ใจว่า Gym ได้รับการติดตั้งแล้ว:\n"
   ]
  },
  {
   "cell_type": "code",
   "execution_count": null,
   "metadata": {},
   "outputs": [],
   "source": [
    "import sys\n",
    "!{sys.executable} -m pip install gym"
   ]
  },
  {
   "cell_type": "markdown",
   "metadata": {},
   "source": [
    "ตอนนี้เรามาสร้างสภาพแวดล้อม CartPole และดูวิธีการใช้งานกัน สภาพแวดล้อมมีคุณสมบัติดังนี้:\n",
    "\n",
    "* **Action space** คือชุดของการกระทำที่เราสามารถทำได้ในแต่ละขั้นตอนของการจำลอง\n",
    "* **Observation space** คือพื้นที่ของการสังเกตที่เราสามารถทำได้\n"
   ]
  },
  {
   "cell_type": "code",
   "execution_count": null,
   "metadata": {},
   "outputs": [],
   "source": [
    "import gym\n",
    "\n",
    "env = gym.make(\"CartPole-v1\")\n",
    "\n",
    "print(f\"Action space: {env.action_space}\")\n",
    "print(f\"Observation space: {env.observation_space}\")"
   ]
  },
  {
   "cell_type": "markdown",
   "metadata": {},
   "source": [
    "มาดูกันว่าการจำลองสถานการณ์ทำงานอย่างไร ลูปด้านล่างนี้จะรันการจำลองจนกว่า `env.step` จะไม่คืนค่าสถานะสิ้นสุด `done` เราจะสุ่มเลือกการกระทำโดยใช้ `env.action_space.sample()` ซึ่งหมายความว่าการทดลองอาจล้มเหลวอย่างรวดเร็ว (สภาพแวดล้อม CartPole จะสิ้นสุดเมื่อความเร็ว ตำแหน่ง หรือมุมของ CartPole อยู่นอกขอบเขตที่กำหนด)\n",
    "\n",
    "> การจำลองจะเปิดในหน้าต่างใหม่ คุณสามารถรันโค้ดหลายครั้งและดูว่ามันทำงานอย่างไร\n"
   ]
  },
  {
   "cell_type": "code",
   "execution_count": null,
   "metadata": {},
   "outputs": [],
   "source": [
    "env.reset()\n",
    "\n",
    "done = False\n",
    "total_reward = 0\n",
    "while not done:\n",
    "   env.render()\n",
    "   obs, rew, done, info = env.step(env.action_space.sample())\n",
    "   total_reward += rew\n",
    "   print(f\"{obs} -> {rew}\")\n",
    "print(f\"Total reward: {total_reward}\")"
   ]
  },
  {
   "cell_type": "markdown",
   "metadata": {},
   "source": [
    "คุณสามารถสังเกตได้ว่าการสังเกตการณ์ประกอบด้วยตัวเลข 4 ตัว ได้แก่:\n",
    "- ตำแหน่งของรถเข็น\n",
    "- ความเร็วของรถเข็น\n",
    "- มุมของเสา\n",
    "- อัตราการหมุนของเสา\n",
    "\n",
    "`rew` คือรางวัลที่เราได้รับในแต่ละขั้นตอน ในสภาพแวดล้อมของ CartPole คุณจะได้รับรางวัล 1 คะแนนสำหรับแต่ละขั้นตอนการจำลอง และเป้าหมายคือการเพิ่มรางวัลรวมให้มากที่สุด นั่นคือเวลาที่ CartPole สามารถทรงตัวได้โดยไม่ล้ม\n",
    "\n",
    "ในระหว่างการเรียนรู้แบบเสริมกำลัง เป้าหมายของเราคือการฝึก **นโยบาย** $\\pi$ ซึ่งสำหรับแต่ละสถานะ $s$ จะบอกเราว่าควรดำเนินการ $a$ ใด ดังนั้นโดยพื้นฐานแล้ว $a = \\pi(s)$\n",
    "\n",
    "หากคุณต้องการวิธีแก้ปัญหาแบบมีความน่าจะเป็น คุณสามารถคิดว่านโยบายเป็นการคืนค่าความน่าจะเป็นสำหรับแต่ละการกระทำ เช่น $\\pi(a|s)$ หมายถึงความน่าจะเป็นที่เราควรดำเนินการ $a$ ในสถานะ $s$\n",
    "\n",
    "## วิธี Policy Gradient\n",
    "\n",
    "ในอัลกอริทึม RL ที่ง่ายที่สุดที่เรียกว่า **Policy Gradient** เราจะฝึกเครือข่ายประสาทเทียมเพื่อทำนายการกระทำถัดไป\n"
   ]
  },
  {
   "cell_type": "code",
   "execution_count": null,
   "metadata": {},
   "outputs": [],
   "source": [
    "import numpy as np\n",
    "import matplotlib.pyplot as plt\n",
    "import torch\n",
    "\n",
    "num_inputs = 4\n",
    "num_actions = 2\n",
    "\n",
    "model = torch.nn.Sequential(\n",
    "    torch.nn.Linear(num_inputs, 128, bias=False, dtype=torch.float32),\n",
    "    torch.nn.ReLU(),\n",
    "    torch.nn.Linear(128, num_actions, bias = False, dtype=torch.float32),\n",
    "    torch.nn.Softmax(dim=1)\n",
    ")"
   ]
  },
  {
   "cell_type": "markdown",
   "metadata": {},
   "source": [
    "เราจะฝึกเครือข่ายโดยการรันการทดลองหลายครั้ง และอัปเดตเครือข่ายของเราหลังจากแต่ละครั้ง มากำหนดฟังก์ชันที่จะรันการทดลองและส่งคืนผลลัพธ์ (ที่เรียกว่า **trace**) - สถานะทั้งหมด, การกระทำ (และความน่าจะเป็นที่แนะนำของพวกมัน), และรางวัล:\n"
   ]
  },
  {
   "cell_type": "code",
   "execution_count": null,
   "metadata": {},
   "outputs": [],
   "source": [
    "def run_episode(max_steps_per_episode = 10000,render=False):    \n",
    "    states, actions, probs, rewards = [],[],[],[]\n",
    "    state = env.reset()\n",
    "    for _ in range(max_steps_per_episode):\n",
    "        if render:\n",
    "            env.render()\n",
    "        action_probs = model(torch.from_numpy(np.expand_dims(state,0)))[0]\n",
    "        action = np.random.choice(num_actions, p=np.squeeze(action_probs.detach().numpy()))\n",
    "        nstate, reward, done, info = env.step(action)\n",
    "        if done:\n",
    "            break\n",
    "        states.append(state)\n",
    "        actions.append(action)\n",
    "        probs.append(action_probs.detach().numpy())\n",
    "        rewards.append(reward)\n",
    "        state = nstate\n",
    "    return np.vstack(states), np.vstack(actions), np.vstack(probs), np.vstack(rewards)"
   ]
  },
  {
   "cell_type": "markdown",
   "metadata": {},
   "source": [
    "คุณสามารถรันหนึ่งตอนด้วยเครือข่ายที่ยังไม่ได้รับการฝึกฝนและสังเกตว่าผลตอบแทนรวม (หรือที่เรียกว่าความยาวของตอน) นั้นต่ำมาก:\n"
   ]
  },
  {
   "cell_type": "code",
   "execution_count": null,
   "metadata": {},
   "outputs": [],
   "source": [
    "s, a, p, r = run_episode()\n",
    "print(f\"Total reward: {np.sum(r)}\")"
   ]
  },
  {
   "cell_type": "markdown",
   "metadata": {},
   "source": [
    "หนึ่งในแง่มุมที่ซับซ้อนของอัลกอริทึม policy gradient คือการใช้ **รางวัลที่ถูกลดทอน** แนวคิดคือเราคำนวณเวกเตอร์ของรางวัลรวมในแต่ละขั้นตอนของเกม และในระหว่างกระบวนการนี้เราลดทอนรางวัลในช่วงต้นโดยใช้สัมประสิทธิ์ $gamma$ นอกจากนี้เรายังปรับเวกเตอร์ที่ได้ให้เป็นมาตรฐาน เพราะเราจะใช้มันเป็นน้ำหนักเพื่อส่งผลต่อการฝึกอบรมของเรา:\n"
   ]
  },
  {
   "cell_type": "code",
   "execution_count": null,
   "metadata": {},
   "outputs": [],
   "source": [
    "eps = 0.0001\n",
    "\n",
    "def discounted_rewards(rewards,gamma=0.99,normalize=True):\n",
    "    ret = []\n",
    "    s = 0\n",
    "    for r in rewards[::-1]:\n",
    "        s = r + gamma * s\n",
    "        ret.insert(0, s)\n",
    "    if normalize:\n",
    "        ret = (ret-np.mean(ret))/(np.std(ret)+eps)\n",
    "    return ret"
   ]
  },
  {
   "cell_type": "markdown",
   "metadata": {},
   "source": [
    "มาเริ่มการฝึกกันเลย! เราจะรันทั้งหมด 300 ตอน และในแต่ละตอนเราจะทำตามขั้นตอนดังนี้:\n",
    "\n",
    "1. รันการทดลองและเก็บข้อมูลการทำงาน (trace)\n",
    "2. คำนวณความแตกต่าง (`gradients`) ระหว่างการกระทำที่เกิดขึ้นจริงและความน่าจะเป็นที่คาดการณ์ไว้ ความแตกต่างยิ่งน้อยเท่าไร เราก็ยิ่งมั่นใจมากขึ้นว่าเราได้เลือกการกระทำที่ถูกต้อง\n",
    "3. คำนวณรางวัลแบบลดค่า (discounted rewards) และคูณ `gradients` ด้วยรางวัลที่ลดค่าแล้ว - วิธีนี้จะช่วยให้ขั้นตอนที่มีรางวัลสูงส่งผลต่อผลลัพธ์สุดท้ายมากกว่าขั้นตอนที่มีรางวัลต่ำ\n",
    "4. การกระทำเป้าหมายที่คาดหวังสำหรับ neural network ของเราจะมาจากความน่าจะเป็นที่คาดการณ์ไว้ระหว่างการรัน และบางส่วนมาจาก `gradients` ที่คำนวณได้ เราจะใช้พารามิเตอร์ `alpha` เพื่อกำหนดว่าส่วนของ `gradients` และรางวัลจะถูกนำมาพิจารณาในระดับใด - ซึ่งเรียกว่าค่า *learning rate* ของอัลกอริธึมการเสริมกำลัง\n",
    "5. สุดท้าย เราจะฝึกเครือข่ายของเราด้วยสถานะและการกระทำที่คาดหวัง และทำซ้ำกระบวนการนี้\n"
   ]
  },
  {
   "cell_type": "code",
   "execution_count": null,
   "metadata": {},
   "outputs": [],
   "source": [
    "optimizer = torch.optim.Adam(model.parameters(), lr=0.01)\n",
    "\n",
    "def train_on_batch(x, y):\n",
    "    x = torch.from_numpy(x)\n",
    "    y = torch.from_numpy(y)\n",
    "    optimizer.zero_grad()\n",
    "    predictions = model(x)\n",
    "    loss = -torch.mean(torch.log(predictions) * y)\n",
    "    loss.backward()\n",
    "    optimizer.step()\n",
    "    return loss"
   ]
  },
  {
   "cell_type": "code",
   "execution_count": null,
   "metadata": {},
   "outputs": [],
   "source": [
    "alpha = 1e-4\n",
    "\n",
    "history = []\n",
    "for epoch in range(300):\n",
    "    states, actions, probs, rewards = run_episode()\n",
    "    one_hot_actions = np.eye(2)[actions.T][0]\n",
    "    gradients = one_hot_actions-probs\n",
    "    dr = discounted_rewards(rewards)\n",
    "    gradients *= dr\n",
    "    target = alpha*np.vstack([gradients])+probs\n",
    "    train_on_batch(states,target)\n",
    "    history.append(np.sum(rewards))\n",
    "    if epoch%100==0:\n",
    "        print(f\"{epoch} -> {np.sum(rewards)}\")\n",
    "\n",
    "plt.plot(history)"
   ]
  },
  {
   "cell_type": "markdown",
   "metadata": {},
   "source": [
    "ตอนนี้มาลองรันตอนพร้อมการเรนเดอร์เพื่อดูผลลัพธ์:\n"
   ]
  },
  {
   "cell_type": "code",
   "execution_count": null,
   "metadata": {},
   "outputs": [],
   "source": [
    "_ = run_episode(render=True)"
   ]
  },
  {
   "cell_type": "markdown",
   "metadata": {},
   "source": [
    "หวังว่าคุณจะเห็นแล้วว่าเสาไม้สามารถทรงตัวได้ค่อนข้างดีเลยทีเดียว!\n",
    "\n",
    "## โมเดล Actor-Critic\n",
    "\n",
    "โมเดล Actor-Critic เป็นการพัฒนาต่อยอดจาก policy gradients โดยเราจะสร้างโครงข่ายประสาทเทียม (neural network) เพื่อเรียนรู้ทั้งนโยบาย (policy) และรางวัลที่คาดการณ์ไว้ (estimated rewards) โครงข่ายนี้จะมีสองผลลัพธ์ (หรือคุณอาจมองว่าเป็นสองโครงข่ายแยกกันก็ได้):\n",
    "* **Actor** จะเสนอแนะการกระทำที่ควรทำ โดยให้การแจกแจงความน่าจะเป็นของสถานะ (state probability distribution) เช่นเดียวกับในโมเดล policy gradient\n",
    "* **Critic** จะประเมินว่ารางวัลที่ได้จากการกระทำเหล่านั้นจะเป็นอย่างไร โดยจะคืนค่ารางวัลรวมที่คาดการณ์ไว้ในอนาคตสำหรับสถานะที่กำหนด\n",
    "\n",
    "มาลองกำหนดโมเดลแบบนี้กัน:\n"
   ]
  },
  {
   "cell_type": "code",
   "execution_count": null,
   "metadata": {},
   "outputs": [],
   "source": [
    "from itertools import count\n",
    "import torch.nn.functional as F"
   ]
  },
  {
   "cell_type": "code",
   "execution_count": null,
   "metadata": {},
   "outputs": [],
   "source": [
    "device = torch.device(\"cuda\" if torch.cuda.is_available() else \"cpu\")\n",
    "env = gym.make(\"CartPole-v1\")\n",
    "\n",
    "state_size = env.observation_space.shape[0]\n",
    "action_size = env.action_space.n\n",
    "lr = 0.0001\n",
    "\n",
    "class Actor(torch.nn.Module):\n",
    "    def __init__(self, state_size, action_size):\n",
    "        super(Actor, self).__init__()\n",
    "        self.state_size = state_size\n",
    "        self.action_size = action_size\n",
    "        self.linear1 = torch.nn.Linear(self.state_size, 128)\n",
    "        self.linear2 = torch.nn.Linear(128, 256)\n",
    "        self.linear3 = torch.nn.Linear(256, self.action_size)\n",
    "\n",
    "    def forward(self, state):\n",
    "        output = F.relu(self.linear1(state))\n",
    "        output = F.relu(self.linear2(output))\n",
    "        output = self.linear3(output)\n",
    "        distribution = torch.distributions.Categorical(F.softmax(output, dim=-1))\n",
    "        return distribution\n",
    "\n",
    "\n",
    "class Critic(torch.nn.Module):\n",
    "    def __init__(self, state_size, action_size):\n",
    "        super(Critic, self).__init__()\n",
    "        self.state_size = state_size\n",
    "        self.action_size = action_size\n",
    "        self.linear1 = torch.nn.Linear(self.state_size, 128)\n",
    "        self.linear2 = torch.nn.Linear(128, 256)\n",
    "        self.linear3 = torch.nn.Linear(256, 1)\n",
    "\n",
    "    def forward(self, state):\n",
    "        output = F.relu(self.linear1(state))\n",
    "        output = F.relu(self.linear2(output))\n",
    "        value = self.linear3(output)\n",
    "        return value"
   ]
  },
  {
   "cell_type": "markdown",
   "metadata": {},
   "source": [
    "เราจำเป็นต้องปรับเปลี่ยนฟังก์ชัน `discounted_rewards` และ `run_episode` ของเราเล็กน้อย:\n"
   ]
  },
  {
   "cell_type": "code",
   "execution_count": null,
   "metadata": {},
   "outputs": [],
   "source": [
    "def discounted_rewards(next_value, rewards, masks, gamma=0.99):\n",
    "    R = next_value\n",
    "    returns = []\n",
    "    for step in reversed(range(len(rewards))):\n",
    "        R = rewards[step] + gamma * R * masks[step]\n",
    "        returns.insert(0, R)\n",
    "    return returns\n",
    "\n",
    "def run_episode(actor, critic, n_iters):\n",
    "    optimizerA = torch.optim.Adam(actor.parameters())\n",
    "    optimizerC = torch.optim.Adam(critic.parameters())\n",
    "    for iter in range(n_iters):\n",
    "        state = env.reset()\n",
    "        log_probs = []\n",
    "        values = []\n",
    "        rewards = []\n",
    "        masks = []\n",
    "        entropy = 0\n",
    "        env.reset()\n",
    "\n",
    "        for i in count():\n",
    "            env.render()\n",
    "            state = torch.FloatTensor(state).to(device)\n",
    "            dist, value = actor(state), critic(state)\n",
    "\n",
    "            action = dist.sample()\n",
    "            next_state, reward, done, _ = env.step(action.cpu().numpy())\n",
    "\n",
    "            log_prob = dist.log_prob(action).unsqueeze(0)\n",
    "            entropy += dist.entropy().mean()\n",
    "\n",
    "            log_probs.append(log_prob)\n",
    "            values.append(value)\n",
    "            rewards.append(torch.tensor([reward], dtype=torch.float, device=device))\n",
    "            masks.append(torch.tensor([1-done], dtype=torch.float, device=device))\n",
    "\n",
    "            state = next_state\n",
    "\n",
    "            if done:\n",
    "                print('Iteration: {}, Score: {}'.format(iter, i))\n",
    "                break\n",
    "\n",
    "\n",
    "        next_state = torch.FloatTensor(next_state).to(device)\n",
    "        next_value = critic(next_state)\n",
    "        returns = discounted_rewards(next_value, rewards, masks)\n",
    "\n",
    "        log_probs = torch.cat(log_probs)\n",
    "        returns = torch.cat(returns).detach()\n",
    "        values = torch.cat(values)\n",
    "\n",
    "        advantage = returns - values\n",
    "\n",
    "        actor_loss = -(log_probs * advantage.detach()).mean()\n",
    "        critic_loss = advantage.pow(2).mean()\n",
    "\n",
    "        optimizerA.zero_grad()\n",
    "        optimizerC.zero_grad()\n",
    "        actor_loss.backward()\n",
    "        critic_loss.backward()\n",
    "        optimizerA.step()\n",
    "        optimizerC.step()\n"
   ]
  },
  {
   "cell_type": "markdown",
   "metadata": {},
   "source": [
    "ตอนนี้เราจะเริ่มการวนลูปการฝึกอบรมหลัก เราจะใช้กระบวนการฝึกอบรมเครือข่ายแบบแมนนวลโดยการคำนวณฟังก์ชันการสูญเสียที่เหมาะสมและอัปเดตพารามิเตอร์ของเครือข่าย:\n"
   ]
  },
  {
   "cell_type": "code",
   "execution_count": null,
   "metadata": {},
   "outputs": [],
   "source": [
    "\n",
    "actor = Actor(state_size, action_size).to(device)\n",
    "critic = Critic(state_size, action_size).to(device)\n",
    "run_episode(actor, critic, n_iters=100)"
   ]
  },
  {
   "cell_type": "markdown",
   "metadata": {},
   "source": []
  },
  {
   "cell_type": "code",
   "execution_count": null,
   "metadata": {},
   "outputs": [],
   "source": [
    "env.close()"
   ]
  },
  {
   "cell_type": "markdown",
   "metadata": {},
   "source": [
    "## ข้อคิดสำคัญ\n",
    "\n",
    "เราได้เห็นอัลกอริทึม RL สองแบบในเดโมนี้: simple policy gradient และ actor-critic ที่ซับซ้อนมากขึ้น คุณจะเห็นว่าอัลกอริทึมเหล่านี้ทำงานโดยใช้แนวคิดเชิงนามธรรมของสถานะ การกระทำ และรางวัล - ดังนั้นจึงสามารถนำไปใช้กับสภาพแวดล้อมที่แตกต่างกันได้อย่างมาก\n",
    "\n",
    "การเรียนรู้แบบเสริมกำลังช่วยให้เราสามารถเรียนรู้กลยุทธ์ที่ดีที่สุดในการแก้ปัญหาได้เพียงแค่ดูที่รางวัลสุดท้าย ความจริงที่ว่าเราไม่จำเป็นต้องใช้ชุดข้อมูลที่มีการติดป้ายกำกับช่วยให้เราสามารถจำลองสถานการณ์ซ้ำหลายครั้งเพื่อปรับปรุงโมเดลของเราได้ อย่างไรก็ตาม RL ยังมีความท้าทายอีกมากมาย ซึ่งคุณอาจได้เรียนรู้หากคุณตัดสินใจที่จะมุ่งเน้นในด้านที่น่าสนใจนี้ของ AI\n"
   ]
  },
  {
   "cell_type": "markdown",
   "metadata": {},
   "source": [
    "\n---\n\n**ข้อจำกัดความรับผิดชอบ**:  \nเอกสารนี้ได้รับการแปลโดยใช้บริการแปลภาษา AI [Co-op Translator](https://github.com/Azure/co-op-translator) แม้ว่าเราจะพยายามให้การแปลมีความถูกต้อง แต่โปรดทราบว่าการแปลอัตโนมัติอาจมีข้อผิดพลาดหรือความไม่แม่นยำ เอกสารต้นฉบับในภาษาต้นทางควรถือเป็นแหล่งข้อมูลที่เชื่อถือได้ สำหรับข้อมูลที่สำคัญ ขอแนะนำให้ใช้บริการแปลภาษามนุษย์มืออาชีพ เราจะไม่รับผิดชอบต่อความเข้าใจผิดหรือการตีความที่ผิดพลาดซึ่งเกิดจากการใช้การแปลนี้\n"
   ]
  }
 ],
 "metadata": {
  "kernelspec": {
   "display_name": "Python 3.10.4 64-bit",
   "language": "python",
   "name": "python3"
  },
  "language_info": {
   "codemirror_mode": {
    "name": "ipython",
    "version": 3
   },
   "file_extension": ".py",
   "mimetype": "text/x-python",
   "name": "python",
   "nbconvert_exporter": "python",
   "pygments_lexer": "ipython3",
   "version": "3.10.4"
  },
  "orig_nbformat": 4,
  "vscode": {
   "interpreter": {
    "hash": "916dbcbb3f70747c44a77c7bcd40155683ae19c65e1c03b4aa3499c5328201f1"
   }
  },
  "coopTranslator": {
   "original_hash": "04f8d9978cd11281d81dd037cbf6ce20",
   "translation_date": "2025-08-29T09:37:58+00:00",
   "source_file": "lessons/6-Other/22-DeepRL/CartPole-RL-PyTorch.ipynb",
   "language_code": "th"
  }
 },
 "nbformat": 4,
 "nbformat_minor": 2
}