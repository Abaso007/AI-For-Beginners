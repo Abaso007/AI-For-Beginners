{
 "cells": [
  {
   "cell_type": "markdown",
   "metadata": {},
   "source": [
    "# การจำแนกตัวเลข MNIST ด้วยเฟรมเวิร์กของเราเอง\n",
    "\n",
    "งานในห้องปฏิบัติการจาก [AI for Beginners Curriculum](https://github.com/microsoft/ai-for-beginners).\n",
    "\n",
    "### การอ่านชุดข้อมูล\n",
    "\n",
    "โค้ดนี้จะดาวน์โหลดชุดข้อมูลจากที่เก็บบนอินเทอร์เน็ต คุณยังสามารถคัดลอกชุดข้อมูลด้วยตนเองจากไดเรกทอรี `/data` ในที่เก็บ AI Curriculum ได้เช่นกัน\n"
   ]
  },
  {
   "cell_type": "code",
   "execution_count": 4,
   "metadata": {
    "tags": []
   },
   "outputs": [
    {
     "name": "stderr",
     "output_type": "stream",
     "text": [
      "  % Total    % Received % Xferd  Average Speed   Time    Time     Time  Current\n",
      "                                 Dload  Upload   Total   Spent    Left  Speed\n",
      "\n",
      "  0     0    0     0    0     0      0      0 --:--:-- --:--:-- --:--:--     0\n",
      "100  9.9M  100  9.9M    0     0   9.9M      0  0:00:01 --:--:--  0:00:01 15.8M\n"
     ]
    }
   ],
   "source": [
    "!rm *.pkl\n",
    "!wget https://raw.githubusercontent.com/microsoft/AI-For-Beginners/main/data/mnist.pkl.gz\n",
    "!gzip -d mnist.pkl.gz"
   ]
  },
  {
   "cell_type": "code",
   "execution_count": 3,
   "metadata": {},
   "outputs": [],
   "source": [
    "import pickle\n",
    "with open('mnist.pkl','rb') as f:\n",
    "    MNIST = pickle.load(f)"
   ]
  },
  {
   "cell_type": "code",
   "execution_count": 4,
   "metadata": {},
   "outputs": [],
   "source": [
    "labels = MNIST['Train']['Labels']\n",
    "data = MNIST['Train']['Features']"
   ]
  },
  {
   "cell_type": "markdown",
   "metadata": {},
   "source": [
    "มาดูกันว่ารูปร่างของข้อมูลที่เรามีคืออะไร:\n"
   ]
  },
  {
   "cell_type": "code",
   "execution_count": 5,
   "metadata": {},
   "outputs": [
    {
     "data": {
      "text/plain": [
       "(42000, 784)"
      ]
     },
     "execution_count": 5,
     "metadata": {},
     "output_type": "execute_result"
    }
   ],
   "source": [
    "data.shape"
   ]
  },
  {
   "cell_type": "markdown",
   "metadata": {},
   "source": [
    "### การแบ่งข้อมูล\n",
    "\n",
    "เราจะใช้ Scikit Learn ในการแบ่งข้อมูลระหว่างชุดข้อมูลสำหรับการฝึกและชุดข้อมูลสำหรับการทดสอบ:\n"
   ]
  },
  {
   "cell_type": "code",
   "execution_count": 6,
   "metadata": {},
   "outputs": [
    {
     "name": "stdout",
     "output_type": "stream",
     "text": [
      "Train samples: 33600, test samples: 8400\n"
     ]
    }
   ],
   "source": [
    "from sklearn.model_selection import train_test_split\n",
    "\n",
    "features_train, features_test, labels_train, labels_test = train_test_split(data,labels,test_size=0.2)\n",
    "\n",
    "print(f\"Train samples: {len(features_train)}, test samples: {len(features_test)}\")"
   ]
  },
  {
   "cell_type": "markdown",
   "metadata": {},
   "source": [
    "### คำแนะนำ\n",
    "\n",
    "1. นำโค้ดเฟรมเวิร์กจากบทเรียนมาวางในโน้ตบุ๊กนี้ หรือ (จะดีกว่า) ในโมดูล Python แยกต่างหาก\n",
    "1. กำหนดและฝึกฝน perceptron ชั้นเดียว โดยสังเกตความแม่นยำของการฝึกและการตรวจสอบระหว่างการฝึก\n",
    "1. พยายามทำความเข้าใจว่ามีการ overfitting เกิดขึ้นหรือไม่ และปรับพารามิเตอร์ของชั้นเพื่อปรับปรุงความแม่นยำ\n",
    "1. ทำซ้ำขั้นตอนก่อนหน้าโดยใช้ perceptron 2 ชั้น และ 3 ชั้น ลองทดลองใช้ฟังก์ชันการกระตุ้นที่แตกต่างกันระหว่างชั้น\n",
    "1. พยายามตอบคำถามต่อไปนี้:\n",
    "    - ฟังก์ชันการกระตุ้นระหว่างชั้นมีผลต่อประสิทธิภาพของเครือข่ายหรือไม่?\n",
    "    - เราจำเป็นต้องใช้เครือข่าย 2 ชั้น หรือ 3 ชั้นสำหรับงานนี้หรือไม่?\n",
    "    - คุณพบปัญหาใด ๆ ในการฝึกเครือข่ายหรือไม่? โดยเฉพาะเมื่อจำนวนชั้นเพิ่มขึ้น\n",
    "    - น้ำหนักของเครือข่ายมีพฤติกรรมอย่างไรระหว่างการฝึก? คุณสามารถวาดกราฟค่าสูงสุดของค่าสัมบูรณ์ของน้ำหนักเทียบกับ epoch เพื่อทำความเข้าใจความสัมพันธ์\n"
   ]
  },
  {
   "cell_type": "code",
   "execution_count": null,
   "metadata": {},
   "outputs": [],
   "source": []
  },
  {
   "cell_type": "markdown",
   "metadata": {},
   "source": [
    "\n---\n\n**ข้อจำกัดความรับผิดชอบ**:  \nเอกสารนี้ได้รับการแปลโดยใช้บริการแปลภาษา AI [Co-op Translator](https://github.com/Azure/co-op-translator) แม้ว่าเราจะพยายามให้การแปลมีความถูกต้อง แต่โปรดทราบว่าการแปลอัตโนมัติอาจมีข้อผิดพลาดหรือความไม่แม่นยำ เอกสารต้นฉบับในภาษาต้นทางควรถือเป็นแหล่งข้อมูลที่เชื่อถือได้ สำหรับข้อมูลที่สำคัญ ขอแนะนำให้ใช้บริการแปลภาษาจากผู้เชี่ยวชาญ เราไม่รับผิดชอบต่อความเข้าใจผิดหรือการตีความที่ผิดพลาดซึ่งเกิดจากการใช้การแปลนี้\n"
   ]
  }
 ],
 "metadata": {
  "kernelspec": {
   "display_name": "Python 3.7.4 64-bit (conda)",
   "metadata": {
    "interpreter": {
     "hash": "86193a1ab0ba47eac1c69c1756090baa3b420b3eea7d4aafab8b85f8b312f0c5"
    }
   },
   "name": "python3"
  },
  "language_info": {
   "codemirror_mode": {
    "name": "ipython",
    "version": 3
   },
   "file_extension": ".py",
   "mimetype": "text/x-python",
   "name": "python",
   "nbconvert_exporter": "python",
   "pygments_lexer": "ipython3",
   "version": "3.9.5"
  },
  "orig_nbformat": 2,
  "coopTranslator": {
   "original_hash": "6fa055f484eb5d6bdf41166a356d3abf",
   "translation_date": "2025-08-29T10:21:11+00:00",
   "source_file": "lessons/3-NeuralNetworks/04-OwnFramework/lab/MyFW_MNIST.ipynb",
   "language_code": "th"
  }
 },
 "nbformat": 4,
 "nbformat_minor": 2
}