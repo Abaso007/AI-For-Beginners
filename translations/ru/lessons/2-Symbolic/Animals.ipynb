{
 "cells": [
  {
   "cell_type": "markdown",
   "metadata": {
    "collapsed": true
   },
   "source": [
    "# Реализация экспертной системы для определения животных\n",
    "\n",
    "Пример из [AI for Beginners Curriculum](http://github.com/microsoft/ai-for-beginners).\n",
    "\n",
    "В этом примере мы реализуем простую систему на основе знаний, которая определяет животное на основе некоторых физических характеристик. Система может быть представлена следующим деревом И-ИЛИ (это часть всего дерева, к которому можно легко добавить дополнительные правила):\n",
    "\n",
    "![](../../../../translated_images/AND-OR-Tree.5592d2c70187f283703c8e9c0d69d6a786eb370f4ace67f9a7aae5ada3d260b0.ru.png)\n"
   ]
  },
  {
   "cell_type": "markdown",
   "metadata": {},
   "source": [
    "## Наша собственная оболочка экспертных систем с обратным выводом\n",
    "\n",
    "Давайте попробуем определить простой язык для представления знаний на основе продукционных правил. Мы будем использовать классы Python в качестве ключевых слов для определения правил. По сути, будет три типа классов:\n",
    "* `Ask` представляет вопрос, который нужно задать пользователю. Он содержит набор возможных ответов.\n",
    "* `If` представляет правило и является просто синтаксическим сахаром для хранения содержания правила.\n",
    "* `AND`/`OR` — это классы для представления ветвей дерева И/ИЛИ. Они просто хранят список аргументов внутри. Чтобы упростить код, вся функциональность определена в родительском классе `Content`.\n"
   ]
  },
  {
   "cell_type": "code",
   "execution_count": 1,
   "metadata": {
    "trusted": true
   },
   "outputs": [],
   "source": [
    "class Ask():\n",
    "    def __init__(self,choices=['y','n']):\n",
    "        self.choices = choices\n",
    "    def ask(self):\n",
    "        if max([len(x) for x in self.choices])>1:\n",
    "            for i,x in enumerate(self.choices):\n",
    "                print(\"{0}. {1}\".format(i,x),flush=True)\n",
    "            x = int(input())\n",
    "            return self.choices[x]\n",
    "        else:\n",
    "            print(\"/\".join(self.choices),flush=True)\n",
    "            return input()\n",
    "\n",
    "class Content():\n",
    "    def __init__(self,x):\n",
    "        self.x=x\n",
    "        \n",
    "class If(Content):\n",
    "    pass\n",
    "\n",
    "class AND(Content):\n",
    "    pass\n",
    "\n",
    "class OR(Content):\n",
    "    pass"
   ]
  },
  {
   "cell_type": "markdown",
   "metadata": {},
   "source": [
    "В нашей системе рабочая память будет содержать список **фактов** в виде **пар атрибут-значение**. База знаний может быть определена как один большой словарь, который сопоставляет действия (новые факты, которые должны быть добавлены в рабочую память) с условиями, выраженными в виде AND-OR выражений. Также некоторые факты могут быть `Запрошены`.\n"
   ]
  },
  {
   "cell_type": "code",
   "execution_count": 2,
   "metadata": {
    "trusted": true
   },
   "outputs": [],
   "source": [
    "rules = {\n",
    "    'default': Ask(['y','n']),\n",
    "    'color' : Ask(['red-brown','black and white','other']),\n",
    "    'pattern' : Ask(['dark stripes','dark spots']),\n",
    "    'mammal': If(OR(['hair','gives milk'])),\n",
    "    'carnivor': If(OR([AND(['sharp teeth','claws','forward-looking eyes']),'eats meat'])),\n",
    "    'ungulate': If(['mammal',OR(['has hooves','chews cud'])]),\n",
    "    'bird': If(OR(['feathers',AND(['flies','lies eggs'])])),\n",
    "    'animal:monkey' : If(['mammal','carnivor','color:red-brown','pattern:dark spots']),\n",
    "    'animal:tiger' : If(['mammal','carnivor','color:red-brown','pattern:dark stripes']),\n",
    "    'animal:giraffe' : If(['ungulate','long neck','long legs','pattern:dark spots']),\n",
    "    'animal:zebra' : If(['ungulate','pattern:dark stripes']),\n",
    "    'animal:ostrich' : If(['bird','long nech','color:black and white','cannot fly']),\n",
    "    'animal:pinguin' : If(['bird','swims','color:black and white','cannot fly']),\n",
    "    'animal:albatross' : If(['bird','flies well'])\n",
    "}"
   ]
  },
  {
   "cell_type": "markdown",
   "metadata": {},
   "source": [
    "Чтобы выполнить обратное выведение, мы определим класс `Knowledgebase`. Он будет содержать:\n",
    "* Рабочую `память` - словарь, который сопоставляет атрибуты со значениями\n",
    "* `Правила` базы знаний в формате, определенном выше\n",
    "\n",
    "Два основных метода:\n",
    "* `get` для получения значения атрибута, выполняя выведение при необходимости. Например, `get('color')` получит значение слота цвета (при необходимости запросит его и сохранит значение для дальнейшего использования в рабочей памяти). Если мы запросим `get('color:blue')`, метод запросит цвет, а затем вернет значение `y`/`n` в зависимости от цвета.\n",
    "* `eval` выполняет фактическое выведение, то есть проходит по дереву AND/OR, оценивает подцели и т.д.\n"
   ]
  },
  {
   "cell_type": "code",
   "execution_count": 3,
   "metadata": {
    "trusted": true
   },
   "outputs": [],
   "source": [
    "class KnowledgeBase():\n",
    "    def __init__(self,rules):\n",
    "        self.rules = rules\n",
    "        self.memory = {}\n",
    "        \n",
    "    def get(self,name):\n",
    "        if ':' in name:\n",
    "            k,v = name.split(':')\n",
    "            vv = self.get(k)\n",
    "            return 'y' if v==vv else 'n'\n",
    "        if name in self.memory.keys():\n",
    "            return self.memory[name]\n",
    "        for fld in self.rules.keys():\n",
    "            if fld==name or fld.startswith(name+\":\"):\n",
    "                # print(\" + proving {}\".format(fld))\n",
    "                value = 'y' if fld==name else fld.split(':')[1]\n",
    "                res = self.eval(self.rules[fld],field=name)\n",
    "                if res!='y' and res!='n' and value=='y':\n",
    "                    self.memory[name] = res\n",
    "                    return res\n",
    "                if res=='y':\n",
    "                    self.memory[name] = value\n",
    "                    return value\n",
    "        # field is not found, using default\n",
    "        res = self.eval(self.rules['default'],field=name)\n",
    "        self.memory[name]=res\n",
    "        return res\n",
    "                \n",
    "    def eval(self,expr,field=None):\n",
    "        # print(\" + eval {}\".format(expr))\n",
    "        if isinstance(expr,Ask):\n",
    "            print(field)\n",
    "            return expr.ask()\n",
    "        elif isinstance(expr,If):\n",
    "            return self.eval(expr.x)\n",
    "        elif isinstance(expr,AND) or isinstance(expr,list):\n",
    "            expr = expr.x if isinstance(expr,AND) else expr\n",
    "            for x in expr:\n",
    "                if self.eval(x)=='n':\n",
    "                    return 'n'\n",
    "            return 'y'\n",
    "        elif isinstance(expr,OR):\n",
    "            for x in expr.x:\n",
    "                if self.eval(x)=='y':\n",
    "                    return 'y'\n",
    "            return 'n'\n",
    "        elif isinstance(expr,str):\n",
    "            return self.get(expr)\n",
    "        else:\n",
    "            print(\"Unknown expr: {}\".format(expr))"
   ]
  },
  {
   "cell_type": "markdown",
   "metadata": {},
   "source": [
    "Теперь давайте определим нашу базу знаний о животных и проведем консультацию. Обратите внимание, что этот вызов будет задавать вам вопросы. Вы можете отвечать, вводя `y`/`n` для вопросов с ответами \"да-нет\" или указывая число (0..N) для вопросов с более длинными вариантами ответов.\n"
   ]
  },
  {
   "cell_type": "code",
   "execution_count": 4,
   "metadata": {
    "trusted": true
   },
   "outputs": [
    {
     "name": "stdout",
     "output_type": "stream",
     "text": [
      "hair\n",
      "y/n\n",
      "sharp teeth\n",
      "y/n\n",
      "claws\n",
      "y/n\n",
      "forward-looking eyes\n",
      "y/n\n",
      "color\n",
      "0. red-brown\n",
      "1. black and white\n",
      "2. other\n",
      "has hooves\n",
      "y/n\n",
      "long neck\n",
      "y/n\n",
      "long legs\n",
      "y/n\n",
      "pattern\n",
      "0. dark stripes\n",
      "1. dark spots\n"
     ]
    },
    {
     "data": {
      "text/plain": [
       "'giraffe'"
      ]
     },
     "execution_count": 4,
     "metadata": {},
     "output_type": "execute_result"
    }
   ],
   "source": [
    "kb = KnowledgeBase(rules)\n",
    "kb.get('animal')"
   ]
  },
  {
   "cell_type": "markdown",
   "metadata": {},
   "source": [
    "## Использование PyKnow для прямого вывода\n",
    "\n",
    "В следующем примере мы попробуем реализовать прямой вывод, используя одну из библиотек для представления знаний, [PyKnow](https://github.com/buguroo/pyknow/). **PyKnow** — это библиотека для создания систем прямого вывода на Python, разработанная по аналогии с классической старой системой [CLIPS](http://www.clipsrules.net/index.html).\n",
    "\n",
    "Мы могли бы реализовать прямую цепочку вывода и самостоятельно без особых трудностей, но наивные реализации обычно не очень эффективны. Для более эффективного сопоставления правил используется специальный алгоритм [Rete](https://en.wikipedia.org/wiki/Rete_algorithm).\n"
   ]
  },
  {
   "cell_type": "code",
   "execution_count": 5,
   "metadata": {
    "trusted": true
   },
   "outputs": [
    {
     "name": "stdout",
     "output_type": "stream",
     "text": [
      "Collecting git+https://github.com/buguroo/pyknow/\n",
      "  Cloning https://github.com/buguroo/pyknow/ to /tmp/pip-req-build-3cqeulyl\n",
      "  Running command git clone --filter=blob:none --quiet https://github.com/buguroo/pyknow/ /tmp/pip-req-build-3cqeulyl\n",
      "  Resolved https://github.com/buguroo/pyknow/ to commit 48818336f2e9a126f1964f2d8dc22d37ff800fe8\n",
      "  Preparing metadata (setup.py) ... \u001b[?25ldone\n",
      "\u001b[?25hCollecting frozendict==1.2\n",
      "  Using cached frozendict-1.2.tar.gz (2.6 kB)\n",
      "  Preparing metadata (setup.py) ... \u001b[?25ldone\n",
      "\u001b[?25hCollecting schema==0.6.7\n",
      "  Using cached schema-0.6.7-py2.py3-none-any.whl (14 kB)\n",
      "Building wheels for collected packages: pyknow, frozendict\n",
      "  Building wheel for pyknow (setup.py) ... \u001b[?25ldone\n",
      "\u001b[?25h  Created wheel for pyknow: filename=pyknow-1.7.0-py3-none-any.whl size=34228 sha256=b7de5b09292c4007667c72f69b98d5a1b5f7324ff15f9dd8e077c3d5f7aade42\n",
      "  Stored in directory: /tmp/pip-ephem-wheel-cache-k7jpave7/wheels/81/1a/d3/f6c15dbe1955598a37755215f2a10449e7418500d7bd4b9508\n",
      "  Building wheel for frozendict (setup.py) ... \u001b[?25ldone\n",
      "\u001b[?25h  Created wheel for frozendict: filename=frozendict-1.2-py3-none-any.whl size=3148 sha256=2863d55c240d2409cddf05ccfe600591f8478681549fc97555c47c90dc6bb160\n",
      "  Stored in directory: /home/rg/.cache/pip/wheels/49/ac/f8/cb8120244e710bdb479c86198b03c7b08c3c2d3d2bf448fd6e\n",
      "Successfully built pyknow frozendict\n",
      "Installing collected packages: schema, frozendict, pyknow\n",
      "Successfully installed frozendict-1.2 pyknow-1.7.0 schema-0.6.7\n"
     ]
    }
   ],
   "source": [
    "import sys\n",
    "!{sys.executable} -m pip install git+https://github.com/buguroo/pyknow/"
   ]
  },
  {
   "cell_type": "code",
   "execution_count": 13,
   "metadata": {
    "trusted": true
   },
   "outputs": [],
   "source": [
    "from pyknow import *\n",
    "#import pyknow"
   ]
  },
  {
   "cell_type": "markdown",
   "metadata": {},
   "source": [
    "Мы определим нашу систему как класс, который является подклассом `KnowledgeEngine`. Каждое правило определяется отдельной функцией с аннотацией `@Rule`, которая указывает, когда правило должно сработать. Внутри правила мы можем добавлять новые факты с помощью функции `declare`, и добавление этих фактов приведет к вызову дополнительных правил движком прямого вывода.\n"
   ]
  },
  {
   "cell_type": "code",
   "execution_count": 14,
   "metadata": {
    "trusted": true
   },
   "outputs": [],
   "source": [
    "class Animals(KnowledgeEngine):\n",
    "    @Rule(OR(\n",
    "           AND(Fact('sharp teeth'),Fact('claws'),Fact('forward looking eyes')),\n",
    "           Fact('eats meat')))\n",
    "    def cornivor(self):\n",
    "        self.declare(Fact('carnivor'))\n",
    "        \n",
    "    @Rule(OR(Fact('hair'),Fact('gives milk')))\n",
    "    def mammal(self):\n",
    "        self.declare(Fact('mammal'))\n",
    "\n",
    "    @Rule(Fact('mammal'),\n",
    "          OR(Fact('has hooves'),Fact('chews cud')))\n",
    "    def hooves(self):\n",
    "        self.declare('ungulate')\n",
    "        \n",
    "    @Rule(OR(Fact('feathers'),AND(Fact('flies'),Fact('lays eggs'))))\n",
    "    def bird(self):\n",
    "        self.declare('bird')\n",
    "        \n",
    "    @Rule(Fact('mammal'),Fact('carnivor'),\n",
    "          Fact(color='red-brown'),\n",
    "          Fact(pattern='dark spots'))\n",
    "    def monkey(self):\n",
    "        self.declare(Fact(animal='monkey'))\n",
    "\n",
    "    @Rule(Fact('mammal'),Fact('carnivor'),\n",
    "          Fact(color='red-brown'),\n",
    "          Fact(pattern='dark stripes'))\n",
    "    def tiger(self):\n",
    "        self.declare(Fact(animal='tiger'))\n",
    "\n",
    "    @Rule(Fact('ungulate'),\n",
    "          Fact('long neck'),\n",
    "          Fact('long legs'),\n",
    "          Fact(pattern='dark spots'))\n",
    "    def giraffe(self):\n",
    "        self.declare(Fact(animal='giraffe'))\n",
    "\n",
    "    @Rule(Fact('ungulate'),\n",
    "          Fact(pattern='dark stripes'))\n",
    "    def zebra(self):\n",
    "        self.declare(Fact(animal='zebra'))\n",
    "\n",
    "    @Rule(Fact('bird'),\n",
    "          Fact('long neck'),\n",
    "          Fact('cannot fly'),\n",
    "          Fact(color='black and white'))\n",
    "    def straus(self):\n",
    "        self.declare(Fact(animal='ostrich'))\n",
    "\n",
    "    @Rule(Fact('bird'),\n",
    "          Fact('swims'),\n",
    "          Fact('cannot fly'),\n",
    "          Fact(color='black and white'))\n",
    "    def pinguin(self):\n",
    "        self.declare(Fact(animal='pinguin'))\n",
    "\n",
    "    @Rule(Fact('bird'),\n",
    "          Fact('flies well'))\n",
    "    def albatros(self):\n",
    "        self.declare(Fact(animal='albatross'))\n",
    "        \n",
    "    @Rule(Fact(animal=MATCH.a))\n",
    "    def print_result(self,a):\n",
    "          print('Animal is {}'.format(a))\n",
    "                    \n",
    "    def factz(self,l):\n",
    "        for x in l:\n",
    "            self.declare(x)"
   ]
  },
  {
   "cell_type": "markdown",
   "metadata": {},
   "source": [
    "Как только мы определили базу знаний, мы заполняем рабочую память некоторыми исходными фактами, а затем вызываем метод `run()`, чтобы выполнить вывод. В результате вы можете увидеть, что новые выведенные факты добавляются в рабочую память, включая конечный факт о животном (если мы правильно задали все исходные факты).\n"
   ]
  },
  {
   "cell_type": "code",
   "execution_count": 15,
   "metadata": {
    "trusted": true
   },
   "outputs": [
    {
     "name": "stdout",
     "output_type": "stream",
     "text": [
      "Animal is tiger\n"
     ]
    },
    {
     "data": {
      "text/plain": [
       "FactList([(0, InitialFact()),\n",
       "          (1, Fact(color='red-brown')),\n",
       "          (2, Fact(pattern='dark stripes')),\n",
       "          (3, Fact('sharp teeth')),\n",
       "          (4, Fact('claws')),\n",
       "          (5, Fact('forward looking eyes')),\n",
       "          (6, Fact('gives milk')),\n",
       "          (7, Fact('mammal')),\n",
       "          (8, Fact('carnivor')),\n",
       "          (9, Fact(animal='tiger'))])"
      ]
     },
     "execution_count": 15,
     "metadata": {},
     "output_type": "execute_result"
    }
   ],
   "source": [
    "ex1 = Animals()\n",
    "ex1.reset()\n",
    "ex1.factz([\n",
    "    Fact(color='red-brown'),\n",
    "    Fact(pattern='dark stripes'),\n",
    "    Fact('sharp teeth'),\n",
    "    Fact('claws'),\n",
    "    Fact('forward looking eyes'),\n",
    "    Fact('gives milk')])\n",
    "ex1.run()\n",
    "ex1.facts"
   ]
  },
  {
   "cell_type": "code",
   "execution_count": null,
   "metadata": {},
   "outputs": [],
   "source": []
  },
  {
   "cell_type": "markdown",
   "metadata": {},
   "source": [
    "\n---\n\n**Отказ от ответственности**:  \nЭтот документ был переведен с использованием сервиса автоматического перевода [Co-op Translator](https://github.com/Azure/co-op-translator). Несмотря на наши усилия обеспечить точность, автоматические переводы могут содержать ошибки или неточности. Оригинальный документ на его исходном языке следует считать авторитетным источником. Для получения критически важной информации рекомендуется профессиональный перевод человеком. Мы не несем ответственности за любые недоразумения или неправильные толкования, возникшие в результате использования данного перевода.\n"
   ]
  }
 ],
 "metadata": {
  "kernelspec": {
   "display_name": "Python 3.7.4 64-bit (conda)",
   "metadata": {
    "interpreter": {
     "hash": "86193a1ab0ba47eac1c69c1756090baa3b420b3eea7d4aafab8b85f8b312f0c5"
    }
   },
   "name": "python3"
  },
  "language_info": {
   "codemirror_mode": {
    "name": "ipython",
    "version": 3
   },
   "file_extension": ".py",
   "mimetype": "text/x-python",
   "name": "python",
   "nbconvert_exporter": "python",
   "pygments_lexer": "ipython3",
   "version": "3.11.2"
  },
  "coopTranslator": {
   "original_hash": "ab2bd97b0453415b89a469284609a8ce",
   "translation_date": "2025-08-28T11:30:36+00:00",
   "source_file": "lessons/2-Symbolic/Animals.ipynb",
   "language_code": "ru"
  }
 },
 "nbformat": 4,
 "nbformat_minor": 2
}