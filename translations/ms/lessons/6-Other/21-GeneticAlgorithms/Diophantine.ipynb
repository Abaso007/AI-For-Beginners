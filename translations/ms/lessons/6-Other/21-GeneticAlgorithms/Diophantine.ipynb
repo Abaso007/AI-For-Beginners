{
 "cells": [
  {
   "cell_type": "markdown",
   "metadata": {},
   "source": [
    "## Tugasan: Persamaan Diophantine\n",
    "\n",
    "> Tugasan ini adalah sebahagian daripada [Kurikulum AI untuk Pemula](http://github.com/microsoft/ai-for-beginners) dan diilhamkan oleh [post ini](https://habr.com/post/128704/).\n",
    "\n",
    "Matlamat anda adalah untuk menyelesaikan apa yang dipanggil **persamaan Diophantine** - persamaan dengan akar integer dan pekali integer. Sebagai contoh, pertimbangkan persamaan berikut:\n",
    "\n",
    "$$a+2b+3c+4d=30$$\n",
    "\n",
    "Anda perlu mencari akar integer $a$,$b$,$c$,$d\\in\\mathbb{N}$ yang memenuhi persamaan ini.\n",
    "\n",
    "Petunjuk:\n",
    "1. Anda boleh mempertimbangkan akar berada dalam julat [0;30]\n",
    "1. Sebagai gen, pertimbangkan untuk menggunakan senarai nilai akar\n"
   ]
  },
  {
   "cell_type": "markdown",
   "metadata": {},
   "source": []
  },
  {
   "cell_type": "markdown",
   "metadata": {},
   "source": [
    "\n---\n\n**Penafian**:  \nDokumen ini telah diterjemahkan menggunakan perkhidmatan terjemahan AI [Co-op Translator](https://github.com/Azure/co-op-translator). Walaupun kami berusaha untuk memastikan ketepatan, sila ambil perhatian bahawa terjemahan automatik mungkin mengandungi kesilapan atau ketidaktepatan. Dokumen asal dalam bahasa asalnya harus dianggap sebagai sumber yang berwibawa. Untuk maklumat penting, terjemahan manusia profesional adalah disyorkan. Kami tidak bertanggungjawab atas sebarang salah faham atau salah tafsir yang timbul daripada penggunaan terjemahan ini.\n"
   ]
  }
 ],
 "metadata": {
  "language_info": {
   "name": "python"
  },
  "orig_nbformat": 4,
  "coopTranslator": {
   "original_hash": "a967e1fa1e11ab2b6467b19349a4a9aa",
   "translation_date": "2025-08-29T12:53:22+00:00",
   "source_file": "lessons/6-Other/21-GeneticAlgorithms/Diophantine.ipynb",
   "language_code": "ms"
  }
 },
 "nbformat": 4,
 "nbformat_minor": 2
}