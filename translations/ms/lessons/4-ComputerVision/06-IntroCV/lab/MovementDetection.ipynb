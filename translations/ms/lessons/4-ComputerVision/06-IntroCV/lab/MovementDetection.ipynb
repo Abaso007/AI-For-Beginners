{
 "cells": [
  {
   "cell_type": "markdown",
   "metadata": {},
   "source": [
    "**Matlamat anda** adalah menggunakan Optical Flow untuk menentukan bahagian video yang mengandungi pergerakan ke atas/bawah/kiri/kanan.\n",
    "\n",
    "Mulakan dengan mendapatkan bingkai video seperti yang diterangkan dalam kuliah:\n"
   ]
  },
  {
   "cell_type": "code",
   "execution_count": null,
   "metadata": {},
   "outputs": [],
   "source": [
    "# Code here"
   ]
  },
  {
   "cell_type": "markdown",
   "metadata": {},
   "source": [
    "Sekarang, hitung bingkai aliran optik padat seperti yang diterangkan dalam kuliah, dan tukarkan aliran optik padat kepada koordinat polar:\n"
   ]
  },
  {
   "cell_type": "code",
   "execution_count": null,
   "metadata": {},
   "outputs": [],
   "source": [
    "# Code here"
   ]
  },
  {
   "cell_type": "markdown",
   "metadata": {},
   "source": [
    "Bina histogram arah untuk setiap bingkai aliran optik. Histogram menunjukkan berapa banyak vektor yang berada dalam julat tertentu, dan ia sepatutnya memisahkan arah pergerakan yang berbeza pada bingkai.\n",
    "\n",
    "> Anda juga mungkin mahu menetapkan nilai sifar untuk semua vektor yang magnitudnya di bawah ambang tertentu. Ini akan menghapuskan pergerakan kecil tambahan dalam video, seperti pergerakan mata dan kepala.\n",
    "\n",
    "Plot histogram untuk beberapa bingkai.\n"
   ]
  },
  {
   "cell_type": "code",
   "execution_count": null,
   "metadata": {},
   "outputs": [],
   "source": [
    "# Code here"
   ]
  },
  {
   "cell_type": "markdown",
   "metadata": {},
   "source": [
    "Melihat histogram, seharusnya agak mudah untuk menentukan arah pergerakan. Anda perlu memilih bin yang sepadan dengan arah atas/bawah/kiri/kanan, dan yang berada di atas ambang tertentu.\n"
   ]
  },
  {
   "cell_type": "code",
   "execution_count": null,
   "metadata": {},
   "outputs": [],
   "source": [
    "# Code here"
   ]
  },
  {
   "cell_type": "markdown",
   "metadata": {},
   "source": [
    "Tahniah! Jika anda telah melakukan semua langkah di atas, anda telah menyelesaikan makmal!\n"
   ]
  },
  {
   "cell_type": "markdown",
   "metadata": {},
   "source": [
    "\n---\n\n**Penafian**:  \nDokumen ini telah diterjemahkan menggunakan perkhidmatan terjemahan AI [Co-op Translator](https://github.com/Azure/co-op-translator). Walaupun kami berusaha untuk memastikan ketepatan, sila ambil maklum bahawa terjemahan automatik mungkin mengandungi kesilapan atau ketidaktepatan. Dokumen asal dalam bahasa asalnya harus dianggap sebagai sumber yang berwibawa. Untuk maklumat penting, terjemahan manusia profesional adalah disyorkan. Kami tidak bertanggungjawab atas sebarang salah faham atau salah tafsir yang timbul daripada penggunaan terjemahan ini.\n"
   ]
  }
 ],
 "metadata": {
  "language_info": {
   "name": "python"
  },
  "orig_nbformat": 4,
  "coopTranslator": {
   "original_hash": "153d9e417e079bf62f8f693002d0deaf",
   "translation_date": "2025-08-29T14:01:15+00:00",
   "source_file": "lessons/4-ComputerVision/06-IntroCV/lab/MovementDetection.ipynb",
   "language_code": "ms"
  }
 },
 "nbformat": 4,
 "nbformat_minor": 2
}