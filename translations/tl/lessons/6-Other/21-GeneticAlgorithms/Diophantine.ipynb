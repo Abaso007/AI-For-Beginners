{
 "cells": [
  {
   "cell_type": "markdown",
   "metadata": {},
   "source": [
    "## Takdang-Aralin: Mga Equation ng Diophantine\n",
    "\n",
    "> Ang takdang-araling ito ay bahagi ng [AI for Beginners Curriculum](http://github.com/microsoft/ai-for-beginners) at hango mula sa [post na ito](https://habr.com/post/128704/).\n",
    "\n",
    "Ang iyong layunin ay lutasin ang tinatawag na **Diophantine equation** - isang equation na may mga integer na ugat at integer na coefficients. Halimbawa, isaalang-alang ang sumusunod na equation:\n",
    "\n",
    "$$a+2b+3c+4d=30$$\n",
    "\n",
    "Kailangan mong hanapin ang mga integer na ugat $a$,$b$,$c$,$d\\in\\mathbb{N}$ na tumutugon sa equation na ito.\n",
    "\n",
    "Mga Pahiwatig:\n",
    "1. Maaari mong isaalang-alang na ang mga ugat ay nasa pagitan ng [0;30]\n",
    "1. Bilang isang gene, isaalang-alang ang paggamit ng listahan ng mga halaga ng ugat\n"
   ]
  },
  {
   "cell_type": "markdown",
   "metadata": {},
   "source": []
  },
  {
   "cell_type": "markdown",
   "metadata": {},
   "source": [
    "\n---\n\n**Paunawa**:  \nAng dokumentong ito ay isinalin gamit ang AI translation service na [Co-op Translator](https://github.com/Azure/co-op-translator). Bagama't sinisikap naming maging tumpak, tandaan na ang mga awtomatikong pagsasalin ay maaaring maglaman ng mga pagkakamali o hindi pagkakatugma. Ang orihinal na dokumento sa kanyang katutubong wika ang dapat ituring na opisyal na sanggunian. Para sa mahalagang impormasyon, inirerekomenda ang propesyonal na pagsasalin ng tao. Hindi kami mananagot sa anumang hindi pagkakaunawaan o maling interpretasyon na maaaring magmula sa paggamit ng pagsasaling ito.\n"
   ]
  }
 ],
 "metadata": {
  "language_info": {
   "name": "python"
  },
  "orig_nbformat": 4,
  "coopTranslator": {
   "original_hash": "a967e1fa1e11ab2b6467b19349a4a9aa",
   "translation_date": "2025-08-28T02:47:39+00:00",
   "source_file": "lessons/6-Other/21-GeneticAlgorithms/Diophantine.ipynb",
   "language_code": "tl"
  }
 },
 "nbformat": 4,
 "nbformat_minor": 2
}