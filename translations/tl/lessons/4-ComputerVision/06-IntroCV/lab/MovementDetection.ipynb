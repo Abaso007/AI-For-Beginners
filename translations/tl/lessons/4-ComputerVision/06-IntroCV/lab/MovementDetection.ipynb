{
 "cells": [
  {
   "cell_type": "markdown",
   "metadata": {},
   "source": [
    "**Ang layunin mo** ay gamitin ang Optical Flow upang matukoy kung aling mga bahagi ng video ang naglalaman ng mga galaw pataas/pababa/kaliwa/kanan.\n",
    "\n",
    "Simulan sa pagkuha ng mga frame ng video tulad ng ipinaliwanag sa lektura:\n"
   ]
  },
  {
   "cell_type": "code",
   "execution_count": null,
   "metadata": {},
   "outputs": [],
   "source": [
    "# Code here"
   ]
  },
  {
   "cell_type": "markdown",
   "metadata": {},
   "source": [
    "Ngayon, kalkulahin ang dense optical flow frames tulad ng inilarawan sa lektura, at i-convert ang dense optical flow sa polar coordinates:\n"
   ]
  },
  {
   "cell_type": "code",
   "execution_count": null,
   "metadata": {},
   "outputs": [],
   "source": [
    "# Code here"
   ]
  },
  {
   "cell_type": "markdown",
   "metadata": {},
   "source": [
    "Gumawa ng histogram ng mga direksyon para sa bawat optical flow frame. Ang isang histogram ay nagpapakita kung ilang vectors ang napapabilang sa bawat bin, at dapat nitong paghiwalayin ang iba't ibang direksyon ng galaw sa frame.\n",
    "\n",
    "> Maaari mo ring i-zero out ang lahat ng vectors na ang magnitude ay mas mababa sa isang tiyak na threshold. Makakatulong ito na alisin ang maliliit na dagdag na galaw sa video, tulad ng mga mata at ulo.\n",
    "\n",
    "I-plot ang mga histogram para sa ilan sa mga frame.\n"
   ]
  },
  {
   "cell_type": "code",
   "execution_count": null,
   "metadata": {},
   "outputs": [],
   "source": [
    "# Code here"
   ]
  },
  {
   "cell_type": "markdown",
   "metadata": {},
   "source": [
    "Sa pagtingin sa mga histogram, dapat medyo diretso kung paano matukoy ang direksyon ng galaw. Kailangan mong piliin ang mga bin na tumutugma sa pataas/pababa/kaliwa/kanang direksyon, at na nasa itaas ng tiyak na threshold.\n"
   ]
  },
  {
   "cell_type": "code",
   "execution_count": null,
   "metadata": {},
   "outputs": [],
   "source": [
    "# Code here"
   ]
  },
  {
   "cell_type": "markdown",
   "metadata": {},
   "source": [
    "Binabati kita! Kung nagawa mo ang lahat ng mga hakbang sa itaas, natapos mo na ang lab!\n"
   ]
  },
  {
   "cell_type": "markdown",
   "metadata": {},
   "source": [
    "\n---\n\n**Paunawa**:  \nAng dokumentong ito ay isinalin gamit ang AI translation service na [Co-op Translator](https://github.com/Azure/co-op-translator). Bagama't sinisikap naming maging tumpak, tandaan na ang mga awtomatikong pagsasalin ay maaaring maglaman ng mga pagkakamali o hindi pagkakatugma. Ang orihinal na dokumento sa kanyang katutubong wika ang dapat ituring na opisyal na sanggunian. Para sa mahalagang impormasyon, inirerekomenda ang propesyonal na pagsasalin ng tao. Hindi kami mananagot sa anumang hindi pagkakaunawaan o maling interpretasyon na maaaring magmula sa paggamit ng pagsasaling ito.\n"
   ]
  }
 ],
 "metadata": {
  "language_info": {
   "name": "python"
  },
  "orig_nbformat": 4,
  "coopTranslator": {
   "original_hash": "153d9e417e079bf62f8f693002d0deaf",
   "translation_date": "2025-08-28T03:20:33+00:00",
   "source_file": "lessons/4-ComputerVision/06-IntroCV/lab/MovementDetection.ipynb",
   "language_code": "tl"
  }
 },
 "nbformat": 4,
 "nbformat_minor": 2
}