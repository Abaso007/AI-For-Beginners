{
 "cells": [
  {
   "cell_type": "markdown",
   "metadata": {},
   "source": [
    "## Peopesa liikumise tuvastamine optilise voolu abil\n",
    "\n",
    "See labor on osa [AI algajatele õppekavast](http://aka.ms/ai-beginners).\n",
    "\n",
    "Vaadake [seda videot](../../../../../../lessons/4-ComputerVision/06-IntroCV/lab/palm-movement.mp4), kus inimese peopesa liigub vasakule/paremale/üles/alla stabiilse tausta ees.\n",
    "\n",
    "<img src=\"../../../../../../translated_images/palm-movement.341495f0e9c47da39cc1f99626822a1d20203aa33ff89a86a068f14bea133e84.et.png\" width=\"30%\" alt=\"Peopesa liikumise kaader\"/>\n",
    "\n",
    "**Teie eesmärk** on kasutada optilist voolu, et määrata, millised video osad sisaldavad üles/alla/vasakule/paremale liikumisi.\n",
    "\n",
    "Alustage videokaadrite hankimisest, nagu loengus kirjeldatud:\n"
   ]
  },
  {
   "cell_type": "code",
   "execution_count": null,
   "metadata": {},
   "outputs": [],
   "source": [
    "# Code here"
   ]
  },
  {
   "cell_type": "markdown",
   "metadata": {},
   "source": [
    "Nüüd arvutage tiheda optilise voo kaadrid, nagu loengus kirjeldatud, ja teisendage tihe optiline voog polaarkoordinaatideks:\n"
   ]
  },
  {
   "cell_type": "code",
   "execution_count": null,
   "metadata": {},
   "outputs": [],
   "source": [
    "# Code here"
   ]
  },
  {
   "cell_type": "markdown",
   "metadata": {},
   "source": [
    "Koosta iga optilise voolu kaadri jaoks suundade histogramm. Histogramm näitab, kui palju vektoreid langeb teatud vahemikku, ja see peaks eristama kaadril erinevaid liikumissuundi.\n",
    "\n",
    "> Võid samuti nullida kõik vektorid, mille suurus jääb alla teatud läve. See aitab eemaldada väikseid lisaliikumisi videos, nagu silmade ja pea liikumine.\n",
    "\n",
    "Joonista histogrammid mõne kaadri jaoks.\n"
   ]
  },
  {
   "cell_type": "code",
   "execution_count": null,
   "metadata": {},
   "outputs": [],
   "source": [
    "# Code here"
   ]
  },
  {
   "cell_type": "markdown",
   "metadata": {},
   "source": [
    "Histogramme vaadates peaks olema üsna lihtne liikumissuunda määrata. Tuleb valida need lahtrid, mis vastavad üles/alla/vasakule/paremale suundadele ja mis ületavad teatud läve.\n"
   ]
  },
  {
   "cell_type": "code",
   "execution_count": null,
   "metadata": {},
   "outputs": [],
   "source": [
    "# Code here"
   ]
  },
  {
   "cell_type": "markdown",
   "metadata": {},
   "source": [
    "Palju õnne! Kui oled kõik ülaltoodud sammud lõpetanud, oled labori lõpetanud!\n"
   ]
  },
  {
   "cell_type": "markdown",
   "metadata": {},
   "source": [
    "\n---\n\n**Lahtiütlus**:  \nSee dokument on tõlgitud AI tõlketeenuse [Co-op Translator](https://github.com/Azure/co-op-translator) abil. Kuigi püüame tagada täpsust, palume arvestada, et automaatsed tõlked võivad sisaldada vigu või ebatäpsusi. Algne dokument selle algses keeles tuleks pidada autoriteetseks allikaks. Olulise teabe puhul soovitame kasutada professionaalset inimtõlget. Me ei vastuta selle tõlke kasutamisest tulenevate arusaamatuste või valesti tõlgenduste eest.\n"
   ]
  }
 ],
 "metadata": {
  "language_info": {
   "name": "python"
  },
  "orig_nbformat": 4,
  "coopTranslator": {
   "original_hash": "153d9e417e079bf62f8f693002d0deaf",
   "translation_date": "2025-10-11T11:55:34+00:00",
   "source_file": "lessons/4-ComputerVision/06-IntroCV/lab/MovementDetection.ipynb",
   "language_code": "et"
  }
 },
 "nbformat": 4,
 "nbformat_minor": 2
}