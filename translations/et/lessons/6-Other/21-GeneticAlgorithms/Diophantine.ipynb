{
 "cells": [
  {
   "cell_type": "markdown",
   "metadata": {},
   "source": [
    "## Ülesanne: Diofantilised võrrandid\n",
    "\n",
    "> See ülesanne on osa [AI algajatele õppekavast](http://github.com/microsoft/ai-for-beginners) ja on inspireeritud [sellest postitusest](https://habr.com/post/128704/).\n",
    "\n",
    "Sinu eesmärk on lahendada nn **Diofantiline võrrand** – võrrand, millel on täisarvulised juured ja täisarvulised kordajad. Näiteks vaata järgmist võrrandit:\n",
    "\n",
    "$$a+2b+3c+4d=30$$\n",
    "\n",
    "Pead leidma täisarvulised juured $a$,$b$,$c$,$d\\in\\mathbb{N}$, mis rahuldavad seda võrrandit.\n",
    "\n",
    "Vihjed:\n",
    "1. Võid kaaluda juuri vahemikus [0;30]\n",
    "1. Geenina võid kasutada juurväärtuste loendit\n"
   ]
  },
  {
   "cell_type": "markdown",
   "metadata": {},
   "source": []
  },
  {
   "cell_type": "markdown",
   "metadata": {},
   "source": [
    "\n---\n\n**Lahtiütlus**:  \nSee dokument on tõlgitud, kasutades AI tõlketeenust [Co-op Translator](https://github.com/Azure/co-op-translator). Kuigi püüame tagada täpsust, palun arvestage, et automaatsed tõlked võivad sisaldada vigu või ebatäpsusi. Algne dokument selle algses keeles tuleks lugeda autoriteetseks allikaks. Olulise teabe puhul on soovitatav kasutada professionaalset inimtõlget. Me ei vastuta selle tõlke kasutamisest tulenevate arusaamatuste või valede tõlgenduste eest.\n"
   ]
  }
 ],
 "metadata": {
  "language_info": {
   "name": "python"
  },
  "orig_nbformat": 4,
  "coopTranslator": {
   "original_hash": "a967e1fa1e11ab2b6467b19349a4a9aa",
   "translation_date": "2025-10-11T13:01:19+00:00",
   "source_file": "lessons/6-Other/21-GeneticAlgorithms/Diophantine.ipynb",
   "language_code": "et"
  }
 },
 "nbformat": 4,
 "nbformat_minor": 2
}