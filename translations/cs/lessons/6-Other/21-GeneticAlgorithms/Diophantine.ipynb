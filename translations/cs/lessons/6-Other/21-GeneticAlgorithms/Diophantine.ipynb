{
 "cells": [
  {
   "cell_type": "markdown",
   "metadata": {},
   "source": [
    "## Úkol: Diofantické rovnice\n",
    "\n",
    "> Tento úkol je součástí [AI for Beginners Curriculum](http://github.com/microsoft/ai-for-beginners) a je inspirován [tímto článkem](https://habr.com/post/128704/).\n",
    "\n",
    "Vaším cílem je vyřešit tzv. **Diofantickou rovnici** – rovnici s celočíselnými kořeny a celočíselnými koeficienty. Například zvažte následující rovnici:\n",
    "\n",
    "$$a+2b+3c+4d=30$$\n",
    "\n",
    "Musíte najít celočíselné kořeny $a$,$b$,$c$,$d\\in\\mathbb{N}$, které tuto rovnici splňují.\n",
    "\n",
    "Tipy:\n",
    "1. Můžete uvažovat kořeny v intervalu [0;30]\n",
    "1. Jako gen zvažte použití seznamu hodnot kořenů\n"
   ]
  },
  {
   "cell_type": "markdown",
   "metadata": {},
   "source": []
  },
  {
   "cell_type": "markdown",
   "metadata": {},
   "source": [
    "\n---\n\n**Prohlášení**:  \nTento dokument byl přeložen pomocí služby pro automatický překlad [Co-op Translator](https://github.com/Azure/co-op-translator). I když se snažíme o co největší přesnost, mějte prosím na paměti, že automatické překlady mohou obsahovat chyby nebo nepřesnosti. Původní dokument v jeho původním jazyce by měl být považován za závazný zdroj. Pro důležité informace doporučujeme profesionální lidský překlad. Neodpovídáme za žádná nedorozumění nebo nesprávné výklady vyplývající z použití tohoto překladu.\n"
   ]
  }
 ],
 "metadata": {
  "language_info": {
   "name": "python"
  },
  "orig_nbformat": 4,
  "coopTranslator": {
   "original_hash": "a967e1fa1e11ab2b6467b19349a4a9aa",
   "translation_date": "2025-08-29T12:53:43+00:00",
   "source_file": "lessons/6-Other/21-GeneticAlgorithms/Diophantine.ipynb",
   "language_code": "cs"
  }
 },
 "nbformat": 4,
 "nbformat_minor": 2
}