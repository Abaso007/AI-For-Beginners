{
 "cells": [
  {
   "cell_type": "markdown",
   "metadata": {},
   "source": [
    "**Vaším cílem** bude použít optický tok k určení, které části videa obsahují pohyby nahoru/dolů/vlevo/vpravo.\n",
    "\n",
    "Začněte získáním snímků z videa, jak bylo popsáno v přednášce:\n"
   ]
  },
  {
   "cell_type": "code",
   "execution_count": null,
   "metadata": {},
   "outputs": [],
   "source": [
    "# Code here"
   ]
  },
  {
   "cell_type": "markdown",
   "metadata": {},
   "source": [
    "Nyní vypočítejte husté optické toky podle popisu v přednášce a převeďte husté optické toky na polární souřadnice:\n"
   ]
  },
  {
   "cell_type": "code",
   "execution_count": null,
   "metadata": {},
   "outputs": [],
   "source": [
    "# Code here"
   ]
  },
  {
   "cell_type": "markdown",
   "metadata": {},
   "source": [
    "Vytvořte histogram směrů pro každý snímek optického toku. Histogram ukazuje, kolik vektorů spadá do určitých intervalů, a měl by oddělit různé směry pohybu na snímku.\n",
    "\n",
    "> Možná budete chtít vynulovat všechny vektory, jejichž velikost je pod určitou prahovou hodnotou. Tím se odstraní malé nežádoucí pohyby ve videu, jako jsou pohyby očí a hlavy.\n",
    "\n",
    "Vykreslete histogramy pro některé ze snímků.\n"
   ]
  },
  {
   "cell_type": "code",
   "execution_count": null,
   "metadata": {},
   "outputs": [],
   "source": [
    "# Code here"
   ]
  },
  {
   "cell_type": "markdown",
   "metadata": {},
   "source": [
    "Při pohledu na histogramy by mělo být poměrně jednoduché určit směr pohybu. Musíte vybrat ty biny, které odpovídají směrům nahoru/dolů/vlevo/vpravo a které jsou nad určitou prahovou hodnotou.\n"
   ]
  },
  {
   "cell_type": "code",
   "execution_count": null,
   "metadata": {},
   "outputs": [],
   "source": [
    "# Code here"
   ]
  },
  {
   "cell_type": "markdown",
   "metadata": {},
   "source": [
    "Gratulujeme! Pokud jste splnili všechny výše uvedené kroky, dokončili jste laboratoř!\n"
   ]
  },
  {
   "cell_type": "markdown",
   "metadata": {},
   "source": [
    "\n---\n\n**Prohlášení**:  \nTento dokument byl přeložen pomocí služby pro automatický překlad [Co-op Translator](https://github.com/Azure/co-op-translator). Ačkoli se snažíme o přesnost, mějte prosím na paměti, že automatické překlady mohou obsahovat chyby nebo nepřesnosti. Původní dokument v jeho původním jazyce by měl být považován za autoritativní zdroj. Pro důležité informace doporučujeme profesionální lidský překlad. Neodpovídáme za žádná nedorozumění nebo nesprávné interpretace vyplývající z použití tohoto překladu.\n"
   ]
  }
 ],
 "metadata": {
  "language_info": {
   "name": "python"
  },
  "orig_nbformat": 4,
  "coopTranslator": {
   "original_hash": "153d9e417e079bf62f8f693002d0deaf",
   "translation_date": "2025-08-29T14:01:59+00:00",
   "source_file": "lessons/4-ComputerVision/06-IntroCV/lab/MovementDetection.ipynb",
   "language_code": "cs"
  }
 },
 "nbformat": 4,
 "nbformat_minor": 2
}