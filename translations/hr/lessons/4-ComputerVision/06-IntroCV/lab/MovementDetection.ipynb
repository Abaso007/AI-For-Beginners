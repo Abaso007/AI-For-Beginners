{
 "cells": [
  {
   "cell_type": "markdown",
   "metadata": {},
   "source": [
    "## Otkrivanje pokreta dlana pomoću optičkog toka\n",
    "\n",
    "Ova radionica dio je [kurikuluma AI za početnike](http://aka.ms/ai-beginners).\n",
    "\n",
    "Razmotrite [ovaj video](../../../../../../lessons/4-ComputerVision/06-IntroCV/lab/palm-movement.mp4), u kojem se dlan osobe pomiče lijevo/desno/gore/dolje na stabilnoj pozadini.\n",
    "\n",
    "**Vaš cilj** bio bi koristiti optički tok kako biste odredili koji dijelovi videa sadrže pokrete gore/dolje/lijevo/desno.\n",
    "\n",
    "Započnite s dobivanjem okvira iz videa kako je opisano na predavanju:\n"
   ]
  },
  {
   "cell_type": "code",
   "execution_count": null,
   "metadata": {},
   "outputs": [],
   "source": [
    "# Code here"
   ]
  },
  {
   "cell_type": "markdown",
   "metadata": {},
   "source": [
    "Sada izračunajte gusto optičko strujanje okvira kako je opisano na predavanju i pretvorite gusto optičko strujanje u polarne koordinate:\n"
   ]
  },
  {
   "cell_type": "code",
   "execution_count": null,
   "metadata": {},
   "outputs": [],
   "source": [
    "# Code here"
   ]
  },
  {
   "cell_type": "markdown",
   "metadata": {},
   "source": [
    "Izgradite histogram smjerova za svaki optički tok okvira. Histogram prikazuje koliko vektora spada u određeni bin i trebao bi razdvojiti različite smjerove kretanja na okviru.\n",
    "\n",
    "> Možda ćete također htjeti postaviti na nulu sve vektore čija je magnituda ispod određenog praga. Ovo će ukloniti male dodatne pokrete u videu, poput pokreta očiju i glave.\n",
    "\n",
    "Prikažite histograme za neke od okvira.\n"
   ]
  },
  {
   "cell_type": "code",
   "execution_count": null,
   "metadata": {},
   "outputs": [],
   "source": [
    "# Code here"
   ]
  },
  {
   "cell_type": "markdown",
   "metadata": {},
   "source": [
    "Gledajući histograme, trebalo bi biti prilično jednostavno odrediti smjer kretanja. Trebate odabrati one stupce koji odgovaraju smjerovima gore/dolje/lijevo/desno i koji su iznad određenog praga.\n"
   ]
  },
  {
   "cell_type": "code",
   "execution_count": null,
   "metadata": {},
   "outputs": [],
   "source": [
    "# Code here"
   ]
  },
  {
   "cell_type": "markdown",
   "metadata": {},
   "source": [
    "Čestitamo! Ako ste izvršili sve gore navedene korake, završili ste laboratorij!\n"
   ]
  },
  {
   "cell_type": "markdown",
   "metadata": {},
   "source": [
    "\n---\n\n**Odricanje od odgovornosti**:  \nOvaj dokument je preveden pomoću AI usluge za prevođenje [Co-op Translator](https://github.com/Azure/co-op-translator). Iako nastojimo osigurati točnost, imajte na umu da automatski prijevodi mogu sadržavati pogreške ili netočnosti. Izvorni dokument na izvornom jeziku treba smatrati autoritativnim izvorom. Za ključne informacije preporučuje se profesionalni prijevod od strane ljudskog prevoditelja. Ne preuzimamo odgovornost za bilo kakve nesporazume ili pogrešne interpretacije koje proizlaze iz korištenja ovog prijevoda.\n"
   ]
  }
 ],
 "metadata": {
  "language_info": {
   "name": "python"
  },
  "orig_nbformat": 4,
  "coopTranslator": {
   "original_hash": "153d9e417e079bf62f8f693002d0deaf",
   "translation_date": "2025-08-30T07:29:15+00:00",
   "source_file": "lessons/4-ComputerVision/06-IntroCV/lab/MovementDetection.ipynb",
   "language_code": "hr"
  }
 },
 "nbformat": 4,
 "nbformat_minor": 2
}