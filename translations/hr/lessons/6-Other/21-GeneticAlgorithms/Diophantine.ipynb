{
 "cells": [
  {
   "cell_type": "markdown",
   "metadata": {},
   "source": [
    "## Zadatak: Diofantove jednadžbe\n",
    "\n",
    "> Ovaj zadatak dio je [AI za početnike kurikuluma](http://github.com/microsoft/ai-for-beginners) i inspiriran je [ovim člankom](https://habr.com/post/128704/).\n",
    "\n",
    "Vaš cilj je riješiti takozvanu **Diofantovu jednadžbu** - jednadžbu s cijelim brojevima kao rješenjima i cijelim koeficijentima. Na primjer, razmotrite sljedeću jednadžbu:\n",
    "\n",
    "$$a+2b+3c+4d=30$$\n",
    "\n",
    "Potrebno je pronaći cijele brojeve $a$,$b$,$c$,$d\\in\\mathbb{N}$ koji zadovoljavaju ovu jednadžbu.\n",
    "\n",
    "Savjeti:\n",
    "1. Možete razmotriti rješenja u intervalu [0;30]\n",
    "1. Kao gen, razmislite o korištenju popisa vrijednosti korijena\n"
   ]
  },
  {
   "cell_type": "markdown",
   "metadata": {},
   "source": []
  },
  {
   "cell_type": "markdown",
   "metadata": {},
   "source": [
    "\n---\n\n**Odricanje od odgovornosti**:  \nOvaj dokument je preveden korištenjem AI usluge za prijevod [Co-op Translator](https://github.com/Azure/co-op-translator). Iako nastojimo osigurati točnost, imajte na umu da automatski prijevodi mogu sadržavati pogreške ili netočnosti. Izvorni dokument na izvornom jeziku treba smatrati mjerodavnim izvorom. Za ključne informacije preporučuje se profesionalni prijevod od strane stručnjaka. Ne preuzimamo odgovornost za bilo kakve nesporazume ili pogrešne interpretacije proizašle iz korištenja ovog prijevoda.\n"
   ]
  }
 ],
 "metadata": {
  "language_info": {
   "name": "python"
  },
  "orig_nbformat": 4,
  "coopTranslator": {
   "original_hash": "a967e1fa1e11ab2b6467b19349a4a9aa",
   "translation_date": "2025-08-30T07:07:58+00:00",
   "source_file": "lessons/6-Other/21-GeneticAlgorithms/Diophantine.ipynb",
   "language_code": "hr"
  }
 },
 "nbformat": 4,
 "nbformat_minor": 2
}