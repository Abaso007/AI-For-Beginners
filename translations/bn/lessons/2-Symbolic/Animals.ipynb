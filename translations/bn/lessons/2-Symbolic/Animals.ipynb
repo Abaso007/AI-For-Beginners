{
 "cells": [
  {
   "cell_type": "markdown",
   "metadata": {
    "collapsed": true
   },
   "source": [
    "# প্রাণী বিশেষজ্ঞ সিস্টেম বাস্তবায়ন\n",
    "\n",
    "[AI for Beginners Curriculum](http://github.com/microsoft/ai-for-beginners) থেকে একটি উদাহরণ।\n",
    "\n",
    "এই উদাহরণে, আমরা একটি সহজ জ্ঞান-ভিত্তিক সিস্টেম বাস্তবায়ন করব যা কিছু শারীরিক বৈশিষ্ট্যের উপর ভিত্তি করে একটি প্রাণী নির্ধারণ করবে। সিস্টেমটি নিম্নলিখিত AND-OR গাছ দ্বারা উপস্থাপন করা যেতে পারে (এটি পুরো গাছের একটি অংশ, আমরা সহজেই আরও কিছু নিয়ম যোগ করতে পারি):\n",
    "\n",
    "![](../../../../translated_images/AND-OR-Tree.5592d2c70187f283703c8e9c0d69d6a786eb370f4ace67f9a7aae5ada3d260b0.bn.png)\n"
   ]
  },
  {
   "cell_type": "markdown",
   "metadata": {},
   "source": [
    "## আমাদের নিজস্ব এক্সপার্ট সিস্টেম শেল ব্যাকওয়ার্ড ইনফারেন্স সহ\n",
    "\n",
    "চলুন প্রোডাকশন রুলের উপর ভিত্তি করে জ্ঞান উপস্থাপনার জন্য একটি সহজ ভাষা সংজ্ঞায়িত করার চেষ্টা করি। আমরা রুল সংজ্ঞায়িত করার জন্য Python ক্লাসগুলোকে কীওয়ার্ড হিসেবে ব্যবহার করব। মূলত তিন ধরনের ক্লাস থাকবে:\n",
    "* `Ask` একটি প্রশ্নকে উপস্থাপন করে যা ব্যবহারকারীকে জিজ্ঞাসা করতে হবে। এটি সম্ভাব্য উত্তরগুলোর সেট ধারণ করে।\n",
    "* `If` একটি নিয়মকে উপস্থাপন করে, এবং এটি শুধুমাত্র নিয়মের বিষয়বস্তু সংরক্ষণের জন্য একটি সিনট্যাকটিক সুগার।\n",
    "* `AND`/`OR` হল ক্লাসগুলো যা গাছের AND/OR শাখাগুলোকে উপস্থাপন করে। এগুলো শুধু ভিতরে আর্গুমেন্টগুলোর তালিকা সংরক্ষণ করে। কোড সহজ করার জন্য, সমস্ত কার্যকারিতা প্যারেন্ট ক্লাস `Content`-এ সংজ্ঞায়িত করা হয়েছে।\n"
   ]
  },
  {
   "cell_type": "code",
   "execution_count": 1,
   "metadata": {
    "trusted": true
   },
   "outputs": [],
   "source": [
    "class Ask():\n",
    "    def __init__(self,choices=['y','n']):\n",
    "        self.choices = choices\n",
    "    def ask(self):\n",
    "        if max([len(x) for x in self.choices])>1:\n",
    "            for i,x in enumerate(self.choices):\n",
    "                print(\"{0}. {1}\".format(i,x),flush=True)\n",
    "            x = int(input())\n",
    "            return self.choices[x]\n",
    "        else:\n",
    "            print(\"/\".join(self.choices),flush=True)\n",
    "            return input()\n",
    "\n",
    "class Content():\n",
    "    def __init__(self,x):\n",
    "        self.x=x\n",
    "        \n",
    "class If(Content):\n",
    "    pass\n",
    "\n",
    "class AND(Content):\n",
    "    pass\n",
    "\n",
    "class OR(Content):\n",
    "    pass"
   ]
  },
  {
   "cell_type": "markdown",
   "metadata": {},
   "source": [
    "আমাদের সিস্টেমে, কর্মরত মেমোরি **attribute-value pairs** হিসাবে **তথ্যগুলির** তালিকা ধারণ করবে। জ্ঞানভান্ডারকে একটি বড় ডিকশনারি হিসাবে সংজ্ঞায়িত করা যেতে পারে যা ক্রিয়াগুলিকে (নতুন তথ্য যা কর্মরত মেমোরিতে যোগ করা উচিত) শর্তগুলির সাথে মানচিত্র করে, যা AND-OR অভিব্যক্তি হিসাবে প্রকাশিত হয়। এছাড়াও, কিছু তথ্য `Ask` করা যেতে পারে।\n"
   ]
  },
  {
   "cell_type": "code",
   "execution_count": 2,
   "metadata": {
    "trusted": true
   },
   "outputs": [],
   "source": [
    "rules = {\n",
    "    'default': Ask(['y','n']),\n",
    "    'color' : Ask(['red-brown','black and white','other']),\n",
    "    'pattern' : Ask(['dark stripes','dark spots']),\n",
    "    'mammal': If(OR(['hair','gives milk'])),\n",
    "    'carnivor': If(OR([AND(['sharp teeth','claws','forward-looking eyes']),'eats meat'])),\n",
    "    'ungulate': If(['mammal',OR(['has hooves','chews cud'])]),\n",
    "    'bird': If(OR(['feathers',AND(['flies','lies eggs'])])),\n",
    "    'animal:monkey' : If(['mammal','carnivor','color:red-brown','pattern:dark spots']),\n",
    "    'animal:tiger' : If(['mammal','carnivor','color:red-brown','pattern:dark stripes']),\n",
    "    'animal:giraffe' : If(['ungulate','long neck','long legs','pattern:dark spots']),\n",
    "    'animal:zebra' : If(['ungulate','pattern:dark stripes']),\n",
    "    'animal:ostrich' : If(['bird','long nech','color:black and white','cannot fly']),\n",
    "    'animal:pinguin' : If(['bird','swims','color:black and white','cannot fly']),\n",
    "    'animal:albatross' : If(['bird','flies well'])\n",
    "}"
   ]
  },
  {
   "cell_type": "markdown",
   "metadata": {},
   "source": [
    "পিছনের দিকের অনুমান সম্পাদনের জন্য, আমরা `Knowledgebase` ক্লাসটি সংজ্ঞায়িত করব। এটি অন্তর্ভুক্ত করবে:\n",
    "* কার্যকরী `memory` - একটি ডিকশনারি যা অ্যাট্রিবিউটগুলিকে মানগুলোর সাথে ম্যাপ করে\n",
    "* Knowledgebase-এর `rules` - উপরে সংজ্ঞায়িত ফরম্যাটে\n",
    "\n",
    "দুটি প্রধান পদ্ধতি হল:\n",
    "* `get` - একটি অ্যাট্রিবিউটের মান প্রাপ্ত করার জন্য, প্রয়োজন হলে অনুমান সম্পাদন করে। উদাহরণস্বরূপ, `get('color')` একটি রঙের স্লটের মান পাবে (প্রয়োজন হলে জিজ্ঞাসা করবে এবং পরে ব্যবহারের জন্য কার্যকরী মেমোরিতে মানটি সংরক্ষণ করবে)। যদি আমরা `get('color:blue')` জিজ্ঞাসা করি, এটি একটি রঙ জিজ্ঞাসা করবে এবং তারপর রঙের উপর নির্ভর করে `y`/`n` মানটি ফেরত দেবে।\n",
    "* `eval` - আসল অনুমান সম্পাদন করে, অর্থাৎ AND/OR গাছটি অনুসন্ধান করে, সাব-গোলগুলো মূল্যায়ন করে ইত্যাদি।\n"
   ]
  },
  {
   "cell_type": "code",
   "execution_count": 3,
   "metadata": {
    "trusted": true
   },
   "outputs": [],
   "source": [
    "class KnowledgeBase():\n",
    "    def __init__(self,rules):\n",
    "        self.rules = rules\n",
    "        self.memory = {}\n",
    "        \n",
    "    def get(self,name):\n",
    "        if ':' in name:\n",
    "            k,v = name.split(':')\n",
    "            vv = self.get(k)\n",
    "            return 'y' if v==vv else 'n'\n",
    "        if name in self.memory.keys():\n",
    "            return self.memory[name]\n",
    "        for fld in self.rules.keys():\n",
    "            if fld==name or fld.startswith(name+\":\"):\n",
    "                # print(\" + proving {}\".format(fld))\n",
    "                value = 'y' if fld==name else fld.split(':')[1]\n",
    "                res = self.eval(self.rules[fld],field=name)\n",
    "                if res!='y' and res!='n' and value=='y':\n",
    "                    self.memory[name] = res\n",
    "                    return res\n",
    "                if res=='y':\n",
    "                    self.memory[name] = value\n",
    "                    return value\n",
    "        # field is not found, using default\n",
    "        res = self.eval(self.rules['default'],field=name)\n",
    "        self.memory[name]=res\n",
    "        return res\n",
    "                \n",
    "    def eval(self,expr,field=None):\n",
    "        # print(\" + eval {}\".format(expr))\n",
    "        if isinstance(expr,Ask):\n",
    "            print(field)\n",
    "            return expr.ask()\n",
    "        elif isinstance(expr,If):\n",
    "            return self.eval(expr.x)\n",
    "        elif isinstance(expr,AND) or isinstance(expr,list):\n",
    "            expr = expr.x if isinstance(expr,AND) else expr\n",
    "            for x in expr:\n",
    "                if self.eval(x)=='n':\n",
    "                    return 'n'\n",
    "            return 'y'\n",
    "        elif isinstance(expr,OR):\n",
    "            for x in expr.x:\n",
    "                if self.eval(x)=='y':\n",
    "                    return 'y'\n",
    "            return 'n'\n",
    "        elif isinstance(expr,str):\n",
    "            return self.get(expr)\n",
    "        else:\n",
    "            print(\"Unknown expr: {}\".format(expr))"
   ]
  },
  {
   "cell_type": "markdown",
   "metadata": {},
   "source": [
    "এখন চলুন আমাদের প্রাণী জ্ঞানভাণ্ডার সংজ্ঞায়িত করি এবং পরামর্শ কার্যক্রম সম্পাদন করি। লক্ষ্য করুন যে এই কলটি আপনাকে প্রশ্ন করবে। আপনি `y`/`n` টাইপ করে হ্যাঁ-না প্রশ্নের উত্তর দিতে পারেন, অথবা দীর্ঘ বহুবিকল্প প্রশ্নের জন্য সংখ্যা (0..N) নির্দিষ্ট করে উত্তর দিতে পারেন।\n"
   ]
  },
  {
   "cell_type": "code",
   "execution_count": 4,
   "metadata": {
    "trusted": true
   },
   "outputs": [
    {
     "name": "stdout",
     "output_type": "stream",
     "text": [
      "hair\n",
      "y/n\n",
      "sharp teeth\n",
      "y/n\n",
      "claws\n",
      "y/n\n",
      "forward-looking eyes\n",
      "y/n\n",
      "color\n",
      "0. red-brown\n",
      "1. black and white\n",
      "2. other\n",
      "has hooves\n",
      "y/n\n",
      "long neck\n",
      "y/n\n",
      "long legs\n",
      "y/n\n",
      "pattern\n",
      "0. dark stripes\n",
      "1. dark spots\n"
     ]
    },
    {
     "data": {
      "text/plain": [
       "'giraffe'"
      ]
     },
     "execution_count": 4,
     "metadata": {},
     "output_type": "execute_result"
    }
   ],
   "source": [
    "kb = KnowledgeBase(rules)\n",
    "kb.get('animal')"
   ]
  },
  {
   "cell_type": "markdown",
   "metadata": {},
   "source": [
    "## PyKnow ব্যবহার করে ফরোয়ার্ড ইনফারেন্স\n",
    "\n",
    "পরবর্তী উদাহরণে, আমরা জ্ঞান উপস্থাপনার জন্য একটি লাইব্রেরি, [PyKnow](https://github.com/buguroo/pyknow/) ব্যবহার করে ফরোয়ার্ড ইনফারেন্স বাস্তবায়নের চেষ্টা করব। **PyKnow** হলো একটি লাইব্রেরি যা পাইথনে ফরোয়ার্ড ইনফারেন্স সিস্টেম তৈরি করার জন্য ব্যবহৃত হয় এবং এটি ক্লাসিক্যাল পুরনো সিস্টেম [CLIPS](http://www.clipsrules.net/index.html)-এর মতো ডিজাইন করা হয়েছে।\n",
    "\n",
    "আমরা চাইলে নিজেরাই ফরোয়ার্ড চেইনিং বাস্তবায়ন করতে পারতাম, তেমন কোনো বড় সমস্যা ছাড়াই। তবে সাধারণ পদ্ধতিতে করা বাস্তবায়নগুলো সাধারণত খুব কার্যকর হয় না। আরও কার্যকরভাবে নিয়ম মেলানোর জন্য একটি বিশেষ অ্যালগরিদম [Rete](https://en.wikipedia.org/wiki/Rete_algorithm) ব্যবহার করা হয়।\n"
   ]
  },
  {
   "cell_type": "code",
   "execution_count": 5,
   "metadata": {
    "trusted": true
   },
   "outputs": [
    {
     "name": "stdout",
     "output_type": "stream",
     "text": [
      "Collecting git+https://github.com/buguroo/pyknow/\n",
      "  Cloning https://github.com/buguroo/pyknow/ to /tmp/pip-req-build-3cqeulyl\n",
      "  Running command git clone --filter=blob:none --quiet https://github.com/buguroo/pyknow/ /tmp/pip-req-build-3cqeulyl\n",
      "  Resolved https://github.com/buguroo/pyknow/ to commit 48818336f2e9a126f1964f2d8dc22d37ff800fe8\n",
      "  Preparing metadata (setup.py) ... \u001b[?25ldone\n",
      "\u001b[?25hCollecting frozendict==1.2\n",
      "  Using cached frozendict-1.2.tar.gz (2.6 kB)\n",
      "  Preparing metadata (setup.py) ... \u001b[?25ldone\n",
      "\u001b[?25hCollecting schema==0.6.7\n",
      "  Using cached schema-0.6.7-py2.py3-none-any.whl (14 kB)\n",
      "Building wheels for collected packages: pyknow, frozendict\n",
      "  Building wheel for pyknow (setup.py) ... \u001b[?25ldone\n",
      "\u001b[?25h  Created wheel for pyknow: filename=pyknow-1.7.0-py3-none-any.whl size=34228 sha256=b7de5b09292c4007667c72f69b98d5a1b5f7324ff15f9dd8e077c3d5f7aade42\n",
      "  Stored in directory: /tmp/pip-ephem-wheel-cache-k7jpave7/wheels/81/1a/d3/f6c15dbe1955598a37755215f2a10449e7418500d7bd4b9508\n",
      "  Building wheel for frozendict (setup.py) ... \u001b[?25ldone\n",
      "\u001b[?25h  Created wheel for frozendict: filename=frozendict-1.2-py3-none-any.whl size=3148 sha256=2863d55c240d2409cddf05ccfe600591f8478681549fc97555c47c90dc6bb160\n",
      "  Stored in directory: /home/rg/.cache/pip/wheels/49/ac/f8/cb8120244e710bdb479c86198b03c7b08c3c2d3d2bf448fd6e\n",
      "Successfully built pyknow frozendict\n",
      "Installing collected packages: schema, frozendict, pyknow\n",
      "Successfully installed frozendict-1.2 pyknow-1.7.0 schema-0.6.7\n"
     ]
    }
   ],
   "source": [
    "import sys\n",
    "!{sys.executable} -m pip install git+https://github.com/buguroo/pyknow/"
   ]
  },
  {
   "cell_type": "code",
   "execution_count": 13,
   "metadata": {
    "trusted": true
   },
   "outputs": [],
   "source": [
    "from pyknow import *\n",
    "#import pyknow"
   ]
  },
  {
   "cell_type": "markdown",
   "metadata": {},
   "source": [
    "আমরা আমাদের সিস্টেমকে `KnowledgeEngine` এর সাবক্লাস হিসাবে একটি ক্লাস হিসেবে সংজ্ঞায়িত করব। প্রতিটি নিয়ম একটি পৃথক ফাংশন দ্বারা সংজ্ঞায়িত করা হয় যা `@Rule` অ্যানোটেশন ব্যবহার করে, যা নির্ধারণ করে কখন নিয়মটি কার্যকর হবে। নিয়মের ভিতরে, আমরা `declare` ফাংশন ব্যবহার করে নতুন তথ্য যোগ করতে পারি, এবং সেই তথ্য যোগ করার ফলে ফরওয়ার্ড ইনফারেন্স ইঞ্জিন দ্বারা আরও কিছু নিয়ম কার্যকর হবে।\n"
   ]
  },
  {
   "cell_type": "code",
   "execution_count": 14,
   "metadata": {
    "trusted": true
   },
   "outputs": [],
   "source": [
    "class Animals(KnowledgeEngine):\n",
    "    @Rule(OR(\n",
    "           AND(Fact('sharp teeth'),Fact('claws'),Fact('forward looking eyes')),\n",
    "           Fact('eats meat')))\n",
    "    def cornivor(self):\n",
    "        self.declare(Fact('carnivor'))\n",
    "        \n",
    "    @Rule(OR(Fact('hair'),Fact('gives milk')))\n",
    "    def mammal(self):\n",
    "        self.declare(Fact('mammal'))\n",
    "\n",
    "    @Rule(Fact('mammal'),\n",
    "          OR(Fact('has hooves'),Fact('chews cud')))\n",
    "    def hooves(self):\n",
    "        self.declare('ungulate')\n",
    "        \n",
    "    @Rule(OR(Fact('feathers'),AND(Fact('flies'),Fact('lays eggs'))))\n",
    "    def bird(self):\n",
    "        self.declare('bird')\n",
    "        \n",
    "    @Rule(Fact('mammal'),Fact('carnivor'),\n",
    "          Fact(color='red-brown'),\n",
    "          Fact(pattern='dark spots'))\n",
    "    def monkey(self):\n",
    "        self.declare(Fact(animal='monkey'))\n",
    "\n",
    "    @Rule(Fact('mammal'),Fact('carnivor'),\n",
    "          Fact(color='red-brown'),\n",
    "          Fact(pattern='dark stripes'))\n",
    "    def tiger(self):\n",
    "        self.declare(Fact(animal='tiger'))\n",
    "\n",
    "    @Rule(Fact('ungulate'),\n",
    "          Fact('long neck'),\n",
    "          Fact('long legs'),\n",
    "          Fact(pattern='dark spots'))\n",
    "    def giraffe(self):\n",
    "        self.declare(Fact(animal='giraffe'))\n",
    "\n",
    "    @Rule(Fact('ungulate'),\n",
    "          Fact(pattern='dark stripes'))\n",
    "    def zebra(self):\n",
    "        self.declare(Fact(animal='zebra'))\n",
    "\n",
    "    @Rule(Fact('bird'),\n",
    "          Fact('long neck'),\n",
    "          Fact('cannot fly'),\n",
    "          Fact(color='black and white'))\n",
    "    def straus(self):\n",
    "        self.declare(Fact(animal='ostrich'))\n",
    "\n",
    "    @Rule(Fact('bird'),\n",
    "          Fact('swims'),\n",
    "          Fact('cannot fly'),\n",
    "          Fact(color='black and white'))\n",
    "    def pinguin(self):\n",
    "        self.declare(Fact(animal='pinguin'))\n",
    "\n",
    "    @Rule(Fact('bird'),\n",
    "          Fact('flies well'))\n",
    "    def albatros(self):\n",
    "        self.declare(Fact(animal='albatross'))\n",
    "        \n",
    "    @Rule(Fact(animal=MATCH.a))\n",
    "    def print_result(self,a):\n",
    "          print('Animal is {}'.format(a))\n",
    "                    \n",
    "    def factz(self,l):\n",
    "        for x in l:\n",
    "            self.declare(x)"
   ]
  },
  {
   "cell_type": "markdown",
   "metadata": {},
   "source": [
    "একবার আমরা একটি জ্ঞানভাণ্ডার সংজ্ঞায়িত করলে, আমরা আমাদের কার্যকরী মেমোরি কিছু প্রাথমিক তথ্য দিয়ে পূরণ করি, এবং তারপর `run()` পদ্ধতি কল করি সিদ্ধান্ত গ্রহণের জন্য। এর ফলে আপনি দেখতে পাবেন যে নতুন সিদ্ধান্ত নেওয়া তথ্য কার্যকরী মেমোরিতে যোগ করা হয়েছে, যার মধ্যে প্রাণীর সম্পর্কে চূড়ান্ত তথ্যও রয়েছে (যদি আমরা সমস্ত প্রাথমিক তথ্য সঠিকভাবে সেট আপ করি)।\n"
   ]
  },
  {
   "cell_type": "code",
   "execution_count": 15,
   "metadata": {
    "trusted": true
   },
   "outputs": [
    {
     "name": "stdout",
     "output_type": "stream",
     "text": [
      "Animal is tiger\n"
     ]
    },
    {
     "data": {
      "text/plain": [
       "FactList([(0, InitialFact()),\n",
       "          (1, Fact(color='red-brown')),\n",
       "          (2, Fact(pattern='dark stripes')),\n",
       "          (3, Fact('sharp teeth')),\n",
       "          (4, Fact('claws')),\n",
       "          (5, Fact('forward looking eyes')),\n",
       "          (6, Fact('gives milk')),\n",
       "          (7, Fact('mammal')),\n",
       "          (8, Fact('carnivor')),\n",
       "          (9, Fact(animal='tiger'))])"
      ]
     },
     "execution_count": 15,
     "metadata": {},
     "output_type": "execute_result"
    }
   ],
   "source": [
    "ex1 = Animals()\n",
    "ex1.reset()\n",
    "ex1.factz([\n",
    "    Fact(color='red-brown'),\n",
    "    Fact(pattern='dark stripes'),\n",
    "    Fact('sharp teeth'),\n",
    "    Fact('claws'),\n",
    "    Fact('forward looking eyes'),\n",
    "    Fact('gives milk')])\n",
    "ex1.run()\n",
    "ex1.facts"
   ]
  },
  {
   "cell_type": "code",
   "execution_count": null,
   "metadata": {},
   "outputs": [],
   "source": []
  },
  {
   "cell_type": "markdown",
   "metadata": {},
   "source": [
    "\n---\n\n**অস্বীকৃতি**:  \nএই নথিটি AI অনুবাদ পরিষেবা [Co-op Translator](https://github.com/Azure/co-op-translator) ব্যবহার করে অনুবাদ করা হয়েছে। আমরা যথাসম্ভব সঠিকতার জন্য চেষ্টা করি, তবে অনুগ্রহ করে মনে রাখবেন যে স্বয়ংক্রিয় অনুবাদে ত্রুটি বা অসঙ্গতি থাকতে পারে। মূল ভাষায় থাকা নথিটিকে প্রামাণিক উৎস হিসেবে বিবেচনা করা উচিত। গুরুত্বপূর্ণ তথ্যের জন্য, পেশাদার মানব অনুবাদ সুপারিশ করা হয়। এই অনুবাদ ব্যবহারের ফলে কোনো ভুল বোঝাবুঝি বা ভুল ব্যাখ্যা হলে আমরা দায়বদ্ধ থাকব না।\n"
   ]
  }
 ],
 "metadata": {
  "kernelspec": {
   "display_name": "Python 3.7.4 64-bit (conda)",
   "metadata": {
    "interpreter": {
     "hash": "86193a1ab0ba47eac1c69c1756090baa3b420b3eea7d4aafab8b85f8b312f0c5"
    }
   },
   "name": "python3"
  },
  "language_info": {
   "codemirror_mode": {
    "name": "ipython",
    "version": 3
   },
   "file_extension": ".py",
   "mimetype": "text/x-python",
   "name": "python",
   "nbconvert_exporter": "python",
   "pygments_lexer": "ipython3",
   "version": "3.11.2"
  },
  "coopTranslator": {
   "original_hash": "ab2bd97b0453415b89a469284609a8ce",
   "translation_date": "2025-08-28T11:30:08+00:00",
   "source_file": "lessons/2-Symbolic/Animals.ipynb",
   "language_code": "bn"
  }
 },
 "nbformat": 4,
 "nbformat_minor": 2
}