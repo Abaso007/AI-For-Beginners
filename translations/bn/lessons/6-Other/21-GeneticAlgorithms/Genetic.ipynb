{
 "cells": [
  {
   "cell_type": "markdown",
   "metadata": {
    "collapsed": true
   },
   "source": [
    "# জেনেটিক অ্যালগরিদম\n",
    "\n",
    "এই নোটবুকটি [AI for Beginners Curriculum](http://github.com/microsoft/ai-for-beginners)-এর অংশ।\n"
   ]
  },
  {
   "cell_type": "code",
   "execution_count": 2,
   "metadata": {
    "trusted": true
   },
   "outputs": [],
   "source": [
    "import random\n",
    "import matplotlib.pyplot as plt\n",
    "import numpy as np\n",
    "import math\n",
    "import time"
   ]
  },
  {
   "cell_type": "markdown",
   "metadata": {},
   "source": [
    "## কিছু তত্ত্ব\n",
    "\n",
    "**জেনেটিক অ্যালগরিদম** (GA) হলো AI-এর একটি **বিবর্তনমূলক পদ্ধতির** উপর ভিত্তি করে তৈরি, যেখানে জনসংখ্যার বিবর্তনের পদ্ধতি ব্যবহার করে একটি নির্দিষ্ট সমস্যার জন্য সর্বোত্তম সমাধান খুঁজে বের করা হয়। এটি ১৯৭৫ সালে [জন হেনরি হল্যান্ড](https://en.wikipedia.org/wiki/John_Henry_Holland) প্রস্তাব করেছিলেন।\n",
    "\n",
    "জেনেটিক অ্যালগরিদম নিম্নলিখিত ধারণাগুলোর উপর ভিত্তি করে তৈরি:\n",
    "* সমস্যার বৈধ সমাধানগুলোকে **জিন** হিসেবে উপস্থাপন করা যায়\n",
    "* **ক্রসওভার** আমাদের দুটি সমাধান একত্রিত করে নতুন বৈধ সমাধান পেতে সাহায্য করে\n",
    "* **সিলেকশন** ব্যবহার করে কিছু **ফিটনেস ফাংশন** এর মাধ্যমে আরও ভালো সমাধান নির্বাচন করা হয়\n",
    "* **মিউটেশন** প্রবর্তন করা হয় যাতে অপ্টিমাইজেশনকে অস্থিতিশীল করা যায় এবং লোকাল মিনিমাম থেকে বেরিয়ে আসা যায়\n",
    "\n",
    "যদি আপনি একটি জেনেটিক অ্যালগরিদম বাস্তবায়ন করতে চান, তাহলে আপনার প্রয়োজন হবে:\n",
    "\n",
    " * আমাদের সমস্যার সমাধানগুলোকে **জিন** $g\\in\\Gamma$ ব্যবহার করে কোডিং করার একটি পদ্ধতি খুঁজে বের করা\n",
    " * জিনের সেট $\\Gamma$ এর উপর **ফিটনেস ফাংশন** $\\mathrm{fit}: \\Gamma\\to\\mathbb{R}$ সংজ্ঞায়িত করা। ছোট ফাংশন মানগুলো ভালো সমাধানের সাথে সম্পর্কিত হবে।\n",
    " * দুটি জিন একত্রিত করে নতুন বৈধ সমাধান পাওয়ার জন্য **ক্রসওভার** পদ্ধতি সংজ্ঞায়িত করা $\\mathrm{crossover}: \\Gamma^2\\to\\Gamma$।\n",
    " * **মিউটেশন** পদ্ধতি সংজ্ঞায়িত করা $\\mathrm{mutate}: \\Gamma\\to\\Gamma$।\n",
    "অনেক ক্ষেত্রে, ক্রসওভার এবং মিউটেশন হলো জিনগুলোকে সংখ্যার ক্রম বা বিট ভেক্টর হিসেবে পরিচালনা করার সহজ অ্যালগরিদম।\n",
    "\n",
    "জেনেটিক অ্যালগরিদমের নির্দিষ্ট বাস্তবায়ন ক্ষেত্রভেদে পরিবর্তিত হতে পারে, তবে সামগ্রিক কাঠামো নিম্নরূপ:\n",
    "\n",
    "1. প্রাথমিক জনসংখ্যা নির্বাচন করুন $G\\subset\\Gamma$\n",
    "2. এই ধাপে সম্পাদিত হওয়া অপারেশনটি এলোমেলোভাবে নির্বাচন করুন: ক্রসওভার বা মিউটেশন \n",
    "3. **ক্রসওভার**:\n",
    "  * এলোমেলোভাবে দুটি জিন নির্বাচন করুন $g_1, g_2 \\in G$\n",
    "  * ক্রসওভার গণনা করুন $g=\\mathrm{crossover}(g_1,g_2)$\n",
    "  * যদি $\\mathrm{fit}(g)<\\mathrm{fit}(g_1)$ বা $\\mathrm{fit}(g)<\\mathrm{fit}(g_2)$ - জনসংখ্যায় সংশ্লিষ্ট জিনটি $g$ দ্বারা প্রতিস্থাপন করুন।\n",
    "4. **মিউটেশন** - এলোমেলোভাবে একটি জিন নির্বাচন করুন $g\\in G$ এবং এটি $\\mathrm{mutate}(g)$ দ্বারা প্রতিস্থাপন করুন\n",
    "5. ধাপ ২ থেকে পুনরাবৃত্তি করুন, যতক্ষণ না আমরা $\\mathrm{fit}$ এর যথেষ্ট ছোট মান পাই, অথবা ধাপের সংখ্যার সীমা পৌঁছায়।\n",
    "\n",
    "জেনেটিক অ্যালগরিদম দ্বারা সাধারণত সমাধান করা হয়:\n",
    "1. সময়সূচি অপ্টিমাইজেশন\n",
    "1. সর্বোত্তম প্যাকিং\n",
    "1. সর্বোত্তম কাটিং\n",
    "1. এক্সহস্টিভ সার্চ দ্রুততর করা\n"
   ]
  },
  {
   "cell_type": "markdown",
   "metadata": {},
   "source": [
    "## সমস্যা ১: ন্যায্য ধনভাগ\n",
    "\n",
    "**কাজ**:  \n",
    "দুই ব্যক্তি একটি ধনসম্পদ খুঁজে পেয়েছে, যেখানে বিভিন্ন আকারের (এবং সেই অনুযায়ী, বিভিন্ন মূল্যের) হীরা রয়েছে। তাদের এই ধনসম্পদকে দুই ভাগে ভাগ করতে হবে, যাতে মূল্যের পার্থক্য ০ (বা সর্বনিম্ন) হয়।\n",
    "\n",
    "**আনুষ্ঠানিক সংজ্ঞা**:  \n",
    "আমাদের কাছে একটি সংখ্যা সেট $S$ রয়েছে। আমাদের সেটটিকে দুইটি উপসেট $S_1$ এবং $S_2$-এ ভাগ করতে হবে, যাতে $$\\left|\\sum_{i\\in S_1}i - \\sum_{j\\in S_2}j\\right|\\to\\min$$ এবং $S_1\\cup S_2=S$, $S_1\\cap S_2=\\emptyset$ হয়।\n",
    "\n",
    "প্রথমে, আসুন সেট $S$ সংজ্ঞায়িত করি:\n"
   ]
  },
  {
   "cell_type": "code",
   "execution_count": 3,
   "metadata": {
    "trusted": true
   },
   "outputs": [
    {
     "name": "stdout",
     "output_type": "stream",
     "text": [
      "[8344 2197 9335 3131 5863 9429 3818 9791   15 5455 1396 9538 4872 6549\n",
      " 8587 5986 6021 9764 8102 5083 5739 7684 8498 3007 6599  820 7490 2372\n",
      " 9370 5235 3525 3154  859 1906 8159 3950 2173 2988 2050  349 8713 2284\n",
      " 4177 6033 1651 9176 5049 8201  171 5081 1216 3756 4711 2757 7738 1272\n",
      " 5650 6584 5395 9004 7797  969 8104 1283 1392 4001 5768  445  274  256\n",
      " 8239 8015 4381 9021 1189 8879 1411 3539 6526 8011  136 7230 2332  451\n",
      " 5702 2989 4320 2446 9578 8486 4027 2410 9588 8981 2177 1493 3232 9151\n",
      " 4835 5594 6859 8394  369 3200  126 4259 2283 7755 2014 2458 8327 8082\n",
      " 7413 7622 1206 5533 8751 3495 5868 8472 6850 3958 3149 4672 4810 6274\n",
      " 4700 6134 4627 4616 6656 9949  884 2256 7419 1926 7973 5319 5967 9158\n",
      " 3823 7697 9466 5675 5412 9784 5426 8209 3421 1136 6047 4429 8001 4417\n",
      " 1381  722 7350 6018 6235 7860 5853 7660 5937 6242    1 9552 3971 8302\n",
      " 2633 9227 7283  154 8599 4269 9392 8539 1630  368 2409 9351 3838 9814\n",
      " 6186 5743 5083 1325 1610  779 3643 3262 5768 8725  961 4611 6310 4788\n",
      " 1648 5951 8118 7779]\n"
     ]
    }
   ],
   "source": [
    "N = 200\n",
    "S = np.array([random.randint(1,10000) for _ in range(N)])\n",
    "print(S)"
   ]
  },
  {
   "cell_type": "markdown",
   "metadata": {},
   "source": [
    "সমস্যার প্রতিটি সম্ভাব্য সমাধানকে একটি বাইনারি ভেক্টর $B\\in\\{0,1\\}^N$ দ্বারা এনকোড করি, যেখানে $i$-তম অবস্থানে থাকা সংখ্যা দেখায় যে মূল সেট $S$-এর $i$-তম সংখ্যা কোন সেটে ($S_1$ বা $S_2$) অন্তর্ভুক্ত। `generate` ফাংশন সেই র্যান্ডম বাইনারি ভেক্টরগুলো তৈরি করবে।\n"
   ]
  },
  {
   "cell_type": "code",
   "execution_count": 5,
   "metadata": {
    "trusted": true
   },
   "outputs": [
    {
     "name": "stdout",
     "output_type": "stream",
     "text": [
      "[1 0 0 1 1 1 1 1 0 1 1 1 0 0 1 0 1 1 1 0 0 1 1 0 1 1 0 0 1 0 1 0 1 0 1 1 1\n",
      " 0 1 1 1 0 1 0 0 1 0 0 1 1 0 1 0 1 1 0 0 1 0 0 0 1 1 0 1 1 0 0 0 0 1 0 1 0\n",
      " 1 0 0 0 0 0 1 1 0 1 0 0 1 0 1 0 0 1 1 0 0 1 1 1 0 0 1 1 0 1 1 0 0 0 0 1 1\n",
      " 1 0 1 0 0 1 1 1 1 1 1 1 1 0 1 0 1 1 1 1 1 1 0 1 0 1 0 1 0 0 1 1 1 0 0 1 1\n",
      " 0 1 1 0 1 1 0 0 0 1 1 0 0 0 0 0 0 0 0 1 1 0 1 1 1 0 0 1 1 0 1 1 0 0 1 1 0\n",
      " 0 0 0 1 0 1 1 0 1 1 0 1 0 0 0]\n"
     ]
    }
   ],
   "source": [
    "def generate(S):\n",
    "    return np.array([random.randint(0,1) for _ in S])\n",
    "\n",
    "b = generate(S)\n",
    "print(b)"
   ]
  },
  {
   "cell_type": "markdown",
   "metadata": {},
   "source": [
    "এবার আসুন `fit` ফাংশনটি সংজ্ঞায়িত করি, যা সমাধানের \"খরচ\" গণনা করে। এটি হবে দুটি সেট, $S_1$ এবং $S_2$-এর যোগফলের মধ্যে পার্থক্য:\n"
   ]
  },
  {
   "cell_type": "code",
   "execution_count": 6,
   "metadata": {
    "trusted": true
   },
   "outputs": [
    {
     "data": {
      "text/plain": [
       "133784"
      ]
     },
     "execution_count": 6,
     "metadata": {},
     "output_type": "execute_result"
    }
   ],
   "source": [
    "def fit(B,S=S):\n",
    "    c1 = (B*S).sum()\n",
    "    c2 = ((1-B)*S).sum()\n",
    "    return abs(c1-c2)\n",
    "\n",
    "fit(b)"
   ]
  },
  {
   "cell_type": "markdown",
   "metadata": {},
   "source": [
    "এখন আমাদের মিউটেশন এবং ক্রসওভারের জন্য ফাংশন সংজ্ঞায়িত করতে হবে:  \n",
    "* মিউটেশনের জন্য, আমরা একটি র্যান্ডম বিট নির্বাচন করব এবং সেটি উল্টে দেব (০ থেকে ১ এবং ১ থেকে ০-এ পরিবর্তন করব)।  \n",
    "* ক্রসওভারের জন্য, আমরা একটি ভেক্টর থেকে কিছু বিট নেব এবং অন্য ভেক্টর থেকে কিছু বিট নেব। আমরা একই `generate` ফাংশন ব্যবহার করব র্যান্ডমভাবে নির্বাচন করার জন্য, কোন বিটগুলো ইনপুট মাস্কগুলোর মধ্যে থেকে নেওয়া হবে।  \n"
   ]
  },
  {
   "cell_type": "code",
   "execution_count": 7,
   "metadata": {
    "trusted": true
   },
   "outputs": [],
   "source": [
    "def mutate(b):\n",
    "    x = b.copy()\n",
    "    i = random.randint(0,len(b)-1)\n",
    "    x[i] = 1-x[i]\n",
    "    return x\n",
    "\n",
    "def xover(b1,b2):\n",
    "    x = generate(b1)\n",
    "    return b1*x+b2*(1-x)"
   ]
  },
  {
   "cell_type": "markdown",
   "metadata": {},
   "source": [
    "চলুন সমাধানগুলির প্রাথমিক জনসংখ্যা $P$ তৈরি করি যার আকার `pop_size`:\n"
   ]
  },
  {
   "cell_type": "code",
   "execution_count": 8,
   "metadata": {
    "trusted": true
   },
   "outputs": [],
   "source": [
    "pop_size = 30\n",
    "P = [generate(S) for _ in range(pop_size)]"
   ]
  },
  {
   "cell_type": "markdown",
   "metadata": {},
   "source": [
    "এখন, বিবর্তন সম্পাদনের প্রধান ফাংশন। `n` হলো বিবর্তনের ধাপের সংখ্যা যা সম্পন্ন করতে হবে। প্রতিটি ধাপে:\n",
    "* ৩০% সম্ভাবনায় আমরা একটি মিউটেশন সম্পাদন করি এবং সবচেয়ে খারাপ `fit` ফাংশনযুক্ত উপাদানকে মিউটেটেড উপাদান দিয়ে প্রতিস্থাপন করি\n",
    "* ৭০% সম্ভাবনায় আমরা ক্রসওভার সম্পাদন করি\n",
    "\n",
    "ফাংশনটি সেরা সমাধান (সেরা সমাধানের সাথে সম্পর্কিত জিন) এবং প্রতিটি পুনরাবৃত্তিতে জনসংখ্যার মধ্যে সর্বনিম্ন `fit` ফাংশনের ইতিহাস প্রদান করে।\n"
   ]
  },
  {
   "cell_type": "code",
   "execution_count": 9,
   "metadata": {
    "trusted": true
   },
   "outputs": [
    {
     "name": "stdout",
     "output_type": "stream",
     "text": [
      "[0 0 0 1 1 0 0 0 0 1 1 1 0 1 0 0 0 1 0 1 0 1 0 1 0 1 1 0 0 0 0 0 1 0 1 1 0\n",
      " 0 0 0 1 1 0 0 1 0 0 0 0 0 1 0 0 1 1 1 1 1 1 1 0 1 1 0 1 1 1 1 1 0 1 0 0 0\n",
      " 0 1 1 1 0 1 0 1 1 1 1 1 0 0 0 1 1 0 1 0 0 1 0 0 1 1 1 1 1 1 1 1 0 1 0 1 1\n",
      " 0 1 1 0 0 0 0 1 1 1 1 0 1 0 0 1 0 1 1 1 0 1 0 0 0 0 0 0 1 1 0 0 0 1 1 0 0\n",
      " 1 0 1 1 1 1 1 0 1 0 1 0 1 1 1 0 0 0 1 1 0 0 0 0 0 0 1 1 1 0 1 0 0 0 1 0 1\n",
      " 0 1 0 1 0 0 1 1 1 0 1 1 0 0 1] 4\n"
     ]
    }
   ],
   "source": [
    "def evolve(P,S=S,n=2000):\n",
    "    res = []\n",
    "    for _ in range(n):\n",
    "        f = min([fit(b) for b in P])\n",
    "        res.append(f)\n",
    "        if f==0:\n",
    "            break\n",
    "        if random.randint(1,10)<3:\n",
    "            i = random.randint(0,len(P)-1)\n",
    "            b = mutate(P[i])\n",
    "            i = np.argmax([fit(z) for z in P])\n",
    "            P[i] = b\n",
    "        else:\n",
    "            i = random.randint(0,len(P)-1)\n",
    "            j = random.randint(0,len(P)-1)\n",
    "            b = xover(P[i],P[j])\n",
    "            if fit(b)<fit(P[i]):\n",
    "                P[i]=b\n",
    "            elif fit(b)<fit(P[j]):\n",
    "                P[j]=b\n",
    "            else:\n",
    "                pass\n",
    "    i = np.argmin([fit(b) for b in P])\n",
    "    return (P[i],res)\n",
    "\n",
    "(s,hist) = evolve(P)\n",
    "print(s,fit(s))"
   ]
  },
  {
   "cell_type": "markdown",
   "metadata": {},
   "source": [
    "আপনি দেখতে পাচ্ছেন যে আমরা `fit` ফাংশনকে বেশ খানিকটা কমিয়ে আনতে সক্ষম হয়েছি! এখানে একটি গ্রাফ রয়েছে যা দেখায় যে পুরো জনসংখ্যার জন্য `fit` ফাংশন প্রক্রিয়ার সময় কীভাবে আচরণ করে।\n"
   ]
  },
  {
   "cell_type": "code",
   "execution_count": 10,
   "metadata": {
    "trusted": true
   },
   "outputs": [
    {
     "data": {
      "image/png": "[encoded data removed]",
      "text/plain": [
       "<Figure size 432x288 with 1 Axes>"
      ]
     },
     "metadata": {
      "needs_background": "light"
     },
     "output_type": "display_data"
    }
   ],
   "source": [
    "plt.plot(hist)\n",
    "plt.show()"
   ]
  },
  {
   "cell_type": "markdown",
   "metadata": {},
   "source": [
    "## সমস্যা ২: এন কুইন্স সমস্যা\n",
    "\n",
    "**কাজ**:  \n",
    "আপনাকে $N$ কুইন একটি $N\\times N$ আকারের দাবার বোর্ডে এমনভাবে স্থাপন করতে হবে যাতে তারা একে অপরকে আক্রমণ না করে।\n",
    "\n",
    "প্রথমে, জেনেটিক অ্যালগরিদম ব্যবহার না করে, পূর্ণ অনুসন্ধানের মাধ্যমে সমস্যাটি সমাধান করা যাক। আমরা বোর্ডের অবস্থাকে তালিকা $L$ দ্বারা উপস্থাপন করতে পারি, যেখানে তালিকার $i$-তম সংখ্যাটি $i$-তম সারিতে কুইনের অনুভূমিক অবস্থান নির্দেশ করে। এটি বেশ স্পষ্ট যে প্রতিটি সমাধানে প্রতিটি সারিতে শুধুমাত্র একটি কুইন থাকবে এবং প্রতিটি সারিতে একটি কুইন থাকবে।\n",
    "\n",
    "আমাদের লক্ষ্য হবে সমস্যার প্রথম সমাধান খুঁজে বের করা, যার পরে আমরা অনুসন্ধান বন্ধ করব। আপনি সহজেই এই ফাংশনটি প্রসারিত করে কুইনের জন্য সমস্ত সম্ভাব্য অবস্থান তৈরি করতে পারেন।\n"
   ]
  },
  {
   "cell_type": "code",
   "execution_count": 11,
   "metadata": {
    "trusted": true
   },
   "outputs": [
    {
     "name": "stdout",
     "output_type": "stream",
     "text": [
      "[1, 5, 8, 6, 3, 7, 2, 4]\n"
     ]
    },
    {
     "data": {
      "text/plain": [
       "True"
      ]
     },
     "execution_count": 11,
     "metadata": {},
     "output_type": "execute_result"
    }
   ],
   "source": [
    "N = 8\n",
    "\n",
    "def checkbeats(i_new,j_new,l):\n",
    "    for i,j in enumerate(l,start=1):\n",
    "        if j==j_new:\n",
    "            return False\n",
    "        else:\n",
    "            if abs(j-j_new) == i_new-i:\n",
    "                return False\n",
    "    return True\n",
    "\n",
    "def nqueens(l,N=8,disp=True):\n",
    "    if len(l)==N:\n",
    "        if disp: print(l)\n",
    "        return True\n",
    "    else:\n",
    "        for j in range(1,N+1):\n",
    "            if checkbeats(len(l)+1,j,l):\n",
    "                l.append(j)\n",
    "                if nqueens(l,N,disp): return True\n",
    "                else: l.pop()\n",
    "        return False\n",
    "            \n",
    "nqueens([],8)\n"
   ]
  },
  {
   "cell_type": "markdown",
   "metadata": {},
   "source": [
    "এখন চলুন মাপা যাক ২০-কুইন সমস্যা সমাধান করতে কতক্ষণ সময় লাগে:\n"
   ]
  },
  {
   "cell_type": "code",
   "execution_count": 12,
   "metadata": {
    "trusted": true
   },
   "outputs": [
    {
     "name": "stdout",
     "output_type": "stream",
     "text": [
      "10.6 s ± 2.17 s per loop (mean ± std. dev. of 7 runs, 1 loop each)\n"
     ]
    }
   ],
   "source": [
    "%timeit nqueens([],20,False)"
   ]
  },
  {
   "cell_type": "markdown",
   "metadata": {},
   "source": [
    "এখন আমরা একই সমস্যাটি জেনেটিক অ্যালগরিদম ব্যবহার করে সমাধান করব। এই সমাধানটি [এই ব্লগ পোস্ট](https://kushalvyas.github.io/gen_8Q.html) থেকে অনুপ্রাণিত।\n",
    "\n",
    "আমরা প্রতিটি সমাধানকে $N$ দৈর্ঘ্যের একই তালিকা দ্বারা উপস্থাপন করব, এবং `fit` ফাংশন হিসেবে আমরা এমন কুইনগুলোর সংখ্যা গ্রহণ করব যারা একে অপরকে আক্রমণ করে:\n"
   ]
  },
  {
   "cell_type": "code",
   "execution_count": 13,
   "metadata": {
    "trusted": true
   },
   "outputs": [],
   "source": [
    "def fit(L):\n",
    "    x=0\n",
    "    for i1,j1 in enumerate(L,1):\n",
    "        for i2,j2 in enumerate(L,1):\n",
    "            if i2>i1:\n",
    "                if j2==j1 or (abs(j2-j1)==i2-i1): x+=1\n",
    "    return x"
   ]
  },
  {
   "cell_type": "markdown",
   "metadata": {},
   "source": [
    "যেহেতু ফিটনেস ফাংশন গণনা করা সময়সাপেক্ষ, চলুন জনসংখ্যার প্রতিটি সমাধানকে ফিটনেস ফাংশনের মান সহ সংরক্ষণ করি। চলুন প্রাথমিক জনসংখ্যা তৈরি করি:\n"
   ]
  },
  {
   "cell_type": "code",
   "execution_count": 14,
   "metadata": {
    "trusted": true
   },
   "outputs": [
    {
     "data": {
      "text/plain": [
       "[(array([2, 3, 8, 7, 5, 4, 1, 6]), 4),\n",
       " (array([3, 4, 5, 1, 2, 8, 6, 7]), 8),\n",
       " (array([1, 3, 7, 4, 5, 8, 6, 2]), 6),\n",
       " (array([1, 5, 4, 6, 8, 3, 7, 2]), 4),\n",
       " (array([3, 5, 7, 1, 8, 6, 4, 2]), 3)]"
      ]
     },
     "execution_count": 14,
     "metadata": {},
     "output_type": "execute_result"
    }
   ],
   "source": [
    "def generate_one(N):\n",
    "    x = np.arange(1,N+1)\n",
    "    np.random.shuffle(x)\n",
    "    return (x,fit(x))\n",
    "\n",
    "def generate(N,NP):\n",
    "    return [generate_one(N) for _ in range(NP)]\n",
    "\n",
    "generate(8,5)"
   ]
  },
  {
   "cell_type": "markdown",
   "metadata": {},
   "source": [
    "এখন আমাদের মিউটেশন এবং ক্রসওভার ফাংশন সংজ্ঞায়িত করতে হবে। ক্রসওভার দুটি জিনকে একসাথে সংযুক্ত করবে, যেকোনো একটি র্যান্ডম পয়েন্টে ভেঙে এবং বিভিন্ন জিনের দুটি অংশ একত্রিত করে।\n"
   ]
  },
  {
   "cell_type": "code",
   "execution_count": 15,
   "metadata": {
    "trusted": true
   },
   "outputs": [
    {
     "data": {
      "text/plain": [
       "array([1, 2, 7, 8])"
      ]
     },
     "execution_count": 15,
     "metadata": {},
     "output_type": "execute_result"
    }
   ],
   "source": [
    "def mutate(G):\n",
    "    x=random.randint(0,len(G)-1)\n",
    "    G[x]=random.randint(1,len(G))\n",
    "    return G\n",
    "    \n",
    "def xover(G1,G2):\n",
    "    x=random.randint(0,len(G1))\n",
    "    return np.concatenate((G1[:x],G2[x:]))\n",
    "\n",
    "xover([1,2,3,4],[5,6,7,8])"
   ]
  },
  {
   "cell_type": "markdown",
   "metadata": {},
   "source": []
  },
  {
   "cell_type": "code",
   "execution_count": 17,
   "metadata": {
    "trusted": true
   },
   "outputs": [],
   "source": [
    "def choose_rand(P):\n",
    "    N=len(P[0][0])\n",
    "    mf = N*(N-1)//2 # max fitness fn\n",
    "    z = [mf-x[1] for x in P]\n",
    "    tf = sum(z) # total fitness\n",
    "    w = [x/tf for x in z]\n",
    "    p = np.random.choice(len(P),2,False,p=w)\n",
    "    return p[0],p[1]\n",
    "\n",
    "def choose(P):\n",
    "    def ch(w):\n",
    "        p=[]\n",
    "        while p==[]:\n",
    "            r = random.random()\n",
    "            p = [i for i,x in enumerate(P) if x[1]>=r]\n",
    "        return random.choice(p)\n",
    "    N=len(P[0][0])\n",
    "    mf = N*(N-1)//2 # max fitness fn\n",
    "    z = [mf-x[1] for x in P]\n",
    "    tf = sum(z) # total fitness\n",
    "    w = [x/tf for x in z]\n",
    "    p1=p2=0\n",
    "    while p1==p2:\n",
    "        p1 = ch(w)\n",
    "        p2 = ch(w)\n",
    "    return p1,p2"
   ]
  },
  {
   "cell_type": "markdown",
   "metadata": {},
   "source": [
    "এখন আমরা প্রধান বিবর্তনমূলক লুপটি সংজ্ঞায়িত করব। আমরা লজিকটি আগের উদাহরণের থেকে একটু ভিন্ন করব, যাতে বোঝানো যায় যে সৃজনশীল হওয়া সম্ভব। আমরা লুপ চালাব যতক্ষণ না আমরা নিখুঁত সমাধান পাই (fitness function=0), এবং প্রতিটি ধাপে আমরা বর্তমান প্রজন্ম নেব এবং একই আকারের নতুন প্রজন্ম তৈরি করব। এটি `nxgeneration` ফাংশন ব্যবহার করে করা হয়, নিম্নলিখিত ধাপগুলো অনুসরণ করে:\n",
    "\n",
    "1. সবচেয়ে অযোগ্য সমাধানগুলো বাদ দিন - এটি করার জন্য `discard_unfit` ফাংশন রয়েছে\n",
    "1. প্রজন্মে আরও কিছু র্যান্ডম সমাধান যোগ করুন\n",
    "1. প্রতিটি নতুন জিনের জন্য নিম্নলিখিত ধাপগুলো ব্যবহার করে আকার `gen_size` এর একটি নতুন প্রজন্ম তৈরি করুন:\n",
    "    - দুটি র্যান্ডম জিন নির্বাচন করুন, fitness function এর আনুপাতিক সম্ভাবনা অনুযায়ী\n",
    "    - একটি ক্রসওভার গণনা করুন\n",
    "    - `mutation_prob` সম্ভাবনা সহ একটি মিউটেশন প্রয়োগ করুন\n"
   ]
  },
  {
   "cell_type": "code",
   "execution_count": 20,
   "metadata": {
    "trusted": true
   },
   "outputs": [
    {
     "data": {
      "text/plain": [
       "(array([4, 7, 5, 3, 1, 6, 8, 2]), 0)"
      ]
     },
     "execution_count": 20,
     "metadata": {},
     "output_type": "execute_result"
    }
   ],
   "source": [
    "mutation_prob = 0.1\n",
    "\n",
    "def discard_unfit(P):\n",
    "    P.sort(key=lambda x:x[1])\n",
    "    return P[:len(P)//3]\n",
    "\n",
    "def nxgeneration(P):\n",
    "    gen_size=len(P)\n",
    "    P = discard_unfit(P)\n",
    "    P.extend(generate(len(P[0][0]),3))\n",
    "    new_gen = []\n",
    "    for _ in range(gen_size):\n",
    "        p1,p2 = choose_rand(P)\n",
    "        n = xover(P[p1][0],P[p2][0])\n",
    "        if random.random()<mutation_prob:\n",
    "            n=mutate(n)\n",
    "        nf = fit(n)\n",
    "        new_gen.append((n,nf))\n",
    "        '''\n",
    "        if (nf<=P[p1][1]) or (nf<=P[p2][1]):\n",
    "            new_gen.append((n,nf))\n",
    "        elif (P[p1][1]<P[p2][1]):\n",
    "            new_gen.append(P[p1])\n",
    "        else:\n",
    "            new_gen.append(P[p2])\n",
    "        '''\n",
    "    return new_gen\n",
    "    \n",
    "def genetic(N,pop_size=100):\n",
    "    P = generate(N,pop_size)\n",
    "    mf = min([x[1] for x in P])\n",
    "    n=0\n",
    "    while mf>0:\n",
    "        #print(\"Generation {0}, fit={1}\".format(n,mf))\n",
    "        n+=1\n",
    "        mf = min([x[1] for x in P])\n",
    "        P = nxgeneration(P)\n",
    "    mi = np.argmin([x[1] for x in P])\n",
    "    return P[mi]\n",
    "\n",
    "genetic(8)"
   ]
  },
  {
   "cell_type": "markdown",
   "metadata": {},
   "source": [
    "এটি আকর্ষণীয় যে বেশিরভাগ সময় আমরা খুব দ্রুত একটি সমাধান পেতে সক্ষম হই, কিন্তু কিছু বিরল ক্ষেত্রে অপ্টিমাইজেশন স্থানীয় ন্যূনতমে পৌঁছে যায়, এবং প্রক্রিয়াটি দীর্ঘ সময়ের জন্য আটকে থাকে। গড় সময় পরিমাপ করার সময় এটি বিবেচনায় নেওয়া গুরুত্বপূর্ণ: যদিও বেশিরভাগ ক্ষেত্রে জেনেটিক অ্যালগরিদম সম্পূর্ণ অনুসন্ধানের চেয়ে দ্রুত হয়, কিছু ক্ষেত্রে এটি বেশি সময় নিতে পারে। এই সমস্যাটি অতিক্রম করার জন্য, প্রায়শই প্রজন্মের সংখ্যা সীমাবদ্ধ করা যৌক্তিক হয়, এবং যদি আমরা সমাধান খুঁজে পেতে ব্যর্থ হই - আমরা নতুন করে শুরু করতে পারি।\n"
   ]
  },
  {
   "cell_type": "code",
   "execution_count": 19,
   "metadata": {
    "trusted": true
   },
   "outputs": [
    {
     "name": "stdout",
     "output_type": "stream",
     "text": [
      "The slowest run took 18.71 times longer than the fastest. This could mean that an intermediate result is being cached.\n",
      "26.4 s ± 28.7 s per loop (mean ± std. dev. of 7 runs, 1 loop each)\n"
     ]
    }
   ],
   "source": [
    "%timeit genetic(10)"
   ]
  },
  {
   "cell_type": "markdown",
   "metadata": {},
   "source": [
    "\n---\n\n**অস্বীকৃতি**:  \nএই নথিটি AI অনুবাদ পরিষেবা [Co-op Translator](https://github.com/Azure/co-op-translator) ব্যবহার করে অনুবাদ করা হয়েছে। আমরা যথাসম্ভব সঠিক অনুবাদের চেষ্টা করি, তবে অনুগ্রহ করে মনে রাখবেন যে স্বয়ংক্রিয় অনুবাদে ত্রুটি বা অসঙ্গতি থাকতে পারে। নথিটির মূল ভাষায় লেখা সংস্করণটিকেই প্রামাণিক উৎস হিসেবে বিবেচনা করা উচিত। গুরুত্বপূর্ণ তথ্যের জন্য, পেশাদার মানব অনুবাদ ব্যবহার করার পরামর্শ দেওয়া হচ্ছে। এই অনুবাদ ব্যবহারের ফলে সৃষ্ট কোনো ভুল বোঝাবুঝি বা ভুল ব্যাখ্যার জন্য আমরা দায়ী নই।  \n"
   ]
  }
 ],
 "metadata": {
  "interpreter": {
   "hash": "86193a1ab0ba47eac1c69c1756090baa3b420b3eea7d4aafab8b85f8b312f0c5"
  },
  "kernelspec": {
   "display_name": "Python 3.6",
   "language": "python",
   "name": "python3"
  },
  "language_info": {
   "codemirror_mode": {
    "name": "ipython",
    "version": 3
   },
   "file_extension": ".py",
   "mimetype": "text/x-python",
   "name": "python",
   "nbconvert_exporter": "python",
   "pygments_lexer": "ipython3",
   "version": "3.9.5"
  },
  "coopTranslator": {
   "original_hash": "1012c117808753433f6e2696e775ff4b",
   "translation_date": "2025-08-28T10:36:36+00:00",
   "source_file": "lessons/6-Other/21-GeneticAlgorithms/Genetic.ipynb",
   "language_code": "bn"
  }
 },
 "nbformat": 4,
 "nbformat_minor": 2
}