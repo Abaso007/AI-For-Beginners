{
 "cells": [
  {
   "cell_type": "markdown",
   "metadata": {},
   "source": [
    "# আমাদের নিজস্ব ফ্রেমওয়ার্ক দিয়ে MNIST ডিজিট শ্রেণীবিন্যাস\n",
    "\n",
    "[AI for Beginners Curriculum](https://github.com/microsoft/ai-for-beginners) থেকে ল্যাব অ্যাসাইনমেন্ট।\n",
    "\n",
    "### ডেটাসেট পড়া\n",
    "\n",
    "এই কোডটি ইন্টারনেটে রিপোজিটরি থেকে ডেটাসেট ডাউনলোড করে। আপনি চাইলে AI Curriculum রিপোর `/data` ডিরেক্টরি থেকে ডেটাসেট ম্যানুয়ালি কপি করতে পারেন।\n"
   ]
  },
  {
   "cell_type": "code",
   "execution_count": 4,
   "metadata": {
    "tags": []
   },
   "outputs": [
    {
     "name": "stderr",
     "output_type": "stream",
     "text": [
      "  % Total    % Received % Xferd  Average Speed   Time    Time     Time  Current\n",
      "                                 Dload  Upload   Total   Spent    Left  Speed\n",
      "\n",
      "  0     0    0     0    0     0      0      0 --:--:-- --:--:-- --:--:--     0\n",
      "100  9.9M  100  9.9M    0     0   9.9M      0  0:00:01 --:--:--  0:00:01 15.8M\n"
     ]
    }
   ],
   "source": [
    "!rm *.pkl\n",
    "!wget https://raw.githubusercontent.com/microsoft/AI-For-Beginners/main/data/mnist.pkl.gz\n",
    "!gzip -d mnist.pkl.gz"
   ]
  },
  {
   "cell_type": "code",
   "execution_count": 3,
   "metadata": {},
   "outputs": [],
   "source": [
    "import pickle\n",
    "with open('mnist.pkl','rb') as f:\n",
    "    MNIST = pickle.load(f)"
   ]
  },
  {
   "cell_type": "code",
   "execution_count": 4,
   "metadata": {},
   "outputs": [],
   "source": [
    "labels = MNIST['Train']['Labels']\n",
    "data = MNIST['Train']['Features']"
   ]
  },
  {
   "cell_type": "markdown",
   "metadata": {},
   "source": [
    "চলুন দেখি আমাদের কাছে থাকা ডেটার আকৃতি কী:\n"
   ]
  },
  {
   "cell_type": "code",
   "execution_count": 5,
   "metadata": {},
   "outputs": [
    {
     "data": {
      "text/plain": [
       "(42000, 784)"
      ]
     },
     "execution_count": 5,
     "metadata": {},
     "output_type": "execute_result"
    }
   ],
   "source": [
    "data.shape"
   ]
  },
  {
   "cell_type": "markdown",
   "metadata": {},
   "source": [
    "### ডেটা বিভাজন\n",
    "\n",
    "আমরা Scikit Learn ব্যবহার করে ডেটাকে প্রশিক্ষণ এবং টেস্ট ডেটাসেটে বিভক্ত করব:\n"
   ]
  },
  {
   "cell_type": "code",
   "execution_count": 6,
   "metadata": {},
   "outputs": [
    {
     "name": "stdout",
     "output_type": "stream",
     "text": [
      "Train samples: 33600, test samples: 8400\n"
     ]
    }
   ],
   "source": [
    "from sklearn.model_selection import train_test_split\n",
    "\n",
    "features_train, features_test, labels_train, labels_test = train_test_split(data,labels,test_size=0.2)\n",
    "\n",
    "print(f\"Train samples: {len(features_train)}, test samples: {len(features_test)}\")"
   ]
  },
  {
   "cell_type": "markdown",
   "metadata": {},
   "source": [
    "### নির্দেশাবলী\n",
    "\n",
    "1. পাঠ থেকে ফ্রেমওয়ার্ক কোডটি নিয়ে এই নোটবুকে পেস্ট করুন, অথবা (আরও ভালো) একটি আলাদা Python মডিউলে পেস্ট করুন।\n",
    "1. এক-স্তর বিশিষ্ট পার্সেপট্রন সংজ্ঞায়িত করুন এবং প্রশিক্ষণ দিন, প্রশিক্ষণ এবং যাচাইকরণ সঠিকতা পর্যবেক্ষণ করুন।\n",
    "1. বুঝতে চেষ্টা করুন যে অতিরিক্ত প্রশিক্ষণ (overfitting) হয়েছে কিনা, এবং স্তরের প্যারামিটারগুলো সামঞ্জস্য করে সঠিকতা উন্নত করুন।\n",
    "1. পূর্ববর্তী ধাপগুলো ২-স্তর এবং ৩-স্তর বিশিষ্ট পার্সেপট্রনের জন্য পুনরাবৃত্তি করুন। স্তরগুলোর মধ্যে বিভিন্ন সক্রিয়করণ ফাংশন নিয়ে পরীক্ষা-নিরীক্ষা করুন।\n",
    "1. নিম্নলিখিত প্রশ্নগুলোর উত্তর দেওয়ার চেষ্টা করুন:\n",
    "    - স্তরগুলোর মধ্যে সক্রিয়করণ ফাংশন কি নেটওয়ার্কের কার্যকারিতাকে প্রভাবিত করে?\n",
    "    - এই কাজের জন্য আমাদের কি ২-স্তর বা ৩-স্তর বিশিষ্ট নেটওয়ার্ক প্রয়োজন?\n",
    "    - নেটওয়ার্ক প্রশিক্ষণের সময় কি কোনো সমস্যা হয়েছে? বিশেষ করে যখন স্তরের সংখ্যা বৃদ্ধি পেয়েছে।\n",
    "    - প্রশিক্ষণের সময় নেটওয়ার্কের ওজনগুলো কীভাবে আচরণ করে? আপনি ওজনের সর্বাধিক মানের পরিবর্তন বনাম epoch এর সম্পর্ক বুঝতে গ্রাফ আঁকতে পারেন।\n"
   ]
  },
  {
   "cell_type": "code",
   "execution_count": null,
   "metadata": {},
   "outputs": [],
   "source": []
  },
  {
   "cell_type": "markdown",
   "metadata": {},
   "source": [
    "\n---\n\n**অস্বীকৃতি**:  \nএই নথিটি AI অনুবাদ পরিষেবা [Co-op Translator](https://github.com/Azure/co-op-translator) ব্যবহার করে অনুবাদ করা হয়েছে। আমরা যথাসম্ভব সঠিকতার জন্য চেষ্টা করি, তবে অনুগ্রহ করে মনে রাখবেন যে স্বয়ংক্রিয় অনুবাদে ত্রুটি বা অসঙ্গতি থাকতে পারে। মূল ভাষায় থাকা নথিটিকে প্রামাণিক উৎস হিসেবে বিবেচনা করা উচিত। গুরুত্বপূর্ণ তথ্যের জন্য, পেশাদার মানব অনুবাদ সুপারিশ করা হয়। এই অনুবাদ ব্যবহারের ফলে কোনো ভুল বোঝাবুঝি বা ভুল ব্যাখ্যা হলে আমরা দায়বদ্ধ থাকব না।\n"
   ]
  }
 ],
 "metadata": {
  "kernelspec": {
   "display_name": "Python 3.7.4 64-bit (conda)",
   "metadata": {
    "interpreter": {
     "hash": "86193a1ab0ba47eac1c69c1756090baa3b420b3eea7d4aafab8b85f8b312f0c5"
    }
   },
   "name": "python3"
  },
  "language_info": {
   "codemirror_mode": {
    "name": "ipython",
    "version": 3
   },
   "file_extension": ".py",
   "mimetype": "text/x-python",
   "name": "python",
   "nbconvert_exporter": "python",
   "pygments_lexer": "ipython3",
   "version": "3.9.5"
  },
  "orig_nbformat": 2,
  "coopTranslator": {
   "original_hash": "6fa055f484eb5d6bdf41166a356d3abf",
   "translation_date": "2025-08-28T11:36:59+00:00",
   "source_file": "lessons/3-NeuralNetworks/04-OwnFramework/lab/MyFW_MNIST.ipynb",
   "language_code": "bn"
  }
 },
 "nbformat": 4,
 "nbformat_minor": 2
}