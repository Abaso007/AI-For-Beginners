{
 "cells": [
  {
   "cell_type": "markdown",
   "metadata": {},
   "source": [
    "# সহজ ইমেজ শ্রেণীবিন্যাসকারী\n",
    "\n",
    "এই নোটবুকটি আপনাকে একটি পূর্ব-প্রশিক্ষিত নিউরাল নেটওয়ার্ক ব্যবহার করে ইমেজ শ্রেণীবিন্যাস করতে শেখাবে।\n",
    "\n",
    "**আপনি যা শিখবেন:**\n",
    "- কীভাবে একটি পূর্ব-প্রশিক্ষিত মডেল লোড এবং ব্যবহার করবেন\n",
    "- ইমেজ প্রিপ্রসেসিং\n",
    "- ইমেজে পূর্বাভাস তৈরি করা\n",
    "- আত্মবিশ্বাস স্কোর বোঝা\n",
    "\n",
    "**ব্যবহার ক্ষেত্র:** ইমেজে বস্তু সনাক্ত করা (যেমন \"বিড়াল\", \"কুকুর\", \"গাড়ি\" ইত্যাদি)\n"
   ]
  },
  {
   "cell_type": "markdown",
   "metadata": {},
   "source": [
    "## ধাপ ১: প্রয়োজনীয় লাইব্রেরি আমদানি করুন\n",
    "\n",
    "চলুন আমরা যেসব টুল দরকার সেগুলো আমদানি করি। যদি সবকিছু এখনই বুঝতে না পারেন, চিন্তা করবেন না!\n"
   ]
  },
  {
   "cell_type": "code",
   "execution_count": null,
   "metadata": {},
   "outputs": [],
   "source": [
    "# Core libraries\n",
    "import numpy as np\n",
    "from PIL import Image\n",
    "import requests\n",
    "from io import BytesIO\n",
    "\n",
    "# TensorFlow for deep learning\n",
    "try:\n",
    "    import tensorflow as tf\n",
    "    from tensorflow.keras.applications import MobileNetV2\n",
    "    from tensorflow.keras.applications.mobilenet_v2 import preprocess_input, decode_predictions\n",
    "    print(\"✅ TensorFlow loaded successfully!\")\n",
    "    print(f\"   Version: {tf.__version__}\")\n",
    "except ImportError:\n",
    "    print(\"❌ Please install TensorFlow: pip install tensorflow\")"
   ]
  },
  {
   "cell_type": "markdown",
   "metadata": {},
   "source": [
    "## ধাপ ২: প্রি-ট্রেইনড মডেল লোড করুন\n",
    "\n",
    "আমরা **MobileNetV2** ব্যবহার করব, একটি নিউরাল নেটওয়ার্ক যা ইতিমধ্যে লক্ষ লক্ষ ছবির উপর প্রশিক্ষিত।\n",
    "\n",
    "এটি **ট্রান্সফার লার্নিং** নামে পরিচিত - অন্য কেউ প্রশিক্ষিত একটি মডেল ব্যবহার করা!\n"
   ]
  },
  {
   "cell_type": "code",
   "execution_count": null,
   "metadata": {},
   "outputs": [],
   "source": [
    "print(\"📦 Loading pre-trained MobileNetV2 model...\")\n",
    "print(\"   This may take a minute on first run (downloading weights)...\")\n",
    "\n",
    "# Load the model\n",
    "# include_top=True means we use the classification layer\n",
    "# weights='imagenet' means it was trained on ImageNet dataset\n",
    "model = MobileNetV2(weights='imagenet', include_top=True)\n",
    "\n",
    "print(\"✅ Model loaded!\")\n",
    "print(f\"   The model can recognize 1000 different object categories\")"
   ]
  },
  {
   "cell_type": "markdown",
   "metadata": {},
   "source": [
    "## ধাপ ৩: সহায়ক ফাংশনসমূহ\n",
    "\n",
    "চলুন আমাদের মডেলের জন্য ছবি লোড এবং প্রস্তুত করার ফাংশন তৈরি করি।\n"
   ]
  },
  {
   "cell_type": "code",
   "execution_count": null,
   "metadata": {},
   "outputs": [],
   "source": [
    "def load_image_from_url(url):\n",
    "    \"\"\"\n",
    "    Load an image from a URL.\n",
    "    \n",
    "    Args:\n",
    "        url: Web address of the image\n",
    "        \n",
    "    Returns:\n",
    "        PIL Image object\n",
    "    \"\"\"\n",
    "    response = requests.get(url)\n",
    "    img = Image.open(BytesIO(response.content))\n",
    "    return img\n",
    "\n",
    "\n",
    "def prepare_image(img):\n",
    "    \"\"\"\n",
    "    Prepare an image for the model.\n",
    "    \n",
    "    Steps:\n",
    "    1. Resize to 224x224 (model's expected size)\n",
    "    2. Convert to array\n",
    "    3. Add batch dimension\n",
    "    4. Preprocess for MobileNetV2\n",
    "    \n",
    "    Args:\n",
    "        img: PIL Image\n",
    "        \n",
    "    Returns:\n",
    "        Preprocessed image array\n",
    "    \"\"\"\n",
    "    # Resize to 224x224 pixels\n",
    "    img = img.resize((224, 224))\n",
    "    \n",
    "    # Convert to numpy array\n",
    "    img_array = np.array(img)\n",
    "    \n",
    "    # Add batch dimension (model expects multiple images)\n",
    "    img_array = np.expand_dims(img_array, axis=0)\n",
    "    \n",
    "    # Preprocess for MobileNetV2\n",
    "    img_array = preprocess_input(img_array)\n",
    "    \n",
    "    return img_array\n",
    "\n",
    "\n",
    "def classify_image(img):\n",
    "    \"\"\"\n",
    "    Classify an image and return top predictions.\n",
    "    \n",
    "    Args:\n",
    "        img: PIL Image\n",
    "        \n",
    "    Returns:\n",
    "        List of (class_name, confidence) tuples\n",
    "    \"\"\"\n",
    "    # Prepare the image\n",
    "    img_array = prepare_image(img)\n",
    "    \n",
    "    # Make prediction\n",
    "    predictions = model.predict(img_array, verbose=0)\n",
    "    \n",
    "    # Decode predictions to human-readable labels\n",
    "    # top=5 means we get the top 5 most likely classes\n",
    "    decoded = decode_predictions(predictions, top=5)[0]\n",
    "    \n",
    "    # Convert to simpler format\n",
    "    results = [(label, float(confidence)) for (_, label, confidence) in decoded]\n",
    "    \n",
    "    return results\n",
    "\n",
    "\n",
    "print(\"✅ Helper functions ready!\")"
   ]
  },
  {
   "cell_type": "markdown",
   "metadata": {},
   "source": [
    "## ধাপ ৪: নমুনা ছবিতে পরীক্ষা করুন\n",
    "\n",
    "চলুন ইন্টারনেট থেকে কিছু ছবি শ্রেণীবদ্ধ করার চেষ্টা করি!\n"
   ]
  },
  {
   "cell_type": "code",
   "execution_count": null,
   "metadata": {},
   "outputs": [],
   "source": [
    "# Sample images to classify\n",
    "# These are from Unsplash (free stock photos)\n",
    "test_images = [\n",
    "    {\n",
    "        \"url\": \"https://images.unsplash.com/photo-1514888286974-6c03e2ca1dba?w=400\",\n",
    "        \"description\": \"A cat\"\n",
    "    },\n",
    "    {\n",
    "        \"url\": \"https://images.unsplash.com/photo-1552053831-71594a27632d?w=400\",\n",
    "        \"description\": \"A dog\"\n",
    "    },\n",
    "    {\n",
    "        \"url\": \"https://images.unsplash.com/photo-1511919884226-fd3cad34687c?w=400\",\n",
    "        \"description\": \"A car\"\n",
    "    },\n",
    "]\n",
    "\n",
    "print(f\"🧪 Testing on {len(test_images)} images...\")\n",
    "print(\"=\" * 70)"
   ]
  },
  {
   "cell_type": "markdown",
   "metadata": {},
   "source": [
    "### প্রতিটি চিত্র শ্রেণীবদ্ধ করুন\n"
   ]
  },
  {
   "cell_type": "code",
   "execution_count": null,
   "metadata": {},
   "outputs": [],
   "source": [
    "for i, img_data in enumerate(test_images, 1):\n",
    "    print(f\"\\n📸 Image {i}: {img_data['description']}\")\n",
    "    print(\"-\" * 70)\n",
    "    \n",
    "    try:\n",
    "        # Load image\n",
    "        img = load_image_from_url(img_data['url'])\n",
    "        \n",
    "        # Display image\n",
    "        display(img.resize((200, 200)))  # Show smaller version\n",
    "        \n",
    "        # Classify\n",
    "        results = classify_image(img)\n",
    "        \n",
    "        # Show predictions\n",
    "        print(\"\\n🎯 Top 5 Predictions:\")\n",
    "        for rank, (label, confidence) in enumerate(results, 1):\n",
    "            # Create a visual bar\n",
    "            bar_length = int(confidence * 50)\n",
    "            bar = \"█\" * bar_length\n",
    "            \n",
    "            print(f\"  {rank}. {label:20s} {confidence*100:5.2f}% {bar}\")\n",
    "        \n",
    "    except Exception as e:\n",
    "        print(f\"❌ Error: {e}\")\n",
    "\n",
    "print(\"\\n\" + \"=\" * 70)"
   ]
  },
  {
   "cell_type": "markdown",
   "metadata": {},
   "source": [
    "## ধাপ ৫: আপনার নিজের ছবি চেষ্টা করুন!\n",
    "\n",
    "নীচের URLটি পরিবর্তন করুন এবং যেকোনো ছবি URL ব্যবহার করুন যা আপনি শ্রেণীবদ্ধ করতে চান।\n"
   ]
  },
  {
   "cell_type": "code",
   "execution_count": null,
   "metadata": {},
   "outputs": [],
   "source": [
    "# Try your own image!\n",
    "# Replace this URL with any image URL\n",
    "custom_image_url = \"https://images.unsplash.com/photo-1472491235688-bdc81a63246e?w=400\"  # A flower\n",
    "\n",
    "print(\"🖼️  Classifying your custom image...\")\n",
    "print(\"=\" * 70)\n",
    "\n",
    "try:\n",
    "    # Load and show image\n",
    "    img = load_image_from_url(custom_image_url)\n",
    "    display(img.resize((300, 300)))\n",
    "    \n",
    "    # Classify\n",
    "    results = classify_image(img)\n",
    "    \n",
    "    # Show results\n",
    "    print(\"\\n🎯 Top 5 Predictions:\")\n",
    "    print(\"-\" * 70)\n",
    "    for rank, (label, confidence) in enumerate(results, 1):\n",
    "        bar_length = int(confidence * 50)\n",
    "        bar = \"█\" * bar_length\n",
    "        print(f\"  {rank}. {label:20s} {confidence*100:5.2f}% {bar}\")\n",
    "    \n",
    "    # Highlight top prediction\n",
    "    top_label, top_confidence = results[0]\n",
    "    print(\"\\n\" + \"=\" * 70)\n",
    "    print(f\"\\n🏆 Best guess: {top_label} ({top_confidence*100:.2f}% confident)\")\n",
    "    \n",
    "except Exception as e:\n",
    "    print(f\"❌ Error: {e}\")\n",
    "    print(\"   Make sure the URL points to a valid image!\")"
   ]
  },
  {
   "cell_type": "markdown",
   "metadata": {},
   "source": [
    "## 💡 কী ঘটল?\n",
    "\n",
    "1. **আমরা একটি প্রি-ট্রেইনড মডেল লোড করেছি** - MobileNetV2 লক্ষ লক্ষ ছবির উপর প্রশিক্ষিত হয়েছে  \n",
    "2. **আমরা ছবিগুলো প্রি-প্রসেস করেছি** - মডেলের জন্য সাইজ পরিবর্তন এবং ফরম্যাটিং করেছি  \n",
    "3. **মডেল ভবিষ্যদ্বাণী করেছে** - এটি ১০০০টি অবজেক্ট ক্লাসের জন্য সম্ভাব্যতা আউটপুট করেছে  \n",
    "4. **আমরা ফলাফল ডিকোড করেছি** - সংখ্যাগুলোকে মানুষের জন্য পাঠযোগ্য লেবেলে রূপান্তর করেছি  \n",
    "\n",
    "### আত্মবিশ্বাস স্কোর বোঝা\n",
    "\n",
    "- **৯০-১০০%**: খুব আত্মবিশ্বাসী (প্রায় নিশ্চিতভাবে সঠিক)  \n",
    "- **৭০-৯০%**: আত্মবিশ্বাসী (সম্ভবত সঠিক)  \n",
    "- **৫০-৭০%**: কিছুটা আত্মবিশ্বাসী (সঠিক হতে পারে)  \n",
    "- **৫০% এর নিচে**: খুব বেশি আত্মবিশ্বাসী নয় (অনিশ্চিত)  \n",
    "\n",
    "### কেন ভবিষ্যদ্বাণী ভুল হতে পারে?\n",
    "\n",
    "- **অস্বাভাবিক কোণ বা আলো** - মডেল সাধারণ ছবির উপর প্রশিক্ষিত হয়েছে  \n",
    "- **একাধিক অবজেক্ট** - মডেল একটি প্রধান অবজেক্ট আশা করে  \n",
    "- **বিরল অবজেক্ট** - মডেল শুধুমাত্র ১০০০টি ক্যাটাগরি জানে  \n",
    "- **কম মানের ছবি** - ঝাপসা বা পিক্সেলেটেড ছবি বিশ্লেষণ করা কঠিন  \n"
   ]
  },
  {
   "cell_type": "markdown",
   "metadata": {},
   "source": [
    "## 🚀 পরবর্তী পদক্ষেপ\n",
    "\n",
    "1. **বিভিন্ন ছবি চেষ্টা করুন:**\n",
    "   - [Unsplash](https://unsplash.com) থেকে ছবি খুঁজুন\n",
    "   - ডান-ক্লিক করুন → \"Copy image address\" করে URL সংগ্রহ করুন\n",
    "\n",
    "2. **পরীক্ষা করুন:**\n",
    "   - বিমূর্ত শিল্পের সাথে কী ঘটে?\n",
    "   - এটি কি বিভিন্ন কোণ থেকে বস্তু চিনতে পারে?\n",
    "   - এটি কি একাধিক বস্তু পরিচালনা করতে পারে?\n",
    "\n",
    "3. **আরও জানুন:**\n",
    "   - [Computer Vision lessons](../lessons/4-ComputerVision/README.md) অন্বেষণ করুন\n",
    "   - নিজের ইমেজ ক্লাসিফায়ার প্রশিক্ষণ দিতে শিখুন\n",
    "   - CNNs (Convolutional Neural Networks) কীভাবে কাজ করে তা বুঝুন\n",
    "\n",
    "---\n",
    "\n",
    "## 🎉 অভিনন্দন!\n",
    "\n",
    "আপনি একটি অত্যাধুনিক নিউরাল নেটওয়ার্ক ব্যবহার করে একটি ইমেজ ক্লাসিফায়ার তৈরি করেছেন!\n",
    "\n",
    "এই একই প্রযুক্তি শক্তি যোগায়:\n",
    "- Google Photos (আপনার ছবিগুলো সংগঠিত করা)\n",
    "- স্বয়ংচালিত গাড়ি (বস্তু চিনতে)\n",
    "- চিকিৎসা নির্ণয় (এক্স-রে বিশ্লেষণ)\n",
    "- গুণমান নিয়ন্ত্রণ (ত্রুটি সনাক্ত করা)\n",
    "\n",
    "অন্বেষণ এবং শেখা চালিয়ে যান! 🚀\n"
   ]
  },
  {
   "cell_type": "markdown",
   "metadata": {},
   "source": [
    "\n---\n\n**অস্বীকৃতি**:  \nএই নথিটি AI অনুবাদ পরিষেবা [Co-op Translator](https://github.com/Azure/co-op-translator) ব্যবহার করে অনুবাদ করা হয়েছে। আমরা যথাসাধ্য সঠিকতা নিশ্চিত করার চেষ্টা করি, তবে অনুগ্রহ করে মনে রাখবেন যে স্বয়ংক্রিয় অনুবাদে ত্রুটি বা অসঙ্গতি থাকতে পারে। মূল ভাষায় থাকা নথিটিকে প্রামাণিক উৎস হিসেবে বিবেচনা করা উচিত। গুরুত্বপূর্ণ তথ্যের ক্ষেত্রে, পেশাদার মানব অনুবাদ সুপারিশ করা হয়। এই অনুবাদ ব্যবহারের ফলে কোনো ভুল বোঝাবুঝি বা ভুল ব্যাখ্যা হলে আমরা দায়বদ্ধ থাকব না।\n"
   ]
  }
 ],
 "metadata": {
  "kernelspec": {
   "display_name": "Python 3",
   "language": "python",
   "name": "python3"
  },
  "language_info": {
   "codemirror_mode": {
    "name": "ipython",
    "version": 3
   },
   "file_extension": ".py",
   "mimetype": "text/x-python",
   "name": "python",
   "nbconvert_exporter": "python",
   "pygments_lexer": "ipython3",
   "version": "3.8.0"
  },
  "coopTranslator": {
   "original_hash": "1d472141d9df46b751542b3c29f88677",
   "translation_date": "2025-10-03T11:42:15+00:00",
   "source_file": "examples/03-image-classifier.ipynb",
   "language_code": "bn"
  }
 },
 "nbformat": 4,
 "nbformat_minor": 4
}