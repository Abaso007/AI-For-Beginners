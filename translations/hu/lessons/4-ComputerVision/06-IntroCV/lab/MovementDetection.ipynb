{
 "cells": [
  {
   "cell_type": "markdown",
   "metadata": {},
   "source": [
    "## Tenyer Mozgásának Érzékelése Optikai Áramlással\n",
    "\n",
    "Ez a labor a [Mesterséges Intelligencia Kezdőknek Tananyag](http://aka.ms/ai-beginners) része.\n",
    "\n",
    "Nézd meg [ezt a videót](../../../../../../lessons/4-ComputerVision/06-IntroCV/lab/palm-movement.mp4), amelyben egy személy tenyere mozog balra/jobbra/fel/le egy stabil háttér előtt.\n",
    "\n",
    "**A célod** az lesz, hogy az Optikai Áramlás segítségével meghatározd, a videó mely részei tartalmaznak fel/le/balra/jobbra irányú mozgásokat.\n",
    "\n",
    "Kezdd a videó képkockáinak megszerzésével, ahogy az előadásban bemutattuk:\n"
   ]
  },
  {
   "cell_type": "code",
   "execution_count": null,
   "metadata": {},
   "outputs": [],
   "source": [
    "# Code here"
   ]
  },
  {
   "cell_type": "markdown",
   "metadata": {},
   "source": [
    "Most, számítsd ki a sűrű optikai áramlás képkockáit az előadásban leírtak szerint, és alakítsd át a sűrű optikai áramlást polárkoordinátákra:\n"
   ]
  },
  {
   "cell_type": "code",
   "execution_count": null,
   "metadata": {},
   "outputs": [],
   "source": [
    "# Code here"
   ]
  },
  {
   "cell_type": "markdown",
   "metadata": {},
   "source": [
    "Készíts irányokból hisztogramot az optikai áramlás minden egyes képkockájához. Egy hisztogram megmutatja, hogy hány vektor esik egy adott tartományba, és különválasztja a mozgás különböző irányait a képkockán.\n",
    "\n",
    "> Érdemes lehet lenullázni azokat a vektorokat, amelyek nagysága egy bizonyos küszöbérték alatt van. Ez segít eltávolítani a videóban lévő kisebb, felesleges mozgásokat, például a szemek és a fej mozgását.\n",
    "\n",
    "Ábrázold a hisztogramokat néhány képkockához.\n"
   ]
  },
  {
   "cell_type": "code",
   "execution_count": null,
   "metadata": {},
   "outputs": [],
   "source": [
    "# Code here"
   ]
  },
  {
   "cell_type": "markdown",
   "metadata": {},
   "source": [
    "Hisztogramokat nézve elég egyértelműnek kell lennie, hogyan lehet meghatározni a mozgás irányát. Ki kell választani azokat a bin-eket, amelyek az fel/le/balra/jobbra irányoknak felelnek meg, és amelyek egy bizonyos küszöbérték felett vannak.\n"
   ]
  },
  {
   "cell_type": "code",
   "execution_count": null,
   "metadata": {},
   "outputs": [],
   "source": [
    "# Code here"
   ]
  },
  {
   "cell_type": "markdown",
   "metadata": {},
   "source": [
    "Gratulálunk! Ha az összes fenti lépést elvégezte, befejezte a labort!\n"
   ]
  },
  {
   "cell_type": "markdown",
   "metadata": {},
   "source": [
    "\n---\n\n**Felelősségkizárás**:  \nEz a dokumentum az [Co-op Translator](https://github.com/Azure/co-op-translator) AI fordítási szolgáltatás segítségével készült. Bár törekszünk a pontosságra, kérjük, vegye figyelembe, hogy az automatikus fordítások hibákat vagy pontatlanságokat tartalmazhatnak. Az eredeti dokumentum az eredeti nyelvén tekintendő hiteles forrásnak. Kritikus információk esetén javasolt a professzionális, emberi fordítás igénybevétele. Nem vállalunk felelősséget a fordítás használatából eredő félreértésekért vagy téves értelmezésekért.\n"
   ]
  }
 ],
 "metadata": {
  "language_info": {
   "name": "python"
  },
  "orig_nbformat": 4,
  "coopTranslator": {
   "original_hash": "153d9e417e079bf62f8f693002d0deaf",
   "translation_date": "2025-08-29T14:01:45+00:00",
   "source_file": "lessons/4-ComputerVision/06-IntroCV/lab/MovementDetection.ipynb",
   "language_code": "hu"
  }
 },
 "nbformat": 4,
 "nbformat_minor": 2
}