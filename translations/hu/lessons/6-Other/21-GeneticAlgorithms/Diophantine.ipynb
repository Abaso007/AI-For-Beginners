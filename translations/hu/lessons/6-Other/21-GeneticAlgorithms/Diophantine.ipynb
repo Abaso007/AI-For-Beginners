{
 "cells": [
  {
   "cell_type": "markdown",
   "metadata": {},
   "source": [
    "## Feladat: Diofantoszi egyenletek\n",
    "\n",
    "> Ez a feladat az [AI for Beginners Curriculum](http://github.com/microsoft/ai-for-beginners) része, és [ez a bejegyzés](https://habr.com/post/128704/) ihlette.\n",
    "\n",
    "A célod, hogy megoldj egy úgynevezett **Diofantoszi egyenletet** – egy olyan egyenletet, amelynek egész számú gyökei és egész számú együtthatói vannak. Például, vegyük a következő egyenletet:\n",
    "\n",
    "$$a+2b+3c+4d=30$$\n",
    "\n",
    "Meg kell találnod azokat az egész számú gyököket $a$,$b$,$c$,$d\\in\\mathbb{N}$, amelyek kielégítik ezt az egyenletet.\n",
    "\n",
    "Tippek:\n",
    "1. A gyököket tekintheted a [0;30] intervallumban.\n",
    "1. Génként fontold meg a gyökértékek listájának használatát.\n"
   ]
  },
  {
   "cell_type": "markdown",
   "metadata": {},
   "source": []
  },
  {
   "cell_type": "markdown",
   "metadata": {},
   "source": [
    "\n---\n\n**Felelősségkizárás**:  \nEz a dokumentum az [Co-op Translator](https://github.com/Azure/co-op-translator) AI fordítási szolgáltatás segítségével készült. Bár törekszünk a pontosságra, kérjük, vegye figyelembe, hogy az automatikus fordítások hibákat vagy pontatlanságokat tartalmazhatnak. Az eredeti dokumentum az eredeti nyelvén tekintendő hiteles forrásnak. Kritikus információk esetén javasolt a professzionális, emberi fordítás igénybevétele. Nem vállalunk felelősséget a fordítás használatából eredő félreértésekért vagy téves értelmezésekért.\n"
   ]
  }
 ],
 "metadata": {
  "language_info": {
   "name": "python"
  },
  "orig_nbformat": 4,
  "coopTranslator": {
   "original_hash": "a967e1fa1e11ab2b6467b19349a4a9aa",
   "translation_date": "2025-08-29T12:53:35+00:00",
   "source_file": "lessons/6-Other/21-GeneticAlgorithms/Diophantine.ipynb",
   "language_code": "hu"
  }
 },
 "nbformat": 4,
 "nbformat_minor": 2
}