{
 "cells": [
  {
   "cell_type": "markdown",
   "metadata": {},
   "source": [
    "# RL tréning a Cartpole egyensúlyozására\n",
    "\n",
    "Ez a jegyzetfüzet az [AI for Beginners Curriculum](http://aka.ms/ai-beginners) része. Az ötletet az [official PyTorch tutorial](https://pytorch.org/tutorials/intermediate/reinforcement_q_learning.html) és [ez a Cartpole PyTorch implementáció](https://github.com/yc930401/Actor-Critic-pytorch) adta.\n",
    "\n",
    "Ebben a példában RL-t fogunk használni, hogy egy modellt tanítsunk arra, hogy egy rudat egyensúlyozzon egy kocsin, amely vízszintes skálán balra és jobbra mozoghat. Az [OpenAI Gym](https://www.gymlibrary.ml/) környezetet fogjuk használni a rúd szimulálására.\n",
    "\n",
    "> **Note**: A lecke kódját futtathatod helyben (például a Visual Studio Code-ban), ebben az esetben a szimuláció egy új ablakban nyílik meg. Ha a kódot online futtatod, előfordulhat, hogy néhány módosítást kell végezned a kódon, ahogy azt [itt](https://towardsdatascience.com/rendering-openai-gym-envs-on-binder-and-google-colab-536f99391cc7) leírták.\n",
    "\n",
    "Először győződjünk meg arról, hogy a Gym telepítve van:\n"
   ]
  },
  {
   "cell_type": "code",
   "execution_count": null,
   "metadata": {},
   "outputs": [],
   "source": [
    "import sys\n",
    "!{sys.executable} -m pip install gym"
   ]
  },
  {
   "cell_type": "markdown",
   "metadata": {},
   "source": [
    "Most készítsük el a CartPole környezetet, és nézzük meg, hogyan működhetünk benne. Egy környezetnek a következő tulajdonságai vannak:\n",
    "\n",
    "* **Akciótér**: az elérhető akciók halmaza, amelyeket a szimuláció minden lépésében végrehajthatunk  \n",
    "* **Megfigyelési tér**: az a tér, amelyben a megfigyeléseinket végezhetjük\n"
   ]
  },
  {
   "cell_type": "code",
   "execution_count": null,
   "metadata": {},
   "outputs": [],
   "source": [
    "import gym\n",
    "\n",
    "env = gym.make(\"CartPole-v1\")\n",
    "\n",
    "print(f\"Action space: {env.action_space}\")\n",
    "print(f\"Observation space: {env.observation_space}\")"
   ]
  },
  {
   "cell_type": "markdown",
   "metadata": {},
   "source": [
    "Nézzük meg, hogyan működik a szimuláció. Az alábbi ciklus futtatja a szimulációt, amíg az `env.step` nem adja vissza a `done` befejezési jelzőt. Véletlenszerűen választunk akciókat az `env.action_space.sample()` segítségével, ami azt jelenti, hogy a kísérlet valószínűleg nagyon gyorsan kudarcot vall (a CartPole környezet akkor ér véget, ha a CartPole sebessége, pozíciója vagy szöge bizonyos határokon kívül esik).\n",
    "\n",
    "> A szimuláció egy új ablakban fog megnyílni. Többször is futtathatod a kódot, és megnézheted, hogyan viselkedik.\n"
   ]
  },
  {
   "cell_type": "code",
   "execution_count": null,
   "metadata": {},
   "outputs": [],
   "source": [
    "env.reset()\n",
    "\n",
    "done = False\n",
    "total_reward = 0\n",
    "while not done:\n",
    "   env.render()\n",
    "   obs, rew, done, info = env.step(env.action_space.sample())\n",
    "   total_reward += rew\n",
    "   print(f\"{obs} -> {rew}\")\n",
    "print(f\"Total reward: {total_reward}\")"
   ]
  },
  {
   "cell_type": "markdown",
   "metadata": {},
   "source": [
    "Megfigyelheted, hogy a megfigyelések 4 számot tartalmaznak. Ezek a következők:\n",
    "- A kocsi pozíciója\n",
    "- A kocsi sebessége\n",
    "- A rúd szöge\n",
    "- A rúd forgási sebessége\n",
    "\n",
    "`rew` az a jutalom, amit minden lépésnél kapunk. Láthatod, hogy a CartPole környezetben minden szimulációs lépésért 1 pontot kapsz jutalomként, és a cél az összjutalom maximalizálása, azaz az idő, ameddig a CartPole egyensúlyban tud maradni anélkül, hogy leesne.\n",
    "\n",
    "A megerősítéses tanulás során a célunk egy **politika** $\\pi$ betanítása, amely minden állapot $s$ esetén megmondja, hogy melyik akciót $a$ kell végrehajtanunk, tehát lényegében $a = \\pi(s)$.\n",
    "\n",
    "Ha valószínűségi megoldást szeretnél, a politikát úgy is elképzelheted, hogy minden akcióhoz egy valószínűséget ad vissza, azaz $\\pi(a|s)$ azt jelentené, hogy mekkora a valószínűsége annak, hogy az $s$ állapotban az $a$ akciót kell végrehajtanunk.\n",
    "\n",
    "## Policy Gradient Módszer\n",
    "\n",
    "A legegyszerűbb RL algoritmusban, amit **Policy Gradient**-nek nevezünk, egy neurális hálót fogunk betanítani arra, hogy megjósolja a következő akciót.\n"
   ]
  },
  {
   "cell_type": "code",
   "execution_count": null,
   "metadata": {},
   "outputs": [],
   "source": [
    "import numpy as np\n",
    "import matplotlib.pyplot as plt\n",
    "import torch\n",
    "\n",
    "num_inputs = 4\n",
    "num_actions = 2\n",
    "\n",
    "model = torch.nn.Sequential(\n",
    "    torch.nn.Linear(num_inputs, 128, bias=False, dtype=torch.float32),\n",
    "    torch.nn.ReLU(),\n",
    "    torch.nn.Linear(128, num_actions, bias = False, dtype=torch.float32),\n",
    "    torch.nn.Softmax(dim=1)\n",
    ")"
   ]
  },
  {
   "cell_type": "markdown",
   "metadata": {},
   "source": [
    "A hálózatot úgy fogjuk betanítani, hogy sok kísérletet futtatunk, és minden futtatás után frissítjük a hálózatunkat. Határozzunk meg egy függvényt, amely lefuttatja a kísérletet, és visszaadja az eredményeket (az úgynevezett **nyomvonalat**) - az összes állapotot, akciót (és azok ajánlott valószínűségeit), valamint a jutalmakat:\n"
   ]
  },
  {
   "cell_type": "code",
   "execution_count": null,
   "metadata": {},
   "outputs": [],
   "source": [
    "def run_episode(max_steps_per_episode = 10000,render=False):    \n",
    "    states, actions, probs, rewards = [],[],[],[]\n",
    "    state = env.reset()\n",
    "    for _ in range(max_steps_per_episode):\n",
    "        if render:\n",
    "            env.render()\n",
    "        action_probs = model(torch.from_numpy(np.expand_dims(state,0)))[0]\n",
    "        action = np.random.choice(num_actions, p=np.squeeze(action_probs.detach().numpy()))\n",
    "        nstate, reward, done, info = env.step(action)\n",
    "        if done:\n",
    "            break\n",
    "        states.append(state)\n",
    "        actions.append(action)\n",
    "        probs.append(action_probs.detach().numpy())\n",
    "        rewards.append(reward)\n",
    "        state = nstate\n",
    "    return np.vstack(states), np.vstack(actions), np.vstack(probs), np.vstack(rewards)"
   ]
  },
  {
   "cell_type": "markdown",
   "metadata": {},
   "source": [
    "Futtathatsz egy epizódot egy betanítatlan hálózattal, és megfigyelheted, hogy a teljes jutalom (más néven az epizód hossza) nagyon alacsony:\n"
   ]
  },
  {
   "cell_type": "code",
   "execution_count": null,
   "metadata": {},
   "outputs": [],
   "source": [
    "s, a, p, r = run_episode()\n",
    "print(f\"Total reward: {np.sum(r)}\")"
   ]
  },
  {
   "cell_type": "markdown",
   "metadata": {},
   "source": [
    "A policy gradient algoritmus egyik trükkös aspektusa a **diszkontált jutalmak** használata. Az ötlet az, hogy kiszámítjuk a teljes jutalmak vektorát a játék minden lépésénél, és közben a korai jutalmakat diszkontáljuk egy $gamma$ együtthatóval. Az így kapott vektort normalizáljuk is, mivel súlyként fogjuk használni, hogy befolyásoljuk a tanításunkat:\n"
   ]
  },
  {
   "cell_type": "code",
   "execution_count": null,
   "metadata": {},
   "outputs": [],
   "source": [
    "eps = 0.0001\n",
    "\n",
    "def discounted_rewards(rewards,gamma=0.99,normalize=True):\n",
    "    ret = []\n",
    "    s = 0\n",
    "    for r in rewards[::-1]:\n",
    "        s = r + gamma * s\n",
    "        ret.insert(0, s)\n",
    "    if normalize:\n",
    "        ret = (ret-np.mean(ret))/(np.std(ret)+eps)\n",
    "    return ret"
   ]
  },
  {
   "cell_type": "markdown",
   "metadata": {},
   "source": [
    "Most kezdjük el az igazi gyakorlást! 300 epizódot fogunk futtatni, és minden epizódban a következőket tesszük:\n",
    "\n",
    "1. Futtatjuk a kísérletet, és összegyűjtjük a nyomvonalat.\n",
    "2. Kiszámítjuk a különbséget (`gradients`) a végrehajtott akciók és az előrejelzett valószínűségek között. Minél kisebb a különbség, annál biztosabbak lehetünk abban, hogy a helyes akciót választottuk.\n",
    "3. Kiszámítjuk a diszkontált jutalmakat, és megszorozzuk a gradiens értékeket a diszkontált jutalmakkal - ez biztosítja, hogy a magasabb jutalommal járó lépések nagyobb hatással legyenek a végső eredményre, mint az alacsonyabb jutalmúak.\n",
    "4. A neurális hálózatunk számára elvárt célakciók részben a futtatás során előrejelzett valószínűségekből, részben pedig a kiszámított gradiens értékekből származnak. Az `alpha` paraméter segítségével határozzuk meg, hogy milyen mértékben vesszük figyelembe a gradiens értékeket és a jutalmakat - ezt nevezzük a megerősítéses algoritmus *tanulási rátájának*.\n",
    "5. Végül betanítjuk a hálózatunkat az állapotok és az elvárt akciók alapján, majd megismételjük a folyamatot.\n"
   ]
  },
  {
   "cell_type": "code",
   "execution_count": null,
   "metadata": {},
   "outputs": [],
   "source": [
    "optimizer = torch.optim.Adam(model.parameters(), lr=0.01)\n",
    "\n",
    "def train_on_batch(x, y):\n",
    "    x = torch.from_numpy(x)\n",
    "    y = torch.from_numpy(y)\n",
    "    optimizer.zero_grad()\n",
    "    predictions = model(x)\n",
    "    loss = -torch.mean(torch.log(predictions) * y)\n",
    "    loss.backward()\n",
    "    optimizer.step()\n",
    "    return loss"
   ]
  },
  {
   "cell_type": "code",
   "execution_count": null,
   "metadata": {},
   "outputs": [],
   "source": [
    "alpha = 1e-4\n",
    "\n",
    "history = []\n",
    "for epoch in range(300):\n",
    "    states, actions, probs, rewards = run_episode()\n",
    "    one_hot_actions = np.eye(2)[actions.T][0]\n",
    "    gradients = one_hot_actions-probs\n",
    "    dr = discounted_rewards(rewards)\n",
    "    gradients *= dr\n",
    "    target = alpha*np.vstack([gradients])+probs\n",
    "    train_on_batch(states,target)\n",
    "    history.append(np.sum(rewards))\n",
    "    if epoch%100==0:\n",
    "        print(f\"{epoch} -> {np.sum(rewards)}\")\n",
    "\n",
    "plt.plot(history)"
   ]
  },
  {
   "cell_type": "markdown",
   "metadata": {},
   "source": [
    "Most nézzük meg az epizódot rendereléssel, hogy lássuk az eredményt:\n"
   ]
  },
  {
   "cell_type": "code",
   "execution_count": null,
   "metadata": {},
   "outputs": [],
   "source": [
    "_ = run_episode(render=True)"
   ]
  },
  {
   "cell_type": "markdown",
   "metadata": {},
   "source": [
    "Remélhetőleg most már látható, hogy a rúd elég jól tud egyensúlyozni!\n",
    "\n",
    "## Actor-Critic Modell\n",
    "\n",
    "Az Actor-Critic modell a policy gradientek továbbfejlesztése, amelyben egy neurális hálót építünk, hogy megtanulja mind a policy-t, mind a becsült jutalmakat. A hálózatnak két kimenete lesz (vagy tekinthetjük két különálló hálózatnak is):\n",
    "* **Actor** ajánlja a végrehajtandó akciót azáltal, hogy megadja az állapot valószínűségi eloszlását, hasonlóan a policy gradient modellhez.\n",
    "* **Critic** megbecsüli, hogy ezekből az akciókból milyen jutalom származhat. Visszaadja a jövőbeli összes becsült jutalmat az adott állapotban.\n",
    "\n",
    "Határozzunk meg egy ilyen modellt:\n"
   ]
  },
  {
   "cell_type": "code",
   "execution_count": null,
   "metadata": {},
   "outputs": [],
   "source": [
    "from itertools import count\n",
    "import torch.nn.functional as F"
   ]
  },
  {
   "cell_type": "code",
   "execution_count": null,
   "metadata": {},
   "outputs": [],
   "source": [
    "device = torch.device(\"cuda\" if torch.cuda.is_available() else \"cpu\")\n",
    "env = gym.make(\"CartPole-v1\")\n",
    "\n",
    "state_size = env.observation_space.shape[0]\n",
    "action_size = env.action_space.n\n",
    "lr = 0.0001\n",
    "\n",
    "class Actor(torch.nn.Module):\n",
    "    def __init__(self, state_size, action_size):\n",
    "        super(Actor, self).__init__()\n",
    "        self.state_size = state_size\n",
    "        self.action_size = action_size\n",
    "        self.linear1 = torch.nn.Linear(self.state_size, 128)\n",
    "        self.linear2 = torch.nn.Linear(128, 256)\n",
    "        self.linear3 = torch.nn.Linear(256, self.action_size)\n",
    "\n",
    "    def forward(self, state):\n",
    "        output = F.relu(self.linear1(state))\n",
    "        output = F.relu(self.linear2(output))\n",
    "        output = self.linear3(output)\n",
    "        distribution = torch.distributions.Categorical(F.softmax(output, dim=-1))\n",
    "        return distribution\n",
    "\n",
    "\n",
    "class Critic(torch.nn.Module):\n",
    "    def __init__(self, state_size, action_size):\n",
    "        super(Critic, self).__init__()\n",
    "        self.state_size = state_size\n",
    "        self.action_size = action_size\n",
    "        self.linear1 = torch.nn.Linear(self.state_size, 128)\n",
    "        self.linear2 = torch.nn.Linear(128, 256)\n",
    "        self.linear3 = torch.nn.Linear(256, 1)\n",
    "\n",
    "    def forward(self, state):\n",
    "        output = F.relu(self.linear1(state))\n",
    "        output = F.relu(self.linear2(output))\n",
    "        value = self.linear3(output)\n",
    "        return value"
   ]
  },
  {
   "cell_type": "markdown",
   "metadata": {},
   "source": [
    "Szükségünk lenne arra, hogy kissé módosítsuk a `discounted_rewards` és a `run_episode` függvényeinket:\n"
   ]
  },
  {
   "cell_type": "code",
   "execution_count": null,
   "metadata": {},
   "outputs": [],
   "source": [
    "def discounted_rewards(next_value, rewards, masks, gamma=0.99):\n",
    "    R = next_value\n",
    "    returns = []\n",
    "    for step in reversed(range(len(rewards))):\n",
    "        R = rewards[step] + gamma * R * masks[step]\n",
    "        returns.insert(0, R)\n",
    "    return returns\n",
    "\n",
    "def run_episode(actor, critic, n_iters):\n",
    "    optimizerA = torch.optim.Adam(actor.parameters())\n",
    "    optimizerC = torch.optim.Adam(critic.parameters())\n",
    "    for iter in range(n_iters):\n",
    "        state = env.reset()\n",
    "        log_probs = []\n",
    "        values = []\n",
    "        rewards = []\n",
    "        masks = []\n",
    "        entropy = 0\n",
    "        env.reset()\n",
    "\n",
    "        for i in count():\n",
    "            env.render()\n",
    "            state = torch.FloatTensor(state).to(device)\n",
    "            dist, value = actor(state), critic(state)\n",
    "\n",
    "            action = dist.sample()\n",
    "            next_state, reward, done, _ = env.step(action.cpu().numpy())\n",
    "\n",
    "            log_prob = dist.log_prob(action).unsqueeze(0)\n",
    "            entropy += dist.entropy().mean()\n",
    "\n",
    "            log_probs.append(log_prob)\n",
    "            values.append(value)\n",
    "            rewards.append(torch.tensor([reward], dtype=torch.float, device=device))\n",
    "            masks.append(torch.tensor([1-done], dtype=torch.float, device=device))\n",
    "\n",
    "            state = next_state\n",
    "\n",
    "            if done:\n",
    "                print('Iteration: {}, Score: {}'.format(iter, i))\n",
    "                break\n",
    "\n",
    "\n",
    "        next_state = torch.FloatTensor(next_state).to(device)\n",
    "        next_value = critic(next_state)\n",
    "        returns = discounted_rewards(next_value, rewards, masks)\n",
    "\n",
    "        log_probs = torch.cat(log_probs)\n",
    "        returns = torch.cat(returns).detach()\n",
    "        values = torch.cat(values)\n",
    "\n",
    "        advantage = returns - values\n",
    "\n",
    "        actor_loss = -(log_probs * advantage.detach()).mean()\n",
    "        critic_loss = advantage.pow(2).mean()\n",
    "\n",
    "        optimizerA.zero_grad()\n",
    "        optimizerC.zero_grad()\n",
    "        actor_loss.backward()\n",
    "        critic_loss.backward()\n",
    "        optimizerA.step()\n",
    "        optimizerC.step()\n"
   ]
  },
  {
   "cell_type": "markdown",
   "metadata": {},
   "source": [
    "Most elindítjuk a fő tanítási ciklust. A hálózat kézi tanítási folyamatát fogjuk használni, megfelelő veszteségfüggvények kiszámításával és a hálózati paraméterek frissítésével:\n"
   ]
  },
  {
   "cell_type": "code",
   "execution_count": null,
   "metadata": {},
   "outputs": [],
   "source": [
    "\n",
    "actor = Actor(state_size, action_size).to(device)\n",
    "critic = Critic(state_size, action_size).to(device)\n",
    "run_episode(actor, critic, n_iters=100)"
   ]
  },
  {
   "cell_type": "markdown",
   "metadata": {},
   "source": []
  },
  {
   "cell_type": "code",
   "execution_count": null,
   "metadata": {},
   "outputs": [],
   "source": [
    "env.close()"
   ]
  },
  {
   "cell_type": "markdown",
   "metadata": {},
   "source": [
    "## Összefoglaló\n",
    "\n",
    "Ebben a bemutatóban két megerősítéses tanulási (RL) algoritmust láttunk: az egyszerű policy gradientet és a kifinomultabb actor-critic módszert. Látható, hogy ezek az algoritmusok az állapot, cselekvés és jutalom absztrakt fogalmaival dolgoznak – így nagyon különböző környezetekben is alkalmazhatók.\n",
    "\n",
    "A megerősítéses tanulás lehetővé teszi számunkra, hogy megtanuljuk a legjobb stratégiát a probléma megoldására, pusztán a végső jutalom megfigyelésével. Az a tény, hogy nincs szükség címkézett adathalmazokra, lehetővé teszi számunkra, hogy sokszor megismételjük a szimulációkat, hogy optimalizáljuk modelljeinket. Ugyanakkor az RL területén még mindig számos kihívás van, amelyeket megismerhetsz, ha úgy döntesz, hogy mélyebben elmerülsz ebben az izgalmas AI területben.\n"
   ]
  },
  {
   "cell_type": "markdown",
   "metadata": {},
   "source": [
    "\n---\n\n**Felelősségkizárás**:  \nEz a dokumentum az [Co-op Translator](https://github.com/Azure/co-op-translator) AI fordítási szolgáltatás segítségével készült. Bár törekszünk a pontosságra, kérjük, vegye figyelembe, hogy az automatikus fordítások hibákat vagy pontatlanságokat tartalmazhatnak. Az eredeti dokumentum az eredeti nyelvén tekintendő hiteles forrásnak. Kritikus információk esetén javasolt a professzionális, emberi fordítás igénybevétele. Nem vállalunk felelősséget a fordítás használatából eredő félreértésekért vagy téves értelmezésekért.\n"
   ]
  }
 ],
 "metadata": {
  "kernelspec": {
   "display_name": "Python 3.10.4 64-bit",
   "language": "python",
   "name": "python3"
  },
  "language_info": {
   "codemirror_mode": {
    "name": "ipython",
    "version": 3
   },
   "file_extension": ".py",
   "mimetype": "text/x-python",
   "name": "python",
   "nbconvert_exporter": "python",
   "pygments_lexer": "ipython3",
   "version": "3.10.4"
  },
  "orig_nbformat": 4,
  "vscode": {
   "interpreter": {
    "hash": "916dbcbb3f70747c44a77c7bcd40155683ae19c65e1c03b4aa3499c5328201f1"
   }
  },
  "coopTranslator": {
   "original_hash": "04f8d9978cd11281d81dd037cbf6ce20",
   "translation_date": "2025-08-29T13:05:43+00:00",
   "source_file": "lessons/6-Other/22-DeepRL/CartPole-RL-PyTorch.ipynb",
   "language_code": "hu"
  }
 },
 "nbformat": 4,
 "nbformat_minor": 2
}