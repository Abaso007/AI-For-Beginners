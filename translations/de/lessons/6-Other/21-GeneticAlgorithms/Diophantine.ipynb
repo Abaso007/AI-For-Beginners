{
 "cells": [
  {
   "cell_type": "markdown",
   "metadata": {},
   "source": [
    "## Aufgabe: Diophantische Gleichungen\n",
    "\n",
    "> Diese Aufgabe ist Teil des [AI for Beginners Curriculum](http://github.com/microsoft/ai-for-beginners) und wurde von [diesem Beitrag](https://habr.com/post/128704/) inspiriert.\n",
    "\n",
    "Dein Ziel ist es, die sogenannte **diophantische Gleichung** zu lösen – eine Gleichung mit ganzzahligen Wurzeln und ganzzahligen Koeffizienten. Betrachte zum Beispiel die folgende Gleichung:\n",
    "\n",
    "$$a+2b+3c+4d=30$$\n",
    "\n",
    "Du musst ganzzahlige Wurzeln $a$,$b$,$c$,$d\\in\\mathbb{N}$ finden, die diese Gleichung erfüllen.\n",
    "\n",
    "Hinweise:\n",
    "1. Du kannst die Wurzeln im Intervall [0;30] betrachten.\n",
    "1. Als Gen kannst du die Liste der Wurzelwerte verwenden.\n"
   ]
  },
  {
   "cell_type": "markdown",
   "metadata": {},
   "source": []
  },
  {
   "cell_type": "markdown",
   "metadata": {},
   "source": [
    "\n---\n\n**Haftungsausschluss**:  \nDieses Dokument wurde mit dem KI-Übersetzungsdienst [Co-op Translator](https://github.com/Azure/co-op-translator) übersetzt. Obwohl wir uns um Genauigkeit bemühen, beachten Sie bitte, dass automatisierte Übersetzungen Fehler oder Ungenauigkeiten enthalten können. Das Originaldokument in seiner ursprünglichen Sprache sollte als maßgebliche Quelle betrachtet werden. Für kritische Informationen wird eine professionelle menschliche Übersetzung empfohlen. Wir übernehmen keine Haftung für Missverständnisse oder Fehlinterpretationen, die sich aus der Nutzung dieser Übersetzung ergeben.\n"
   ]
  }
 ],
 "metadata": {
  "language_info": {
   "name": "python"
  },
  "orig_nbformat": 4,
  "coopTranslator": {
   "original_hash": "a967e1fa1e11ab2b6467b19349a4a9aa",
   "translation_date": "2025-08-31T15:40:24+00:00",
   "source_file": "lessons/6-Other/21-GeneticAlgorithms/Diophantine.ipynb",
   "language_code": "de"
  }
 },
 "nbformat": 4,
 "nbformat_minor": 2
}