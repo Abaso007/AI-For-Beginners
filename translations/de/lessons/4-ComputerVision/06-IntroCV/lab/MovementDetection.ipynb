{
 "cells": [
  {
   "cell_type": "markdown",
   "metadata": {},
   "source": [
    "**Ihr Ziel** ist es, mithilfe von Optical Flow zu bestimmen, welche Teile des Videos Bewegungen nach oben/unten/links/rechts enthalten.\n",
    "\n",
    "Beginnen Sie damit, die Videobilder wie in der Vorlesung beschrieben zu erhalten:\n"
   ]
  },
  {
   "cell_type": "code",
   "execution_count": null,
   "metadata": {},
   "outputs": [],
   "source": [
    "# Code here"
   ]
  },
  {
   "cell_type": "markdown",
   "metadata": {},
   "source": [
    "Berechnen Sie nun dichte optische Flussrahmen wie in der Vorlesung beschrieben und konvertieren Sie den dichten optischen Fluss in Polarkoordinaten:\n"
   ]
  },
  {
   "cell_type": "code",
   "execution_count": null,
   "metadata": {},
   "outputs": [],
   "source": [
    "# Code here"
   ]
  },
  {
   "cell_type": "markdown",
   "metadata": {},
   "source": [
    "Erstelle ein Histogramm der Richtungen für jedes optische Fluss-Frame. Ein Histogramm zeigt, wie viele Vektoren in bestimmte Kategorien fallen, und es sollte die verschiedenen Bewegungsrichtungen im Frame voneinander trennen.\n",
    "\n",
    "> Es könnte sinnvoll sein, alle Vektoren mit einer Magnitude unterhalb eines bestimmten Schwellenwerts auf null zu setzen. Dadurch werden kleine, unerwünschte Bewegungen im Video, wie Augen- und Kopfbewegungen, entfernt.\n",
    "\n",
    "Zeichne die Histogramme für einige der Frames.\n"
   ]
  },
  {
   "cell_type": "code",
   "execution_count": null,
   "metadata": {},
   "outputs": [],
   "source": [
    "# Code here"
   ]
  },
  {
   "cell_type": "markdown",
   "metadata": {},
   "source": [
    "Beim Betrachten von Histogrammen sollte es ziemlich einfach sein, die Bewegungsrichtung zu bestimmen. Sie müssen diejenigen Balken auswählen, die den Richtungen oben/unten/links/rechts entsprechen und die über einem bestimmten Schwellenwert liegen.\n"
   ]
  },
  {
   "cell_type": "code",
   "execution_count": null,
   "metadata": {},
   "outputs": [],
   "source": [
    "# Code here"
   ]
  },
  {
   "cell_type": "markdown",
   "metadata": {},
   "source": [
    "Herzlichen Glückwunsch! Wenn Sie alle oben genannten Schritte durchgeführt haben, haben Sie das Labor abgeschlossen!\n"
   ]
  },
  {
   "cell_type": "markdown",
   "metadata": {},
   "source": [
    "\n---\n\n**Haftungsausschluss**:  \nDieses Dokument wurde mit dem KI-Übersetzungsdienst [Co-op Translator](https://github.com/Azure/co-op-translator) übersetzt. Obwohl wir uns um Genauigkeit bemühen, beachten Sie bitte, dass automatisierte Übersetzungen Fehler oder Ungenauigkeiten enthalten können. Das Originaldokument in seiner ursprünglichen Sprache sollte als maßgebliche Quelle betrachtet werden. Für kritische Informationen wird eine professionelle menschliche Übersetzung empfohlen. Wir übernehmen keine Haftung für Missverständnisse oder Fehlinterpretationen, die sich aus der Nutzung dieser Übersetzung ergeben.\n"
   ]
  }
 ],
 "metadata": {
  "language_info": {
   "name": "python"
  },
  "orig_nbformat": 4,
  "coopTranslator": {
   "original_hash": "153d9e417e079bf62f8f693002d0deaf",
   "translation_date": "2025-08-31T16:08:32+00:00",
   "source_file": "lessons/4-ComputerVision/06-IntroCV/lab/MovementDetection.ipynb",
   "language_code": "de"
  }
 },
 "nbformat": 4,
 "nbformat_minor": 2
}