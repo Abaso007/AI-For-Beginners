{
 "cells": [
  {
   "cell_type": "markdown",
   "metadata": {},
   "source": [
    "**Obiectivul tău** va fi să folosești Optical Flow pentru a determina care părți ale videoclipului conțin mișcări sus/jos/stânga/dreapta.\n",
    "\n",
    "Începe prin obținerea cadrelor video, așa cum este descris în lecție:\n"
   ]
  },
  {
   "cell_type": "code",
   "execution_count": null,
   "metadata": {},
   "outputs": [],
   "source": [
    "# Code here"
   ]
  },
  {
   "cell_type": "markdown",
   "metadata": {},
   "source": [
    "Acum, calculează cadrele de flux optic dens, așa cum este descris în prelegere, și convertește fluxul optic dens în coordonate polare:\n"
   ]
  },
  {
   "cell_type": "code",
   "execution_count": null,
   "metadata": {},
   "outputs": [],
   "source": [
    "# Code here"
   ]
  },
  {
   "cell_type": "markdown",
   "metadata": {},
   "source": [
    "Construiește un histogramă al direcțiilor pentru fiecare cadru de flux optic. Un histogramă arată câți vectori se încadrează într-un anumit interval și ar trebui să separe diferitele direcții de mișcare din cadrul respectiv.\n",
    "\n",
    "> De asemenea, s-ar putea să dorești să elimini toți vectorii a căror magnitudine este sub un anumit prag. Acest lucru va elimina mișcările mici suplimentare din videoclip, cum ar fi mișcările ochilor și capului.\n",
    "\n",
    "Trasează histogramele pentru câteva dintre cadre.\n"
   ]
  },
  {
   "cell_type": "code",
   "execution_count": null,
   "metadata": {},
   "outputs": [],
   "source": [
    "# Code here"
   ]
  },
  {
   "cell_type": "markdown",
   "metadata": {},
   "source": [
    "Privind histogramele, ar trebui să fie destul de simplu să determinați direcția mișcării. Trebuie să selectați acele bare care corespund direcțiilor sus/jos/stânga/dreapta și care sunt peste un anumit prag.\n"
   ]
  },
  {
   "cell_type": "code",
   "execution_count": null,
   "metadata": {},
   "outputs": [],
   "source": [
    "# Code here"
   ]
  },
  {
   "cell_type": "markdown",
   "metadata": {},
   "source": [
    "Felicitări! Dacă ai urmat toți pașii de mai sus, ai finalizat laboratorul!\n"
   ]
  },
  {
   "cell_type": "markdown",
   "metadata": {},
   "source": [
    "\n---\n\n**Declinare de responsabilitate**:  \nAcest document a fost tradus folosind serviciul de traducere AI [Co-op Translator](https://github.com/Azure/co-op-translator). Deși ne străduim să asigurăm acuratețea, vă rugăm să fiți conștienți că traducerile automate pot conține erori sau inexactități. Documentul original în limba sa natală ar trebui considerat sursa autoritară. Pentru informații critice, se recomandă traducerea profesională realizată de un specialist uman. Nu ne asumăm responsabilitatea pentru eventualele neînțelegeri sau interpretări greșite care pot apărea din utilizarea acestei traduceri.\n"
   ]
  }
 ],
 "metadata": {
  "language_info": {
   "name": "python"
  },
  "orig_nbformat": 4,
  "coopTranslator": {
   "original_hash": "153d9e417e079bf62f8f693002d0deaf",
   "translation_date": "2025-08-29T23:33:58+00:00",
   "source_file": "lessons/4-ComputerVision/06-IntroCV/lab/MovementDetection.ipynb",
   "language_code": "ro"
  }
 },
 "nbformat": 4,
 "nbformat_minor": 2
}