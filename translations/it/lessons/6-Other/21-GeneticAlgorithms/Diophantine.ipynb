{
 "cells": [
  {
   "cell_type": "markdown",
   "metadata": {},
   "source": [
    "## Compito: Equazioni Diofantee\n",
    "\n",
    "> Questo compito fa parte del [Curriculum AI per Principianti](http://github.com/microsoft/ai-for-beginners) ed è ispirato a [questo post](https://habr.com/post/128704/).\n",
    "\n",
    "Il tuo obiettivo è risolvere la cosiddetta **equazione diofantea** - un'equazione con radici intere e coefficienti interi. Ad esempio, considera la seguente equazione:\n",
    "\n",
    "$$a+2b+3c+4d=30$$\n",
    "\n",
    "Devi trovare radici intere $a$,$b$,$c$,$d\\in\\mathbb{N}$ che soddisfino questa equazione.\n",
    "\n",
    "Suggerimenti:\n",
    "1. Puoi considerare le radici nell'intervallo [0;30]\n",
    "1. Come gene, considera l'utilizzo della lista dei valori delle radici\n"
   ]
  },
  {
   "cell_type": "markdown",
   "metadata": {},
   "source": []
  },
  {
   "cell_type": "markdown",
   "metadata": {},
   "source": [
    "\n---\n\n**Disclaimer**:  \nQuesto documento è stato tradotto utilizzando il servizio di traduzione automatica [Co-op Translator](https://github.com/Azure/co-op-translator). Sebbene ci impegniamo per garantire l'accuratezza, si prega di notare che le traduzioni automatiche possono contenere errori o imprecisioni. Il documento originale nella sua lingua nativa dovrebbe essere considerato la fonte autorevole. Per informazioni critiche, si raccomanda una traduzione professionale effettuata da un traduttore umano. Non siamo responsabili per eventuali fraintendimenti o interpretazioni errate derivanti dall'uso di questa traduzione.\n"
   ]
  }
 ],
 "metadata": {
  "language_info": {
   "name": "python"
  },
  "orig_nbformat": 4,
  "coopTranslator": {
   "original_hash": "a967e1fa1e11ab2b6467b19349a4a9aa",
   "translation_date": "2025-08-28T12:43:16+00:00",
   "source_file": "lessons/6-Other/21-GeneticAlgorithms/Diophantine.ipynb",
   "language_code": "it"
  }
 },
 "nbformat": 4,
 "nbformat_minor": 2
}