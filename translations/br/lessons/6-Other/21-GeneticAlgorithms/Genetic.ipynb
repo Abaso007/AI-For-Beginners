{
 "cells": [
  {
   "cell_type": "markdown",
   "metadata": {
    "collapsed": true
   },
   "source": [
    "# Algoritmos Genéticos\n",
    "\n",
    "Este notebook faz parte do [Currículo de IA para Iniciantes](http://github.com/microsoft/ai-for-beginners).\n"
   ]
  },
  {
   "cell_type": "code",
   "execution_count": 2,
   "metadata": {
    "trusted": true
   },
   "outputs": [],
   "source": [
    "import random\n",
    "import matplotlib.pyplot as plt\n",
    "import numpy as np\n",
    "import math\n",
    "import time"
   ]
  },
  {
   "cell_type": "markdown",
   "metadata": {},
   "source": [
    "## Um Pouco de Teoria\n",
    "\n",
    "**Algoritmos Genéticos** (GA) são baseados em uma **abordagem evolutiva** para IA, na qual métodos de evolução de populações são usados para obter uma solução ótima para um determinado problema. Eles foram propostos em 1975 por [John Henry Holland](https://en.wikipedia.org/wiki/John_Henry_Holland).\n",
    "\n",
    "Os Algoritmos Genéticos são baseados nas seguintes ideias:\n",
    "* Soluções válidas para o problema podem ser representadas como **genes**\n",
    "* O **Crossover** permite combinar duas soluções para obter uma nova solução válida\n",
    "* A **Seleção** é usada para escolher soluções mais otimizadas utilizando alguma **função de aptidão**\n",
    "* **Mutações** são introduzidas para desestabilizar a otimização e nos tirar de mínimos locais\n",
    "\n",
    "Se você quiser implementar um Algoritmo Genético, precisará do seguinte:\n",
    "\n",
    "* Encontrar um método para codificar as soluções do problema usando **genes** $g\\in\\Gamma$\n",
    "* No conjunto de genes $\\Gamma$, é necessário definir uma **função de aptidão** $\\mathrm{fit}: \\Gamma\\to\\mathbb{R}$. Valores menores da função corresponderiam a soluções melhores.\n",
    "* Definir um mecanismo de **crossover** para combinar dois genes e obter uma nova solução válida $\\mathrm{crossover}: \\Gamma^2\\to\\Gamma$.\n",
    "* Definir um mecanismo de **mutação** $\\mathrm{mutate}: \\Gamma\\to\\Gamma$.\n",
    "Em muitos casos, os algoritmos de crossover e mutação são bastante simples para manipular genes como sequências numéricas ou vetores de bits.\n",
    "\n",
    "A implementação específica de um algoritmo genético pode variar de caso para caso, mas a estrutura geral é a seguinte:\n",
    "\n",
    "1. Selecionar a população inicial $G\\subset\\Gamma$\n",
    "2. Selecionar aleatoriamente uma das operações que será realizada nesta etapa: crossover ou mutação\n",
    "3. **Crossover**:\n",
    "   * Selecionar aleatoriamente dois genes $g_1, g_2 \\in G$\n",
    "   * Calcular o crossover $g=\\mathrm{crossover}(g_1,g_2)$\n",
    "   * Se $\\mathrm{fit}(g)<\\mathrm{fit}(g_1)$ ou $\\mathrm{fit}(g)<\\mathrm{fit}(g_2)$ - substituir o gene correspondente na população por $g$.\n",
    "4. **Mutação** - selecionar um gene aleatório $g\\in G$ e substituí-lo por $\\mathrm{mutate}(g)$\n",
    "5. Repetir a partir do passo 2, até obtermos um valor suficientemente pequeno de $\\mathrm{fit}$, ou até que o limite no número de etapas seja alcançado.\n",
    "\n",
    "Tarefas tipicamente resolvidas por GA:\n",
    "1. Otimização de cronogramas\n",
    "1. Empacotamento ótimo\n",
    "1. Corte ótimo\n",
    "1. Aceleração de busca exaustiva\n"
   ]
  },
  {
   "cell_type": "markdown",
   "metadata": {},
   "source": [
    "## Problema 1: Divisão Justa do Tesouro\n",
    "\n",
    "**Tarefa**:  \n",
    "Duas pessoas encontraram um tesouro que contém diamantes de diferentes tamanhos (e, consequentemente, diferentes valores). Elas precisam dividir o tesouro em duas partes de forma que a diferença de valor seja 0 (ou mínima).\n",
    "\n",
    "**Definição formal**:  \n",
    "Temos um conjunto de números $S$. Precisamos dividi-lo em dois subconjuntos $S_1$ e $S_2$, de forma que $$\\left|\\sum_{i\\in S_1}i - \\sum_{j\\in S_2}j\\right|\\to\\min$$ e $S_1\\cup S_2=S$, $S_1\\cap S_2=\\emptyset$.\n",
    "\n",
    "Primeiramente, vamos definir o conjunto $S$:\n"
   ]
  },
  {
   "cell_type": "code",
   "execution_count": 3,
   "metadata": {
    "trusted": true
   },
   "outputs": [
    {
     "name": "stdout",
     "output_type": "stream",
     "text": [
      "[8344 2197 9335 3131 5863 9429 3818 9791   15 5455 1396 9538 4872 6549\n",
      " 8587 5986 6021 9764 8102 5083 5739 7684 8498 3007 6599  820 7490 2372\n",
      " 9370 5235 3525 3154  859 1906 8159 3950 2173 2988 2050  349 8713 2284\n",
      " 4177 6033 1651 9176 5049 8201  171 5081 1216 3756 4711 2757 7738 1272\n",
      " 5650 6584 5395 9004 7797  969 8104 1283 1392 4001 5768  445  274  256\n",
      " 8239 8015 4381 9021 1189 8879 1411 3539 6526 8011  136 7230 2332  451\n",
      " 5702 2989 4320 2446 9578 8486 4027 2410 9588 8981 2177 1493 3232 9151\n",
      " 4835 5594 6859 8394  369 3200  126 4259 2283 7755 2014 2458 8327 8082\n",
      " 7413 7622 1206 5533 8751 3495 5868 8472 6850 3958 3149 4672 4810 6274\n",
      " 4700 6134 4627 4616 6656 9949  884 2256 7419 1926 7973 5319 5967 9158\n",
      " 3823 7697 9466 5675 5412 9784 5426 8209 3421 1136 6047 4429 8001 4417\n",
      " 1381  722 7350 6018 6235 7860 5853 7660 5937 6242    1 9552 3971 8302\n",
      " 2633 9227 7283  154 8599 4269 9392 8539 1630  368 2409 9351 3838 9814\n",
      " 6186 5743 5083 1325 1610  779 3643 3262 5768 8725  961 4611 6310 4788\n",
      " 1648 5951 8118 7779]\n"
     ]
    }
   ],
   "source": [
    "N = 200\n",
    "S = np.array([random.randint(1,10000) for _ in range(N)])\n",
    "print(S)"
   ]
  },
  {
   "cell_type": "markdown",
   "metadata": {},
   "source": [
    "Vamos codificar cada solução possível do problema por um vetor binário $B\\in\\{0,1\\}^N$, onde o número na posição $i$ indica a qual dos conjuntos ($S_1$ ou $S_2$) o $i$-ésimo número no conjunto original $S$ pertence. A função `generate` irá gerar esses vetores binários aleatórios.\n"
   ]
  },
  {
   "cell_type": "code",
   "execution_count": 5,
   "metadata": {
    "trusted": true
   },
   "outputs": [
    {
     "name": "stdout",
     "output_type": "stream",
     "text": [
      "[1 0 0 1 1 1 1 1 0 1 1 1 0 0 1 0 1 1 1 0 0 1 1 0 1 1 0 0 1 0 1 0 1 0 1 1 1\n",
      " 0 1 1 1 0 1 0 0 1 0 0 1 1 0 1 0 1 1 0 0 1 0 0 0 1 1 0 1 1 0 0 0 0 1 0 1 0\n",
      " 1 0 0 0 0 0 1 1 0 1 0 0 1 0 1 0 0 1 1 0 0 1 1 1 0 0 1 1 0 1 1 0 0 0 0 1 1\n",
      " 1 0 1 0 0 1 1 1 1 1 1 1 1 0 1 0 1 1 1 1 1 1 0 1 0 1 0 1 0 0 1 1 1 0 0 1 1\n",
      " 0 1 1 0 1 1 0 0 0 1 1 0 0 0 0 0 0 0 0 1 1 0 1 1 1 0 0 1 1 0 1 1 0 0 1 1 0\n",
      " 0 0 0 1 0 1 1 0 1 1 0 1 0 0 0]\n"
     ]
    }
   ],
   "source": [
    "def generate(S):\n",
    "    return np.array([random.randint(0,1) for _ in S])\n",
    "\n",
    "b = generate(S)\n",
    "print(b)"
   ]
  },
  {
   "cell_type": "markdown",
   "metadata": {},
   "source": [
    "Vamos agora definir a função `fit` que calcula o \"custo\" da solução. Será a diferença entre a soma de dois conjuntos, $S_1$ e $S_2$:\n"
   ]
  },
  {
   "cell_type": "code",
   "execution_count": 6,
   "metadata": {
    "trusted": true
   },
   "outputs": [
    {
     "data": {
      "text/plain": [
       "133784"
      ]
     },
     "execution_count": 6,
     "metadata": {},
     "output_type": "execute_result"
    }
   ],
   "source": [
    "def fit(B,S=S):\n",
    "    c1 = (B*S).sum()\n",
    "    c2 = ((1-B)*S).sum()\n",
    "    return abs(c1-c2)\n",
    "\n",
    "fit(b)"
   ]
  },
  {
   "cell_type": "markdown",
   "metadata": {},
   "source": [
    "Agora precisamos definir funções para mutação e crossover:  \n",
    "* Para mutação, selecionaremos um bit aleatório e o negaremos (alterar de 0 para 1 e vice-versa).  \n",
    "* Para crossover, pegaremos alguns bits de um vetor e alguns bits de outro. Usaremos a mesma função `generate` para selecionar aleatoriamente quais bits serão retirados de cada uma das máscaras de entrada.  \n"
   ]
  },
  {
   "cell_type": "code",
   "execution_count": 7,
   "metadata": {
    "trusted": true
   },
   "outputs": [],
   "source": [
    "def mutate(b):\n",
    "    x = b.copy()\n",
    "    i = random.randint(0,len(b)-1)\n",
    "    x[i] = 1-x[i]\n",
    "    return x\n",
    "\n",
    "def xover(b1,b2):\n",
    "    x = generate(b1)\n",
    "    return b1*x+b2*(1-x)"
   ]
  },
  {
   "cell_type": "markdown",
   "metadata": {},
   "source": [
    "Vamos criar a população inicial das soluções $P$ de tamanho `pop_size`:\n"
   ]
  },
  {
   "cell_type": "code",
   "execution_count": 8,
   "metadata": {
    "trusted": true
   },
   "outputs": [],
   "source": [
    "pop_size = 30\n",
    "P = [generate(S) for _ in range(pop_size)]"
   ]
  },
  {
   "cell_type": "markdown",
   "metadata": {},
   "source": [
    "Agora, a função principal para realizar a evolução. `n` é o número de etapas de evolução a serem realizadas. Em cada etapa:\n",
    "* Com uma probabilidade de 30%, realizamos uma mutação e substituímos o elemento com a pior função `fit` pelo elemento mutado\n",
    "* Com uma probabilidade de 70%, realizamos o crossover\n",
    "\n",
    "A função retorna a melhor solução (gene correspondente à melhor solução) e o histórico da função `fit` mínima na população em cada iteração.\n"
   ]
  },
  {
   "cell_type": "code",
   "execution_count": 9,
   "metadata": {
    "trusted": true
   },
   "outputs": [
    {
     "name": "stdout",
     "output_type": "stream",
     "text": [
      "[0 0 0 1 1 0 0 0 0 1 1 1 0 1 0 0 0 1 0 1 0 1 0 1 0 1 1 0 0 0 0 0 1 0 1 1 0\n",
      " 0 0 0 1 1 0 0 1 0 0 0 0 0 1 0 0 1 1 1 1 1 1 1 0 1 1 0 1 1 1 1 1 0 1 0 0 0\n",
      " 0 1 1 1 0 1 0 1 1 1 1 1 0 0 0 1 1 0 1 0 0 1 0 0 1 1 1 1 1 1 1 1 0 1 0 1 1\n",
      " 0 1 1 0 0 0 0 1 1 1 1 0 1 0 0 1 0 1 1 1 0 1 0 0 0 0 0 0 1 1 0 0 0 1 1 0 0\n",
      " 1 0 1 1 1 1 1 0 1 0 1 0 1 1 1 0 0 0 1 1 0 0 0 0 0 0 1 1 1 0 1 0 0 0 1 0 1\n",
      " 0 1 0 1 0 0 1 1 1 0 1 1 0 0 1] 4\n"
     ]
    }
   ],
   "source": [
    "def evolve(P,S=S,n=2000):\n",
    "    res = []\n",
    "    for _ in range(n):\n",
    "        f = min([fit(b) for b in P])\n",
    "        res.append(f)\n",
    "        if f==0:\n",
    "            break\n",
    "        if random.randint(1,10)<3:\n",
    "            i = random.randint(0,len(P)-1)\n",
    "            b = mutate(P[i])\n",
    "            i = np.argmax([fit(z) for z in P])\n",
    "            P[i] = b\n",
    "        else:\n",
    "            i = random.randint(0,len(P)-1)\n",
    "            j = random.randint(0,len(P)-1)\n",
    "            b = xover(P[i],P[j])\n",
    "            if fit(b)<fit(P[i]):\n",
    "                P[i]=b\n",
    "            elif fit(b)<fit(P[j]):\n",
    "                P[j]=b\n",
    "            else:\n",
    "                pass\n",
    "    i = np.argmin([fit(b) for b in P])\n",
    "    return (P[i],res)\n",
    "\n",
    "(s,hist) = evolve(P)\n",
    "print(s,fit(s))"
   ]
  },
  {
   "cell_type": "markdown",
   "metadata": {},
   "source": [
    "Você pode ver que conseguimos minimizar bastante a função `fit`! Aqui está o gráfico que mostra como a função `fit` para toda a população se comporta durante o processo.\n"
   ]
  },
  {
   "cell_type": "code",
   "execution_count": 10,
   "metadata": {
    "trusted": true
   },
   "outputs": [
    {
     "data": {
      "image/png": "[encoded data removed]",
      "text/plain": [
       "<Figure size 432x288 with 1 Axes>"
      ]
     },
     "metadata": {
      "needs_background": "light"
     },
     "output_type": "display_data"
    }
   ],
   "source": [
    "plt.plot(hist)\n",
    "plt.show()"
   ]
  },
  {
   "cell_type": "markdown",
   "metadata": {},
   "source": [
    "## Problema 2: Problema das N Rainhas\n",
    "\n",
    "**Tarefa**:  \n",
    "Você precisa posicionar $N$ rainhas em um tabuleiro de xadrez de tamanho $N\\times N$ de forma que elas não se ataquem.\n",
    "\n",
    "Primeiramente, vamos resolver o problema sem usar algoritmos genéticos, utilizando uma busca completa. Podemos representar o estado do tabuleiro por uma lista $L$, onde o número na posição $i$ da lista representa a posição horizontal da rainha na linha $i$. É bastante óbvio que cada solução terá apenas uma rainha por linha, e cada linha terá uma rainha.\n",
    "\n",
    "Nosso objetivo será encontrar a primeira solução para o problema, após o que interromperemos a busca. Você pode facilmente estender essa função para gerar todas as posições possíveis para as rainhas.\n"
   ]
  },
  {
   "cell_type": "code",
   "execution_count": 11,
   "metadata": {
    "trusted": true
   },
   "outputs": [
    {
     "name": "stdout",
     "output_type": "stream",
     "text": [
      "[1, 5, 8, 6, 3, 7, 2, 4]\n"
     ]
    },
    {
     "data": {
      "text/plain": [
       "True"
      ]
     },
     "execution_count": 11,
     "metadata": {},
     "output_type": "execute_result"
    }
   ],
   "source": [
    "N = 8\n",
    "\n",
    "def checkbeats(i_new,j_new,l):\n",
    "    for i,j in enumerate(l,start=1):\n",
    "        if j==j_new:\n",
    "            return False\n",
    "        else:\n",
    "            if abs(j-j_new) == i_new-i:\n",
    "                return False\n",
    "    return True\n",
    "\n",
    "def nqueens(l,N=8,disp=True):\n",
    "    if len(l)==N:\n",
    "        if disp: print(l)\n",
    "        return True\n",
    "    else:\n",
    "        for j in range(1,N+1):\n",
    "            if checkbeats(len(l)+1,j,l):\n",
    "                l.append(j)\n",
    "                if nqueens(l,N,disp): return True\n",
    "                else: l.pop()\n",
    "        return False\n",
    "            \n",
    "nqueens([],8)\n"
   ]
  },
  {
   "cell_type": "markdown",
   "metadata": {},
   "source": [
    "Agora vamos medir quanto tempo leva para obter uma solução para o problema das 20 rainhas:\n"
   ]
  },
  {
   "cell_type": "code",
   "execution_count": 12,
   "metadata": {
    "trusted": true
   },
   "outputs": [
    {
     "name": "stdout",
     "output_type": "stream",
     "text": [
      "10.6 s ± 2.17 s per loop (mean ± std. dev. of 7 runs, 1 loop each)\n"
     ]
    }
   ],
   "source": [
    "%timeit nqueens([],20,False)"
   ]
  },
  {
   "cell_type": "markdown",
   "metadata": {},
   "source": [
    "Agora vamos resolver o mesmo problema usando um algoritmo genético. Esta solução foi inspirada por [este post no blog](https://kushalvyas.github.io/gen_8Q.html).\n",
    "\n",
    "Representaremos cada solução pela mesma lista de comprimento $N$, e como função de `fit` utilizaremos o número de rainhas que se atacam mutuamente:\n"
   ]
  },
  {
   "cell_type": "code",
   "execution_count": 13,
   "metadata": {
    "trusted": true
   },
   "outputs": [],
   "source": [
    "def fit(L):\n",
    "    x=0\n",
    "    for i1,j1 in enumerate(L,1):\n",
    "        for i2,j2 in enumerate(L,1):\n",
    "            if i2>i1:\n",
    "                if j2==j1 or (abs(j2-j1)==i2-i1): x+=1\n",
    "    return x"
   ]
  },
  {
   "cell_type": "markdown",
   "metadata": {},
   "source": [
    "Como calcular a função de aptidão consome tempo, vamos armazenar cada solução na população junto com o valor da função de aptidão. Vamos gerar a população inicial:\n"
   ]
  },
  {
   "cell_type": "code",
   "execution_count": 14,
   "metadata": {
    "trusted": true
   },
   "outputs": [
    {
     "data": {
      "text/plain": [
       "[(array([2, 3, 8, 7, 5, 4, 1, 6]), 4),\n",
       " (array([3, 4, 5, 1, 2, 8, 6, 7]), 8),\n",
       " (array([1, 3, 7, 4, 5, 8, 6, 2]), 6),\n",
       " (array([1, 5, 4, 6, 8, 3, 7, 2]), 4),\n",
       " (array([3, 5, 7, 1, 8, 6, 4, 2]), 3)]"
      ]
     },
     "execution_count": 14,
     "metadata": {},
     "output_type": "execute_result"
    }
   ],
   "source": [
    "def generate_one(N):\n",
    "    x = np.arange(1,N+1)\n",
    "    np.random.shuffle(x)\n",
    "    return (x,fit(x))\n",
    "\n",
    "def generate(N,NP):\n",
    "    return [generate_one(N) for _ in range(NP)]\n",
    "\n",
    "generate(8,5)"
   ]
  },
  {
   "cell_type": "markdown",
   "metadata": {},
   "source": []
  },
  {
   "cell_type": "code",
   "execution_count": 15,
   "metadata": {
    "trusted": true
   },
   "outputs": [
    {
     "data": {
      "text/plain": [
       "array([1, 2, 7, 8])"
      ]
     },
     "execution_count": 15,
     "metadata": {},
     "output_type": "execute_result"
    }
   ],
   "source": [
    "def mutate(G):\n",
    "    x=random.randint(0,len(G)-1)\n",
    "    G[x]=random.randint(1,len(G))\n",
    "    return G\n",
    "    \n",
    "def xover(G1,G2):\n",
    "    x=random.randint(0,len(G1))\n",
    "    return np.concatenate((G1[:x],G2[x:]))\n",
    "\n",
    "xover([1,2,3,4],[5,6,7,8])"
   ]
  },
  {
   "cell_type": "markdown",
   "metadata": {},
   "source": []
  },
  {
   "cell_type": "code",
   "execution_count": 17,
   "metadata": {
    "trusted": true
   },
   "outputs": [],
   "source": [
    "def choose_rand(P):\n",
    "    N=len(P[0][0])\n",
    "    mf = N*(N-1)//2 # max fitness fn\n",
    "    z = [mf-x[1] for x in P]\n",
    "    tf = sum(z) # total fitness\n",
    "    w = [x/tf for x in z]\n",
    "    p = np.random.choice(len(P),2,False,p=w)\n",
    "    return p[0],p[1]\n",
    "\n",
    "def choose(P):\n",
    "    def ch(w):\n",
    "        p=[]\n",
    "        while p==[]:\n",
    "            r = random.random()\n",
    "            p = [i for i,x in enumerate(P) if x[1]>=r]\n",
    "        return random.choice(p)\n",
    "    N=len(P[0][0])\n",
    "    mf = N*(N-1)//2 # max fitness fn\n",
    "    z = [mf-x[1] for x in P]\n",
    "    tf = sum(z) # total fitness\n",
    "    w = [x/tf for x in z]\n",
    "    p1=p2=0\n",
    "    while p1==p2:\n",
    "        p1 = ch(w)\n",
    "        p2 = ch(w)\n",
    "    return p1,p2"
   ]
  },
  {
   "cell_type": "markdown",
   "metadata": {},
   "source": [
    "Agora vamos definir o principal loop evolutivo. Faremos a lógica um pouco diferente do exemplo anterior, para mostrar que é possível ser criativo. Vamos repetir o loop até obtermos a solução perfeita (função de aptidão = 0), e a cada etapa pegaremos a geração atual e produziremos uma nova geração do mesmo tamanho. Isso é feito usando a função `nxgeneration`, seguindo os passos abaixo:\n",
    "\n",
    "1. Descartar as soluções menos aptas - existe a função `discard_unfit` que realiza essa tarefa\n",
    "1. Adicionar algumas soluções aleatórias à geração\n",
    "1. Preencher a nova geração de tamanho `gen_size` seguindo os passos abaixo para cada novo gene:\n",
    "    - selecionar dois genes aleatórios, com probabilidade proporcional à função de aptidão\n",
    "    - calcular um crossover\n",
    "    - aplicar uma mutação com a probabilidade `mutation_prob`\n"
   ]
  },
  {
   "cell_type": "code",
   "execution_count": 20,
   "metadata": {
    "trusted": true
   },
   "outputs": [
    {
     "data": {
      "text/plain": [
       "(array([4, 7, 5, 3, 1, 6, 8, 2]), 0)"
      ]
     },
     "execution_count": 20,
     "metadata": {},
     "output_type": "execute_result"
    }
   ],
   "source": [
    "mutation_prob = 0.1\n",
    "\n",
    "def discard_unfit(P):\n",
    "    P.sort(key=lambda x:x[1])\n",
    "    return P[:len(P)//3]\n",
    "\n",
    "def nxgeneration(P):\n",
    "    gen_size=len(P)\n",
    "    P = discard_unfit(P)\n",
    "    P.extend(generate(len(P[0][0]),3))\n",
    "    new_gen = []\n",
    "    for _ in range(gen_size):\n",
    "        p1,p2 = choose_rand(P)\n",
    "        n = xover(P[p1][0],P[p2][0])\n",
    "        if random.random()<mutation_prob:\n",
    "            n=mutate(n)\n",
    "        nf = fit(n)\n",
    "        new_gen.append((n,nf))\n",
    "        '''\n",
    "        if (nf<=P[p1][1]) or (nf<=P[p2][1]):\n",
    "            new_gen.append((n,nf))\n",
    "        elif (P[p1][1]<P[p2][1]):\n",
    "            new_gen.append(P[p1])\n",
    "        else:\n",
    "            new_gen.append(P[p2])\n",
    "        '''\n",
    "    return new_gen\n",
    "    \n",
    "def genetic(N,pop_size=100):\n",
    "    P = generate(N,pop_size)\n",
    "    mf = min([x[1] for x in P])\n",
    "    n=0\n",
    "    while mf>0:\n",
    "        #print(\"Generation {0}, fit={1}\".format(n,mf))\n",
    "        n+=1\n",
    "        mf = min([x[1] for x in P])\n",
    "        P = nxgeneration(P)\n",
    "    mi = np.argmin([x[1] for x in P])\n",
    "    return P[mi]\n",
    "\n",
    "genetic(8)"
   ]
  },
  {
   "cell_type": "markdown",
   "metadata": {},
   "source": []
  },
  {
   "cell_type": "code",
   "execution_count": 19,
   "metadata": {
    "trusted": true
   },
   "outputs": [
    {
     "name": "stdout",
     "output_type": "stream",
     "text": [
      "The slowest run took 18.71 times longer than the fastest. This could mean that an intermediate result is being cached.\n",
      "26.4 s ± 28.7 s per loop (mean ± std. dev. of 7 runs, 1 loop each)\n"
     ]
    }
   ],
   "source": [
    "%timeit genetic(10)"
   ]
  },
  {
   "cell_type": "markdown",
   "metadata": {},
   "source": [
    "\n---\n\n**Aviso Legal**:  \nEste documento foi traduzido utilizando o serviço de tradução por IA [Co-op Translator](https://github.com/Azure/co-op-translator). Embora nos esforcemos para garantir a precisão, esteja ciente de que traduções automáticas podem conter erros ou imprecisões. O documento original em seu idioma nativo deve ser considerado a fonte oficial. Para informações críticas, recomenda-se a tradução profissional realizada por humanos. Não nos responsabilizamos por quaisquer mal-entendidos ou interpretações equivocadas decorrentes do uso desta tradução.\n"
   ]
  }
 ],
 "metadata": {
  "interpreter": {
   "hash": "86193a1ab0ba47eac1c69c1756090baa3b420b3eea7d4aafab8b85f8b312f0c5"
  },
  "kernelspec": {
   "display_name": "Python 3.6",
   "language": "python",
   "name": "python3"
  },
  "language_info": {
   "codemirror_mode": {
    "name": "ipython",
    "version": 3
   },
   "file_extension": ".py",
   "mimetype": "text/x-python",
   "name": "python",
   "nbconvert_exporter": "python",
   "pygments_lexer": "ipython3",
   "version": "3.9.5"
  },
  "coopTranslator": {
   "original_hash": "1012c117808753433f6e2696e775ff4b",
   "translation_date": "2025-08-28T12:44:12+00:00",
   "source_file": "lessons/6-Other/21-GeneticAlgorithms/Genetic.ipynb",
   "language_code": "br"
  }
 },
 "nbformat": 4,
 "nbformat_minor": 2
}