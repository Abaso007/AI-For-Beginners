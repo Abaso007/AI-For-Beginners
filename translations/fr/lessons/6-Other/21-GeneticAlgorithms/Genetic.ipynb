{
 "cells": [
  {
   "cell_type": "markdown",
   "metadata": {
    "collapsed": true
   },
   "source": [
    "# Algorithmes génétiques\n",
    "\n",
    "Ce carnet fait partie du [Curriculum AI pour les débutants](http://github.com/microsoft/ai-for-beginners).\n"
   ]
  },
  {
   "cell_type": "code",
   "execution_count": 2,
   "metadata": {
    "trusted": true
   },
   "outputs": [],
   "source": [
    "import random\n",
    "import matplotlib.pyplot as plt\n",
    "import numpy as np\n",
    "import math\n",
    "import time"
   ]
  },
  {
   "cell_type": "markdown",
   "metadata": {},
   "source": [
    "## Un peu de théorie\n",
    "\n",
    "**Les algorithmes génétiques** (AG) reposent sur une **approche évolutive** de l'intelligence artificielle, dans laquelle les méthodes d'évolution d'une population sont utilisées pour obtenir une solution optimale à un problème donné. Ils ont été proposés en 1975 par [John Henry Holland](https://en.wikipedia.org/wiki/John_Henry_Holland).\n",
    "\n",
    "Les algorithmes génétiques sont basés sur les idées suivantes :\n",
    "* Les solutions valides au problème peuvent être représentées sous forme de **gènes**.\n",
    "* Le **croisement** permet de combiner deux solutions pour obtenir une nouvelle solution valide.\n",
    "* La **sélection** est utilisée pour choisir les solutions les plus optimales à l'aide d'une **fonction d'évaluation**.\n",
    "* Les **mutations** sont introduites pour déstabiliser l'optimisation et sortir d'un minimum local.\n",
    "\n",
    "Si vous souhaitez implémenter un algorithme génétique, vous aurez besoin des éléments suivants :\n",
    "\n",
    " * Trouver une méthode pour coder les solutions de votre problème en utilisant des **gènes** $g\\in\\Gamma$.\n",
    " * Sur l'ensemble des gènes $\\Gamma$, définir une **fonction d'évaluation** $\\mathrm{fit}: \\Gamma\\to\\mathbb{R}$. Les valeurs plus petites de la fonction correspondent à de meilleures solutions.\n",
    " * Définir un mécanisme de **croisement** pour combiner deux gènes et obtenir une nouvelle solution valide $\\mathrm{crossover}: \\Gamma^2\\to\\Gamma$.\n",
    " * Définir un mécanisme de **mutation** $\\mathrm{mutate}: \\Gamma\\to\\Gamma$.\n",
    "Dans de nombreux cas, les mécanismes de croisement et de mutation sont des algorithmes assez simples qui manipulent les gènes sous forme de séquences numériques ou de vecteurs binaires.\n",
    "\n",
    "La mise en œuvre spécifique d'un algorithme génétique peut varier selon les cas, mais la structure générale est la suivante :\n",
    "\n",
    "1. Sélectionner une population initiale $G\\subset\\Gamma$.\n",
    "2. Sélectionner aléatoirement l'opération qui sera effectuée à cette étape : croisement ou mutation.\n",
    "3. **Croisement** :\n",
    "  * Sélectionner aléatoirement deux gènes $g_1, g_2 \\in G$.\n",
    "  * Calculer le croisement $g=\\mathrm{crossover}(g_1,g_2)$.\n",
    "  * Si $\\mathrm{fit}(g)<\\mathrm{fit}(g_1)$ ou $\\mathrm{fit}(g)<\\mathrm{fit}(g_2)$ - remplacer le gène correspondant dans la population par $g$.\n",
    "4. **Mutation** - sélectionner un gène aléatoire $g\\in G$ et le remplacer par $\\mathrm{mutate}(g)$.\n",
    "5. Répéter à partir de l'étape 2, jusqu'à obtenir une valeur suffisamment petite de $\\mathrm{fit}$, ou jusqu'à atteindre la limite du nombre d'étapes.\n",
    "\n",
    "Les tâches généralement résolues par les AG :\n",
    "1. Optimisation des plannings\n",
    "1. Emballage optimal\n",
    "1. Découpe optimale\n",
    "1. Accélération de la recherche exhaustive\n"
   ]
  },
  {
   "cell_type": "markdown",
   "metadata": {},
   "source": [
    "## Problème 1 : Répartition Équitable du Trésor\n",
    "\n",
    "**Tâche** :  \n",
    "Deux personnes ont trouvé un trésor contenant des diamants de tailles différentes (et, par conséquent, de valeurs différentes). Elles doivent diviser le trésor en deux parts de manière à ce que la différence de valeur soit nulle (ou minimale).\n",
    "\n",
    "**Définition formelle** :  \n",
    "Nous avons un ensemble de nombres $S$. Nous devons le diviser en deux sous-ensembles $S_1$ et $S_2$, de sorte que $$\\left|\\sum_{i\\in S_1}i - \\sum_{j\\in S_2}j\\right|\\to\\min$$ et $S_1\\cup S_2=S$, $S_1\\cap S_2=\\emptyset$.\n",
    "\n",
    "Tout d'abord, définissons l'ensemble $S$ :\n"
   ]
  },
  {
   "cell_type": "code",
   "execution_count": 3,
   "metadata": {
    "trusted": true
   },
   "outputs": [
    {
     "name": "stdout",
     "output_type": "stream",
     "text": [
      "[8344 2197 9335 3131 5863 9429 3818 9791   15 5455 1396 9538 4872 6549\n",
      " 8587 5986 6021 9764 8102 5083 5739 7684 8498 3007 6599  820 7490 2372\n",
      " 9370 5235 3525 3154  859 1906 8159 3950 2173 2988 2050  349 8713 2284\n",
      " 4177 6033 1651 9176 5049 8201  171 5081 1216 3756 4711 2757 7738 1272\n",
      " 5650 6584 5395 9004 7797  969 8104 1283 1392 4001 5768  445  274  256\n",
      " 8239 8015 4381 9021 1189 8879 1411 3539 6526 8011  136 7230 2332  451\n",
      " 5702 2989 4320 2446 9578 8486 4027 2410 9588 8981 2177 1493 3232 9151\n",
      " 4835 5594 6859 8394  369 3200  126 4259 2283 7755 2014 2458 8327 8082\n",
      " 7413 7622 1206 5533 8751 3495 5868 8472 6850 3958 3149 4672 4810 6274\n",
      " 4700 6134 4627 4616 6656 9949  884 2256 7419 1926 7973 5319 5967 9158\n",
      " 3823 7697 9466 5675 5412 9784 5426 8209 3421 1136 6047 4429 8001 4417\n",
      " 1381  722 7350 6018 6235 7860 5853 7660 5937 6242    1 9552 3971 8302\n",
      " 2633 9227 7283  154 8599 4269 9392 8539 1630  368 2409 9351 3838 9814\n",
      " 6186 5743 5083 1325 1610  779 3643 3262 5768 8725  961 4611 6310 4788\n",
      " 1648 5951 8118 7779]\n"
     ]
    }
   ],
   "source": [
    "N = 200\n",
    "S = np.array([random.randint(1,10000) for _ in range(N)])\n",
    "print(S)"
   ]
  },
  {
   "cell_type": "markdown",
   "metadata": {},
   "source": [
    "Traduisons chaque solution possible du problème par un vecteur binaire $B\\in\\{0,1\\}^N$, où le nombre à la position $i$ indique à quel ensemble ($S_1$ ou $S_2$) appartient le $i$-ème nombre dans l'ensemble original $S$. La fonction `generate` générera ces vecteurs binaires aléatoires.\n"
   ]
  },
  {
   "cell_type": "code",
   "execution_count": 5,
   "metadata": {
    "trusted": true
   },
   "outputs": [
    {
     "name": "stdout",
     "output_type": "stream",
     "text": [
      "[1 0 0 1 1 1 1 1 0 1 1 1 0 0 1 0 1 1 1 0 0 1 1 0 1 1 0 0 1 0 1 0 1 0 1 1 1\n",
      " 0 1 1 1 0 1 0 0 1 0 0 1 1 0 1 0 1 1 0 0 1 0 0 0 1 1 0 1 1 0 0 0 0 1 0 1 0\n",
      " 1 0 0 0 0 0 1 1 0 1 0 0 1 0 1 0 0 1 1 0 0 1 1 1 0 0 1 1 0 1 1 0 0 0 0 1 1\n",
      " 1 0 1 0 0 1 1 1 1 1 1 1 1 0 1 0 1 1 1 1 1 1 0 1 0 1 0 1 0 0 1 1 1 0 0 1 1\n",
      " 0 1 1 0 1 1 0 0 0 1 1 0 0 0 0 0 0 0 0 1 1 0 1 1 1 0 0 1 1 0 1 1 0 0 1 1 0\n",
      " 0 0 0 1 0 1 1 0 1 1 0 1 0 0 0]\n"
     ]
    }
   ],
   "source": [
    "def generate(S):\n",
    "    return np.array([random.randint(0,1) for _ in S])\n",
    "\n",
    "b = generate(S)\n",
    "print(b)"
   ]
  },
  {
   "cell_type": "markdown",
   "metadata": {},
   "source": [
    "Définissons maintenant la fonction `fit` qui calcule le \"coût\" de la solution. Ce sera la différence entre la somme des deux ensembles, $S_1$ et $S_2$ :\n"
   ]
  },
  {
   "cell_type": "code",
   "execution_count": 6,
   "metadata": {
    "trusted": true
   },
   "outputs": [
    {
     "data": {
      "text/plain": [
       "133784"
      ]
     },
     "execution_count": 6,
     "metadata": {},
     "output_type": "execute_result"
    }
   ],
   "source": [
    "def fit(B,S=S):\n",
    "    c1 = (B*S).sum()\n",
    "    c2 = ((1-B)*S).sum()\n",
    "    return abs(c1-c2)\n",
    "\n",
    "fit(b)"
   ]
  },
  {
   "cell_type": "markdown",
   "metadata": {},
   "source": [
    "Nous devons maintenant définir les fonctions pour la mutation et le croisement :  \n",
    "* Pour la mutation, nous sélectionnerons un bit aléatoire et nous l'inverserons (le changer de 0 à 1 et vice versa).  \n",
    "* Pour le croisement, nous prendrons certains bits d'un vecteur et d'autres bits d'un autre vecteur. Nous utiliserons la même fonction `generate` pour sélectionner aléatoirement quels bits prendre de chacune des masques d'entrée.  \n"
   ]
  },
  {
   "cell_type": "code",
   "execution_count": 7,
   "metadata": {
    "trusted": true
   },
   "outputs": [],
   "source": [
    "def mutate(b):\n",
    "    x = b.copy()\n",
    "    i = random.randint(0,len(b)-1)\n",
    "    x[i] = 1-x[i]\n",
    "    return x\n",
    "\n",
    "def xover(b1,b2):\n",
    "    x = generate(b1)\n",
    "    return b1*x+b2*(1-x)"
   ]
  },
  {
   "cell_type": "markdown",
   "metadata": {},
   "source": [
    "Créons une population initiale des solutions $P$ de taille `pop_size` :\n"
   ]
  },
  {
   "cell_type": "code",
   "execution_count": 8,
   "metadata": {
    "trusted": true
   },
   "outputs": [],
   "source": [
    "pop_size = 30\n",
    "P = [generate(S) for _ in range(pop_size)]"
   ]
  },
  {
   "cell_type": "markdown",
   "metadata": {},
   "source": [
    "La fonction principale pour effectuer l'évolution. `n` représente le nombre d'étapes d'évolution à réaliser. À chaque étape :  \n",
    "* Avec une probabilité de 30 %, nous effectuons une mutation et remplaçons l'élément ayant la pire fonction `fit` par l'élément muté.  \n",
    "* Avec une probabilité de 70 %, nous effectuons un croisement.  \n",
    "\n",
    "La fonction renvoie la meilleure solution (le gène correspondant à la meilleure solution) et l'historique de la fonction `fit` minimale dans la population à chaque itération.  \n"
   ]
  },
  {
   "cell_type": "code",
   "execution_count": 9,
   "metadata": {
    "trusted": true
   },
   "outputs": [
    {
     "name": "stdout",
     "output_type": "stream",
     "text": [
      "[0 0 0 1 1 0 0 0 0 1 1 1 0 1 0 0 0 1 0 1 0 1 0 1 0 1 1 0 0 0 0 0 1 0 1 1 0\n",
      " 0 0 0 1 1 0 0 1 0 0 0 0 0 1 0 0 1 1 1 1 1 1 1 0 1 1 0 1 1 1 1 1 0 1 0 0 0\n",
      " 0 1 1 1 0 1 0 1 1 1 1 1 0 0 0 1 1 0 1 0 0 1 0 0 1 1 1 1 1 1 1 1 0 1 0 1 1\n",
      " 0 1 1 0 0 0 0 1 1 1 1 0 1 0 0 1 0 1 1 1 0 1 0 0 0 0 0 0 1 1 0 0 0 1 1 0 0\n",
      " 1 0 1 1 1 1 1 0 1 0 1 0 1 1 1 0 0 0 1 1 0 0 0 0 0 0 1 1 1 0 1 0 0 0 1 0 1\n",
      " 0 1 0 1 0 0 1 1 1 0 1 1 0 0 1] 4\n"
     ]
    }
   ],
   "source": [
    "def evolve(P,S=S,n=2000):\n",
    "    res = []\n",
    "    for _ in range(n):\n",
    "        f = min([fit(b) for b in P])\n",
    "        res.append(f)\n",
    "        if f==0:\n",
    "            break\n",
    "        if random.randint(1,10)<3:\n",
    "            i = random.randint(0,len(P)-1)\n",
    "            b = mutate(P[i])\n",
    "            i = np.argmax([fit(z) for z in P])\n",
    "            P[i] = b\n",
    "        else:\n",
    "            i = random.randint(0,len(P)-1)\n",
    "            j = random.randint(0,len(P)-1)\n",
    "            b = xover(P[i],P[j])\n",
    "            if fit(b)<fit(P[i]):\n",
    "                P[i]=b\n",
    "            elif fit(b)<fit(P[j]):\n",
    "                P[j]=b\n",
    "            else:\n",
    "                pass\n",
    "    i = np.argmin([fit(b) for b in P])\n",
    "    return (P[i],res)\n",
    "\n",
    "(s,hist) = evolve(P)\n",
    "print(s,fit(s))"
   ]
  },
  {
   "cell_type": "markdown",
   "metadata": {},
   "source": [
    "Vous pouvez voir que nous avons réussi à minimiser la fonction `fit` assez considérablement ! Voici le graphique qui montre comment la fonction `fit` pour l'ensemble de la population se comporte pendant le processus.\n"
   ]
  },
  {
   "cell_type": "code",
   "execution_count": 10,
   "metadata": {
    "trusted": true
   },
   "outputs": [
    {
     "data": {
      "image/png": "[encoded data removed]",
      "text/plain": [
       "<Figure size 432x288 with 1 Axes>"
      ]
     },
     "metadata": {
      "needs_background": "light"
     },
     "output_type": "display_data"
    }
   ],
   "source": [
    "plt.plot(hist)\n",
    "plt.show()"
   ]
  },
  {
   "cell_type": "markdown",
   "metadata": {},
   "source": [
    "## Problème 2 : Problème des N reines\n",
    "\n",
    "**Tâche** :  \n",
    "Vous devez placer $N$ reines sur un échiquier de taille $N\\times N$ de manière à ce qu'elles ne s'attaquent pas mutuellement.\n",
    "\n",
    "Tout d'abord, résolvons le problème sans utiliser d'algorithmes génétiques, en utilisant une recherche exhaustive. Nous pouvons représenter l'état de l'échiquier par la liste $L$, où le $i$-ème nombre dans la liste correspond à la position horizontale de la reine dans la $i$-ème rangée. Il est assez évident que chaque solution aura une seule reine par rangée, et chaque rangée contiendra une reine.\n",
    "\n",
    "Notre objectif sera de trouver la première solution au problème, après quoi nous arrêterons la recherche. Vous pouvez facilement étendre cette fonction pour générer toutes les positions possibles des reines.\n"
   ]
  },
  {
   "cell_type": "code",
   "execution_count": 11,
   "metadata": {
    "trusted": true
   },
   "outputs": [
    {
     "name": "stdout",
     "output_type": "stream",
     "text": [
      "[1, 5, 8, 6, 3, 7, 2, 4]\n"
     ]
    },
    {
     "data": {
      "text/plain": [
       "True"
      ]
     },
     "execution_count": 11,
     "metadata": {},
     "output_type": "execute_result"
    }
   ],
   "source": [
    "N = 8\n",
    "\n",
    "def checkbeats(i_new,j_new,l):\n",
    "    for i,j in enumerate(l,start=1):\n",
    "        if j==j_new:\n",
    "            return False\n",
    "        else:\n",
    "            if abs(j-j_new) == i_new-i:\n",
    "                return False\n",
    "    return True\n",
    "\n",
    "def nqueens(l,N=8,disp=True):\n",
    "    if len(l)==N:\n",
    "        if disp: print(l)\n",
    "        return True\n",
    "    else:\n",
    "        for j in range(1,N+1):\n",
    "            if checkbeats(len(l)+1,j,l):\n",
    "                l.append(j)\n",
    "                if nqueens(l,N,disp): return True\n",
    "                else: l.pop()\n",
    "        return False\n",
    "            \n",
    "nqueens([],8)\n"
   ]
  },
  {
   "cell_type": "markdown",
   "metadata": {},
   "source": [
    "Maintenant, mesurons combien de temps il faut pour obtenir une solution au problème des 20 reines :\n"
   ]
  },
  {
   "cell_type": "code",
   "execution_count": 12,
   "metadata": {
    "trusted": true
   },
   "outputs": [
    {
     "name": "stdout",
     "output_type": "stream",
     "text": [
      "10.6 s ± 2.17 s per loop (mean ± std. dev. of 7 runs, 1 loop each)\n"
     ]
    }
   ],
   "source": [
    "%timeit nqueens([],20,False)"
   ]
  },
  {
   "cell_type": "markdown",
   "metadata": {},
   "source": [
    "Résolvons maintenant le même problème en utilisant un algorithme génétique. Cette solution est inspirée de [cet article de blog](https://kushalvyas.github.io/gen_8Q.html).\n",
    "\n",
    "Nous représenterons chaque solution par la même liste de longueur $N$, et comme fonction `fit`, nous prendrons le nombre de reines qui s'attaquent mutuellement :\n"
   ]
  },
  {
   "cell_type": "code",
   "execution_count": 13,
   "metadata": {
    "trusted": true
   },
   "outputs": [],
   "source": [
    "def fit(L):\n",
    "    x=0\n",
    "    for i1,j1 in enumerate(L,1):\n",
    "        for i2,j2 in enumerate(L,1):\n",
    "            if i2>i1:\n",
    "                if j2==j1 or (abs(j2-j1)==i2-i1): x+=1\n",
    "    return x"
   ]
  },
  {
   "cell_type": "markdown",
   "metadata": {},
   "source": [
    "Étant donné que le calcul de la fonction de fitness est chronophage, stockons chaque solution de la population avec la valeur de la fonction de fitness. Générons la population initiale :\n"
   ]
  },
  {
   "cell_type": "code",
   "execution_count": 14,
   "metadata": {
    "trusted": true
   },
   "outputs": [
    {
     "data": {
      "text/plain": [
       "[(array([2, 3, 8, 7, 5, 4, 1, 6]), 4),\n",
       " (array([3, 4, 5, 1, 2, 8, 6, 7]), 8),\n",
       " (array([1, 3, 7, 4, 5, 8, 6, 2]), 6),\n",
       " (array([1, 5, 4, 6, 8, 3, 7, 2]), 4),\n",
       " (array([3, 5, 7, 1, 8, 6, 4, 2]), 3)]"
      ]
     },
     "execution_count": 14,
     "metadata": {},
     "output_type": "execute_result"
    }
   ],
   "source": [
    "def generate_one(N):\n",
    "    x = np.arange(1,N+1)\n",
    "    np.random.shuffle(x)\n",
    "    return (x,fit(x))\n",
    "\n",
    "def generate(N,NP):\n",
    "    return [generate_one(N) for _ in range(NP)]\n",
    "\n",
    "generate(8,5)"
   ]
  },
  {
   "cell_type": "markdown",
   "metadata": {},
   "source": [
    "Maintenant, nous devons définir les fonctions de mutation et de croisement. Le croisement combinerait deux gènes en les cassant à un point aléatoire et en concaténant deux parties de gènes différents ensemble.\n"
   ]
  },
  {
   "cell_type": "code",
   "execution_count": 15,
   "metadata": {
    "trusted": true
   },
   "outputs": [
    {
     "data": {
      "text/plain": [
       "array([1, 2, 7, 8])"
      ]
     },
     "execution_count": 15,
     "metadata": {},
     "output_type": "execute_result"
    }
   ],
   "source": [
    "def mutate(G):\n",
    "    x=random.randint(0,len(G)-1)\n",
    "    G[x]=random.randint(1,len(G))\n",
    "    return G\n",
    "    \n",
    "def xover(G1,G2):\n",
    "    x=random.randint(0,len(G1))\n",
    "    return np.concatenate((G1[:x],G2[x:]))\n",
    "\n",
    "xover([1,2,3,4],[5,6,7,8])"
   ]
  },
  {
   "cell_type": "markdown",
   "metadata": {},
   "source": []
  },
  {
   "cell_type": "code",
   "execution_count": 17,
   "metadata": {
    "trusted": true
   },
   "outputs": [],
   "source": [
    "def choose_rand(P):\n",
    "    N=len(P[0][0])\n",
    "    mf = N*(N-1)//2 # max fitness fn\n",
    "    z = [mf-x[1] for x in P]\n",
    "    tf = sum(z) # total fitness\n",
    "    w = [x/tf for x in z]\n",
    "    p = np.random.choice(len(P),2,False,p=w)\n",
    "    return p[0],p[1]\n",
    "\n",
    "def choose(P):\n",
    "    def ch(w):\n",
    "        p=[]\n",
    "        while p==[]:\n",
    "            r = random.random()\n",
    "            p = [i for i,x in enumerate(P) if x[1]>=r]\n",
    "        return random.choice(p)\n",
    "    N=len(P[0][0])\n",
    "    mf = N*(N-1)//2 # max fitness fn\n",
    "    z = [mf-x[1] for x in P]\n",
    "    tf = sum(z) # total fitness\n",
    "    w = [x/tf for x in z]\n",
    "    p1=p2=0\n",
    "    while p1==p2:\n",
    "        p1 = ch(w)\n",
    "        p2 = ch(w)\n",
    "    return p1,p2"
   ]
  },
  {
   "cell_type": "markdown",
   "metadata": {},
   "source": [
    "Définissons maintenant la boucle évolutive principale. Nous allons rendre la logique légèrement différente de l'exemple précédent, pour montrer qu'il est possible d'être créatif. Nous bouclerons jusqu'à obtenir la solution parfaite (fonction d'adaptation = 0), et à chaque étape, nous prendrons la génération actuelle et produirons une nouvelle génération de la même taille. Cela se fait en utilisant la fonction `nxgeneration`, selon les étapes suivantes :\n",
    "\n",
    "1. Éliminer les solutions les moins adaptées - il existe une fonction `discard_unfit` qui s'en charge\n",
    "2. Ajouter quelques solutions aléatoires supplémentaires à la génération\n",
    "3. Remplir une nouvelle génération de taille `gen_size` en suivant les étapes suivantes pour chaque nouveau gène :\n",
    "    - sélectionner deux gènes aléatoires, avec une probabilité proportionnelle à la fonction d'adaptation\n",
    "    - calculer un croisement\n",
    "    - appliquer une mutation avec la probabilité `mutation_prob`\n"
   ]
  },
  {
   "cell_type": "code",
   "execution_count": 20,
   "metadata": {
    "trusted": true
   },
   "outputs": [
    {
     "data": {
      "text/plain": [
       "(array([4, 7, 5, 3, 1, 6, 8, 2]), 0)"
      ]
     },
     "execution_count": 20,
     "metadata": {},
     "output_type": "execute_result"
    }
   ],
   "source": [
    "mutation_prob = 0.1\n",
    "\n",
    "def discard_unfit(P):\n",
    "    P.sort(key=lambda x:x[1])\n",
    "    return P[:len(P)//3]\n",
    "\n",
    "def nxgeneration(P):\n",
    "    gen_size=len(P)\n",
    "    P = discard_unfit(P)\n",
    "    P.extend(generate(len(P[0][0]),3))\n",
    "    new_gen = []\n",
    "    for _ in range(gen_size):\n",
    "        p1,p2 = choose_rand(P)\n",
    "        n = xover(P[p1][0],P[p2][0])\n",
    "        if random.random()<mutation_prob:\n",
    "            n=mutate(n)\n",
    "        nf = fit(n)\n",
    "        new_gen.append((n,nf))\n",
    "        '''\n",
    "        if (nf<=P[p1][1]) or (nf<=P[p2][1]):\n",
    "            new_gen.append((n,nf))\n",
    "        elif (P[p1][1]<P[p2][1]):\n",
    "            new_gen.append(P[p1])\n",
    "        else:\n",
    "            new_gen.append(P[p2])\n",
    "        '''\n",
    "    return new_gen\n",
    "    \n",
    "def genetic(N,pop_size=100):\n",
    "    P = generate(N,pop_size)\n",
    "    mf = min([x[1] for x in P])\n",
    "    n=0\n",
    "    while mf>0:\n",
    "        #print(\"Generation {0}, fit={1}\".format(n,mf))\n",
    "        n+=1\n",
    "        mf = min([x[1] for x in P])\n",
    "        P = nxgeneration(P)\n",
    "    mi = np.argmin([x[1] for x in P])\n",
    "    return P[mi]\n",
    "\n",
    "genetic(8)"
   ]
  },
  {
   "cell_type": "markdown",
   "metadata": {},
   "source": []
  },
  {
   "cell_type": "code",
   "execution_count": 19,
   "metadata": {
    "trusted": true
   },
   "outputs": [
    {
     "name": "stdout",
     "output_type": "stream",
     "text": [
      "The slowest run took 18.71 times longer than the fastest. This could mean that an intermediate result is being cached.\n",
      "26.4 s ± 28.7 s per loop (mean ± std. dev. of 7 runs, 1 loop each)\n"
     ]
    }
   ],
   "source": [
    "%timeit genetic(10)"
   ]
  },
  {
   "cell_type": "markdown",
   "metadata": {},
   "source": [
    "\n---\n\n**Avertissement** :  \nCe document a été traduit à l'aide du service de traduction automatique [Co-op Translator](https://github.com/Azure/co-op-translator). Bien que nous nous efforcions d'assurer l'exactitude, veuillez noter que les traductions automatisées peuvent contenir des erreurs ou des inexactitudes. Le document original dans sa langue d'origine doit être considéré comme la source faisant autorité. Pour des informations critiques, il est recommandé de faire appel à une traduction humaine professionnelle. Nous déclinons toute responsabilité en cas de malentendus ou d'interprétations erronées résultant de l'utilisation de cette traduction.\n"
   ]
  }
 ],
 "metadata": {
  "interpreter": {
   "hash": "86193a1ab0ba47eac1c69c1756090baa3b420b3eea7d4aafab8b85f8b312f0c5"
  },
  "kernelspec": {
   "display_name": "Python 3.6",
   "language": "python",
   "name": "python3"
  },
  "language_info": {
   "codemirror_mode": {
    "name": "ipython",
    "version": 3
   },
   "file_extension": ".py",
   "mimetype": "text/x-python",
   "name": "python",
   "nbconvert_exporter": "python",
   "pygments_lexer": "ipython3",
   "version": "3.9.5"
  },
  "coopTranslator": {
   "original_hash": "1012c117808753433f6e2696e775ff4b",
   "translation_date": "2025-08-31T14:23:00+00:00",
   "source_file": "lessons/6-Other/21-GeneticAlgorithms/Genetic.ipynb",
   "language_code": "fr"
  }
 },
 "nbformat": 4,
 "nbformat_minor": 2
}