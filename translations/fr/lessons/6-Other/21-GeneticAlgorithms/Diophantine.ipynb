{
 "cells": [
  {
   "cell_type": "markdown",
   "metadata": {},
   "source": [
    "## Devoir : Équations diophantiennes\n",
    "\n",
    "> Ce devoir fait partie du [programme AI for Beginners](http://github.com/microsoft/ai-for-beginners) et s'inspire de [cet article](https://habr.com/post/128704/).\n",
    "\n",
    "Votre objectif est de résoudre une **équation diophantienne** - une équation avec des racines entières et des coefficients entiers. Par exemple, considérez l'équation suivante :\n",
    "\n",
    "$$a+2b+3c+4d=30$$\n",
    "\n",
    "Vous devez trouver des racines entières $a$,$b$,$c$,$d\\in\\mathbb{N}$ qui satisfont cette équation.\n",
    "\n",
    "Conseils :\n",
    "1. Vous pouvez considérer que les racines se situent dans l'intervalle [0;30].\n",
    "1. Comme un gène, envisagez d'utiliser la liste des valeurs des racines.\n"
   ]
  },
  {
   "cell_type": "markdown",
   "metadata": {},
   "source": []
  },
  {
   "cell_type": "markdown",
   "metadata": {},
   "source": [
    "\n---\n\n**Avertissement** :  \nCe document a été traduit à l'aide du service de traduction automatique [Co-op Translator](https://github.com/Azure/co-op-translator). Bien que nous nous efforcions d'assurer l'exactitude, veuillez noter que les traductions automatisées peuvent contenir des erreurs ou des inexactitudes. Le document original dans sa langue d'origine doit être considéré comme la source faisant autorité. Pour des informations critiques, il est recommandé de recourir à une traduction professionnelle réalisée par un humain. Nous déclinons toute responsabilité en cas de malentendus ou d'interprétations erronées résultant de l'utilisation de cette traduction.\n"
   ]
  }
 ],
 "metadata": {
  "language_info": {
   "name": "python"
  },
  "orig_nbformat": 4,
  "coopTranslator": {
   "original_hash": "a967e1fa1e11ab2b6467b19349a4a9aa",
   "translation_date": "2025-08-31T14:22:06+00:00",
   "source_file": "lessons/6-Other/21-GeneticAlgorithms/Diophantine.ipynb",
   "language_code": "fr"
  }
 },
 "nbformat": 4,
 "nbformat_minor": 2
}