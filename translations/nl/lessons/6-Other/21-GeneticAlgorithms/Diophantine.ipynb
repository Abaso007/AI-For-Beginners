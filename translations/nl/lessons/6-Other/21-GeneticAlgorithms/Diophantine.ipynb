{
 "cells": [
  {
   "cell_type": "markdown",
   "metadata": {},
   "source": [
    "## Opdracht: Diophantische Vergelijkingen\n",
    "\n",
    "> Deze opdracht maakt deel uit van het [AI for Beginners Curriculum](http://github.com/microsoft/ai-for-beginners) en is geïnspireerd door [dit artikel](https://habr.com/post/128704/).\n",
    "\n",
    "Je doel is om de zogenaamde **Diophantische vergelijking** op te lossen - een vergelijking met gehele wortels en gehele coëfficiënten. Overweeg bijvoorbeeld de volgende vergelijking:\n",
    "\n",
    "$$a+2b+3c+4d=30$$\n",
    "\n",
    "Je moet gehele wortels $a$,$b$,$c$,$d\\in\\mathbb{N}$ vinden die aan deze vergelijking voldoen.\n",
    "\n",
    "Hints:\n",
    "1. Je kunt de wortels beschouwen binnen het interval [0;30].\n",
    "1. Als een gen kun je overwegen de lijst met wortelwaarden te gebruiken.\n"
   ]
  },
  {
   "cell_type": "markdown",
   "metadata": {},
   "source": []
  },
  {
   "cell_type": "markdown",
   "metadata": {},
   "source": [
    "\n---\n\n**Disclaimer**:  \nDit document is vertaald met behulp van de AI-vertalingsservice [Co-op Translator](https://github.com/Azure/co-op-translator). Hoewel we streven naar nauwkeurigheid, dient u zich ervan bewust te zijn dat geautomatiseerde vertalingen fouten of onnauwkeurigheden kunnen bevatten. Het originele document in zijn oorspronkelijke taal moet worden beschouwd als de gezaghebbende bron. Voor cruciale informatie wordt professionele menselijke vertaling aanbevolen. Wij zijn niet aansprakelijk voor eventuele misverstanden of verkeerde interpretaties die voortvloeien uit het gebruik van deze vertaling.\n"
   ]
  }
 ],
 "metadata": {
  "language_info": {
   "name": "python"
  },
  "orig_nbformat": 4,
  "coopTranslator": {
   "original_hash": "a967e1fa1e11ab2b6467b19349a4a9aa",
   "translation_date": "2025-08-28T20:14:40+00:00",
   "source_file": "lessons/6-Other/21-GeneticAlgorithms/Diophantine.ipynb",
   "language_code": "nl"
  }
 },
 "nbformat": 4,
 "nbformat_minor": 2
}