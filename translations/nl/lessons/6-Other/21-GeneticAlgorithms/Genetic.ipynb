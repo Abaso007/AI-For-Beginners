{
 "cells": [
  {
   "cell_type": "markdown",
   "metadata": {
    "collapsed": true
   },
   "source": [
    "# Genetische Algoritmen\n",
    "\n",
    "Dit notitieboek maakt deel uit van [AI for Beginners Curriculum](http://github.com/microsoft/ai-for-beginners).\n"
   ]
  },
  {
   "cell_type": "code",
   "execution_count": 2,
   "metadata": {
    "trusted": true
   },
   "outputs": [],
   "source": [
    "import random\n",
    "import matplotlib.pyplot as plt\n",
    "import numpy as np\n",
    "import math\n",
    "import time"
   ]
  },
  {
   "cell_type": "markdown",
   "metadata": {},
   "source": [
    "## Enige Theorie\n",
    "\n",
    "**Genetische algoritmen** (GA) zijn gebaseerd op een **evolutionaire benadering** van AI, waarbij methoden van populatie-evolutie worden gebruikt om een optimale oplossing voor een gegeven probleem te vinden. Ze werden voorgesteld in 1975 door [John Henry Holland](https://en.wikipedia.org/wiki/John_Henry_Holland).\n",
    "\n",
    "Genetische algoritmen zijn gebaseerd op de volgende ideeën:\n",
    "* Geldige oplossingen voor het probleem kunnen worden weergegeven als **genen**.\n",
    "* **Crossover** stelt ons in staat om twee oplossingen te combineren om een nieuwe geldige oplossing te verkrijgen.\n",
    "* **Selectie** wordt gebruikt om meer optimale oplossingen te kiezen met behulp van een **fitnessfunctie**.\n",
    "* **Mutaties** worden geïntroduceerd om de optimalisatie te destabiliseren en ons uit het lokale minimum te halen.\n",
    "\n",
    "Als je een genetisch algoritme wilt implementeren, heb je het volgende nodig:\n",
    "\n",
    " * Een methode vinden om onze probleemoplossingen te coderen met behulp van **genen** $g\\in\\Gamma$.\n",
    " * Op de set genen $\\Gamma$ moeten we een **fitnessfunctie** definiëren $\\mathrm{fit}: \\Gamma\\to\\mathbb{R}$. Kleinere functiewaarden komen overeen met betere oplossingen.\n",
    " * Een **crossover**-mechanisme definiëren om twee genen samen te voegen en een nieuwe geldige oplossing te verkrijgen $\\mathrm{crossover}: \\Gamma^2\\to\\Gamma$.\n",
    " * Een **mutatie**-mechanisme definiëren $\\mathrm{mutate}: \\Gamma\\to\\Gamma$.\n",
    "In veel gevallen zijn crossover en mutatie vrij eenvoudige algoritmen om genen te manipuleren als numerieke reeksen of bitvectoren.\n",
    "\n",
    "De specifieke implementatie van een genetisch algoritme kan variëren van geval tot geval, maar de algemene structuur is als volgt:\n",
    "\n",
    "1. Selecteer een initiële populatie $G\\subset\\Gamma$.\n",
    "2. Selecteer willekeurig een van de operaties die in deze stap zullen worden uitgevoerd: crossover of mutatie.\n",
    "3. **Crossover**:\n",
    "  * Selecteer willekeurig twee genen $g_1, g_2 \\in G$.\n",
    "  * Bereken de crossover $g=\\mathrm{crossover}(g_1,g_2)$.\n",
    "  * Als $\\mathrm{fit}(g)<\\mathrm{fit}(g_1)$ of $\\mathrm{fit}(g)<\\mathrm{fit}(g_2)$ - vervang het overeenkomstige gen in de populatie door $g$.\n",
    "4. **Mutatie** - selecteer een willekeurig gen $g\\in G$ en vervang het door $\\mathrm{mutate}(g)$.\n",
    "5. Herhaal vanaf stap 2, totdat we een voldoende kleine waarde van $\\mathrm{fit}$ hebben bereikt, of totdat de limiet op het aantal stappen is bereikt.\n",
    "\n",
    "Taken die typisch worden opgelost door GA:\n",
    "1. Optimalisatie van planningen\n",
    "1. Optimaal inpakken\n",
    "1. Optimaal snijden\n",
    "1. Versnellen van uitputtend zoeken\n"
   ]
  },
  {
   "cell_type": "markdown",
   "metadata": {},
   "source": [
    "## Probleem 1: Eerlijke Verdeling van de Schat\n",
    "\n",
    "**Opdracht**:  \n",
    "Twee mensen hebben een schat gevonden die diamanten van verschillende groottes bevat (en, dienovereenkomstig, verschillende prijzen). Ze moeten de schat verdelen in twee delen op zo'n manier dat het verschil in prijs 0 is (of minimaal).\n",
    "\n",
    "**Formele definitie**:  \n",
    "We hebben een verzameling getallen $S$. We moeten deze verdelen in twee deelverzamelingen $S_1$ en $S_2$, zodat $$\\left|\\sum_{i\\in S_1}i - \\sum_{j\\in S_2}j\\right|\\to\\min$$ en $S_1\\cup S_2=S$, $S_1\\cap S_2=\\emptyset$.\n",
    "\n",
    "Laten we eerst de verzameling $S$ definiëren:\n"
   ]
  },
  {
   "cell_type": "code",
   "execution_count": 3,
   "metadata": {
    "trusted": true
   },
   "outputs": [
    {
     "name": "stdout",
     "output_type": "stream",
     "text": [
      "[8344 2197 9335 3131 5863 9429 3818 9791   15 5455 1396 9538 4872 6549\n",
      " 8587 5986 6021 9764 8102 5083 5739 7684 8498 3007 6599  820 7490 2372\n",
      " 9370 5235 3525 3154  859 1906 8159 3950 2173 2988 2050  349 8713 2284\n",
      " 4177 6033 1651 9176 5049 8201  171 5081 1216 3756 4711 2757 7738 1272\n",
      " 5650 6584 5395 9004 7797  969 8104 1283 1392 4001 5768  445  274  256\n",
      " 8239 8015 4381 9021 1189 8879 1411 3539 6526 8011  136 7230 2332  451\n",
      " 5702 2989 4320 2446 9578 8486 4027 2410 9588 8981 2177 1493 3232 9151\n",
      " 4835 5594 6859 8394  369 3200  126 4259 2283 7755 2014 2458 8327 8082\n",
      " 7413 7622 1206 5533 8751 3495 5868 8472 6850 3958 3149 4672 4810 6274\n",
      " 4700 6134 4627 4616 6656 9949  884 2256 7419 1926 7973 5319 5967 9158\n",
      " 3823 7697 9466 5675 5412 9784 5426 8209 3421 1136 6047 4429 8001 4417\n",
      " 1381  722 7350 6018 6235 7860 5853 7660 5937 6242    1 9552 3971 8302\n",
      " 2633 9227 7283  154 8599 4269 9392 8539 1630  368 2409 9351 3838 9814\n",
      " 6186 5743 5083 1325 1610  779 3643 3262 5768 8725  961 4611 6310 4788\n",
      " 1648 5951 8118 7779]\n"
     ]
    }
   ],
   "source": [
    "N = 200\n",
    "S = np.array([random.randint(1,10000) for _ in range(N)])\n",
    "print(S)"
   ]
  },
  {
   "cell_type": "markdown",
   "metadata": {},
   "source": [
    "Laten we elke mogelijke oplossing van het probleem coderen met een binaire vector $B\\in\\{0,1\\}^N$, waarbij het getal op de $i$-de positie aangeeft tot welke van de verzamelingen ($S_1$ of $S_2$) het $i$-de getal in de oorspronkelijke verzameling $S$ behoort. De functie `generate` zal die willekeurige binaire vectoren genereren.\n"
   ]
  },
  {
   "cell_type": "code",
   "execution_count": 5,
   "metadata": {
    "trusted": true
   },
   "outputs": [
    {
     "name": "stdout",
     "output_type": "stream",
     "text": [
      "[1 0 0 1 1 1 1 1 0 1 1 1 0 0 1 0 1 1 1 0 0 1 1 0 1 1 0 0 1 0 1 0 1 0 1 1 1\n",
      " 0 1 1 1 0 1 0 0 1 0 0 1 1 0 1 0 1 1 0 0 1 0 0 0 1 1 0 1 1 0 0 0 0 1 0 1 0\n",
      " 1 0 0 0 0 0 1 1 0 1 0 0 1 0 1 0 0 1 1 0 0 1 1 1 0 0 1 1 0 1 1 0 0 0 0 1 1\n",
      " 1 0 1 0 0 1 1 1 1 1 1 1 1 0 1 0 1 1 1 1 1 1 0 1 0 1 0 1 0 0 1 1 1 0 0 1 1\n",
      " 0 1 1 0 1 1 0 0 0 1 1 0 0 0 0 0 0 0 0 1 1 0 1 1 1 0 0 1 1 0 1 1 0 0 1 1 0\n",
      " 0 0 0 1 0 1 1 0 1 1 0 1 0 0 0]\n"
     ]
    }
   ],
   "source": [
    "def generate(S):\n",
    "    return np.array([random.randint(0,1) for _ in S])\n",
    "\n",
    "b = generate(S)\n",
    "print(b)"
   ]
  },
  {
   "cell_type": "markdown",
   "metadata": {},
   "source": [
    "Laten we nu de functie `fit` definiëren die de \"kosten\" van de oplossing berekent. Het zal het verschil zijn tussen de som van twee sets, $S_1$ en $S_2$:\n"
   ]
  },
  {
   "cell_type": "code",
   "execution_count": 6,
   "metadata": {
    "trusted": true
   },
   "outputs": [
    {
     "data": {
      "text/plain": [
       "133784"
      ]
     },
     "execution_count": 6,
     "metadata": {},
     "output_type": "execute_result"
    }
   ],
   "source": [
    "def fit(B,S=S):\n",
    "    c1 = (B*S).sum()\n",
    "    c2 = ((1-B)*S).sum()\n",
    "    return abs(c1-c2)\n",
    "\n",
    "fit(b)"
   ]
  },
  {
   "cell_type": "markdown",
   "metadata": {},
   "source": [
    "Nu moeten we functies definiëren voor mutatie en crossover:\n",
    "* Voor mutatie selecteren we één willekeurige bit en veranderen deze (van 0 naar 1 en omgekeerd).\n",
    "* Voor crossover nemen we enkele bits van de ene vector en enkele bits van een andere. We gebruiken dezelfde `generate`-functie om willekeurig te bepalen welke bits we uit welke van de invoermaskers nemen.\n"
   ]
  },
  {
   "cell_type": "code",
   "execution_count": 7,
   "metadata": {
    "trusted": true
   },
   "outputs": [],
   "source": [
    "def mutate(b):\n",
    "    x = b.copy()\n",
    "    i = random.randint(0,len(b)-1)\n",
    "    x[i] = 1-x[i]\n",
    "    return x\n",
    "\n",
    "def xover(b1,b2):\n",
    "    x = generate(b1)\n",
    "    return b1*x+b2*(1-x)"
   ]
  },
  {
   "cell_type": "markdown",
   "metadata": {},
   "source": [
    "Laten we een initiële populatie van de oplossingen $P$ creëren van de grootte `pop_size`:\n"
   ]
  },
  {
   "cell_type": "code",
   "execution_count": 8,
   "metadata": {
    "trusted": true
   },
   "outputs": [],
   "source": [
    "pop_size = 30\n",
    "P = [generate(S) for _ in range(pop_size)]"
   ]
  },
  {
   "cell_type": "markdown",
   "metadata": {},
   "source": [
    "Nu, de hoofdfunctie om de evolutie uit te voeren. `n` is het aantal evolutiestappen dat moet worden doorlopen. Bij elke stap:\n",
    "* Met een kans van 30% voeren we een mutatie uit en vervangen we het element met de slechtste `fit`-functie door het gemuteerde element\n",
    "* Met een kans van 70% voeren we een crossover uit\n",
    "\n",
    "De functie retourneert de beste oplossing (gen dat overeenkomt met de beste oplossing) en de geschiedenis van de minimale fit-functie in de populatie bij elke iteratie.\n"
   ]
  },
  {
   "cell_type": "code",
   "execution_count": 9,
   "metadata": {
    "trusted": true
   },
   "outputs": [
    {
     "name": "stdout",
     "output_type": "stream",
     "text": [
      "[0 0 0 1 1 0 0 0 0 1 1 1 0 1 0 0 0 1 0 1 0 1 0 1 0 1 1 0 0 0 0 0 1 0 1 1 0\n",
      " 0 0 0 1 1 0 0 1 0 0 0 0 0 1 0 0 1 1 1 1 1 1 1 0 1 1 0 1 1 1 1 1 0 1 0 0 0\n",
      " 0 1 1 1 0 1 0 1 1 1 1 1 0 0 0 1 1 0 1 0 0 1 0 0 1 1 1 1 1 1 1 1 0 1 0 1 1\n",
      " 0 1 1 0 0 0 0 1 1 1 1 0 1 0 0 1 0 1 1 1 0 1 0 0 0 0 0 0 1 1 0 0 0 1 1 0 0\n",
      " 1 0 1 1 1 1 1 0 1 0 1 0 1 1 1 0 0 0 1 1 0 0 0 0 0 0 1 1 1 0 1 0 0 0 1 0 1\n",
      " 0 1 0 1 0 0 1 1 1 0 1 1 0 0 1] 4\n"
     ]
    }
   ],
   "source": [
    "def evolve(P,S=S,n=2000):\n",
    "    res = []\n",
    "    for _ in range(n):\n",
    "        f = min([fit(b) for b in P])\n",
    "        res.append(f)\n",
    "        if f==0:\n",
    "            break\n",
    "        if random.randint(1,10)<3:\n",
    "            i = random.randint(0,len(P)-1)\n",
    "            b = mutate(P[i])\n",
    "            i = np.argmax([fit(z) for z in P])\n",
    "            P[i] = b\n",
    "        else:\n",
    "            i = random.randint(0,len(P)-1)\n",
    "            j = random.randint(0,len(P)-1)\n",
    "            b = xover(P[i],P[j])\n",
    "            if fit(b)<fit(P[i]):\n",
    "                P[i]=b\n",
    "            elif fit(b)<fit(P[j]):\n",
    "                P[j]=b\n",
    "            else:\n",
    "                pass\n",
    "    i = np.argmin([fit(b) for b in P])\n",
    "    return (P[i],res)\n",
    "\n",
    "(s,hist) = evolve(P)\n",
    "print(s,fit(s))"
   ]
  },
  {
   "cell_type": "markdown",
   "metadata": {},
   "source": [
    "Je kunt zien dat we erin geslaagd zijn om de `fit`-functie behoorlijk te minimaliseren! Hier is de grafiek die laat zien hoe de `fit`-functie voor de hele populatie zich gedraagt tijdens het proces.\n"
   ]
  },
  {
   "cell_type": "code",
   "execution_count": 10,
   "metadata": {
    "trusted": true
   },
   "outputs": [
    {
     "data": {
      "image/png": "[encoded data removed]",
      "text/plain": [
       "<Figure size 432x288 with 1 Axes>"
      ]
     },
     "metadata": {
      "needs_background": "light"
     },
     "output_type": "display_data"
    }
   ],
   "source": [
    "plt.plot(hist)\n",
    "plt.show()"
   ]
  },
  {
   "cell_type": "markdown",
   "metadata": {},
   "source": [
    "## Probleem 2: N-Damesprobleem\n",
    "\n",
    "**Opdracht**:  \n",
    "Je moet $N$ dames plaatsen op een schaakbord van de grootte $N\\times N$ op zo'n manier dat ze elkaar niet aanvallen.\n",
    "\n",
    "Laten we eerst het probleem oplossen zonder genetische algoritmen, door middel van volledige zoekruimte. We kunnen de toestand van het bord representeren door de lijst $L$, waarbij het $i$-de getal in de lijst de horizontale positie van de dame in de $i$-de rij is. Het is vrij duidelijk dat elke oplossing slechts één dame per rij zal hebben, en elke rij een dame zal bevatten.\n",
    "\n",
    "Ons doel is om de eerste oplossing voor het probleem te vinden, waarna we stoppen met zoeken. Je kunt deze functie eenvoudig uitbreiden om alle mogelijke posities voor de dames te genereren.\n"
   ]
  },
  {
   "cell_type": "code",
   "execution_count": 11,
   "metadata": {
    "trusted": true
   },
   "outputs": [
    {
     "name": "stdout",
     "output_type": "stream",
     "text": [
      "[1, 5, 8, 6, 3, 7, 2, 4]\n"
     ]
    },
    {
     "data": {
      "text/plain": [
       "True"
      ]
     },
     "execution_count": 11,
     "metadata": {},
     "output_type": "execute_result"
    }
   ],
   "source": [
    "N = 8\n",
    "\n",
    "def checkbeats(i_new,j_new,l):\n",
    "    for i,j in enumerate(l,start=1):\n",
    "        if j==j_new:\n",
    "            return False\n",
    "        else:\n",
    "            if abs(j-j_new) == i_new-i:\n",
    "                return False\n",
    "    return True\n",
    "\n",
    "def nqueens(l,N=8,disp=True):\n",
    "    if len(l)==N:\n",
    "        if disp: print(l)\n",
    "        return True\n",
    "    else:\n",
    "        for j in range(1,N+1):\n",
    "            if checkbeats(len(l)+1,j,l):\n",
    "                l.append(j)\n",
    "                if nqueens(l,N,disp): return True\n",
    "                else: l.pop()\n",
    "        return False\n",
    "            \n",
    "nqueens([],8)\n"
   ]
  },
  {
   "cell_type": "markdown",
   "metadata": {},
   "source": [
    "Laten we nu meten hoe lang het duurt om een oplossing te vinden voor het 20-damesprobleem:\n"
   ]
  },
  {
   "cell_type": "code",
   "execution_count": 12,
   "metadata": {
    "trusted": true
   },
   "outputs": [
    {
     "name": "stdout",
     "output_type": "stream",
     "text": [
      "10.6 s ± 2.17 s per loop (mean ± std. dev. of 7 runs, 1 loop each)\n"
     ]
    }
   ],
   "source": [
    "%timeit nqueens([],20,False)"
   ]
  },
  {
   "cell_type": "markdown",
   "metadata": {},
   "source": [
    "Laten we hetzelfde probleem oplossen met behulp van een genetisch algoritme. Deze oplossing is geïnspireerd door [deze blogpost](https://kushalvyas.github.io/gen_8Q.html).\n",
    "\n",
    "We zullen elke oplossing representeren door dezelfde lijst van lengte $N$, en als een `fit`-functie nemen we het aantal dames dat elkaar aanvalt:\n"
   ]
  },
  {
   "cell_type": "code",
   "execution_count": 13,
   "metadata": {
    "trusted": true
   },
   "outputs": [],
   "source": [
    "def fit(L):\n",
    "    x=0\n",
    "    for i1,j1 in enumerate(L,1):\n",
    "        for i2,j2 in enumerate(L,1):\n",
    "            if i2>i1:\n",
    "                if j2==j1 or (abs(j2-j1)==i2-i1): x+=1\n",
    "    return x"
   ]
  },
  {
   "cell_type": "markdown",
   "metadata": {},
   "source": [
    "Aangezien het berekenen van de fitnessfunctie tijdrovend is, laten we elke oplossing in de populatie opslaan samen met de waarde van de fitnessfunctie. Laten we de initiële populatie genereren:\n"
   ]
  },
  {
   "cell_type": "code",
   "execution_count": 14,
   "metadata": {
    "trusted": true
   },
   "outputs": [
    {
     "data": {
      "text/plain": [
       "[(array([2, 3, 8, 7, 5, 4, 1, 6]), 4),\n",
       " (array([3, 4, 5, 1, 2, 8, 6, 7]), 8),\n",
       " (array([1, 3, 7, 4, 5, 8, 6, 2]), 6),\n",
       " (array([1, 5, 4, 6, 8, 3, 7, 2]), 4),\n",
       " (array([3, 5, 7, 1, 8, 6, 4, 2]), 3)]"
      ]
     },
     "execution_count": 14,
     "metadata": {},
     "output_type": "execute_result"
    }
   ],
   "source": [
    "def generate_one(N):\n",
    "    x = np.arange(1,N+1)\n",
    "    np.random.shuffle(x)\n",
    "    return (x,fit(x))\n",
    "\n",
    "def generate(N,NP):\n",
    "    return [generate_one(N) for _ in range(NP)]\n",
    "\n",
    "generate(8,5)"
   ]
  },
  {
   "cell_type": "markdown",
   "metadata": {},
   "source": [
    "Nu moeten we mutatie- en crossoverfuncties definiëren. Crossover zou twee genen samenvoegen door ze op een willekeurig punt te splitsen en twee delen van verschillende genen samen te voegen.\n"
   ]
  },
  {
   "cell_type": "code",
   "execution_count": 15,
   "metadata": {
    "trusted": true
   },
   "outputs": [
    {
     "data": {
      "text/plain": [
       "array([1, 2, 7, 8])"
      ]
     },
     "execution_count": 15,
     "metadata": {},
     "output_type": "execute_result"
    }
   ],
   "source": [
    "def mutate(G):\n",
    "    x=random.randint(0,len(G)-1)\n",
    "    G[x]=random.randint(1,len(G))\n",
    "    return G\n",
    "    \n",
    "def xover(G1,G2):\n",
    "    x=random.randint(0,len(G1))\n",
    "    return np.concatenate((G1[:x],G2[x:]))\n",
    "\n",
    "xover([1,2,3,4],[5,6,7,8])"
   ]
  },
  {
   "cell_type": "markdown",
   "metadata": {},
   "source": []
  },
  {
   "cell_type": "code",
   "execution_count": 17,
   "metadata": {
    "trusted": true
   },
   "outputs": [],
   "source": [
    "def choose_rand(P):\n",
    "    N=len(P[0][0])\n",
    "    mf = N*(N-1)//2 # max fitness fn\n",
    "    z = [mf-x[1] for x in P]\n",
    "    tf = sum(z) # total fitness\n",
    "    w = [x/tf for x in z]\n",
    "    p = np.random.choice(len(P),2,False,p=w)\n",
    "    return p[0],p[1]\n",
    "\n",
    "def choose(P):\n",
    "    def ch(w):\n",
    "        p=[]\n",
    "        while p==[]:\n",
    "            r = random.random()\n",
    "            p = [i for i,x in enumerate(P) if x[1]>=r]\n",
    "        return random.choice(p)\n",
    "    N=len(P[0][0])\n",
    "    mf = N*(N-1)//2 # max fitness fn\n",
    "    z = [mf-x[1] for x in P]\n",
    "    tf = sum(z) # total fitness\n",
    "    w = [x/tf for x in z]\n",
    "    p1=p2=0\n",
    "    while p1==p2:\n",
    "        p1 = ch(w)\n",
    "        p2 = ch(w)\n",
    "    return p1,p2"
   ]
  },
  {
   "cell_type": "markdown",
   "metadata": {},
   "source": [
    "Laten we de belangrijkste evolutionaire cyclus definiëren. We maken de logica iets anders dan in het vorige voorbeeld, om te laten zien dat je creatief kunt zijn. We blijven herhalen totdat we de perfecte oplossing hebben gevonden (fitnessfunctie=0), en bij elke stap nemen we de huidige generatie en produceren we een nieuwe generatie van dezelfde grootte. Dit wordt gedaan met de functie `nxgeneration`, volgens de volgende stappen:\n",
    "\n",
    "1. Verwijder de minst geschikte oplossingen - er is een functie `discard_unfit` die dit doet\n",
    "1. Voeg enkele willekeurige oplossingen toe aan de generatie\n",
    "1. Vul een nieuwe generatie van grootte `gen_size` aan door de volgende stappen uit te voeren voor elk nieuw gen:\n",
    "    - selecteer twee willekeurige genen, met een kans die evenredig is aan de fitnessfunctie\n",
    "    - bereken een crossover\n",
    "    - pas een mutatie toe met de kans `mutation_prob`\n"
   ]
  },
  {
   "cell_type": "code",
   "execution_count": 20,
   "metadata": {
    "trusted": true
   },
   "outputs": [
    {
     "data": {
      "text/plain": [
       "(array([4, 7, 5, 3, 1, 6, 8, 2]), 0)"
      ]
     },
     "execution_count": 20,
     "metadata": {},
     "output_type": "execute_result"
    }
   ],
   "source": [
    "mutation_prob = 0.1\n",
    "\n",
    "def discard_unfit(P):\n",
    "    P.sort(key=lambda x:x[1])\n",
    "    return P[:len(P)//3]\n",
    "\n",
    "def nxgeneration(P):\n",
    "    gen_size=len(P)\n",
    "    P = discard_unfit(P)\n",
    "    P.extend(generate(len(P[0][0]),3))\n",
    "    new_gen = []\n",
    "    for _ in range(gen_size):\n",
    "        p1,p2 = choose_rand(P)\n",
    "        n = xover(P[p1][0],P[p2][0])\n",
    "        if random.random()<mutation_prob:\n",
    "            n=mutate(n)\n",
    "        nf = fit(n)\n",
    "        new_gen.append((n,nf))\n",
    "        '''\n",
    "        if (nf<=P[p1][1]) or (nf<=P[p2][1]):\n",
    "            new_gen.append((n,nf))\n",
    "        elif (P[p1][1]<P[p2][1]):\n",
    "            new_gen.append(P[p1])\n",
    "        else:\n",
    "            new_gen.append(P[p2])\n",
    "        '''\n",
    "    return new_gen\n",
    "    \n",
    "def genetic(N,pop_size=100):\n",
    "    P = generate(N,pop_size)\n",
    "    mf = min([x[1] for x in P])\n",
    "    n=0\n",
    "    while mf>0:\n",
    "        #print(\"Generation {0}, fit={1}\".format(n,mf))\n",
    "        n+=1\n",
    "        mf = min([x[1] for x in P])\n",
    "        P = nxgeneration(P)\n",
    "    mi = np.argmin([x[1] for x in P])\n",
    "    return P[mi]\n",
    "\n",
    "genetic(8)"
   ]
  },
  {
   "cell_type": "markdown",
   "metadata": {},
   "source": [
    "Het is interessant dat we meestal vrij snel een oplossing kunnen vinden, maar in enkele zeldzame gevallen bereikt optimalisatie een lokaal minimum en zit het proces lange tijd vast. Het is belangrijk om dat in overweging te nemen wanneer je de gemiddelde tijd meet: terwijl in de meeste gevallen het genetisch algoritme sneller zal zijn dan een volledige zoekopdracht, kan het in sommige gevallen langer duren. Om dit probleem te overwinnen, is het vaak zinvol om het aantal generaties dat in aanmerking wordt genomen te beperken, en als we niet in staat zijn de oplossing te vinden - kunnen we opnieuw beginnen.\n"
   ]
  },
  {
   "cell_type": "code",
   "execution_count": 19,
   "metadata": {
    "trusted": true
   },
   "outputs": [
    {
     "name": "stdout",
     "output_type": "stream",
     "text": [
      "The slowest run took 18.71 times longer than the fastest. This could mean that an intermediate result is being cached.\n",
      "26.4 s ± 28.7 s per loop (mean ± std. dev. of 7 runs, 1 loop each)\n"
     ]
    }
   ],
   "source": [
    "%timeit genetic(10)"
   ]
  },
  {
   "cell_type": "markdown",
   "metadata": {},
   "source": [
    "\n---\n\n**Disclaimer**:  \nDit document is vertaald met behulp van de AI-vertalingsservice [Co-op Translator](https://github.com/Azure/co-op-translator). Hoewel we streven naar nauwkeurigheid, dient u zich ervan bewust te zijn dat geautomatiseerde vertalingen fouten of onnauwkeurigheden kunnen bevatten. Het originele document in zijn oorspronkelijke taal moet worden beschouwd als de gezaghebbende bron. Voor cruciale informatie wordt professionele menselijke vertaling aanbevolen. Wij zijn niet aansprakelijk voor eventuele misverstanden of verkeerde interpretaties die voortvloeien uit het gebruik van deze vertaling.\n"
   ]
  }
 ],
 "metadata": {
  "interpreter": {
   "hash": "86193a1ab0ba47eac1c69c1756090baa3b420b3eea7d4aafab8b85f8b312f0c5"
  },
  "kernelspec": {
   "display_name": "Python 3.6",
   "language": "python",
   "name": "python3"
  },
  "language_info": {
   "codemirror_mode": {
    "name": "ipython",
    "version": 3
   },
   "file_extension": ".py",
   "mimetype": "text/x-python",
   "name": "python",
   "nbconvert_exporter": "python",
   "pygments_lexer": "ipython3",
   "version": "3.9.5"
  },
  "coopTranslator": {
   "original_hash": "1012c117808753433f6e2696e775ff4b",
   "translation_date": "2025-08-28T20:16:27+00:00",
   "source_file": "lessons/6-Other/21-GeneticAlgorithms/Genetic.ipynb",
   "language_code": "nl"
  }
 },
 "nbformat": 4,
 "nbformat_minor": 2
}