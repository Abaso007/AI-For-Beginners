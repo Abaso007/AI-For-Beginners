{
 "cells": [
  {
   "cell_type": "markdown",
   "metadata": {},
   "source": [
    "## Detectie van handpalmbewegingen met behulp van Optical Flow\n",
    "\n",
    "Deze lab maakt deel uit van het [AI for Beginners Curriculum](http://aka.ms/ai-beginners).\n",
    "\n",
    "Bekijk [deze video](../../../../../../lessons/4-ComputerVision/06-IntroCV/lab/palm-movement.mp4), waarin de handpalm van een persoon naar links/rechts/omhoog/omlaag beweegt tegen een stabiele achtergrond.\n",
    "\n",
    "**Je doel** is om Optical Flow te gebruiken om te bepalen welke delen van de video bewegingen omhoog/omlaag/links/rechts bevatten.\n",
    "\n",
    "Begin met het verkrijgen van videoframes zoals beschreven in de les:\n"
   ]
  },
  {
   "cell_type": "code",
   "execution_count": null,
   "metadata": {},
   "outputs": [],
   "source": [
    "# Code here"
   ]
  },
  {
   "cell_type": "markdown",
   "metadata": {},
   "source": [
    "Bereken nu dichte optische stroomframes zoals beschreven in de lezing, en converteer dichte optische stroom naar polaire coördinaten:\n"
   ]
  },
  {
   "cell_type": "code",
   "execution_count": null,
   "metadata": {},
   "outputs": [],
   "source": [
    "# Code here"
   ]
  },
  {
   "cell_type": "markdown",
   "metadata": {},
   "source": [
    "Bouw een histogram van richtingen voor elk optische stroomframe. Een histogram laat zien hoeveel vectoren binnen een bepaalde bin vallen en moet de verschillende bewegingsrichtingen op het frame onderscheiden.\n",
    "\n",
    "> Je kunt ook overwegen om alle vectoren met een grootte onder een bepaalde drempelwaarde op nul te zetten. Dit verwijdert kleine extra bewegingen in de video, zoals ogen en hoofd.\n",
    "\n",
    "Plot de histogrammen voor enkele van de frames.\n"
   ]
  },
  {
   "cell_type": "code",
   "execution_count": null,
   "metadata": {},
   "outputs": [],
   "source": [
    "# Code here"
   ]
  },
  {
   "cell_type": "markdown",
   "metadata": {},
   "source": [
    "Bij het bekijken van histogrammen zou het vrij eenvoudig moeten zijn om de bewegingsrichting te bepalen. Je moet die bins selecteren die overeenkomen met de richtingen omhoog/omlaag/links/rechts, en die boven een bepaalde drempel liggen.\n"
   ]
  },
  {
   "cell_type": "code",
   "execution_count": null,
   "metadata": {},
   "outputs": [],
   "source": [
    "# Code here"
   ]
  },
  {
   "cell_type": "markdown",
   "metadata": {},
   "source": [
    "Gefeliciteerd! Als je alle bovenstaande stappen hebt uitgevoerd, heb je het lab voltooid!\n"
   ]
  },
  {
   "cell_type": "markdown",
   "metadata": {},
   "source": [
    "\n---\n\n**Disclaimer**:  \nDit document is vertaald met behulp van de AI-vertalingsservice [Co-op Translator](https://github.com/Azure/co-op-translator). Hoewel we streven naar nauwkeurigheid, willen we u erop wijzen dat geautomatiseerde vertalingen fouten of onnauwkeurigheden kunnen bevatten. Het originele document in de oorspronkelijke taal moet worden beschouwd als de gezaghebbende bron. Voor kritieke informatie wordt professionele menselijke vertaling aanbevolen. Wij zijn niet aansprakelijk voor misverstanden of verkeerde interpretaties die voortvloeien uit het gebruik van deze vertaling.\n"
   ]
  }
 ],
 "metadata": {
  "language_info": {
   "name": "python"
  },
  "orig_nbformat": 4,
  "coopTranslator": {
   "original_hash": "153d9e417e079bf62f8f693002d0deaf",
   "translation_date": "2025-08-28T20:46:27+00:00",
   "source_file": "lessons/4-ComputerVision/06-IntroCV/lab/MovementDetection.ipynb",
   "language_code": "nl"
  }
 },
 "nbformat": 4,
 "nbformat_minor": 2
}