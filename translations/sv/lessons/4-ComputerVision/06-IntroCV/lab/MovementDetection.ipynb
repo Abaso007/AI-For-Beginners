{
 "cells": [
  {
   "cell_type": "markdown",
   "metadata": {},
   "source": [
    "## Upptäckt av handrörelser med optisk flöde\n",
    "\n",
    "Detta labb är en del av [AI för nybörjare-kursen](http://aka.ms/ai-beginners).\n",
    "\n",
    "Titta på [denna video](../../../../../../lessons/4-ComputerVision/06-IntroCV/lab/palm-movement.mp4), där en persons hand rör sig åt vänster/höger/upp/ner mot en stabil bakgrund.\n",
    "\n",
    "**Ditt mål** är att använda optisk flöde för att avgöra vilka delar av videon som innehåller rörelser upp/ner/vänster/höger.\n",
    "\n",
    "Börja med att hämta videoramar som beskrivs i föreläsningen:\n"
   ]
  },
  {
   "cell_type": "code",
   "execution_count": null,
   "metadata": {},
   "outputs": [],
   "source": [
    "# Code here"
   ]
  },
  {
   "cell_type": "markdown",
   "metadata": {},
   "source": [
    "Beräkna nu täta optiska flödesramar som beskrivs i föreläsningen, och konvertera tätt optiskt flöde till polära koordinater:\n"
   ]
  },
  {
   "cell_type": "code",
   "execution_count": null,
   "metadata": {},
   "outputs": [],
   "source": [
    "# Code here"
   ]
  },
  {
   "cell_type": "markdown",
   "metadata": {},
   "source": [
    "Bygg ett histogram över riktningar för varje optisk flödesram. Ett histogram visar hur många vektorer som hamnar i en viss kategori, och det bör separera olika rörelseriktningar på ramen.\n",
    "\n",
    "> Du kan också vilja nollställa alla vektorer vars storlek är under en viss tröskel. Detta tar bort små extra rörelser i videon, såsom ögon och huvud.\n",
    "\n",
    "Plotta histogrammen för några av ramarna.\n"
   ]
  },
  {
   "cell_type": "code",
   "execution_count": null,
   "metadata": {},
   "outputs": [],
   "source": [
    "# Code here"
   ]
  },
  {
   "cell_type": "markdown",
   "metadata": {},
   "source": [
    "Att titta på histogram bör göra det ganska enkelt att avgöra rörelseriktningen. Du behöver välja de staplar som motsvarar upp/ner/vänster/höger riktningar och som ligger över en viss tröskel.\n"
   ]
  },
  {
   "cell_type": "code",
   "execution_count": null,
   "metadata": {},
   "outputs": [],
   "source": [
    "# Code here"
   ]
  },
  {
   "cell_type": "markdown",
   "metadata": {},
   "source": [
    "Grattis! Om du har utfört alla steg ovan har du slutfört labben!\n"
   ]
  },
  {
   "cell_type": "markdown",
   "metadata": {},
   "source": [
    "\n---\n\n**Ansvarsfriskrivning**:  \nDetta dokument har översatts med hjälp av AI-översättningstjänsten [Co-op Translator](https://github.com/Azure/co-op-translator). Även om vi strävar efter noggrannhet, bör du vara medveten om att automatiserade översättningar kan innehålla fel eller inexaktheter. Det ursprungliga dokumentet på dess originalspråk bör betraktas som den auktoritativa källan. För kritisk information rekommenderas professionell mänsklig översättning. Vi ansvarar inte för eventuella missförstånd eller feltolkningar som uppstår vid användning av denna översättning.\n"
   ]
  }
 ],
 "metadata": {
  "language_info": {
   "name": "python"
  },
  "orig_nbformat": 4,
  "coopTranslator": {
   "original_hash": "153d9e417e079bf62f8f693002d0deaf",
   "translation_date": "2025-08-28T16:39:18+00:00",
   "source_file": "lessons/4-ComputerVision/06-IntroCV/lab/MovementDetection.ipynb",
   "language_code": "sv"
  }
 },
 "nbformat": 4,
 "nbformat_minor": 2
}