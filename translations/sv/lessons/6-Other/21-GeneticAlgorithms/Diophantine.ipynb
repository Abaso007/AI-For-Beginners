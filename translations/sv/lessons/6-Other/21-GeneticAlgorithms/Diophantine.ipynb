{
 "cells": [
  {
   "cell_type": "markdown",
   "metadata": {},
   "source": [
    "## Uppgift: Diofantiska ekvationer\n",
    "\n",
    "> Denna uppgift är en del av [AI för nybörjare-kursen](http://github.com/microsoft/ai-for-beginners) och är inspirerad av [detta inlägg](https://habr.com/post/128704/).\n",
    "\n",
    "Ditt mål är att lösa den så kallade **Diofantiska ekvationen** - en ekvation med heltalsrötter och heltalskoefficienter. Till exempel, överväg följande ekvation:\n",
    "\n",
    "$$a+2b+3c+4d=30$$\n",
    "\n",
    "Du behöver hitta heltalsrötter $a$,$b$,$c$,$d\\in\\mathbb{N}$ som uppfyller denna ekvation.\n",
    "\n",
    "Tips:\n",
    "1. Du kan betrakta rötterna som liggande i intervallet [0;30]\n",
    "1. Som en gen, överväg att använda listan med rotvärden\n"
   ]
  },
  {
   "cell_type": "markdown",
   "metadata": {},
   "source": []
  },
  {
   "cell_type": "markdown",
   "metadata": {},
   "source": [
    "\n---\n\n**Ansvarsfriskrivning**:  \nDetta dokument har översatts med hjälp av AI-översättningstjänsten [Co-op Translator](https://github.com/Azure/co-op-translator). Även om vi strävar efter noggrannhet, bör du vara medveten om att automatiserade översättningar kan innehålla fel eller inexaktheter. Det ursprungliga dokumentet på dess originalspråk bör betraktas som den auktoritativa källan. För kritisk information rekommenderas professionell mänsklig översättning. Vi ansvarar inte för eventuella missförstånd eller feltolkningar som uppstår vid användning av denna översättning.\n"
   ]
  }
 ],
 "metadata": {
  "language_info": {
   "name": "python"
  },
  "orig_nbformat": 4,
  "coopTranslator": {
   "original_hash": "a967e1fa1e11ab2b6467b19349a4a9aa",
   "translation_date": "2025-08-28T16:08:15+00:00",
   "source_file": "lessons/6-Other/21-GeneticAlgorithms/Diophantine.ipynb",
   "language_code": "sv"
  }
 },
 "nbformat": 4,
 "nbformat_minor": 2
}