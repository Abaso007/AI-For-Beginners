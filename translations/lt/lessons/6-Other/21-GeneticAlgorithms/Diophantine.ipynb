{
 "cells": [
  {
   "cell_type": "markdown",
   "metadata": {},
   "source": [
    "## Užduotis: Diofantinės lygtys\n",
    "\n",
    "> Ši užduotis yra dalis [AI pradedantiesiems mokymo programos](http://github.com/microsoft/ai-for-beginners) ir įkvėpta [šio įrašo](https://habr.com/post/128704/).\n",
    "\n",
    "Jūsų tikslas yra išspręsti vadinamąją **Diofantinę lygtį** – lygtį su sveikaisiais šaknimis ir sveikaisiais koeficientais. Pavyzdžiui, apsvarstykite šią lygtį:\n",
    "\n",
    "$$a+2b+3c+4d=30$$\n",
    "\n",
    "Jums reikia rasti sveikąsias šaknis $a$,$b$,$c$,$d\\in\\mathbb{N}$, kurios tenkina šią lygtį.\n",
    "\n",
    "Patarimai:\n",
    "1. Galite laikyti, kad šaknys yra intervale [0;30]\n",
    "1. Kaip geną, apsvarstykite šaknų reikšmių sąrašą\n"
   ]
  },
  {
   "cell_type": "markdown",
   "metadata": {},
   "source": []
  },
  {
   "cell_type": "markdown",
   "metadata": {},
   "source": [
    "\n---\n\n**Atsakomybės apribojimas**:  \nŠis dokumentas buvo išverstas naudojant AI vertimo paslaugą [Co-op Translator](https://github.com/Azure/co-op-translator). Nors siekiame tikslumo, prašome atkreipti dėmesį, kad automatiniai vertimai gali turėti klaidų ar netikslumų. Originalus dokumentas jo gimtąja kalba turėtų būti laikomas autoritetingu šaltiniu. Kritinei informacijai rekomenduojama profesionali žmogaus vertimo paslauga. Mes neprisiimame atsakomybės už nesusipratimus ar klaidingus aiškinimus, atsiradusius dėl šio vertimo naudojimo.\n"
   ]
  }
 ],
 "metadata": {
  "language_info": {
   "name": "python"
  },
  "orig_nbformat": 4,
  "coopTranslator": {
   "original_hash": "a967e1fa1e11ab2b6467b19349a4a9aa",
   "translation_date": "2025-08-31T12:25:44+00:00",
   "source_file": "lessons/6-Other/21-GeneticAlgorithms/Diophantine.ipynb",
   "language_code": "lt"
  }
 },
 "nbformat": 4,
 "nbformat_minor": 2
}