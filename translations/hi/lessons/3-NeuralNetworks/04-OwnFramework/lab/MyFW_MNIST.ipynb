{
 "cells": [
  {
   "cell_type": "markdown",
   "metadata": {},
   "source": [
    "# हमारे फ्रेमवर्क के साथ MNIST अंकों का वर्गीकरण\n",
    "\n",
    "[AI for Beginners Curriculum](https://github.com/microsoft/ai-for-beginners) से लैब असाइनमेंट।\n",
    "\n",
    "### डेटासेट पढ़ना\n",
    "\n",
    "यह कोड इंटरनेट पर रिपॉजिटरी से डेटासेट डाउनलोड करता है। आप AI Curriculum रिपो की `/data` डायरेक्टरी से डेटासेट को मैन्युअली भी कॉपी कर सकते हैं।\n"
   ]
  },
  {
   "cell_type": "code",
   "execution_count": 4,
   "metadata": {
    "tags": []
   },
   "outputs": [
    {
     "name": "stderr",
     "output_type": "stream",
     "text": [
      "  % Total    % Received % Xferd  Average Speed   Time    Time     Time  Current\n",
      "                                 Dload  Upload   Total   Spent    Left  Speed\n",
      "\n",
      "  0     0    0     0    0     0      0      0 --:--:-- --:--:-- --:--:--     0\n",
      "100  9.9M  100  9.9M    0     0   9.9M      0  0:00:01 --:--:--  0:00:01 15.8M\n"
     ]
    }
   ],
   "source": [
    "!rm *.pkl\n",
    "!wget https://raw.githubusercontent.com/microsoft/AI-For-Beginners/main/data/mnist.pkl.gz\n",
    "!gzip -d mnist.pkl.gz"
   ]
  },
  {
   "cell_type": "code",
   "execution_count": 3,
   "metadata": {},
   "outputs": [],
   "source": [
    "import pickle\n",
    "with open('mnist.pkl','rb') as f:\n",
    "    MNIST = pickle.load(f)"
   ]
  },
  {
   "cell_type": "code",
   "execution_count": 4,
   "metadata": {},
   "outputs": [],
   "source": [
    "labels = MNIST['Train']['Labels']\n",
    "data = MNIST['Train']['Features']"
   ]
  },
  {
   "cell_type": "markdown",
   "metadata": {},
   "source": [
    "आइए देखें कि हमारे पास डेटा का आकार क्या है:\n"
   ]
  },
  {
   "cell_type": "code",
   "execution_count": 5,
   "metadata": {},
   "outputs": [
    {
     "data": {
      "text/plain": [
       "(42000, 784)"
      ]
     },
     "execution_count": 5,
     "metadata": {},
     "output_type": "execute_result"
    }
   ],
   "source": [
    "data.shape"
   ]
  },
  {
   "cell_type": "markdown",
   "metadata": {},
   "source": [
    "### डेटा को विभाजित करना\n",
    "\n",
    "हम प्रशिक्षण और परीक्षण डेटा सेट के बीच डेटा को विभाजित करने के लिए Scikit Learn का उपयोग करेंगे:\n"
   ]
  },
  {
   "cell_type": "code",
   "execution_count": 6,
   "metadata": {},
   "outputs": [
    {
     "name": "stdout",
     "output_type": "stream",
     "text": [
      "Train samples: 33600, test samples: 8400\n"
     ]
    }
   ],
   "source": [
    "from sklearn.model_selection import train_test_split\n",
    "\n",
    "features_train, features_test, labels_train, labels_test = train_test_split(data,labels,test_size=0.2)\n",
    "\n",
    "print(f\"Train samples: {len(features_train)}, test samples: {len(features_test)}\")"
   ]
  },
  {
   "cell_type": "markdown",
   "metadata": {},
   "source": [
    "### निर्देश\n",
    "\n",
    "1. पाठ से फ्रेमवर्क कोड लें और इसे इस नोटबुक में पेस्ट करें, या (और बेहतर) इसे एक अलग Python मॉड्यूल में रखें।\n",
    "1. एक-स्तरीय परसेप्ट्रॉन को परिभाषित करें और प्रशिक्षित करें, प्रशिक्षण और सत्यापन सटीकता को प्रशिक्षण के दौरान देखें।\n",
    "1. समझने की कोशिश करें कि क्या ओवरफिटिंग हुई है, और सटीकता सुधारने के लिए लेयर पैरामीटर समायोजित करें।\n",
    "1. पिछले चरणों को 2- और 3-स्तरीय परसेप्ट्रॉन के लिए दोहराएं। लेयर्स के बीच विभिन्न सक्रियण फ़ंक्शनों के साथ प्रयोग करने की कोशिश करें।\n",
    "1. निम्नलिखित प्रश्नों का उत्तर देने की कोशिश करें:\n",
    "    - क्या इंटर-लेयर सक्रियण फ़ंक्शन नेटवर्क प्रदर्शन को प्रभावित करता है?\n",
    "    - क्या इस कार्य के लिए हमें 2- या 3-स्तरीय नेटवर्क की आवश्यकता है?\n",
    "    - क्या आपने नेटवर्क को प्रशिक्षित करने में कोई समस्या अनुभव की? विशेष रूप से जब लेयर्स की संख्या बढ़ गई।\n",
    "    - प्रशिक्षण के दौरान नेटवर्क के वज़न कैसे व्यवहार करते हैं? आप वज़न के अधिकतम abs मान को epochs के मुकाबले प्लॉट कर सकते हैं ताकि संबंध को समझा जा सके।\n"
   ]
  },
  {
   "cell_type": "code",
   "execution_count": null,
   "metadata": {},
   "outputs": [],
   "source": []
  },
  {
   "cell_type": "markdown",
   "metadata": {},
   "source": [
    "\n---\n\n**अस्वीकरण**:  \nयह दस्तावेज़ AI अनुवाद सेवा [Co-op Translator](https://github.com/Azure/co-op-translator) का उपयोग करके अनुवादित किया गया है। जबकि हम सटीकता सुनिश्चित करने का प्रयास करते हैं, कृपया ध्यान दें कि स्वचालित अनुवाद में त्रुटियां या अशुद्धियां हो सकती हैं। मूल भाषा में उपलब्ध मूल दस्तावेज़ को प्रामाणिक स्रोत माना जाना चाहिए। महत्वपूर्ण जानकारी के लिए, पेशेवर मानव अनुवाद की सिफारिश की जाती है। इस अनुवाद के उपयोग से उत्पन्न किसी भी गलतफहमी या गलत व्याख्या के लिए हम उत्तरदायी नहीं हैं।\n"
   ]
  }
 ],
 "metadata": {
  "kernelspec": {
   "display_name": "Python 3.7.4 64-bit (conda)",
   "metadata": {
    "interpreter": {
     "hash": "86193a1ab0ba47eac1c69c1756090baa3b420b3eea7d4aafab8b85f8b312f0c5"
    }
   },
   "name": "python3"
  },
  "language_info": {
   "codemirror_mode": {
    "name": "ipython",
    "version": 3
   },
   "file_extension": ".py",
   "mimetype": "text/x-python",
   "name": "python",
   "nbconvert_exporter": "python",
   "pygments_lexer": "ipython3",
   "version": "3.9.5"
  },
  "orig_nbformat": 2,
  "coopTranslator": {
   "original_hash": "6fa055f484eb5d6bdf41166a356d3abf",
   "translation_date": "2025-08-31T14:58:44+00:00",
   "source_file": "lessons/3-NeuralNetworks/04-OwnFramework/lab/MyFW_MNIST.ipynb",
   "language_code": "hi"
  }
 },
 "nbformat": 4,
 "nbformat_minor": 2
}