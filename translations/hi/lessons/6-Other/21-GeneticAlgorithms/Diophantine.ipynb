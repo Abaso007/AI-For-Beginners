{
 "cells": [
  {
   "cell_type": "markdown",
   "metadata": {},
   "source": [
    "## असाइनमेंट: डायोफैंटाइन समीकरण\n",
    "\n",
    "> यह असाइनमेंट [AI for Beginners Curriculum](http://github.com/microsoft/ai-for-beginners) का हिस्सा है और [इस पोस्ट](https://habr.com/post/128704/) से प्रेरित है।\n",
    "\n",
    "आपका लक्ष्य **डायोफैंटाइन समीकरण** को हल करना है - एक ऐसा समीकरण जिसमें पूर्णांक मूल और पूर्णांक गुणांक होते हैं। उदाहरण के लिए, निम्नलिखित समीकरण पर विचार करें:\n",
    "\n",
    "$$a+2b+3c+4d=30$$\n",
    "\n",
    "आपको ऐसे पूर्णांक मूल $a$,$b$,$c$,$d\\in\\mathbb{N}$ खोजने हैं जो इस समीकरण को संतुष्ट करें।\n",
    "\n",
    "संकेत:\n",
    "1. आप मूलों को [0;30] के अंतराल में मान सकते हैं।\n",
    "1. जीन के रूप में, मूल मानों की सूची का उपयोग करने पर विचार करें।\n"
   ]
  },
  {
   "cell_type": "markdown",
   "metadata": {},
   "source": []
  },
  {
   "cell_type": "markdown",
   "metadata": {},
   "source": [
    "\n---\n\n**अस्वीकरण**:  \nयह दस्तावेज़ AI अनुवाद सेवा [Co-op Translator](https://github.com/Azure/co-op-translator) का उपयोग करके अनुवादित किया गया है। जबकि हम सटीकता सुनिश्चित करने का प्रयास करते हैं, कृपया ध्यान दें कि स्वचालित अनुवाद में त्रुटियां या अशुद्धियां हो सकती हैं। मूल भाषा में उपलब्ध मूल दस्तावेज़ को प्रामाणिक स्रोत माना जाना चाहिए। महत्वपूर्ण जानकारी के लिए, पेशेवर मानव अनुवाद की सिफारिश की जाती है। इस अनुवाद के उपयोग से उत्पन्न किसी भी गलतफहमी या गलत व्याख्या के लिए हम जिम्मेदार नहीं हैं।\n"
   ]
  }
 ],
 "metadata": {
  "language_info": {
   "name": "python"
  },
  "orig_nbformat": 4,
  "coopTranslator": {
   "original_hash": "a967e1fa1e11ab2b6467b19349a4a9aa",
   "translation_date": "2025-08-31T14:22:12+00:00",
   "source_file": "lessons/6-Other/21-GeneticAlgorithms/Diophantine.ipynb",
   "language_code": "hi"
  }
 },
 "nbformat": 4,
 "nbformat_minor": 2
}