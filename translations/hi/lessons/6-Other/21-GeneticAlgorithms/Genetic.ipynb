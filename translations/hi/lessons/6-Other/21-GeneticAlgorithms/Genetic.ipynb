{
 "cells": [
  {
   "cell_type": "markdown",
   "metadata": {
    "collapsed": true
   },
   "source": [
    "# जेनेटिक एल्गोरिदम\n",
    "\n",
    "यह नोटबुक [AI for Beginners Curriculum](http://github.com/microsoft/ai-for-beginners) का हिस्सा है।\n"
   ]
  },
  {
   "cell_type": "code",
   "execution_count": 2,
   "metadata": {
    "trusted": true
   },
   "outputs": [],
   "source": [
    "import random\n",
    "import matplotlib.pyplot as plt\n",
    "import numpy as np\n",
    "import math\n",
    "import time"
   ]
  },
  {
   "cell_type": "markdown",
   "metadata": {},
   "source": [
    "## कुछ सिद्धांत\n",
    "\n",
    "**जेनेटिक एल्गोरिदम्स** (GA) एक **विकासवादी दृष्टिकोण** पर आधारित हैं, जिसमें जनसंख्या के विकास की विधियों का उपयोग करके किसी दिए गए समस्या का सर्वोत्तम समाधान प्राप्त किया जाता है। इन्हें 1975 में [जॉन हेनरी हॉलैंड](https://en.wikipedia.org/wiki/John_Henry_Holland) द्वारा प्रस्तावित किया गया था।\n",
    "\n",
    "जेनेटिक एल्गोरिदम्स निम्नलिखित विचारों पर आधारित हैं:\n",
    "* समस्या के वैध समाधान को **जीन** के रूप में प्रस्तुत किया जा सकता है।\n",
    "* **क्रॉसओवर** हमें दो समाधानों को मिलाकर एक नया वैध समाधान प्राप्त करने की अनुमति देता है।\n",
    "* **चयन** का उपयोग किसी **फिटनेस फंक्शन** के माध्यम से अधिक इष्टतम समाधान चुनने के लिए किया जाता है।\n",
    "* **म्यूटेशन** को शामिल किया जाता है ताकि अनुकूलन को अस्थिर किया जा सके और स्थानीय न्यूनतम से बाहर निकला जा सके।\n",
    "\n",
    "यदि आप एक जेनेटिक एल्गोरिदम लागू करना चाहते हैं, तो आपको निम्नलिखित की आवश्यकता होगी:\n",
    "\n",
    " * हमारे समस्या समाधान को **जीन** $g\\in\\Gamma$ का उपयोग करके कोड करने की विधि खोजें।\n",
    " * जीन के सेट $\\Gamma$ पर **फिटनेस फंक्शन** $\\mathrm{fit}: \\Gamma\\to\\mathbb{R}$ को परिभाषित करें। छोटे फंक्शन मान बेहतर समाधान के अनुरूप होंगे।\n",
    " * दो जीन को मिलाकर एक नया वैध समाधान प्राप्त करने के लिए **क्रॉसओवर** तंत्र को परिभाषित करें $\\mathrm{crossover}: \\Gamma^2\\to\\Gamma$।\n",
    " * **म्यूटेशन** तंत्र को परिभाषित करें $\\mathrm{mutate}: \\Gamma\\to\\Gamma$।\n",
    "कई मामलों में, क्रॉसओवर और म्यूटेशन जीन को संख्यात्मक अनुक्रम या बिट वेक्टर के रूप में हेरफेर करने के लिए काफी सरल एल्गोरिदम होते हैं।\n",
    "\n",
    "जेनेटिक एल्गोरिदम का विशिष्ट कार्यान्वयन मामले से मामले में भिन्न हो सकता है, लेकिन इसकी समग्र संरचना निम्नलिखित है:\n",
    "\n",
    "1. प्रारंभिक जनसंख्या का चयन करें $G\\subset\\Gamma$\n",
    "2. इस चरण में प्रदर्शन किए जाने वाले ऑपरेशन को यादृच्छिक रूप से चुनें: क्रॉसओवर या म्यूटेशन\n",
    "3. **क्रॉसओवर**:\n",
    "  * दो जीन को यादृच्छिक रूप से चुनें $g_1, g_2 \\in G$\n",
    "  * क्रॉसओवर की गणना करें $g=\\mathrm{crossover}(g_1,g_2)$\n",
    "  * यदि $\\mathrm{fit}(g)<\\mathrm{fit}(g_1)$ या $\\mathrm{fit}(g)<\\mathrm{fit}(g_2)$ - तो जनसंख्या में संबंधित जीन को $g$ से बदल दें।\n",
    "4. **म्यूटेशन** - यादृच्छिक रूप से एक जीन चुनें $g\\in G$ और इसे $\\mathrm{mutate}(g)$ से बदल दें।\n",
    "5. चरण 2 से दोहराएं, जब तक कि $\\mathrm{fit}$ का मान पर्याप्त रूप से छोटा न हो जाए, या चरणों की संख्या की सीमा तक न पहुंच जाए।\n",
    "\n",
    "जेनेटिक एल्गोरिदम द्वारा आमतौर पर हल किए जाने वाले कार्य:\n",
    "1. शेड्यूल अनुकूलन\n",
    "1. इष्टतम पैकिंग\n",
    "1. इष्टतम कटिंग\n",
    "1. थकाऊ खोज को तेज करना\n"
   ]
  },
  {
   "cell_type": "markdown",
   "metadata": {},
   "source": [
    "## समस्या 1: निष्पक्ष खजाने का बंटवारा\n",
    "\n",
    "**कार्य**:  \n",
    "दो लोगों को एक खजाना मिला है जिसमें अलग-अलग आकार (और, उसी के अनुसार, अलग-अलग कीमत) के हीरे हैं। उन्हें खजाने को इस तरह से दो हिस्सों में बांटना है कि कीमत में अंतर 0 (या न्यूनतम) हो।\n",
    "\n",
    "**औपचारिक परिभाषा**:  \n",
    "हमारे पास संख्याओं का एक सेट $S$ है। हमें इसे दो उपसेट $S_1$ और $S_2$ में विभाजित करना है, ताकि  \n",
    "$$\\left|\\sum_{i\\in S_1}i - \\sum_{j\\in S_2}j\\right|\\to\\min$$  \n",
    "और $S_1\\cup S_2=S$, $S_1\\cap S_2=\\emptyset$ हो।\n",
    "\n",
    "सबसे पहले, आइए सेट $S$ को परिभाषित करें:\n"
   ]
  },
  {
   "cell_type": "code",
   "execution_count": 3,
   "metadata": {
    "trusted": true
   },
   "outputs": [
    {
     "name": "stdout",
     "output_type": "stream",
     "text": [
      "[8344 2197 9335 3131 5863 9429 3818 9791   15 5455 1396 9538 4872 6549\n",
      " 8587 5986 6021 9764 8102 5083 5739 7684 8498 3007 6599  820 7490 2372\n",
      " 9370 5235 3525 3154  859 1906 8159 3950 2173 2988 2050  349 8713 2284\n",
      " 4177 6033 1651 9176 5049 8201  171 5081 1216 3756 4711 2757 7738 1272\n",
      " 5650 6584 5395 9004 7797  969 8104 1283 1392 4001 5768  445  274  256\n",
      " 8239 8015 4381 9021 1189 8879 1411 3539 6526 8011  136 7230 2332  451\n",
      " 5702 2989 4320 2446 9578 8486 4027 2410 9588 8981 2177 1493 3232 9151\n",
      " 4835 5594 6859 8394  369 3200  126 4259 2283 7755 2014 2458 8327 8082\n",
      " 7413 7622 1206 5533 8751 3495 5868 8472 6850 3958 3149 4672 4810 6274\n",
      " 4700 6134 4627 4616 6656 9949  884 2256 7419 1926 7973 5319 5967 9158\n",
      " 3823 7697 9466 5675 5412 9784 5426 8209 3421 1136 6047 4429 8001 4417\n",
      " 1381  722 7350 6018 6235 7860 5853 7660 5937 6242    1 9552 3971 8302\n",
      " 2633 9227 7283  154 8599 4269 9392 8539 1630  368 2409 9351 3838 9814\n",
      " 6186 5743 5083 1325 1610  779 3643 3262 5768 8725  961 4611 6310 4788\n",
      " 1648 5951 8118 7779]\n"
     ]
    }
   ],
   "source": [
    "N = 200\n",
    "S = np.array([random.randint(1,10000) for _ in range(N)])\n",
    "print(S)"
   ]
  },
  {
   "cell_type": "markdown",
   "metadata": {},
   "source": [
    "चलो समस्या के प्रत्येक संभावित समाधान को एक बाइनरी वेक्टर $B\\in\\{0,1\\}^N$ द्वारा एन्कोड करें, जहाँ $i$-वें स्थान पर संख्या यह दर्शाती है कि मूल सेट $S$ में $i$-वीं संख्या किस सेट ($S_1$ या $S_2$) से संबंधित है। `generate` फ़ंक्शन उन रैंडम बाइनरी वेक्टरों को उत्पन्न करेगा।\n"
   ]
  },
  {
   "cell_type": "code",
   "execution_count": 5,
   "metadata": {
    "trusted": true
   },
   "outputs": [
    {
     "name": "stdout",
     "output_type": "stream",
     "text": [
      "[1 0 0 1 1 1 1 1 0 1 1 1 0 0 1 0 1 1 1 0 0 1 1 0 1 1 0 0 1 0 1 0 1 0 1 1 1\n",
      " 0 1 1 1 0 1 0 0 1 0 0 1 1 0 1 0 1 1 0 0 1 0 0 0 1 1 0 1 1 0 0 0 0 1 0 1 0\n",
      " 1 0 0 0 0 0 1 1 0 1 0 0 1 0 1 0 0 1 1 0 0 1 1 1 0 0 1 1 0 1 1 0 0 0 0 1 1\n",
      " 1 0 1 0 0 1 1 1 1 1 1 1 1 0 1 0 1 1 1 1 1 1 0 1 0 1 0 1 0 0 1 1 1 0 0 1 1\n",
      " 0 1 1 0 1 1 0 0 0 1 1 0 0 0 0 0 0 0 0 1 1 0 1 1 1 0 0 1 1 0 1 1 0 0 1 1 0\n",
      " 0 0 0 1 0 1 1 0 1 1 0 1 0 0 0]\n"
     ]
    }
   ],
   "source": [
    "def generate(S):\n",
    "    return np.array([random.randint(0,1) for _ in S])\n",
    "\n",
    "b = generate(S)\n",
    "print(b)"
   ]
  },
  {
   "cell_type": "markdown",
   "metadata": {},
   "source": [
    "अब `fit` फ़ंक्शन को परिभाषित करते हैं जो समाधान की \"लागत\" की गणना करता है। यह दो सेटों, $S_1$ और $S_2$ के योग के बीच का अंतर होगा:\n"
   ]
  },
  {
   "cell_type": "code",
   "execution_count": 6,
   "metadata": {
    "trusted": true
   },
   "outputs": [
    {
     "data": {
      "text/plain": [
       "133784"
      ]
     },
     "execution_count": 6,
     "metadata": {},
     "output_type": "execute_result"
    }
   ],
   "source": [
    "def fit(B,S=S):\n",
    "    c1 = (B*S).sum()\n",
    "    c2 = ((1-B)*S).sum()\n",
    "    return abs(c1-c2)\n",
    "\n",
    "fit(b)"
   ]
  },
  {
   "cell_type": "markdown",
   "metadata": {},
   "source": [
    "अब हमें म्यूटेशन और क्रॉसओवर के लिए फंक्शन परिभाषित करने की आवश्यकता है:\n",
    "* म्यूटेशन के लिए, हम एक रैंडम बिट चुनेंगे और उसे उलट देंगे (0 को 1 में और 1 को 0 में बदल देंगे)\n",
    "* क्रॉसओवर के लिए, हम एक वेक्टर से कुछ बिट्स लेंगे और दूसरे वेक्टर से कुछ बिट्स लेंगे। हम उसी `generate` फंक्शन का उपयोग करेंगे ताकि यह रैंडमली तय कर सके कि इनपुट मास्क्स से कौन-कौन से बिट्स लिए जाएं।\n"
   ]
  },
  {
   "cell_type": "code",
   "execution_count": 7,
   "metadata": {
    "trusted": true
   },
   "outputs": [],
   "source": [
    "def mutate(b):\n",
    "    x = b.copy()\n",
    "    i = random.randint(0,len(b)-1)\n",
    "    x[i] = 1-x[i]\n",
    "    return x\n",
    "\n",
    "def xover(b1,b2):\n",
    "    x = generate(b1)\n",
    "    return b1*x+b2*(1-x)"
   ]
  },
  {
   "cell_type": "markdown",
   "metadata": {},
   "source": [
    "चलो समाधानों की प्रारंभिक जनसंख्या $P$ को आकार `pop_size` के साथ बनाते हैं:\n"
   ]
  },
  {
   "cell_type": "code",
   "execution_count": 8,
   "metadata": {
    "trusted": true
   },
   "outputs": [],
   "source": [
    "pop_size = 30\n",
    "P = [generate(S) for _ in range(pop_size)]"
   ]
  },
  {
   "cell_type": "markdown",
   "metadata": {},
   "source": [
    "अब, विकास प्रक्रिया को अंजाम देने के लिए मुख्य फ़ंक्शन। `n` वह संख्या है जो विकास के चरणों को दर्शाती है। प्रत्येक चरण में:\n",
    "* 30% संभावना के साथ हम एक म्यूटेशन करते हैं, और सबसे खराब `fit` फ़ंक्शन वाले तत्व को म्यूटेटेड तत्व से बदल देते हैं\n",
    "* 70% संभावना के साथ हम क्रॉसओवर करते हैं\n",
    "\n",
    "यह फ़ंक्शन सबसे अच्छा समाधान (सबसे अच्छे समाधान से संबंधित जीन) और प्रत्येक पुनरावृत्ति में जनसंख्या में न्यूनतम फिट फ़ंक्शन का इतिहास लौटाता है।\n"
   ]
  },
  {
   "cell_type": "code",
   "execution_count": 9,
   "metadata": {
    "trusted": true
   },
   "outputs": [
    {
     "name": "stdout",
     "output_type": "stream",
     "text": [
      "[0 0 0 1 1 0 0 0 0 1 1 1 0 1 0 0 0 1 0 1 0 1 0 1 0 1 1 0 0 0 0 0 1 0 1 1 0\n",
      " 0 0 0 1 1 0 0 1 0 0 0 0 0 1 0 0 1 1 1 1 1 1 1 0 1 1 0 1 1 1 1 1 0 1 0 0 0\n",
      " 0 1 1 1 0 1 0 1 1 1 1 1 0 0 0 1 1 0 1 0 0 1 0 0 1 1 1 1 1 1 1 1 0 1 0 1 1\n",
      " 0 1 1 0 0 0 0 1 1 1 1 0 1 0 0 1 0 1 1 1 0 1 0 0 0 0 0 0 1 1 0 0 0 1 1 0 0\n",
      " 1 0 1 1 1 1 1 0 1 0 1 0 1 1 1 0 0 0 1 1 0 0 0 0 0 0 1 1 1 0 1 0 0 0 1 0 1\n",
      " 0 1 0 1 0 0 1 1 1 0 1 1 0 0 1] 4\n"
     ]
    }
   ],
   "source": [
    "def evolve(P,S=S,n=2000):\n",
    "    res = []\n",
    "    for _ in range(n):\n",
    "        f = min([fit(b) for b in P])\n",
    "        res.append(f)\n",
    "        if f==0:\n",
    "            break\n",
    "        if random.randint(1,10)<3:\n",
    "            i = random.randint(0,len(P)-1)\n",
    "            b = mutate(P[i])\n",
    "            i = np.argmax([fit(z) for z in P])\n",
    "            P[i] = b\n",
    "        else:\n",
    "            i = random.randint(0,len(P)-1)\n",
    "            j = random.randint(0,len(P)-1)\n",
    "            b = xover(P[i],P[j])\n",
    "            if fit(b)<fit(P[i]):\n",
    "                P[i]=b\n",
    "            elif fit(b)<fit(P[j]):\n",
    "                P[j]=b\n",
    "            else:\n",
    "                pass\n",
    "    i = np.argmin([fit(b) for b in P])\n",
    "    return (P[i],res)\n",
    "\n",
    "(s,hist) = evolve(P)\n",
    "print(s,fit(s))"
   ]
  },
  {
   "cell_type": "markdown",
   "metadata": {},
   "source": []
  },
  {
   "cell_type": "code",
   "execution_count": 10,
   "metadata": {
    "trusted": true
   },
   "outputs": [
    {
     "data": {
      "image/png": "[encoded data removed]",
      "text/plain": [
       "<Figure size 432x288 with 1 Axes>"
      ]
     },
     "metadata": {
      "needs_background": "light"
     },
     "output_type": "display_data"
    }
   ],
   "source": [
    "plt.plot(hist)\n",
    "plt.show()"
   ]
  },
  {
   "cell_type": "markdown",
   "metadata": {},
   "source": [
    "## समस्या 2: एन क्वीन्स समस्या\n",
    "\n",
    "**कार्य**:\n",
    "आपको $N$ क्वीन्स को $N\\times N$ आकार के शतरंज बोर्ड पर इस तरह रखना है कि वे एक-दूसरे पर हमला न करें।\n",
    "\n",
    "सबसे पहले, आइए इस समस्या को जेनेटिक एल्गोरिदम के बिना, पूर्ण खोज का उपयोग करके हल करें। हम बोर्ड की स्थिति को सूची $L$ द्वारा दर्शा सकते हैं, जहां सूची में $i$-वां नंबर $i$-वीं पंक्ति में क्वीन की क्षैतिज स्थिति है। यह काफी स्पष्ट है कि प्रत्येक समाधान में केवल एक क्वीन प्रति पंक्ति होगी, और प्रत्येक पंक्ति में एक क्वीन होगी।\n",
    "\n",
    "हमारा लक्ष्य समस्या का पहला समाधान खोजना होगा, जिसके बाद हम खोज को रोक देंगे। आप इस फ़ंक्शन को आसानी से सभी संभावित क्वीन की स्थितियों को उत्पन्न करने के लिए विस्तारित कर सकते हैं।\n"
   ]
  },
  {
   "cell_type": "code",
   "execution_count": 11,
   "metadata": {
    "trusted": true
   },
   "outputs": [
    {
     "name": "stdout",
     "output_type": "stream",
     "text": [
      "[1, 5, 8, 6, 3, 7, 2, 4]\n"
     ]
    },
    {
     "data": {
      "text/plain": [
       "True"
      ]
     },
     "execution_count": 11,
     "metadata": {},
     "output_type": "execute_result"
    }
   ],
   "source": [
    "N = 8\n",
    "\n",
    "def checkbeats(i_new,j_new,l):\n",
    "    for i,j in enumerate(l,start=1):\n",
    "        if j==j_new:\n",
    "            return False\n",
    "        else:\n",
    "            if abs(j-j_new) == i_new-i:\n",
    "                return False\n",
    "    return True\n",
    "\n",
    "def nqueens(l,N=8,disp=True):\n",
    "    if len(l)==N:\n",
    "        if disp: print(l)\n",
    "        return True\n",
    "    else:\n",
    "        for j in range(1,N+1):\n",
    "            if checkbeats(len(l)+1,j,l):\n",
    "                l.append(j)\n",
    "                if nqueens(l,N,disp): return True\n",
    "                else: l.pop()\n",
    "        return False\n",
    "            \n",
    "nqueens([],8)\n"
   ]
  },
  {
   "cell_type": "markdown",
   "metadata": {},
   "source": [
    "अब आइए मापते हैं कि 20-क्वीन्स समस्या का समाधान प्राप्त करने में कितना समय लगता है:\n"
   ]
  },
  {
   "cell_type": "code",
   "execution_count": 12,
   "metadata": {
    "trusted": true
   },
   "outputs": [
    {
     "name": "stdout",
     "output_type": "stream",
     "text": [
      "10.6 s ± 2.17 s per loop (mean ± std. dev. of 7 runs, 1 loop each)\n"
     ]
    }
   ],
   "source": [
    "%timeit nqueens([],20,False)"
   ]
  },
  {
   "cell_type": "markdown",
   "metadata": {},
   "source": [
    "अब हम इसी समस्या को हल करने के लिए जेनेटिक एल्गोरिथ्म का उपयोग करेंगे। यह समाधान [इस ब्लॉग पोस्ट](https://kushalvyas.github.io/gen_8Q.html) से प्रेरित है।\n",
    "\n",
    "हम प्रत्येक समाधान को $N$ लंबाई की उसी सूची द्वारा प्रस्तुत करेंगे, और एक `fit` फ़ंक्शन के रूप में हम उन रानियों की संख्या लेंगे जो एक-दूसरे पर हमला करती हैं:\n"
   ]
  },
  {
   "cell_type": "code",
   "execution_count": 13,
   "metadata": {
    "trusted": true
   },
   "outputs": [],
   "source": [
    "def fit(L):\n",
    "    x=0\n",
    "    for i1,j1 in enumerate(L,1):\n",
    "        for i2,j2 in enumerate(L,1):\n",
    "            if i2>i1:\n",
    "                if j2==j1 or (abs(j2-j1)==i2-i1): x+=1\n",
    "    return x"
   ]
  },
  {
   "cell_type": "markdown",
   "metadata": {},
   "source": []
  },
  {
   "cell_type": "code",
   "execution_count": 14,
   "metadata": {
    "trusted": true
   },
   "outputs": [
    {
     "data": {
      "text/plain": [
       "[(array([2, 3, 8, 7, 5, 4, 1, 6]), 4),\n",
       " (array([3, 4, 5, 1, 2, 8, 6, 7]), 8),\n",
       " (array([1, 3, 7, 4, 5, 8, 6, 2]), 6),\n",
       " (array([1, 5, 4, 6, 8, 3, 7, 2]), 4),\n",
       " (array([3, 5, 7, 1, 8, 6, 4, 2]), 3)]"
      ]
     },
     "execution_count": 14,
     "metadata": {},
     "output_type": "execute_result"
    }
   ],
   "source": [
    "def generate_one(N):\n",
    "    x = np.arange(1,N+1)\n",
    "    np.random.shuffle(x)\n",
    "    return (x,fit(x))\n",
    "\n",
    "def generate(N,NP):\n",
    "    return [generate_one(N) for _ in range(NP)]\n",
    "\n",
    "generate(8,5)"
   ]
  },
  {
   "cell_type": "markdown",
   "metadata": {},
   "source": []
  },
  {
   "cell_type": "code",
   "execution_count": 15,
   "metadata": {
    "trusted": true
   },
   "outputs": [
    {
     "data": {
      "text/plain": [
       "array([1, 2, 7, 8])"
      ]
     },
     "execution_count": 15,
     "metadata": {},
     "output_type": "execute_result"
    }
   ],
   "source": [
    "def mutate(G):\n",
    "    x=random.randint(0,len(G)-1)\n",
    "    G[x]=random.randint(1,len(G))\n",
    "    return G\n",
    "    \n",
    "def xover(G1,G2):\n",
    "    x=random.randint(0,len(G1))\n",
    "    return np.concatenate((G1[:x],G2[x:]))\n",
    "\n",
    "xover([1,2,3,4],[5,6,7,8])"
   ]
  },
  {
   "cell_type": "markdown",
   "metadata": {},
   "source": []
  },
  {
   "cell_type": "code",
   "execution_count": 17,
   "metadata": {
    "trusted": true
   },
   "outputs": [],
   "source": [
    "def choose_rand(P):\n",
    "    N=len(P[0][0])\n",
    "    mf = N*(N-1)//2 # max fitness fn\n",
    "    z = [mf-x[1] for x in P]\n",
    "    tf = sum(z) # total fitness\n",
    "    w = [x/tf for x in z]\n",
    "    p = np.random.choice(len(P),2,False,p=w)\n",
    "    return p[0],p[1]\n",
    "\n",
    "def choose(P):\n",
    "    def ch(w):\n",
    "        p=[]\n",
    "        while p==[]:\n",
    "            r = random.random()\n",
    "            p = [i for i,x in enumerate(P) if x[1]>=r]\n",
    "        return random.choice(p)\n",
    "    N=len(P[0][0])\n",
    "    mf = N*(N-1)//2 # max fitness fn\n",
    "    z = [mf-x[1] for x in P]\n",
    "    tf = sum(z) # total fitness\n",
    "    w = [x/tf for x in z]\n",
    "    p1=p2=0\n",
    "    while p1==p2:\n",
    "        p1 = ch(w)\n",
    "        p2 = ch(w)\n",
    "    return p1,p2"
   ]
  },
  {
   "cell_type": "markdown",
   "metadata": {},
   "source": [
    "अब हम मुख्य विकासात्मक लूप को परिभाषित करेंगे। हम तर्क को पिछले उदाहरण से थोड़ा अलग बनाएंगे, ताकि यह दिखाया जा सके कि रचनात्मकता का उपयोग किया जा सकता है। हम तब तक लूप करेंगे जब तक हमें सही समाधान (fitness function=0) नहीं मिल जाता, और प्रत्येक चरण में हम वर्तमान पीढ़ी लेंगे और उसी आकार की नई पीढ़ी बनाएंगे। यह `nxgeneration` फ़ंक्शन का उपयोग करके निम्नलिखित चरणों के माध्यम से किया जाता है:\n",
    "\n",
    "1. सबसे कम फिट समाधानों को हटा दें - इसके लिए `discard_unfit` फ़ंक्शन है जो यह काम करता है।\n",
    "1. पीढ़ी में कुछ और रैंडम समाधान जोड़ें।\n",
    "1. `gen_size` आकार की नई पीढ़ी को निम्नलिखित चरणों का उपयोग करके प्रत्येक नए जीन के लिए तैयार करें:\n",
    "    - दो रैंडम जीन का चयन करें, फिटनेस फ़ंक्शन के अनुपात में संभावना के साथ।\n",
    "    - एक क्रॉसओवर की गणना करें।\n",
    "    - `mutation_prob` संभावना के साथ एक म्यूटेशन लागू करें।\n"
   ]
  },
  {
   "cell_type": "code",
   "execution_count": 20,
   "metadata": {
    "trusted": true
   },
   "outputs": [
    {
     "data": {
      "text/plain": [
       "(array([4, 7, 5, 3, 1, 6, 8, 2]), 0)"
      ]
     },
     "execution_count": 20,
     "metadata": {},
     "output_type": "execute_result"
    }
   ],
   "source": [
    "mutation_prob = 0.1\n",
    "\n",
    "def discard_unfit(P):\n",
    "    P.sort(key=lambda x:x[1])\n",
    "    return P[:len(P)//3]\n",
    "\n",
    "def nxgeneration(P):\n",
    "    gen_size=len(P)\n",
    "    P = discard_unfit(P)\n",
    "    P.extend(generate(len(P[0][0]),3))\n",
    "    new_gen = []\n",
    "    for _ in range(gen_size):\n",
    "        p1,p2 = choose_rand(P)\n",
    "        n = xover(P[p1][0],P[p2][0])\n",
    "        if random.random()<mutation_prob:\n",
    "            n=mutate(n)\n",
    "        nf = fit(n)\n",
    "        new_gen.append((n,nf))\n",
    "        '''\n",
    "        if (nf<=P[p1][1]) or (nf<=P[p2][1]):\n",
    "            new_gen.append((n,nf))\n",
    "        elif (P[p1][1]<P[p2][1]):\n",
    "            new_gen.append(P[p1])\n",
    "        else:\n",
    "            new_gen.append(P[p2])\n",
    "        '''\n",
    "    return new_gen\n",
    "    \n",
    "def genetic(N,pop_size=100):\n",
    "    P = generate(N,pop_size)\n",
    "    mf = min([x[1] for x in P])\n",
    "    n=0\n",
    "    while mf>0:\n",
    "        #print(\"Generation {0}, fit={1}\".format(n,mf))\n",
    "        n+=1\n",
    "        mf = min([x[1] for x in P])\n",
    "        P = nxgeneration(P)\n",
    "    mi = np.argmin([x[1] for x in P])\n",
    "    return P[mi]\n",
    "\n",
    "genetic(8)"
   ]
  },
  {
   "cell_type": "markdown",
   "metadata": {},
   "source": []
  },
  {
   "cell_type": "code",
   "execution_count": 19,
   "metadata": {
    "trusted": true
   },
   "outputs": [
    {
     "name": "stdout",
     "output_type": "stream",
     "text": [
      "The slowest run took 18.71 times longer than the fastest. This could mean that an intermediate result is being cached.\n",
      "26.4 s ± 28.7 s per loop (mean ± std. dev. of 7 runs, 1 loop each)\n"
     ]
    }
   ],
   "source": [
    "%timeit genetic(10)"
   ]
  },
  {
   "cell_type": "markdown",
   "metadata": {},
   "source": [
    "\n---\n\n**अस्वीकरण**:  \nयह दस्तावेज़ AI अनुवाद सेवा [Co-op Translator](https://github.com/Azure/co-op-translator) का उपयोग करके अनुवादित किया गया है। जबकि हम सटीकता सुनिश्चित करने का प्रयास करते हैं, कृपया ध्यान दें कि स्वचालित अनुवाद में त्रुटियां या अशुद्धियां हो सकती हैं। मूल भाषा में उपलब्ध मूल दस्तावेज़ को प्रामाणिक स्रोत माना जाना चाहिए। महत्वपूर्ण जानकारी के लिए, पेशेवर मानव अनुवाद की सिफारिश की जाती है। इस अनुवाद के उपयोग से उत्पन्न किसी भी गलतफहमी या गलत व्याख्या के लिए हम जिम्मेदार नहीं हैं।\n"
   ]
  }
 ],
 "metadata": {
  "interpreter": {
   "hash": "86193a1ab0ba47eac1c69c1756090baa3b420b3eea7d4aafab8b85f8b312f0c5"
  },
  "kernelspec": {
   "display_name": "Python 3.6",
   "language": "python",
   "name": "python3"
  },
  "language_info": {
   "codemirror_mode": {
    "name": "ipython",
    "version": 3
   },
   "file_extension": ".py",
   "mimetype": "text/x-python",
   "name": "python",
   "nbconvert_exporter": "python",
   "pygments_lexer": "ipython3",
   "version": "3.9.5"
  },
  "coopTranslator": {
   "original_hash": "1012c117808753433f6e2696e775ff4b",
   "translation_date": "2025-08-31T14:23:47+00:00",
   "source_file": "lessons/6-Other/21-GeneticAlgorithms/Genetic.ipynb",
   "language_code": "hi"
  }
 },
 "nbformat": 4,
 "nbformat_minor": 2
}