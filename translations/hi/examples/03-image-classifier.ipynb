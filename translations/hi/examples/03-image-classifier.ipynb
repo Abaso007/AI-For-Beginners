{
 "cells": [
  {
   "cell_type": "markdown",
   "metadata": {},
   "source": [
    "# सरल इमेज क्लासिफायर\n",
    "\n",
    "यह नोटबुक आपको एक प्री-ट्रेंड न्यूरल नेटवर्क का उपयोग करके इमेज को वर्गीकृत करना सिखाती है।\n",
    "\n",
    "**आप क्या सीखेंगे:**\n",
    "- प्री-ट्रेंड मॉडल को लोड और उपयोग कैसे करें\n",
    "- इमेज प्रीप्रोसेसिंग\n",
    "- इमेज पर भविष्यवाणी करना\n",
    "- कॉन्फिडेंस स्कोर को समझना\n",
    "\n",
    "**उपयोग का मामला:** इमेज में वस्तुओं की पहचान करना (जैसे \"बिल्ली\", \"कुत्ता\", \"कार\" आदि)\n",
    "\n",
    "---\n"
   ]
  },
  {
   "cell_type": "markdown",
   "metadata": {},
   "source": [
    "## चरण 1: आवश्यक लाइब्रेरी आयात करें\n",
    "\n",
    "आइए उन उपकरणों को आयात करें जिनकी हमें आवश्यकता है। अगर आप इनमें से कुछ को अभी पूरी तरह से नहीं समझते हैं तो चिंता न करें!\n"
   ]
  },
  {
   "cell_type": "code",
   "execution_count": null,
   "metadata": {},
   "outputs": [],
   "source": [
    "# Core libraries\n",
    "import numpy as np\n",
    "from PIL import Image\n",
    "import requests\n",
    "from io import BytesIO\n",
    "\n",
    "# TensorFlow for deep learning\n",
    "try:\n",
    "    import tensorflow as tf\n",
    "    from tensorflow.keras.applications import MobileNetV2\n",
    "    from tensorflow.keras.applications.mobilenet_v2 import preprocess_input, decode_predictions\n",
    "    print(\"✅ TensorFlow loaded successfully!\")\n",
    "    print(f\"   Version: {tf.__version__}\")\n",
    "except ImportError:\n",
    "    print(\"❌ Please install TensorFlow: pip install tensorflow\")"
   ]
  },
  {
   "cell_type": "markdown",
   "metadata": {},
   "source": [
    "## चरण 2: प्री-ट्रेंड मॉडल लोड करें\n",
    "\n",
    "हम **MobileNetV2** का उपयोग करेंगे, जो पहले से ही लाखों छवियों पर प्रशिक्षित एक न्यूरल नेटवर्क है।\n",
    "\n",
    "इसे **ट्रांसफर लर्निंग** कहा जाता है - किसी और द्वारा प्रशिक्षित मॉडल का उपयोग करना!\n"
   ]
  },
  {
   "cell_type": "code",
   "execution_count": null,
   "metadata": {},
   "outputs": [],
   "source": [
    "print(\"📦 Loading pre-trained MobileNetV2 model...\")\n",
    "print(\"   This may take a minute on first run (downloading weights)...\")\n",
    "\n",
    "# Load the model\n",
    "# include_top=True means we use the classification layer\n",
    "# weights='imagenet' means it was trained on ImageNet dataset\n",
    "model = MobileNetV2(weights='imagenet', include_top=True)\n",
    "\n",
    "print(\"✅ Model loaded!\")\n",
    "print(f\"   The model can recognize 1000 different object categories\")"
   ]
  },
  {
   "cell_type": "markdown",
   "metadata": {},
   "source": [
    "## चरण 3: सहायक फ़ंक्शन\n",
    "\n",
    "आइए हमारे मॉडल के लिए छवियों को लोड और तैयार करने के लिए फ़ंक्शन बनाएं।\n"
   ]
  },
  {
   "cell_type": "code",
   "execution_count": null,
   "metadata": {},
   "outputs": [],
   "source": [
    "def load_image_from_url(url):\n",
    "    \"\"\"\n",
    "    Load an image from a URL.\n",
    "    \n",
    "    Args:\n",
    "        url: Web address of the image\n",
    "        \n",
    "    Returns:\n",
    "        PIL Image object\n",
    "    \"\"\"\n",
    "    response = requests.get(url)\n",
    "    img = Image.open(BytesIO(response.content))\n",
    "    return img\n",
    "\n",
    "\n",
    "def prepare_image(img):\n",
    "    \"\"\"\n",
    "    Prepare an image for the model.\n",
    "    \n",
    "    Steps:\n",
    "    1. Resize to 224x224 (model's expected size)\n",
    "    2. Convert to array\n",
    "    3. Add batch dimension\n",
    "    4. Preprocess for MobileNetV2\n",
    "    \n",
    "    Args:\n",
    "        img: PIL Image\n",
    "        \n",
    "    Returns:\n",
    "        Preprocessed image array\n",
    "    \"\"\"\n",
    "    # Resize to 224x224 pixels\n",
    "    img = img.resize((224, 224))\n",
    "    \n",
    "    # Convert to numpy array\n",
    "    img_array = np.array(img)\n",
    "    \n",
    "    # Add batch dimension (model expects multiple images)\n",
    "    img_array = np.expand_dims(img_array, axis=0)\n",
    "    \n",
    "    # Preprocess for MobileNetV2\n",
    "    img_array = preprocess_input(img_array)\n",
    "    \n",
    "    return img_array\n",
    "\n",
    "\n",
    "def classify_image(img):\n",
    "    \"\"\"\n",
    "    Classify an image and return top predictions.\n",
    "    \n",
    "    Args:\n",
    "        img: PIL Image\n",
    "        \n",
    "    Returns:\n",
    "        List of (class_name, confidence) tuples\n",
    "    \"\"\"\n",
    "    # Prepare the image\n",
    "    img_array = prepare_image(img)\n",
    "    \n",
    "    # Make prediction\n",
    "    predictions = model.predict(img_array, verbose=0)\n",
    "    \n",
    "    # Decode predictions to human-readable labels\n",
    "    # top=5 means we get the top 5 most likely classes\n",
    "    decoded = decode_predictions(predictions, top=5)[0]\n",
    "    \n",
    "    # Convert to simpler format\n",
    "    results = [(label, float(confidence)) for (_, label, confidence) in decoded]\n",
    "    \n",
    "    return results\n",
    "\n",
    "\n",
    "print(\"✅ Helper functions ready!\")"
   ]
  },
  {
   "cell_type": "markdown",
   "metadata": {},
   "source": [
    "## चरण 4: नमूना छवियों पर परीक्षण करें\n",
    "\n",
    "चलो इंटरनेट से कुछ छवियों को वर्गीकृत करने की कोशिश करते हैं!\n"
   ]
  },
  {
   "cell_type": "code",
   "execution_count": null,
   "metadata": {},
   "outputs": [],
   "source": [
    "# Sample images to classify\n",
    "# These are from Unsplash (free stock photos)\n",
    "test_images = [\n",
    "    {\n",
    "        \"url\": \"https://images.unsplash.com/photo-1514888286974-6c03e2ca1dba?w=400\",\n",
    "        \"description\": \"A cat\"\n",
    "    },\n",
    "    {\n",
    "        \"url\": \"https://images.unsplash.com/photo-1552053831-71594a27632d?w=400\",\n",
    "        \"description\": \"A dog\"\n",
    "    },\n",
    "    {\n",
    "        \"url\": \"https://images.unsplash.com/photo-1511919884226-fd3cad34687c?w=400\",\n",
    "        \"description\": \"A car\"\n",
    "    },\n",
    "]\n",
    "\n",
    "print(f\"🧪 Testing on {len(test_images)} images...\")\n",
    "print(\"=\" * 70)"
   ]
  },
  {
   "cell_type": "markdown",
   "metadata": {},
   "source": [
    "### प्रत्येक छवि को वर्गीकृत करें\n"
   ]
  },
  {
   "cell_type": "code",
   "execution_count": null,
   "metadata": {},
   "outputs": [],
   "source": [
    "for i, img_data in enumerate(test_images, 1):\n",
    "    print(f\"\\n📸 Image {i}: {img_data['description']}\")\n",
    "    print(\"-\" * 70)\n",
    "    \n",
    "    try:\n",
    "        # Load image\n",
    "        img = load_image_from_url(img_data['url'])\n",
    "        \n",
    "        # Display image\n",
    "        display(img.resize((200, 200)))  # Show smaller version\n",
    "        \n",
    "        # Classify\n",
    "        results = classify_image(img)\n",
    "        \n",
    "        # Show predictions\n",
    "        print(\"\\n🎯 Top 5 Predictions:\")\n",
    "        for rank, (label, confidence) in enumerate(results, 1):\n",
    "            # Create a visual bar\n",
    "            bar_length = int(confidence * 50)\n",
    "            bar = \"█\" * bar_length\n",
    "            \n",
    "            print(f\"  {rank}. {label:20s} {confidence*100:5.2f}% {bar}\")\n",
    "        \n",
    "    except Exception as e:\n",
    "        print(f\"❌ Error: {e}\")\n",
    "\n",
    "print(\"\\n\" + \"=\" * 70)"
   ]
  },
  {
   "cell_type": "markdown",
   "metadata": {},
   "source": [
    "## चरण 5: अपनी खुद की छवियों को आज़माएं!\n",
    "\n",
    "नीचे दिए गए URL को किसी भी छवि URL से बदलें जिसे आप वर्गीकृत करना चाहते हैं।\n"
   ]
  },
  {
   "cell_type": "code",
   "execution_count": null,
   "metadata": {},
   "outputs": [],
   "source": [
    "# Try your own image!\n",
    "# Replace this URL with any image URL\n",
    "custom_image_url = \"https://images.unsplash.com/photo-1472491235688-bdc81a63246e?w=400\"  # A flower\n",
    "\n",
    "print(\"🖼️  Classifying your custom image...\")\n",
    "print(\"=\" * 70)\n",
    "\n",
    "try:\n",
    "    # Load and show image\n",
    "    img = load_image_from_url(custom_image_url)\n",
    "    display(img.resize((300, 300)))\n",
    "    \n",
    "    # Classify\n",
    "    results = classify_image(img)\n",
    "    \n",
    "    # Show results\n",
    "    print(\"\\n🎯 Top 5 Predictions:\")\n",
    "    print(\"-\" * 70)\n",
    "    for rank, (label, confidence) in enumerate(results, 1):\n",
    "        bar_length = int(confidence * 50)\n",
    "        bar = \"█\" * bar_length\n",
    "        print(f\"  {rank}. {label:20s} {confidence*100:5.2f}% {bar}\")\n",
    "    \n",
    "    # Highlight top prediction\n",
    "    top_label, top_confidence = results[0]\n",
    "    print(\"\\n\" + \"=\" * 70)\n",
    "    print(f\"\\n🏆 Best guess: {top_label} ({top_confidence*100:.2f}% confident)\")\n",
    "    \n",
    "except Exception as e:\n",
    "    print(f\"❌ Error: {e}\")\n",
    "    print(\"   Make sure the URL points to a valid image!\")"
   ]
  },
  {
   "cell_type": "markdown",
   "metadata": {},
   "source": [
    "## 💡 अभी क्या हुआ?\n",
    "\n",
    "1. **हमने एक प्री-ट्रेंड मॉडल लोड किया** - MobileNetV2 को लाखों तस्वीरों पर प्रशिक्षित किया गया था  \n",
    "2. **हमने तस्वीरों को प्रीप्रोसेस किया** - उन्हें मॉडल के लिए सही आकार और फॉर्मेट में बदला  \n",
    "3. **मॉडल ने प्रेडिक्शन किया** - यह 1000 ऑब्जेक्ट क्लासेस के लिए संभावनाएं बताता है  \n",
    "4. **हमने परिणामों को डिकोड किया** - अंकों को इंसानों के पढ़ने लायक लेबल में बदला  \n",
    "\n",
    "### कॉन्फिडेंस स्कोर को समझना\n",
    "\n",
    "- **90-100%**: बहुत ज्यादा भरोसेमंद (लगभग निश्चित रूप से सही)  \n",
    "- **70-90%**: भरोसेमंद (शायद सही)  \n",
    "- **50-70%**: थोड़ा भरोसेमंद (शायद सही हो सकता है)  \n",
    "- **50% से कम**: ज्यादा भरोसेमंद नहीं (अनिश्चित)  \n",
    "\n",
    "### प्रेडिक्शन गलत क्यों हो सकता है?\n",
    "\n",
    "- **अजीब कोण या रोशनी** - मॉडल को सामान्य तस्वीरों पर प्रशिक्षित किया गया था  \n",
    "- **कई ऑब्जेक्ट्स** - मॉडल एक मुख्य ऑब्जेक्ट की उम्मीद करता है  \n",
    "- **दुर्लभ ऑब्जेक्ट्स** - मॉडल केवल 1000 कैटेगरी को जानता है  \n",
    "- **कम गुणवत्ता वाली तस्वीर** - धुंधली या पिक्सेलेटेड तस्वीरें पहचानना मुश्किल होता है  \n",
    "\n",
    "---  \n"
   ]
  },
  {
   "cell_type": "markdown",
   "metadata": {},
   "source": [
    "## 🚀 अगले कदम\n",
    "\n",
    "1. **अलग-अलग तस्वीरें आज़माएं:**\n",
    "   - [Unsplash](https://unsplash.com) पर तस्वीरें खोजें\n",
    "   - राइट-क्लिक करें → \"Copy image address\" से URL प्राप्त करें\n",
    "\n",
    "2. **प्रयोग करें:**\n",
    "   - अमूर्त कला के साथ क्या होता है?\n",
    "   - क्या यह अलग-अलग कोणों से वस्तुओं को पहचान सकता है?\n",
    "   - यह कई वस्तुओं को कैसे संभालता है?\n",
    "\n",
    "3. **अधिक जानें:**\n",
    "   - [Computer Vision पाठ](../lessons/4-ComputerVision/README.md) का अन्वेषण करें\n",
    "   - अपना खुद का इमेज क्लासिफायर ट्रेन करना सीखें\n",
    "   - समझें कि CNNs (Convolutional Neural Networks) कैसे काम करते हैं\n",
    "\n",
    "---\n",
    "\n",
    "## 🎉 बधाई हो!\n",
    "\n",
    "आपने अभी-अभी एक अत्याधुनिक न्यूरल नेटवर्क का उपयोग करके एक इमेज क्लासिफायर बनाया है!\n",
    "\n",
    "यही तकनीक शक्ति देती है:\n",
    "- Google Photos (आपकी तस्वीरों को व्यवस्थित करना)\n",
    "- सेल्फ-ड्राइविंग कारें (वस्तुओं को पहचानना)\n",
    "- चिकित्सा निदान (एक्स-रे का विश्लेषण करना)\n",
    "- गुणवत्ता नियंत्रण (त्रुटियों का पता लगाना)\n",
    "\n",
    "खोज और सीखते रहें! 🚀\n"
   ]
  },
  {
   "cell_type": "markdown",
   "metadata": {},
   "source": [
    "\n---\n\n**अस्वीकरण**:  \nयह दस्तावेज़ AI अनुवाद सेवा [Co-op Translator](https://github.com/Azure/co-op-translator) का उपयोग करके अनुवादित किया गया है। जबकि हम सटीकता सुनिश्चित करने का प्रयास करते हैं, कृपया ध्यान दें कि स्वचालित अनुवाद में त्रुटियां या अशुद्धियां हो सकती हैं। मूल भाषा में उपलब्ध मूल दस्तावेज़ को प्रामाणिक स्रोत माना जाना चाहिए। महत्वपूर्ण जानकारी के लिए, पेशेवर मानव अनुवाद की सिफारिश की जाती है। इस अनुवाद के उपयोग से उत्पन्न किसी भी गलतफहमी या गलत व्याख्या के लिए हम उत्तरदायी नहीं हैं।\n"
   ]
  }
 ],
 "metadata": {
  "kernelspec": {
   "display_name": "Python 3",
   "language": "python",
   "name": "python3"
  },
  "language_info": {
   "codemirror_mode": {
    "name": "ipython",
    "version": 3
   },
   "file_extension": ".py",
   "mimetype": "text/x-python",
   "name": "python",
   "nbconvert_exporter": "python",
   "pygments_lexer": "ipython3",
   "version": "3.8.0"
  },
  "coopTranslator": {
   "original_hash": "1d472141d9df46b751542b3c29f88677",
   "translation_date": "2025-10-03T11:41:52+00:00",
   "source_file": "examples/03-image-classifier.ipynb",
   "language_code": "hi"
  }
 },
 "nbformat": 4,
 "nbformat_minor": 4
}