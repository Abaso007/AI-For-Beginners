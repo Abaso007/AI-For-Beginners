{
 "cells": [
  {
   "cell_type": "markdown",
   "metadata": {},
   "source": [
    "## Bài tập: Phương trình Diophantine\n",
    "\n",
    "> Bài tập này là một phần của [Chương trình học AI cho người mới bắt đầu](http://github.com/microsoft/ai-for-beginners) và được lấy cảm hứng từ [bài viết này](https://habr.com/post/128704/).\n",
    "\n",
    "Mục tiêu của bạn là giải quyết cái gọi là **phương trình Diophantine** - một phương trình với nghiệm nguyên và hệ số nguyên. Ví dụ, hãy xem xét phương trình sau:\n",
    "\n",
    "$$a+2b+3c+4d=30$$\n",
    "\n",
    "Bạn cần tìm các nghiệm nguyên $a$,$b$,$c$,$d\\in\\mathbb{N}$ sao cho phương trình này được thỏa mãn.\n",
    "\n",
    "Gợi ý:\n",
    "1. Bạn có thể xem xét các nghiệm nằm trong khoảng [0;30]\n",
    "1. Như một gen, hãy cân nhắc sử dụng danh sách các giá trị nghiệm\n"
   ]
  },
  {
   "cell_type": "markdown",
   "metadata": {},
   "source": []
  },
  {
   "cell_type": "markdown",
   "metadata": {},
   "source": [
    "\n---\n\n**Tuyên bố miễn trừ trách nhiệm**:  \nTài liệu này đã được dịch bằng dịch vụ dịch thuật AI [Co-op Translator](https://github.com/Azure/co-op-translator). Mặc dù chúng tôi cố gắng đảm bảo độ chính xác, xin lưu ý rằng các bản dịch tự động có thể chứa lỗi hoặc không chính xác. Tài liệu gốc bằng ngôn ngữ bản địa nên được coi là nguồn thông tin chính thức. Đối với các thông tin quan trọng, khuyến nghị sử dụng dịch vụ dịch thuật chuyên nghiệp bởi con người. Chúng tôi không chịu trách nhiệm cho bất kỳ sự hiểu lầm hoặc diễn giải sai nào phát sinh từ việc sử dụng bản dịch này.\n"
   ]
  }
 ],
 "metadata": {
  "language_info": {
   "name": "python"
  },
  "orig_nbformat": 4,
  "coopTranslator": {
   "original_hash": "a967e1fa1e11ab2b6467b19349a4a9aa",
   "translation_date": "2025-08-29T12:53:09+00:00",
   "source_file": "lessons/6-Other/21-GeneticAlgorithms/Diophantine.ipynb",
   "language_code": "vi"
  }
 },
 "nbformat": 4,
 "nbformat_minor": 2
}