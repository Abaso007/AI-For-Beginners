{
 "cells": [
  {
   "cell_type": "markdown",
   "metadata": {
    "collapsed": true
   },
   "source": [
    "# Thuật toán Di truyền\n",
    "\n",
    "Notebook này là một phần của [Chương trình học AI dành cho người mới bắt đầu](http://github.com/microsoft/ai-for-beginners).\n"
   ]
  },
  {
   "cell_type": "code",
   "execution_count": 2,
   "metadata": {
    "trusted": true
   },
   "outputs": [],
   "source": [
    "import random\n",
    "import matplotlib.pyplot as plt\n",
    "import numpy as np\n",
    "import math\n",
    "import time"
   ]
  },
  {
   "cell_type": "markdown",
   "metadata": {},
   "source": [
    "## Một số lý thuyết\n",
    "\n",
    "**Thuật toán di truyền** (GA) dựa trên **phương pháp tiếp cận tiến hóa** trong AI, trong đó các phương pháp tiến hóa của quần thể được sử dụng để tìm ra giải pháp tối ưu cho một vấn đề cụ thể. Thuật toán này được đề xuất vào năm 1975 bởi [John Henry Holland](https://en.wikipedia.org/wiki/John_Henry_Holland).\n",
    "\n",
    "Thuật toán di truyền dựa trên các ý tưởng sau:\n",
    "* Các giải pháp hợp lệ cho vấn đề có thể được biểu diễn dưới dạng **gen**\n",
    "* **Lai ghép** cho phép chúng ta kết hợp hai giải pháp lại với nhau để tạo ra một giải pháp mới hợp lệ\n",
    "* **Chọn lọc** được sử dụng để chọn các giải pháp tối ưu hơn bằng cách sử dụng một **hàm đánh giá**\n",
    "* **Đột biến** được giới thiệu để làm mất ổn định quá trình tối ưu hóa và giúp thoát khỏi cực tiểu cục bộ\n",
    "\n",
    "Nếu bạn muốn triển khai một thuật toán di truyền, bạn cần:\n",
    "\n",
    " * Tìm một phương pháp mã hóa các giải pháp của vấn đề bằng **gen** $g\\in\\Gamma$\n",
    " * Trên tập hợp các gen $\\Gamma$, cần định nghĩa **hàm đánh giá** $\\mathrm{fit}: \\Gamma\\to\\mathbb{R}$. Các giá trị hàm nhỏ hơn sẽ tương ứng với các giải pháp tốt hơn.\n",
    " * Định nghĩa cơ chế **lai ghép** để kết hợp hai gen lại với nhau nhằm tạo ra một giải pháp mới hợp lệ $\\mathrm{crossover}: \\Gamma^2\\to\\Gamma$.\n",
    " * Định nghĩa cơ chế **đột biến** $\\mathrm{mutate}: \\Gamma\\to\\Gamma$.\n",
    "Trong nhiều trường hợp, lai ghép và đột biến là các thuật toán khá đơn giản để thao tác với gen dưới dạng chuỗi số hoặc vector bit.\n",
    "\n",
    "Việc triển khai cụ thể một thuật toán di truyền có thể khác nhau tùy từng trường hợp, nhưng cấu trúc tổng quát như sau:\n",
    "\n",
    "1. Chọn quần thể ban đầu $G\\subset\\Gamma$\n",
    "2. Ngẫu nhiên chọn một trong các thao tác sẽ được thực hiện tại bước này: lai ghép hoặc đột biến \n",
    "3. **Lai ghép**:\n",
    "  * Ngẫu nhiên chọn hai gen $g_1, g_2 \\in G$\n",
    "  * Tính toán lai ghép $g=\\mathrm{crossover}(g_1,g_2)$\n",
    "  * Nếu $\\mathrm{fit}(g)<\\mathrm{fit}(g_1)$ hoặc $\\mathrm{fit}(g)<\\mathrm{fit}(g_2)$ - thay thế gen tương ứng trong quần thể bằng $g$.\n",
    "4. **Đột biến** - chọn ngẫu nhiên một gen $g\\in G$ và thay thế nó bằng $\\mathrm{mutate}(g)$\n",
    "5. Lặp lại từ bước 2, cho đến khi đạt được giá trị đủ nhỏ của $\\mathrm{fit}$, hoặc cho đến khi đạt giới hạn về số bước.\n",
    "\n",
    "Các nhiệm vụ thường được giải quyết bằng GA:\n",
    "1. Tối ưu hóa lịch trình\n",
    "1. Tối ưu hóa đóng gói\n",
    "1. Tối ưu hóa cắt\n",
    "1. Tăng tốc tìm kiếm toàn diện\n"
   ]
  },
  {
   "cell_type": "markdown",
   "metadata": {},
   "source": [
    "## Vấn đề 1: Chia Kho Báu Công Bằng\n",
    "\n",
    "**Nhiệm vụ**:  \n",
    "Hai người tìm thấy một kho báu chứa các viên kim cương có kích thước khác nhau (và tương ứng, giá trị khác nhau). Họ cần chia kho báu thành hai phần sao cho sự chênh lệch về giá trị là 0 (hoặc nhỏ nhất có thể).\n",
    "\n",
    "**Định nghĩa chính thức**:  \n",
    "Chúng ta có một tập hợp các số $S$. Cần chia nó thành hai tập con $S_1$ và $S_2$, sao cho $$\\left|\\sum_{i\\in S_1}i - \\sum_{j\\in S_2}j\\right|\\to\\min$$ và $S_1\\cup S_2=S$, $S_1\\cap S_2=\\emptyset$.\n",
    "\n",
    "Trước tiên, hãy định nghĩa tập hợp $S$:\n"
   ]
  },
  {
   "cell_type": "code",
   "execution_count": 3,
   "metadata": {
    "trusted": true
   },
   "outputs": [
    {
     "name": "stdout",
     "output_type": "stream",
     "text": [
      "[8344 2197 9335 3131 5863 9429 3818 9791   15 5455 1396 9538 4872 6549\n",
      " 8587 5986 6021 9764 8102 5083 5739 7684 8498 3007 6599  820 7490 2372\n",
      " 9370 5235 3525 3154  859 1906 8159 3950 2173 2988 2050  349 8713 2284\n",
      " 4177 6033 1651 9176 5049 8201  171 5081 1216 3756 4711 2757 7738 1272\n",
      " 5650 6584 5395 9004 7797  969 8104 1283 1392 4001 5768  445  274  256\n",
      " 8239 8015 4381 9021 1189 8879 1411 3539 6526 8011  136 7230 2332  451\n",
      " 5702 2989 4320 2446 9578 8486 4027 2410 9588 8981 2177 1493 3232 9151\n",
      " 4835 5594 6859 8394  369 3200  126 4259 2283 7755 2014 2458 8327 8082\n",
      " 7413 7622 1206 5533 8751 3495 5868 8472 6850 3958 3149 4672 4810 6274\n",
      " 4700 6134 4627 4616 6656 9949  884 2256 7419 1926 7973 5319 5967 9158\n",
      " 3823 7697 9466 5675 5412 9784 5426 8209 3421 1136 6047 4429 8001 4417\n",
      " 1381  722 7350 6018 6235 7860 5853 7660 5937 6242    1 9552 3971 8302\n",
      " 2633 9227 7283  154 8599 4269 9392 8539 1630  368 2409 9351 3838 9814\n",
      " 6186 5743 5083 1325 1610  779 3643 3262 5768 8725  961 4611 6310 4788\n",
      " 1648 5951 8118 7779]\n"
     ]
    }
   ],
   "source": [
    "N = 200\n",
    "S = np.array([random.randint(1,10000) for _ in range(N)])\n",
    "print(S)"
   ]
  },
  {
   "cell_type": "markdown",
   "metadata": {},
   "source": [
    "Hãy mã hóa mỗi giải pháp có thể của vấn đề bằng một vector nhị phân $B\\in\\{0,1\\}^N$, trong đó số ở vị trí thứ $i$ cho biết số thứ $i$ trong tập ban đầu $S$ thuộc về tập nào ($S_1$ hoặc $S_2$). Hàm `generate` sẽ tạo ra các vector nhị phân ngẫu nhiên đó.\n"
   ]
  },
  {
   "cell_type": "code",
   "execution_count": 5,
   "metadata": {
    "trusted": true
   },
   "outputs": [
    {
     "name": "stdout",
     "output_type": "stream",
     "text": [
      "[1 0 0 1 1 1 1 1 0 1 1 1 0 0 1 0 1 1 1 0 0 1 1 0 1 1 0 0 1 0 1 0 1 0 1 1 1\n",
      " 0 1 1 1 0 1 0 0 1 0 0 1 1 0 1 0 1 1 0 0 1 0 0 0 1 1 0 1 1 0 0 0 0 1 0 1 0\n",
      " 1 0 0 0 0 0 1 1 0 1 0 0 1 0 1 0 0 1 1 0 0 1 1 1 0 0 1 1 0 1 1 0 0 0 0 1 1\n",
      " 1 0 1 0 0 1 1 1 1 1 1 1 1 0 1 0 1 1 1 1 1 1 0 1 0 1 0 1 0 0 1 1 1 0 0 1 1\n",
      " 0 1 1 0 1 1 0 0 0 1 1 0 0 0 0 0 0 0 0 1 1 0 1 1 1 0 0 1 1 0 1 1 0 0 1 1 0\n",
      " 0 0 0 1 0 1 1 0 1 1 0 1 0 0 0]\n"
     ]
    }
   ],
   "source": [
    "def generate(S):\n",
    "    return np.array([random.randint(0,1) for _ in S])\n",
    "\n",
    "b = generate(S)\n",
    "print(b)"
   ]
  },
  {
   "cell_type": "markdown",
   "metadata": {},
   "source": [
    "Bây giờ hãy định nghĩa hàm `fit` để tính toán \"chi phí\" của giải pháp. Nó sẽ là sự khác biệt giữa tổng của hai tập hợp, $S_1$ và $S_2$:\n"
   ]
  },
  {
   "cell_type": "code",
   "execution_count": 6,
   "metadata": {
    "trusted": true
   },
   "outputs": [
    {
     "data": {
      "text/plain": [
       "133784"
      ]
     },
     "execution_count": 6,
     "metadata": {},
     "output_type": "execute_result"
    }
   ],
   "source": [
    "def fit(B,S=S):\n",
    "    c1 = (B*S).sum()\n",
    "    c2 = ((1-B)*S).sum()\n",
    "    return abs(c1-c2)\n",
    "\n",
    "fit(b)"
   ]
  },
  {
   "cell_type": "markdown",
   "metadata": {},
   "source": [
    "Bây giờ chúng ta cần định nghĩa các hàm cho đột biến và lai ghép:  \n",
    "* Đối với đột biến, chúng ta sẽ chọn một bit ngẫu nhiên và đảo ngược nó (thay đổi từ 0 thành 1 và ngược lại).  \n",
    "* Đối với lai ghép, chúng ta sẽ lấy một số bit từ một vector và một số bit từ vector khác. Chúng ta sẽ sử dụng cùng hàm `generate` để chọn ngẫu nhiên, bit nào sẽ được lấy từ mặt nạ đầu vào nào.  \n"
   ]
  },
  {
   "cell_type": "code",
   "execution_count": 7,
   "metadata": {
    "trusted": true
   },
   "outputs": [],
   "source": [
    "def mutate(b):\n",
    "    x = b.copy()\n",
    "    i = random.randint(0,len(b)-1)\n",
    "    x[i] = 1-x[i]\n",
    "    return x\n",
    "\n",
    "def xover(b1,b2):\n",
    "    x = generate(b1)\n",
    "    return b1*x+b2*(1-x)"
   ]
  },
  {
   "cell_type": "markdown",
   "metadata": {},
   "source": [
    "Hãy tạo quần thể ban đầu của các nghiệm $P$ với kích thước `pop_size`:\n"
   ]
  },
  {
   "cell_type": "code",
   "execution_count": 8,
   "metadata": {
    "trusted": true
   },
   "outputs": [],
   "source": [
    "pop_size = 30\n",
    "P = [generate(S) for _ in range(pop_size)]"
   ]
  },
  {
   "cell_type": "markdown",
   "metadata": {},
   "source": [
    "Bây giờ, hàm chính để thực hiện quá trình tiến hóa. `n` là số bước tiến hóa cần thực hiện. Ở mỗi bước:\n",
    "* Với xác suất 30%, chúng ta thực hiện một đột biến và thay thế phần tử có hàm `fit` kém nhất bằng phần tử đã được đột biến\n",
    "* Với xác suất 70%, chúng ta thực hiện lai ghép\n",
    "\n",
    "Hàm trả về giải pháp tốt nhất (gene tương ứng với giải pháp tốt nhất) và lịch sử của giá trị nhỏ nhất của hàm fit trong quần thể ở mỗi lần lặp.\n"
   ]
  },
  {
   "cell_type": "code",
   "execution_count": 9,
   "metadata": {
    "trusted": true
   },
   "outputs": [
    {
     "name": "stdout",
     "output_type": "stream",
     "text": [
      "[0 0 0 1 1 0 0 0 0 1 1 1 0 1 0 0 0 1 0 1 0 1 0 1 0 1 1 0 0 0 0 0 1 0 1 1 0\n",
      " 0 0 0 1 1 0 0 1 0 0 0 0 0 1 0 0 1 1 1 1 1 1 1 0 1 1 0 1 1 1 1 1 0 1 0 0 0\n",
      " 0 1 1 1 0 1 0 1 1 1 1 1 0 0 0 1 1 0 1 0 0 1 0 0 1 1 1 1 1 1 1 1 0 1 0 1 1\n",
      " 0 1 1 0 0 0 0 1 1 1 1 0 1 0 0 1 0 1 1 1 0 1 0 0 0 0 0 0 1 1 0 0 0 1 1 0 0\n",
      " 1 0 1 1 1 1 1 0 1 0 1 0 1 1 1 0 0 0 1 1 0 0 0 0 0 0 1 1 1 0 1 0 0 0 1 0 1\n",
      " 0 1 0 1 0 0 1 1 1 0 1 1 0 0 1] 4\n"
     ]
    }
   ],
   "source": [
    "def evolve(P,S=S,n=2000):\n",
    "    res = []\n",
    "    for _ in range(n):\n",
    "        f = min([fit(b) for b in P])\n",
    "        res.append(f)\n",
    "        if f==0:\n",
    "            break\n",
    "        if random.randint(1,10)<3:\n",
    "            i = random.randint(0,len(P)-1)\n",
    "            b = mutate(P[i])\n",
    "            i = np.argmax([fit(z) for z in P])\n",
    "            P[i] = b\n",
    "        else:\n",
    "            i = random.randint(0,len(P)-1)\n",
    "            j = random.randint(0,len(P)-1)\n",
    "            b = xover(P[i],P[j])\n",
    "            if fit(b)<fit(P[i]):\n",
    "                P[i]=b\n",
    "            elif fit(b)<fit(P[j]):\n",
    "                P[j]=b\n",
    "            else:\n",
    "                pass\n",
    "    i = np.argmin([fit(b) for b in P])\n",
    "    return (P[i],res)\n",
    "\n",
    "(s,hist) = evolve(P)\n",
    "print(s,fit(s))"
   ]
  },
  {
   "cell_type": "markdown",
   "metadata": {},
   "source": [
    "Bạn có thể thấy rằng chúng tôi đã giảm thiểu hàm `fit` khá nhiều! Đây là biểu đồ cho thấy cách hàm `fit` cho toàn bộ quần thể hoạt động trong quá trình này.\n"
   ]
  },
  {
   "cell_type": "code",
   "execution_count": 10,
   "metadata": {
    "trusted": true
   },
   "outputs": [
    {
     "data": {
      "image/png": "[encoded data removed]",
      "text/plain": [
       "<Figure size 432x288 with 1 Axes>"
      ]
     },
     "metadata": {
      "needs_background": "light"
     },
     "output_type": "display_data"
    }
   ],
   "source": [
    "plt.plot(hist)\n",
    "plt.show()"
   ]
  },
  {
   "cell_type": "markdown",
   "metadata": {},
   "source": [
    "## Vấn đề 2: Bài toán N Hậu\n",
    "\n",
    "**Nhiệm vụ**:  \n",
    "Bạn cần đặt $N$ quân hậu trên bàn cờ kích thước $N\\times N$ sao cho chúng không tấn công lẫn nhau.\n",
    "\n",
    "Trước tiên, hãy giải quyết vấn đề này mà không sử dụng thuật toán di truyền, bằng cách tìm kiếm toàn diện. Chúng ta có thể biểu diễn trạng thái của bàn cờ bằng danh sách $L$, trong đó số thứ $i$ trong danh sách là vị trí ngang của quân hậu ở hàng thứ $i$. Rõ ràng rằng mỗi giải pháp sẽ chỉ có một quân hậu trên mỗi hàng, và mỗi hàng sẽ có một quân hậu.\n",
    "\n",
    "Mục tiêu của chúng ta là tìm giải pháp đầu tiên cho vấn đề, sau đó dừng việc tìm kiếm. Bạn có thể dễ dàng mở rộng hàm này để tạo ra tất cả các vị trí có thể cho các quân hậu.\n"
   ]
  },
  {
   "cell_type": "code",
   "execution_count": 11,
   "metadata": {
    "trusted": true
   },
   "outputs": [
    {
     "name": "stdout",
     "output_type": "stream",
     "text": [
      "[1, 5, 8, 6, 3, 7, 2, 4]\n"
     ]
    },
    {
     "data": {
      "text/plain": [
       "True"
      ]
     },
     "execution_count": 11,
     "metadata": {},
     "output_type": "execute_result"
    }
   ],
   "source": [
    "N = 8\n",
    "\n",
    "def checkbeats(i_new,j_new,l):\n",
    "    for i,j in enumerate(l,start=1):\n",
    "        if j==j_new:\n",
    "            return False\n",
    "        else:\n",
    "            if abs(j-j_new) == i_new-i:\n",
    "                return False\n",
    "    return True\n",
    "\n",
    "def nqueens(l,N=8,disp=True):\n",
    "    if len(l)==N:\n",
    "        if disp: print(l)\n",
    "        return True\n",
    "    else:\n",
    "        for j in range(1,N+1):\n",
    "            if checkbeats(len(l)+1,j,l):\n",
    "                l.append(j)\n",
    "                if nqueens(l,N,disp): return True\n",
    "                else: l.pop()\n",
    "        return False\n",
    "            \n",
    "nqueens([],8)\n"
   ]
  },
  {
   "cell_type": "markdown",
   "metadata": {},
   "source": [
    "Bây giờ hãy đo xem mất bao lâu để tìm được lời giải cho bài toán 20 quân hậu:\n"
   ]
  },
  {
   "cell_type": "code",
   "execution_count": 12,
   "metadata": {
    "trusted": true
   },
   "outputs": [
    {
     "name": "stdout",
     "output_type": "stream",
     "text": [
      "10.6 s ± 2.17 s per loop (mean ± std. dev. of 7 runs, 1 loop each)\n"
     ]
    }
   ],
   "source": [
    "%timeit nqueens([],20,False)"
   ]
  },
  {
   "cell_type": "markdown",
   "metadata": {},
   "source": [
    "Bây giờ, chúng ta sẽ giải quyết vấn đề này bằng cách sử dụng thuật toán di truyền. Giải pháp này được lấy cảm hứng từ [bài viết trên blog này](https://kushalvyas.github.io/gen_8Q.html).\n",
    "\n",
    "Chúng ta sẽ biểu diễn mỗi giải pháp bằng cùng một danh sách có độ dài $N$, và như một hàm `fit`, chúng ta sẽ tính số lượng quân hậu tấn công lẫn nhau:\n"
   ]
  },
  {
   "cell_type": "code",
   "execution_count": 13,
   "metadata": {
    "trusted": true
   },
   "outputs": [],
   "source": [
    "def fit(L):\n",
    "    x=0\n",
    "    for i1,j1 in enumerate(L,1):\n",
    "        for i2,j2 in enumerate(L,1):\n",
    "            if i2>i1:\n",
    "                if j2==j1 or (abs(j2-j1)==i2-i1): x+=1\n",
    "    return x"
   ]
  },
  {
   "cell_type": "markdown",
   "metadata": {},
   "source": [
    "Vì việc tính toán hàm thích nghi tốn nhiều thời gian, hãy lưu trữ mỗi giải pháp trong quần thể cùng với giá trị của hàm thích nghi. Hãy tạo quần thể ban đầu:\n"
   ]
  },
  {
   "cell_type": "code",
   "execution_count": 14,
   "metadata": {
    "trusted": true
   },
   "outputs": [
    {
     "data": {
      "text/plain": [
       "[(array([2, 3, 8, 7, 5, 4, 1, 6]), 4),\n",
       " (array([3, 4, 5, 1, 2, 8, 6, 7]), 8),\n",
       " (array([1, 3, 7, 4, 5, 8, 6, 2]), 6),\n",
       " (array([1, 5, 4, 6, 8, 3, 7, 2]), 4),\n",
       " (array([3, 5, 7, 1, 8, 6, 4, 2]), 3)]"
      ]
     },
     "execution_count": 14,
     "metadata": {},
     "output_type": "execute_result"
    }
   ],
   "source": [
    "def generate_one(N):\n",
    "    x = np.arange(1,N+1)\n",
    "    np.random.shuffle(x)\n",
    "    return (x,fit(x))\n",
    "\n",
    "def generate(N,NP):\n",
    "    return [generate_one(N) for _ in range(NP)]\n",
    "\n",
    "generate(8,5)"
   ]
  },
  {
   "cell_type": "markdown",
   "metadata": {},
   "source": [
    "Bây giờ chúng ta cần định nghĩa các hàm đột biến và lai ghép. Lai ghép sẽ kết hợp hai gen lại với nhau bằng cách chia chúng tại một điểm ngẫu nhiên và nối hai phần từ các gen khác nhau lại với nhau.\n"
   ]
  },
  {
   "cell_type": "code",
   "execution_count": 15,
   "metadata": {
    "trusted": true
   },
   "outputs": [
    {
     "data": {
      "text/plain": [
       "array([1, 2, 7, 8])"
      ]
     },
     "execution_count": 15,
     "metadata": {},
     "output_type": "execute_result"
    }
   ],
   "source": [
    "def mutate(G):\n",
    "    x=random.randint(0,len(G)-1)\n",
    "    G[x]=random.randint(1,len(G))\n",
    "    return G\n",
    "    \n",
    "def xover(G1,G2):\n",
    "    x=random.randint(0,len(G1))\n",
    "    return np.concatenate((G1[:x],G2[x:]))\n",
    "\n",
    "xover([1,2,3,4],[5,6,7,8])"
   ]
  },
  {
   "cell_type": "markdown",
   "metadata": {},
   "source": []
  },
  {
   "cell_type": "code",
   "execution_count": 17,
   "metadata": {
    "trusted": true
   },
   "outputs": [],
   "source": [
    "def choose_rand(P):\n",
    "    N=len(P[0][0])\n",
    "    mf = N*(N-1)//2 # max fitness fn\n",
    "    z = [mf-x[1] for x in P]\n",
    "    tf = sum(z) # total fitness\n",
    "    w = [x/tf for x in z]\n",
    "    p = np.random.choice(len(P),2,False,p=w)\n",
    "    return p[0],p[1]\n",
    "\n",
    "def choose(P):\n",
    "    def ch(w):\n",
    "        p=[]\n",
    "        while p==[]:\n",
    "            r = random.random()\n",
    "            p = [i for i,x in enumerate(P) if x[1]>=r]\n",
    "        return random.choice(p)\n",
    "    N=len(P[0][0])\n",
    "    mf = N*(N-1)//2 # max fitness fn\n",
    "    z = [mf-x[1] for x in P]\n",
    "    tf = sum(z) # total fitness\n",
    "    w = [x/tf for x in z]\n",
    "    p1=p2=0\n",
    "    while p1==p2:\n",
    "        p1 = ch(w)\n",
    "        p2 = ch(w)\n",
    "    return p1,p2"
   ]
  },
  {
   "cell_type": "markdown",
   "metadata": {},
   "source": [
    "Bây giờ, chúng ta sẽ định nghĩa vòng lặp tiến hóa chính. Chúng ta sẽ làm cho logic hơi khác so với ví dụ trước để cho thấy rằng bạn có thể sáng tạo. Chúng ta sẽ lặp lại cho đến khi đạt được giải pháp hoàn hảo (hàm fitness = 0), và ở mỗi bước, chúng ta sẽ lấy thế hệ hiện tại và tạo ra thế hệ mới có cùng kích thước. Điều này được thực hiện bằng hàm `nxgeneration`, theo các bước sau:\n",
    "\n",
    "1. Loại bỏ các giải pháp kém phù hợp nhất - có hàm `discard_unfit` để thực hiện việc này\n",
    "2. Thêm một số giải pháp ngẫu nhiên vào thế hệ\n",
    "3. Tạo thế hệ mới có kích thước `gen_size` bằng cách thực hiện các bước sau cho mỗi gene mới:\n",
    "    - chọn hai gene ngẫu nhiên, với xác suất tỷ lệ thuận với hàm fitness\n",
    "    - tính toán một phép lai (crossover)\n",
    "    - áp dụng một đột biến với xác suất `mutation_prob`\n"
   ]
  },
  {
   "cell_type": "code",
   "execution_count": 20,
   "metadata": {
    "trusted": true
   },
   "outputs": [
    {
     "data": {
      "text/plain": [
       "(array([4, 7, 5, 3, 1, 6, 8, 2]), 0)"
      ]
     },
     "execution_count": 20,
     "metadata": {},
     "output_type": "execute_result"
    }
   ],
   "source": [
    "mutation_prob = 0.1\n",
    "\n",
    "def discard_unfit(P):\n",
    "    P.sort(key=lambda x:x[1])\n",
    "    return P[:len(P)//3]\n",
    "\n",
    "def nxgeneration(P):\n",
    "    gen_size=len(P)\n",
    "    P = discard_unfit(P)\n",
    "    P.extend(generate(len(P[0][0]),3))\n",
    "    new_gen = []\n",
    "    for _ in range(gen_size):\n",
    "        p1,p2 = choose_rand(P)\n",
    "        n = xover(P[p1][0],P[p2][0])\n",
    "        if random.random()<mutation_prob:\n",
    "            n=mutate(n)\n",
    "        nf = fit(n)\n",
    "        new_gen.append((n,nf))\n",
    "        '''\n",
    "        if (nf<=P[p1][1]) or (nf<=P[p2][1]):\n",
    "            new_gen.append((n,nf))\n",
    "        elif (P[p1][1]<P[p2][1]):\n",
    "            new_gen.append(P[p1])\n",
    "        else:\n",
    "            new_gen.append(P[p2])\n",
    "        '''\n",
    "    return new_gen\n",
    "    \n",
    "def genetic(N,pop_size=100):\n",
    "    P = generate(N,pop_size)\n",
    "    mf = min([x[1] for x in P])\n",
    "    n=0\n",
    "    while mf>0:\n",
    "        #print(\"Generation {0}, fit={1}\".format(n,mf))\n",
    "        n+=1\n",
    "        mf = min([x[1] for x in P])\n",
    "        P = nxgeneration(P)\n",
    "    mi = np.argmin([x[1] for x in P])\n",
    "    return P[mi]\n",
    "\n",
    "genetic(8)"
   ]
  },
  {
   "cell_type": "markdown",
   "metadata": {},
   "source": [
    "Thật thú vị rằng hầu hết các lần chúng ta có thể tìm được giải pháp khá nhanh chóng, nhưng trong một số trường hợp hiếm hoi, tối ưu hóa đạt đến cực tiểu cục bộ và quá trình bị mắc kẹt trong thời gian dài. Điều quan trọng là phải tính đến điều đó khi bạn đo thời gian trung bình: mặc dù trong hầu hết các trường hợp thuật toán di truyền sẽ nhanh hơn tìm kiếm toàn diện, nhưng trong một số trường hợp nó có thể mất nhiều thời gian hơn. Để khắc phục vấn đề này, thường có ý nghĩa khi giới hạn số thế hệ cần xem xét, và nếu chúng ta không thể tìm được giải pháp - chúng ta có thể bắt đầu lại từ đầu.\n"
   ]
  },
  {
   "cell_type": "code",
   "execution_count": 19,
   "metadata": {
    "trusted": true
   },
   "outputs": [
    {
     "name": "stdout",
     "output_type": "stream",
     "text": [
      "The slowest run took 18.71 times longer than the fastest. This could mean that an intermediate result is being cached.\n",
      "26.4 s ± 28.7 s per loop (mean ± std. dev. of 7 runs, 1 loop each)\n"
     ]
    }
   ],
   "source": [
    "%timeit genetic(10)"
   ]
  },
  {
   "cell_type": "markdown",
   "metadata": {},
   "source": [
    "\n---\n\n**Tuyên bố miễn trừ trách nhiệm**:  \nTài liệu này đã được dịch bằng dịch vụ dịch thuật AI [Co-op Translator](https://github.com/Azure/co-op-translator). Mặc dù chúng tôi cố gắng đảm bảo độ chính xác, xin lưu ý rằng các bản dịch tự động có thể chứa lỗi hoặc không chính xác. Tài liệu gốc bằng ngôn ngữ bản địa nên được coi là nguồn thông tin chính thức. Đối với các thông tin quan trọng, khuyến nghị sử dụng dịch vụ dịch thuật chuyên nghiệp từ con người. Chúng tôi không chịu trách nhiệm cho bất kỳ sự hiểu lầm hoặc diễn giải sai nào phát sinh từ việc sử dụng bản dịch này.\n"
   ]
  }
 ],
 "metadata": {
  "interpreter": {
   "hash": "86193a1ab0ba47eac1c69c1756090baa3b420b3eea7d4aafab8b85f8b312f0c5"
  },
  "kernelspec": {
   "display_name": "Python 3.6",
   "language": "python",
   "name": "python3"
  },
  "language_info": {
   "codemirror_mode": {
    "name": "ipython",
    "version": 3
   },
   "file_extension": ".py",
   "mimetype": "text/x-python",
   "name": "python",
   "nbconvert_exporter": "python",
   "pygments_lexer": "ipython3",
   "version": "3.9.5"
  },
  "coopTranslator": {
   "original_hash": "1012c117808753433f6e2696e775ff4b",
   "translation_date": "2025-08-29T12:54:34+00:00",
   "source_file": "lessons/6-Other/21-GeneticAlgorithms/Genetic.ipynb",
   "language_code": "vi"
  }
 },
 "nbformat": 4,
 "nbformat_minor": 2
}