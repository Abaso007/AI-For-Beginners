{
 "cells": [
  {
   "cell_type": "markdown",
   "metadata": {},
   "source": [
    "## Registrering af håndbevægelse ved hjælp af optisk flow\n",
    "\n",
    "Dette laboratorium er en del af [AI for Beginners Curriculum](http://aka.ms/ai-beginners).\n",
    "\n",
    "Overvej [denne video](../../../../../../lessons/4-ComputerVision/06-IntroCV/lab/palm-movement.mp4), hvor en persons håndflade bevæger sig til venstre/højre/op/ned på en stabil baggrund.\n",
    "\n",
    "**Dit mål** vil være at bruge optisk flow til at afgøre, hvilke dele af videoen der indeholder op/ned/venstre/højre bevægelser.\n",
    "\n",
    "Start med at hente videorammer som beskrevet i forelæsningen:\n"
   ]
  },
  {
   "cell_type": "code",
   "execution_count": null,
   "metadata": {},
   "outputs": [],
   "source": [
    "# Code here"
   ]
  },
  {
   "cell_type": "markdown",
   "metadata": {},
   "source": [
    "Nu skal du beregne tætte optiske flow-rammer som beskrevet i forelæsningen og konvertere tætte optiske flow til polære koordinater:\n"
   ]
  },
  {
   "cell_type": "code",
   "execution_count": null,
   "metadata": {},
   "outputs": [],
   "source": [
    "# Code here"
   ]
  },
  {
   "cell_type": "markdown",
   "metadata": {},
   "source": [
    "Byg et histogram over retninger for hver optiske flow-ramme. Et histogram viser, hvor mange vektorer der falder inden for en bestemt bin, og det bør adskille forskellige bevægelsesretninger på rammen.\n",
    "\n",
    "> Du kan også vælge at nulstille alle vektorer, hvis størrelse er under en bestemt tærskel. Dette vil fjerne små ekstra bevægelser i videoen, såsom øjne og hoved.\n",
    "\n",
    "Plott histogrammerne for nogle af rammerne.\n"
   ]
  },
  {
   "cell_type": "code",
   "execution_count": null,
   "metadata": {},
   "outputs": [],
   "source": [
    "# Code here"
   ]
  },
  {
   "cell_type": "markdown",
   "metadata": {},
   "source": [
    "Når man ser på histogrammer, burde det være ret ligetil at bestemme bevægelsesretningen. Du skal vælge de bins, der svarer til op/ned/venstre/højre retninger, og som er over en vis tærskel.\n"
   ]
  },
  {
   "cell_type": "code",
   "execution_count": null,
   "metadata": {},
   "outputs": [],
   "source": [
    "# Code here"
   ]
  },
  {
   "cell_type": "markdown",
   "metadata": {},
   "source": [
    "Tillykke! Hvis du har udført alle trin ovenfor, har du gennemført laboratoriet!\n"
   ]
  },
  {
   "cell_type": "markdown",
   "metadata": {},
   "source": [
    "\n---\n\n**Ansvarsfraskrivelse**:  \nDette dokument er blevet oversat ved hjælp af AI-oversættelsestjenesten [Co-op Translator](https://github.com/Azure/co-op-translator). Selvom vi bestræber os på nøjagtighed, skal du være opmærksom på, at automatiserede oversættelser kan indeholde fejl eller unøjagtigheder. Det originale dokument på dets oprindelige sprog bør betragtes som den autoritative kilde. For kritisk information anbefales professionel menneskelig oversættelse. Vi påtager os ikke ansvar for eventuelle misforståelser eller fejltolkninger, der opstår som følge af brugen af denne oversættelse.\n"
   ]
  }
 ],
 "metadata": {
  "language_info": {
   "name": "python"
  },
  "orig_nbformat": 4,
  "coopTranslator": {
   "original_hash": "153d9e417e079bf62f8f693002d0deaf",
   "translation_date": "2025-08-28T16:39:33+00:00",
   "source_file": "lessons/4-ComputerVision/06-IntroCV/lab/MovementDetection.ipynb",
   "language_code": "da"
  }
 },
 "nbformat": 4,
 "nbformat_minor": 2
}