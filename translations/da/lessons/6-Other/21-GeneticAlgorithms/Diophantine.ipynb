{
 "cells": [
  {
   "cell_type": "markdown",
   "metadata": {},
   "source": [
    "## Opgave: Diofantiske Ligninger\n",
    "\n",
    "> Denne opgave er en del af [AI for Beginners Curriculum](http://github.com/microsoft/ai-for-beginners) og er inspireret af [dette indlæg](https://habr.com/post/128704/).\n",
    "\n",
    "Dit mål er at løse den såkaldte **Diofantiske ligning** - en ligning med heltalsrødder og heltalskoefficienter. For eksempel, overvej følgende ligning:\n",
    "\n",
    "$$a+2b+3c+4d=30$$\n",
    "\n",
    "Du skal finde heltalsrødder $a$,$b$,$c$,$d\\in\\mathbb{N}$, der opfylder denne ligning.\n",
    "\n",
    "Tips:\n",
    "1. Du kan overveje rødderne at være i intervallet [0;30]\n",
    "1. Som et gen kan du overveje at bruge listen af rodværdier\n"
   ]
  },
  {
   "cell_type": "markdown",
   "metadata": {},
   "source": []
  },
  {
   "cell_type": "markdown",
   "metadata": {},
   "source": [
    "\n---\n\n**Ansvarsfraskrivelse**:  \nDette dokument er blevet oversat ved hjælp af AI-oversættelsestjenesten [Co-op Translator](https://github.com/Azure/co-op-translator). Selvom vi bestræber os på nøjagtighed, skal du være opmærksom på, at automatiserede oversættelser kan indeholde fejl eller unøjagtigheder. Det originale dokument på dets oprindelige sprog bør betragtes som den autoritative kilde. For kritisk information anbefales professionel menneskelig oversættelse. Vi påtager os ikke ansvar for eventuelle misforståelser eller fejltolkninger, der opstår som følge af brugen af denne oversættelse.\n"
   ]
  }
 ],
 "metadata": {
  "language_info": {
   "name": "python"
  },
  "orig_nbformat": 4,
  "coopTranslator": {
   "original_hash": "a967e1fa1e11ab2b6467b19349a4a9aa",
   "translation_date": "2025-08-28T16:08:21+00:00",
   "source_file": "lessons/6-Other/21-GeneticAlgorithms/Diophantine.ipynb",
   "language_code": "da"
  }
 },
 "nbformat": 4,
 "nbformat_minor": 2
}