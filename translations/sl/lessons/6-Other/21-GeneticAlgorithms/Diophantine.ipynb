{
 "cells": [
  {
   "cell_type": "markdown",
   "metadata": {},
   "source": [
    "## Naloga: Diofantove enačbe\n",
    "\n",
    "> Ta naloga je del [Učnega načrta za začetnike v umetni inteligenci](http://github.com/microsoft/ai-for-beginners) in je navdihnjena s [tem prispevkom](https://habr.com/post/128704/).\n",
    "\n",
    "Vaša naloga je rešiti tako imenovano **Diofantovo enačbo** - enačbo s celimi koreni in celimi koeficienti. Na primer, razmislite o naslednji enačbi:\n",
    "\n",
    "$$a+2b+3c+4d=30$$\n",
    "\n",
    "Poiščite cele korene $a$,$b$,$c$,$d\\in\\mathbb{N}$, ki ustrezajo tej enačbi.\n",
    "\n",
    "Namigi:\n",
    "1. Korene lahko obravnavate v intervalu [0;30].\n",
    "1. Kot gen razmislite o uporabi seznama vrednosti korenov.\n"
   ]
  },
  {
   "cell_type": "markdown",
   "metadata": {},
   "source": []
  },
  {
   "cell_type": "markdown",
   "metadata": {},
   "source": [
    "\n---\n\n**Omejitev odgovornosti**:  \nTa dokument je bil preveden z uporabo storitve za strojno prevajanje [Co-op Translator](https://github.com/Azure/co-op-translator). Čeprav si prizadevamo za natančnost, vas prosimo, da se zavedate, da lahko avtomatizirani prevodi vsebujejo napake ali netočnosti. Izvirni dokument v njegovem izvirnem jeziku je treba obravnavati kot avtoritativni vir. Za ključne informacije priporočamo strokovno človeško prevajanje. Ne prevzemamo odgovornosti za morebitna nesporazumevanja ali napačne razlage, ki izhajajo iz uporabe tega prevoda.\n"
   ]
  }
 ],
 "metadata": {
  "language_info": {
   "name": "python"
  },
  "orig_nbformat": 4,
  "coopTranslator": {
   "original_hash": "a967e1fa1e11ab2b6467b19349a4a9aa",
   "translation_date": "2025-08-30T07:08:05+00:00",
   "source_file": "lessons/6-Other/21-GeneticAlgorithms/Diophantine.ipynb",
   "language_code": "sl"
  }
 },
 "nbformat": 4,
 "nbformat_minor": 2
}