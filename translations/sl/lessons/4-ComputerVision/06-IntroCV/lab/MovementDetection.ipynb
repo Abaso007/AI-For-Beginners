{
 "cells": [
  {
   "cell_type": "markdown",
   "metadata": {},
   "source": [
    "## Zaznavanje gibanja dlani z uporabo optičnega toka\n",
    "\n",
    "Ta laboratorijska vaja je del [Učnega načrta za začetnike v umetni inteligenci](http://aka.ms/ai-beginners).\n",
    "\n",
    "Oglejte si [ta video](../../../../../../lessons/4-ComputerVision/06-IntroCV/lab/palm-movement.mp4), v katerem se dlan osebe premika levo/desno/gor/dol na stabilnem ozadju.\n",
    "\n",
    "**Vaš cilj** bo z uporabo optičnega toka določiti, kateri deli videa vsebujejo gibanja gor/dol/levo/desno.\n",
    "\n",
    "Začnite z zajemanjem sličic iz videa, kot je opisano v predavanju:\n"
   ]
  },
  {
   "cell_type": "code",
   "execution_count": null,
   "metadata": {},
   "outputs": [],
   "source": [
    "# Code here"
   ]
  },
  {
   "cell_type": "markdown",
   "metadata": {},
   "source": [
    "Zdaj izračunajte goste optične tokovne okvirje, kot je opisano v predavanju, in pretvorite gost optični tok v polarne koordinate:\n"
   ]
  },
  {
   "cell_type": "code",
   "execution_count": null,
   "metadata": {},
   "outputs": [],
   "source": [
    "# Code here"
   ]
  },
  {
   "cell_type": "markdown",
   "metadata": {},
   "source": [
    "Zgradite histogram smeri za vsak optični tok okvirja. Histogram prikazuje, koliko vektorjev spada v določen razpon, in naj loči različne smeri gibanja na okvirju.\n",
    "\n",
    "> Morda boste želeli izničiti vse vektorje, katerih velikost je pod določenim pragom. To bo odstranilo majhne dodatne premike v videu, kot so oči in glava.\n",
    "\n",
    "Prikažite histograme za nekatere okvirje.\n"
   ]
  },
  {
   "cell_type": "code",
   "execution_count": null,
   "metadata": {},
   "outputs": [],
   "source": [
    "# Code here"
   ]
  },
  {
   "cell_type": "markdown",
   "metadata": {},
   "source": [
    "Pri pregledu histogramov bi moralo biti precej enostavno določiti smer gibanja. Izbrati morate tiste razrede, ki ustrezajo smerem gor/dol/levo/desno in so nad določenim pragom.\n"
   ]
  },
  {
   "cell_type": "code",
   "execution_count": null,
   "metadata": {},
   "outputs": [],
   "source": [
    "# Code here"
   ]
  },
  {
   "cell_type": "markdown",
   "metadata": {},
   "source": [
    "Čestitamo! Če ste opravili vse zgornje korake, ste zaključili laboratorijsko vajo!\n"
   ]
  },
  {
   "cell_type": "markdown",
   "metadata": {},
   "source": [
    "\n---\n\n**Omejitev odgovornosti**:  \nTa dokument je bil preveden z uporabo storitve za strojno prevajanje [Co-op Translator](https://github.com/Azure/co-op-translator). Čeprav si prizadevamo za natančnost, vas prosimo, da upoštevate, da lahko avtomatizirani prevodi vsebujejo napake ali netočnosti. Izvirni dokument v njegovem izvirnem jeziku je treba obravnavati kot avtoritativni vir. Za ključne informacije priporočamo strokovno človeško prevajanje. Ne prevzemamo odgovornosti za morebitna nesporazumevanja ali napačne razlage, ki izhajajo iz uporabe tega prevoda.\n"
   ]
  }
 ],
 "metadata": {
  "language_info": {
   "name": "python"
  },
  "orig_nbformat": 4,
  "coopTranslator": {
   "original_hash": "153d9e417e079bf62f8f693002d0deaf",
   "translation_date": "2025-08-30T07:29:30+00:00",
   "source_file": "lessons/4-ComputerVision/06-IntroCV/lab/MovementDetection.ipynb",
   "language_code": "sl"
  }
 },
 "nbformat": 4,
 "nbformat_minor": 2
}