{
 "cells": [
  {
   "cell_type": "markdown",
   "metadata": {},
   "source": [
    "## 作业：丢番图方程\n",
    "\n",
    "> 本作业是 [AI for Beginners Curriculum](http://github.com/microsoft/ai-for-beginners) 的一部分，并受到 [这篇文章](https://habr.com/post/128704/) 的启发。\n",
    "\n",
    "你的目标是解决所谓的 **丢番图方程**——一个具有整数根和整数系数的方程。例如，考虑以下方程：\n",
    "\n",
    "$$a+2b+3c+4d=30$$\n",
    "\n",
    "你需要找到满足该方程的整数根 $a$,$b$,$c$,$d\\in\\mathbb{N}$。\n",
    "\n",
    "提示：\n",
    "1. 可以考虑根值在区间 [0;30] 内\n",
    "1. 作为基因，可以考虑使用根值列表\n"
   ]
  },
  {
   "cell_type": "markdown",
   "metadata": {},
   "source": []
  },
  {
   "cell_type": "markdown",
   "metadata": {},
   "source": [
    "\n---\n\n**免责声明**：  \n本文档使用AI翻译服务 [Co-op Translator](https://github.com/Azure/co-op-translator) 进行翻译。尽管我们努力确保翻译的准确性，但请注意，自动翻译可能包含错误或不准确之处。原始语言的文档应被视为权威来源。对于关键信息，建议使用专业人工翻译。我们不对因使用此翻译而产生的任何误解或误读承担责任。\n"
   ]
  }
 ],
 "metadata": {
  "language_info": {
   "name": "python"
  },
  "orig_nbformat": 4,
  "coopTranslator": {
   "original_hash": "a967e1fa1e11ab2b6467b19349a4a9aa",
   "translation_date": "2025-08-31T09:21:13+00:00",
   "source_file": "lessons/6-Other/21-GeneticAlgorithms/Diophantine.ipynb",
   "language_code": "zh"
  }
 },
 "nbformat": 4,
 "nbformat_minor": 2
}