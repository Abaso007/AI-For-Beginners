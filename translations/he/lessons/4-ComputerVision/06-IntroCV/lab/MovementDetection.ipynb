{
 "cells": [
  {
   "cell_type": "markdown",
   "metadata": {},
   "source": [
    "## זיהוי תנועת כף יד באמצעות Optical Flow\n",
    "\n",
    "מעבדה זו היא חלק מ[תוכנית הלימודים למתחילים ב-AI](http://aka.ms/ai-beginners).\n",
    "\n",
    "שקול [וידאו זה](../../../../../../lessons/4-ComputerVision/06-IntroCV/lab/palm-movement.mp4), שבו כף יד של אדם נעה שמאלה/ימינה/למעלה/למטה על רקע יציב.\n",
    "\n",
    "**המטרה שלך** תהיה להשתמש ב-Optical Flow כדי לקבוע אילו חלקים מהווידאו מכילים תנועות למעלה/למטה/שמאלה/ימינה.\n",
    "\n",
    "התחל בקבלת פריימים מהווידאו כפי שתואר בהרצאה:\n"
   ]
  },
  {
   "cell_type": "code",
   "execution_count": null,
   "metadata": {},
   "outputs": [],
   "source": [
    "# Code here"
   ]
  },
  {
   "cell_type": "markdown",
   "metadata": {},
   "source": [
    "עכשיו, חשב מסגרות זרימה אופטית צפופה כפי שתואר בהרצאה, והמר זרימה אופטית צפופה לקואורדינטות פולריות:\n"
   ]
  },
  {
   "cell_type": "code",
   "execution_count": null,
   "metadata": {},
   "outputs": [],
   "source": [
    "# Code here"
   ]
  },
  {
   "cell_type": "markdown",
   "metadata": {},
   "source": [
    "בנה היסטוגרמה של כיוונים עבור כל פריים של זרימת האופטית. היסטוגרמה מציגה כמה וקטורים נופלים תחת כל תא, והיא אמורה להפריד בין כיווני תנועה שונים בפריים.\n",
    "\n",
    "> ייתכן שתרצה לאפס את כל הוקטורים שהמשרעת שלהם נמוכה מסף מסוים. זה יסיר תנועות קטנות ומיותרות בסרטון, כמו עיניים וראש.\n",
    "\n",
    "צייר את ההיסטוגרמות עבור כמה מהפריימים.\n"
   ]
  },
  {
   "cell_type": "code",
   "execution_count": null,
   "metadata": {},
   "outputs": [],
   "source": [
    "# Code here"
   ]
  },
  {
   "cell_type": "markdown",
   "metadata": {},
   "source": [
    "בהסתכלות על היסטוגרמות, זה אמור להיות די פשוט לקבוע את כיוון התנועה. עליך לבחור את אותם תאים שמתאימים לכיוונים של מעלה/מטה/שמאל/ימין, ושעוברים סף מסוים.\n"
   ]
  },
  {
   "cell_type": "code",
   "execution_count": null,
   "metadata": {},
   "outputs": [],
   "source": [
    "# Code here"
   ]
  },
  {
   "cell_type": "markdown",
   "metadata": {},
   "source": [
    "מזל טוב! אם ביצעת את כל השלבים לעיל, סיימת את המעבדה!\n"
   ]
  },
  {
   "cell_type": "markdown",
   "metadata": {},
   "source": [
    "\n---\n\n**כתב ויתור**:  \nמסמך זה תורגם באמצעות שירות תרגום מבוסס בינה מלאכותית [Co-op Translator](https://github.com/Azure/co-op-translator). למרות שאנו שואפים לדיוק, יש לקחת בחשבון שתרגומים אוטומטיים עשויים להכיל שגיאות או אי-דיוקים. המסמך המקורי בשפתו המקורית נחשב למקור הסמכותי. למידע קריטי, מומלץ להשתמש בתרגום מקצועי על ידי מתרגם אנושי. איננו נושאים באחריות לכל אי-הבנה או פרשנות שגויה הנובעת משימוש בתרגום זה.\n"
   ]
  }
 ],
 "metadata": {
  "language_info": {
   "name": "python"
  },
  "orig_nbformat": 4,
  "coopTranslator": {
   "original_hash": "153d9e417e079bf62f8f693002d0deaf",
   "translation_date": "2025-08-28T20:46:49+00:00",
   "source_file": "lessons/4-ComputerVision/06-IntroCV/lab/MovementDetection.ipynb",
   "language_code": "he"
  }
 },
 "nbformat": 4,
 "nbformat_minor": 2
}