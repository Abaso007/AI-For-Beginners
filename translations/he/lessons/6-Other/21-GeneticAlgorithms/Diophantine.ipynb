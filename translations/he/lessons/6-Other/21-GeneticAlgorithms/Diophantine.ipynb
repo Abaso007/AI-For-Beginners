{
 "cells": [
  {
   "cell_type": "markdown",
   "metadata": {},
   "source": [
    "## משימה: משוואות דיופנטיות\n",
    "\n",
    "> משימה זו היא חלק מ[תוכנית הלימודים למתחילים ב-AI](http://github.com/microsoft/ai-for-beginners) ומבוססת על [הפוסט הזה](https://habr.com/post/128704/).\n",
    "\n",
    "המטרה שלך היא לפתור את מה שנקרא **משוואה דיופנטית** - משוואה עם שורשים שלמים ומקדמים שלמים. לדוגמה, שקול את המשוואה הבאה:\n",
    "\n",
    "$$a+2b+3c+4d=30$$\n",
    "\n",
    "עליך למצוא שורשים שלמים $a$,$b$,$c$,$d\\in\\mathbb{N}$ שמקיימים את המשוואה הזו.\n",
    "\n",
    "רמזים:\n",
    "1. ניתן לשקול שורשים בטווח [0;30]\n",
    "1. בתור גן, שקול להשתמש ברשימת ערכי השורשים\n"
   ]
  },
  {
   "cell_type": "markdown",
   "metadata": {},
   "source": []
  },
  {
   "cell_type": "markdown",
   "metadata": {},
   "source": [
    "\n---\n\n**כתב ויתור**:  \nמסמך זה תורגם באמצעות שירות תרגום מבוסס בינה מלאכותית [Co-op Translator](https://github.com/Azure/co-op-translator). למרות שאנו שואפים לדיוק, יש לקחת בחשבון שתרגומים אוטומטיים עשויים להכיל שגיאות או אי דיוקים. המסמך המקורי בשפתו המקורית צריך להיחשב כמקור סמכותי. עבור מידע קריטי, מומלץ להשתמש בתרגום מקצועי על ידי אדם. איננו אחראים לאי הבנות או לפרשנויות שגויות הנובעות משימוש בתרגום זה.\n"
   ]
  }
 ],
 "metadata": {
  "language_info": {
   "name": "python"
  },
  "orig_nbformat": 4,
  "coopTranslator": {
   "original_hash": "a967e1fa1e11ab2b6467b19349a4a9aa",
   "translation_date": "2025-08-28T20:14:46+00:00",
   "source_file": "lessons/6-Other/21-GeneticAlgorithms/Diophantine.ipynb",
   "language_code": "he"
  }
 },
 "nbformat": 4,
 "nbformat_minor": 2
}