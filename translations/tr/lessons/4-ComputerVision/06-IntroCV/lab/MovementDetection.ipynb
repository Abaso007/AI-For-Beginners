{
 "cells": [
  {
   "cell_type": "markdown",
   "metadata": {},
   "source": [
    "## Optik Akış Kullanarak Avuç İçi Hareket Tespiti\n",
    "\n",
    "Bu laboratuvar, [AI for Beginners Müfredatı](http://aka.ms/ai-beginners) kapsamında yer almaktadır.\n",
    "\n",
    "[Bu videoyu](../../../../../../lessons/4-ComputerVision/06-IntroCV/lab/palm-movement.mp4) düşünün; bir kişinin avuç içi, sabit bir arka plan üzerinde sola/sağa/yukarı/aşağı hareket ediyor.\n",
    "\n",
    "**Amacınız**, Optik Akış kullanarak videonun hangi bölümlerinde yukarı/aşağı/sol/sağ hareketlerin olduğunu belirlemek olacaktır.\n",
    "\n",
    "Derse göre video karelerini alarak başlayın:\n"
   ]
  },
  {
   "cell_type": "code",
   "execution_count": null,
   "metadata": {},
   "outputs": [],
   "source": [
    "# Code here"
   ]
  },
  {
   "cell_type": "markdown",
   "metadata": {},
   "source": [
    "Şimdi, derste açıklandığı gibi yoğun optik akış karelerini hesaplayın ve yoğun optik akışı kutupsal koordinatlara dönüştürün:\n"
   ]
  },
  {
   "cell_type": "code",
   "execution_count": null,
   "metadata": {},
   "outputs": [],
   "source": [
    "# Code here"
   ]
  },
  {
   "cell_type": "markdown",
   "metadata": {},
   "source": [
    "Her bir optik akış karesi için yönlerin histogramını oluşturun. Bir histogram, belirli bir aralığa düşen kaç vektör olduğunu gösterir ve çerçevedeki farklı hareket yönlerini ayırmalıdır.\n",
    "\n",
    "> Ayrıca, büyüklüğü belirli bir eşik değerinin altında olan tüm vektörleri sıfırlamak isteyebilirsiniz. Bu, videodaki gözler ve baş gibi küçük ekstra hareketleri ortadan kaldıracaktır.\n",
    "\n",
    "Bazı kareler için histogramları çizin.\n"
   ]
  },
  {
   "cell_type": "code",
   "execution_count": null,
   "metadata": {},
   "outputs": [],
   "source": [
    "# Code here"
   ]
  },
  {
   "cell_type": "markdown",
   "metadata": {},
   "source": [
    "Histogramlara bakıldığında, hareket yönünü belirlemenin oldukça basit olması gerekir. Yukarı/aşağı/sol/sağ yönlere karşılık gelen ve belirli bir eşik değerinin üzerinde olan bölmeleri seçmeniz gerekiyor.\n"
   ]
  },
  {
   "cell_type": "code",
   "execution_count": null,
   "metadata": {},
   "outputs": [],
   "source": [
    "# Code here"
   ]
  },
  {
   "cell_type": "markdown",
   "metadata": {},
   "source": [
    "Tebrikler! Yukarıdaki tüm adımları tamamladıysanız, laboratuvarı bitirdiniz!\n"
   ]
  },
  {
   "cell_type": "markdown",
   "metadata": {},
   "source": [
    "\n---\n\n**Feragatname**:  \nBu belge, AI çeviri hizmeti [Co-op Translator](https://github.com/Azure/co-op-translator) kullanılarak çevrilmiştir. Doğruluk için çaba göstersek de, otomatik çevirilerin hata veya yanlışlık içerebileceğini lütfen unutmayın. Belgenin orijinal dili, yetkili kaynak olarak kabul edilmelidir. Kritik bilgiler için profesyonel insan çevirisi önerilir. Bu çevirinin kullanımından kaynaklanan yanlış anlamalar veya yanlış yorumlamalar için sorumluluk kabul etmiyoruz.\n"
   ]
  }
 ],
 "metadata": {
  "language_info": {
   "name": "python"
  },
  "orig_nbformat": 4,
  "coopTranslator": {
   "original_hash": "153d9e417e079bf62f8f693002d0deaf",
   "translation_date": "2025-08-28T13:15:20+00:00",
   "source_file": "lessons/4-ComputerVision/06-IntroCV/lab/MovementDetection.ipynb",
   "language_code": "tr"
  }
 },
 "nbformat": 4,
 "nbformat_minor": 2
}