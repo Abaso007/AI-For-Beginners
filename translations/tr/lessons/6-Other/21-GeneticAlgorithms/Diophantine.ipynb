{
 "cells": [
  {
   "cell_type": "markdown",
   "metadata": {},
   "source": [
    "## Ödev: Diofant Denklemleri\n",
    "\n",
    "> Bu ödev, [AI for Beginners Curriculum](http://github.com/microsoft/ai-for-beginners) programının bir parçasıdır ve [bu yazıdan](https://habr.com/post/128704/) ilham alınmıştır.\n",
    "\n",
    "Amacınız, **Diofant denklemi** olarak adlandırılan bir denklemi çözmek - bu, tamsayı kökleri ve tamsayı katsayıları olan bir denklemdir. Örneğin, aşağıdaki denklemi ele alalım:\n",
    "\n",
    "$$a+2b+3c+4d=30$$\n",
    "\n",
    "Bu denklemi sağlayan $a$,$b$,$c$,$d\\in\\mathbb{N}$ tamsayı köklerini bulmanız gerekiyor.\n",
    "\n",
    "İpuçları:\n",
    "1. Köklerin [0;30] aralığında olduğunu düşünebilirsiniz.\n",
    "1. Bir gen olarak, kök değerlerinin listesini kullanmayı düşünebilirsiniz.\n"
   ]
  },
  {
   "cell_type": "markdown",
   "metadata": {},
   "source": []
  },
  {
   "cell_type": "markdown",
   "metadata": {},
   "source": [
    "\n---\n\n**Feragatname**:  \nBu belge, AI çeviri hizmeti [Co-op Translator](https://github.com/Azure/co-op-translator) kullanılarak çevrilmiştir. Doğruluk için çaba göstersek de, otomatik çevirilerin hata veya yanlışlık içerebileceğini lütfen unutmayın. Belgenin orijinal dili, yetkili kaynak olarak kabul edilmelidir. Kritik bilgiler için profesyonel insan çevirisi önerilir. Bu çevirinin kullanımından kaynaklanan yanlış anlamalar veya yanlış yorumlamalar için sorumluluk kabul etmiyoruz.\n"
   ]
  }
 ],
 "metadata": {
  "language_info": {
   "name": "python"
  },
  "orig_nbformat": 4,
  "coopTranslator": {
   "original_hash": "a967e1fa1e11ab2b6467b19349a4a9aa",
   "translation_date": "2025-08-28T12:43:23+00:00",
   "source_file": "lessons/6-Other/21-GeneticAlgorithms/Diophantine.ipynb",
   "language_code": "tr"
  }
 },
 "nbformat": 4,
 "nbformat_minor": 2
}